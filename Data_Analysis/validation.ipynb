{
 "cells": [
  {
   "cell_type": "markdown",
   "metadata": {},
   "source": [
    "# Images Analysis"
   ]
  },
  {
   "cell_type": "code",
   "execution_count": 16,
   "metadata": {},
   "outputs": [],
   "source": [
    "import os\n",
    "import pandas as pd\n",
    "import json\n",
    "import monai\n",
    "from tqdm.notebook import tqdm\n",
    "import numpy as np\n",
    "import matplotlib.pyplot as plt\n",
    "import plotly.graph_objects as go\n",
    "from plotly.subplots import make_subplots\n"
   ]
  },
  {
   "cell_type": "code",
   "execution_count": 2,
   "metadata": {},
   "outputs": [],
   "source": [
    "figures_dir = '/home/jaalzate/Prostate_Cancer_TFM/Data_Analysis/Figures/Validation'\n",
    "colors=(\n",
    "            \"#efc86e\",\n",
    "            \"#97c684\",\n",
    "            \"#6f9969\",\n",
    "            \"#aab5d5\",\n",
    "            \"#808fe1\",\n",
    "            \"#5c66a8\",\n",
    "            \"#454a74\",\n",
    "        )"
   ]
  },
  {
   "cell_type": "markdown",
   "metadata": {},
   "source": [
    "## Plot Functions"
   ]
  },
  {
   "cell_type": "code",
   "execution_count": 3,
   "metadata": {},
   "outputs": [],
   "source": [
    "def plot_size_variability_plotly(dimensions, means, std_devs, colors, title, save_as_pdf=False):\n",
    "    x_pos = [str(dimension) for dimension in dimensions]  # Ensure dimensions are string for Plotly\n",
    "\n",
    "    # Create traces\n",
    "    trace = go.Bar(\n",
    "        x=x_pos,\n",
    "        y=means,\n",
    "        error_y=dict(\n",
    "            type='data',  # or 'percent' for percentage-based errors\n",
    "            array=std_devs,\n",
    "            visible=True\n",
    "        ),\n",
    "        marker_color=colors  # Set bar colors\n",
    "    )\n",
    "\n",
    "    # Create layout\n",
    "    layout = go.Layout(\n",
    "        #title='Image Size Variability '+title,\n",
    "        # xaxis=dict(\n",
    "        #     title='Dimensions'\n",
    "        # ),\n",
    "        yaxis=dict(\n",
    "            title='Size (pixels)'\n",
    "        ),\n",
    "        template='plotly_white',  # Use a white background for the plot\n",
    "        font=dict(\n",
    "            size=15,  # Only change the font size\n",
    "            # color and family are omitted to use defaults\n",
    "        )\n",
    "\n",
    "    )\n",
    "\n",
    "    # Create figure and add traces\n",
    "    fig = go.Figure(data=[trace], layout=layout)\n",
    "\n",
    "    # Update layout for a tighter appearance and grid lines\n",
    "    fig.update_layout(\n",
    "        autosize=False,\n",
    "        width=1000,  # Custom width, adjust as needed\n",
    "        height=600,  # Custom height, adjust as needed\n",
    "        margin=dict(\n",
    "            l=20,\n",
    "            r=20,\n",
    "            b=40,\n",
    "            t=20,\n",
    "            pad=0\n",
    "        ),\n",
    "        # plot_bgcolor='rgba(0,0,0,0)',  # Transparent background\n",
    "        # paper_bgcolor='rgba(0,0,0,0)',  # Transparent paper background\n",
    "        yaxis=dict(gridcolor='rgba(128,128,128,0.5)'),  # Custom grid color (light grey) and transparency\n",
    "    )\n",
    "\n",
    "    \n",
    "    # Show the figure\n",
    "    fig.show()\n",
    "    # Save figure as pdf\n",
    "    if save_as_pdf:\n",
    "        fig.write_image(os.path.join(figures_dir,\"image_size_variability_plotly_\"+title+\".pdf\"))"
   ]
  },
  {
   "cell_type": "code",
   "execution_count": 4,
   "metadata": {},
   "outputs": [],
   "source": [
    "def plot_variability_plotly_grouped(means, stds, datasets, colors, title,x_ticks,y_axis_title, save_as_pdf=False):\n",
    "    width = 0.25  # Equivalent to the bar width in Plotly terms\n",
    "\n",
    "    # Create a figure\n",
    "    fig = go.Figure()\n",
    "\n",
    "    # Add bars for each dataset\n",
    "    for i, dataset in enumerate(datasets):\n",
    "        means_dataset = means[dataset]\n",
    "        stds_dataset = stds[dataset]\n",
    "        x_positions = [x + i * width for x in range(len(x_ticks))]  # Adjust x positions for grouping\n",
    "        \n",
    "        fig.add_trace(go.Bar(\n",
    "            x=x_positions,\n",
    "            y=means_dataset,\n",
    "            error_y=dict(\n",
    "                type='data',  # Specify that the errors are given explicitly\n",
    "                array=stds_dataset,\n",
    "                visible=True\n",
    "            ),\n",
    "            name=dataset,\n",
    "            marker_color=colors[i]  # Set the color for each dataset\n",
    "        ))\n",
    "\n",
    "    # Update layout for the figure\n",
    "    fig.update_layout(\n",
    "        xaxis=dict(\n",
    "            tickmode='array',\n",
    "            tickvals=[x + width for x in range(len(x_ticks))],  # Position x-ticks in the center of groups\n",
    "            ticktext=x_ticks,  # Label x-ticks with dimension names\n",
    "            #title='Dimension'\n",
    "        ),\n",
    "        yaxis=dict(\n",
    "            title=y_axis_title\n",
    "        ),\n",
    "        # legend=dict(\n",
    "        #     title='Ori'\n",
    "        # ),\n",
    "        barmode='group',  # Group bars instead of stacking\n",
    "        width=1000,  # Customizable figure size\n",
    "        height=600,\n",
    "        template='plotly_white',  # Use a white background for cleaner appearance\n",
    "        font=dict(size=20),  # Set global font size\n",
    "        margin=dict(\n",
    "            l=20,\n",
    "            r=20,\n",
    "            b=40,\n",
    "            t=20,\n",
    "            pad=0\n",
    "        )\n",
    "    )\n",
    "\n",
    "    # Show the figure\n",
    "    fig.show()\n",
    "    if save_as_pdf:\n",
    "        fig.write_image(os.path.join(figures_dir,\"image_variability_plotly_\"+title+\".pdf\"))"
   ]
  },
  {
   "cell_type": "code",
   "execution_count": 5,
   "metadata": {},
   "outputs": [],
   "source": [
    "def plot_size_variability(dimensions, means, std_devs, colors, title, save_as_pdf=False):\n",
    "    \n",
    "\n",
    "    x_pos = np.arange(len(dimensions))\n",
    "\n",
    "    #Create plot\n",
    "    plt.figure(figsize=(10, 6))\n",
    "    plt.bar(x_pos, means, yerr=std_devs, align='center', capsize=10, color=colors)\n",
    "    plt.xticks(x_pos, dimensions)\n",
    "    plt.ylabel('Size (pixels)')\n",
    "    plt.title('Image Size Variability '+title)\n",
    "    plt.tight_layout()\n",
    "    plt.grid(True, alpha=0.15)\n",
    "    if save_as_pdf:\n",
    "        plt.savefig(os.path.join(figures_dir,\"image_size_variability_\"+title+\".pdf\"))\n",
    "    plt.show()\n"
   ]
  },
  {
   "cell_type": "code",
   "execution_count": 6,
   "metadata": {},
   "outputs": [],
   "source": [
    "def plot_orientation_distribution(orientation_counts):\n",
    "    orientation_labels = list(orientation_counts.keys())\n",
    "    orientation_values = list(orientation_counts.values())\n",
    "    \n",
    "    # Define colors for the pie chart\n",
    "    colors = ['lightseagreen', 'gold', 'lightpink', 'lightblue', 'lightgreen', 'violet']\n",
    "\n",
    "    fig = go.Figure(data=[go.Pie(labels=orientation_labels, values=orientation_values, textinfo='label+percent', insidetextorientation='radial', marker_colors=colors)])\n",
    "    \n",
    "    fig.update_layout(\n",
    "        title_text='Orientation Distribution',\n",
    "        title_font_size=30,\n",
    "        #font=dict(size=25, weight='bold'),\n",
    "        showlegend=True\n",
    "    )\n",
    "    \n",
    "    fig.show()\n",
    "\n",
    "def plot_separate_orientations(orientation_counts):\n",
    "    # Assuming orientation_counts is a dictionary like {'Axial': count, 'Coronal': count, 'Sagittal': count}\n",
    "    subplots_titles = ['Axial', 'Coronal', 'Sagittal']\n",
    "    colors = ['lightseagreen', 'gold', 'lightpink']  # Colors for each pie chart\n",
    "    \n",
    "    fig = go.Figure()\n",
    "\n",
    "    for i, title in enumerate(subplots_titles):\n",
    "        fig.add_trace(go.Pie(labels=[title], values=[orientation_counts[title]], name=title, marker_colors=[colors[i]]))\n",
    "    \n",
    "    fig.update_traces(textinfo='label+percent', insidetextorientation='radial')\n",
    "    fig.update_layout(\n",
    "        title_text='Separate Orientation Distributions',\n",
    "        title_font_size=30,\n",
    "        #font=dict(size=25, weight='bold')\n",
    "    )\n",
    "    \n",
    "    # Adjust layout to fit three pie charts\n",
    "    fig.update_layout(\n",
    "        grid={'rows': 1, 'columns': 3, 'pattern': 'independent'},\n",
    "        annotations=[dict(text=text, x=0.5, y=0.5, font_size=20, showarrow=False) for text in subplots_titles]\n",
    "    )\n",
    "    \n",
    "    fig.show()"
   ]
  },
  {
   "cell_type": "code",
   "execution_count": 7,
   "metadata": {},
   "outputs": [],
   "source": [
    "import os\n",
    "# Creating  tables\n",
    "path = \"/mnt/ceib/datalake/FISABIO_datalake/p0042021\"\n",
    "derivatives_path = \"/mnt/ceib/datalake/FISABIO_datalake/p0042021/derivatives/creating_adc\"\n",
    "t2_list = []\n",
    "adc_list = []\n",
    "dwi_list = []\n",
    "\n",
    "# Creating a list of all the files in the directory starting with sub-*\n",
    "subjects = [f for f in os.listdir(path) if f.startswith(\"sub-\")]\n",
    "derivatives_subs = [f for f in os.listdir(derivatives_path) if f.startswith(\"sub-\")]\n",
    "\n",
    "for sub in subjects:\n",
    "    derivative_sessions=None\n",
    "    if sub in derivatives_subs:\n",
    "        derivative_sessions = [f for f in os.listdir(os.path.join(derivatives_path, sub)) if f.startswith(\"ses-\")]\n",
    "    sessions = [f for f in os.listdir(os.path.join(path, sub)) if f.startswith(\"ses-\")]\n",
    "    for ses in sessions:\n",
    "        # Check if the anat and dwi paths exist\n",
    "        anat_path = os.path.join(path, sub, ses,'mim-mr','anat')\n",
    "        dwi_path = os.path.join(path, sub, ses,'mim-mr','dwi')\n",
    "\n",
    "        if os.path.exists(anat_path):\n",
    "            images_anat = [f for f in os.listdir(anat_path) if f.endswith(\".nii.gz\")]\n",
    "            for img in images_anat:\n",
    "                if 'T2w' in img and 'chunk' not in img:\n",
    "                    json_path = os.path.join(path, sub, ses,'mim-mr','anat', img.replace('.nii.gz', '.json'))\n",
    "                    with open(json_path) as f:\n",
    "                        data = json.load(f)\n",
    "                    #Add json data to the dict image\n",
    "                    img_dict = {'subject': sub, 'session': ses, 'image': img, 'modality': 'T2w'}\n",
    "                    img_dict.update(data)\n",
    "                    t2_list.append(img_dict)\n",
    "        if os.path.exists(dwi_path):\n",
    "            images_dwi = [f for f in os.listdir(dwi_path) if f.endswith(\".nii.gz\")]\n",
    "            for img in images_dwi:\n",
    "                if 'bvalue' in img and 'chunk' not in img:\n",
    "                    json_path = os.path.join(path, sub, ses,'mim-mr','dwi', img.replace('.nii.gz', '.json'))\n",
    "                    with open(json_path) as f:\n",
    "                        data = json.load(f)\n",
    "                    #Add json data to the dict image\n",
    "                    img_dict = {'subject': sub, 'session': ses, 'image': img, 'modality': 'dwi'}\n",
    "                    img_dict.update(data)\n",
    "                    dwi_list.append(img_dict)\n",
    "                elif 'adc' in img and 'chunk' not in img:\n",
    "                    json_path = os.path.join(path, sub, ses,'mim-mr','dwi', img.replace('.nii.gz', '.json'))\n",
    "                    with open(json_path) as f:\n",
    "                        data = json.load(f)\n",
    "                    #Add json data to the dict image\n",
    "                    img_dict = {'subject': sub, 'session': ses, 'image': img, 'modality': 'adc'}\n",
    "                    img_dict.update(data)\n",
    "                    adc_list.append(img_dict)\n",
    "    if derivative_sessions:\n",
    "        for ses in derivative_sessions:\n",
    "            der_dwi_path = os.path.join(derivatives_path, sub, ses,'mim-mr','dwi')\n",
    "            images_dwi = [f for f in os.listdir(der_dwi_path) if f.endswith(\".nii.gz\")]\n",
    "            for img in images_dwi:\n",
    "                json_path = os.path.join(derivatives_path, sub, ses,'mim-mr','dwi', img.replace('.nii.gz', '.json'))\n",
    "                with open(json_path) as f:\n",
    "                    data = json.load(f)\n",
    "                #Add json data to the dict image\n",
    "                img_dict = {'subject': sub, 'session': ses, 'image': img, 'modality': 'adc'}\n",
    "                img_dict.update(data)\n",
    "                adc_list.append(img_dict)\n",
    "\n",
    "\n",
    "t2w_df = pd.DataFrame(t2_list)\n",
    "dwi_df = pd.DataFrame(dwi_list)\n",
    "adc_df = pd.DataFrame(adc_list)\n"
   ]
  },
  {
   "cell_type": "code",
   "execution_count": 8,
   "metadata": {},
   "outputs": [
    {
     "data": {
      "text/html": [
       "<div>\n",
       "<style scoped>\n",
       "    .dataframe tbody tr th:only-of-type {\n",
       "        vertical-align: middle;\n",
       "    }\n",
       "\n",
       "    .dataframe tbody tr th {\n",
       "        vertical-align: top;\n",
       "    }\n",
       "\n",
       "    .dataframe thead th {\n",
       "        text-align: right;\n",
       "    }\n",
       "</style>\n",
       "<table border=\"1\" class=\"dataframe\">\n",
       "  <thead>\n",
       "    <tr style=\"text-align: right;\">\n",
       "      <th></th>\n",
       "      <th>subject</th>\n",
       "      <th>session</th>\n",
       "      <th>image</th>\n",
       "      <th>modality</th>\n",
       "      <th>AccessionNumber</th>\n",
       "      <th>AcquisitionDateTime</th>\n",
       "      <th>AcquisitionMatrixPE</th>\n",
       "      <th>AcquisitionNumber</th>\n",
       "      <th>AcquisitionTime</th>\n",
       "      <th>AngioFlag</th>\n",
       "      <th>...</th>\n",
       "      <th>WindowCenter</th>\n",
       "      <th>WindowWidth</th>\n",
       "      <th>BodyPartExamined</th>\n",
       "      <th>RawImage</th>\n",
       "      <th>PhaseEncodingSteps</th>\n",
       "      <th>PartialFourier</th>\n",
       "      <th>SequenceName</th>\n",
       "      <th>SliceTiming</th>\n",
       "      <th>InversionTime</th>\n",
       "      <th>Contrast/BolusRoute</th>\n",
       "    </tr>\n",
       "  </thead>\n",
       "  <tbody>\n",
       "    <tr>\n",
       "      <th>0</th>\n",
       "      <td>sub-000063</td>\n",
       "      <td>ses-000063</td>\n",
       "      <td>sub-000063_ses-000063_acq-fse_run-3_bp-p_vp-sa...</td>\n",
       "      <td>T2w</td>\n",
       "      <td>000063</td>\n",
       "      <td>2016-07-07T14:52:47.000000</td>\n",
       "      <td>256.0</td>\n",
       "      <td>1</td>\n",
       "      <td>14:52:47.000000</td>\n",
       "      <td>N</td>\n",
       "      <td>...</td>\n",
       "      <td>985</td>\n",
       "      <td>1971</td>\n",
       "      <td>NaN</td>\n",
       "      <td>NaN</td>\n",
       "      <td>NaN</td>\n",
       "      <td>NaN</td>\n",
       "      <td>NaN</td>\n",
       "      <td>NaN</td>\n",
       "      <td>NaN</td>\n",
       "      <td>NaN</td>\n",
       "    </tr>\n",
       "    <tr>\n",
       "      <th>1</th>\n",
       "      <td>sub-000063</td>\n",
       "      <td>ses-000063</td>\n",
       "      <td>sub-000063_ses-000063_acq-fse_run-6_bp-p_vp-ax...</td>\n",
       "      <td>T2w</td>\n",
       "      <td>000063</td>\n",
       "      <td>2016-07-07T15:02:32.000000</td>\n",
       "      <td>224.0</td>\n",
       "      <td>1</td>\n",
       "      <td>15:02:32.000000</td>\n",
       "      <td>N</td>\n",
       "      <td>...</td>\n",
       "      <td>888</td>\n",
       "      <td>1776</td>\n",
       "      <td>NaN</td>\n",
       "      <td>NaN</td>\n",
       "      <td>NaN</td>\n",
       "      <td>NaN</td>\n",
       "      <td>NaN</td>\n",
       "      <td>NaN</td>\n",
       "      <td>NaN</td>\n",
       "      <td>NaN</td>\n",
       "    </tr>\n",
       "    <tr>\n",
       "      <th>2</th>\n",
       "      <td>sub-000063</td>\n",
       "      <td>ses-000063</td>\n",
       "      <td>sub-000063_ses-000063_acq-fse_run-8_bp-p_vp-ax...</td>\n",
       "      <td>T2w</td>\n",
       "      <td>000063</td>\n",
       "      <td>2016-07-07T15:13:34.000000</td>\n",
       "      <td>224.0</td>\n",
       "      <td>1</td>\n",
       "      <td>15:13:34.000000</td>\n",
       "      <td>N</td>\n",
       "      <td>...</td>\n",
       "      <td>1286</td>\n",
       "      <td>2573</td>\n",
       "      <td>NaN</td>\n",
       "      <td>NaN</td>\n",
       "      <td>NaN</td>\n",
       "      <td>NaN</td>\n",
       "      <td>NaN</td>\n",
       "      <td>NaN</td>\n",
       "      <td>NaN</td>\n",
       "      <td>NaN</td>\n",
       "    </tr>\n",
       "    <tr>\n",
       "      <th>3</th>\n",
       "      <td>sub-000066</td>\n",
       "      <td>ses-000066</td>\n",
       "      <td>sub-000066_ses-000066_acq-fse_run-5_bp-p_vp-sa...</td>\n",
       "      <td>T2w</td>\n",
       "      <td>000066</td>\n",
       "      <td>2017-01-27T15:33:36.000000</td>\n",
       "      <td>256.0</td>\n",
       "      <td>1</td>\n",
       "      <td>15:33:36.000000</td>\n",
       "      <td>N</td>\n",
       "      <td>...</td>\n",
       "      <td>914</td>\n",
       "      <td>1829</td>\n",
       "      <td>NaN</td>\n",
       "      <td>NaN</td>\n",
       "      <td>NaN</td>\n",
       "      <td>NaN</td>\n",
       "      <td>NaN</td>\n",
       "      <td>NaN</td>\n",
       "      <td>NaN</td>\n",
       "      <td>NaN</td>\n",
       "    </tr>\n",
       "    <tr>\n",
       "      <th>4</th>\n",
       "      <td>sub-000066</td>\n",
       "      <td>ses-000066</td>\n",
       "      <td>sub-000066_ses-000066_acq-fse_run-8_bp-p_vp-ax...</td>\n",
       "      <td>T2w</td>\n",
       "      <td>000066</td>\n",
       "      <td>2017-01-27T15:44:32.000000</td>\n",
       "      <td>224.0</td>\n",
       "      <td>1</td>\n",
       "      <td>15:44:32.000000</td>\n",
       "      <td>N</td>\n",
       "      <td>...</td>\n",
       "      <td>960</td>\n",
       "      <td>1921</td>\n",
       "      <td>NaN</td>\n",
       "      <td>NaN</td>\n",
       "      <td>NaN</td>\n",
       "      <td>NaN</td>\n",
       "      <td>NaN</td>\n",
       "      <td>NaN</td>\n",
       "      <td>NaN</td>\n",
       "      <td>NaN</td>\n",
       "    </tr>\n",
       "    <tr>\n",
       "      <th>...</th>\n",
       "      <td>...</td>\n",
       "      <td>...</td>\n",
       "      <td>...</td>\n",
       "      <td>...</td>\n",
       "      <td>...</td>\n",
       "      <td>...</td>\n",
       "      <td>...</td>\n",
       "      <td>...</td>\n",
       "      <td>...</td>\n",
       "      <td>...</td>\n",
       "      <td>...</td>\n",
       "      <td>...</td>\n",
       "      <td>...</td>\n",
       "      <td>...</td>\n",
       "      <td>...</td>\n",
       "      <td>...</td>\n",
       "      <td>...</td>\n",
       "      <td>...</td>\n",
       "      <td>...</td>\n",
       "      <td>...</td>\n",
       "      <td>...</td>\n",
       "    </tr>\n",
       "    <tr>\n",
       "      <th>491</th>\n",
       "      <td>sub-000003</td>\n",
       "      <td>ses-000003</td>\n",
       "      <td>sub-000003_ses-000003_acq-fse_run-8_bp-a_vp-sa...</td>\n",
       "      <td>T2w</td>\n",
       "      <td>000003</td>\n",
       "      <td>2014-03-07T08:27:39.000000</td>\n",
       "      <td>256.0</td>\n",
       "      <td>1</td>\n",
       "      <td>08:27:39.000000</td>\n",
       "      <td>N</td>\n",
       "      <td>...</td>\n",
       "      <td>660</td>\n",
       "      <td>1320</td>\n",
       "      <td>NaN</td>\n",
       "      <td>NaN</td>\n",
       "      <td>NaN</td>\n",
       "      <td>NaN</td>\n",
       "      <td>NaN</td>\n",
       "      <td>NaN</td>\n",
       "      <td>NaN</td>\n",
       "      <td>NaN</td>\n",
       "    </tr>\n",
       "    <tr>\n",
       "      <th>492</th>\n",
       "      <td>sub-000111</td>\n",
       "      <td>ses-000111</td>\n",
       "      <td>sub-000111_ses-000111_acq-fse_run-8_bp-a_vp-ax...</td>\n",
       "      <td>T2w</td>\n",
       "      <td>000111</td>\n",
       "      <td>2015-06-24T19:55:41.000000</td>\n",
       "      <td>224.0</td>\n",
       "      <td>1</td>\n",
       "      <td>19:55:41.000000</td>\n",
       "      <td>N</td>\n",
       "      <td>...</td>\n",
       "      <td>865</td>\n",
       "      <td>1731</td>\n",
       "      <td>NaN</td>\n",
       "      <td>NaN</td>\n",
       "      <td>NaN</td>\n",
       "      <td>NaN</td>\n",
       "      <td>NaN</td>\n",
       "      <td>NaN</td>\n",
       "      <td>NaN</td>\n",
       "      <td>NaN</td>\n",
       "    </tr>\n",
       "    <tr>\n",
       "      <th>493</th>\n",
       "      <td>sub-000111</td>\n",
       "      <td>ses-000111</td>\n",
       "      <td>sub-000111_ses-000111_acq-fse_run-5_bp-a_vp-sa...</td>\n",
       "      <td>T2w</td>\n",
       "      <td>000111</td>\n",
       "      <td>2015-06-24T19:43:50.000000</td>\n",
       "      <td>256.0</td>\n",
       "      <td>1</td>\n",
       "      <td>19:43:50.000000</td>\n",
       "      <td>N</td>\n",
       "      <td>...</td>\n",
       "      <td>1132</td>\n",
       "      <td>2264</td>\n",
       "      <td>NaN</td>\n",
       "      <td>NaN</td>\n",
       "      <td>NaN</td>\n",
       "      <td>NaN</td>\n",
       "      <td>NaN</td>\n",
       "      <td>NaN</td>\n",
       "      <td>NaN</td>\n",
       "      <td>NaN</td>\n",
       "    </tr>\n",
       "    <tr>\n",
       "      <th>494</th>\n",
       "      <td>sub-000120</td>\n",
       "      <td>ses-000120</td>\n",
       "      <td>sub-000120_ses-000120_acq-fse_run-6_bp-a_vp-sa...</td>\n",
       "      <td>T2w</td>\n",
       "      <td>000120</td>\n",
       "      <td>2014-09-24T08:12:51.000000</td>\n",
       "      <td>256.0</td>\n",
       "      <td>1</td>\n",
       "      <td>08:12:51.000000</td>\n",
       "      <td>N</td>\n",
       "      <td>...</td>\n",
       "      <td>710</td>\n",
       "      <td>1421</td>\n",
       "      <td>NaN</td>\n",
       "      <td>NaN</td>\n",
       "      <td>NaN</td>\n",
       "      <td>NaN</td>\n",
       "      <td>NaN</td>\n",
       "      <td>NaN</td>\n",
       "      <td>NaN</td>\n",
       "      <td>NaN</td>\n",
       "    </tr>\n",
       "    <tr>\n",
       "      <th>495</th>\n",
       "      <td>sub-000120</td>\n",
       "      <td>ses-000120</td>\n",
       "      <td>sub-000120_ses-000120_acq-fse_run-8_bp-a_vp-ax...</td>\n",
       "      <td>T2w</td>\n",
       "      <td>000120</td>\n",
       "      <td>2014-09-24T08:19:11.000000</td>\n",
       "      <td>224.0</td>\n",
       "      <td>1</td>\n",
       "      <td>08:19:11.000000</td>\n",
       "      <td>N</td>\n",
       "      <td>...</td>\n",
       "      <td>792</td>\n",
       "      <td>1584</td>\n",
       "      <td>NaN</td>\n",
       "      <td>NaN</td>\n",
       "      <td>NaN</td>\n",
       "      <td>NaN</td>\n",
       "      <td>NaN</td>\n",
       "      <td>NaN</td>\n",
       "      <td>NaN</td>\n",
       "      <td>NaN</td>\n",
       "    </tr>\n",
       "  </tbody>\n",
       "</table>\n",
       "<p>496 rows × 68 columns</p>\n",
       "</div>"
      ],
      "text/plain": [
       "        subject     session  \\\n",
       "0    sub-000063  ses-000063   \n",
       "1    sub-000063  ses-000063   \n",
       "2    sub-000063  ses-000063   \n",
       "3    sub-000066  ses-000066   \n",
       "4    sub-000066  ses-000066   \n",
       "..          ...         ...   \n",
       "491  sub-000003  ses-000003   \n",
       "492  sub-000111  ses-000111   \n",
       "493  sub-000111  ses-000111   \n",
       "494  sub-000120  ses-000120   \n",
       "495  sub-000120  ses-000120   \n",
       "\n",
       "                                                 image modality  \\\n",
       "0    sub-000063_ses-000063_acq-fse_run-3_bp-p_vp-sa...      T2w   \n",
       "1    sub-000063_ses-000063_acq-fse_run-6_bp-p_vp-ax...      T2w   \n",
       "2    sub-000063_ses-000063_acq-fse_run-8_bp-p_vp-ax...      T2w   \n",
       "3    sub-000066_ses-000066_acq-fse_run-5_bp-p_vp-sa...      T2w   \n",
       "4    sub-000066_ses-000066_acq-fse_run-8_bp-p_vp-ax...      T2w   \n",
       "..                                                 ...      ...   \n",
       "491  sub-000003_ses-000003_acq-fse_run-8_bp-a_vp-sa...      T2w   \n",
       "492  sub-000111_ses-000111_acq-fse_run-8_bp-a_vp-ax...      T2w   \n",
       "493  sub-000111_ses-000111_acq-fse_run-5_bp-a_vp-sa...      T2w   \n",
       "494  sub-000120_ses-000120_acq-fse_run-6_bp-a_vp-sa...      T2w   \n",
       "495  sub-000120_ses-000120_acq-fse_run-8_bp-a_vp-ax...      T2w   \n",
       "\n",
       "    AccessionNumber         AcquisitionDateTime  AcquisitionMatrixPE  \\\n",
       "0            000063  2016-07-07T14:52:47.000000                256.0   \n",
       "1            000063  2016-07-07T15:02:32.000000                224.0   \n",
       "2            000063  2016-07-07T15:13:34.000000                224.0   \n",
       "3            000066  2017-01-27T15:33:36.000000                256.0   \n",
       "4            000066  2017-01-27T15:44:32.000000                224.0   \n",
       "..              ...                         ...                  ...   \n",
       "491          000003  2014-03-07T08:27:39.000000                256.0   \n",
       "492          000111  2015-06-24T19:55:41.000000                224.0   \n",
       "493          000111  2015-06-24T19:43:50.000000                256.0   \n",
       "494          000120  2014-09-24T08:12:51.000000                256.0   \n",
       "495          000120  2014-09-24T08:19:11.000000                224.0   \n",
       "\n",
       "     AcquisitionNumber  AcquisitionTime AngioFlag  ... WindowCenter  \\\n",
       "0                    1  14:52:47.000000         N  ...          985   \n",
       "1                    1  15:02:32.000000         N  ...          888   \n",
       "2                    1  15:13:34.000000         N  ...         1286   \n",
       "3                    1  15:33:36.000000         N  ...          914   \n",
       "4                    1  15:44:32.000000         N  ...          960   \n",
       "..                 ...              ...       ...  ...          ...   \n",
       "491                  1  08:27:39.000000         N  ...          660   \n",
       "492                  1  19:55:41.000000         N  ...          865   \n",
       "493                  1  19:43:50.000000         N  ...         1132   \n",
       "494                  1  08:12:51.000000         N  ...          710   \n",
       "495                  1  08:19:11.000000         N  ...          792   \n",
       "\n",
       "    WindowWidth BodyPartExamined RawImage  PhaseEncodingSteps PartialFourier  \\\n",
       "0          1971              NaN      NaN                 NaN            NaN   \n",
       "1          1776              NaN      NaN                 NaN            NaN   \n",
       "2          2573              NaN      NaN                 NaN            NaN   \n",
       "3          1829              NaN      NaN                 NaN            NaN   \n",
       "4          1921              NaN      NaN                 NaN            NaN   \n",
       "..          ...              ...      ...                 ...            ...   \n",
       "491        1320              NaN      NaN                 NaN            NaN   \n",
       "492        1731              NaN      NaN                 NaN            NaN   \n",
       "493        2264              NaN      NaN                 NaN            NaN   \n",
       "494        1421              NaN      NaN                 NaN            NaN   \n",
       "495        1584              NaN      NaN                 NaN            NaN   \n",
       "\n",
       "     SequenceName SliceTiming InversionTime Contrast/BolusRoute  \n",
       "0             NaN         NaN           NaN                 NaN  \n",
       "1             NaN         NaN           NaN                 NaN  \n",
       "2             NaN         NaN           NaN                 NaN  \n",
       "3             NaN         NaN           NaN                 NaN  \n",
       "4             NaN         NaN           NaN                 NaN  \n",
       "..            ...         ...           ...                 ...  \n",
       "491           NaN         NaN           NaN                 NaN  \n",
       "492           NaN         NaN           NaN                 NaN  \n",
       "493           NaN         NaN           NaN                 NaN  \n",
       "494           NaN         NaN           NaN                 NaN  \n",
       "495           NaN         NaN           NaN                 NaN  \n",
       "\n",
       "[496 rows x 68 columns]"
      ]
     },
     "execution_count": 8,
     "metadata": {},
     "output_type": "execute_result"
    }
   ],
   "source": [
    "t2w_df"
   ]
  },
  {
   "cell_type": "markdown",
   "metadata": {},
   "source": [
    "## Image Size Variability"
   ]
  },
  {
   "cell_type": "markdown",
   "metadata": {},
   "source": [
    "### T2w"
   ]
  },
  {
   "cell_type": "code",
   "execution_count": 9,
   "metadata": {},
   "outputs": [],
   "source": [
    "images_paths = t2w_df.copy().apply(lambda x: os.path.join(path, x['subject'], x['session'],'mim-mr','anat', x['image']), axis=1)\n",
    "\n",
    "# Divide into axial, coronal and sagital images\n",
    "data_list = []\n",
    "for path in images_paths.values:\n",
    "    files = {}\n",
    "    image_name = path.split('/')[-1]\n",
    "    if 'sag' in image_name:\n",
    "        files['sagital'] = path\n",
    "    elif 'cor' in image_name:\n",
    "        files['coronal'] = path\n",
    "    elif 'ax' in image_name:\n",
    "        files['axial'] = path\n",
    "    data_list.append(files)\n",
    "\n",
    "transforms = monai.transforms.Compose(\n",
    "            [\n",
    "                monai.transforms.LoadImaged(keys=[\"sagital\", \"coronal\", \"axial\"],allow_missing_keys=True,image_only=False),\n",
    "                ]\n",
    ")\n",
    "\n",
    "train_ds = monai.data.Dataset(\n",
    "    data=data_list,\n",
    "    transform=transforms,\n",
    ")"
   ]
  },
  {
   "cell_type": "code",
   "execution_count": 10,
   "metadata": {},
   "outputs": [
    {
     "data": {
      "image/png": "[encoded data removed]",
      "text/plain": [
       "<Figure size 1500x500 with 3 Axes>"
      ]
     },
     "metadata": {},
     "output_type": "display_data"
    }
   ],
   "source": [
    "#plot sample images\n",
    "sagital = train_ds[0]['sagital']\n",
    "coronal = train_ds[5]['coronal']\n",
    "axial = train_ds[1]['axial']\n",
    "\n",
    "fig, axs = plt.subplots(1, 3, figsize=(15, 5))\n",
    "axs[0].imshow(sagital[:, :,12], cmap='gray')\n",
    "axs[0].set_title('Sagital')\n",
    "\n",
    "axs[1].imshow(coronal[ :, :,12], cmap='gray')\n",
    "axs[1].set_title('Coronal')\n",
    "\n",
    "axs[2].imshow(axial[ :, :,12], cmap='gray')\n",
    "axs[2].set_title('Axial')\n",
    "\n",
    "plt.show()"
   ]
  },
  {
   "cell_type": "code",
   "execution_count": 6,
   "metadata": {},
   "outputs": [
    {
     "data": {
      "application/vnd.jupyter.widget-view+json": {
       "model_id": "8a620939eba04e78982f8963e584bacd",
       "version_major": 2,
       "version_minor": 0
      },
      "text/plain": [
       "  0%|          | 0/496 [00:00<?, ?it/s]"
      ]
     },
     "metadata": {},
     "output_type": "display_data"
    }
   ],
   "source": [
    "image_sizes_axial = []\n",
    "image_sizes_coronal = []\n",
    "image_sizes_sagital = []\n",
    "for image in tqdm(train_ds):\n",
    "    if 'sagital' in image.keys():\n",
    "        image_sizes_sagital.append(list(image['sagital'].shape))\n",
    "    if 'coronal' in image.keys():\n",
    "        image_sizes_coronal.append(list(image['coronal'].shape))\n",
    "    if 'axial' in image.keys():\n",
    "        image_sizes_axial.append(list(image['axial'].shape))\n"
   ]
  },
  {
   "cell_type": "code",
   "execution_count": 7,
   "metadata": {},
   "outputs": [],
   "source": [
    "widths_axial = [size[0] for size in image_sizes_axial]\n",
    "heights_axial = [size[1] for size in image_sizes_axial]\n",
    "depths_axial = [size[2] for size in image_sizes_axial]\n",
    "\n",
    "widths_coronal = [size[0] for size in image_sizes_coronal]\n",
    "heights_coronal = [size[1] for size in image_sizes_coronal]\n",
    "depths_coronal = [size[2] for size in image_sizes_coronal]\n",
    "\n",
    "widths_sagital = [size[0] for size in image_sizes_sagital]\n",
    "heights_sagital = [size[1] for size in image_sizes_sagital]\n",
    "depths_sagital = [size[2] for size in image_sizes_sagital]\n"
   ]
  },
  {
   "cell_type": "code",
   "execution_count": 8,
   "metadata": {},
   "outputs": [],
   "source": [
    "mean_width_axial = np.mean(widths_axial)\n",
    "std_width_axial = np.std(widths_axial)\n",
    "mean_height_axial = np.mean(heights_axial)\n",
    "std_height_axial = np.std(heights_axial)\n",
    "mean_depth_axial = np.mean(depths_axial)\n",
    "std_depth_axial = np.std(depths_axial)\n",
    "\n",
    "mean_width_coronal = np.mean(widths_coronal)\n",
    "std_width_coronal = np.std(widths_coronal)\n",
    "mean_height_coronal = np.mean(heights_coronal)\n",
    "std_height_coronal = np.std(heights_coronal)\n",
    "mean_depth_coronal = np.mean(depths_coronal)\n",
    "std_depth_coronal = np.std(depths_coronal)\n",
    "\n",
    "mean_width_sagital = np.mean(widths_sagital)\n",
    "std_width_sagital = np.std(widths_sagital)\n",
    "mean_height_sagital = np.mean(heights_sagital)\n",
    "std_height_sagital = np.std(heights_sagital)\n",
    "mean_depth_sagital = np.mean(depths_sagital)\n",
    "std_depth_sagital = np.std(depths_sagital)\n"
   ]
  },
  {
   "cell_type": "code",
   "execution_count": 70,
   "metadata": {},
   "outputs": [
    {
     "data": {
      "image/png": "[encoded data removed]",
      "text/plain": [
       "<Figure size 1000x600 with 1 Axes>"
      ]
     },
     "metadata": {},
     "output_type": "display_data"
    }
   ],
   "source": [
    "colors=(\"#efc86e\",\"#97c684\",\"#6f9969\",\"#aab5d5\",\"#808fe1\",\"#5c66a8\",\"#454a74\")\n",
    "plot_size_variability(['Width', 'Height', 'Depth'],\n",
    "                    [mean_width_axial, mean_height_axial, mean_depth_axial],\n",
    "                    [std_width_axial, std_height_axial, std_depth_axial], \n",
    "                    colors,\n",
    "                    'T2w Axial',\n",
    "                    save_as_pdf=True)"
   ]
  },
  {
   "cell_type": "code",
   "execution_count": 71,
   "metadata": {},
   "outputs": [
    {
     "data": {
      "application/vnd.plotly.v1+json": {
       "config": {
        "plotlyServerURL": "https://plot.ly"
       },
       "data": [
        {
         "error_y": {
          "array": [
           91.96349248814597,
           91.96349248814597,
           10.875542967698195
          ],
          "type": "data",
          "visible": true
         },
         "marker": {
          "color": [
           "#efc86e",
           "#97c684",
           "#6f9969",
           "#aab5d5",
           "#808fe1",
           "#5c66a8",
           "#454a74"
          ]
         },
         "type": "bar",
         "x": [
          "Width",
          "Height",
          "Depth"
         ],
         "y": [
          484.8888888888889,
          484.8888888888889,
          32.51851851851852
         ]
        }
       ],
       "layout": {
        "autosize": false,
        "font": {
         "size": 15
        },
        "height": 600,
        "margin": {
         "b": 40,
         "l": 20,
         "pad": 0,
         "r": 20,
         "t": 20
        },
        "template": {
         "data": {
          "bar": [
           {
            "error_x": {
             "color": "#2a3f5f"
            },
            "error_y": {
             "color": "#2a3f5f"
            },
            "marker": {
             "line": {
              "color": "white",
              "width": 0.5
             },
             "pattern": {
              "fillmode": "overlay",
              "size": 10,
              "solidity": 0.2
             }
            },
            "type": "bar"
           }
          ],
          "barpolar": [
           {
            "marker": {
             "line": {
              "color": "white",
              "width": 0.5
             },
             "pattern": {
              "fillmode": "overlay",
              "size": 10,
              "solidity": 0.2
             }
            },
            "type": "barpolar"
           }
          ],
          "carpet": [
           {
            "aaxis": {
             "endlinecolor": "#2a3f5f",
             "gridcolor": "#C8D4E3",
             "linecolor": "#C8D4E3",
             "minorgridcolor": "#C8D4E3",
             "startlinecolor": "#2a3f5f"
            },
            "baxis": {
             "endlinecolor": "#2a3f5f",
             "gridcolor": "#C8D4E3",
             "linecolor": "#C8D4E3",
             "minorgridcolor": "#C8D4E3",
             "startlinecolor": "#2a3f5f"
            },
            "type": "carpet"
           }
          ],
          "choropleth": [
           {
            "colorbar": {
             "outlinewidth": 0,
             "ticks": ""
            },
            "type": "choropleth"
           }
          ],
          "contour": [
           {
            "colorbar": {
             "outlinewidth": 0,
             "ticks": ""
            },
            "colorscale": [
             [
              0,
              "#0d0887"
             ],
             [
              0.1111111111111111,
              "#46039f"
             ],
             [
              0.2222222222222222,
              "#7201a8"
             ],
             [
              0.3333333333333333,
              "#9c179e"
             ],
             [
              0.4444444444444444,
              "#bd3786"
             ],
             [
              0.5555555555555556,
              "#d8576b"
             ],
             [
              0.6666666666666666,
              "#ed7953"
             ],
             [
              0.7777777777777778,
              "#fb9f3a"
             ],
             [
              0.8888888888888888,
              "#fdca26"
             ],
             [
              1,
              "#f0f921"
             ]
            ],
            "type": "contour"
           }
          ],
          "contourcarpet": [
           {
            "colorbar": {
             "outlinewidth": 0,
             "ticks": ""
            },
            "type": "contourcarpet"
           }
          ],
          "heatmap": [
           {
            "colorbar": {
             "outlinewidth": 0,
             "ticks": ""
            },
            "colorscale": [
             [
              0,
              "#0d0887"
             ],
             [
              0.1111111111111111,
              "#46039f"
             ],
             [
              0.2222222222222222,
              "#7201a8"
             ],
             [
              0.3333333333333333,
              "#9c179e"
             ],
             [
              0.4444444444444444,
              "#bd3786"
             ],
             [
              0.5555555555555556,
              "#d8576b"
             ],
             [
              0.6666666666666666,
              "#ed7953"
             ],
             [
              0.7777777777777778,
              "#fb9f3a"
             ],
             [
              0.8888888888888888,
              "#fdca26"
             ],
             [
              1,
              "#f0f921"
             ]
            ],
            "type": "heatmap"
           }
          ],
          "heatmapgl": [
           {
            "colorbar": {
             "outlinewidth": 0,
             "ticks": ""
            },
            "colorscale": [
             [
              0,
              "#0d0887"
             ],
             [
              0.1111111111111111,
              "#46039f"
             ],
             [
              0.2222222222222222,
              "#7201a8"
             ],
             [
              0.3333333333333333,
              "#9c179e"
             ],
             [
              0.4444444444444444,
              "#bd3786"
             ],
             [
              0.5555555555555556,
              "#d8576b"
             ],
             [
              0.6666666666666666,
              "#ed7953"
             ],
             [
              0.7777777777777778,
              "#fb9f3a"
             ],
             [
              0.8888888888888888,
              "#fdca26"
             ],
             [
              1,
              "#f0f921"
             ]
            ],
            "type": "heatmapgl"
           }
          ],
          "histogram": [
           {
            "marker": {
             "pattern": {
              "fillmode": "overlay",
              "size": 10,
              "solidity": 0.2
             }
            },
            "type": "histogram"
           }
          ],
          "histogram2d": [
           {
            "colorbar": {
             "outlinewidth": 0,
             "ticks": ""
            },
            "colorscale": [
             [
              0,
              "#0d0887"
             ],
             [
              0.1111111111111111,
              "#46039f"
             ],
             [
              0.2222222222222222,
              "#7201a8"
             ],
             [
              0.3333333333333333,
              "#9c179e"
             ],
             [
              0.4444444444444444,
              "#bd3786"
             ],
             [
              0.5555555555555556,
              "#d8576b"
             ],
             [
              0.6666666666666666,
              "#ed7953"
             ],
             [
              0.7777777777777778,
              "#fb9f3a"
             ],
             [
              0.8888888888888888,
              "#fdca26"
             ],
             [
              1,
              "#f0f921"
             ]
            ],
            "type": "histogram2d"
           }
          ],
          "histogram2dcontour": [
           {
            "colorbar": {
             "outlinewidth": 0,
             "ticks": ""
            },
            "colorscale": [
             [
              0,
              "#0d0887"
             ],
             [
              0.1111111111111111,
              "#46039f"
             ],
             [
              0.2222222222222222,
              "#7201a8"
             ],
             [
              0.3333333333333333,
              "#9c179e"
             ],
             [
              0.4444444444444444,
              "#bd3786"
             ],
             [
              0.5555555555555556,
              "#d8576b"
             ],
             [
              0.6666666666666666,
              "#ed7953"
             ],
             [
              0.7777777777777778,
              "#fb9f3a"
             ],
             [
              0.8888888888888888,
              "#fdca26"
             ],
             [
              1,
              "#f0f921"
             ]
            ],
            "type": "histogram2dcontour"
           }
          ],
          "mesh3d": [
           {
            "colorbar": {
             "outlinewidth": 0,
             "ticks": ""
            },
            "type": "mesh3d"
           }
          ],
          "parcoords": [
           {
            "line": {
             "colorbar": {
              "outlinewidth": 0,
              "ticks": ""
             }
            },
            "type": "parcoords"
           }
          ],
          "pie": [
           {
            "automargin": true,
            "type": "pie"
           }
          ],
          "scatter": [
           {
            "fillpattern": {
             "fillmode": "overlay",
             "size": 10,
             "solidity": 0.2
            },
            "type": "scatter"
           }
          ],
          "scatter3d": [
           {
            "line": {
             "colorbar": {
              "outlinewidth": 0,
              "ticks": ""
             }
            },
            "marker": {
             "colorbar": {
              "outlinewidth": 0,
              "ticks": ""
             }
            },
            "type": "scatter3d"
           }
          ],
          "scattercarpet": [
           {
            "marker": {
             "colorbar": {
              "outlinewidth": 0,
              "ticks": ""
             }
            },
            "type": "scattercarpet"
           }
          ],
          "scattergeo": [
           {
            "marker": {
             "colorbar": {
              "outlinewidth": 0,
              "ticks": ""
             }
            },
            "type": "scattergeo"
           }
          ],
          "scattergl": [
           {
            "marker": {
             "colorbar": {
              "outlinewidth": 0,
              "ticks": ""
             }
            },
            "type": "scattergl"
           }
          ],
          "scattermapbox": [
           {
            "marker": {
             "colorbar": {
              "outlinewidth": 0,
              "ticks": ""
             }
            },
            "type": "scattermapbox"
           }
          ],
          "scatterpolar": [
           {
            "marker": {
             "colorbar": {
              "outlinewidth": 0,
              "ticks": ""
             }
            },
            "type": "scatterpolar"
           }
          ],
          "scatterpolargl": [
           {
            "marker": {
             "colorbar": {
              "outlinewidth": 0,
              "ticks": ""
             }
            },
            "type": "scatterpolargl"
           }
          ],
          "scatterternary": [
           {
            "marker": {
             "colorbar": {
              "outlinewidth": 0,
              "ticks": ""
             }
            },
            "type": "scatterternary"
           }
          ],
          "surface": [
           {
            "colorbar": {
             "outlinewidth": 0,
             "ticks": ""
            },
            "colorscale": [
             [
              0,
              "#0d0887"
             ],
             [
              0.1111111111111111,
              "#46039f"
             ],
             [
              0.2222222222222222,
              "#7201a8"
             ],
             [
              0.3333333333333333,
              "#9c179e"
             ],
             [
              0.4444444444444444,
              "#bd3786"
             ],
             [
              0.5555555555555556,
              "#d8576b"
             ],
             [
              0.6666666666666666,
              "#ed7953"
             ],
             [
              0.7777777777777778,
              "#fb9f3a"
             ],
             [
              0.8888888888888888,
              "#fdca26"
             ],
             [
              1,
              "#f0f921"
             ]
            ],
            "type": "surface"
           }
          ],
          "table": [
           {
            "cells": {
             "fill": {
              "color": "#EBF0F8"
             },
             "line": {
              "color": "white"
             }
            },
            "header": {
             "fill": {
              "color": "#C8D4E3"
             },
             "line": {
              "color": "white"
             }
            },
            "type": "table"
           }
          ]
         },
         "layout": {
          "annotationdefaults": {
           "arrowcolor": "#2a3f5f",
           "arrowhead": 0,
           "arrowwidth": 1
          },
          "autotypenumbers": "strict",
          "coloraxis": {
           "colorbar": {
            "outlinewidth": 0,
            "ticks": ""
           }
          },
          "colorscale": {
           "diverging": [
            [
             0,
             "#8e0152"
            ],
            [
             0.1,
             "#c51b7d"
            ],
            [
             0.2,
             "#de77ae"
            ],
            [
             0.3,
             "#f1b6da"
            ],
            [
             0.4,
             "#fde0ef"
            ],
            [
             0.5,
             "#f7f7f7"
            ],
            [
             0.6,
             "#e6f5d0"
            ],
            [
             0.7,
             "#b8e186"
            ],
            [
             0.8,
             "#7fbc41"
            ],
            [
             0.9,
             "#4d9221"
            ],
            [
             1,
             "#276419"
            ]
           ],
           "sequential": [
            [
             0,
             "#0d0887"
            ],
            [
             0.1111111111111111,
             "#46039f"
            ],
            [
             0.2222222222222222,
             "#7201a8"
            ],
            [
             0.3333333333333333,
             "#9c179e"
            ],
            [
             0.4444444444444444,
             "#bd3786"
            ],
            [
             0.5555555555555556,
             "#d8576b"
            ],
            [
             0.6666666666666666,
             "#ed7953"
            ],
            [
             0.7777777777777778,
             "#fb9f3a"
            ],
            [
             0.8888888888888888,
             "#fdca26"
            ],
            [
             1,
             "#f0f921"
            ]
           ],
           "sequentialminus": [
            [
             0,
             "#0d0887"
            ],
            [
             0.1111111111111111,
             "#46039f"
            ],
            [
             0.2222222222222222,
             "#7201a8"
            ],
            [
             0.3333333333333333,
             "#9c179e"
            ],
            [
             0.4444444444444444,
             "#bd3786"
            ],
            [
             0.5555555555555556,
             "#d8576b"
            ],
            [
             0.6666666666666666,
             "#ed7953"
            ],
            [
             0.7777777777777778,
             "#fb9f3a"
            ],
            [
             0.8888888888888888,
             "#fdca26"
            ],
            [
             1,
             "#f0f921"
            ]
           ]
          },
          "colorway": [
           "#636efa",
           "#EF553B",
           "#00cc96",
           "#ab63fa",
           "#FFA15A",
           "#19d3f3",
           "#FF6692",
           "#B6E880",
           "#FF97FF",
           "#FECB52"
          ],
          "font": {
           "color": "#2a3f5f"
          },
          "geo": {
           "bgcolor": "white",
           "lakecolor": "white",
           "landcolor": "white",
           "showlakes": true,
           "showland": true,
           "subunitcolor": "#C8D4E3"
          },
          "hoverlabel": {
           "align": "left"
          },
          "hovermode": "closest",
          "mapbox": {
           "style": "light"
          },
          "paper_bgcolor": "white",
          "plot_bgcolor": "white",
          "polar": {
           "angularaxis": {
            "gridcolor": "#EBF0F8",
            "linecolor": "#EBF0F8",
            "ticks": ""
           },
           "bgcolor": "white",
           "radialaxis": {
            "gridcolor": "#EBF0F8",
            "linecolor": "#EBF0F8",
            "ticks": ""
           }
          },
          "scene": {
           "xaxis": {
            "backgroundcolor": "white",
            "gridcolor": "#DFE8F3",
            "gridwidth": 2,
            "linecolor": "#EBF0F8",
            "showbackground": true,
            "ticks": "",
            "zerolinecolor": "#EBF0F8"
           },
           "yaxis": {
            "backgroundcolor": "white",
            "gridcolor": "#DFE8F3",
            "gridwidth": 2,
            "linecolor": "#EBF0F8",
            "showbackground": true,
            "ticks": "",
            "zerolinecolor": "#EBF0F8"
           },
           "zaxis": {
            "backgroundcolor": "white",
            "gridcolor": "#DFE8F3",
            "gridwidth": 2,
            "linecolor": "#EBF0F8",
            "showbackground": true,
            "ticks": "",
            "zerolinecolor": "#EBF0F8"
           }
          },
          "shapedefaults": {
           "line": {
            "color": "#2a3f5f"
           }
          },
          "ternary": {
           "aaxis": {
            "gridcolor": "#DFE8F3",
            "linecolor": "#A2B1C6",
            "ticks": ""
           },
           "baxis": {
            "gridcolor": "#DFE8F3",
            "linecolor": "#A2B1C6",
            "ticks": ""
           },
           "bgcolor": "white",
           "caxis": {
            "gridcolor": "#DFE8F3",
            "linecolor": "#A2B1C6",
            "ticks": ""
           }
          },
          "title": {
           "x": 0.05
          },
          "xaxis": {
           "automargin": true,
           "gridcolor": "#EBF0F8",
           "linecolor": "#EBF0F8",
           "ticks": "",
           "title": {
            "standoff": 15
           },
           "zerolinecolor": "#EBF0F8",
           "zerolinewidth": 2
          },
          "yaxis": {
           "automargin": true,
           "gridcolor": "#EBF0F8",
           "linecolor": "#EBF0F8",
           "ticks": "",
           "title": {
            "standoff": 15
           },
           "zerolinecolor": "#EBF0F8",
           "zerolinewidth": 2
          }
         }
        },
        "width": 1000,
        "yaxis": {
         "gridcolor": "rgba(128,128,128,0.5)",
         "title": {
          "text": "Size (pixels)"
         }
        }
       }
      },
      "text/html": [
       "<div>                            <div id=\"fc5de049-32f1-4ffb-9ae3-4a8da65ffe63\" class=\"plotly-graph-div\" style=\"height:600px; width:1000px;\"></div>            <script type=\"text/javascript\">                require([\"plotly\"], function(Plotly) {                    window.PLOTLYENV=window.PLOTLYENV || {};                                    if (document.getElementById(\"fc5de049-32f1-4ffb-9ae3-4a8da65ffe63\")) {                    Plotly.newPlot(                        \"fc5de049-32f1-4ffb-9ae3-4a8da65ffe63\",                        [{\"error_y\":{\"array\":[91.96349248814597,91.96349248814597,10.875542967698195],\"type\":\"data\",\"visible\":true},\"marker\":{\"color\":[\"#efc86e\",\"#97c684\",\"#6f9969\",\"#aab5d5\",\"#808fe1\",\"#5c66a8\",\"#454a74\"]},\"x\":[\"Width\",\"Height\",\"Depth\"],\"y\":[484.8888888888889,484.8888888888889,32.51851851851852],\"type\":\"bar\"}],                        {\"font\":{\"size\":15},\"template\":{\"data\":{\"barpolar\":[{\"marker\":{\"line\":{\"color\":\"white\",\"width\":0.5},\"pattern\":{\"fillmode\":\"overlay\",\"size\":10,\"solidity\":0.2}},\"type\":\"barpolar\"}],\"bar\":[{\"error_x\":{\"color\":\"#2a3f5f\"},\"error_y\":{\"color\":\"#2a3f5f\"},\"marker\":{\"line\":{\"color\":\"white\",\"width\":0.5},\"pattern\":{\"fillmode\":\"overlay\",\"size\":10,\"solidity\":0.2}},\"type\":\"bar\"}],\"carpet\":[{\"aaxis\":{\"endlinecolor\":\"#2a3f5f\",\"gridcolor\":\"#C8D4E3\",\"linecolor\":\"#C8D4E3\",\"minorgridcolor\":\"#C8D4E3\",\"startlinecolor\":\"#2a3f5f\"},\"baxis\":{\"endlinecolor\":\"#2a3f5f\",\"gridcolor\":\"#C8D4E3\",\"linecolor\":\"#C8D4E3\",\"minorgridcolor\":\"#C8D4E3\",\"startlinecolor\":\"#2a3f5f\"},\"type\":\"carpet\"}],\"choropleth\":[{\"colorbar\":{\"outlinewidth\":0,\"ticks\":\"\"},\"type\":\"choropleth\"}],\"contourcarpet\":[{\"colorbar\":{\"outlinewidth\":0,\"ticks\":\"\"},\"type\":\"contourcarpet\"}],\"contour\":[{\"colorbar\":{\"outlinewidth\":0,\"ticks\":\"\"},\"colorscale\":[[0.0,\"#0d0887\"],[0.1111111111111111,\"#46039f\"],[0.2222222222222222,\"#7201a8\"],[0.3333333333333333,\"#9c179e\"],[0.4444444444444444,\"#bd3786\"],[0.5555555555555556,\"#d8576b\"],[0.6666666666666666,\"#ed7953\"],[0.7777777777777778,\"#fb9f3a\"],[0.8888888888888888,\"#fdca26\"],[1.0,\"#f0f921\"]],\"type\":\"contour\"}],\"heatmapgl\":[{\"colorbar\":{\"outlinewidth\":0,\"ticks\":\"\"},\"colorscale\":[[0.0,\"#0d0887\"],[0.1111111111111111,\"#46039f\"],[0.2222222222222222,\"#7201a8\"],[0.3333333333333333,\"#9c179e\"],[0.4444444444444444,\"#bd3786\"],[0.5555555555555556,\"#d8576b\"],[0.6666666666666666,\"#ed7953\"],[0.7777777777777778,\"#fb9f3a\"],[0.8888888888888888,\"#fdca26\"],[1.0,\"#f0f921\"]],\"type\":\"heatmapgl\"}],\"heatmap\":[{\"colorbar\":{\"outlinewidth\":0,\"ticks\":\"\"},\"colorscale\":[[0.0,\"#0d0887\"],[0.1111111111111111,\"#46039f\"],[0.2222222222222222,\"#7201a8\"],[0.3333333333333333,\"#9c179e\"],[0.4444444444444444,\"#bd3786\"],[0.5555555555555556,\"#d8576b\"],[0.6666666666666666,\"#ed7953\"],[0.7777777777777778,\"#fb9f3a\"],[0.8888888888888888,\"#fdca26\"],[1.0,\"#f0f921\"]],\"type\":\"heatmap\"}],\"histogram2dcontour\":[{\"colorbar\":{\"outlinewidth\":0,\"ticks\":\"\"},\"colorscale\":[[0.0,\"#0d0887\"],[0.1111111111111111,\"#46039f\"],[0.2222222222222222,\"#7201a8\"],[0.3333333333333333,\"#9c179e\"],[0.4444444444444444,\"#bd3786\"],[0.5555555555555556,\"#d8576b\"],[0.6666666666666666,\"#ed7953\"],[0.7777777777777778,\"#fb9f3a\"],[0.8888888888888888,\"#fdca26\"],[1.0,\"#f0f921\"]],\"type\":\"histogram2dcontour\"}],\"histogram2d\":[{\"colorbar\":{\"outlinewidth\":0,\"ticks\":\"\"},\"colorscale\":[[0.0,\"#0d0887\"],[0.1111111111111111,\"#46039f\"],[0.2222222222222222,\"#7201a8\"],[0.3333333333333333,\"#9c179e\"],[0.4444444444444444,\"#bd3786\"],[0.5555555555555556,\"#d8576b\"],[0.6666666666666666,\"#ed7953\"],[0.7777777777777778,\"#fb9f3a\"],[0.8888888888888888,\"#fdca26\"],[1.0,\"#f0f921\"]],\"type\":\"histogram2d\"}],\"histogram\":[{\"marker\":{\"pattern\":{\"fillmode\":\"overlay\",\"size\":10,\"solidity\":0.2}},\"type\":\"histogram\"}],\"mesh3d\":[{\"colorbar\":{\"outlinewidth\":0,\"ticks\":\"\"},\"type\":\"mesh3d\"}],\"parcoords\":[{\"line\":{\"colorbar\":{\"outlinewidth\":0,\"ticks\":\"\"}},\"type\":\"parcoords\"}],\"pie\":[{\"automargin\":true,\"type\":\"pie\"}],\"scatter3d\":[{\"line\":{\"colorbar\":{\"outlinewidth\":0,\"ticks\":\"\"}},\"marker\":{\"colorbar\":{\"outlinewidth\":0,\"ticks\":\"\"}},\"type\":\"scatter3d\"}],\"scattercarpet\":[{\"marker\":{\"colorbar\":{\"outlinewidth\":0,\"ticks\":\"\"}},\"type\":\"scattercarpet\"}],\"scattergeo\":[{\"marker\":{\"colorbar\":{\"outlinewidth\":0,\"ticks\":\"\"}},\"type\":\"scattergeo\"}],\"scattergl\":[{\"marker\":{\"colorbar\":{\"outlinewidth\":0,\"ticks\":\"\"}},\"type\":\"scattergl\"}],\"scattermapbox\":[{\"marker\":{\"colorbar\":{\"outlinewidth\":0,\"ticks\":\"\"}},\"type\":\"scattermapbox\"}],\"scatterpolargl\":[{\"marker\":{\"colorbar\":{\"outlinewidth\":0,\"ticks\":\"\"}},\"type\":\"scatterpolargl\"}],\"scatterpolar\":[{\"marker\":{\"colorbar\":{\"outlinewidth\":0,\"ticks\":\"\"}},\"type\":\"scatterpolar\"}],\"scatter\":[{\"fillpattern\":{\"fillmode\":\"overlay\",\"size\":10,\"solidity\":0.2},\"type\":\"scatter\"}],\"scatterternary\":[{\"marker\":{\"colorbar\":{\"outlinewidth\":0,\"ticks\":\"\"}},\"type\":\"scatterternary\"}],\"surface\":[{\"colorbar\":{\"outlinewidth\":0,\"ticks\":\"\"},\"colorscale\":[[0.0,\"#0d0887\"],[0.1111111111111111,\"#46039f\"],[0.2222222222222222,\"#7201a8\"],[0.3333333333333333,\"#9c179e\"],[0.4444444444444444,\"#bd3786\"],[0.5555555555555556,\"#d8576b\"],[0.6666666666666666,\"#ed7953\"],[0.7777777777777778,\"#fb9f3a\"],[0.8888888888888888,\"#fdca26\"],[1.0,\"#f0f921\"]],\"type\":\"surface\"}],\"table\":[{\"cells\":{\"fill\":{\"color\":\"#EBF0F8\"},\"line\":{\"color\":\"white\"}},\"header\":{\"fill\":{\"color\":\"#C8D4E3\"},\"line\":{\"color\":\"white\"}},\"type\":\"table\"}]},\"layout\":{\"annotationdefaults\":{\"arrowcolor\":\"#2a3f5f\",\"arrowhead\":0,\"arrowwidth\":1},\"autotypenumbers\":\"strict\",\"coloraxis\":{\"colorbar\":{\"outlinewidth\":0,\"ticks\":\"\"}},\"colorscale\":{\"diverging\":[[0,\"#8e0152\"],[0.1,\"#c51b7d\"],[0.2,\"#de77ae\"],[0.3,\"#f1b6da\"],[0.4,\"#fde0ef\"],[0.5,\"#f7f7f7\"],[0.6,\"#e6f5d0\"],[0.7,\"#b8e186\"],[0.8,\"#7fbc41\"],[0.9,\"#4d9221\"],[1,\"#276419\"]],\"sequential\":[[0.0,\"#0d0887\"],[0.1111111111111111,\"#46039f\"],[0.2222222222222222,\"#7201a8\"],[0.3333333333333333,\"#9c179e\"],[0.4444444444444444,\"#bd3786\"],[0.5555555555555556,\"#d8576b\"],[0.6666666666666666,\"#ed7953\"],[0.7777777777777778,\"#fb9f3a\"],[0.8888888888888888,\"#fdca26\"],[1.0,\"#f0f921\"]],\"sequentialminus\":[[0.0,\"#0d0887\"],[0.1111111111111111,\"#46039f\"],[0.2222222222222222,\"#7201a8\"],[0.3333333333333333,\"#9c179e\"],[0.4444444444444444,\"#bd3786\"],[0.5555555555555556,\"#d8576b\"],[0.6666666666666666,\"#ed7953\"],[0.7777777777777778,\"#fb9f3a\"],[0.8888888888888888,\"#fdca26\"],[1.0,\"#f0f921\"]]},\"colorway\":[\"#636efa\",\"#EF553B\",\"#00cc96\",\"#ab63fa\",\"#FFA15A\",\"#19d3f3\",\"#FF6692\",\"#B6E880\",\"#FF97FF\",\"#FECB52\"],\"font\":{\"color\":\"#2a3f5f\"},\"geo\":{\"bgcolor\":\"white\",\"lakecolor\":\"white\",\"landcolor\":\"white\",\"showlakes\":true,\"showland\":true,\"subunitcolor\":\"#C8D4E3\"},\"hoverlabel\":{\"align\":\"left\"},\"hovermode\":\"closest\",\"mapbox\":{\"style\":\"light\"},\"paper_bgcolor\":\"white\",\"plot_bgcolor\":\"white\",\"polar\":{\"angularaxis\":{\"gridcolor\":\"#EBF0F8\",\"linecolor\":\"#EBF0F8\",\"ticks\":\"\"},\"bgcolor\":\"white\",\"radialaxis\":{\"gridcolor\":\"#EBF0F8\",\"linecolor\":\"#EBF0F8\",\"ticks\":\"\"}},\"scene\":{\"xaxis\":{\"backgroundcolor\":\"white\",\"gridcolor\":\"#DFE8F3\",\"gridwidth\":2,\"linecolor\":\"#EBF0F8\",\"showbackground\":true,\"ticks\":\"\",\"zerolinecolor\":\"#EBF0F8\"},\"yaxis\":{\"backgroundcolor\":\"white\",\"gridcolor\":\"#DFE8F3\",\"gridwidth\":2,\"linecolor\":\"#EBF0F8\",\"showbackground\":true,\"ticks\":\"\",\"zerolinecolor\":\"#EBF0F8\"},\"zaxis\":{\"backgroundcolor\":\"white\",\"gridcolor\":\"#DFE8F3\",\"gridwidth\":2,\"linecolor\":\"#EBF0F8\",\"showbackground\":true,\"ticks\":\"\",\"zerolinecolor\":\"#EBF0F8\"}},\"shapedefaults\":{\"line\":{\"color\":\"#2a3f5f\"}},\"ternary\":{\"aaxis\":{\"gridcolor\":\"#DFE8F3\",\"linecolor\":\"#A2B1C6\",\"ticks\":\"\"},\"baxis\":{\"gridcolor\":\"#DFE8F3\",\"linecolor\":\"#A2B1C6\",\"ticks\":\"\"},\"bgcolor\":\"white\",\"caxis\":{\"gridcolor\":\"#DFE8F3\",\"linecolor\":\"#A2B1C6\",\"ticks\":\"\"}},\"title\":{\"x\":0.05},\"xaxis\":{\"automargin\":true,\"gridcolor\":\"#EBF0F8\",\"linecolor\":\"#EBF0F8\",\"ticks\":\"\",\"title\":{\"standoff\":15},\"zerolinecolor\":\"#EBF0F8\",\"zerolinewidth\":2},\"yaxis\":{\"automargin\":true,\"gridcolor\":\"#EBF0F8\",\"linecolor\":\"#EBF0F8\",\"ticks\":\"\",\"title\":{\"standoff\":15},\"zerolinecolor\":\"#EBF0F8\",\"zerolinewidth\":2}}},\"yaxis\":{\"title\":{\"text\":\"Size (pixels)\"},\"gridcolor\":\"rgba(128,128,128,0.5)\"},\"margin\":{\"l\":20,\"r\":20,\"b\":40,\"t\":20,\"pad\":0},\"autosize\":false,\"width\":1000,\"height\":600},                        {\"responsive\": true}                    ).then(function(){\n",
       "                            \n",
       "var gd = document.getElementById('fc5de049-32f1-4ffb-9ae3-4a8da65ffe63');\n",
       "var x = new MutationObserver(function (mutations, observer) {{\n",
       "        var display = window.getComputedStyle(gd).display;\n",
       "        if (!display || display === 'none') {{\n",
       "            console.log([gd, 'removed!']);\n",
       "            Plotly.purge(gd);\n",
       "            observer.disconnect();\n",
       "        }}\n",
       "}});\n",
       "\n",
       "// Listen for the removal of the full notebook cells\n",
       "var notebookContainer = gd.closest('#notebook-container');\n",
       "if (notebookContainer) {{\n",
       "    x.observe(notebookContainer, {childList: true});\n",
       "}}\n",
       "\n",
       "// Listen for the clearing of the current output cell\n",
       "var outputEl = gd.closest('.output');\n",
       "if (outputEl) {{\n",
       "    x.observe(outputEl, {childList: true});\n",
       "}}\n",
       "\n",
       "                        })                };                });            </script>        </div>"
      ]
     },
     "metadata": {},
     "output_type": "display_data"
    }
   ],
   "source": [
    "plot_size_variability_plotly(['Width', 'Height', 'Depth'],\n",
    "                            [mean_width_axial, mean_height_axial, mean_depth_axial],\n",
    "                            [std_width_axial, std_height_axial, std_depth_axial], \n",
    "                            colors,\n",
    "                            'T2w Axial',\n",
    "                            save_as_pdf=True)"
   ]
  },
  {
   "cell_type": "code",
   "execution_count": 72,
   "metadata": {},
   "outputs": [
    {
     "data": {
      "application/vnd.plotly.v1+json": {
       "config": {
        "plotlyServerURL": "https://plot.ly"
       },
       "data": [
        {
         "error_y": {
          "array": [
           78.29591652408227,
           78.29591652408227,
           4.229138771446171
          ],
          "type": "data",
          "visible": true
         },
         "marker": {
          "color": [
           "#efc86e",
           "#97c684",
           "#6f9969",
           "#aab5d5",
           "#808fe1",
           "#5c66a8",
           "#454a74"
          ]
         },
         "type": "bar",
         "x": [
          "Width",
          "Height",
          "Depth"
         ],
         "y": [
          466.12048192771084,
          466.12048192771084,
          25.55421686746988
         ]
        }
       ],
       "layout": {
        "autosize": false,
        "font": {
         "size": 15
        },
        "height": 600,
        "margin": {
         "b": 40,
         "l": 20,
         "pad": 0,
         "r": 20,
         "t": 20
        },
        "template": {
         "data": {
          "bar": [
           {
            "error_x": {
             "color": "#2a3f5f"
            },
            "error_y": {
             "color": "#2a3f5f"
            },
            "marker": {
             "line": {
              "color": "white",
              "width": 0.5
             },
             "pattern": {
              "fillmode": "overlay",
              "size": 10,
              "solidity": 0.2
             }
            },
            "type": "bar"
           }
          ],
          "barpolar": [
           {
            "marker": {
             "line": {
              "color": "white",
              "width": 0.5
             },
             "pattern": {
              "fillmode": "overlay",
              "size": 10,
              "solidity": 0.2
             }
            },
            "type": "barpolar"
           }
          ],
          "carpet": [
           {
            "aaxis": {
             "endlinecolor": "#2a3f5f",
             "gridcolor": "#C8D4E3",
             "linecolor": "#C8D4E3",
             "minorgridcolor": "#C8D4E3",
             "startlinecolor": "#2a3f5f"
            },
            "baxis": {
             "endlinecolor": "#2a3f5f",
             "gridcolor": "#C8D4E3",
             "linecolor": "#C8D4E3",
             "minorgridcolor": "#C8D4E3",
             "startlinecolor": "#2a3f5f"
            },
            "type": "carpet"
           }
          ],
          "choropleth": [
           {
            "colorbar": {
             "outlinewidth": 0,
             "ticks": ""
            },
            "type": "choropleth"
           }
          ],
          "contour": [
           {
            "colorbar": {
             "outlinewidth": 0,
             "ticks": ""
            },
            "colorscale": [
             [
              0,
              "#0d0887"
             ],
             [
              0.1111111111111111,
              "#46039f"
             ],
             [
              0.2222222222222222,
              "#7201a8"
             ],
             [
              0.3333333333333333,
              "#9c179e"
             ],
             [
              0.4444444444444444,
              "#bd3786"
             ],
             [
              0.5555555555555556,
              "#d8576b"
             ],
             [
              0.6666666666666666,
              "#ed7953"
             ],
             [
              0.7777777777777778,
              "#fb9f3a"
             ],
             [
              0.8888888888888888,
              "#fdca26"
             ],
             [
              1,
              "#f0f921"
             ]
            ],
            "type": "contour"
           }
          ],
          "contourcarpet": [
           {
            "colorbar": {
             "outlinewidth": 0,
             "ticks": ""
            },
            "type": "contourcarpet"
           }
          ],
          "heatmap": [
           {
            "colorbar": {
             "outlinewidth": 0,
             "ticks": ""
            },
            "colorscale": [
             [
              0,
              "#0d0887"
             ],
             [
              0.1111111111111111,
              "#46039f"
             ],
             [
              0.2222222222222222,
              "#7201a8"
             ],
             [
              0.3333333333333333,
              "#9c179e"
             ],
             [
              0.4444444444444444,
              "#bd3786"
             ],
             [
              0.5555555555555556,
              "#d8576b"
             ],
             [
              0.6666666666666666,
              "#ed7953"
             ],
             [
              0.7777777777777778,
              "#fb9f3a"
             ],
             [
              0.8888888888888888,
              "#fdca26"
             ],
             [
              1,
              "#f0f921"
             ]
            ],
            "type": "heatmap"
           }
          ],
          "heatmapgl": [
           {
            "colorbar": {
             "outlinewidth": 0,
             "ticks": ""
            },
            "colorscale": [
             [
              0,
              "#0d0887"
             ],
             [
              0.1111111111111111,
              "#46039f"
             ],
             [
              0.2222222222222222,
              "#7201a8"
             ],
             [
              0.3333333333333333,
              "#9c179e"
             ],
             [
              0.4444444444444444,
              "#bd3786"
             ],
             [
              0.5555555555555556,
              "#d8576b"
             ],
             [
              0.6666666666666666,
              "#ed7953"
             ],
             [
              0.7777777777777778,
              "#fb9f3a"
             ],
             [
              0.8888888888888888,
              "#fdca26"
             ],
             [
              1,
              "#f0f921"
             ]
            ],
            "type": "heatmapgl"
           }
          ],
          "histogram": [
           {
            "marker": {
             "pattern": {
              "fillmode": "overlay",
              "size": 10,
              "solidity": 0.2
             }
            },
            "type": "histogram"
           }
          ],
          "histogram2d": [
           {
            "colorbar": {
             "outlinewidth": 0,
             "ticks": ""
            },
            "colorscale": [
             [
              0,
              "#0d0887"
             ],
             [
              0.1111111111111111,
              "#46039f"
             ],
             [
              0.2222222222222222,
              "#7201a8"
             ],
             [
              0.3333333333333333,
              "#9c179e"
             ],
             [
              0.4444444444444444,
              "#bd3786"
             ],
             [
              0.5555555555555556,
              "#d8576b"
             ],
             [
              0.6666666666666666,
              "#ed7953"
             ],
             [
              0.7777777777777778,
              "#fb9f3a"
             ],
             [
              0.8888888888888888,
              "#fdca26"
             ],
             [
              1,
              "#f0f921"
             ]
            ],
            "type": "histogram2d"
           }
          ],
          "histogram2dcontour": [
           {
            "colorbar": {
             "outlinewidth": 0,
             "ticks": ""
            },
            "colorscale": [
             [
              0,
              "#0d0887"
             ],
             [
              0.1111111111111111,
              "#46039f"
             ],
             [
              0.2222222222222222,
              "#7201a8"
             ],
             [
              0.3333333333333333,
              "#9c179e"
             ],
             [
              0.4444444444444444,
              "#bd3786"
             ],
             [
              0.5555555555555556,
              "#d8576b"
             ],
             [
              0.6666666666666666,
              "#ed7953"
             ],
             [
              0.7777777777777778,
              "#fb9f3a"
             ],
             [
              0.8888888888888888,
              "#fdca26"
             ],
             [
              1,
              "#f0f921"
             ]
            ],
            "type": "histogram2dcontour"
           }
          ],
          "mesh3d": [
           {
            "colorbar": {
             "outlinewidth": 0,
             "ticks": ""
            },
            "type": "mesh3d"
           }
          ],
          "parcoords": [
           {
            "line": {
             "colorbar": {
              "outlinewidth": 0,
              "ticks": ""
             }
            },
            "type": "parcoords"
           }
          ],
          "pie": [
           {
            "automargin": true,
            "type": "pie"
           }
          ],
          "scatter": [
           {
            "fillpattern": {
             "fillmode": "overlay",
             "size": 10,
             "solidity": 0.2
            },
            "type": "scatter"
           }
          ],
          "scatter3d": [
           {
            "line": {
             "colorbar": {
              "outlinewidth": 0,
              "ticks": ""
             }
            },
            "marker": {
             "colorbar": {
              "outlinewidth": 0,
              "ticks": ""
             }
            },
            "type": "scatter3d"
           }
          ],
          "scattercarpet": [
           {
            "marker": {
             "colorbar": {
              "outlinewidth": 0,
              "ticks": ""
             }
            },
            "type": "scattercarpet"
           }
          ],
          "scattergeo": [
           {
            "marker": {
             "colorbar": {
              "outlinewidth": 0,
              "ticks": ""
             }
            },
            "type": "scattergeo"
           }
          ],
          "scattergl": [
           {
            "marker": {
             "colorbar": {
              "outlinewidth": 0,
              "ticks": ""
             }
            },
            "type": "scattergl"
           }
          ],
          "scattermapbox": [
           {
            "marker": {
             "colorbar": {
              "outlinewidth": 0,
              "ticks": ""
             }
            },
            "type": "scattermapbox"
           }
          ],
          "scatterpolar": [
           {
            "marker": {
             "colorbar": {
              "outlinewidth": 0,
              "ticks": ""
             }
            },
            "type": "scatterpolar"
           }
          ],
          "scatterpolargl": [
           {
            "marker": {
             "colorbar": {
              "outlinewidth": 0,
              "ticks": ""
             }
            },
            "type": "scatterpolargl"
           }
          ],
          "scatterternary": [
           {
            "marker": {
             "colorbar": {
              "outlinewidth": 0,
              "ticks": ""
             }
            },
            "type": "scatterternary"
           }
          ],
          "surface": [
           {
            "colorbar": {
             "outlinewidth": 0,
             "ticks": ""
            },
            "colorscale": [
             [
              0,
              "#0d0887"
             ],
             [
              0.1111111111111111,
              "#46039f"
             ],
             [
              0.2222222222222222,
              "#7201a8"
             ],
             [
              0.3333333333333333,
              "#9c179e"
             ],
             [
              0.4444444444444444,
              "#bd3786"
             ],
             [
              0.5555555555555556,
              "#d8576b"
             ],
             [
              0.6666666666666666,
              "#ed7953"
             ],
             [
              0.7777777777777778,
              "#fb9f3a"
             ],
             [
              0.8888888888888888,
              "#fdca26"
             ],
             [
              1,
              "#f0f921"
             ]
            ],
            "type": "surface"
           }
          ],
          "table": [
           {
            "cells": {
             "fill": {
              "color": "#EBF0F8"
             },
             "line": {
              "color": "white"
             }
            },
            "header": {
             "fill": {
              "color": "#C8D4E3"
             },
             "line": {
              "color": "white"
             }
            },
            "type": "table"
           }
          ]
         },
         "layout": {
          "annotationdefaults": {
           "arrowcolor": "#2a3f5f",
           "arrowhead": 0,
           "arrowwidth": 1
          },
          "autotypenumbers": "strict",
          "coloraxis": {
           "colorbar": {
            "outlinewidth": 0,
            "ticks": ""
           }
          },
          "colorscale": {
           "diverging": [
            [
             0,
             "#8e0152"
            ],
            [
             0.1,
             "#c51b7d"
            ],
            [
             0.2,
             "#de77ae"
            ],
            [
             0.3,
             "#f1b6da"
            ],
            [
             0.4,
             "#fde0ef"
            ],
            [
             0.5,
             "#f7f7f7"
            ],
            [
             0.6,
             "#e6f5d0"
            ],
            [
             0.7,
             "#b8e186"
            ],
            [
             0.8,
             "#7fbc41"
            ],
            [
             0.9,
             "#4d9221"
            ],
            [
             1,
             "#276419"
            ]
           ],
           "sequential": [
            [
             0,
             "#0d0887"
            ],
            [
             0.1111111111111111,
             "#46039f"
            ],
            [
             0.2222222222222222,
             "#7201a8"
            ],
            [
             0.3333333333333333,
             "#9c179e"
            ],
            [
             0.4444444444444444,
             "#bd3786"
            ],
            [
             0.5555555555555556,
             "#d8576b"
            ],
            [
             0.6666666666666666,
             "#ed7953"
            ],
            [
             0.7777777777777778,
             "#fb9f3a"
            ],
            [
             0.8888888888888888,
             "#fdca26"
            ],
            [
             1,
             "#f0f921"
            ]
           ],
           "sequentialminus": [
            [
             0,
             "#0d0887"
            ],
            [
             0.1111111111111111,
             "#46039f"
            ],
            [
             0.2222222222222222,
             "#7201a8"
            ],
            [
             0.3333333333333333,
             "#9c179e"
            ],
            [
             0.4444444444444444,
             "#bd3786"
            ],
            [
             0.5555555555555556,
             "#d8576b"
            ],
            [
             0.6666666666666666,
             "#ed7953"
            ],
            [
             0.7777777777777778,
             "#fb9f3a"
            ],
            [
             0.8888888888888888,
             "#fdca26"
            ],
            [
             1,
             "#f0f921"
            ]
           ]
          },
          "colorway": [
           "#636efa",
           "#EF553B",
           "#00cc96",
           "#ab63fa",
           "#FFA15A",
           "#19d3f3",
           "#FF6692",
           "#B6E880",
           "#FF97FF",
           "#FECB52"
          ],
          "font": {
           "color": "#2a3f5f"
          },
          "geo": {
           "bgcolor": "white",
           "lakecolor": "white",
           "landcolor": "white",
           "showlakes": true,
           "showland": true,
           "subunitcolor": "#C8D4E3"
          },
          "hoverlabel": {
           "align": "left"
          },
          "hovermode": "closest",
          "mapbox": {
           "style": "light"
          },
          "paper_bgcolor": "white",
          "plot_bgcolor": "white",
          "polar": {
           "angularaxis": {
            "gridcolor": "#EBF0F8",
            "linecolor": "#EBF0F8",
            "ticks": ""
           },
           "bgcolor": "white",
           "radialaxis": {
            "gridcolor": "#EBF0F8",
            "linecolor": "#EBF0F8",
            "ticks": ""
           }
          },
          "scene": {
           "xaxis": {
            "backgroundcolor": "white",
            "gridcolor": "#DFE8F3",
            "gridwidth": 2,
            "linecolor": "#EBF0F8",
            "showbackground": true,
            "ticks": "",
            "zerolinecolor": "#EBF0F8"
           },
           "yaxis": {
            "backgroundcolor": "white",
            "gridcolor": "#DFE8F3",
            "gridwidth": 2,
            "linecolor": "#EBF0F8",
            "showbackground": true,
            "ticks": "",
            "zerolinecolor": "#EBF0F8"
           },
           "zaxis": {
            "backgroundcolor": "white",
            "gridcolor": "#DFE8F3",
            "gridwidth": 2,
            "linecolor": "#EBF0F8",
            "showbackground": true,
            "ticks": "",
            "zerolinecolor": "#EBF0F8"
           }
          },
          "shapedefaults": {
           "line": {
            "color": "#2a3f5f"
           }
          },
          "ternary": {
           "aaxis": {
            "gridcolor": "#DFE8F3",
            "linecolor": "#A2B1C6",
            "ticks": ""
           },
           "baxis": {
            "gridcolor": "#DFE8F3",
            "linecolor": "#A2B1C6",
            "ticks": ""
           },
           "bgcolor": "white",
           "caxis": {
            "gridcolor": "#DFE8F3",
            "linecolor": "#A2B1C6",
            "ticks": ""
           }
          },
          "title": {
           "x": 0.05
          },
          "xaxis": {
           "automargin": true,
           "gridcolor": "#EBF0F8",
           "linecolor": "#EBF0F8",
           "ticks": "",
           "title": {
            "standoff": 15
           },
           "zerolinecolor": "#EBF0F8",
           "zerolinewidth": 2
          },
          "yaxis": {
           "automargin": true,
           "gridcolor": "#EBF0F8",
           "linecolor": "#EBF0F8",
           "ticks": "",
           "title": {
            "standoff": 15
           },
           "zerolinecolor": "#EBF0F8",
           "zerolinewidth": 2
          }
         }
        },
        "width": 1000,
        "yaxis": {
         "gridcolor": "rgba(128,128,128,0.5)",
         "title": {
          "text": "Size (pixels)"
         }
        }
       }
      },
      "text/html": [
       "<div>                            <div id=\"32ddec2a-1fc6-4688-95d8-f4f0641c9bab\" class=\"plotly-graph-div\" style=\"height:600px; width:1000px;\"></div>            <script type=\"text/javascript\">                require([\"plotly\"], function(Plotly) {                    window.PLOTLYENV=window.PLOTLYENV || {};                                    if (document.getElementById(\"32ddec2a-1fc6-4688-95d8-f4f0641c9bab\")) {                    Plotly.newPlot(                        \"32ddec2a-1fc6-4688-95d8-f4f0641c9bab\",                        [{\"error_y\":{\"array\":[78.29591652408227,78.29591652408227,4.229138771446171],\"type\":\"data\",\"visible\":true},\"marker\":{\"color\":[\"#efc86e\",\"#97c684\",\"#6f9969\",\"#aab5d5\",\"#808fe1\",\"#5c66a8\",\"#454a74\"]},\"x\":[\"Width\",\"Height\",\"Depth\"],\"y\":[466.12048192771084,466.12048192771084,25.55421686746988],\"type\":\"bar\"}],                        {\"font\":{\"size\":15},\"template\":{\"data\":{\"barpolar\":[{\"marker\":{\"line\":{\"color\":\"white\",\"width\":0.5},\"pattern\":{\"fillmode\":\"overlay\",\"size\":10,\"solidity\":0.2}},\"type\":\"barpolar\"}],\"bar\":[{\"error_x\":{\"color\":\"#2a3f5f\"},\"error_y\":{\"color\":\"#2a3f5f\"},\"marker\":{\"line\":{\"color\":\"white\",\"width\":0.5},\"pattern\":{\"fillmode\":\"overlay\",\"size\":10,\"solidity\":0.2}},\"type\":\"bar\"}],\"carpet\":[{\"aaxis\":{\"endlinecolor\":\"#2a3f5f\",\"gridcolor\":\"#C8D4E3\",\"linecolor\":\"#C8D4E3\",\"minorgridcolor\":\"#C8D4E3\",\"startlinecolor\":\"#2a3f5f\"},\"baxis\":{\"endlinecolor\":\"#2a3f5f\",\"gridcolor\":\"#C8D4E3\",\"linecolor\":\"#C8D4E3\",\"minorgridcolor\":\"#C8D4E3\",\"startlinecolor\":\"#2a3f5f\"},\"type\":\"carpet\"}],\"choropleth\":[{\"colorbar\":{\"outlinewidth\":0,\"ticks\":\"\"},\"type\":\"choropleth\"}],\"contourcarpet\":[{\"colorbar\":{\"outlinewidth\":0,\"ticks\":\"\"},\"type\":\"contourcarpet\"}],\"contour\":[{\"colorbar\":{\"outlinewidth\":0,\"ticks\":\"\"},\"colorscale\":[[0.0,\"#0d0887\"],[0.1111111111111111,\"#46039f\"],[0.2222222222222222,\"#7201a8\"],[0.3333333333333333,\"#9c179e\"],[0.4444444444444444,\"#bd3786\"],[0.5555555555555556,\"#d8576b\"],[0.6666666666666666,\"#ed7953\"],[0.7777777777777778,\"#fb9f3a\"],[0.8888888888888888,\"#fdca26\"],[1.0,\"#f0f921\"]],\"type\":\"contour\"}],\"heatmapgl\":[{\"colorbar\":{\"outlinewidth\":0,\"ticks\":\"\"},\"colorscale\":[[0.0,\"#0d0887\"],[0.1111111111111111,\"#46039f\"],[0.2222222222222222,\"#7201a8\"],[0.3333333333333333,\"#9c179e\"],[0.4444444444444444,\"#bd3786\"],[0.5555555555555556,\"#d8576b\"],[0.6666666666666666,\"#ed7953\"],[0.7777777777777778,\"#fb9f3a\"],[0.8888888888888888,\"#fdca26\"],[1.0,\"#f0f921\"]],\"type\":\"heatmapgl\"}],\"heatmap\":[{\"colorbar\":{\"outlinewidth\":0,\"ticks\":\"\"},\"colorscale\":[[0.0,\"#0d0887\"],[0.1111111111111111,\"#46039f\"],[0.2222222222222222,\"#7201a8\"],[0.3333333333333333,\"#9c179e\"],[0.4444444444444444,\"#bd3786\"],[0.5555555555555556,\"#d8576b\"],[0.6666666666666666,\"#ed7953\"],[0.7777777777777778,\"#fb9f3a\"],[0.8888888888888888,\"#fdca26\"],[1.0,\"#f0f921\"]],\"type\":\"heatmap\"}],\"histogram2dcontour\":[{\"colorbar\":{\"outlinewidth\":0,\"ticks\":\"\"},\"colorscale\":[[0.0,\"#0d0887\"],[0.1111111111111111,\"#46039f\"],[0.2222222222222222,\"#7201a8\"],[0.3333333333333333,\"#9c179e\"],[0.4444444444444444,\"#bd3786\"],[0.5555555555555556,\"#d8576b\"],[0.6666666666666666,\"#ed7953\"],[0.7777777777777778,\"#fb9f3a\"],[0.8888888888888888,\"#fdca26\"],[1.0,\"#f0f921\"]],\"type\":\"histogram2dcontour\"}],\"histogram2d\":[{\"colorbar\":{\"outlinewidth\":0,\"ticks\":\"\"},\"colorscale\":[[0.0,\"#0d0887\"],[0.1111111111111111,\"#46039f\"],[0.2222222222222222,\"#7201a8\"],[0.3333333333333333,\"#9c179e\"],[0.4444444444444444,\"#bd3786\"],[0.5555555555555556,\"#d8576b\"],[0.6666666666666666,\"#ed7953\"],[0.7777777777777778,\"#fb9f3a\"],[0.8888888888888888,\"#fdca26\"],[1.0,\"#f0f921\"]],\"type\":\"histogram2d\"}],\"histogram\":[{\"marker\":{\"pattern\":{\"fillmode\":\"overlay\",\"size\":10,\"solidity\":0.2}},\"type\":\"histogram\"}],\"mesh3d\":[{\"colorbar\":{\"outlinewidth\":0,\"ticks\":\"\"},\"type\":\"mesh3d\"}],\"parcoords\":[{\"line\":{\"colorbar\":{\"outlinewidth\":0,\"ticks\":\"\"}},\"type\":\"parcoords\"}],\"pie\":[{\"automargin\":true,\"type\":\"pie\"}],\"scatter3d\":[{\"line\":{\"colorbar\":{\"outlinewidth\":0,\"ticks\":\"\"}},\"marker\":{\"colorbar\":{\"outlinewidth\":0,\"ticks\":\"\"}},\"type\":\"scatter3d\"}],\"scattercarpet\":[{\"marker\":{\"colorbar\":{\"outlinewidth\":0,\"ticks\":\"\"}},\"type\":\"scattercarpet\"}],\"scattergeo\":[{\"marker\":{\"colorbar\":{\"outlinewidth\":0,\"ticks\":\"\"}},\"type\":\"scattergeo\"}],\"scattergl\":[{\"marker\":{\"colorbar\":{\"outlinewidth\":0,\"ticks\":\"\"}},\"type\":\"scattergl\"}],\"scattermapbox\":[{\"marker\":{\"colorbar\":{\"outlinewidth\":0,\"ticks\":\"\"}},\"type\":\"scattermapbox\"}],\"scatterpolargl\":[{\"marker\":{\"colorbar\":{\"outlinewidth\":0,\"ticks\":\"\"}},\"type\":\"scatterpolargl\"}],\"scatterpolar\":[{\"marker\":{\"colorbar\":{\"outlinewidth\":0,\"ticks\":\"\"}},\"type\":\"scatterpolar\"}],\"scatter\":[{\"fillpattern\":{\"fillmode\":\"overlay\",\"size\":10,\"solidity\":0.2},\"type\":\"scatter\"}],\"scatterternary\":[{\"marker\":{\"colorbar\":{\"outlinewidth\":0,\"ticks\":\"\"}},\"type\":\"scatterternary\"}],\"surface\":[{\"colorbar\":{\"outlinewidth\":0,\"ticks\":\"\"},\"colorscale\":[[0.0,\"#0d0887\"],[0.1111111111111111,\"#46039f\"],[0.2222222222222222,\"#7201a8\"],[0.3333333333333333,\"#9c179e\"],[0.4444444444444444,\"#bd3786\"],[0.5555555555555556,\"#d8576b\"],[0.6666666666666666,\"#ed7953\"],[0.7777777777777778,\"#fb9f3a\"],[0.8888888888888888,\"#fdca26\"],[1.0,\"#f0f921\"]],\"type\":\"surface\"}],\"table\":[{\"cells\":{\"fill\":{\"color\":\"#EBF0F8\"},\"line\":{\"color\":\"white\"}},\"header\":{\"fill\":{\"color\":\"#C8D4E3\"},\"line\":{\"color\":\"white\"}},\"type\":\"table\"}]},\"layout\":{\"annotationdefaults\":{\"arrowcolor\":\"#2a3f5f\",\"arrowhead\":0,\"arrowwidth\":1},\"autotypenumbers\":\"strict\",\"coloraxis\":{\"colorbar\":{\"outlinewidth\":0,\"ticks\":\"\"}},\"colorscale\":{\"diverging\":[[0,\"#8e0152\"],[0.1,\"#c51b7d\"],[0.2,\"#de77ae\"],[0.3,\"#f1b6da\"],[0.4,\"#fde0ef\"],[0.5,\"#f7f7f7\"],[0.6,\"#e6f5d0\"],[0.7,\"#b8e186\"],[0.8,\"#7fbc41\"],[0.9,\"#4d9221\"],[1,\"#276419\"]],\"sequential\":[[0.0,\"#0d0887\"],[0.1111111111111111,\"#46039f\"],[0.2222222222222222,\"#7201a8\"],[0.3333333333333333,\"#9c179e\"],[0.4444444444444444,\"#bd3786\"],[0.5555555555555556,\"#d8576b\"],[0.6666666666666666,\"#ed7953\"],[0.7777777777777778,\"#fb9f3a\"],[0.8888888888888888,\"#fdca26\"],[1.0,\"#f0f921\"]],\"sequentialminus\":[[0.0,\"#0d0887\"],[0.1111111111111111,\"#46039f\"],[0.2222222222222222,\"#7201a8\"],[0.3333333333333333,\"#9c179e\"],[0.4444444444444444,\"#bd3786\"],[0.5555555555555556,\"#d8576b\"],[0.6666666666666666,\"#ed7953\"],[0.7777777777777778,\"#fb9f3a\"],[0.8888888888888888,\"#fdca26\"],[1.0,\"#f0f921\"]]},\"colorway\":[\"#636efa\",\"#EF553B\",\"#00cc96\",\"#ab63fa\",\"#FFA15A\",\"#19d3f3\",\"#FF6692\",\"#B6E880\",\"#FF97FF\",\"#FECB52\"],\"font\":{\"color\":\"#2a3f5f\"},\"geo\":{\"bgcolor\":\"white\",\"lakecolor\":\"white\",\"landcolor\":\"white\",\"showlakes\":true,\"showland\":true,\"subunitcolor\":\"#C8D4E3\"},\"hoverlabel\":{\"align\":\"left\"},\"hovermode\":\"closest\",\"mapbox\":{\"style\":\"light\"},\"paper_bgcolor\":\"white\",\"plot_bgcolor\":\"white\",\"polar\":{\"angularaxis\":{\"gridcolor\":\"#EBF0F8\",\"linecolor\":\"#EBF0F8\",\"ticks\":\"\"},\"bgcolor\":\"white\",\"radialaxis\":{\"gridcolor\":\"#EBF0F8\",\"linecolor\":\"#EBF0F8\",\"ticks\":\"\"}},\"scene\":{\"xaxis\":{\"backgroundcolor\":\"white\",\"gridcolor\":\"#DFE8F3\",\"gridwidth\":2,\"linecolor\":\"#EBF0F8\",\"showbackground\":true,\"ticks\":\"\",\"zerolinecolor\":\"#EBF0F8\"},\"yaxis\":{\"backgroundcolor\":\"white\",\"gridcolor\":\"#DFE8F3\",\"gridwidth\":2,\"linecolor\":\"#EBF0F8\",\"showbackground\":true,\"ticks\":\"\",\"zerolinecolor\":\"#EBF0F8\"},\"zaxis\":{\"backgroundcolor\":\"white\",\"gridcolor\":\"#DFE8F3\",\"gridwidth\":2,\"linecolor\":\"#EBF0F8\",\"showbackground\":true,\"ticks\":\"\",\"zerolinecolor\":\"#EBF0F8\"}},\"shapedefaults\":{\"line\":{\"color\":\"#2a3f5f\"}},\"ternary\":{\"aaxis\":{\"gridcolor\":\"#DFE8F3\",\"linecolor\":\"#A2B1C6\",\"ticks\":\"\"},\"baxis\":{\"gridcolor\":\"#DFE8F3\",\"linecolor\":\"#A2B1C6\",\"ticks\":\"\"},\"bgcolor\":\"white\",\"caxis\":{\"gridcolor\":\"#DFE8F3\",\"linecolor\":\"#A2B1C6\",\"ticks\":\"\"}},\"title\":{\"x\":0.05},\"xaxis\":{\"automargin\":true,\"gridcolor\":\"#EBF0F8\",\"linecolor\":\"#EBF0F8\",\"ticks\":\"\",\"title\":{\"standoff\":15},\"zerolinecolor\":\"#EBF0F8\",\"zerolinewidth\":2},\"yaxis\":{\"automargin\":true,\"gridcolor\":\"#EBF0F8\",\"linecolor\":\"#EBF0F8\",\"ticks\":\"\",\"title\":{\"standoff\":15},\"zerolinecolor\":\"#EBF0F8\",\"zerolinewidth\":2}}},\"yaxis\":{\"title\":{\"text\":\"Size (pixels)\"},\"gridcolor\":\"rgba(128,128,128,0.5)\"},\"margin\":{\"l\":20,\"r\":20,\"b\":40,\"t\":20,\"pad\":0},\"autosize\":false,\"width\":1000,\"height\":600},                        {\"responsive\": true}                    ).then(function(){\n",
       "                            \n",
       "var gd = document.getElementById('32ddec2a-1fc6-4688-95d8-f4f0641c9bab');\n",
       "var x = new MutationObserver(function (mutations, observer) {{\n",
       "        var display = window.getComputedStyle(gd).display;\n",
       "        if (!display || display === 'none') {{\n",
       "            console.log([gd, 'removed!']);\n",
       "            Plotly.purge(gd);\n",
       "            observer.disconnect();\n",
       "        }}\n",
       "}});\n",
       "\n",
       "// Listen for the removal of the full notebook cells\n",
       "var notebookContainer = gd.closest('#notebook-container');\n",
       "if (notebookContainer) {{\n",
       "    x.observe(notebookContainer, {childList: true});\n",
       "}}\n",
       "\n",
       "// Listen for the clearing of the current output cell\n",
       "var outputEl = gd.closest('.output');\n",
       "if (outputEl) {{\n",
       "    x.observe(outputEl, {childList: true});\n",
       "}}\n",
       "\n",
       "                        })                };                });            </script>        </div>"
      ]
     },
     "metadata": {},
     "output_type": "display_data"
    }
   ],
   "source": [
    "plot_size_variability_plotly(['Width', 'Height', 'Depth'],\n",
    "                    [mean_width_coronal, mean_height_coronal, mean_depth_coronal],\n",
    "                    [std_width_coronal, std_height_coronal, std_depth_coronal], \n",
    "                    colors,\n",
    "                    'T2w Coronal',\n",
    "                    save_as_pdf=True)"
   ]
  },
  {
   "cell_type": "code",
   "execution_count": 73,
   "metadata": {},
   "outputs": [
    {
     "data": {
      "application/vnd.plotly.v1+json": {
       "config": {
        "plotlyServerURL": "https://plot.ly"
       },
       "data": [
        {
         "error_y": {
          "array": [
           60.41591525286765,
           60.41591525286765,
           5.232372469778978
          ],
          "type": "data",
          "visible": true
         },
         "marker": {
          "color": [
           "#efc86e",
           "#97c684",
           "#6f9969",
           "#aab5d5",
           "#808fe1",
           "#5c66a8",
           "#454a74"
          ]
         },
         "type": "bar",
         "x": [
          "Width",
          "Height",
          "Depth"
         ],
         "y": [
          490.88324873096445,
          490.88324873096445,
          24.360406091370557
         ]
        }
       ],
       "layout": {
        "autosize": false,
        "font": {
         "size": 15
        },
        "height": 600,
        "margin": {
         "b": 40,
         "l": 20,
         "pad": 0,
         "r": 20,
         "t": 20
        },
        "template": {
         "data": {
          "bar": [
           {
            "error_x": {
             "color": "#2a3f5f"
            },
            "error_y": {
             "color": "#2a3f5f"
            },
            "marker": {
             "line": {
              "color": "white",
              "width": 0.5
             },
             "pattern": {
              "fillmode": "overlay",
              "size": 10,
              "solidity": 0.2
             }
            },
            "type": "bar"
           }
          ],
          "barpolar": [
           {
            "marker": {
             "line": {
              "color": "white",
              "width": 0.5
             },
             "pattern": {
              "fillmode": "overlay",
              "size": 10,
              "solidity": 0.2
             }
            },
            "type": "barpolar"
           }
          ],
          "carpet": [
           {
            "aaxis": {
             "endlinecolor": "#2a3f5f",
             "gridcolor": "#C8D4E3",
             "linecolor": "#C8D4E3",
             "minorgridcolor": "#C8D4E3",
             "startlinecolor": "#2a3f5f"
            },
            "baxis": {
             "endlinecolor": "#2a3f5f",
             "gridcolor": "#C8D4E3",
             "linecolor": "#C8D4E3",
             "minorgridcolor": "#C8D4E3",
             "startlinecolor": "#2a3f5f"
            },
            "type": "carpet"
           }
          ],
          "choropleth": [
           {
            "colorbar": {
             "outlinewidth": 0,
             "ticks": ""
            },
            "type": "choropleth"
           }
          ],
          "contour": [
           {
            "colorbar": {
             "outlinewidth": 0,
             "ticks": ""
            },
            "colorscale": [
             [
              0,
              "#0d0887"
             ],
             [
              0.1111111111111111,
              "#46039f"
             ],
             [
              0.2222222222222222,
              "#7201a8"
             ],
             [
              0.3333333333333333,
              "#9c179e"
             ],
             [
              0.4444444444444444,
              "#bd3786"
             ],
             [
              0.5555555555555556,
              "#d8576b"
             ],
             [
              0.6666666666666666,
              "#ed7953"
             ],
             [
              0.7777777777777778,
              "#fb9f3a"
             ],
             [
              0.8888888888888888,
              "#fdca26"
             ],
             [
              1,
              "#f0f921"
             ]
            ],
            "type": "contour"
           }
          ],
          "contourcarpet": [
           {
            "colorbar": {
             "outlinewidth": 0,
             "ticks": ""
            },
            "type": "contourcarpet"
           }
          ],
          "heatmap": [
           {
            "colorbar": {
             "outlinewidth": 0,
             "ticks": ""
            },
            "colorscale": [
             [
              0,
              "#0d0887"
             ],
             [
              0.1111111111111111,
              "#46039f"
             ],
             [
              0.2222222222222222,
              "#7201a8"
             ],
             [
              0.3333333333333333,
              "#9c179e"
             ],
             [
              0.4444444444444444,
              "#bd3786"
             ],
             [
              0.5555555555555556,
              "#d8576b"
             ],
             [
              0.6666666666666666,
              "#ed7953"
             ],
             [
              0.7777777777777778,
              "#fb9f3a"
             ],
             [
              0.8888888888888888,
              "#fdca26"
             ],
             [
              1,
              "#f0f921"
             ]
            ],
            "type": "heatmap"
           }
          ],
          "heatmapgl": [
           {
            "colorbar": {
             "outlinewidth": 0,
             "ticks": ""
            },
            "colorscale": [
             [
              0,
              "#0d0887"
             ],
             [
              0.1111111111111111,
              "#46039f"
             ],
             [
              0.2222222222222222,
              "#7201a8"
             ],
             [
              0.3333333333333333,
              "#9c179e"
             ],
             [
              0.4444444444444444,
              "#bd3786"
             ],
             [
              0.5555555555555556,
              "#d8576b"
             ],
             [
              0.6666666666666666,
              "#ed7953"
             ],
             [
              0.7777777777777778,
              "#fb9f3a"
             ],
             [
              0.8888888888888888,
              "#fdca26"
             ],
             [
              1,
              "#f0f921"
             ]
            ],
            "type": "heatmapgl"
           }
          ],
          "histogram": [
           {
            "marker": {
             "pattern": {
              "fillmode": "overlay",
              "size": 10,
              "solidity": 0.2
             }
            },
            "type": "histogram"
           }
          ],
          "histogram2d": [
           {
            "colorbar": {
             "outlinewidth": 0,
             "ticks": ""
            },
            "colorscale": [
             [
              0,
              "#0d0887"
             ],
             [
              0.1111111111111111,
              "#46039f"
             ],
             [
              0.2222222222222222,
              "#7201a8"
             ],
             [
              0.3333333333333333,
              "#9c179e"
             ],
             [
              0.4444444444444444,
              "#bd3786"
             ],
             [
              0.5555555555555556,
              "#d8576b"
             ],
             [
              0.6666666666666666,
              "#ed7953"
             ],
             [
              0.7777777777777778,
              "#fb9f3a"
             ],
             [
              0.8888888888888888,
              "#fdca26"
             ],
             [
              1,
              "#f0f921"
             ]
            ],
            "type": "histogram2d"
           }
          ],
          "histogram2dcontour": [
           {
            "colorbar": {
             "outlinewidth": 0,
             "ticks": ""
            },
            "colorscale": [
             [
              0,
              "#0d0887"
             ],
             [
              0.1111111111111111,
              "#46039f"
             ],
             [
              0.2222222222222222,
              "#7201a8"
             ],
             [
              0.3333333333333333,
              "#9c179e"
             ],
             [
              0.4444444444444444,
              "#bd3786"
             ],
             [
              0.5555555555555556,
              "#d8576b"
             ],
             [
              0.6666666666666666,
              "#ed7953"
             ],
             [
              0.7777777777777778,
              "#fb9f3a"
             ],
             [
              0.8888888888888888,
              "#fdca26"
             ],
             [
              1,
              "#f0f921"
             ]
            ],
            "type": "histogram2dcontour"
           }
          ],
          "mesh3d": [
           {
            "colorbar": {
             "outlinewidth": 0,
             "ticks": ""
            },
            "type": "mesh3d"
           }
          ],
          "parcoords": [
           {
            "line": {
             "colorbar": {
              "outlinewidth": 0,
              "ticks": ""
             }
            },
            "type": "parcoords"
           }
          ],
          "pie": [
           {
            "automargin": true,
            "type": "pie"
           }
          ],
          "scatter": [
           {
            "fillpattern": {
             "fillmode": "overlay",
             "size": 10,
             "solidity": 0.2
            },
            "type": "scatter"
           }
          ],
          "scatter3d": [
           {
            "line": {
             "colorbar": {
              "outlinewidth": 0,
              "ticks": ""
             }
            },
            "marker": {
             "colorbar": {
              "outlinewidth": 0,
              "ticks": ""
             }
            },
            "type": "scatter3d"
           }
          ],
          "scattercarpet": [
           {
            "marker": {
             "colorbar": {
              "outlinewidth": 0,
              "ticks": ""
             }
            },
            "type": "scattercarpet"
           }
          ],
          "scattergeo": [
           {
            "marker": {
             "colorbar": {
              "outlinewidth": 0,
              "ticks": ""
             }
            },
            "type": "scattergeo"
           }
          ],
          "scattergl": [
           {
            "marker": {
             "colorbar": {
              "outlinewidth": 0,
              "ticks": ""
             }
            },
            "type": "scattergl"
           }
          ],
          "scattermapbox": [
           {
            "marker": {
             "colorbar": {
              "outlinewidth": 0,
              "ticks": ""
             }
            },
            "type": "scattermapbox"
           }
          ],
          "scatterpolar": [
           {
            "marker": {
             "colorbar": {
              "outlinewidth": 0,
              "ticks": ""
             }
            },
            "type": "scatterpolar"
           }
          ],
          "scatterpolargl": [
           {
            "marker": {
             "colorbar": {
              "outlinewidth": 0,
              "ticks": ""
             }
            },
            "type": "scatterpolargl"
           }
          ],
          "scatterternary": [
           {
            "marker": {
             "colorbar": {
              "outlinewidth": 0,
              "ticks": ""
             }
            },
            "type": "scatterternary"
           }
          ],
          "surface": [
           {
            "colorbar": {
             "outlinewidth": 0,
             "ticks": ""
            },
            "colorscale": [
             [
              0,
              "#0d0887"
             ],
             [
              0.1111111111111111,
              "#46039f"
             ],
             [
              0.2222222222222222,
              "#7201a8"
             ],
             [
              0.3333333333333333,
              "#9c179e"
             ],
             [
              0.4444444444444444,
              "#bd3786"
             ],
             [
              0.5555555555555556,
              "#d8576b"
             ],
             [
              0.6666666666666666,
              "#ed7953"
             ],
             [
              0.7777777777777778,
              "#fb9f3a"
             ],
             [
              0.8888888888888888,
              "#fdca26"
             ],
             [
              1,
              "#f0f921"
             ]
            ],
            "type": "surface"
           }
          ],
          "table": [
           {
            "cells": {
             "fill": {
              "color": "#EBF0F8"
             },
             "line": {
              "color": "white"
             }
            },
            "header": {
             "fill": {
              "color": "#C8D4E3"
             },
             "line": {
              "color": "white"
             }
            },
            "type": "table"
           }
          ]
         },
         "layout": {
          "annotationdefaults": {
           "arrowcolor": "#2a3f5f",
           "arrowhead": 0,
           "arrowwidth": 1
          },
          "autotypenumbers": "strict",
          "coloraxis": {
           "colorbar": {
            "outlinewidth": 0,
            "ticks": ""
           }
          },
          "colorscale": {
           "diverging": [
            [
             0,
             "#8e0152"
            ],
            [
             0.1,
             "#c51b7d"
            ],
            [
             0.2,
             "#de77ae"
            ],
            [
             0.3,
             "#f1b6da"
            ],
            [
             0.4,
             "#fde0ef"
            ],
            [
             0.5,
             "#f7f7f7"
            ],
            [
             0.6,
             "#e6f5d0"
            ],
            [
             0.7,
             "#b8e186"
            ],
            [
             0.8,
             "#7fbc41"
            ],
            [
             0.9,
             "#4d9221"
            ],
            [
             1,
             "#276419"
            ]
           ],
           "sequential": [
            [
             0,
             "#0d0887"
            ],
            [
             0.1111111111111111,
             "#46039f"
            ],
            [
             0.2222222222222222,
             "#7201a8"
            ],
            [
             0.3333333333333333,
             "#9c179e"
            ],
            [
             0.4444444444444444,
             "#bd3786"
            ],
            [
             0.5555555555555556,
             "#d8576b"
            ],
            [
             0.6666666666666666,
             "#ed7953"
            ],
            [
             0.7777777777777778,
             "#fb9f3a"
            ],
            [
             0.8888888888888888,
             "#fdca26"
            ],
            [
             1,
             "#f0f921"
            ]
           ],
           "sequentialminus": [
            [
             0,
             "#0d0887"
            ],
            [
             0.1111111111111111,
             "#46039f"
            ],
            [
             0.2222222222222222,
             "#7201a8"
            ],
            [
             0.3333333333333333,
             "#9c179e"
            ],
            [
             0.4444444444444444,
             "#bd3786"
            ],
            [
             0.5555555555555556,
             "#d8576b"
            ],
            [
             0.6666666666666666,
             "#ed7953"
            ],
            [
             0.7777777777777778,
             "#fb9f3a"
            ],
            [
             0.8888888888888888,
             "#fdca26"
            ],
            [
             1,
             "#f0f921"
            ]
           ]
          },
          "colorway": [
           "#636efa",
           "#EF553B",
           "#00cc96",
           "#ab63fa",
           "#FFA15A",
           "#19d3f3",
           "#FF6692",
           "#B6E880",
           "#FF97FF",
           "#FECB52"
          ],
          "font": {
           "color": "#2a3f5f"
          },
          "geo": {
           "bgcolor": "white",
           "lakecolor": "white",
           "landcolor": "white",
           "showlakes": true,
           "showland": true,
           "subunitcolor": "#C8D4E3"
          },
          "hoverlabel": {
           "align": "left"
          },
          "hovermode": "closest",
          "mapbox": {
           "style": "light"
          },
          "paper_bgcolor": "white",
          "plot_bgcolor": "white",
          "polar": {
           "angularaxis": {
            "gridcolor": "#EBF0F8",
            "linecolor": "#EBF0F8",
            "ticks": ""
           },
           "bgcolor": "white",
           "radialaxis": {
            "gridcolor": "#EBF0F8",
            "linecolor": "#EBF0F8",
            "ticks": ""
           }
          },
          "scene": {
           "xaxis": {
            "backgroundcolor": "white",
            "gridcolor": "#DFE8F3",
            "gridwidth": 2,
            "linecolor": "#EBF0F8",
            "showbackground": true,
            "ticks": "",
            "zerolinecolor": "#EBF0F8"
           },
           "yaxis": {
            "backgroundcolor": "white",
            "gridcolor": "#DFE8F3",
            "gridwidth": 2,
            "linecolor": "#EBF0F8",
            "showbackground": true,
            "ticks": "",
            "zerolinecolor": "#EBF0F8"
           },
           "zaxis": {
            "backgroundcolor": "white",
            "gridcolor": "#DFE8F3",
            "gridwidth": 2,
            "linecolor": "#EBF0F8",
            "showbackground": true,
            "ticks": "",
            "zerolinecolor": "#EBF0F8"
           }
          },
          "shapedefaults": {
           "line": {
            "color": "#2a3f5f"
           }
          },
          "ternary": {
           "aaxis": {
            "gridcolor": "#DFE8F3",
            "linecolor": "#A2B1C6",
            "ticks": ""
           },
           "baxis": {
            "gridcolor": "#DFE8F3",
            "linecolor": "#A2B1C6",
            "ticks": ""
           },
           "bgcolor": "white",
           "caxis": {
            "gridcolor": "#DFE8F3",
            "linecolor": "#A2B1C6",
            "ticks": ""
           }
          },
          "title": {
           "x": 0.05
          },
          "xaxis": {
           "automargin": true,
           "gridcolor": "#EBF0F8",
           "linecolor": "#EBF0F8",
           "ticks": "",
           "title": {
            "standoff": 15
           },
           "zerolinecolor": "#EBF0F8",
           "zerolinewidth": 2
          },
          "yaxis": {
           "automargin": true,
           "gridcolor": "#EBF0F8",
           "linecolor": "#EBF0F8",
           "ticks": "",
           "title": {
            "standoff": 15
           },
           "zerolinecolor": "#EBF0F8",
           "zerolinewidth": 2
          }
         }
        },
        "width": 1000,
        "yaxis": {
         "gridcolor": "rgba(128,128,128,0.5)",
         "title": {
          "text": "Size (pixels)"
         }
        }
       }
      },
      "text/html": [
       "<div>                            <div id=\"66c8f142-7057-4868-b462-8c2137797b42\" class=\"plotly-graph-div\" style=\"height:600px; width:1000px;\"></div>            <script type=\"text/javascript\">                require([\"plotly\"], function(Plotly) {                    window.PLOTLYENV=window.PLOTLYENV || {};                                    if (document.getElementById(\"66c8f142-7057-4868-b462-8c2137797b42\")) {                    Plotly.newPlot(                        \"66c8f142-7057-4868-b462-8c2137797b42\",                        [{\"error_y\":{\"array\":[60.41591525286765,60.41591525286765,5.232372469778978],\"type\":\"data\",\"visible\":true},\"marker\":{\"color\":[\"#efc86e\",\"#97c684\",\"#6f9969\",\"#aab5d5\",\"#808fe1\",\"#5c66a8\",\"#454a74\"]},\"x\":[\"Width\",\"Height\",\"Depth\"],\"y\":[490.88324873096445,490.88324873096445,24.360406091370557],\"type\":\"bar\"}],                        {\"font\":{\"size\":15},\"template\":{\"data\":{\"barpolar\":[{\"marker\":{\"line\":{\"color\":\"white\",\"width\":0.5},\"pattern\":{\"fillmode\":\"overlay\",\"size\":10,\"solidity\":0.2}},\"type\":\"barpolar\"}],\"bar\":[{\"error_x\":{\"color\":\"#2a3f5f\"},\"error_y\":{\"color\":\"#2a3f5f\"},\"marker\":{\"line\":{\"color\":\"white\",\"width\":0.5},\"pattern\":{\"fillmode\":\"overlay\",\"size\":10,\"solidity\":0.2}},\"type\":\"bar\"}],\"carpet\":[{\"aaxis\":{\"endlinecolor\":\"#2a3f5f\",\"gridcolor\":\"#C8D4E3\",\"linecolor\":\"#C8D4E3\",\"minorgridcolor\":\"#C8D4E3\",\"startlinecolor\":\"#2a3f5f\"},\"baxis\":{\"endlinecolor\":\"#2a3f5f\",\"gridcolor\":\"#C8D4E3\",\"linecolor\":\"#C8D4E3\",\"minorgridcolor\":\"#C8D4E3\",\"startlinecolor\":\"#2a3f5f\"},\"type\":\"carpet\"}],\"choropleth\":[{\"colorbar\":{\"outlinewidth\":0,\"ticks\":\"\"},\"type\":\"choropleth\"}],\"contourcarpet\":[{\"colorbar\":{\"outlinewidth\":0,\"ticks\":\"\"},\"type\":\"contourcarpet\"}],\"contour\":[{\"colorbar\":{\"outlinewidth\":0,\"ticks\":\"\"},\"colorscale\":[[0.0,\"#0d0887\"],[0.1111111111111111,\"#46039f\"],[0.2222222222222222,\"#7201a8\"],[0.3333333333333333,\"#9c179e\"],[0.4444444444444444,\"#bd3786\"],[0.5555555555555556,\"#d8576b\"],[0.6666666666666666,\"#ed7953\"],[0.7777777777777778,\"#fb9f3a\"],[0.8888888888888888,\"#fdca26\"],[1.0,\"#f0f921\"]],\"type\":\"contour\"}],\"heatmapgl\":[{\"colorbar\":{\"outlinewidth\":0,\"ticks\":\"\"},\"colorscale\":[[0.0,\"#0d0887\"],[0.1111111111111111,\"#46039f\"],[0.2222222222222222,\"#7201a8\"],[0.3333333333333333,\"#9c179e\"],[0.4444444444444444,\"#bd3786\"],[0.5555555555555556,\"#d8576b\"],[0.6666666666666666,\"#ed7953\"],[0.7777777777777778,\"#fb9f3a\"],[0.8888888888888888,\"#fdca26\"],[1.0,\"#f0f921\"]],\"type\":\"heatmapgl\"}],\"heatmap\":[{\"colorbar\":{\"outlinewidth\":0,\"ticks\":\"\"},\"colorscale\":[[0.0,\"#0d0887\"],[0.1111111111111111,\"#46039f\"],[0.2222222222222222,\"#7201a8\"],[0.3333333333333333,\"#9c179e\"],[0.4444444444444444,\"#bd3786\"],[0.5555555555555556,\"#d8576b\"],[0.6666666666666666,\"#ed7953\"],[0.7777777777777778,\"#fb9f3a\"],[0.8888888888888888,\"#fdca26\"],[1.0,\"#f0f921\"]],\"type\":\"heatmap\"}],\"histogram2dcontour\":[{\"colorbar\":{\"outlinewidth\":0,\"ticks\":\"\"},\"colorscale\":[[0.0,\"#0d0887\"],[0.1111111111111111,\"#46039f\"],[0.2222222222222222,\"#7201a8\"],[0.3333333333333333,\"#9c179e\"],[0.4444444444444444,\"#bd3786\"],[0.5555555555555556,\"#d8576b\"],[0.6666666666666666,\"#ed7953\"],[0.7777777777777778,\"#fb9f3a\"],[0.8888888888888888,\"#fdca26\"],[1.0,\"#f0f921\"]],\"type\":\"histogram2dcontour\"}],\"histogram2d\":[{\"colorbar\":{\"outlinewidth\":0,\"ticks\":\"\"},\"colorscale\":[[0.0,\"#0d0887\"],[0.1111111111111111,\"#46039f\"],[0.2222222222222222,\"#7201a8\"],[0.3333333333333333,\"#9c179e\"],[0.4444444444444444,\"#bd3786\"],[0.5555555555555556,\"#d8576b\"],[0.6666666666666666,\"#ed7953\"],[0.7777777777777778,\"#fb9f3a\"],[0.8888888888888888,\"#fdca26\"],[1.0,\"#f0f921\"]],\"type\":\"histogram2d\"}],\"histogram\":[{\"marker\":{\"pattern\":{\"fillmode\":\"overlay\",\"size\":10,\"solidity\":0.2}},\"type\":\"histogram\"}],\"mesh3d\":[{\"colorbar\":{\"outlinewidth\":0,\"ticks\":\"\"},\"type\":\"mesh3d\"}],\"parcoords\":[{\"line\":{\"colorbar\":{\"outlinewidth\":0,\"ticks\":\"\"}},\"type\":\"parcoords\"}],\"pie\":[{\"automargin\":true,\"type\":\"pie\"}],\"scatter3d\":[{\"line\":{\"colorbar\":{\"outlinewidth\":0,\"ticks\":\"\"}},\"marker\":{\"colorbar\":{\"outlinewidth\":0,\"ticks\":\"\"}},\"type\":\"scatter3d\"}],\"scattercarpet\":[{\"marker\":{\"colorbar\":{\"outlinewidth\":0,\"ticks\":\"\"}},\"type\":\"scattercarpet\"}],\"scattergeo\":[{\"marker\":{\"colorbar\":{\"outlinewidth\":0,\"ticks\":\"\"}},\"type\":\"scattergeo\"}],\"scattergl\":[{\"marker\":{\"colorbar\":{\"outlinewidth\":0,\"ticks\":\"\"}},\"type\":\"scattergl\"}],\"scattermapbox\":[{\"marker\":{\"colorbar\":{\"outlinewidth\":0,\"ticks\":\"\"}},\"type\":\"scattermapbox\"}],\"scatterpolargl\":[{\"marker\":{\"colorbar\":{\"outlinewidth\":0,\"ticks\":\"\"}},\"type\":\"scatterpolargl\"}],\"scatterpolar\":[{\"marker\":{\"colorbar\":{\"outlinewidth\":0,\"ticks\":\"\"}},\"type\":\"scatterpolar\"}],\"scatter\":[{\"fillpattern\":{\"fillmode\":\"overlay\",\"size\":10,\"solidity\":0.2},\"type\":\"scatter\"}],\"scatterternary\":[{\"marker\":{\"colorbar\":{\"outlinewidth\":0,\"ticks\":\"\"}},\"type\":\"scatterternary\"}],\"surface\":[{\"colorbar\":{\"outlinewidth\":0,\"ticks\":\"\"},\"colorscale\":[[0.0,\"#0d0887\"],[0.1111111111111111,\"#46039f\"],[0.2222222222222222,\"#7201a8\"],[0.3333333333333333,\"#9c179e\"],[0.4444444444444444,\"#bd3786\"],[0.5555555555555556,\"#d8576b\"],[0.6666666666666666,\"#ed7953\"],[0.7777777777777778,\"#fb9f3a\"],[0.8888888888888888,\"#fdca26\"],[1.0,\"#f0f921\"]],\"type\":\"surface\"}],\"table\":[{\"cells\":{\"fill\":{\"color\":\"#EBF0F8\"},\"line\":{\"color\":\"white\"}},\"header\":{\"fill\":{\"color\":\"#C8D4E3\"},\"line\":{\"color\":\"white\"}},\"type\":\"table\"}]},\"layout\":{\"annotationdefaults\":{\"arrowcolor\":\"#2a3f5f\",\"arrowhead\":0,\"arrowwidth\":1},\"autotypenumbers\":\"strict\",\"coloraxis\":{\"colorbar\":{\"outlinewidth\":0,\"ticks\":\"\"}},\"colorscale\":{\"diverging\":[[0,\"#8e0152\"],[0.1,\"#c51b7d\"],[0.2,\"#de77ae\"],[0.3,\"#f1b6da\"],[0.4,\"#fde0ef\"],[0.5,\"#f7f7f7\"],[0.6,\"#e6f5d0\"],[0.7,\"#b8e186\"],[0.8,\"#7fbc41\"],[0.9,\"#4d9221\"],[1,\"#276419\"]],\"sequential\":[[0.0,\"#0d0887\"],[0.1111111111111111,\"#46039f\"],[0.2222222222222222,\"#7201a8\"],[0.3333333333333333,\"#9c179e\"],[0.4444444444444444,\"#bd3786\"],[0.5555555555555556,\"#d8576b\"],[0.6666666666666666,\"#ed7953\"],[0.7777777777777778,\"#fb9f3a\"],[0.8888888888888888,\"#fdca26\"],[1.0,\"#f0f921\"]],\"sequentialminus\":[[0.0,\"#0d0887\"],[0.1111111111111111,\"#46039f\"],[0.2222222222222222,\"#7201a8\"],[0.3333333333333333,\"#9c179e\"],[0.4444444444444444,\"#bd3786\"],[0.5555555555555556,\"#d8576b\"],[0.6666666666666666,\"#ed7953\"],[0.7777777777777778,\"#fb9f3a\"],[0.8888888888888888,\"#fdca26\"],[1.0,\"#f0f921\"]]},\"colorway\":[\"#636efa\",\"#EF553B\",\"#00cc96\",\"#ab63fa\",\"#FFA15A\",\"#19d3f3\",\"#FF6692\",\"#B6E880\",\"#FF97FF\",\"#FECB52\"],\"font\":{\"color\":\"#2a3f5f\"},\"geo\":{\"bgcolor\":\"white\",\"lakecolor\":\"white\",\"landcolor\":\"white\",\"showlakes\":true,\"showland\":true,\"subunitcolor\":\"#C8D4E3\"},\"hoverlabel\":{\"align\":\"left\"},\"hovermode\":\"closest\",\"mapbox\":{\"style\":\"light\"},\"paper_bgcolor\":\"white\",\"plot_bgcolor\":\"white\",\"polar\":{\"angularaxis\":{\"gridcolor\":\"#EBF0F8\",\"linecolor\":\"#EBF0F8\",\"ticks\":\"\"},\"bgcolor\":\"white\",\"radialaxis\":{\"gridcolor\":\"#EBF0F8\",\"linecolor\":\"#EBF0F8\",\"ticks\":\"\"}},\"scene\":{\"xaxis\":{\"backgroundcolor\":\"white\",\"gridcolor\":\"#DFE8F3\",\"gridwidth\":2,\"linecolor\":\"#EBF0F8\",\"showbackground\":true,\"ticks\":\"\",\"zerolinecolor\":\"#EBF0F8\"},\"yaxis\":{\"backgroundcolor\":\"white\",\"gridcolor\":\"#DFE8F3\",\"gridwidth\":2,\"linecolor\":\"#EBF0F8\",\"showbackground\":true,\"ticks\":\"\",\"zerolinecolor\":\"#EBF0F8\"},\"zaxis\":{\"backgroundcolor\":\"white\",\"gridcolor\":\"#DFE8F3\",\"gridwidth\":2,\"linecolor\":\"#EBF0F8\",\"showbackground\":true,\"ticks\":\"\",\"zerolinecolor\":\"#EBF0F8\"}},\"shapedefaults\":{\"line\":{\"color\":\"#2a3f5f\"}},\"ternary\":{\"aaxis\":{\"gridcolor\":\"#DFE8F3\",\"linecolor\":\"#A2B1C6\",\"ticks\":\"\"},\"baxis\":{\"gridcolor\":\"#DFE8F3\",\"linecolor\":\"#A2B1C6\",\"ticks\":\"\"},\"bgcolor\":\"white\",\"caxis\":{\"gridcolor\":\"#DFE8F3\",\"linecolor\":\"#A2B1C6\",\"ticks\":\"\"}},\"title\":{\"x\":0.05},\"xaxis\":{\"automargin\":true,\"gridcolor\":\"#EBF0F8\",\"linecolor\":\"#EBF0F8\",\"ticks\":\"\",\"title\":{\"standoff\":15},\"zerolinecolor\":\"#EBF0F8\",\"zerolinewidth\":2},\"yaxis\":{\"automargin\":true,\"gridcolor\":\"#EBF0F8\",\"linecolor\":\"#EBF0F8\",\"ticks\":\"\",\"title\":{\"standoff\":15},\"zerolinecolor\":\"#EBF0F8\",\"zerolinewidth\":2}}},\"yaxis\":{\"title\":{\"text\":\"Size (pixels)\"},\"gridcolor\":\"rgba(128,128,128,0.5)\"},\"margin\":{\"l\":20,\"r\":20,\"b\":40,\"t\":20,\"pad\":0},\"autosize\":false,\"width\":1000,\"height\":600},                        {\"responsive\": true}                    ).then(function(){\n",
       "                            \n",
       "var gd = document.getElementById('66c8f142-7057-4868-b462-8c2137797b42');\n",
       "var x = new MutationObserver(function (mutations, observer) {{\n",
       "        var display = window.getComputedStyle(gd).display;\n",
       "        if (!display || display === 'none') {{\n",
       "            console.log([gd, 'removed!']);\n",
       "            Plotly.purge(gd);\n",
       "            observer.disconnect();\n",
       "        }}\n",
       "}});\n",
       "\n",
       "// Listen for the removal of the full notebook cells\n",
       "var notebookContainer = gd.closest('#notebook-container');\n",
       "if (notebookContainer) {{\n",
       "    x.observe(notebookContainer, {childList: true});\n",
       "}}\n",
       "\n",
       "// Listen for the clearing of the current output cell\n",
       "var outputEl = gd.closest('.output');\n",
       "if (outputEl) {{\n",
       "    x.observe(outputEl, {childList: true});\n",
       "}}\n",
       "\n",
       "                        })                };                });            </script>        </div>"
      ]
     },
     "metadata": {},
     "output_type": "display_data"
    }
   ],
   "source": [
    "plot_size_variability_plotly(['Width', 'Height', 'Depth'],\n",
    "                    [mean_width_sagital, mean_height_sagital, mean_depth_sagital],\n",
    "                    [std_width_sagital, std_height_sagital, std_depth_sagital], \n",
    "                    colors,\n",
    "                    'T2w Sagital',\n",
    "                    save_as_pdf=True)"
   ]
  },
  {
   "cell_type": "code",
   "execution_count": 119,
   "metadata": {},
   "outputs": [
    {
     "data": {
      "application/vnd.plotly.v1+json": {
       "config": {
        "plotlyServerURL": "https://plot.ly"
       },
       "data": [
        {
         "error_y": {
          "array": [
           91.96349248814597,
           91.96349248814597,
           10.875542967698195
          ],
          "type": "data",
          "visible": true
         },
         "marker": {
          "color": "#454a74"
         },
         "name": "Axial",
         "type": "bar",
         "x": [
          0,
          1,
          2
         ],
         "y": [
          484.8888888888889,
          484.8888888888889,
          32.51851851851852
         ]
        },
        {
         "error_y": {
          "array": [
           78.29591652408227,
           78.29591652408227,
           4.229138771446171
          ],
          "type": "data",
          "visible": true
         },
         "marker": {
          "color": "#808fe1"
         },
         "name": "Coronal",
         "type": "bar",
         "x": [
          0.25,
          1.25,
          2.25
         ],
         "y": [
          466.12048192771084,
          466.12048192771084,
          25.55421686746988
         ]
        },
        {
         "error_y": {
          "array": [
           60.41591525286765,
           60.41591525286765,
           5.232372469778978
          ],
          "type": "data",
          "visible": true
         },
         "marker": {
          "color": "#97c684"
         },
         "name": "Sagital",
         "type": "bar",
         "x": [
          0.5,
          1.5,
          2.5
         ],
         "y": [
          490.88324873096445,
          490.88324873096445,
          24.360406091370557
         ]
        }
       ],
       "layout": {
        "barmode": "group",
        "font": {
         "size": 20
        },
        "height": 600,
        "margin": {
         "b": 40,
         "l": 20,
         "pad": 0,
         "r": 20,
         "t": 20
        },
        "template": {
         "data": {
          "bar": [
           {
            "error_x": {
             "color": "#2a3f5f"
            },
            "error_y": {
             "color": "#2a3f5f"
            },
            "marker": {
             "line": {
              "color": "white",
              "width": 0.5
             },
             "pattern": {
              "fillmode": "overlay",
              "size": 10,
              "solidity": 0.2
             }
            },
            "type": "bar"
           }
          ],
          "barpolar": [
           {
            "marker": {
             "line": {
              "color": "white",
              "width": 0.5
             },
             "pattern": {
              "fillmode": "overlay",
              "size": 10,
              "solidity": 0.2
             }
            },
            "type": "barpolar"
           }
          ],
          "carpet": [
           {
            "aaxis": {
             "endlinecolor": "#2a3f5f",
             "gridcolor": "#C8D4E3",
             "linecolor": "#C8D4E3",
             "minorgridcolor": "#C8D4E3",
             "startlinecolor": "#2a3f5f"
            },
            "baxis": {
             "endlinecolor": "#2a3f5f",
             "gridcolor": "#C8D4E3",
             "linecolor": "#C8D4E3",
             "minorgridcolor": "#C8D4E3",
             "startlinecolor": "#2a3f5f"
            },
            "type": "carpet"
           }
          ],
          "choropleth": [
           {
            "colorbar": {
             "outlinewidth": 0,
             "ticks": ""
            },
            "type": "choropleth"
           }
          ],
          "contour": [
           {
            "colorbar": {
             "outlinewidth": 0,
             "ticks": ""
            },
            "colorscale": [
             [
              0,
              "#0d0887"
             ],
             [
              0.1111111111111111,
              "#46039f"
             ],
             [
              0.2222222222222222,
              "#7201a8"
             ],
             [
              0.3333333333333333,
              "#9c179e"
             ],
             [
              0.4444444444444444,
              "#bd3786"
             ],
             [
              0.5555555555555556,
              "#d8576b"
             ],
             [
              0.6666666666666666,
              "#ed7953"
             ],
             [
              0.7777777777777778,
              "#fb9f3a"
             ],
             [
              0.8888888888888888,
              "#fdca26"
             ],
             [
              1,
              "#f0f921"
             ]
            ],
            "type": "contour"
           }
          ],
          "contourcarpet": [
           {
            "colorbar": {
             "outlinewidth": 0,
             "ticks": ""
            },
            "type": "contourcarpet"
           }
          ],
          "heatmap": [
           {
            "colorbar": {
             "outlinewidth": 0,
             "ticks": ""
            },
            "colorscale": [
             [
              0,
              "#0d0887"
             ],
             [
              0.1111111111111111,
              "#46039f"
             ],
             [
              0.2222222222222222,
              "#7201a8"
             ],
             [
              0.3333333333333333,
              "#9c179e"
             ],
             [
              0.4444444444444444,
              "#bd3786"
             ],
             [
              0.5555555555555556,
              "#d8576b"
             ],
             [
              0.6666666666666666,
              "#ed7953"
             ],
             [
              0.7777777777777778,
              "#fb9f3a"
             ],
             [
              0.8888888888888888,
              "#fdca26"
             ],
             [
              1,
              "#f0f921"
             ]
            ],
            "type": "heatmap"
           }
          ],
          "heatmapgl": [
           {
            "colorbar": {
             "outlinewidth": 0,
             "ticks": ""
            },
            "colorscale": [
             [
              0,
              "#0d0887"
             ],
             [
              0.1111111111111111,
              "#46039f"
             ],
             [
              0.2222222222222222,
              "#7201a8"
             ],
             [
              0.3333333333333333,
              "#9c179e"
             ],
             [
              0.4444444444444444,
              "#bd3786"
             ],
             [
              0.5555555555555556,
              "#d8576b"
             ],
             [
              0.6666666666666666,
              "#ed7953"
             ],
             [
              0.7777777777777778,
              "#fb9f3a"
             ],
             [
              0.8888888888888888,
              "#fdca26"
             ],
             [
              1,
              "#f0f921"
             ]
            ],
            "type": "heatmapgl"
           }
          ],
          "histogram": [
           {
            "marker": {
             "pattern": {
              "fillmode": "overlay",
              "size": 10,
              "solidity": 0.2
             }
            },
            "type": "histogram"
           }
          ],
          "histogram2d": [
           {
            "colorbar": {
             "outlinewidth": 0,
             "ticks": ""
            },
            "colorscale": [
             [
              0,
              "#0d0887"
             ],
             [
              0.1111111111111111,
              "#46039f"
             ],
             [
              0.2222222222222222,
              "#7201a8"
             ],
             [
              0.3333333333333333,
              "#9c179e"
             ],
             [
              0.4444444444444444,
              "#bd3786"
             ],
             [
              0.5555555555555556,
              "#d8576b"
             ],
             [
              0.6666666666666666,
              "#ed7953"
             ],
             [
              0.7777777777777778,
              "#fb9f3a"
             ],
             [
              0.8888888888888888,
              "#fdca26"
             ],
             [
              1,
              "#f0f921"
             ]
            ],
            "type": "histogram2d"
           }
          ],
          "histogram2dcontour": [
           {
            "colorbar": {
             "outlinewidth": 0,
             "ticks": ""
            },
            "colorscale": [
             [
              0,
              "#0d0887"
             ],
             [
              0.1111111111111111,
              "#46039f"
             ],
             [
              0.2222222222222222,
              "#7201a8"
             ],
             [
              0.3333333333333333,
              "#9c179e"
             ],
             [
              0.4444444444444444,
              "#bd3786"
             ],
             [
              0.5555555555555556,
              "#d8576b"
             ],
             [
              0.6666666666666666,
              "#ed7953"
             ],
             [
              0.7777777777777778,
              "#fb9f3a"
             ],
             [
              0.8888888888888888,
              "#fdca26"
             ],
             [
              1,
              "#f0f921"
             ]
            ],
            "type": "histogram2dcontour"
           }
          ],
          "mesh3d": [
           {
            "colorbar": {
             "outlinewidth": 0,
             "ticks": ""
            },
            "type": "mesh3d"
           }
          ],
          "parcoords": [
           {
            "line": {
             "colorbar": {
              "outlinewidth": 0,
              "ticks": ""
             }
            },
            "type": "parcoords"
           }
          ],
          "pie": [
           {
            "automargin": true,
            "type": "pie"
           }
          ],
          "scatter": [
           {
            "fillpattern": {
             "fillmode": "overlay",
             "size": 10,
             "solidity": 0.2
            },
            "type": "scatter"
           }
          ],
          "scatter3d": [
           {
            "line": {
             "colorbar": {
              "outlinewidth": 0,
              "ticks": ""
             }
            },
            "marker": {
             "colorbar": {
              "outlinewidth": 0,
              "ticks": ""
             }
            },
            "type": "scatter3d"
           }
          ],
          "scattercarpet": [
           {
            "marker": {
             "colorbar": {
              "outlinewidth": 0,
              "ticks": ""
             }
            },
            "type": "scattercarpet"
           }
          ],
          "scattergeo": [
           {
            "marker": {
             "colorbar": {
              "outlinewidth": 0,
              "ticks": ""
             }
            },
            "type": "scattergeo"
           }
          ],
          "scattergl": [
           {
            "marker": {
             "colorbar": {
              "outlinewidth": 0,
              "ticks": ""
             }
            },
            "type": "scattergl"
           }
          ],
          "scattermapbox": [
           {
            "marker": {
             "colorbar": {
              "outlinewidth": 0,
              "ticks": ""
             }
            },
            "type": "scattermapbox"
           }
          ],
          "scatterpolar": [
           {
            "marker": {
             "colorbar": {
              "outlinewidth": 0,
              "ticks": ""
             }
            },
            "type": "scatterpolar"
           }
          ],
          "scatterpolargl": [
           {
            "marker": {
             "colorbar": {
              "outlinewidth": 0,
              "ticks": ""
             }
            },
            "type": "scatterpolargl"
           }
          ],
          "scatterternary": [
           {
            "marker": {
             "colorbar": {
              "outlinewidth": 0,
              "ticks": ""
             }
            },
            "type": "scatterternary"
           }
          ],
          "surface": [
           {
            "colorbar": {
             "outlinewidth": 0,
             "ticks": ""
            },
            "colorscale": [
             [
              0,
              "#0d0887"
             ],
             [
              0.1111111111111111,
              "#46039f"
             ],
             [
              0.2222222222222222,
              "#7201a8"
             ],
             [
              0.3333333333333333,
              "#9c179e"
             ],
             [
              0.4444444444444444,
              "#bd3786"
             ],
             [
              0.5555555555555556,
              "#d8576b"
             ],
             [
              0.6666666666666666,
              "#ed7953"
             ],
             [
              0.7777777777777778,
              "#fb9f3a"
             ],
             [
              0.8888888888888888,
              "#fdca26"
             ],
             [
              1,
              "#f0f921"
             ]
            ],
            "type": "surface"
           }
          ],
          "table": [
           {
            "cells": {
             "fill": {
              "color": "#EBF0F8"
             },
             "line": {
              "color": "white"
             }
            },
            "header": {
             "fill": {
              "color": "#C8D4E3"
             },
             "line": {
              "color": "white"
             }
            },
            "type": "table"
           }
          ]
         },
         "layout": {
          "annotationdefaults": {
           "arrowcolor": "#2a3f5f",
           "arrowhead": 0,
           "arrowwidth": 1
          },
          "autotypenumbers": "strict",
          "coloraxis": {
           "colorbar": {
            "outlinewidth": 0,
            "ticks": ""
           }
          },
          "colorscale": {
           "diverging": [
            [
             0,
             "#8e0152"
            ],
            [
             0.1,
             "#c51b7d"
            ],
            [
             0.2,
             "#de77ae"
            ],
            [
             0.3,
             "#f1b6da"
            ],
            [
             0.4,
             "#fde0ef"
            ],
            [
             0.5,
             "#f7f7f7"
            ],
            [
             0.6,
             "#e6f5d0"
            ],
            [
             0.7,
             "#b8e186"
            ],
            [
             0.8,
             "#7fbc41"
            ],
            [
             0.9,
             "#4d9221"
            ],
            [
             1,
             "#276419"
            ]
           ],
           "sequential": [
            [
             0,
             "#0d0887"
            ],
            [
             0.1111111111111111,
             "#46039f"
            ],
            [
             0.2222222222222222,
             "#7201a8"
            ],
            [
             0.3333333333333333,
             "#9c179e"
            ],
            [
             0.4444444444444444,
             "#bd3786"
            ],
            [
             0.5555555555555556,
             "#d8576b"
            ],
            [
             0.6666666666666666,
             "#ed7953"
            ],
            [
             0.7777777777777778,
             "#fb9f3a"
            ],
            [
             0.8888888888888888,
             "#fdca26"
            ],
            [
             1,
             "#f0f921"
            ]
           ],
           "sequentialminus": [
            [
             0,
             "#0d0887"
            ],
            [
             0.1111111111111111,
             "#46039f"
            ],
            [
             0.2222222222222222,
             "#7201a8"
            ],
            [
             0.3333333333333333,
             "#9c179e"
            ],
            [
             0.4444444444444444,
             "#bd3786"
            ],
            [
             0.5555555555555556,
             "#d8576b"
            ],
            [
             0.6666666666666666,
             "#ed7953"
            ],
            [
             0.7777777777777778,
             "#fb9f3a"
            ],
            [
             0.8888888888888888,
             "#fdca26"
            ],
            [
             1,
             "#f0f921"
            ]
           ]
          },
          "colorway": [
           "#636efa",
           "#EF553B",
           "#00cc96",
           "#ab63fa",
           "#FFA15A",
           "#19d3f3",
           "#FF6692",
           "#B6E880",
           "#FF97FF",
           "#FECB52"
          ],
          "font": {
           "color": "#2a3f5f"
          },
          "geo": {
           "bgcolor": "white",
           "lakecolor": "white",
           "landcolor": "white",
           "showlakes": true,
           "showland": true,
           "subunitcolor": "#C8D4E3"
          },
          "hoverlabel": {
           "align": "left"
          },
          "hovermode": "closest",
          "mapbox": {
           "style": "light"
          },
          "paper_bgcolor": "white",
          "plot_bgcolor": "white",
          "polar": {
           "angularaxis": {
            "gridcolor": "#EBF0F8",
            "linecolor": "#EBF0F8",
            "ticks": ""
           },
           "bgcolor": "white",
           "radialaxis": {
            "gridcolor": "#EBF0F8",
            "linecolor": "#EBF0F8",
            "ticks": ""
           }
          },
          "scene": {
           "xaxis": {
            "backgroundcolor": "white",
            "gridcolor": "#DFE8F3",
            "gridwidth": 2,
            "linecolor": "#EBF0F8",
            "showbackground": true,
            "ticks": "",
            "zerolinecolor": "#EBF0F8"
           },
           "yaxis": {
            "backgroundcolor": "white",
            "gridcolor": "#DFE8F3",
            "gridwidth": 2,
            "linecolor": "#EBF0F8",
            "showbackground": true,
            "ticks": "",
            "zerolinecolor": "#EBF0F8"
           },
           "zaxis": {
            "backgroundcolor": "white",
            "gridcolor": "#DFE8F3",
            "gridwidth": 2,
            "linecolor": "#EBF0F8",
            "showbackground": true,
            "ticks": "",
            "zerolinecolor": "#EBF0F8"
           }
          },
          "shapedefaults": {
           "line": {
            "color": "#2a3f5f"
           }
          },
          "ternary": {
           "aaxis": {
            "gridcolor": "#DFE8F3",
            "linecolor": "#A2B1C6",
            "ticks": ""
           },
           "baxis": {
            "gridcolor": "#DFE8F3",
            "linecolor": "#A2B1C6",
            "ticks": ""
           },
           "bgcolor": "white",
           "caxis": {
            "gridcolor": "#DFE8F3",
            "linecolor": "#A2B1C6",
            "ticks": ""
           }
          },
          "title": {
           "x": 0.05
          },
          "xaxis": {
           "automargin": true,
           "gridcolor": "#EBF0F8",
           "linecolor": "#EBF0F8",
           "ticks": "",
           "title": {
            "standoff": 15
           },
           "zerolinecolor": "#EBF0F8",
           "zerolinewidth": 2
          },
          "yaxis": {
           "automargin": true,
           "gridcolor": "#EBF0F8",
           "linecolor": "#EBF0F8",
           "ticks": "",
           "title": {
            "standoff": 15
           },
           "zerolinecolor": "#EBF0F8",
           "zerolinewidth": 2
          }
         }
        },
        "width": 1000,
        "xaxis": {
         "tickmode": "array",
         "ticktext": [
          "Width",
          "Height",
          "Depth"
         ],
         "tickvals": [
          0.25,
          1.25,
          2.25
         ]
        },
        "yaxis": {
         "title": {
          "text": "Size (pixels)"
         }
        }
       }
      },
      "text/html": [
       "<div>                            <div id=\"d7d60db4-1b10-4690-bf32-0df5ea54f0f7\" class=\"plotly-graph-div\" style=\"height:600px; width:1000px;\"></div>            <script type=\"text/javascript\">                require([\"plotly\"], function(Plotly) {                    window.PLOTLYENV=window.PLOTLYENV || {};                                    if (document.getElementById(\"d7d60db4-1b10-4690-bf32-0df5ea54f0f7\")) {                    Plotly.newPlot(                        \"d7d60db4-1b10-4690-bf32-0df5ea54f0f7\",                        [{\"error_y\":{\"array\":[91.96349248814597,91.96349248814597,10.875542967698195],\"type\":\"data\",\"visible\":true},\"marker\":{\"color\":\"#454a74\"},\"name\":\"Axial\",\"x\":[0.0,1.0,2.0],\"y\":[484.8888888888889,484.8888888888889,32.51851851851852],\"type\":\"bar\"},{\"error_y\":{\"array\":[78.29591652408227,78.29591652408227,4.229138771446171],\"type\":\"data\",\"visible\":true},\"marker\":{\"color\":\"#808fe1\"},\"name\":\"Coronal\",\"x\":[0.25,1.25,2.25],\"y\":[466.12048192771084,466.12048192771084,25.55421686746988],\"type\":\"bar\"},{\"error_y\":{\"array\":[60.41591525286765,60.41591525286765,5.232372469778978],\"type\":\"data\",\"visible\":true},\"marker\":{\"color\":\"#97c684\"},\"name\":\"Sagital\",\"x\":[0.5,1.5,2.5],\"y\":[490.88324873096445,490.88324873096445,24.360406091370557],\"type\":\"bar\"}],                        {\"template\":{\"data\":{\"barpolar\":[{\"marker\":{\"line\":{\"color\":\"white\",\"width\":0.5},\"pattern\":{\"fillmode\":\"overlay\",\"size\":10,\"solidity\":0.2}},\"type\":\"barpolar\"}],\"bar\":[{\"error_x\":{\"color\":\"#2a3f5f\"},\"error_y\":{\"color\":\"#2a3f5f\"},\"marker\":{\"line\":{\"color\":\"white\",\"width\":0.5},\"pattern\":{\"fillmode\":\"overlay\",\"size\":10,\"solidity\":0.2}},\"type\":\"bar\"}],\"carpet\":[{\"aaxis\":{\"endlinecolor\":\"#2a3f5f\",\"gridcolor\":\"#C8D4E3\",\"linecolor\":\"#C8D4E3\",\"minorgridcolor\":\"#C8D4E3\",\"startlinecolor\":\"#2a3f5f\"},\"baxis\":{\"endlinecolor\":\"#2a3f5f\",\"gridcolor\":\"#C8D4E3\",\"linecolor\":\"#C8D4E3\",\"minorgridcolor\":\"#C8D4E3\",\"startlinecolor\":\"#2a3f5f\"},\"type\":\"carpet\"}],\"choropleth\":[{\"colorbar\":{\"outlinewidth\":0,\"ticks\":\"\"},\"type\":\"choropleth\"}],\"contourcarpet\":[{\"colorbar\":{\"outlinewidth\":0,\"ticks\":\"\"},\"type\":\"contourcarpet\"}],\"contour\":[{\"colorbar\":{\"outlinewidth\":0,\"ticks\":\"\"},\"colorscale\":[[0.0,\"#0d0887\"],[0.1111111111111111,\"#46039f\"],[0.2222222222222222,\"#7201a8\"],[0.3333333333333333,\"#9c179e\"],[0.4444444444444444,\"#bd3786\"],[0.5555555555555556,\"#d8576b\"],[0.6666666666666666,\"#ed7953\"],[0.7777777777777778,\"#fb9f3a\"],[0.8888888888888888,\"#fdca26\"],[1.0,\"#f0f921\"]],\"type\":\"contour\"}],\"heatmapgl\":[{\"colorbar\":{\"outlinewidth\":0,\"ticks\":\"\"},\"colorscale\":[[0.0,\"#0d0887\"],[0.1111111111111111,\"#46039f\"],[0.2222222222222222,\"#7201a8\"],[0.3333333333333333,\"#9c179e\"],[0.4444444444444444,\"#bd3786\"],[0.5555555555555556,\"#d8576b\"],[0.6666666666666666,\"#ed7953\"],[0.7777777777777778,\"#fb9f3a\"],[0.8888888888888888,\"#fdca26\"],[1.0,\"#f0f921\"]],\"type\":\"heatmapgl\"}],\"heatmap\":[{\"colorbar\":{\"outlinewidth\":0,\"ticks\":\"\"},\"colorscale\":[[0.0,\"#0d0887\"],[0.1111111111111111,\"#46039f\"],[0.2222222222222222,\"#7201a8\"],[0.3333333333333333,\"#9c179e\"],[0.4444444444444444,\"#bd3786\"],[0.5555555555555556,\"#d8576b\"],[0.6666666666666666,\"#ed7953\"],[0.7777777777777778,\"#fb9f3a\"],[0.8888888888888888,\"#fdca26\"],[1.0,\"#f0f921\"]],\"type\":\"heatmap\"}],\"histogram2dcontour\":[{\"colorbar\":{\"outlinewidth\":0,\"ticks\":\"\"},\"colorscale\":[[0.0,\"#0d0887\"],[0.1111111111111111,\"#46039f\"],[0.2222222222222222,\"#7201a8\"],[0.3333333333333333,\"#9c179e\"],[0.4444444444444444,\"#bd3786\"],[0.5555555555555556,\"#d8576b\"],[0.6666666666666666,\"#ed7953\"],[0.7777777777777778,\"#fb9f3a\"],[0.8888888888888888,\"#fdca26\"],[1.0,\"#f0f921\"]],\"type\":\"histogram2dcontour\"}],\"histogram2d\":[{\"colorbar\":{\"outlinewidth\":0,\"ticks\":\"\"},\"colorscale\":[[0.0,\"#0d0887\"],[0.1111111111111111,\"#46039f\"],[0.2222222222222222,\"#7201a8\"],[0.3333333333333333,\"#9c179e\"],[0.4444444444444444,\"#bd3786\"],[0.5555555555555556,\"#d8576b\"],[0.6666666666666666,\"#ed7953\"],[0.7777777777777778,\"#fb9f3a\"],[0.8888888888888888,\"#fdca26\"],[1.0,\"#f0f921\"]],\"type\":\"histogram2d\"}],\"histogram\":[{\"marker\":{\"pattern\":{\"fillmode\":\"overlay\",\"size\":10,\"solidity\":0.2}},\"type\":\"histogram\"}],\"mesh3d\":[{\"colorbar\":{\"outlinewidth\":0,\"ticks\":\"\"},\"type\":\"mesh3d\"}],\"parcoords\":[{\"line\":{\"colorbar\":{\"outlinewidth\":0,\"ticks\":\"\"}},\"type\":\"parcoords\"}],\"pie\":[{\"automargin\":true,\"type\":\"pie\"}],\"scatter3d\":[{\"line\":{\"colorbar\":{\"outlinewidth\":0,\"ticks\":\"\"}},\"marker\":{\"colorbar\":{\"outlinewidth\":0,\"ticks\":\"\"}},\"type\":\"scatter3d\"}],\"scattercarpet\":[{\"marker\":{\"colorbar\":{\"outlinewidth\":0,\"ticks\":\"\"}},\"type\":\"scattercarpet\"}],\"scattergeo\":[{\"marker\":{\"colorbar\":{\"outlinewidth\":0,\"ticks\":\"\"}},\"type\":\"scattergeo\"}],\"scattergl\":[{\"marker\":{\"colorbar\":{\"outlinewidth\":0,\"ticks\":\"\"}},\"type\":\"scattergl\"}],\"scattermapbox\":[{\"marker\":{\"colorbar\":{\"outlinewidth\":0,\"ticks\":\"\"}},\"type\":\"scattermapbox\"}],\"scatterpolargl\":[{\"marker\":{\"colorbar\":{\"outlinewidth\":0,\"ticks\":\"\"}},\"type\":\"scatterpolargl\"}],\"scatterpolar\":[{\"marker\":{\"colorbar\":{\"outlinewidth\":0,\"ticks\":\"\"}},\"type\":\"scatterpolar\"}],\"scatter\":[{\"fillpattern\":{\"fillmode\":\"overlay\",\"size\":10,\"solidity\":0.2},\"type\":\"scatter\"}],\"scatterternary\":[{\"marker\":{\"colorbar\":{\"outlinewidth\":0,\"ticks\":\"\"}},\"type\":\"scatterternary\"}],\"surface\":[{\"colorbar\":{\"outlinewidth\":0,\"ticks\":\"\"},\"colorscale\":[[0.0,\"#0d0887\"],[0.1111111111111111,\"#46039f\"],[0.2222222222222222,\"#7201a8\"],[0.3333333333333333,\"#9c179e\"],[0.4444444444444444,\"#bd3786\"],[0.5555555555555556,\"#d8576b\"],[0.6666666666666666,\"#ed7953\"],[0.7777777777777778,\"#fb9f3a\"],[0.8888888888888888,\"#fdca26\"],[1.0,\"#f0f921\"]],\"type\":\"surface\"}],\"table\":[{\"cells\":{\"fill\":{\"color\":\"#EBF0F8\"},\"line\":{\"color\":\"white\"}},\"header\":{\"fill\":{\"color\":\"#C8D4E3\"},\"line\":{\"color\":\"white\"}},\"type\":\"table\"}]},\"layout\":{\"annotationdefaults\":{\"arrowcolor\":\"#2a3f5f\",\"arrowhead\":0,\"arrowwidth\":1},\"autotypenumbers\":\"strict\",\"coloraxis\":{\"colorbar\":{\"outlinewidth\":0,\"ticks\":\"\"}},\"colorscale\":{\"diverging\":[[0,\"#8e0152\"],[0.1,\"#c51b7d\"],[0.2,\"#de77ae\"],[0.3,\"#f1b6da\"],[0.4,\"#fde0ef\"],[0.5,\"#f7f7f7\"],[0.6,\"#e6f5d0\"],[0.7,\"#b8e186\"],[0.8,\"#7fbc41\"],[0.9,\"#4d9221\"],[1,\"#276419\"]],\"sequential\":[[0.0,\"#0d0887\"],[0.1111111111111111,\"#46039f\"],[0.2222222222222222,\"#7201a8\"],[0.3333333333333333,\"#9c179e\"],[0.4444444444444444,\"#bd3786\"],[0.5555555555555556,\"#d8576b\"],[0.6666666666666666,\"#ed7953\"],[0.7777777777777778,\"#fb9f3a\"],[0.8888888888888888,\"#fdca26\"],[1.0,\"#f0f921\"]],\"sequentialminus\":[[0.0,\"#0d0887\"],[0.1111111111111111,\"#46039f\"],[0.2222222222222222,\"#7201a8\"],[0.3333333333333333,\"#9c179e\"],[0.4444444444444444,\"#bd3786\"],[0.5555555555555556,\"#d8576b\"],[0.6666666666666666,\"#ed7953\"],[0.7777777777777778,\"#fb9f3a\"],[0.8888888888888888,\"#fdca26\"],[1.0,\"#f0f921\"]]},\"colorway\":[\"#636efa\",\"#EF553B\",\"#00cc96\",\"#ab63fa\",\"#FFA15A\",\"#19d3f3\",\"#FF6692\",\"#B6E880\",\"#FF97FF\",\"#FECB52\"],\"font\":{\"color\":\"#2a3f5f\"},\"geo\":{\"bgcolor\":\"white\",\"lakecolor\":\"white\",\"landcolor\":\"white\",\"showlakes\":true,\"showland\":true,\"subunitcolor\":\"#C8D4E3\"},\"hoverlabel\":{\"align\":\"left\"},\"hovermode\":\"closest\",\"mapbox\":{\"style\":\"light\"},\"paper_bgcolor\":\"white\",\"plot_bgcolor\":\"white\",\"polar\":{\"angularaxis\":{\"gridcolor\":\"#EBF0F8\",\"linecolor\":\"#EBF0F8\",\"ticks\":\"\"},\"bgcolor\":\"white\",\"radialaxis\":{\"gridcolor\":\"#EBF0F8\",\"linecolor\":\"#EBF0F8\",\"ticks\":\"\"}},\"scene\":{\"xaxis\":{\"backgroundcolor\":\"white\",\"gridcolor\":\"#DFE8F3\",\"gridwidth\":2,\"linecolor\":\"#EBF0F8\",\"showbackground\":true,\"ticks\":\"\",\"zerolinecolor\":\"#EBF0F8\"},\"yaxis\":{\"backgroundcolor\":\"white\",\"gridcolor\":\"#DFE8F3\",\"gridwidth\":2,\"linecolor\":\"#EBF0F8\",\"showbackground\":true,\"ticks\":\"\",\"zerolinecolor\":\"#EBF0F8\"},\"zaxis\":{\"backgroundcolor\":\"white\",\"gridcolor\":\"#DFE8F3\",\"gridwidth\":2,\"linecolor\":\"#EBF0F8\",\"showbackground\":true,\"ticks\":\"\",\"zerolinecolor\":\"#EBF0F8\"}},\"shapedefaults\":{\"line\":{\"color\":\"#2a3f5f\"}},\"ternary\":{\"aaxis\":{\"gridcolor\":\"#DFE8F3\",\"linecolor\":\"#A2B1C6\",\"ticks\":\"\"},\"baxis\":{\"gridcolor\":\"#DFE8F3\",\"linecolor\":\"#A2B1C6\",\"ticks\":\"\"},\"bgcolor\":\"white\",\"caxis\":{\"gridcolor\":\"#DFE8F3\",\"linecolor\":\"#A2B1C6\",\"ticks\":\"\"}},\"title\":{\"x\":0.05},\"xaxis\":{\"automargin\":true,\"gridcolor\":\"#EBF0F8\",\"linecolor\":\"#EBF0F8\",\"ticks\":\"\",\"title\":{\"standoff\":15},\"zerolinecolor\":\"#EBF0F8\",\"zerolinewidth\":2},\"yaxis\":{\"automargin\":true,\"gridcolor\":\"#EBF0F8\",\"linecolor\":\"#EBF0F8\",\"ticks\":\"\",\"title\":{\"standoff\":15},\"zerolinecolor\":\"#EBF0F8\",\"zerolinewidth\":2}}},\"xaxis\":{\"tickmode\":\"array\",\"tickvals\":[0.25,1.25,2.25],\"ticktext\":[\"Width\",\"Height\",\"Depth\"]},\"font\":{\"size\":20},\"margin\":{\"l\":20,\"r\":20,\"b\":40,\"t\":20,\"pad\":0},\"yaxis\":{\"title\":{\"text\":\"Size (pixels)\"}},\"barmode\":\"group\",\"width\":1000,\"height\":600},                        {\"responsive\": true}                    ).then(function(){\n",
       "                            \n",
       "var gd = document.getElementById('d7d60db4-1b10-4690-bf32-0df5ea54f0f7');\n",
       "var x = new MutationObserver(function (mutations, observer) {{\n",
       "        var display = window.getComputedStyle(gd).display;\n",
       "        if (!display || display === 'none') {{\n",
       "            console.log([gd, 'removed!']);\n",
       "            Plotly.purge(gd);\n",
       "            observer.disconnect();\n",
       "        }}\n",
       "}});\n",
       "\n",
       "// Listen for the removal of the full notebook cells\n",
       "var notebookContainer = gd.closest('#notebook-container');\n",
       "if (notebookContainer) {{\n",
       "    x.observe(notebookContainer, {childList: true});\n",
       "}}\n",
       "\n",
       "// Listen for the clearing of the current output cell\n",
       "var outputEl = gd.closest('.output');\n",
       "if (outputEl) {{\n",
       "    x.observe(outputEl, {childList: true});\n",
       "}}\n",
       "\n",
       "                        })                };                });            </script>        </div>"
      ]
     },
     "metadata": {},
     "output_type": "display_data"
    }
   ],
   "source": [
    "x_ticks = ['Width', 'Height', 'Depth']  # Base positions for each group of bars\n",
    "y_axis_title = 'Size (pixels)'\n",
    "#random order of colors\n",
    "colors_sub = np.random.choice(colors, 3, replace=False)\n",
    "plot_variability_plotly_grouped( {'Axial': [mean_width_axial, mean_height_axial, mean_depth_axial],\n",
    "                                      'Coronal': [mean_width_coronal, mean_height_coronal, mean_depth_coronal],\n",
    "                                      'Sagital': [mean_width_sagital, mean_height_sagital, mean_depth_sagital]},\n",
    "                                    {'Axial': [std_width_axial, std_height_axial, std_depth_axial],\n",
    "                                      'Coronal': [std_width_coronal, std_height_coronal, std_depth_coronal],\n",
    "                                      'Sagital': [std_width_sagital, std_height_sagital, std_depth_sagital]},\n",
    "                                    ['Axial', 'Coronal', 'Sagital'],\n",
    "                                    colors_sub,\n",
    "                                    'size_T2w_grouped',\n",
    "                                    x_ticks,\n",
    "                                    y_axis_title,\n",
    "                                    save_as_pdf=True)"
   ]
  },
  {
   "cell_type": "markdown",
   "metadata": {},
   "source": [
    "## In Plane Resolution"
   ]
  },
  {
   "cell_type": "markdown",
   "metadata": {},
   "source": [
    "### T2w"
   ]
  },
  {
   "cell_type": "code",
   "execution_count": 82,
   "metadata": {},
   "outputs": [
    {
     "data": {
      "application/vnd.jupyter.widget-view+json": {
       "model_id": "b3a7faa0d7324f129543b9fd950fdc86",
       "version_major": 2,
       "version_minor": 0
      },
      "text/plain": [
       "  0%|          | 0/496 [00:00<?, ?it/s]"
      ]
     },
     "metadata": {},
     "output_type": "display_data"
    }
   ],
   "source": [
    "image_spacings_axial = []\n",
    "image_spacings_coronal = []\n",
    "image_spacings_sagital = []\n",
    "\n",
    "for image in tqdm(train_ds):\n",
    "    if 'sagital' in image.keys():\n",
    "        image_spacings_sagital.append(list(image['sagital_meta_dict']['pixdim'][1:4]))\n",
    "    if 'coronal' in image.keys():\n",
    "        image_spacings_coronal.append(list(image['coronal_meta_dict']['pixdim'][1:4]))\n",
    "    if 'axial' in image.keys():\n",
    "        image_spacings_axial.append(list(image['axial_meta_dict']['pixdim'][1:4]))"
   ]
  },
  {
   "cell_type": "code",
   "execution_count": 84,
   "metadata": {},
   "outputs": [],
   "source": [
    "xs_axial = [dim[0] for dim in image_spacings_axial]\n",
    "ys_axial = [dim[1] for dim in image_spacings_axial]\n",
    "zs_axial = [dim[2] for dim in image_spacings_axial]\n",
    "\n",
    "xs_coronal = [dim[0] for dim in image_spacings_coronal]\n",
    "ys_coronal = [dim[1] for dim in image_spacings_coronal]\n",
    "zs_coronal = [dim[2] for dim in image_spacings_coronal]\n",
    "\n",
    "xs_sagital = [dim[0] for dim in image_spacings_sagital]\n",
    "ys_sagital = [dim[1] for dim in image_spacings_sagital]\n",
    "zs_sagital = [dim[2] for dim in image_spacings_sagital]"
   ]
  },
  {
   "cell_type": "code",
   "execution_count": 85,
   "metadata": {},
   "outputs": [],
   "source": [
    "mean_x_axial = np.mean(xs_axial)\n",
    "std_x_axial = np.std(xs_axial)\n",
    "mean_y_axial = np.mean(ys_axial)\n",
    "std_y_axial = np.std(ys_axial)\n",
    "mean_z_axial = np.mean(zs_axial)\n",
    "std_z_axial = np.std(zs_axial)\n",
    "\n",
    "mean_x_coronal = np.mean(xs_coronal)\n",
    "std_x_coronal = np.std(xs_coronal)\n",
    "mean_y_coronal = np.mean(ys_coronal)\n",
    "std_y_coronal = np.std(ys_coronal)\n",
    "mean_z_coronal = np.mean(zs_coronal)\n",
    "std_z_coronal = np.std(zs_coronal)\n",
    "\n",
    "mean_x_sagital = np.mean(xs_sagital)\n",
    "std_x_sagital = np.std(xs_sagital)\n",
    "mean_y_sagital = np.mean(ys_sagital)\n",
    "std_y_sagital = np.std(ys_sagital)\n",
    "mean_z_sagital = np.mean(zs_sagital)\n",
    "std_z_sagital = np.std(zs_sagital)"
   ]
  },
  {
   "cell_type": "code",
   "execution_count": 126,
   "metadata": {},
   "outputs": [
    {
     "data": {
      "application/vnd.plotly.v1+json": {
       "config": {
        "plotlyServerURL": "https://plot.ly"
       },
       "data": [
        {
         "error_y": {
          "array": [
           0.33084583282470703,
           0.33084583282470703,
           0.8526983261108398
          ],
          "type": "data",
          "visible": true
         },
         "marker": {
          "color": "#97c684"
         },
         "name": "Axial",
         "type": "bar",
         "x": [
          0,
          1,
          2
         ],
         "y": [
          0.49670925736427307,
          0.49670925736427307,
          3.480098009109497
         ]
        },
        {
         "error_y": {
          "array": [
           0.18902961909770966,
           0.18902961909770966,
           1.4424211978912354
          ],
          "type": "data",
          "visible": true
         },
         "marker": {
          "color": "#aab5d5"
         },
         "name": "Coronal",
         "type": "bar",
         "x": [
          0.25,
          1.25,
          2.25
         ],
         "y": [
          0.5506307482719421,
          0.5506307482719421,
          4.066255569458008
         ]
        },
        {
         "error_y": {
          "array": [
           0.12837140262126923,
           0.12837140262126923,
           0.9841082096099854
          ],
          "type": "data",
          "visible": true
         },
         "marker": {
          "color": "#6f9969"
         },
         "name": "Sagital",
         "type": "bar",
         "x": [
          0.5,
          1.5,
          2.5
         ],
         "y": [
          0.41988569498062134,
          0.41988569498062134,
          3.7548153400421143
         ]
        }
       ],
       "layout": {
        "barmode": "group",
        "font": {
         "size": 20
        },
        "height": 600,
        "margin": {
         "b": 40,
         "l": 20,
         "pad": 0,
         "r": 20,
         "t": 20
        },
        "template": {
         "data": {
          "bar": [
           {
            "error_x": {
             "color": "#2a3f5f"
            },
            "error_y": {
             "color": "#2a3f5f"
            },
            "marker": {
             "line": {
              "color": "white",
              "width": 0.5
             },
             "pattern": {
              "fillmode": "overlay",
              "size": 10,
              "solidity": 0.2
             }
            },
            "type": "bar"
           }
          ],
          "barpolar": [
           {
            "marker": {
             "line": {
              "color": "white",
              "width": 0.5
             },
             "pattern": {
              "fillmode": "overlay",
              "size": 10,
              "solidity": 0.2
             }
            },
            "type": "barpolar"
           }
          ],
          "carpet": [
           {
            "aaxis": {
             "endlinecolor": "#2a3f5f",
             "gridcolor": "#C8D4E3",
             "linecolor": "#C8D4E3",
             "minorgridcolor": "#C8D4E3",
             "startlinecolor": "#2a3f5f"
            },
            "baxis": {
             "endlinecolor": "#2a3f5f",
             "gridcolor": "#C8D4E3",
             "linecolor": "#C8D4E3",
             "minorgridcolor": "#C8D4E3",
             "startlinecolor": "#2a3f5f"
            },
            "type": "carpet"
           }
          ],
          "choropleth": [
           {
            "colorbar": {
             "outlinewidth": 0,
             "ticks": ""
            },
            "type": "choropleth"
           }
          ],
          "contour": [
           {
            "colorbar": {
             "outlinewidth": 0,
             "ticks": ""
            },
            "colorscale": [
             [
              0,
              "#0d0887"
             ],
             [
              0.1111111111111111,
              "#46039f"
             ],
             [
              0.2222222222222222,
              "#7201a8"
             ],
             [
              0.3333333333333333,
              "#9c179e"
             ],
             [
              0.4444444444444444,
              "#bd3786"
             ],
             [
              0.5555555555555556,
              "#d8576b"
             ],
             [
              0.6666666666666666,
              "#ed7953"
             ],
             [
              0.7777777777777778,
              "#fb9f3a"
             ],
             [
              0.8888888888888888,
              "#fdca26"
             ],
             [
              1,
              "#f0f921"
             ]
            ],
            "type": "contour"
           }
          ],
          "contourcarpet": [
           {
            "colorbar": {
             "outlinewidth": 0,
             "ticks": ""
            },
            "type": "contourcarpet"
           }
          ],
          "heatmap": [
           {
            "colorbar": {
             "outlinewidth": 0,
             "ticks": ""
            },
            "colorscale": [
             [
              0,
              "#0d0887"
             ],
             [
              0.1111111111111111,
              "#46039f"
             ],
             [
              0.2222222222222222,
              "#7201a8"
             ],
             [
              0.3333333333333333,
              "#9c179e"
             ],
             [
              0.4444444444444444,
              "#bd3786"
             ],
             [
              0.5555555555555556,
              "#d8576b"
             ],
             [
              0.6666666666666666,
              "#ed7953"
             ],
             [
              0.7777777777777778,
              "#fb9f3a"
             ],
             [
              0.8888888888888888,
              "#fdca26"
             ],
             [
              1,
              "#f0f921"
             ]
            ],
            "type": "heatmap"
           }
          ],
          "heatmapgl": [
           {
            "colorbar": {
             "outlinewidth": 0,
             "ticks": ""
            },
            "colorscale": [
             [
              0,
              "#0d0887"
             ],
             [
              0.1111111111111111,
              "#46039f"
             ],
             [
              0.2222222222222222,
              "#7201a8"
             ],
             [
              0.3333333333333333,
              "#9c179e"
             ],
             [
              0.4444444444444444,
              "#bd3786"
             ],
             [
              0.5555555555555556,
              "#d8576b"
             ],
             [
              0.6666666666666666,
              "#ed7953"
             ],
             [
              0.7777777777777778,
              "#fb9f3a"
             ],
             [
              0.8888888888888888,
              "#fdca26"
             ],
             [
              1,
              "#f0f921"
             ]
            ],
            "type": "heatmapgl"
           }
          ],
          "histogram": [
           {
            "marker": {
             "pattern": {
              "fillmode": "overlay",
              "size": 10,
              "solidity": 0.2
             }
            },
            "type": "histogram"
           }
          ],
          "histogram2d": [
           {
            "colorbar": {
             "outlinewidth": 0,
             "ticks": ""
            },
            "colorscale": [
             [
              0,
              "#0d0887"
             ],
             [
              0.1111111111111111,
              "#46039f"
             ],
             [
              0.2222222222222222,
              "#7201a8"
             ],
             [
              0.3333333333333333,
              "#9c179e"
             ],
             [
              0.4444444444444444,
              "#bd3786"
             ],
             [
              0.5555555555555556,
              "#d8576b"
             ],
             [
              0.6666666666666666,
              "#ed7953"
             ],
             [
              0.7777777777777778,
              "#fb9f3a"
             ],
             [
              0.8888888888888888,
              "#fdca26"
             ],
             [
              1,
              "#f0f921"
             ]
            ],
            "type": "histogram2d"
           }
          ],
          "histogram2dcontour": [
           {
            "colorbar": {
             "outlinewidth": 0,
             "ticks": ""
            },
            "colorscale": [
             [
              0,
              "#0d0887"
             ],
             [
              0.1111111111111111,
              "#46039f"
             ],
             [
              0.2222222222222222,
              "#7201a8"
             ],
             [
              0.3333333333333333,
              "#9c179e"
             ],
             [
              0.4444444444444444,
              "#bd3786"
             ],
             [
              0.5555555555555556,
              "#d8576b"
             ],
             [
              0.6666666666666666,
              "#ed7953"
             ],
             [
              0.7777777777777778,
              "#fb9f3a"
             ],
             [
              0.8888888888888888,
              "#fdca26"
             ],
             [
              1,
              "#f0f921"
             ]
            ],
            "type": "histogram2dcontour"
           }
          ],
          "mesh3d": [
           {
            "colorbar": {
             "outlinewidth": 0,
             "ticks": ""
            },
            "type": "mesh3d"
           }
          ],
          "parcoords": [
           {
            "line": {
             "colorbar": {
              "outlinewidth": 0,
              "ticks": ""
             }
            },
            "type": "parcoords"
           }
          ],
          "pie": [
           {
            "automargin": true,
            "type": "pie"
           }
          ],
          "scatter": [
           {
            "fillpattern": {
             "fillmode": "overlay",
             "size": 10,
             "solidity": 0.2
            },
            "type": "scatter"
           }
          ],
          "scatter3d": [
           {
            "line": {
             "colorbar": {
              "outlinewidth": 0,
              "ticks": ""
             }
            },
            "marker": {
             "colorbar": {
              "outlinewidth": 0,
              "ticks": ""
             }
            },
            "type": "scatter3d"
           }
          ],
          "scattercarpet": [
           {
            "marker": {
             "colorbar": {
              "outlinewidth": 0,
              "ticks": ""
             }
            },
            "type": "scattercarpet"
           }
          ],
          "scattergeo": [
           {
            "marker": {
             "colorbar": {
              "outlinewidth": 0,
              "ticks": ""
             }
            },
            "type": "scattergeo"
           }
          ],
          "scattergl": [
           {
            "marker": {
             "colorbar": {
              "outlinewidth": 0,
              "ticks": ""
             }
            },
            "type": "scattergl"
           }
          ],
          "scattermapbox": [
           {
            "marker": {
             "colorbar": {
              "outlinewidth": 0,
              "ticks": ""
             }
            },
            "type": "scattermapbox"
           }
          ],
          "scatterpolar": [
           {
            "marker": {
             "colorbar": {
              "outlinewidth": 0,
              "ticks": ""
             }
            },
            "type": "scatterpolar"
           }
          ],
          "scatterpolargl": [
           {
            "marker": {
             "colorbar": {
              "outlinewidth": 0,
              "ticks": ""
             }
            },
            "type": "scatterpolargl"
           }
          ],
          "scatterternary": [
           {
            "marker": {
             "colorbar": {
              "outlinewidth": 0,
              "ticks": ""
             }
            },
            "type": "scatterternary"
           }
          ],
          "surface": [
           {
            "colorbar": {
             "outlinewidth": 0,
             "ticks": ""
            },
            "colorscale": [
             [
              0,
              "#0d0887"
             ],
             [
              0.1111111111111111,
              "#46039f"
             ],
             [
              0.2222222222222222,
              "#7201a8"
             ],
             [
              0.3333333333333333,
              "#9c179e"
             ],
             [
              0.4444444444444444,
              "#bd3786"
             ],
             [
              0.5555555555555556,
              "#d8576b"
             ],
             [
              0.6666666666666666,
              "#ed7953"
             ],
             [
              0.7777777777777778,
              "#fb9f3a"
             ],
             [
              0.8888888888888888,
              "#fdca26"
             ],
             [
              1,
              "#f0f921"
             ]
            ],
            "type": "surface"
           }
          ],
          "table": [
           {
            "cells": {
             "fill": {
              "color": "#EBF0F8"
             },
             "line": {
              "color": "white"
             }
            },
            "header": {
             "fill": {
              "color": "#C8D4E3"
             },
             "line": {
              "color": "white"
             }
            },
            "type": "table"
           }
          ]
         },
         "layout": {
          "annotationdefaults": {
           "arrowcolor": "#2a3f5f",
           "arrowhead": 0,
           "arrowwidth": 1
          },
          "autotypenumbers": "strict",
          "coloraxis": {
           "colorbar": {
            "outlinewidth": 0,
            "ticks": ""
           }
          },
          "colorscale": {
           "diverging": [
            [
             0,
             "#8e0152"
            ],
            [
             0.1,
             "#c51b7d"
            ],
            [
             0.2,
             "#de77ae"
            ],
            [
             0.3,
             "#f1b6da"
            ],
            [
             0.4,
             "#fde0ef"
            ],
            [
             0.5,
             "#f7f7f7"
            ],
            [
             0.6,
             "#e6f5d0"
            ],
            [
             0.7,
             "#b8e186"
            ],
            [
             0.8,
             "#7fbc41"
            ],
            [
             0.9,
             "#4d9221"
            ],
            [
             1,
             "#276419"
            ]
           ],
           "sequential": [
            [
             0,
             "#0d0887"
            ],
            [
             0.1111111111111111,
             "#46039f"
            ],
            [
             0.2222222222222222,
             "#7201a8"
            ],
            [
             0.3333333333333333,
             "#9c179e"
            ],
            [
             0.4444444444444444,
             "#bd3786"
            ],
            [
             0.5555555555555556,
             "#d8576b"
            ],
            [
             0.6666666666666666,
             "#ed7953"
            ],
            [
             0.7777777777777778,
             "#fb9f3a"
            ],
            [
             0.8888888888888888,
             "#fdca26"
            ],
            [
             1,
             "#f0f921"
            ]
           ],
           "sequentialminus": [
            [
             0,
             "#0d0887"
            ],
            [
             0.1111111111111111,
             "#46039f"
            ],
            [
             0.2222222222222222,
             "#7201a8"
            ],
            [
             0.3333333333333333,
             "#9c179e"
            ],
            [
             0.4444444444444444,
             "#bd3786"
            ],
            [
             0.5555555555555556,
             "#d8576b"
            ],
            [
             0.6666666666666666,
             "#ed7953"
            ],
            [
             0.7777777777777778,
             "#fb9f3a"
            ],
            [
             0.8888888888888888,
             "#fdca26"
            ],
            [
             1,
             "#f0f921"
            ]
           ]
          },
          "colorway": [
           "#636efa",
           "#EF553B",
           "#00cc96",
           "#ab63fa",
           "#FFA15A",
           "#19d3f3",
           "#FF6692",
           "#B6E880",
           "#FF97FF",
           "#FECB52"
          ],
          "font": {
           "color": "#2a3f5f"
          },
          "geo": {
           "bgcolor": "white",
           "lakecolor": "white",
           "landcolor": "white",
           "showlakes": true,
           "showland": true,
           "subunitcolor": "#C8D4E3"
          },
          "hoverlabel": {
           "align": "left"
          },
          "hovermode": "closest",
          "mapbox": {
           "style": "light"
          },
          "paper_bgcolor": "white",
          "plot_bgcolor": "white",
          "polar": {
           "angularaxis": {
            "gridcolor": "#EBF0F8",
            "linecolor": "#EBF0F8",
            "ticks": ""
           },
           "bgcolor": "white",
           "radialaxis": {
            "gridcolor": "#EBF0F8",
            "linecolor": "#EBF0F8",
            "ticks": ""
           }
          },
          "scene": {
           "xaxis": {
            "backgroundcolor": "white",
            "gridcolor": "#DFE8F3",
            "gridwidth": 2,
            "linecolor": "#EBF0F8",
            "showbackground": true,
            "ticks": "",
            "zerolinecolor": "#EBF0F8"
           },
           "yaxis": {
            "backgroundcolor": "white",
            "gridcolor": "#DFE8F3",
            "gridwidth": 2,
            "linecolor": "#EBF0F8",
            "showbackground": true,
            "ticks": "",
            "zerolinecolor": "#EBF0F8"
           },
           "zaxis": {
            "backgroundcolor": "white",
            "gridcolor": "#DFE8F3",
            "gridwidth": 2,
            "linecolor": "#EBF0F8",
            "showbackground": true,
            "ticks": "",
            "zerolinecolor": "#EBF0F8"
           }
          },
          "shapedefaults": {
           "line": {
            "color": "#2a3f5f"
           }
          },
          "ternary": {
           "aaxis": {
            "gridcolor": "#DFE8F3",
            "linecolor": "#A2B1C6",
            "ticks": ""
           },
           "baxis": {
            "gridcolor": "#DFE8F3",
            "linecolor": "#A2B1C6",
            "ticks": ""
           },
           "bgcolor": "white",
           "caxis": {
            "gridcolor": "#DFE8F3",
            "linecolor": "#A2B1C6",
            "ticks": ""
           }
          },
          "title": {
           "x": 0.05
          },
          "xaxis": {
           "automargin": true,
           "gridcolor": "#EBF0F8",
           "linecolor": "#EBF0F8",
           "ticks": "",
           "title": {
            "standoff": 15
           },
           "zerolinecolor": "#EBF0F8",
           "zerolinewidth": 2
          },
          "yaxis": {
           "automargin": true,
           "gridcolor": "#EBF0F8",
           "linecolor": "#EBF0F8",
           "ticks": "",
           "title": {
            "standoff": 15
           },
           "zerolinecolor": "#EBF0F8",
           "zerolinewidth": 2
          }
         }
        },
        "width": 1000,
        "xaxis": {
         "tickmode": "array",
         "ticktext": [
          "X",
          "Y",
          "Z"
         ],
         "tickvals": [
          0.25,
          1.25,
          2.25
         ]
        },
        "yaxis": {
         "title": {
          "text": "Spacing (mm)"
         }
        }
       }
      },
      "text/html": [
       "<div>                            <div id=\"1044cab1-1992-4398-b7a8-40115835b46d\" class=\"plotly-graph-div\" style=\"height:600px; width:1000px;\"></div>            <script type=\"text/javascript\">                require([\"plotly\"], function(Plotly) {                    window.PLOTLYENV=window.PLOTLYENV || {};                                    if (document.getElementById(\"1044cab1-1992-4398-b7a8-40115835b46d\")) {                    Plotly.newPlot(                        \"1044cab1-1992-4398-b7a8-40115835b46d\",                        [{\"error_y\":{\"array\":[0.33084583282470703,0.33084583282470703,0.8526983261108398],\"type\":\"data\",\"visible\":true},\"marker\":{\"color\":\"#97c684\"},\"name\":\"Axial\",\"x\":[0.0,1.0,2.0],\"y\":[0.49670925736427307,0.49670925736427307,3.480098009109497],\"type\":\"bar\"},{\"error_y\":{\"array\":[0.18902961909770966,0.18902961909770966,1.4424211978912354],\"type\":\"data\",\"visible\":true},\"marker\":{\"color\":\"#aab5d5\"},\"name\":\"Coronal\",\"x\":[0.25,1.25,2.25],\"y\":[0.5506307482719421,0.5506307482719421,4.066255569458008],\"type\":\"bar\"},{\"error_y\":{\"array\":[0.12837140262126923,0.12837140262126923,0.9841082096099854],\"type\":\"data\",\"visible\":true},\"marker\":{\"color\":\"#6f9969\"},\"name\":\"Sagital\",\"x\":[0.5,1.5,2.5],\"y\":[0.41988569498062134,0.41988569498062134,3.7548153400421143],\"type\":\"bar\"}],                        {\"template\":{\"data\":{\"barpolar\":[{\"marker\":{\"line\":{\"color\":\"white\",\"width\":0.5},\"pattern\":{\"fillmode\":\"overlay\",\"size\":10,\"solidity\":0.2}},\"type\":\"barpolar\"}],\"bar\":[{\"error_x\":{\"color\":\"#2a3f5f\"},\"error_y\":{\"color\":\"#2a3f5f\"},\"marker\":{\"line\":{\"color\":\"white\",\"width\":0.5},\"pattern\":{\"fillmode\":\"overlay\",\"size\":10,\"solidity\":0.2}},\"type\":\"bar\"}],\"carpet\":[{\"aaxis\":{\"endlinecolor\":\"#2a3f5f\",\"gridcolor\":\"#C8D4E3\",\"linecolor\":\"#C8D4E3\",\"minorgridcolor\":\"#C8D4E3\",\"startlinecolor\":\"#2a3f5f\"},\"baxis\":{\"endlinecolor\":\"#2a3f5f\",\"gridcolor\":\"#C8D4E3\",\"linecolor\":\"#C8D4E3\",\"minorgridcolor\":\"#C8D4E3\",\"startlinecolor\":\"#2a3f5f\"},\"type\":\"carpet\"}],\"choropleth\":[{\"colorbar\":{\"outlinewidth\":0,\"ticks\":\"\"},\"type\":\"choropleth\"}],\"contourcarpet\":[{\"colorbar\":{\"outlinewidth\":0,\"ticks\":\"\"},\"type\":\"contourcarpet\"}],\"contour\":[{\"colorbar\":{\"outlinewidth\":0,\"ticks\":\"\"},\"colorscale\":[[0.0,\"#0d0887\"],[0.1111111111111111,\"#46039f\"],[0.2222222222222222,\"#7201a8\"],[0.3333333333333333,\"#9c179e\"],[0.4444444444444444,\"#bd3786\"],[0.5555555555555556,\"#d8576b\"],[0.6666666666666666,\"#ed7953\"],[0.7777777777777778,\"#fb9f3a\"],[0.8888888888888888,\"#fdca26\"],[1.0,\"#f0f921\"]],\"type\":\"contour\"}],\"heatmapgl\":[{\"colorbar\":{\"outlinewidth\":0,\"ticks\":\"\"},\"colorscale\":[[0.0,\"#0d0887\"],[0.1111111111111111,\"#46039f\"],[0.2222222222222222,\"#7201a8\"],[0.3333333333333333,\"#9c179e\"],[0.4444444444444444,\"#bd3786\"],[0.5555555555555556,\"#d8576b\"],[0.6666666666666666,\"#ed7953\"],[0.7777777777777778,\"#fb9f3a\"],[0.8888888888888888,\"#fdca26\"],[1.0,\"#f0f921\"]],\"type\":\"heatmapgl\"}],\"heatmap\":[{\"colorbar\":{\"outlinewidth\":0,\"ticks\":\"\"},\"colorscale\":[[0.0,\"#0d0887\"],[0.1111111111111111,\"#46039f\"],[0.2222222222222222,\"#7201a8\"],[0.3333333333333333,\"#9c179e\"],[0.4444444444444444,\"#bd3786\"],[0.5555555555555556,\"#d8576b\"],[0.6666666666666666,\"#ed7953\"],[0.7777777777777778,\"#fb9f3a\"],[0.8888888888888888,\"#fdca26\"],[1.0,\"#f0f921\"]],\"type\":\"heatmap\"}],\"histogram2dcontour\":[{\"colorbar\":{\"outlinewidth\":0,\"ticks\":\"\"},\"colorscale\":[[0.0,\"#0d0887\"],[0.1111111111111111,\"#46039f\"],[0.2222222222222222,\"#7201a8\"],[0.3333333333333333,\"#9c179e\"],[0.4444444444444444,\"#bd3786\"],[0.5555555555555556,\"#d8576b\"],[0.6666666666666666,\"#ed7953\"],[0.7777777777777778,\"#fb9f3a\"],[0.8888888888888888,\"#fdca26\"],[1.0,\"#f0f921\"]],\"type\":\"histogram2dcontour\"}],\"histogram2d\":[{\"colorbar\":{\"outlinewidth\":0,\"ticks\":\"\"},\"colorscale\":[[0.0,\"#0d0887\"],[0.1111111111111111,\"#46039f\"],[0.2222222222222222,\"#7201a8\"],[0.3333333333333333,\"#9c179e\"],[0.4444444444444444,\"#bd3786\"],[0.5555555555555556,\"#d8576b\"],[0.6666666666666666,\"#ed7953\"],[0.7777777777777778,\"#fb9f3a\"],[0.8888888888888888,\"#fdca26\"],[1.0,\"#f0f921\"]],\"type\":\"histogram2d\"}],\"histogram\":[{\"marker\":{\"pattern\":{\"fillmode\":\"overlay\",\"size\":10,\"solidity\":0.2}},\"type\":\"histogram\"}],\"mesh3d\":[{\"colorbar\":{\"outlinewidth\":0,\"ticks\":\"\"},\"type\":\"mesh3d\"}],\"parcoords\":[{\"line\":{\"colorbar\":{\"outlinewidth\":0,\"ticks\":\"\"}},\"type\":\"parcoords\"}],\"pie\":[{\"automargin\":true,\"type\":\"pie\"}],\"scatter3d\":[{\"line\":{\"colorbar\":{\"outlinewidth\":0,\"ticks\":\"\"}},\"marker\":{\"colorbar\":{\"outlinewidth\":0,\"ticks\":\"\"}},\"type\":\"scatter3d\"}],\"scattercarpet\":[{\"marker\":{\"colorbar\":{\"outlinewidth\":0,\"ticks\":\"\"}},\"type\":\"scattercarpet\"}],\"scattergeo\":[{\"marker\":{\"colorbar\":{\"outlinewidth\":0,\"ticks\":\"\"}},\"type\":\"scattergeo\"}],\"scattergl\":[{\"marker\":{\"colorbar\":{\"outlinewidth\":0,\"ticks\":\"\"}},\"type\":\"scattergl\"}],\"scattermapbox\":[{\"marker\":{\"colorbar\":{\"outlinewidth\":0,\"ticks\":\"\"}},\"type\":\"scattermapbox\"}],\"scatterpolargl\":[{\"marker\":{\"colorbar\":{\"outlinewidth\":0,\"ticks\":\"\"}},\"type\":\"scatterpolargl\"}],\"scatterpolar\":[{\"marker\":{\"colorbar\":{\"outlinewidth\":0,\"ticks\":\"\"}},\"type\":\"scatterpolar\"}],\"scatter\":[{\"fillpattern\":{\"fillmode\":\"overlay\",\"size\":10,\"solidity\":0.2},\"type\":\"scatter\"}],\"scatterternary\":[{\"marker\":{\"colorbar\":{\"outlinewidth\":0,\"ticks\":\"\"}},\"type\":\"scatterternary\"}],\"surface\":[{\"colorbar\":{\"outlinewidth\":0,\"ticks\":\"\"},\"colorscale\":[[0.0,\"#0d0887\"],[0.1111111111111111,\"#46039f\"],[0.2222222222222222,\"#7201a8\"],[0.3333333333333333,\"#9c179e\"],[0.4444444444444444,\"#bd3786\"],[0.5555555555555556,\"#d8576b\"],[0.6666666666666666,\"#ed7953\"],[0.7777777777777778,\"#fb9f3a\"],[0.8888888888888888,\"#fdca26\"],[1.0,\"#f0f921\"]],\"type\":\"surface\"}],\"table\":[{\"cells\":{\"fill\":{\"color\":\"#EBF0F8\"},\"line\":{\"color\":\"white\"}},\"header\":{\"fill\":{\"color\":\"#C8D4E3\"},\"line\":{\"color\":\"white\"}},\"type\":\"table\"}]},\"layout\":{\"annotationdefaults\":{\"arrowcolor\":\"#2a3f5f\",\"arrowhead\":0,\"arrowwidth\":1},\"autotypenumbers\":\"strict\",\"coloraxis\":{\"colorbar\":{\"outlinewidth\":0,\"ticks\":\"\"}},\"colorscale\":{\"diverging\":[[0,\"#8e0152\"],[0.1,\"#c51b7d\"],[0.2,\"#de77ae\"],[0.3,\"#f1b6da\"],[0.4,\"#fde0ef\"],[0.5,\"#f7f7f7\"],[0.6,\"#e6f5d0\"],[0.7,\"#b8e186\"],[0.8,\"#7fbc41\"],[0.9,\"#4d9221\"],[1,\"#276419\"]],\"sequential\":[[0.0,\"#0d0887\"],[0.1111111111111111,\"#46039f\"],[0.2222222222222222,\"#7201a8\"],[0.3333333333333333,\"#9c179e\"],[0.4444444444444444,\"#bd3786\"],[0.5555555555555556,\"#d8576b\"],[0.6666666666666666,\"#ed7953\"],[0.7777777777777778,\"#fb9f3a\"],[0.8888888888888888,\"#fdca26\"],[1.0,\"#f0f921\"]],\"sequentialminus\":[[0.0,\"#0d0887\"],[0.1111111111111111,\"#46039f\"],[0.2222222222222222,\"#7201a8\"],[0.3333333333333333,\"#9c179e\"],[0.4444444444444444,\"#bd3786\"],[0.5555555555555556,\"#d8576b\"],[0.6666666666666666,\"#ed7953\"],[0.7777777777777778,\"#fb9f3a\"],[0.8888888888888888,\"#fdca26\"],[1.0,\"#f0f921\"]]},\"colorway\":[\"#636efa\",\"#EF553B\",\"#00cc96\",\"#ab63fa\",\"#FFA15A\",\"#19d3f3\",\"#FF6692\",\"#B6E880\",\"#FF97FF\",\"#FECB52\"],\"font\":{\"color\":\"#2a3f5f\"},\"geo\":{\"bgcolor\":\"white\",\"lakecolor\":\"white\",\"landcolor\":\"white\",\"showlakes\":true,\"showland\":true,\"subunitcolor\":\"#C8D4E3\"},\"hoverlabel\":{\"align\":\"left\"},\"hovermode\":\"closest\",\"mapbox\":{\"style\":\"light\"},\"paper_bgcolor\":\"white\",\"plot_bgcolor\":\"white\",\"polar\":{\"angularaxis\":{\"gridcolor\":\"#EBF0F8\",\"linecolor\":\"#EBF0F8\",\"ticks\":\"\"},\"bgcolor\":\"white\",\"radialaxis\":{\"gridcolor\":\"#EBF0F8\",\"linecolor\":\"#EBF0F8\",\"ticks\":\"\"}},\"scene\":{\"xaxis\":{\"backgroundcolor\":\"white\",\"gridcolor\":\"#DFE8F3\",\"gridwidth\":2,\"linecolor\":\"#EBF0F8\",\"showbackground\":true,\"ticks\":\"\",\"zerolinecolor\":\"#EBF0F8\"},\"yaxis\":{\"backgroundcolor\":\"white\",\"gridcolor\":\"#DFE8F3\",\"gridwidth\":2,\"linecolor\":\"#EBF0F8\",\"showbackground\":true,\"ticks\":\"\",\"zerolinecolor\":\"#EBF0F8\"},\"zaxis\":{\"backgroundcolor\":\"white\",\"gridcolor\":\"#DFE8F3\",\"gridwidth\":2,\"linecolor\":\"#EBF0F8\",\"showbackground\":true,\"ticks\":\"\",\"zerolinecolor\":\"#EBF0F8\"}},\"shapedefaults\":{\"line\":{\"color\":\"#2a3f5f\"}},\"ternary\":{\"aaxis\":{\"gridcolor\":\"#DFE8F3\",\"linecolor\":\"#A2B1C6\",\"ticks\":\"\"},\"baxis\":{\"gridcolor\":\"#DFE8F3\",\"linecolor\":\"#A2B1C6\",\"ticks\":\"\"},\"bgcolor\":\"white\",\"caxis\":{\"gridcolor\":\"#DFE8F3\",\"linecolor\":\"#A2B1C6\",\"ticks\":\"\"}},\"title\":{\"x\":0.05},\"xaxis\":{\"automargin\":true,\"gridcolor\":\"#EBF0F8\",\"linecolor\":\"#EBF0F8\",\"ticks\":\"\",\"title\":{\"standoff\":15},\"zerolinecolor\":\"#EBF0F8\",\"zerolinewidth\":2},\"yaxis\":{\"automargin\":true,\"gridcolor\":\"#EBF0F8\",\"linecolor\":\"#EBF0F8\",\"ticks\":\"\",\"title\":{\"standoff\":15},\"zerolinecolor\":\"#EBF0F8\",\"zerolinewidth\":2}}},\"xaxis\":{\"tickmode\":\"array\",\"tickvals\":[0.25,1.25,2.25],\"ticktext\":[\"X\",\"Y\",\"Z\"]},\"font\":{\"size\":20},\"margin\":{\"l\":20,\"r\":20,\"b\":40,\"t\":20,\"pad\":0},\"yaxis\":{\"title\":{\"text\":\"Spacing (mm)\"}},\"barmode\":\"group\",\"width\":1000,\"height\":600},                        {\"responsive\": true}                    ).then(function(){\n",
       "                            \n",
       "var gd = document.getElementById('1044cab1-1992-4398-b7a8-40115835b46d');\n",
       "var x = new MutationObserver(function (mutations, observer) {{\n",
       "        var display = window.getComputedStyle(gd).display;\n",
       "        if (!display || display === 'none') {{\n",
       "            console.log([gd, 'removed!']);\n",
       "            Plotly.purge(gd);\n",
       "            observer.disconnect();\n",
       "        }}\n",
       "}});\n",
       "\n",
       "// Listen for the removal of the full notebook cells\n",
       "var notebookContainer = gd.closest('#notebook-container');\n",
       "if (notebookContainer) {{\n",
       "    x.observe(notebookContainer, {childList: true});\n",
       "}}\n",
       "\n",
       "// Listen for the clearing of the current output cell\n",
       "var outputEl = gd.closest('.output');\n",
       "if (outputEl) {{\n",
       "    x.observe(outputEl, {childList: true});\n",
       "}}\n",
       "\n",
       "                        })                };                });            </script>        </div>"
      ]
     },
     "metadata": {},
     "output_type": "display_data"
    }
   ],
   "source": [
    "import random\n",
    "x_ticks = ['X', 'Y', 'Z']  # Base positions for each group of bars\n",
    "y_axis_title = 'Spacing (mm)'\n",
    "colors_sub = np.random.choice(colors, 3, replace=False)\n",
    "plot_variability_plotly_grouped( {'Axial': [mean_x_axial, mean_y_axial, mean_z_axial],\n",
    "                                'Coronal': [mean_x_coronal, mean_y_coronal, mean_z_coronal],\n",
    "                                'Sagital': [mean_x_sagital, mean_y_sagital, mean_z_sagital]},\n",
    "                                {'Axial': [std_x_axial, std_y_axial, std_z_axial],\n",
    "                                'Coronal': [std_x_coronal, std_y_coronal, std_z_coronal],\n",
    "                                'Sagital': [std_x_sagital, std_y_sagital, std_z_sagital]},\n",
    "                                ['Axial', 'Coronal', 'Sagital'],\n",
    "                                colors_sub,\n",
    "                                'spacing_T2w_grouped',\n",
    "                                x_ticks,\n",
    "                                y_axis_title,\n",
    "                                save_as_pdf=True)"
   ]
  },
  {
   "cell_type": "markdown",
   "metadata": {},
   "source": [
    "## Orientation"
   ]
  },
  {
   "cell_type": "markdown",
   "metadata": {},
   "source": [
    "### T2w"
   ]
  },
  {
   "cell_type": "code",
   "execution_count": 127,
   "metadata": {},
   "outputs": [
    {
     "data": {
      "application/vnd.jupyter.widget-view+json": {
       "model_id": "a96c0209e5bd40c6af9f0ca96a059069",
       "version_major": 2,
       "version_minor": 0
      },
      "text/plain": [
       "  0%|          | 0/496 [00:00<?, ?it/s]"
      ]
     },
     "metadata": {},
     "output_type": "display_data"
    }
   ],
   "source": [
    "image_orientation_axial = []\n",
    "image_orientation_coronal = []\n",
    "image_orientation_sagital = []\n",
    "\n",
    "for image in tqdm(train_ds):\n",
    "    if 'sagital' in image.keys():\n",
    "        image_orientation_sagital.append(image['sagital_meta_dict']['space'])\n",
    "    if 'coronal' in image.keys():\n",
    "        image_orientation_coronal.append(image['coronal_meta_dict']['space'])\n",
    "    if 'axial' in image.keys():\n",
    "        image_orientation_axial.append(image['axial_meta_dict']['space'])"
   ]
  },
  {
   "cell_type": "code",
   "execution_count": 131,
   "metadata": {},
   "outputs": [],
   "source": [
    "orientation_counts_axial = {str(orientation): image_orientation_axial.count(orientation) for orientation in set(image_orientation_axial)}\n",
    "orientation_counts_coronal = {str(orientation): image_orientation_coronal.count(orientation) for orientation in set(image_orientation_coronal)}\n",
    "orientation_counts_sagital = {str(orientation): image_orientation_sagital.count(orientation) for orientation in set(image_orientation_sagital)}"
   ]
  },
  {
   "cell_type": "code",
   "execution_count": 142,
   "metadata": {},
   "outputs": [
    {
     "data": {
      "application/vnd.plotly.v1+json": {
       "config": {
        "plotlyServerURL": "https://plot.ly"
       },
       "data": [
        {
         "insidetextorientation": "radial",
         "labels": [
          "RAS"
         ],
         "marker": {
          "colors": [
           "lightseagreen",
           "gold",
           "lightpink",
           "lightblue",
           "lightgreen",
           "violet"
          ]
         },
         "textinfo": "label+percent",
         "type": "pie",
         "values": [
          197
         ]
        }
       ],
       "layout": {
        "showlegend": true,
        "template": {
         "data": {
          "bar": [
           {
            "error_x": {
             "color": "#2a3f5f"
            },
            "error_y": {
             "color": "#2a3f5f"
            },
            "marker": {
             "line": {
              "color": "#E5ECF6",
              "width": 0.5
             },
             "pattern": {
              "fillmode": "overlay",
              "size": 10,
              "solidity": 0.2
             }
            },
            "type": "bar"
           }
          ],
          "barpolar": [
           {
            "marker": {
             "line": {
              "color": "#E5ECF6",
              "width": 0.5
             },
             "pattern": {
              "fillmode": "overlay",
              "size": 10,
              "solidity": 0.2
             }
            },
            "type": "barpolar"
           }
          ],
          "carpet": [
           {
            "aaxis": {
             "endlinecolor": "#2a3f5f",
             "gridcolor": "white",
             "linecolor": "white",
             "minorgridcolor": "white",
             "startlinecolor": "#2a3f5f"
            },
            "baxis": {
             "endlinecolor": "#2a3f5f",
             "gridcolor": "white",
             "linecolor": "white",
             "minorgridcolor": "white",
             "startlinecolor": "#2a3f5f"
            },
            "type": "carpet"
           }
          ],
          "choropleth": [
           {
            "colorbar": {
             "outlinewidth": 0,
             "ticks": ""
            },
            "type": "choropleth"
           }
          ],
          "contour": [
           {
            "colorbar": {
             "outlinewidth": 0,
             "ticks": ""
            },
            "colorscale": [
             [
              0,
              "#0d0887"
             ],
             [
              0.1111111111111111,
              "#46039f"
             ],
             [
              0.2222222222222222,
              "#7201a8"
             ],
             [
              0.3333333333333333,
              "#9c179e"
             ],
             [
              0.4444444444444444,
              "#bd3786"
             ],
             [
              0.5555555555555556,
              "#d8576b"
             ],
             [
              0.6666666666666666,
              "#ed7953"
             ],
             [
              0.7777777777777778,
              "#fb9f3a"
             ],
             [
              0.8888888888888888,
              "#fdca26"
             ],
             [
              1,
              "#f0f921"
             ]
            ],
            "type": "contour"
           }
          ],
          "contourcarpet": [
           {
            "colorbar": {
             "outlinewidth": 0,
             "ticks": ""
            },
            "type": "contourcarpet"
           }
          ],
          "heatmap": [
           {
            "colorbar": {
             "outlinewidth": 0,
             "ticks": ""
            },
            "colorscale": [
             [
              0,
              "#0d0887"
             ],
             [
              0.1111111111111111,
              "#46039f"
             ],
             [
              0.2222222222222222,
              "#7201a8"
             ],
             [
              0.3333333333333333,
              "#9c179e"
             ],
             [
              0.4444444444444444,
              "#bd3786"
             ],
             [
              0.5555555555555556,
              "#d8576b"
             ],
             [
              0.6666666666666666,
              "#ed7953"
             ],
             [
              0.7777777777777778,
              "#fb9f3a"
             ],
             [
              0.8888888888888888,
              "#fdca26"
             ],
             [
              1,
              "#f0f921"
             ]
            ],
            "type": "heatmap"
           }
          ],
          "heatmapgl": [
           {
            "colorbar": {
             "outlinewidth": 0,
             "ticks": ""
            },
            "colorscale": [
             [
              0,
              "#0d0887"
             ],
             [
              0.1111111111111111,
              "#46039f"
             ],
             [
              0.2222222222222222,
              "#7201a8"
             ],
             [
              0.3333333333333333,
              "#9c179e"
             ],
             [
              0.4444444444444444,
              "#bd3786"
             ],
             [
              0.5555555555555556,
              "#d8576b"
             ],
             [
              0.6666666666666666,
              "#ed7953"
             ],
             [
              0.7777777777777778,
              "#fb9f3a"
             ],
             [
              0.8888888888888888,
              "#fdca26"
             ],
             [
              1,
              "#f0f921"
             ]
            ],
            "type": "heatmapgl"
           }
          ],
          "histogram": [
           {
            "marker": {
             "pattern": {
              "fillmode": "overlay",
              "size": 10,
              "solidity": 0.2
             }
            },
            "type": "histogram"
           }
          ],
          "histogram2d": [
           {
            "colorbar": {
             "outlinewidth": 0,
             "ticks": ""
            },
            "colorscale": [
             [
              0,
              "#0d0887"
             ],
             [
              0.1111111111111111,
              "#46039f"
             ],
             [
              0.2222222222222222,
              "#7201a8"
             ],
             [
              0.3333333333333333,
              "#9c179e"
             ],
             [
              0.4444444444444444,
              "#bd3786"
             ],
             [
              0.5555555555555556,
              "#d8576b"
             ],
             [
              0.6666666666666666,
              "#ed7953"
             ],
             [
              0.7777777777777778,
              "#fb9f3a"
             ],
             [
              0.8888888888888888,
              "#fdca26"
             ],
             [
              1,
              "#f0f921"
             ]
            ],
            "type": "histogram2d"
           }
          ],
          "histogram2dcontour": [
           {
            "colorbar": {
             "outlinewidth": 0,
             "ticks": ""
            },
            "colorscale": [
             [
              0,
              "#0d0887"
             ],
             [
              0.1111111111111111,
              "#46039f"
             ],
             [
              0.2222222222222222,
              "#7201a8"
             ],
             [
              0.3333333333333333,
              "#9c179e"
             ],
             [
              0.4444444444444444,
              "#bd3786"
             ],
             [
              0.5555555555555556,
              "#d8576b"
             ],
             [
              0.6666666666666666,
              "#ed7953"
             ],
             [
              0.7777777777777778,
              "#fb9f3a"
             ],
             [
              0.8888888888888888,
              "#fdca26"
             ],
             [
              1,
              "#f0f921"
             ]
            ],
            "type": "histogram2dcontour"
           }
          ],
          "mesh3d": [
           {
            "colorbar": {
             "outlinewidth": 0,
             "ticks": ""
            },
            "type": "mesh3d"
           }
          ],
          "parcoords": [
           {
            "line": {
             "colorbar": {
              "outlinewidth": 0,
              "ticks": ""
             }
            },
            "type": "parcoords"
           }
          ],
          "pie": [
           {
            "automargin": true,
            "type": "pie"
           }
          ],
          "scatter": [
           {
            "fillpattern": {
             "fillmode": "overlay",
             "size": 10,
             "solidity": 0.2
            },
            "type": "scatter"
           }
          ],
          "scatter3d": [
           {
            "line": {
             "colorbar": {
              "outlinewidth": 0,
              "ticks": ""
             }
            },
            "marker": {
             "colorbar": {
              "outlinewidth": 0,
              "ticks": ""
             }
            },
            "type": "scatter3d"
           }
          ],
          "scattercarpet": [
           {
            "marker": {
             "colorbar": {
              "outlinewidth": 0,
              "ticks": ""
             }
            },
            "type": "scattercarpet"
           }
          ],
          "scattergeo": [
           {
            "marker": {
             "colorbar": {
              "outlinewidth": 0,
              "ticks": ""
             }
            },
            "type": "scattergeo"
           }
          ],
          "scattergl": [
           {
            "marker": {
             "colorbar": {
              "outlinewidth": 0,
              "ticks": ""
             }
            },
            "type": "scattergl"
           }
          ],
          "scattermapbox": [
           {
            "marker": {
             "colorbar": {
              "outlinewidth": 0,
              "ticks": ""
             }
            },
            "type": "scattermapbox"
           }
          ],
          "scatterpolar": [
           {
            "marker": {
             "colorbar": {
              "outlinewidth": 0,
              "ticks": ""
             }
            },
            "type": "scatterpolar"
           }
          ],
          "scatterpolargl": [
           {
            "marker": {
             "colorbar": {
              "outlinewidth": 0,
              "ticks": ""
             }
            },
            "type": "scatterpolargl"
           }
          ],
          "scatterternary": [
           {
            "marker": {
             "colorbar": {
              "outlinewidth": 0,
              "ticks": ""
             }
            },
            "type": "scatterternary"
           }
          ],
          "surface": [
           {
            "colorbar": {
             "outlinewidth": 0,
             "ticks": ""
            },
            "colorscale": [
             [
              0,
              "#0d0887"
             ],
             [
              0.1111111111111111,
              "#46039f"
             ],
             [
              0.2222222222222222,
              "#7201a8"
             ],
             [
              0.3333333333333333,
              "#9c179e"
             ],
             [
              0.4444444444444444,
              "#bd3786"
             ],
             [
              0.5555555555555556,
              "#d8576b"
             ],
             [
              0.6666666666666666,
              "#ed7953"
             ],
             [
              0.7777777777777778,
              "#fb9f3a"
             ],
             [
              0.8888888888888888,
              "#fdca26"
             ],
             [
              1,
              "#f0f921"
             ]
            ],
            "type": "surface"
           }
          ],
          "table": [
           {
            "cells": {
             "fill": {
              "color": "#EBF0F8"
             },
             "line": {
              "color": "white"
             }
            },
            "header": {
             "fill": {
              "color": "#C8D4E3"
             },
             "line": {
              "color": "white"
             }
            },
            "type": "table"
           }
          ]
         },
         "layout": {
          "annotationdefaults": {
           "arrowcolor": "#2a3f5f",
           "arrowhead": 0,
           "arrowwidth": 1
          },
          "autotypenumbers": "strict",
          "coloraxis": {
           "colorbar": {
            "outlinewidth": 0,
            "ticks": ""
           }
          },
          "colorscale": {
           "diverging": [
            [
             0,
             "#8e0152"
            ],
            [
             0.1,
             "#c51b7d"
            ],
            [
             0.2,
             "#de77ae"
            ],
            [
             0.3,
             "#f1b6da"
            ],
            [
             0.4,
             "#fde0ef"
            ],
            [
             0.5,
             "#f7f7f7"
            ],
            [
             0.6,
             "#e6f5d0"
            ],
            [
             0.7,
             "#b8e186"
            ],
            [
             0.8,
             "#7fbc41"
            ],
            [
             0.9,
             "#4d9221"
            ],
            [
             1,
             "#276419"
            ]
           ],
           "sequential": [
            [
             0,
             "#0d0887"
            ],
            [
             0.1111111111111111,
             "#46039f"
            ],
            [
             0.2222222222222222,
             "#7201a8"
            ],
            [
             0.3333333333333333,
             "#9c179e"
            ],
            [
             0.4444444444444444,
             "#bd3786"
            ],
            [
             0.5555555555555556,
             "#d8576b"
            ],
            [
             0.6666666666666666,
             "#ed7953"
            ],
            [
             0.7777777777777778,
             "#fb9f3a"
            ],
            [
             0.8888888888888888,
             "#fdca26"
            ],
            [
             1,
             "#f0f921"
            ]
           ],
           "sequentialminus": [
            [
             0,
             "#0d0887"
            ],
            [
             0.1111111111111111,
             "#46039f"
            ],
            [
             0.2222222222222222,
             "#7201a8"
            ],
            [
             0.3333333333333333,
             "#9c179e"
            ],
            [
             0.4444444444444444,
             "#bd3786"
            ],
            [
             0.5555555555555556,
             "#d8576b"
            ],
            [
             0.6666666666666666,
             "#ed7953"
            ],
            [
             0.7777777777777778,
             "#fb9f3a"
            ],
            [
             0.8888888888888888,
             "#fdca26"
            ],
            [
             1,
             "#f0f921"
            ]
           ]
          },
          "colorway": [
           "#636efa",
           "#EF553B",
           "#00cc96",
           "#ab63fa",
           "#FFA15A",
           "#19d3f3",
           "#FF6692",
           "#B6E880",
           "#FF97FF",
           "#FECB52"
          ],
          "font": {
           "color": "#2a3f5f"
          },
          "geo": {
           "bgcolor": "white",
           "lakecolor": "white",
           "landcolor": "#E5ECF6",
           "showlakes": true,
           "showland": true,
           "subunitcolor": "white"
          },
          "hoverlabel": {
           "align": "left"
          },
          "hovermode": "closest",
          "mapbox": {
           "style": "light"
          },
          "paper_bgcolor": "white",
          "plot_bgcolor": "#E5ECF6",
          "polar": {
           "angularaxis": {
            "gridcolor": "white",
            "linecolor": "white",
            "ticks": ""
           },
           "bgcolor": "#E5ECF6",
           "radialaxis": {
            "gridcolor": "white",
            "linecolor": "white",
            "ticks": ""
           }
          },
          "scene": {
           "xaxis": {
            "backgroundcolor": "#E5ECF6",
            "gridcolor": "white",
            "gridwidth": 2,
            "linecolor": "white",
            "showbackground": true,
            "ticks": "",
            "zerolinecolor": "white"
           },
           "yaxis": {
            "backgroundcolor": "#E5ECF6",
            "gridcolor": "white",
            "gridwidth": 2,
            "linecolor": "white",
            "showbackground": true,
            "ticks": "",
            "zerolinecolor": "white"
           },
           "zaxis": {
            "backgroundcolor": "#E5ECF6",
            "gridcolor": "white",
            "gridwidth": 2,
            "linecolor": "white",
            "showbackground": true,
            "ticks": "",
            "zerolinecolor": "white"
           }
          },
          "shapedefaults": {
           "line": {
            "color": "#2a3f5f"
           }
          },
          "ternary": {
           "aaxis": {
            "gridcolor": "white",
            "linecolor": "white",
            "ticks": ""
           },
           "baxis": {
            "gridcolor": "white",
            "linecolor": "white",
            "ticks": ""
           },
           "bgcolor": "#E5ECF6",
           "caxis": {
            "gridcolor": "white",
            "linecolor": "white",
            "ticks": ""
           }
          },
          "title": {
           "x": 0.05
          },
          "xaxis": {
           "automargin": true,
           "gridcolor": "white",
           "linecolor": "white",
           "ticks": "",
           "title": {
            "standoff": 15
           },
           "zerolinecolor": "white",
           "zerolinewidth": 2
          },
          "yaxis": {
           "automargin": true,
           "gridcolor": "white",
           "linecolor": "white",
           "ticks": "",
           "title": {
            "standoff": 15
           },
           "zerolinecolor": "white",
           "zerolinewidth": 2
          }
         }
        },
        "title": {
         "font": {
          "size": 30
         },
         "text": "Orientation Distribution"
        }
       }
      },
      "text/html": [
       "<div>                            <div id=\"d55f021c-03d2-4631-98e7-3bbd8d68d963\" class=\"plotly-graph-div\" style=\"height:525px; width:100%;\"></div>            <script type=\"text/javascript\">                require([\"plotly\"], function(Plotly) {                    window.PLOTLYENV=window.PLOTLYENV || {};                                    if (document.getElementById(\"d55f021c-03d2-4631-98e7-3bbd8d68d963\")) {                    Plotly.newPlot(                        \"d55f021c-03d2-4631-98e7-3bbd8d68d963\",                        [{\"insidetextorientation\":\"radial\",\"labels\":[\"RAS\"],\"marker\":{\"colors\":[\"lightseagreen\",\"gold\",\"lightpink\",\"lightblue\",\"lightgreen\",\"violet\"]},\"textinfo\":\"label+percent\",\"values\":[197],\"type\":\"pie\"}],                        {\"template\":{\"data\":{\"histogram2dcontour\":[{\"type\":\"histogram2dcontour\",\"colorbar\":{\"outlinewidth\":0,\"ticks\":\"\"},\"colorscale\":[[0.0,\"#0d0887\"],[0.1111111111111111,\"#46039f\"],[0.2222222222222222,\"#7201a8\"],[0.3333333333333333,\"#9c179e\"],[0.4444444444444444,\"#bd3786\"],[0.5555555555555556,\"#d8576b\"],[0.6666666666666666,\"#ed7953\"],[0.7777777777777778,\"#fb9f3a\"],[0.8888888888888888,\"#fdca26\"],[1.0,\"#f0f921\"]]}],\"choropleth\":[{\"type\":\"choropleth\",\"colorbar\":{\"outlinewidth\":0,\"ticks\":\"\"}}],\"histogram2d\":[{\"type\":\"histogram2d\",\"colorbar\":{\"outlinewidth\":0,\"ticks\":\"\"},\"colorscale\":[[0.0,\"#0d0887\"],[0.1111111111111111,\"#46039f\"],[0.2222222222222222,\"#7201a8\"],[0.3333333333333333,\"#9c179e\"],[0.4444444444444444,\"#bd3786\"],[0.5555555555555556,\"#d8576b\"],[0.6666666666666666,\"#ed7953\"],[0.7777777777777778,\"#fb9f3a\"],[0.8888888888888888,\"#fdca26\"],[1.0,\"#f0f921\"]]}],\"heatmap\":[{\"type\":\"heatmap\",\"colorbar\":{\"outlinewidth\":0,\"ticks\":\"\"},\"colorscale\":[[0.0,\"#0d0887\"],[0.1111111111111111,\"#46039f\"],[0.2222222222222222,\"#7201a8\"],[0.3333333333333333,\"#9c179e\"],[0.4444444444444444,\"#bd3786\"],[0.5555555555555556,\"#d8576b\"],[0.6666666666666666,\"#ed7953\"],[0.7777777777777778,\"#fb9f3a\"],[0.8888888888888888,\"#fdca26\"],[1.0,\"#f0f921\"]]}],\"heatmapgl\":[{\"type\":\"heatmapgl\",\"colorbar\":{\"outlinewidth\":0,\"ticks\":\"\"},\"colorscale\":[[0.0,\"#0d0887\"],[0.1111111111111111,\"#46039f\"],[0.2222222222222222,\"#7201a8\"],[0.3333333333333333,\"#9c179e\"],[0.4444444444444444,\"#bd3786\"],[0.5555555555555556,\"#d8576b\"],[0.6666666666666666,\"#ed7953\"],[0.7777777777777778,\"#fb9f3a\"],[0.8888888888888888,\"#fdca26\"],[1.0,\"#f0f921\"]]}],\"contourcarpet\":[{\"type\":\"contourcarpet\",\"colorbar\":{\"outlinewidth\":0,\"ticks\":\"\"}}],\"contour\":[{\"type\":\"contour\",\"colorbar\":{\"outlinewidth\":0,\"ticks\":\"\"},\"colorscale\":[[0.0,\"#0d0887\"],[0.1111111111111111,\"#46039f\"],[0.2222222222222222,\"#7201a8\"],[0.3333333333333333,\"#9c179e\"],[0.4444444444444444,\"#bd3786\"],[0.5555555555555556,\"#d8576b\"],[0.6666666666666666,\"#ed7953\"],[0.7777777777777778,\"#fb9f3a\"],[0.8888888888888888,\"#fdca26\"],[1.0,\"#f0f921\"]]}],\"surface\":[{\"type\":\"surface\",\"colorbar\":{\"outlinewidth\":0,\"ticks\":\"\"},\"colorscale\":[[0.0,\"#0d0887\"],[0.1111111111111111,\"#46039f\"],[0.2222222222222222,\"#7201a8\"],[0.3333333333333333,\"#9c179e\"],[0.4444444444444444,\"#bd3786\"],[0.5555555555555556,\"#d8576b\"],[0.6666666666666666,\"#ed7953\"],[0.7777777777777778,\"#fb9f3a\"],[0.8888888888888888,\"#fdca26\"],[1.0,\"#f0f921\"]]}],\"mesh3d\":[{\"type\":\"mesh3d\",\"colorbar\":{\"outlinewidth\":0,\"ticks\":\"\"}}],\"scatter\":[{\"fillpattern\":{\"fillmode\":\"overlay\",\"size\":10,\"solidity\":0.2},\"type\":\"scatter\"}],\"parcoords\":[{\"type\":\"parcoords\",\"line\":{\"colorbar\":{\"outlinewidth\":0,\"ticks\":\"\"}}}],\"scatterpolargl\":[{\"type\":\"scatterpolargl\",\"marker\":{\"colorbar\":{\"outlinewidth\":0,\"ticks\":\"\"}}}],\"bar\":[{\"error_x\":{\"color\":\"#2a3f5f\"},\"error_y\":{\"color\":\"#2a3f5f\"},\"marker\":{\"line\":{\"color\":\"#E5ECF6\",\"width\":0.5},\"pattern\":{\"fillmode\":\"overlay\",\"size\":10,\"solidity\":0.2}},\"type\":\"bar\"}],\"scattergeo\":[{\"type\":\"scattergeo\",\"marker\":{\"colorbar\":{\"outlinewidth\":0,\"ticks\":\"\"}}}],\"scatterpolar\":[{\"type\":\"scatterpolar\",\"marker\":{\"colorbar\":{\"outlinewidth\":0,\"ticks\":\"\"}}}],\"histogram\":[{\"marker\":{\"pattern\":{\"fillmode\":\"overlay\",\"size\":10,\"solidity\":0.2}},\"type\":\"histogram\"}],\"scattergl\":[{\"type\":\"scattergl\",\"marker\":{\"colorbar\":{\"outlinewidth\":0,\"ticks\":\"\"}}}],\"scatter3d\":[{\"type\":\"scatter3d\",\"line\":{\"colorbar\":{\"outlinewidth\":0,\"ticks\":\"\"}},\"marker\":{\"colorbar\":{\"outlinewidth\":0,\"ticks\":\"\"}}}],\"scattermapbox\":[{\"type\":\"scattermapbox\",\"marker\":{\"colorbar\":{\"outlinewidth\":0,\"ticks\":\"\"}}}],\"scatterternary\":[{\"type\":\"scatterternary\",\"marker\":{\"colorbar\":{\"outlinewidth\":0,\"ticks\":\"\"}}}],\"scattercarpet\":[{\"type\":\"scattercarpet\",\"marker\":{\"colorbar\":{\"outlinewidth\":0,\"ticks\":\"\"}}}],\"carpet\":[{\"aaxis\":{\"endlinecolor\":\"#2a3f5f\",\"gridcolor\":\"white\",\"linecolor\":\"white\",\"minorgridcolor\":\"white\",\"startlinecolor\":\"#2a3f5f\"},\"baxis\":{\"endlinecolor\":\"#2a3f5f\",\"gridcolor\":\"white\",\"linecolor\":\"white\",\"minorgridcolor\":\"white\",\"startlinecolor\":\"#2a3f5f\"},\"type\":\"carpet\"}],\"table\":[{\"cells\":{\"fill\":{\"color\":\"#EBF0F8\"},\"line\":{\"color\":\"white\"}},\"header\":{\"fill\":{\"color\":\"#C8D4E3\"},\"line\":{\"color\":\"white\"}},\"type\":\"table\"}],\"barpolar\":[{\"marker\":{\"line\":{\"color\":\"#E5ECF6\",\"width\":0.5},\"pattern\":{\"fillmode\":\"overlay\",\"size\":10,\"solidity\":0.2}},\"type\":\"barpolar\"}],\"pie\":[{\"automargin\":true,\"type\":\"pie\"}]},\"layout\":{\"autotypenumbers\":\"strict\",\"colorway\":[\"#636efa\",\"#EF553B\",\"#00cc96\",\"#ab63fa\",\"#FFA15A\",\"#19d3f3\",\"#FF6692\",\"#B6E880\",\"#FF97FF\",\"#FECB52\"],\"font\":{\"color\":\"#2a3f5f\"},\"hovermode\":\"closest\",\"hoverlabel\":{\"align\":\"left\"},\"paper_bgcolor\":\"white\",\"plot_bgcolor\":\"#E5ECF6\",\"polar\":{\"bgcolor\":\"#E5ECF6\",\"angularaxis\":{\"gridcolor\":\"white\",\"linecolor\":\"white\",\"ticks\":\"\"},\"radialaxis\":{\"gridcolor\":\"white\",\"linecolor\":\"white\",\"ticks\":\"\"}},\"ternary\":{\"bgcolor\":\"#E5ECF6\",\"aaxis\":{\"gridcolor\":\"white\",\"linecolor\":\"white\",\"ticks\":\"\"},\"baxis\":{\"gridcolor\":\"white\",\"linecolor\":\"white\",\"ticks\":\"\"},\"caxis\":{\"gridcolor\":\"white\",\"linecolor\":\"white\",\"ticks\":\"\"}},\"coloraxis\":{\"colorbar\":{\"outlinewidth\":0,\"ticks\":\"\"}},\"colorscale\":{\"sequential\":[[0.0,\"#0d0887\"],[0.1111111111111111,\"#46039f\"],[0.2222222222222222,\"#7201a8\"],[0.3333333333333333,\"#9c179e\"],[0.4444444444444444,\"#bd3786\"],[0.5555555555555556,\"#d8576b\"],[0.6666666666666666,\"#ed7953\"],[0.7777777777777778,\"#fb9f3a\"],[0.8888888888888888,\"#fdca26\"],[1.0,\"#f0f921\"]],\"sequentialminus\":[[0.0,\"#0d0887\"],[0.1111111111111111,\"#46039f\"],[0.2222222222222222,\"#7201a8\"],[0.3333333333333333,\"#9c179e\"],[0.4444444444444444,\"#bd3786\"],[0.5555555555555556,\"#d8576b\"],[0.6666666666666666,\"#ed7953\"],[0.7777777777777778,\"#fb9f3a\"],[0.8888888888888888,\"#fdca26\"],[1.0,\"#f0f921\"]],\"diverging\":[[0,\"#8e0152\"],[0.1,\"#c51b7d\"],[0.2,\"#de77ae\"],[0.3,\"#f1b6da\"],[0.4,\"#fde0ef\"],[0.5,\"#f7f7f7\"],[0.6,\"#e6f5d0\"],[0.7,\"#b8e186\"],[0.8,\"#7fbc41\"],[0.9,\"#4d9221\"],[1,\"#276419\"]]},\"xaxis\":{\"gridcolor\":\"white\",\"linecolor\":\"white\",\"ticks\":\"\",\"title\":{\"standoff\":15},\"zerolinecolor\":\"white\",\"automargin\":true,\"zerolinewidth\":2},\"yaxis\":{\"gridcolor\":\"white\",\"linecolor\":\"white\",\"ticks\":\"\",\"title\":{\"standoff\":15},\"zerolinecolor\":\"white\",\"automargin\":true,\"zerolinewidth\":2},\"scene\":{\"xaxis\":{\"backgroundcolor\":\"#E5ECF6\",\"gridcolor\":\"white\",\"linecolor\":\"white\",\"showbackground\":true,\"ticks\":\"\",\"zerolinecolor\":\"white\",\"gridwidth\":2},\"yaxis\":{\"backgroundcolor\":\"#E5ECF6\",\"gridcolor\":\"white\",\"linecolor\":\"white\",\"showbackground\":true,\"ticks\":\"\",\"zerolinecolor\":\"white\",\"gridwidth\":2},\"zaxis\":{\"backgroundcolor\":\"#E5ECF6\",\"gridcolor\":\"white\",\"linecolor\":\"white\",\"showbackground\":true,\"ticks\":\"\",\"zerolinecolor\":\"white\",\"gridwidth\":2}},\"shapedefaults\":{\"line\":{\"color\":\"#2a3f5f\"}},\"annotationdefaults\":{\"arrowcolor\":\"#2a3f5f\",\"arrowhead\":0,\"arrowwidth\":1},\"geo\":{\"bgcolor\":\"white\",\"landcolor\":\"#E5ECF6\",\"subunitcolor\":\"white\",\"showland\":true,\"showlakes\":true,\"lakecolor\":\"white\"},\"title\":{\"x\":0.05},\"mapbox\":{\"style\":\"light\"}}},\"title\":{\"font\":{\"size\":30},\"text\":\"Orientation Distribution\"},\"showlegend\":true},                        {\"responsive\": true}                    ).then(function(){\n",
       "                            \n",
       "var gd = document.getElementById('d55f021c-03d2-4631-98e7-3bbd8d68d963');\n",
       "var x = new MutationObserver(function (mutations, observer) {{\n",
       "        var display = window.getComputedStyle(gd).display;\n",
       "        if (!display || display === 'none') {{\n",
       "            console.log([gd, 'removed!']);\n",
       "            Plotly.purge(gd);\n",
       "            observer.disconnect();\n",
       "        }}\n",
       "}});\n",
       "\n",
       "// Listen for the removal of the full notebook cells\n",
       "var notebookContainer = gd.closest('#notebook-container');\n",
       "if (notebookContainer) {{\n",
       "    x.observe(notebookContainer, {childList: true});\n",
       "}}\n",
       "\n",
       "// Listen for the clearing of the current output cell\n",
       "var outputEl = gd.closest('.output');\n",
       "if (outputEl) {{\n",
       "    x.observe(outputEl, {childList: true});\n",
       "}}\n",
       "\n",
       "                        })                };                });            </script>        </div>"
      ]
     },
     "metadata": {},
     "output_type": "display_data"
    }
   ],
   "source": [
    "plot_orientation_distribution(orientation_counts_sagital)"
   ]
  },
  {
   "cell_type": "markdown",
   "metadata": {},
   "source": [
    "## Image Intensities"
   ]
  },
  {
   "cell_type": "markdown",
   "metadata": {},
   "source": [
    "### T2w"
   ]
  },
  {
   "cell_type": "code",
   "execution_count": 40,
   "metadata": {},
   "outputs": [
    {
     "name": "stderr",
     "output_type": "stream",
     "text": [
      "100%|██████████| 496/496 [02:29<00:00,  3.32it/s]\n"
     ]
    }
   ],
   "source": [
    "def sample_intensities(image, sample_size=1000):\n",
    "    \"\"\"Sample a fixed number of pixels from an image.\"\"\"\n",
    "    flattened = image.flatten()\n",
    "    sampled_indices = np.random.choice(len(flattened), size=sample_size, replace=False)\n",
    "    return flattened[sampled_indices].mean()\n",
    "\n",
    "intensity_values_axial = []\n",
    "intensity_values_coronal = []\n",
    "intensity_values_sagital = []\n",
    "\n",
    "for image in tqdm(train_ds):\n",
    "    if 'sagital' in image.keys():\n",
    "        intensity_values_sagital.append(sample_intensities(image['sagital']))\n",
    "    if 'coronal' in image.keys():\n",
    "        intensity_values_coronal.append(sample_intensities(image['coronal']))\n",
    "    if 'axial' in image.keys():\n",
    "        intensity_values_axial.append(sample_intensities(image['axial']))"
   ]
  },
  {
   "cell_type": "code",
   "execution_count": 44,
   "metadata": {},
   "outputs": [],
   "source": [
    "def plot_intensity_histograms_subplots(intensity_values_axial, intensity_values_coronal, intensity_values_sagittal,colors,bins=50):\n",
    "    # Create a 3x1 subplot layout\n",
    "    fig = make_subplots(rows=3, cols=1, subplot_titles=('Axial Orientation', 'Coronal Orientation', 'Sagittal Orientation'))\n",
    "    \n",
    "    # Axial histogram\n",
    "    fig.add_trace(\n",
    "        go.Histogram(x=intensity_values_axial, name='Axial', marker_color=colors[0], nbinsx=bins),\n",
    "        row=1, col=1\n",
    "    )\n",
    "    \n",
    "    # Coronal histogram\n",
    "    fig.add_trace(\n",
    "        go.Histogram(x=intensity_values_coronal, name='Coronal', marker_color=colors[1], nbinsx=bins),\n",
    "        row=2, col=1\n",
    "    )\n",
    "    \n",
    "    # Sagittal histogram\n",
    "    fig.add_trace(\n",
    "        go.Histogram(x=intensity_values_sagittal, name='Sagittal', marker_color=colors[2], nbinsx=bins),\n",
    "        row=3, col=1\n",
    "    )\n",
    "    \n",
    "    # Update layout for the figure\n",
    "    fig.update_layout(\n",
    "        title_text='Histogram of Image Intensities by Orientation',\n",
    "        title_font_size=20,\n",
    "        template='plotly_white',  # Use a white background for cleaner appearance\n",
    "        font=dict(size=18),\n",
    "        height=900  # Adjust height to accommodate three subplots\n",
    "    )\n",
    "    \n",
    "    # Update x-axis and y-axis labels\n",
    "    fig.update_xaxes(title_text='Intensity', row=3, col=1)\n",
    "    fig.update_yaxes(title_text='Frequency', col=1)\n",
    "\n",
    "    fig.show()\n",
    "def plot_intensity_boxplots_subplots(intensity_values_axial, intensity_values_coronal, intensity_values_sagittal,colors):\n",
    "    # Create a 1x3 subplot layout\n",
    "    fig = make_subplots(rows=1, cols=3, subplot_titles=('Axial', 'Coronal', 'Sagittal'))\n",
    "    \n",
    "    # Axial boxplot\n",
    "    fig.add_trace(\n",
    "        go.Box(y=intensity_values_axial, name='Axial', marker_color=colors[0], boxmean='sd'), # boxmean='sd' shows the mean and standard deviation\n",
    "        row=1, col=1\n",
    "    )\n",
    "    \n",
    "    # Coronal boxplot\n",
    "    fig.add_trace(\n",
    "        go.Box(y=intensity_values_coronal, name='Coronal', marker_color=colors[1], boxmean='sd'),\n",
    "        row=1, col=2\n",
    "    )\n",
    "    \n",
    "    # Sagittal boxplot\n",
    "    fig.add_trace(\n",
    "        go.Box(y=intensity_values_sagittal, name='Sagittal', marker_color=colors[2], boxmean='sd'),\n",
    "        row=1, col=3\n",
    "    )\n",
    "    \n",
    "    # Update layout for the figure\n",
    "    fig.update_layout(\n",
    "        title_text='Boxplot of Image Intensities by Orientation',\n",
    "        title_font_size=20,\n",
    "        template='plotly_white',  # Use a white background for cleaner appearance\n",
    "        font=dict(size=18),\n",
    "        height=600,  # Adjust height as needed\n",
    "        width=1000  # Adjust width to accommodate three subplots\n",
    "    )\n",
    "    \n",
    "    fig.show()"
   ]
  },
  {
   "cell_type": "code",
   "execution_count": 47,
   "metadata": {},
   "outputs": [
    {
     "data": {
      "application/vnd.plotly.v1+json": {
       "config": {
        "plotlyServerURL": "https://plot.ly"
       },
       "data": [
        {
         "marker": {
          "color": "#efc86e"
         },
         "name": "Axial",
         "nbinsx": 50,
         "type": "histogram",
         "x": [
          493.5790100097656,
          596.6669921875,
          505.6319885253906,
          573.0650024414062,
          441.02398681640625,
          471.2959899902344,
          709.4354248046875,
          439.8389892578125,
          442.47698974609375,
          438.2969970703125,
          461.0199890136719,
          574.9929809570312,
          626.3779907226562,
          788.3209838867188,
          739.176025390625,
          570.3460083007812,
          627.1209716796875,
          499.50201416015625,
          496.35101318359375,
          548.9769897460938,
          548.8309936523438,
          546.8109741210938,
          532.8410034179688,
          442.97698974609375,
          563.5919799804688,
          133.52699279785156,
          131.1999969482422,
          542.9169921875,
          519.3939819335938,
          652.9569702148438,
          538.3779907226562,
          546.2760009765625,
          680.698974609375,
          499.7090148925781,
          542.0020141601562,
          549.1060180664062,
          520.3159790039062,
          588.6749877929688,
          663.7139892578125,
          676.4299926757812,
          628.2000122070312,
          540.0880126953125,
          352.9729919433594,
          645.5709838867188,
          656.4650268554688,
          461.27398681640625,
          114.8759994506836,
          63.77799987792969,
          489.2539978027344,
          482.7040100097656,
          476.84600830078125,
          590.43701171875,
          527.8790283203125,
          109.88400268554688,
          551.7830200195312,
          222.1020050048828,
          464.4540100097656,
          255.51400756835938,
          594.5399780273438,
          496.5260009765625,
          633.1010131835938,
          148.73399353027344,
          93.48500061035156,
          143.2740020751953,
          469.6579895019531,
          207.531005859375,
          556.177978515625,
          417.0409851074219,
          511.9410095214844,
          601.8380126953125,
          501.3450012207031,
          607.697021484375,
          531.1859741210938,
          126.14199829101562,
          607.5969848632812,
          119.19300079345703,
          128.31500244140625,
          479.75,
          462.5610046386719,
          586.1710205078125,
          157.99400329589844,
          163.2519989013672,
          355.87799072265625,
          478.5639953613281,
          450.260009765625,
          427.92999267578125,
          145.1540069580078,
          98.14600372314453,
          472.3550109863281,
          483.65399169921875,
          497.4339904785156,
          496.0220031738281,
          582.698974609375,
          641.208984375,
          119.06500244140625,
          331.4880065917969,
          464.8590087890625,
          430.40899658203125,
          389.3349914550781,
          526.2369995117188,
          284.7070007324219,
          442.677001953125,
          117.62999725341797,
          461.239990234375,
          430.7200012207031,
          419.86102294921875,
          633.5449829101562,
          475.2749938964844,
          142.29800415039062,
          96.2770004272461,
          152.35000610351562,
          150.01600646972656,
          534.5339965820312,
          539.2789916992188,
          473.3789978027344,
          642.7839965820312,
          129.20899963378906,
          105.86599731445312,
          524.5050048828125,
          459.1000061035156,
          545.47802734375,
          411.60198974609375,
          882.7670288085938,
          895.9559936523438,
          497.6000061035156,
          90.06999969482422,
          64.3759994506836,
          631.1019897460938,
          667.0239868164062,
          650.6430053710938,
          375,
          417.3169860839844,
          453.42401123046875,
          1098.7919921875,
          366.5559997558594,
          569.4500122070312,
          1277.5240478515625,
          652.7410278320312,
          650.0130004882812,
          635.1019897460938,
          500.7749938964844,
          526.3359985351562,
          510.7909851074219,
          444.2959899902344,
          430.5320129394531,
          708.8930053710938,
          668.6719970703125,
          676.6489868164062,
          484.2279968261719,
          551.5560302734375,
          419.5849914550781,
          594.5700073242188,
          768.905029296875,
          864.35400390625,
          455.3009948730469,
          606.489990234375,
          136.31399536132812,
          101.7490005493164,
          408.6619873046875,
          539.323974609375,
          558.6300048828125,
          557.5700073242188,
          493.93499755859375,
          800.1290283203125,
          707.5960083007812,
          695.1099853515625,
          122.4739990234375,
          106.29900360107422,
          616.1179809570312,
          607.3170166015625,
          643.2990112304688,
          433.781005859375,
          435.5710144042969,
          451.8030090332031,
          591.9180297851562,
          192.46400451660156,
          138.1320037841797,
          475.3269958496094,
          476.31201171875,
          283.1499938964844,
          513.0469970703125,
          320.22900390625,
          379.25299072265625,
          376.3900146484375,
          369.4930114746094,
          1114.2550048828125,
          1493.5269775390625,
          540.3720092773438,
          522.197998046875,
          525.5640258789062,
          447.5039978027344,
          366.8630065917969,
          486.2799987792969,
          677.1160278320312,
          777.7479858398438,
          78.55899810791016,
          121.54499816894531,
          420.9219970703125,
          465.6650085449219,
          485.9219970703125,
          536.9829711914062,
          81.98200225830078,
          167.51600646972656,
          128.84300231933594,
          360.072998046875,
          424.0159912109375,
          652.426025390625,
          394.9280090332031,
          632.6119995117188,
          583.2960205078125,
          636.8319702148438,
          496.8429870605469,
          502.5880126953125,
          451.7049865722656,
          536.7420043945312,
          471.6570129394531
         ],
         "xaxis": "x",
         "yaxis": "y"
        },
        {
         "marker": {
          "color": "#808fe1"
         },
         "name": "Coronal",
         "nbinsx": 50,
         "type": "histogram",
         "x": [
          583.2890014648438,
          590.8531494140625,
          355.64801025390625,
          364.5679931640625,
          628.9569702148438,
          677.458984375,
          654.655029296875,
          132.86199951171875,
          465.9320068359375,
          470.8890075683594,
          478.093994140625,
          716.6799926757812,
          499.03399658203125,
          492.81201171875,
          502.7309875488281,
          142.822998046875,
          221.89700317382812,
          223.10499572753906,
          124.3030014038086,
          206.79200744628906,
          206.42599487304688,
          16.368999481201172,
          529.1539916992188,
          207.1699981689453,
          462.30499267578125,
          494.7770080566406,
          156.4669952392578,
          140.79600524902344,
          145.10299682617188,
          127.91699981689453,
          582.0020141601562,
          571.5700073242188,
          549.2890014648438,
          158.2050018310547,
          266.3739929199219,
          92.59100341796875,
          511.3199462890625,
          532.7100219726562,
          157.22999572753906,
          185.9980010986328,
          389.1789855957031,
          389.22100830078125,
          141.97000122070312,
          326.3590087890625,
          54.65399932861328,
          773.7969970703125,
          96.72699737548828,
          585.1279907226562,
          550.7620239257812,
          187.76300048828125,
          891.0130004882812,
          490.5639953613281,
          528.8619995117188,
          524.0800170898438,
          516.2999877929688,
          618.2100219726562,
          620.0380249023438,
          531.593017578125,
          150.61199951171875,
          508.7950134277344,
          501.0039978027344,
          509.1860046386719,
          167.68499755859375,
          698.5560302734375,
          188.02000427246094,
          616.4249877929688,
          123.26000213623047,
          634.0079956054688,
          212.19500732421875,
          485.25,
          349.3269958496094,
          378.89898681640625,
          1445.1209716796875,
          494.1239929199219,
          475.99700927734375,
          748.1309814453125,
          162.26300048828125,
          123.33599853515625,
          577.7260131835938,
          148.39999389648438,
          170.88400268554688,
          416.72601318359375,
          397.64801025390625
         ],
         "xaxis": "x2",
         "yaxis": "y2"
        },
        {
         "marker": {
          "color": "#aab5d5"
         },
         "name": "Sagittal",
         "nbinsx": 50,
         "type": "histogram",
         "x": [
          544.6160278320312,
          549.822021484375,
          554.0460205078125,
          502.7179870605469,
          1666.2779541015625,
          536.2100219726562,
          537.6740112304688,
          615.1270141601562,
          708.176025390625,
          698.6599731445312,
          575.0430297851562,
          372.3110046386719,
          404.0710144042969,
          586.1309814453125,
          574.3989868164062,
          501.3800048828125,
          624.801025390625,
          618.0590209960938,
          563.5369873046875,
          603.6630249023438,
          660.6300048828125,
          619.7059936523438,
          430.822998046875,
          612.5789794921875,
          142.57200622558594,
          483.1830139160156,
          802.7940063476562,
          600.97998046875,
          585.718017578125,
          587.9609985351562,
          659.35302734375,
          613.0919799804688,
          538.5549926757812,
          508.77801513671875,
          606.4320068359375,
          564.2620239257812,
          712.8720092773438,
          637.9520263671875,
          626.666015625,
          665.1849975585938,
          459.4809875488281,
          677.5230102539062,
          680.9530029296875,
          124.57099914550781,
          336.2349853515625,
          329.0199890136719,
          599.0850219726562,
          144.781005859375,
          542.530029296875,
          291.2539978027344,
          440.4599914550781,
          461.3030090332031,
          304.10699462890625,
          606.0889892578125,
          591.3800048828125,
          709.2349853515625,
          402.135009765625,
          266.43701171875,
          560.3369750976562,
          565.4180297851562,
          541.041015625,
          610.156982421875,
          660.1510009765625,
          638.35302734375,
          623.9580078125,
          144.2729949951172,
          678.0570068359375,
          146.0070037841797,
          605.4530029296875,
          486.0199890136719,
          693.18798828125,
          189.83399963378906,
          495.5429992675781,
          523.3770141601562,
          412.2090148925781,
          415.4150085449219,
          527.6290283203125,
          136.69000244140625,
          542,
          558.89697265625,
          444.88800048828125,
          704.8209838867188,
          158.85299682617188,
          393.7590026855469,
          567.458984375,
          516.1820068359375,
          474.6300048828125,
          470.6080017089844,
          627.4000244140625,
          185.6820068359375,
          279.3760070800781,
          519.8679809570312,
          103.52899932861328,
          564.4669799804688,
          480.99200439453125,
          879.1536865234375,
          504.3500061035156,
          166.4409942626953,
          181.8509979248047,
          516.989990234375,
          513.8200073242188,
          625.791015625,
          127.22799682617188,
          647.9000244140625,
          489.6919860839844,
          498.43798828125,
          605.8870239257812,
          381.6969909667969,
          471.0169982910156,
          673.4229736328125,
          575.7080078125,
          98.81400299072266,
          637.739990234375,
          625.125,
          466.7590026855469,
          528.8309936523438,
          676.9249877929688,
          462.3450012207031,
          500.1809997558594,
          924.8779907226562,
          397.93499755859375,
          707.8989868164062,
          1080.7020263671875,
          1331.7750244140625,
          668.0360107421875,
          653.635009765625,
          566.1719970703125,
          654.5059814453125,
          687.3629760742188,
          663.4979858398438,
          704.8619995117188,
          690.8049926757812,
          591.7579956054688,
          675.31201171875,
          452.3179931640625,
          716.9760131835938,
          526.9340209960938,
          554.2930297851562,
          704.5869750976562,
          144.67100524902344,
          469.822998046875,
          616.8880004882812,
          646.4039916992188,
          519.5020141601562,
          805.0260009765625,
          570.1539916992188,
          140.68099975585938,
          471.0469970703125,
          379.7250061035156,
          139.15699768066406,
          631.1749877929688,
          651.1220092773438,
          588.9630126953125,
          535.531005859375,
          508.364990234375,
          444.6990051269531,
          519.7750244140625,
          695.4409790039062,
          215.98899841308594,
          535.1240234375,
          324.406005859375,
          575.6409912109375,
          656.3900146484375,
          635.6580200195312,
          503.33099365234375,
          470.5090026855469,
          311.8789978027344,
          432.2229919433594,
          425.29400634765625,
          1586.8590087890625,
          649.406982421875,
          649.3419799804688,
          559.7999877929688,
          342.04998779296875,
          350.5690002441406,
          515.2109985351562,
          700.9390258789062,
          785.5440063476562,
          102.28199768066406,
          431.5,
          551.2059936523438,
          477.2080078125,
          501.9389953613281,
          558.6920166015625,
          125.88800048828125,
          165.99000549316406,
          406.6499938964844,
          478.5090026855469,
          627.6370239257812,
          446.9169921875,
          449.3890075683594,
          579.4210205078125,
          594.3779907226562,
          514.2230224609375,
          475.87701416015625,
          540.3800048828125,
          495.0840148925781
         ],
         "xaxis": "x3",
         "yaxis": "y3"
        }
       ],
       "layout": {
        "annotations": [
         {
          "font": {
           "size": 16
          },
          "showarrow": false,
          "text": "Axial Orientation",
          "x": 0.5,
          "xanchor": "center",
          "xref": "paper",
          "y": 1,
          "yanchor": "bottom",
          "yref": "paper"
         },
         {
          "font": {
           "size": 16
          },
          "showarrow": false,
          "text": "Coronal Orientation",
          "x": 0.5,
          "xanchor": "center",
          "xref": "paper",
          "y": 0.6111111111111112,
          "yanchor": "bottom",
          "yref": "paper"
         },
         {
          "font": {
           "size": 16
          },
          "showarrow": false,
          "text": "Sagittal Orientation",
          "x": 0.5,
          "xanchor": "center",
          "xref": "paper",
          "y": 0.22222222222222224,
          "yanchor": "bottom",
          "yref": "paper"
         }
        ],
        "font": {
         "size": 18
        },
        "height": 900,
        "template": {
         "data": {
          "bar": [
           {
            "error_x": {
             "color": "#2a3f5f"
            },
            "error_y": {
             "color": "#2a3f5f"
            },
            "marker": {
             "line": {
              "color": "white",
              "width": 0.5
             },
             "pattern": {
              "fillmode": "overlay",
              "size": 10,
              "solidity": 0.2
             }
            },
            "type": "bar"
           }
          ],
          "barpolar": [
           {
            "marker": {
             "line": {
              "color": "white",
              "width": 0.5
             },
             "pattern": {
              "fillmode": "overlay",
              "size": 10,
              "solidity": 0.2
             }
            },
            "type": "barpolar"
           }
          ],
          "carpet": [
           {
            "aaxis": {
             "endlinecolor": "#2a3f5f",
             "gridcolor": "#C8D4E3",
             "linecolor": "#C8D4E3",
             "minorgridcolor": "#C8D4E3",
             "startlinecolor": "#2a3f5f"
            },
            "baxis": {
             "endlinecolor": "#2a3f5f",
             "gridcolor": "#C8D4E3",
             "linecolor": "#C8D4E3",
             "minorgridcolor": "#C8D4E3",
             "startlinecolor": "#2a3f5f"
            },
            "type": "carpet"
           }
          ],
          "choropleth": [
           {
            "colorbar": {
             "outlinewidth": 0,
             "ticks": ""
            },
            "type": "choropleth"
           }
          ],
          "contour": [
           {
            "colorbar": {
             "outlinewidth": 0,
             "ticks": ""
            },
            "colorscale": [
             [
              0,
              "#0d0887"
             ],
             [
              0.1111111111111111,
              "#46039f"
             ],
             [
              0.2222222222222222,
              "#7201a8"
             ],
             [
              0.3333333333333333,
              "#9c179e"
             ],
             [
              0.4444444444444444,
              "#bd3786"
             ],
             [
              0.5555555555555556,
              "#d8576b"
             ],
             [
              0.6666666666666666,
              "#ed7953"
             ],
             [
              0.7777777777777778,
              "#fb9f3a"
             ],
             [
              0.8888888888888888,
              "#fdca26"
             ],
             [
              1,
              "#f0f921"
             ]
            ],
            "type": "contour"
           }
          ],
          "contourcarpet": [
           {
            "colorbar": {
             "outlinewidth": 0,
             "ticks": ""
            },
            "type": "contourcarpet"
           }
          ],
          "heatmap": [
           {
            "colorbar": {
             "outlinewidth": 0,
             "ticks": ""
            },
            "colorscale": [
             [
              0,
              "#0d0887"
             ],
             [
              0.1111111111111111,
              "#46039f"
             ],
             [
              0.2222222222222222,
              "#7201a8"
             ],
             [
              0.3333333333333333,
              "#9c179e"
             ],
             [
              0.4444444444444444,
              "#bd3786"
             ],
             [
              0.5555555555555556,
              "#d8576b"
             ],
             [
              0.6666666666666666,
              "#ed7953"
             ],
             [
              0.7777777777777778,
              "#fb9f3a"
             ],
             [
              0.8888888888888888,
              "#fdca26"
             ],
             [
              1,
              "#f0f921"
             ]
            ],
            "type": "heatmap"
           }
          ],
          "heatmapgl": [
           {
            "colorbar": {
             "outlinewidth": 0,
             "ticks": ""
            },
            "colorscale": [
             [
              0,
              "#0d0887"
             ],
             [
              0.1111111111111111,
              "#46039f"
             ],
             [
              0.2222222222222222,
              "#7201a8"
             ],
             [
              0.3333333333333333,
              "#9c179e"
             ],
             [
              0.4444444444444444,
              "#bd3786"
             ],
             [
              0.5555555555555556,
              "#d8576b"
             ],
             [
              0.6666666666666666,
              "#ed7953"
             ],
             [
              0.7777777777777778,
              "#fb9f3a"
             ],
             [
              0.8888888888888888,
              "#fdca26"
             ],
             [
              1,
              "#f0f921"
             ]
            ],
            "type": "heatmapgl"
           }
          ],
          "histogram": [
           {
            "marker": {
             "pattern": {
              "fillmode": "overlay",
              "size": 10,
              "solidity": 0.2
             }
            },
            "type": "histogram"
           }
          ],
          "histogram2d": [
           {
            "colorbar": {
             "outlinewidth": 0,
             "ticks": ""
            },
            "colorscale": [
             [
              0,
              "#0d0887"
             ],
             [
              0.1111111111111111,
              "#46039f"
             ],
             [
              0.2222222222222222,
              "#7201a8"
             ],
             [
              0.3333333333333333,
              "#9c179e"
             ],
             [
              0.4444444444444444,
              "#bd3786"
             ],
             [
              0.5555555555555556,
              "#d8576b"
             ],
             [
              0.6666666666666666,
              "#ed7953"
             ],
             [
              0.7777777777777778,
              "#fb9f3a"
             ],
             [
              0.8888888888888888,
              "#fdca26"
             ],
             [
              1,
              "#f0f921"
             ]
            ],
            "type": "histogram2d"
           }
          ],
          "histogram2dcontour": [
           {
            "colorbar": {
             "outlinewidth": 0,
             "ticks": ""
            },
            "colorscale": [
             [
              0,
              "#0d0887"
             ],
             [
              0.1111111111111111,
              "#46039f"
             ],
             [
              0.2222222222222222,
              "#7201a8"
             ],
             [
              0.3333333333333333,
              "#9c179e"
             ],
             [
              0.4444444444444444,
              "#bd3786"
             ],
             [
              0.5555555555555556,
              "#d8576b"
             ],
             [
              0.6666666666666666,
              "#ed7953"
             ],
             [
              0.7777777777777778,
              "#fb9f3a"
             ],
             [
              0.8888888888888888,
              "#fdca26"
             ],
             [
              1,
              "#f0f921"
             ]
            ],
            "type": "histogram2dcontour"
           }
          ],
          "mesh3d": [
           {
            "colorbar": {
             "outlinewidth": 0,
             "ticks": ""
            },
            "type": "mesh3d"
           }
          ],
          "parcoords": [
           {
            "line": {
             "colorbar": {
              "outlinewidth": 0,
              "ticks": ""
             }
            },
            "type": "parcoords"
           }
          ],
          "pie": [
           {
            "automargin": true,
            "type": "pie"
           }
          ],
          "scatter": [
           {
            "fillpattern": {
             "fillmode": "overlay",
             "size": 10,
             "solidity": 0.2
            },
            "type": "scatter"
           }
          ],
          "scatter3d": [
           {
            "line": {
             "colorbar": {
              "outlinewidth": 0,
              "ticks": ""
             }
            },
            "marker": {
             "colorbar": {
              "outlinewidth": 0,
              "ticks": ""
             }
            },
            "type": "scatter3d"
           }
          ],
          "scattercarpet": [
           {
            "marker": {
             "colorbar": {
              "outlinewidth": 0,
              "ticks": ""
             }
            },
            "type": "scattercarpet"
           }
          ],
          "scattergeo": [
           {
            "marker": {
             "colorbar": {
              "outlinewidth": 0,
              "ticks": ""
             }
            },
            "type": "scattergeo"
           }
          ],
          "scattergl": [
           {
            "marker": {
             "colorbar": {
              "outlinewidth": 0,
              "ticks": ""
             }
            },
            "type": "scattergl"
           }
          ],
          "scattermapbox": [
           {
            "marker": {
             "colorbar": {
              "outlinewidth": 0,
              "ticks": ""
             }
            },
            "type": "scattermapbox"
           }
          ],
          "scatterpolar": [
           {
            "marker": {
             "colorbar": {
              "outlinewidth": 0,
              "ticks": ""
             }
            },
            "type": "scatterpolar"
           }
          ],
          "scatterpolargl": [
           {
            "marker": {
             "colorbar": {
              "outlinewidth": 0,
              "ticks": ""
             }
            },
            "type": "scatterpolargl"
           }
          ],
          "scatterternary": [
           {
            "marker": {
             "colorbar": {
              "outlinewidth": 0,
              "ticks": ""
             }
            },
            "type": "scatterternary"
           }
          ],
          "surface": [
           {
            "colorbar": {
             "outlinewidth": 0,
             "ticks": ""
            },
            "colorscale": [
             [
              0,
              "#0d0887"
             ],
             [
              0.1111111111111111,
              "#46039f"
             ],
             [
              0.2222222222222222,
              "#7201a8"
             ],
             [
              0.3333333333333333,
              "#9c179e"
             ],
             [
              0.4444444444444444,
              "#bd3786"
             ],
             [
              0.5555555555555556,
              "#d8576b"
             ],
             [
              0.6666666666666666,
              "#ed7953"
             ],
             [
              0.7777777777777778,
              "#fb9f3a"
             ],
             [
              0.8888888888888888,
              "#fdca26"
             ],
             [
              1,
              "#f0f921"
             ]
            ],
            "type": "surface"
           }
          ],
          "table": [
           {
            "cells": {
             "fill": {
              "color": "#EBF0F8"
             },
             "line": {
              "color": "white"
             }
            },
            "header": {
             "fill": {
              "color": "#C8D4E3"
             },
             "line": {
              "color": "white"
             }
            },
            "type": "table"
           }
          ]
         },
         "layout": {
          "annotationdefaults": {
           "arrowcolor": "#2a3f5f",
           "arrowhead": 0,
           "arrowwidth": 1
          },
          "autotypenumbers": "strict",
          "coloraxis": {
           "colorbar": {
            "outlinewidth": 0,
            "ticks": ""
           }
          },
          "colorscale": {
           "diverging": [
            [
             0,
             "#8e0152"
            ],
            [
             0.1,
             "#c51b7d"
            ],
            [
             0.2,
             "#de77ae"
            ],
            [
             0.3,
             "#f1b6da"
            ],
            [
             0.4,
             "#fde0ef"
            ],
            [
             0.5,
             "#f7f7f7"
            ],
            [
             0.6,
             "#e6f5d0"
            ],
            [
             0.7,
             "#b8e186"
            ],
            [
             0.8,
             "#7fbc41"
            ],
            [
             0.9,
             "#4d9221"
            ],
            [
             1,
             "#276419"
            ]
           ],
           "sequential": [
            [
             0,
             "#0d0887"
            ],
            [
             0.1111111111111111,
             "#46039f"
            ],
            [
             0.2222222222222222,
             "#7201a8"
            ],
            [
             0.3333333333333333,
             "#9c179e"
            ],
            [
             0.4444444444444444,
             "#bd3786"
            ],
            [
             0.5555555555555556,
             "#d8576b"
            ],
            [
             0.6666666666666666,
             "#ed7953"
            ],
            [
             0.7777777777777778,
             "#fb9f3a"
            ],
            [
             0.8888888888888888,
             "#fdca26"
            ],
            [
             1,
             "#f0f921"
            ]
           ],
           "sequentialminus": [
            [
             0,
             "#0d0887"
            ],
            [
             0.1111111111111111,
             "#46039f"
            ],
            [
             0.2222222222222222,
             "#7201a8"
            ],
            [
             0.3333333333333333,
             "#9c179e"
            ],
            [
             0.4444444444444444,
             "#bd3786"
            ],
            [
             0.5555555555555556,
             "#d8576b"
            ],
            [
             0.6666666666666666,
             "#ed7953"
            ],
            [
             0.7777777777777778,
             "#fb9f3a"
            ],
            [
             0.8888888888888888,
             "#fdca26"
            ],
            [
             1,
             "#f0f921"
            ]
           ]
          },
          "colorway": [
           "#636efa",
           "#EF553B",
           "#00cc96",
           "#ab63fa",
           "#FFA15A",
           "#19d3f3",
           "#FF6692",
           "#B6E880",
           "#FF97FF",
           "#FECB52"
          ],
          "font": {
           "color": "#2a3f5f"
          },
          "geo": {
           "bgcolor": "white",
           "lakecolor": "white",
           "landcolor": "white",
           "showlakes": true,
           "showland": true,
           "subunitcolor": "#C8D4E3"
          },
          "hoverlabel": {
           "align": "left"
          },
          "hovermode": "closest",
          "mapbox": {
           "style": "light"
          },
          "paper_bgcolor": "white",
          "plot_bgcolor": "white",
          "polar": {
           "angularaxis": {
            "gridcolor": "#EBF0F8",
            "linecolor": "#EBF0F8",
            "ticks": ""
           },
           "bgcolor": "white",
           "radialaxis": {
            "gridcolor": "#EBF0F8",
            "linecolor": "#EBF0F8",
            "ticks": ""
           }
          },
          "scene": {
           "xaxis": {
            "backgroundcolor": "white",
            "gridcolor": "#DFE8F3",
            "gridwidth": 2,
            "linecolor": "#EBF0F8",
            "showbackground": true,
            "ticks": "",
            "zerolinecolor": "#EBF0F8"
           },
           "yaxis": {
            "backgroundcolor": "white",
            "gridcolor": "#DFE8F3",
            "gridwidth": 2,
            "linecolor": "#EBF0F8",
            "showbackground": true,
            "ticks": "",
            "zerolinecolor": "#EBF0F8"
           },
           "zaxis": {
            "backgroundcolor": "white",
            "gridcolor": "#DFE8F3",
            "gridwidth": 2,
            "linecolor": "#EBF0F8",
            "showbackground": true,
            "ticks": "",
            "zerolinecolor": "#EBF0F8"
           }
          },
          "shapedefaults": {
           "line": {
            "color": "#2a3f5f"
           }
          },
          "ternary": {
           "aaxis": {
            "gridcolor": "#DFE8F3",
            "linecolor": "#A2B1C6",
            "ticks": ""
           },
           "baxis": {
            "gridcolor": "#DFE8F3",
            "linecolor": "#A2B1C6",
            "ticks": ""
           },
           "bgcolor": "white",
           "caxis": {
            "gridcolor": "#DFE8F3",
            "linecolor": "#A2B1C6",
            "ticks": ""
           }
          },
          "title": {
           "x": 0.05
          },
          "xaxis": {
           "automargin": true,
           "gridcolor": "#EBF0F8",
           "linecolor": "#EBF0F8",
           "ticks": "",
           "title": {
            "standoff": 15
           },
           "zerolinecolor": "#EBF0F8",
           "zerolinewidth": 2
          },
          "yaxis": {
           "automargin": true,
           "gridcolor": "#EBF0F8",
           "linecolor": "#EBF0F8",
           "ticks": "",
           "title": {
            "standoff": 15
           },
           "zerolinecolor": "#EBF0F8",
           "zerolinewidth": 2
          }
         }
        },
        "title": {
         "font": {
          "size": 20
         },
         "text": "Histogram of Image Intensities by Orientation"
        },
        "xaxis": {
         "anchor": "y",
         "domain": [
          0,
          1
         ]
        },
        "xaxis2": {
         "anchor": "y2",
         "domain": [
          0,
          1
         ]
        },
        "xaxis3": {
         "anchor": "y3",
         "domain": [
          0,
          1
         ],
         "title": {
          "text": "Intensity"
         }
        },
        "yaxis": {
         "anchor": "x",
         "domain": [
          0.7777777777777778,
          1
         ],
         "title": {
          "text": "Frequency"
         }
        },
        "yaxis2": {
         "anchor": "x2",
         "domain": [
          0.3888888888888889,
          0.6111111111111112
         ],
         "title": {
          "text": "Frequency"
         }
        },
        "yaxis3": {
         "anchor": "x3",
         "domain": [
          0,
          0.22222222222222224
         ],
         "title": {
          "text": "Frequency"
         }
        }
       }
      },
      "text/html": [
       "<div>                            <div id=\"0e22a78b-52c8-42df-9ae6-f418f6d472b6\" class=\"plotly-graph-div\" style=\"height:900px; width:100%;\"></div>            <script type=\"text/javascript\">                require([\"plotly\"], function(Plotly) {                    window.PLOTLYENV=window.PLOTLYENV || {};                                    if (document.getElementById(\"0e22a78b-52c8-42df-9ae6-f418f6d472b6\")) {                    Plotly.newPlot(                        \"0e22a78b-52c8-42df-9ae6-f418f6d472b6\",                        [{\"marker\":{\"color\":\"#efc86e\"},\"name\":\"Axial\",\"nbinsx\":50,\"x\":[493.5790100097656,596.6669921875,505.6319885253906,573.0650024414062,441.02398681640625,471.2959899902344,709.4354248046875,439.8389892578125,442.47698974609375,438.2969970703125,461.0199890136719,574.9929809570312,626.3779907226562,788.3209838867188,739.176025390625,570.3460083007812,627.1209716796875,499.50201416015625,496.35101318359375,548.9769897460938,548.8309936523438,546.8109741210938,532.8410034179688,442.97698974609375,563.5919799804688,133.52699279785156,131.1999969482422,542.9169921875,519.3939819335938,652.9569702148438,538.3779907226562,546.2760009765625,680.698974609375,499.7090148925781,542.0020141601562,549.1060180664062,520.3159790039062,588.6749877929688,663.7139892578125,676.4299926757812,628.2000122070312,540.0880126953125,352.9729919433594,645.5709838867188,656.4650268554688,461.27398681640625,114.8759994506836,63.77799987792969,489.2539978027344,482.7040100097656,476.84600830078125,590.43701171875,527.8790283203125,109.88400268554688,551.7830200195312,222.1020050048828,464.4540100097656,255.51400756835938,594.5399780273438,496.5260009765625,633.1010131835938,148.73399353027344,93.48500061035156,143.2740020751953,469.6579895019531,207.531005859375,556.177978515625,417.0409851074219,511.9410095214844,601.8380126953125,501.3450012207031,607.697021484375,531.1859741210938,126.14199829101562,607.5969848632812,119.19300079345703,128.31500244140625,479.75,462.5610046386719,586.1710205078125,157.99400329589844,163.2519989013672,355.87799072265625,478.5639953613281,450.260009765625,427.92999267578125,145.1540069580078,98.14600372314453,472.3550109863281,483.65399169921875,497.4339904785156,496.0220031738281,582.698974609375,641.208984375,119.06500244140625,331.4880065917969,464.8590087890625,430.40899658203125,389.3349914550781,526.2369995117188,284.7070007324219,442.677001953125,117.62999725341797,461.239990234375,430.7200012207031,419.86102294921875,633.5449829101562,475.2749938964844,142.29800415039062,96.2770004272461,152.35000610351562,150.01600646972656,534.5339965820312,539.2789916992188,473.3789978027344,642.7839965820312,129.20899963378906,105.86599731445312,524.5050048828125,459.1000061035156,545.47802734375,411.60198974609375,882.7670288085938,895.9559936523438,497.6000061035156,90.06999969482422,64.3759994506836,631.1019897460938,667.0239868164062,650.6430053710938,375.0,417.3169860839844,453.42401123046875,1098.7919921875,366.5559997558594,569.4500122070312,1277.5240478515625,652.7410278320312,650.0130004882812,635.1019897460938,500.7749938964844,526.3359985351562,510.7909851074219,444.2959899902344,430.5320129394531,708.8930053710938,668.6719970703125,676.6489868164062,484.2279968261719,551.5560302734375,419.5849914550781,594.5700073242188,768.905029296875,864.35400390625,455.3009948730469,606.489990234375,136.31399536132812,101.7490005493164,408.6619873046875,539.323974609375,558.6300048828125,557.5700073242188,493.93499755859375,800.1290283203125,707.5960083007812,695.1099853515625,122.4739990234375,106.29900360107422,616.1179809570312,607.3170166015625,643.2990112304688,433.781005859375,435.5710144042969,451.8030090332031,591.9180297851562,192.46400451660156,138.1320037841797,475.3269958496094,476.31201171875,283.1499938964844,513.0469970703125,320.22900390625,379.25299072265625,376.3900146484375,369.4930114746094,1114.2550048828125,1493.5269775390625,540.3720092773438,522.197998046875,525.5640258789062,447.5039978027344,366.8630065917969,486.2799987792969,677.1160278320312,777.7479858398438,78.55899810791016,121.54499816894531,420.9219970703125,465.6650085449219,485.9219970703125,536.9829711914062,81.98200225830078,167.51600646972656,128.84300231933594,360.072998046875,424.0159912109375,652.426025390625,394.9280090332031,632.6119995117188,583.2960205078125,636.8319702148438,496.8429870605469,502.5880126953125,451.7049865722656,536.7420043945312,471.6570129394531],\"type\":\"histogram\",\"xaxis\":\"x\",\"yaxis\":\"y\"},{\"marker\":{\"color\":\"#808fe1\"},\"name\":\"Coronal\",\"nbinsx\":50,\"x\":[583.2890014648438,590.8531494140625,355.64801025390625,364.5679931640625,628.9569702148438,677.458984375,654.655029296875,132.86199951171875,465.9320068359375,470.8890075683594,478.093994140625,716.6799926757812,499.03399658203125,492.81201171875,502.7309875488281,142.822998046875,221.89700317382812,223.10499572753906,124.3030014038086,206.79200744628906,206.42599487304688,16.368999481201172,529.1539916992188,207.1699981689453,462.30499267578125,494.7770080566406,156.4669952392578,140.79600524902344,145.10299682617188,127.91699981689453,582.0020141601562,571.5700073242188,549.2890014648438,158.2050018310547,266.3739929199219,92.59100341796875,511.3199462890625,532.7100219726562,157.22999572753906,185.9980010986328,389.1789855957031,389.22100830078125,141.97000122070312,326.3590087890625,54.65399932861328,773.7969970703125,96.72699737548828,585.1279907226562,550.7620239257812,187.76300048828125,891.0130004882812,490.5639953613281,528.8619995117188,524.0800170898438,516.2999877929688,618.2100219726562,620.0380249023438,531.593017578125,150.61199951171875,508.7950134277344,501.0039978027344,509.1860046386719,167.68499755859375,698.5560302734375,188.02000427246094,616.4249877929688,123.26000213623047,634.0079956054688,212.19500732421875,485.25,349.3269958496094,378.89898681640625,1445.1209716796875,494.1239929199219,475.99700927734375,748.1309814453125,162.26300048828125,123.33599853515625,577.7260131835938,148.39999389648438,170.88400268554688,416.72601318359375,397.64801025390625],\"type\":\"histogram\",\"xaxis\":\"x2\",\"yaxis\":\"y2\"},{\"marker\":{\"color\":\"#aab5d5\"},\"name\":\"Sagittal\",\"nbinsx\":50,\"x\":[544.6160278320312,549.822021484375,554.0460205078125,502.7179870605469,1666.2779541015625,536.2100219726562,537.6740112304688,615.1270141601562,708.176025390625,698.6599731445312,575.0430297851562,372.3110046386719,404.0710144042969,586.1309814453125,574.3989868164062,501.3800048828125,624.801025390625,618.0590209960938,563.5369873046875,603.6630249023438,660.6300048828125,619.7059936523438,430.822998046875,612.5789794921875,142.57200622558594,483.1830139160156,802.7940063476562,600.97998046875,585.718017578125,587.9609985351562,659.35302734375,613.0919799804688,538.5549926757812,508.77801513671875,606.4320068359375,564.2620239257812,712.8720092773438,637.9520263671875,626.666015625,665.1849975585938,459.4809875488281,677.5230102539062,680.9530029296875,124.57099914550781,336.2349853515625,329.0199890136719,599.0850219726562,144.781005859375,542.530029296875,291.2539978027344,440.4599914550781,461.3030090332031,304.10699462890625,606.0889892578125,591.3800048828125,709.2349853515625,402.135009765625,266.43701171875,560.3369750976562,565.4180297851562,541.041015625,610.156982421875,660.1510009765625,638.35302734375,623.9580078125,144.2729949951172,678.0570068359375,146.0070037841797,605.4530029296875,486.0199890136719,693.18798828125,189.83399963378906,495.5429992675781,523.3770141601562,412.2090148925781,415.4150085449219,527.6290283203125,136.69000244140625,542.0,558.89697265625,444.88800048828125,704.8209838867188,158.85299682617188,393.7590026855469,567.458984375,516.1820068359375,474.6300048828125,470.6080017089844,627.4000244140625,185.6820068359375,279.3760070800781,519.8679809570312,103.52899932861328,564.4669799804688,480.99200439453125,879.1536865234375,504.3500061035156,166.4409942626953,181.8509979248047,516.989990234375,513.8200073242188,625.791015625,127.22799682617188,647.9000244140625,489.6919860839844,498.43798828125,605.8870239257812,381.6969909667969,471.0169982910156,673.4229736328125,575.7080078125,98.81400299072266,637.739990234375,625.125,466.7590026855469,528.8309936523438,676.9249877929688,462.3450012207031,500.1809997558594,924.8779907226562,397.93499755859375,707.8989868164062,1080.7020263671875,1331.7750244140625,668.0360107421875,653.635009765625,566.1719970703125,654.5059814453125,687.3629760742188,663.4979858398438,704.8619995117188,690.8049926757812,591.7579956054688,675.31201171875,452.3179931640625,716.9760131835938,526.9340209960938,554.2930297851562,704.5869750976562,144.67100524902344,469.822998046875,616.8880004882812,646.4039916992188,519.5020141601562,805.0260009765625,570.1539916992188,140.68099975585938,471.0469970703125,379.7250061035156,139.15699768066406,631.1749877929688,651.1220092773438,588.9630126953125,535.531005859375,508.364990234375,444.6990051269531,519.7750244140625,695.4409790039062,215.98899841308594,535.1240234375,324.406005859375,575.6409912109375,656.3900146484375,635.6580200195312,503.33099365234375,470.5090026855469,311.8789978027344,432.2229919433594,425.29400634765625,1586.8590087890625,649.406982421875,649.3419799804688,559.7999877929688,342.04998779296875,350.5690002441406,515.2109985351562,700.9390258789062,785.5440063476562,102.28199768066406,431.5,551.2059936523438,477.2080078125,501.9389953613281,558.6920166015625,125.88800048828125,165.99000549316406,406.6499938964844,478.5090026855469,627.6370239257812,446.9169921875,449.3890075683594,579.4210205078125,594.3779907226562,514.2230224609375,475.87701416015625,540.3800048828125,495.0840148925781],\"type\":\"histogram\",\"xaxis\":\"x3\",\"yaxis\":\"y3\"}],                        {\"template\":{\"data\":{\"barpolar\":[{\"marker\":{\"line\":{\"color\":\"white\",\"width\":0.5},\"pattern\":{\"fillmode\":\"overlay\",\"size\":10,\"solidity\":0.2}},\"type\":\"barpolar\"}],\"bar\":[{\"error_x\":{\"color\":\"#2a3f5f\"},\"error_y\":{\"color\":\"#2a3f5f\"},\"marker\":{\"line\":{\"color\":\"white\",\"width\":0.5},\"pattern\":{\"fillmode\":\"overlay\",\"size\":10,\"solidity\":0.2}},\"type\":\"bar\"}],\"carpet\":[{\"aaxis\":{\"endlinecolor\":\"#2a3f5f\",\"gridcolor\":\"#C8D4E3\",\"linecolor\":\"#C8D4E3\",\"minorgridcolor\":\"#C8D4E3\",\"startlinecolor\":\"#2a3f5f\"},\"baxis\":{\"endlinecolor\":\"#2a3f5f\",\"gridcolor\":\"#C8D4E3\",\"linecolor\":\"#C8D4E3\",\"minorgridcolor\":\"#C8D4E3\",\"startlinecolor\":\"#2a3f5f\"},\"type\":\"carpet\"}],\"choropleth\":[{\"colorbar\":{\"outlinewidth\":0,\"ticks\":\"\"},\"type\":\"choropleth\"}],\"contourcarpet\":[{\"colorbar\":{\"outlinewidth\":0,\"ticks\":\"\"},\"type\":\"contourcarpet\"}],\"contour\":[{\"colorbar\":{\"outlinewidth\":0,\"ticks\":\"\"},\"colorscale\":[[0.0,\"#0d0887\"],[0.1111111111111111,\"#46039f\"],[0.2222222222222222,\"#7201a8\"],[0.3333333333333333,\"#9c179e\"],[0.4444444444444444,\"#bd3786\"],[0.5555555555555556,\"#d8576b\"],[0.6666666666666666,\"#ed7953\"],[0.7777777777777778,\"#fb9f3a\"],[0.8888888888888888,\"#fdca26\"],[1.0,\"#f0f921\"]],\"type\":\"contour\"}],\"heatmapgl\":[{\"colorbar\":{\"outlinewidth\":0,\"ticks\":\"\"},\"colorscale\":[[0.0,\"#0d0887\"],[0.1111111111111111,\"#46039f\"],[0.2222222222222222,\"#7201a8\"],[0.3333333333333333,\"#9c179e\"],[0.4444444444444444,\"#bd3786\"],[0.5555555555555556,\"#d8576b\"],[0.6666666666666666,\"#ed7953\"],[0.7777777777777778,\"#fb9f3a\"],[0.8888888888888888,\"#fdca26\"],[1.0,\"#f0f921\"]],\"type\":\"heatmapgl\"}],\"heatmap\":[{\"colorbar\":{\"outlinewidth\":0,\"ticks\":\"\"},\"colorscale\":[[0.0,\"#0d0887\"],[0.1111111111111111,\"#46039f\"],[0.2222222222222222,\"#7201a8\"],[0.3333333333333333,\"#9c179e\"],[0.4444444444444444,\"#bd3786\"],[0.5555555555555556,\"#d8576b\"],[0.6666666666666666,\"#ed7953\"],[0.7777777777777778,\"#fb9f3a\"],[0.8888888888888888,\"#fdca26\"],[1.0,\"#f0f921\"]],\"type\":\"heatmap\"}],\"histogram2dcontour\":[{\"colorbar\":{\"outlinewidth\":0,\"ticks\":\"\"},\"colorscale\":[[0.0,\"#0d0887\"],[0.1111111111111111,\"#46039f\"],[0.2222222222222222,\"#7201a8\"],[0.3333333333333333,\"#9c179e\"],[0.4444444444444444,\"#bd3786\"],[0.5555555555555556,\"#d8576b\"],[0.6666666666666666,\"#ed7953\"],[0.7777777777777778,\"#fb9f3a\"],[0.8888888888888888,\"#fdca26\"],[1.0,\"#f0f921\"]],\"type\":\"histogram2dcontour\"}],\"histogram2d\":[{\"colorbar\":{\"outlinewidth\":0,\"ticks\":\"\"},\"colorscale\":[[0.0,\"#0d0887\"],[0.1111111111111111,\"#46039f\"],[0.2222222222222222,\"#7201a8\"],[0.3333333333333333,\"#9c179e\"],[0.4444444444444444,\"#bd3786\"],[0.5555555555555556,\"#d8576b\"],[0.6666666666666666,\"#ed7953\"],[0.7777777777777778,\"#fb9f3a\"],[0.8888888888888888,\"#fdca26\"],[1.0,\"#f0f921\"]],\"type\":\"histogram2d\"}],\"histogram\":[{\"marker\":{\"pattern\":{\"fillmode\":\"overlay\",\"size\":10,\"solidity\":0.2}},\"type\":\"histogram\"}],\"mesh3d\":[{\"colorbar\":{\"outlinewidth\":0,\"ticks\":\"\"},\"type\":\"mesh3d\"}],\"parcoords\":[{\"line\":{\"colorbar\":{\"outlinewidth\":0,\"ticks\":\"\"}},\"type\":\"parcoords\"}],\"pie\":[{\"automargin\":true,\"type\":\"pie\"}],\"scatter3d\":[{\"line\":{\"colorbar\":{\"outlinewidth\":0,\"ticks\":\"\"}},\"marker\":{\"colorbar\":{\"outlinewidth\":0,\"ticks\":\"\"}},\"type\":\"scatter3d\"}],\"scattercarpet\":[{\"marker\":{\"colorbar\":{\"outlinewidth\":0,\"ticks\":\"\"}},\"type\":\"scattercarpet\"}],\"scattergeo\":[{\"marker\":{\"colorbar\":{\"outlinewidth\":0,\"ticks\":\"\"}},\"type\":\"scattergeo\"}],\"scattergl\":[{\"marker\":{\"colorbar\":{\"outlinewidth\":0,\"ticks\":\"\"}},\"type\":\"scattergl\"}],\"scattermapbox\":[{\"marker\":{\"colorbar\":{\"outlinewidth\":0,\"ticks\":\"\"}},\"type\":\"scattermapbox\"}],\"scatterpolargl\":[{\"marker\":{\"colorbar\":{\"outlinewidth\":0,\"ticks\":\"\"}},\"type\":\"scatterpolargl\"}],\"scatterpolar\":[{\"marker\":{\"colorbar\":{\"outlinewidth\":0,\"ticks\":\"\"}},\"type\":\"scatterpolar\"}],\"scatter\":[{\"fillpattern\":{\"fillmode\":\"overlay\",\"size\":10,\"solidity\":0.2},\"type\":\"scatter\"}],\"scatterternary\":[{\"marker\":{\"colorbar\":{\"outlinewidth\":0,\"ticks\":\"\"}},\"type\":\"scatterternary\"}],\"surface\":[{\"colorbar\":{\"outlinewidth\":0,\"ticks\":\"\"},\"colorscale\":[[0.0,\"#0d0887\"],[0.1111111111111111,\"#46039f\"],[0.2222222222222222,\"#7201a8\"],[0.3333333333333333,\"#9c179e\"],[0.4444444444444444,\"#bd3786\"],[0.5555555555555556,\"#d8576b\"],[0.6666666666666666,\"#ed7953\"],[0.7777777777777778,\"#fb9f3a\"],[0.8888888888888888,\"#fdca26\"],[1.0,\"#f0f921\"]],\"type\":\"surface\"}],\"table\":[{\"cells\":{\"fill\":{\"color\":\"#EBF0F8\"},\"line\":{\"color\":\"white\"}},\"header\":{\"fill\":{\"color\":\"#C8D4E3\"},\"line\":{\"color\":\"white\"}},\"type\":\"table\"}]},\"layout\":{\"annotationdefaults\":{\"arrowcolor\":\"#2a3f5f\",\"arrowhead\":0,\"arrowwidth\":1},\"autotypenumbers\":\"strict\",\"coloraxis\":{\"colorbar\":{\"outlinewidth\":0,\"ticks\":\"\"}},\"colorscale\":{\"diverging\":[[0,\"#8e0152\"],[0.1,\"#c51b7d\"],[0.2,\"#de77ae\"],[0.3,\"#f1b6da\"],[0.4,\"#fde0ef\"],[0.5,\"#f7f7f7\"],[0.6,\"#e6f5d0\"],[0.7,\"#b8e186\"],[0.8,\"#7fbc41\"],[0.9,\"#4d9221\"],[1,\"#276419\"]],\"sequential\":[[0.0,\"#0d0887\"],[0.1111111111111111,\"#46039f\"],[0.2222222222222222,\"#7201a8\"],[0.3333333333333333,\"#9c179e\"],[0.4444444444444444,\"#bd3786\"],[0.5555555555555556,\"#d8576b\"],[0.6666666666666666,\"#ed7953\"],[0.7777777777777778,\"#fb9f3a\"],[0.8888888888888888,\"#fdca26\"],[1.0,\"#f0f921\"]],\"sequentialminus\":[[0.0,\"#0d0887\"],[0.1111111111111111,\"#46039f\"],[0.2222222222222222,\"#7201a8\"],[0.3333333333333333,\"#9c179e\"],[0.4444444444444444,\"#bd3786\"],[0.5555555555555556,\"#d8576b\"],[0.6666666666666666,\"#ed7953\"],[0.7777777777777778,\"#fb9f3a\"],[0.8888888888888888,\"#fdca26\"],[1.0,\"#f0f921\"]]},\"colorway\":[\"#636efa\",\"#EF553B\",\"#00cc96\",\"#ab63fa\",\"#FFA15A\",\"#19d3f3\",\"#FF6692\",\"#B6E880\",\"#FF97FF\",\"#FECB52\"],\"font\":{\"color\":\"#2a3f5f\"},\"geo\":{\"bgcolor\":\"white\",\"lakecolor\":\"white\",\"landcolor\":\"white\",\"showlakes\":true,\"showland\":true,\"subunitcolor\":\"#C8D4E3\"},\"hoverlabel\":{\"align\":\"left\"},\"hovermode\":\"closest\",\"mapbox\":{\"style\":\"light\"},\"paper_bgcolor\":\"white\",\"plot_bgcolor\":\"white\",\"polar\":{\"angularaxis\":{\"gridcolor\":\"#EBF0F8\",\"linecolor\":\"#EBF0F8\",\"ticks\":\"\"},\"bgcolor\":\"white\",\"radialaxis\":{\"gridcolor\":\"#EBF0F8\",\"linecolor\":\"#EBF0F8\",\"ticks\":\"\"}},\"scene\":{\"xaxis\":{\"backgroundcolor\":\"white\",\"gridcolor\":\"#DFE8F3\",\"gridwidth\":2,\"linecolor\":\"#EBF0F8\",\"showbackground\":true,\"ticks\":\"\",\"zerolinecolor\":\"#EBF0F8\"},\"yaxis\":{\"backgroundcolor\":\"white\",\"gridcolor\":\"#DFE8F3\",\"gridwidth\":2,\"linecolor\":\"#EBF0F8\",\"showbackground\":true,\"ticks\":\"\",\"zerolinecolor\":\"#EBF0F8\"},\"zaxis\":{\"backgroundcolor\":\"white\",\"gridcolor\":\"#DFE8F3\",\"gridwidth\":2,\"linecolor\":\"#EBF0F8\",\"showbackground\":true,\"ticks\":\"\",\"zerolinecolor\":\"#EBF0F8\"}},\"shapedefaults\":{\"line\":{\"color\":\"#2a3f5f\"}},\"ternary\":{\"aaxis\":{\"gridcolor\":\"#DFE8F3\",\"linecolor\":\"#A2B1C6\",\"ticks\":\"\"},\"baxis\":{\"gridcolor\":\"#DFE8F3\",\"linecolor\":\"#A2B1C6\",\"ticks\":\"\"},\"bgcolor\":\"white\",\"caxis\":{\"gridcolor\":\"#DFE8F3\",\"linecolor\":\"#A2B1C6\",\"ticks\":\"\"}},\"title\":{\"x\":0.05},\"xaxis\":{\"automargin\":true,\"gridcolor\":\"#EBF0F8\",\"linecolor\":\"#EBF0F8\",\"ticks\":\"\",\"title\":{\"standoff\":15},\"zerolinecolor\":\"#EBF0F8\",\"zerolinewidth\":2},\"yaxis\":{\"automargin\":true,\"gridcolor\":\"#EBF0F8\",\"linecolor\":\"#EBF0F8\",\"ticks\":\"\",\"title\":{\"standoff\":15},\"zerolinecolor\":\"#EBF0F8\",\"zerolinewidth\":2}}},\"xaxis\":{\"anchor\":\"y\",\"domain\":[0.0,1.0]},\"yaxis\":{\"anchor\":\"x\",\"domain\":[0.7777777777777778,1.0],\"title\":{\"text\":\"Frequency\"}},\"xaxis2\":{\"anchor\":\"y2\",\"domain\":[0.0,1.0]},\"yaxis2\":{\"anchor\":\"x2\",\"domain\":[0.3888888888888889,0.6111111111111112],\"title\":{\"text\":\"Frequency\"}},\"xaxis3\":{\"anchor\":\"y3\",\"domain\":[0.0,1.0],\"title\":{\"text\":\"Intensity\"}},\"yaxis3\":{\"anchor\":\"x3\",\"domain\":[0.0,0.22222222222222224],\"title\":{\"text\":\"Frequency\"}},\"annotations\":[{\"font\":{\"size\":16},\"showarrow\":false,\"text\":\"Axial Orientation\",\"x\":0.5,\"xanchor\":\"center\",\"xref\":\"paper\",\"y\":1.0,\"yanchor\":\"bottom\",\"yref\":\"paper\"},{\"font\":{\"size\":16},\"showarrow\":false,\"text\":\"Coronal Orientation\",\"x\":0.5,\"xanchor\":\"center\",\"xref\":\"paper\",\"y\":0.6111111111111112,\"yanchor\":\"bottom\",\"yref\":\"paper\"},{\"font\":{\"size\":16},\"showarrow\":false,\"text\":\"Sagittal Orientation\",\"x\":0.5,\"xanchor\":\"center\",\"xref\":\"paper\",\"y\":0.22222222222222224,\"yanchor\":\"bottom\",\"yref\":\"paper\"}],\"title\":{\"font\":{\"size\":20},\"text\":\"Histogram of Image Intensities by Orientation\"},\"font\":{\"size\":18},\"height\":900},                        {\"responsive\": true}                    ).then(function(){\n",
       "                            \n",
       "var gd = document.getElementById('0e22a78b-52c8-42df-9ae6-f418f6d472b6');\n",
       "var x = new MutationObserver(function (mutations, observer) {{\n",
       "        var display = window.getComputedStyle(gd).display;\n",
       "        if (!display || display === 'none') {{\n",
       "            console.log([gd, 'removed!']);\n",
       "            Plotly.purge(gd);\n",
       "            observer.disconnect();\n",
       "        }}\n",
       "}});\n",
       "\n",
       "// Listen for the removal of the full notebook cells\n",
       "var notebookContainer = gd.closest('#notebook-container');\n",
       "if (notebookContainer) {{\n",
       "    x.observe(notebookContainer, {childList: true});\n",
       "}}\n",
       "\n",
       "// Listen for the clearing of the current output cell\n",
       "var outputEl = gd.closest('.output');\n",
       "if (outputEl) {{\n",
       "    x.observe(outputEl, {childList: true});\n",
       "}}\n",
       "\n",
       "                        })                };                });            </script>        </div>"
      ]
     },
     "metadata": {},
     "output_type": "display_data"
    }
   ],
   "source": [
    "colors_sub = np.random.choice(colors, 3, replace=False)\n",
    "plot_intensity_histograms_subplots(intensity_values_axial, intensity_values_coronal, intensity_values_sagital,colors_sub,bins=50)"
   ]
  },
  {
   "cell_type": "code",
   "execution_count": 48,
   "metadata": {},
   "outputs": [
    {
     "data": {
      "application/vnd.plotly.v1+json": {
       "config": {
        "plotlyServerURL": "https://plot.ly"
       },
       "data": [
        {
         "boxmean": "sd",
         "marker": {
          "color": "#efc86e"
         },
         "name": "Axial",
         "type": "box",
         "xaxis": "x",
         "y": [
          493.5790100097656,
          596.6669921875,
          505.6319885253906,
          573.0650024414062,
          441.02398681640625,
          471.2959899902344,
          709.4354248046875,
          439.8389892578125,
          442.47698974609375,
          438.2969970703125,
          461.0199890136719,
          574.9929809570312,
          626.3779907226562,
          788.3209838867188,
          739.176025390625,
          570.3460083007812,
          627.1209716796875,
          499.50201416015625,
          496.35101318359375,
          548.9769897460938,
          548.8309936523438,
          546.8109741210938,
          532.8410034179688,
          442.97698974609375,
          563.5919799804688,
          133.52699279785156,
          131.1999969482422,
          542.9169921875,
          519.3939819335938,
          652.9569702148438,
          538.3779907226562,
          546.2760009765625,
          680.698974609375,
          499.7090148925781,
          542.0020141601562,
          549.1060180664062,
          520.3159790039062,
          588.6749877929688,
          663.7139892578125,
          676.4299926757812,
          628.2000122070312,
          540.0880126953125,
          352.9729919433594,
          645.5709838867188,
          656.4650268554688,
          461.27398681640625,
          114.8759994506836,
          63.77799987792969,
          489.2539978027344,
          482.7040100097656,
          476.84600830078125,
          590.43701171875,
          527.8790283203125,
          109.88400268554688,
          551.7830200195312,
          222.1020050048828,
          464.4540100097656,
          255.51400756835938,
          594.5399780273438,
          496.5260009765625,
          633.1010131835938,
          148.73399353027344,
          93.48500061035156,
          143.2740020751953,
          469.6579895019531,
          207.531005859375,
          556.177978515625,
          417.0409851074219,
          511.9410095214844,
          601.8380126953125,
          501.3450012207031,
          607.697021484375,
          531.1859741210938,
          126.14199829101562,
          607.5969848632812,
          119.19300079345703,
          128.31500244140625,
          479.75,
          462.5610046386719,
          586.1710205078125,
          157.99400329589844,
          163.2519989013672,
          355.87799072265625,
          478.5639953613281,
          450.260009765625,
          427.92999267578125,
          145.1540069580078,
          98.14600372314453,
          472.3550109863281,
          483.65399169921875,
          497.4339904785156,
          496.0220031738281,
          582.698974609375,
          641.208984375,
          119.06500244140625,
          331.4880065917969,
          464.8590087890625,
          430.40899658203125,
          389.3349914550781,
          526.2369995117188,
          284.7070007324219,
          442.677001953125,
          117.62999725341797,
          461.239990234375,
          430.7200012207031,
          419.86102294921875,
          633.5449829101562,
          475.2749938964844,
          142.29800415039062,
          96.2770004272461,
          152.35000610351562,
          150.01600646972656,
          534.5339965820312,
          539.2789916992188,
          473.3789978027344,
          642.7839965820312,
          129.20899963378906,
          105.86599731445312,
          524.5050048828125,
          459.1000061035156,
          545.47802734375,
          411.60198974609375,
          882.7670288085938,
          895.9559936523438,
          497.6000061035156,
          90.06999969482422,
          64.3759994506836,
          631.1019897460938,
          667.0239868164062,
          650.6430053710938,
          375,
          417.3169860839844,
          453.42401123046875,
          1098.7919921875,
          366.5559997558594,
          569.4500122070312,
          1277.5240478515625,
          652.7410278320312,
          650.0130004882812,
          635.1019897460938,
          500.7749938964844,
          526.3359985351562,
          510.7909851074219,
          444.2959899902344,
          430.5320129394531,
          708.8930053710938,
          668.6719970703125,
          676.6489868164062,
          484.2279968261719,
          551.5560302734375,
          419.5849914550781,
          594.5700073242188,
          768.905029296875,
          864.35400390625,
          455.3009948730469,
          606.489990234375,
          136.31399536132812,
          101.7490005493164,
          408.6619873046875,
          539.323974609375,
          558.6300048828125,
          557.5700073242188,
          493.93499755859375,
          800.1290283203125,
          707.5960083007812,
          695.1099853515625,
          122.4739990234375,
          106.29900360107422,
          616.1179809570312,
          607.3170166015625,
          643.2990112304688,
          433.781005859375,
          435.5710144042969,
          451.8030090332031,
          591.9180297851562,
          192.46400451660156,
          138.1320037841797,
          475.3269958496094,
          476.31201171875,
          283.1499938964844,
          513.0469970703125,
          320.22900390625,
          379.25299072265625,
          376.3900146484375,
          369.4930114746094,
          1114.2550048828125,
          1493.5269775390625,
          540.3720092773438,
          522.197998046875,
          525.5640258789062,
          447.5039978027344,
          366.8630065917969,
          486.2799987792969,
          677.1160278320312,
          777.7479858398438,
          78.55899810791016,
          121.54499816894531,
          420.9219970703125,
          465.6650085449219,
          485.9219970703125,
          536.9829711914062,
          81.98200225830078,
          167.51600646972656,
          128.84300231933594,
          360.072998046875,
          424.0159912109375,
          652.426025390625,
          394.9280090332031,
          632.6119995117188,
          583.2960205078125,
          636.8319702148438,
          496.8429870605469,
          502.5880126953125,
          451.7049865722656,
          536.7420043945312,
          471.6570129394531
         ],
         "yaxis": "y"
        },
        {
         "boxmean": "sd",
         "marker": {
          "color": "#808fe1"
         },
         "name": "Coronal",
         "type": "box",
         "xaxis": "x2",
         "y": [
          583.2890014648438,
          590.8531494140625,
          355.64801025390625,
          364.5679931640625,
          628.9569702148438,
          677.458984375,
          654.655029296875,
          132.86199951171875,
          465.9320068359375,
          470.8890075683594,
          478.093994140625,
          716.6799926757812,
          499.03399658203125,
          492.81201171875,
          502.7309875488281,
          142.822998046875,
          221.89700317382812,
          223.10499572753906,
          124.3030014038086,
          206.79200744628906,
          206.42599487304688,
          16.368999481201172,
          529.1539916992188,
          207.1699981689453,
          462.30499267578125,
          494.7770080566406,
          156.4669952392578,
          140.79600524902344,
          145.10299682617188,
          127.91699981689453,
          582.0020141601562,
          571.5700073242188,
          549.2890014648438,
          158.2050018310547,
          266.3739929199219,
          92.59100341796875,
          511.3199462890625,
          532.7100219726562,
          157.22999572753906,
          185.9980010986328,
          389.1789855957031,
          389.22100830078125,
          141.97000122070312,
          326.3590087890625,
          54.65399932861328,
          773.7969970703125,
          96.72699737548828,
          585.1279907226562,
          550.7620239257812,
          187.76300048828125,
          891.0130004882812,
          490.5639953613281,
          528.8619995117188,
          524.0800170898438,
          516.2999877929688,
          618.2100219726562,
          620.0380249023438,
          531.593017578125,
          150.61199951171875,
          508.7950134277344,
          501.0039978027344,
          509.1860046386719,
          167.68499755859375,
          698.5560302734375,
          188.02000427246094,
          616.4249877929688,
          123.26000213623047,
          634.0079956054688,
          212.19500732421875,
          485.25,
          349.3269958496094,
          378.89898681640625,
          1445.1209716796875,
          494.1239929199219,
          475.99700927734375,
          748.1309814453125,
          162.26300048828125,
          123.33599853515625,
          577.7260131835938,
          148.39999389648438,
          170.88400268554688,
          416.72601318359375,
          397.64801025390625
         ],
         "yaxis": "y2"
        },
        {
         "boxmean": "sd",
         "marker": {
          "color": "#aab5d5"
         },
         "name": "Sagittal",
         "type": "box",
         "xaxis": "x3",
         "y": [
          544.6160278320312,
          549.822021484375,
          554.0460205078125,
          502.7179870605469,
          1666.2779541015625,
          536.2100219726562,
          537.6740112304688,
          615.1270141601562,
          708.176025390625,
          698.6599731445312,
          575.0430297851562,
          372.3110046386719,
          404.0710144042969,
          586.1309814453125,
          574.3989868164062,
          501.3800048828125,
          624.801025390625,
          618.0590209960938,
          563.5369873046875,
          603.6630249023438,
          660.6300048828125,
          619.7059936523438,
          430.822998046875,
          612.5789794921875,
          142.57200622558594,
          483.1830139160156,
          802.7940063476562,
          600.97998046875,
          585.718017578125,
          587.9609985351562,
          659.35302734375,
          613.0919799804688,
          538.5549926757812,
          508.77801513671875,
          606.4320068359375,
          564.2620239257812,
          712.8720092773438,
          637.9520263671875,
          626.666015625,
          665.1849975585938,
          459.4809875488281,
          677.5230102539062,
          680.9530029296875,
          124.57099914550781,
          336.2349853515625,
          329.0199890136719,
          599.0850219726562,
          144.781005859375,
          542.530029296875,
          291.2539978027344,
          440.4599914550781,
          461.3030090332031,
          304.10699462890625,
          606.0889892578125,
          591.3800048828125,
          709.2349853515625,
          402.135009765625,
          266.43701171875,
          560.3369750976562,
          565.4180297851562,
          541.041015625,
          610.156982421875,
          660.1510009765625,
          638.35302734375,
          623.9580078125,
          144.2729949951172,
          678.0570068359375,
          146.0070037841797,
          605.4530029296875,
          486.0199890136719,
          693.18798828125,
          189.83399963378906,
          495.5429992675781,
          523.3770141601562,
          412.2090148925781,
          415.4150085449219,
          527.6290283203125,
          136.69000244140625,
          542,
          558.89697265625,
          444.88800048828125,
          704.8209838867188,
          158.85299682617188,
          393.7590026855469,
          567.458984375,
          516.1820068359375,
          474.6300048828125,
          470.6080017089844,
          627.4000244140625,
          185.6820068359375,
          279.3760070800781,
          519.8679809570312,
          103.52899932861328,
          564.4669799804688,
          480.99200439453125,
          879.1536865234375,
          504.3500061035156,
          166.4409942626953,
          181.8509979248047,
          516.989990234375,
          513.8200073242188,
          625.791015625,
          127.22799682617188,
          647.9000244140625,
          489.6919860839844,
          498.43798828125,
          605.8870239257812,
          381.6969909667969,
          471.0169982910156,
          673.4229736328125,
          575.7080078125,
          98.81400299072266,
          637.739990234375,
          625.125,
          466.7590026855469,
          528.8309936523438,
          676.9249877929688,
          462.3450012207031,
          500.1809997558594,
          924.8779907226562,
          397.93499755859375,
          707.8989868164062,
          1080.7020263671875,
          1331.7750244140625,
          668.0360107421875,
          653.635009765625,
          566.1719970703125,
          654.5059814453125,
          687.3629760742188,
          663.4979858398438,
          704.8619995117188,
          690.8049926757812,
          591.7579956054688,
          675.31201171875,
          452.3179931640625,
          716.9760131835938,
          526.9340209960938,
          554.2930297851562,
          704.5869750976562,
          144.67100524902344,
          469.822998046875,
          616.8880004882812,
          646.4039916992188,
          519.5020141601562,
          805.0260009765625,
          570.1539916992188,
          140.68099975585938,
          471.0469970703125,
          379.7250061035156,
          139.15699768066406,
          631.1749877929688,
          651.1220092773438,
          588.9630126953125,
          535.531005859375,
          508.364990234375,
          444.6990051269531,
          519.7750244140625,
          695.4409790039062,
          215.98899841308594,
          535.1240234375,
          324.406005859375,
          575.6409912109375,
          656.3900146484375,
          635.6580200195312,
          503.33099365234375,
          470.5090026855469,
          311.8789978027344,
          432.2229919433594,
          425.29400634765625,
          1586.8590087890625,
          649.406982421875,
          649.3419799804688,
          559.7999877929688,
          342.04998779296875,
          350.5690002441406,
          515.2109985351562,
          700.9390258789062,
          785.5440063476562,
          102.28199768066406,
          431.5,
          551.2059936523438,
          477.2080078125,
          501.9389953613281,
          558.6920166015625,
          125.88800048828125,
          165.99000549316406,
          406.6499938964844,
          478.5090026855469,
          627.6370239257812,
          446.9169921875,
          449.3890075683594,
          579.4210205078125,
          594.3779907226562,
          514.2230224609375,
          475.87701416015625,
          540.3800048828125,
          495.0840148925781
         ],
         "yaxis": "y3"
        }
       ],
       "layout": {
        "annotations": [
         {
          "font": {
           "size": 16
          },
          "showarrow": false,
          "text": "Axial",
          "x": 0.14444444444444446,
          "xanchor": "center",
          "xref": "paper",
          "y": 1,
          "yanchor": "bottom",
          "yref": "paper"
         },
         {
          "font": {
           "size": 16
          },
          "showarrow": false,
          "text": "Coronal",
          "x": 0.5,
          "xanchor": "center",
          "xref": "paper",
          "y": 1,
          "yanchor": "bottom",
          "yref": "paper"
         },
         {
          "font": {
           "size": 16
          },
          "showarrow": false,
          "text": "Sagittal",
          "x": 0.8555555555555556,
          "xanchor": "center",
          "xref": "paper",
          "y": 1,
          "yanchor": "bottom",
          "yref": "paper"
         }
        ],
        "font": {
         "size": 18
        },
        "height": 600,
        "template": {
         "data": {
          "bar": [
           {
            "error_x": {
             "color": "#2a3f5f"
            },
            "error_y": {
             "color": "#2a3f5f"
            },
            "marker": {
             "line": {
              "color": "white",
              "width": 0.5
             },
             "pattern": {
              "fillmode": "overlay",
              "size": 10,
              "solidity": 0.2
             }
            },
            "type": "bar"
           }
          ],
          "barpolar": [
           {
            "marker": {
             "line": {
              "color": "white",
              "width": 0.5
             },
             "pattern": {
              "fillmode": "overlay",
              "size": 10,
              "solidity": 0.2
             }
            },
            "type": "barpolar"
           }
          ],
          "carpet": [
           {
            "aaxis": {
             "endlinecolor": "#2a3f5f",
             "gridcolor": "#C8D4E3",
             "linecolor": "#C8D4E3",
             "minorgridcolor": "#C8D4E3",
             "startlinecolor": "#2a3f5f"
            },
            "baxis": {
             "endlinecolor": "#2a3f5f",
             "gridcolor": "#C8D4E3",
             "linecolor": "#C8D4E3",
             "minorgridcolor": "#C8D4E3",
             "startlinecolor": "#2a3f5f"
            },
            "type": "carpet"
           }
          ],
          "choropleth": [
           {
            "colorbar": {
             "outlinewidth": 0,
             "ticks": ""
            },
            "type": "choropleth"
           }
          ],
          "contour": [
           {
            "colorbar": {
             "outlinewidth": 0,
             "ticks": ""
            },
            "colorscale": [
             [
              0,
              "#0d0887"
             ],
             [
              0.1111111111111111,
              "#46039f"
             ],
             [
              0.2222222222222222,
              "#7201a8"
             ],
             [
              0.3333333333333333,
              "#9c179e"
             ],
             [
              0.4444444444444444,
              "#bd3786"
             ],
             [
              0.5555555555555556,
              "#d8576b"
             ],
             [
              0.6666666666666666,
              "#ed7953"
             ],
             [
              0.7777777777777778,
              "#fb9f3a"
             ],
             [
              0.8888888888888888,
              "#fdca26"
             ],
             [
              1,
              "#f0f921"
             ]
            ],
            "type": "contour"
           }
          ],
          "contourcarpet": [
           {
            "colorbar": {
             "outlinewidth": 0,
             "ticks": ""
            },
            "type": "contourcarpet"
           }
          ],
          "heatmap": [
           {
            "colorbar": {
             "outlinewidth": 0,
             "ticks": ""
            },
            "colorscale": [
             [
              0,
              "#0d0887"
             ],
             [
              0.1111111111111111,
              "#46039f"
             ],
             [
              0.2222222222222222,
              "#7201a8"
             ],
             [
              0.3333333333333333,
              "#9c179e"
             ],
             [
              0.4444444444444444,
              "#bd3786"
             ],
             [
              0.5555555555555556,
              "#d8576b"
             ],
             [
              0.6666666666666666,
              "#ed7953"
             ],
             [
              0.7777777777777778,
              "#fb9f3a"
             ],
             [
              0.8888888888888888,
              "#fdca26"
             ],
             [
              1,
              "#f0f921"
             ]
            ],
            "type": "heatmap"
           }
          ],
          "heatmapgl": [
           {
            "colorbar": {
             "outlinewidth": 0,
             "ticks": ""
            },
            "colorscale": [
             [
              0,
              "#0d0887"
             ],
             [
              0.1111111111111111,
              "#46039f"
             ],
             [
              0.2222222222222222,
              "#7201a8"
             ],
             [
              0.3333333333333333,
              "#9c179e"
             ],
             [
              0.4444444444444444,
              "#bd3786"
             ],
             [
              0.5555555555555556,
              "#d8576b"
             ],
             [
              0.6666666666666666,
              "#ed7953"
             ],
             [
              0.7777777777777778,
              "#fb9f3a"
             ],
             [
              0.8888888888888888,
              "#fdca26"
             ],
             [
              1,
              "#f0f921"
             ]
            ],
            "type": "heatmapgl"
           }
          ],
          "histogram": [
           {
            "marker": {
             "pattern": {
              "fillmode": "overlay",
              "size": 10,
              "solidity": 0.2
             }
            },
            "type": "histogram"
           }
          ],
          "histogram2d": [
           {
            "colorbar": {
             "outlinewidth": 0,
             "ticks": ""
            },
            "colorscale": [
             [
              0,
              "#0d0887"
             ],
             [
              0.1111111111111111,
              "#46039f"
             ],
             [
              0.2222222222222222,
              "#7201a8"
             ],
             [
              0.3333333333333333,
              "#9c179e"
             ],
             [
              0.4444444444444444,
              "#bd3786"
             ],
             [
              0.5555555555555556,
              "#d8576b"
             ],
             [
              0.6666666666666666,
              "#ed7953"
             ],
             [
              0.7777777777777778,
              "#fb9f3a"
             ],
             [
              0.8888888888888888,
              "#fdca26"
             ],
             [
              1,
              "#f0f921"
             ]
            ],
            "type": "histogram2d"
           }
          ],
          "histogram2dcontour": [
           {
            "colorbar": {
             "outlinewidth": 0,
             "ticks": ""
            },
            "colorscale": [
             [
              0,
              "#0d0887"
             ],
             [
              0.1111111111111111,
              "#46039f"
             ],
             [
              0.2222222222222222,
              "#7201a8"
             ],
             [
              0.3333333333333333,
              "#9c179e"
             ],
             [
              0.4444444444444444,
              "#bd3786"
             ],
             [
              0.5555555555555556,
              "#d8576b"
             ],
             [
              0.6666666666666666,
              "#ed7953"
             ],
             [
              0.7777777777777778,
              "#fb9f3a"
             ],
             [
              0.8888888888888888,
              "#fdca26"
             ],
             [
              1,
              "#f0f921"
             ]
            ],
            "type": "histogram2dcontour"
           }
          ],
          "mesh3d": [
           {
            "colorbar": {
             "outlinewidth": 0,
             "ticks": ""
            },
            "type": "mesh3d"
           }
          ],
          "parcoords": [
           {
            "line": {
             "colorbar": {
              "outlinewidth": 0,
              "ticks": ""
             }
            },
            "type": "parcoords"
           }
          ],
          "pie": [
           {
            "automargin": true,
            "type": "pie"
           }
          ],
          "scatter": [
           {
            "fillpattern": {
             "fillmode": "overlay",
             "size": 10,
             "solidity": 0.2
            },
            "type": "scatter"
           }
          ],
          "scatter3d": [
           {
            "line": {
             "colorbar": {
              "outlinewidth": 0,
              "ticks": ""
             }
            },
            "marker": {
             "colorbar": {
              "outlinewidth": 0,
              "ticks": ""
             }
            },
            "type": "scatter3d"
           }
          ],
          "scattercarpet": [
           {
            "marker": {
             "colorbar": {
              "outlinewidth": 0,
              "ticks": ""
             }
            },
            "type": "scattercarpet"
           }
          ],
          "scattergeo": [
           {
            "marker": {
             "colorbar": {
              "outlinewidth": 0,
              "ticks": ""
             }
            },
            "type": "scattergeo"
           }
          ],
          "scattergl": [
           {
            "marker": {
             "colorbar": {
              "outlinewidth": 0,
              "ticks": ""
             }
            },
            "type": "scattergl"
           }
          ],
          "scattermapbox": [
           {
            "marker": {
             "colorbar": {
              "outlinewidth": 0,
              "ticks": ""
             }
            },
            "type": "scattermapbox"
           }
          ],
          "scatterpolar": [
           {
            "marker": {
             "colorbar": {
              "outlinewidth": 0,
              "ticks": ""
             }
            },
            "type": "scatterpolar"
           }
          ],
          "scatterpolargl": [
           {
            "marker": {
             "colorbar": {
              "outlinewidth": 0,
              "ticks": ""
             }
            },
            "type": "scatterpolargl"
           }
          ],
          "scatterternary": [
           {
            "marker": {
             "colorbar": {
              "outlinewidth": 0,
              "ticks": ""
             }
            },
            "type": "scatterternary"
           }
          ],
          "surface": [
           {
            "colorbar": {
             "outlinewidth": 0,
             "ticks": ""
            },
            "colorscale": [
             [
              0,
              "#0d0887"
             ],
             [
              0.1111111111111111,
              "#46039f"
             ],
             [
              0.2222222222222222,
              "#7201a8"
             ],
             [
              0.3333333333333333,
              "#9c179e"
             ],
             [
              0.4444444444444444,
              "#bd3786"
             ],
             [
              0.5555555555555556,
              "#d8576b"
             ],
             [
              0.6666666666666666,
              "#ed7953"
             ],
             [
              0.7777777777777778,
              "#fb9f3a"
             ],
             [
              0.8888888888888888,
              "#fdca26"
             ],
             [
              1,
              "#f0f921"
             ]
            ],
            "type": "surface"
           }
          ],
          "table": [
           {
            "cells": {
             "fill": {
              "color": "#EBF0F8"
             },
             "line": {
              "color": "white"
             }
            },
            "header": {
             "fill": {
              "color": "#C8D4E3"
             },
             "line": {
              "color": "white"
             }
            },
            "type": "table"
           }
          ]
         },
         "layout": {
          "annotationdefaults": {
           "arrowcolor": "#2a3f5f",
           "arrowhead": 0,
           "arrowwidth": 1
          },
          "autotypenumbers": "strict",
          "coloraxis": {
           "colorbar": {
            "outlinewidth": 0,
            "ticks": ""
           }
          },
          "colorscale": {
           "diverging": [
            [
             0,
             "#8e0152"
            ],
            [
             0.1,
             "#c51b7d"
            ],
            [
             0.2,
             "#de77ae"
            ],
            [
             0.3,
             "#f1b6da"
            ],
            [
             0.4,
             "#fde0ef"
            ],
            [
             0.5,
             "#f7f7f7"
            ],
            [
             0.6,
             "#e6f5d0"
            ],
            [
             0.7,
             "#b8e186"
            ],
            [
             0.8,
             "#7fbc41"
            ],
            [
             0.9,
             "#4d9221"
            ],
            [
             1,
             "#276419"
            ]
           ],
           "sequential": [
            [
             0,
             "#0d0887"
            ],
            [
             0.1111111111111111,
             "#46039f"
            ],
            [
             0.2222222222222222,
             "#7201a8"
            ],
            [
             0.3333333333333333,
             "#9c179e"
            ],
            [
             0.4444444444444444,
             "#bd3786"
            ],
            [
             0.5555555555555556,
             "#d8576b"
            ],
            [
             0.6666666666666666,
             "#ed7953"
            ],
            [
             0.7777777777777778,
             "#fb9f3a"
            ],
            [
             0.8888888888888888,
             "#fdca26"
            ],
            [
             1,
             "#f0f921"
            ]
           ],
           "sequentialminus": [
            [
             0,
             "#0d0887"
            ],
            [
             0.1111111111111111,
             "#46039f"
            ],
            [
             0.2222222222222222,
             "#7201a8"
            ],
            [
             0.3333333333333333,
             "#9c179e"
            ],
            [
             0.4444444444444444,
             "#bd3786"
            ],
            [
             0.5555555555555556,
             "#d8576b"
            ],
            [
             0.6666666666666666,
             "#ed7953"
            ],
            [
             0.7777777777777778,
             "#fb9f3a"
            ],
            [
             0.8888888888888888,
             "#fdca26"
            ],
            [
             1,
             "#f0f921"
            ]
           ]
          },
          "colorway": [
           "#636efa",
           "#EF553B",
           "#00cc96",
           "#ab63fa",
           "#FFA15A",
           "#19d3f3",
           "#FF6692",
           "#B6E880",
           "#FF97FF",
           "#FECB52"
          ],
          "font": {
           "color": "#2a3f5f"
          },
          "geo": {
           "bgcolor": "white",
           "lakecolor": "white",
           "landcolor": "white",
           "showlakes": true,
           "showland": true,
           "subunitcolor": "#C8D4E3"
          },
          "hoverlabel": {
           "align": "left"
          },
          "hovermode": "closest",
          "mapbox": {
           "style": "light"
          },
          "paper_bgcolor": "white",
          "plot_bgcolor": "white",
          "polar": {
           "angularaxis": {
            "gridcolor": "#EBF0F8",
            "linecolor": "#EBF0F8",
            "ticks": ""
           },
           "bgcolor": "white",
           "radialaxis": {
            "gridcolor": "#EBF0F8",
            "linecolor": "#EBF0F8",
            "ticks": ""
           }
          },
          "scene": {
           "xaxis": {
            "backgroundcolor": "white",
            "gridcolor": "#DFE8F3",
            "gridwidth": 2,
            "linecolor": "#EBF0F8",
            "showbackground": true,
            "ticks": "",
            "zerolinecolor": "#EBF0F8"
           },
           "yaxis": {
            "backgroundcolor": "white",
            "gridcolor": "#DFE8F3",
            "gridwidth": 2,
            "linecolor": "#EBF0F8",
            "showbackground": true,
            "ticks": "",
            "zerolinecolor": "#EBF0F8"
           },
           "zaxis": {
            "backgroundcolor": "white",
            "gridcolor": "#DFE8F3",
            "gridwidth": 2,
            "linecolor": "#EBF0F8",
            "showbackground": true,
            "ticks": "",
            "zerolinecolor": "#EBF0F8"
           }
          },
          "shapedefaults": {
           "line": {
            "color": "#2a3f5f"
           }
          },
          "ternary": {
           "aaxis": {
            "gridcolor": "#DFE8F3",
            "linecolor": "#A2B1C6",
            "ticks": ""
           },
           "baxis": {
            "gridcolor": "#DFE8F3",
            "linecolor": "#A2B1C6",
            "ticks": ""
           },
           "bgcolor": "white",
           "caxis": {
            "gridcolor": "#DFE8F3",
            "linecolor": "#A2B1C6",
            "ticks": ""
           }
          },
          "title": {
           "x": 0.05
          },
          "xaxis": {
           "automargin": true,
           "gridcolor": "#EBF0F8",
           "linecolor": "#EBF0F8",
           "ticks": "",
           "title": {
            "standoff": 15
           },
           "zerolinecolor": "#EBF0F8",
           "zerolinewidth": 2
          },
          "yaxis": {
           "automargin": true,
           "gridcolor": "#EBF0F8",
           "linecolor": "#EBF0F8",
           "ticks": "",
           "title": {
            "standoff": 15
           },
           "zerolinecolor": "#EBF0F8",
           "zerolinewidth": 2
          }
         }
        },
        "title": {
         "font": {
          "size": 20
         },
         "text": "Boxplot of Image Intensities by Orientation"
        },
        "width": 1000,
        "xaxis": {
         "anchor": "y",
         "domain": [
          0,
          0.2888888888888889
         ]
        },
        "xaxis2": {
         "anchor": "y2",
         "domain": [
          0.35555555555555557,
          0.6444444444444445
         ]
        },
        "xaxis3": {
         "anchor": "y3",
         "domain": [
          0.7111111111111111,
          1
         ]
        },
        "yaxis": {
         "anchor": "x",
         "domain": [
          0,
          1
         ]
        },
        "yaxis2": {
         "anchor": "x2",
         "domain": [
          0,
          1
         ]
        },
        "yaxis3": {
         "anchor": "x3",
         "domain": [
          0,
          1
         ]
        }
       }
      },
      "text/html": [
       "<div>                            <div id=\"196dfe5c-e6f1-4d34-9201-f21cffb0ae48\" class=\"plotly-graph-div\" style=\"height:600px; width:1000px;\"></div>            <script type=\"text/javascript\">                require([\"plotly\"], function(Plotly) {                    window.PLOTLYENV=window.PLOTLYENV || {};                                    if (document.getElementById(\"196dfe5c-e6f1-4d34-9201-f21cffb0ae48\")) {                    Plotly.newPlot(                        \"196dfe5c-e6f1-4d34-9201-f21cffb0ae48\",                        [{\"boxmean\":\"sd\",\"marker\":{\"color\":\"#efc86e\"},\"name\":\"Axial\",\"y\":[493.5790100097656,596.6669921875,505.6319885253906,573.0650024414062,441.02398681640625,471.2959899902344,709.4354248046875,439.8389892578125,442.47698974609375,438.2969970703125,461.0199890136719,574.9929809570312,626.3779907226562,788.3209838867188,739.176025390625,570.3460083007812,627.1209716796875,499.50201416015625,496.35101318359375,548.9769897460938,548.8309936523438,546.8109741210938,532.8410034179688,442.97698974609375,563.5919799804688,133.52699279785156,131.1999969482422,542.9169921875,519.3939819335938,652.9569702148438,538.3779907226562,546.2760009765625,680.698974609375,499.7090148925781,542.0020141601562,549.1060180664062,520.3159790039062,588.6749877929688,663.7139892578125,676.4299926757812,628.2000122070312,540.0880126953125,352.9729919433594,645.5709838867188,656.4650268554688,461.27398681640625,114.8759994506836,63.77799987792969,489.2539978027344,482.7040100097656,476.84600830078125,590.43701171875,527.8790283203125,109.88400268554688,551.7830200195312,222.1020050048828,464.4540100097656,255.51400756835938,594.5399780273438,496.5260009765625,633.1010131835938,148.73399353027344,93.48500061035156,143.2740020751953,469.6579895019531,207.531005859375,556.177978515625,417.0409851074219,511.9410095214844,601.8380126953125,501.3450012207031,607.697021484375,531.1859741210938,126.14199829101562,607.5969848632812,119.19300079345703,128.31500244140625,479.75,462.5610046386719,586.1710205078125,157.99400329589844,163.2519989013672,355.87799072265625,478.5639953613281,450.260009765625,427.92999267578125,145.1540069580078,98.14600372314453,472.3550109863281,483.65399169921875,497.4339904785156,496.0220031738281,582.698974609375,641.208984375,119.06500244140625,331.4880065917969,464.8590087890625,430.40899658203125,389.3349914550781,526.2369995117188,284.7070007324219,442.677001953125,117.62999725341797,461.239990234375,430.7200012207031,419.86102294921875,633.5449829101562,475.2749938964844,142.29800415039062,96.2770004272461,152.35000610351562,150.01600646972656,534.5339965820312,539.2789916992188,473.3789978027344,642.7839965820312,129.20899963378906,105.86599731445312,524.5050048828125,459.1000061035156,545.47802734375,411.60198974609375,882.7670288085938,895.9559936523438,497.6000061035156,90.06999969482422,64.3759994506836,631.1019897460938,667.0239868164062,650.6430053710938,375.0,417.3169860839844,453.42401123046875,1098.7919921875,366.5559997558594,569.4500122070312,1277.5240478515625,652.7410278320312,650.0130004882812,635.1019897460938,500.7749938964844,526.3359985351562,510.7909851074219,444.2959899902344,430.5320129394531,708.8930053710938,668.6719970703125,676.6489868164062,484.2279968261719,551.5560302734375,419.5849914550781,594.5700073242188,768.905029296875,864.35400390625,455.3009948730469,606.489990234375,136.31399536132812,101.7490005493164,408.6619873046875,539.323974609375,558.6300048828125,557.5700073242188,493.93499755859375,800.1290283203125,707.5960083007812,695.1099853515625,122.4739990234375,106.29900360107422,616.1179809570312,607.3170166015625,643.2990112304688,433.781005859375,435.5710144042969,451.8030090332031,591.9180297851562,192.46400451660156,138.1320037841797,475.3269958496094,476.31201171875,283.1499938964844,513.0469970703125,320.22900390625,379.25299072265625,376.3900146484375,369.4930114746094,1114.2550048828125,1493.5269775390625,540.3720092773438,522.197998046875,525.5640258789062,447.5039978027344,366.8630065917969,486.2799987792969,677.1160278320312,777.7479858398438,78.55899810791016,121.54499816894531,420.9219970703125,465.6650085449219,485.9219970703125,536.9829711914062,81.98200225830078,167.51600646972656,128.84300231933594,360.072998046875,424.0159912109375,652.426025390625,394.9280090332031,632.6119995117188,583.2960205078125,636.8319702148438,496.8429870605469,502.5880126953125,451.7049865722656,536.7420043945312,471.6570129394531],\"type\":\"box\",\"xaxis\":\"x\",\"yaxis\":\"y\"},{\"boxmean\":\"sd\",\"marker\":{\"color\":\"#808fe1\"},\"name\":\"Coronal\",\"y\":[583.2890014648438,590.8531494140625,355.64801025390625,364.5679931640625,628.9569702148438,677.458984375,654.655029296875,132.86199951171875,465.9320068359375,470.8890075683594,478.093994140625,716.6799926757812,499.03399658203125,492.81201171875,502.7309875488281,142.822998046875,221.89700317382812,223.10499572753906,124.3030014038086,206.79200744628906,206.42599487304688,16.368999481201172,529.1539916992188,207.1699981689453,462.30499267578125,494.7770080566406,156.4669952392578,140.79600524902344,145.10299682617188,127.91699981689453,582.0020141601562,571.5700073242188,549.2890014648438,158.2050018310547,266.3739929199219,92.59100341796875,511.3199462890625,532.7100219726562,157.22999572753906,185.9980010986328,389.1789855957031,389.22100830078125,141.97000122070312,326.3590087890625,54.65399932861328,773.7969970703125,96.72699737548828,585.1279907226562,550.7620239257812,187.76300048828125,891.0130004882812,490.5639953613281,528.8619995117188,524.0800170898438,516.2999877929688,618.2100219726562,620.0380249023438,531.593017578125,150.61199951171875,508.7950134277344,501.0039978027344,509.1860046386719,167.68499755859375,698.5560302734375,188.02000427246094,616.4249877929688,123.26000213623047,634.0079956054688,212.19500732421875,485.25,349.3269958496094,378.89898681640625,1445.1209716796875,494.1239929199219,475.99700927734375,748.1309814453125,162.26300048828125,123.33599853515625,577.7260131835938,148.39999389648438,170.88400268554688,416.72601318359375,397.64801025390625],\"type\":\"box\",\"xaxis\":\"x2\",\"yaxis\":\"y2\"},{\"boxmean\":\"sd\",\"marker\":{\"color\":\"#aab5d5\"},\"name\":\"Sagittal\",\"y\":[544.6160278320312,549.822021484375,554.0460205078125,502.7179870605469,1666.2779541015625,536.2100219726562,537.6740112304688,615.1270141601562,708.176025390625,698.6599731445312,575.0430297851562,372.3110046386719,404.0710144042969,586.1309814453125,574.3989868164062,501.3800048828125,624.801025390625,618.0590209960938,563.5369873046875,603.6630249023438,660.6300048828125,619.7059936523438,430.822998046875,612.5789794921875,142.57200622558594,483.1830139160156,802.7940063476562,600.97998046875,585.718017578125,587.9609985351562,659.35302734375,613.0919799804688,538.5549926757812,508.77801513671875,606.4320068359375,564.2620239257812,712.8720092773438,637.9520263671875,626.666015625,665.1849975585938,459.4809875488281,677.5230102539062,680.9530029296875,124.57099914550781,336.2349853515625,329.0199890136719,599.0850219726562,144.781005859375,542.530029296875,291.2539978027344,440.4599914550781,461.3030090332031,304.10699462890625,606.0889892578125,591.3800048828125,709.2349853515625,402.135009765625,266.43701171875,560.3369750976562,565.4180297851562,541.041015625,610.156982421875,660.1510009765625,638.35302734375,623.9580078125,144.2729949951172,678.0570068359375,146.0070037841797,605.4530029296875,486.0199890136719,693.18798828125,189.83399963378906,495.5429992675781,523.3770141601562,412.2090148925781,415.4150085449219,527.6290283203125,136.69000244140625,542.0,558.89697265625,444.88800048828125,704.8209838867188,158.85299682617188,393.7590026855469,567.458984375,516.1820068359375,474.6300048828125,470.6080017089844,627.4000244140625,185.6820068359375,279.3760070800781,519.8679809570312,103.52899932861328,564.4669799804688,480.99200439453125,879.1536865234375,504.3500061035156,166.4409942626953,181.8509979248047,516.989990234375,513.8200073242188,625.791015625,127.22799682617188,647.9000244140625,489.6919860839844,498.43798828125,605.8870239257812,381.6969909667969,471.0169982910156,673.4229736328125,575.7080078125,98.81400299072266,637.739990234375,625.125,466.7590026855469,528.8309936523438,676.9249877929688,462.3450012207031,500.1809997558594,924.8779907226562,397.93499755859375,707.8989868164062,1080.7020263671875,1331.7750244140625,668.0360107421875,653.635009765625,566.1719970703125,654.5059814453125,687.3629760742188,663.4979858398438,704.8619995117188,690.8049926757812,591.7579956054688,675.31201171875,452.3179931640625,716.9760131835938,526.9340209960938,554.2930297851562,704.5869750976562,144.67100524902344,469.822998046875,616.8880004882812,646.4039916992188,519.5020141601562,805.0260009765625,570.1539916992188,140.68099975585938,471.0469970703125,379.7250061035156,139.15699768066406,631.1749877929688,651.1220092773438,588.9630126953125,535.531005859375,508.364990234375,444.6990051269531,519.7750244140625,695.4409790039062,215.98899841308594,535.1240234375,324.406005859375,575.6409912109375,656.3900146484375,635.6580200195312,503.33099365234375,470.5090026855469,311.8789978027344,432.2229919433594,425.29400634765625,1586.8590087890625,649.406982421875,649.3419799804688,559.7999877929688,342.04998779296875,350.5690002441406,515.2109985351562,700.9390258789062,785.5440063476562,102.28199768066406,431.5,551.2059936523438,477.2080078125,501.9389953613281,558.6920166015625,125.88800048828125,165.99000549316406,406.6499938964844,478.5090026855469,627.6370239257812,446.9169921875,449.3890075683594,579.4210205078125,594.3779907226562,514.2230224609375,475.87701416015625,540.3800048828125,495.0840148925781],\"type\":\"box\",\"xaxis\":\"x3\",\"yaxis\":\"y3\"}],                        {\"template\":{\"data\":{\"barpolar\":[{\"marker\":{\"line\":{\"color\":\"white\",\"width\":0.5},\"pattern\":{\"fillmode\":\"overlay\",\"size\":10,\"solidity\":0.2}},\"type\":\"barpolar\"}],\"bar\":[{\"error_x\":{\"color\":\"#2a3f5f\"},\"error_y\":{\"color\":\"#2a3f5f\"},\"marker\":{\"line\":{\"color\":\"white\",\"width\":0.5},\"pattern\":{\"fillmode\":\"overlay\",\"size\":10,\"solidity\":0.2}},\"type\":\"bar\"}],\"carpet\":[{\"aaxis\":{\"endlinecolor\":\"#2a3f5f\",\"gridcolor\":\"#C8D4E3\",\"linecolor\":\"#C8D4E3\",\"minorgridcolor\":\"#C8D4E3\",\"startlinecolor\":\"#2a3f5f\"},\"baxis\":{\"endlinecolor\":\"#2a3f5f\",\"gridcolor\":\"#C8D4E3\",\"linecolor\":\"#C8D4E3\",\"minorgridcolor\":\"#C8D4E3\",\"startlinecolor\":\"#2a3f5f\"},\"type\":\"carpet\"}],\"choropleth\":[{\"colorbar\":{\"outlinewidth\":0,\"ticks\":\"\"},\"type\":\"choropleth\"}],\"contourcarpet\":[{\"colorbar\":{\"outlinewidth\":0,\"ticks\":\"\"},\"type\":\"contourcarpet\"}],\"contour\":[{\"colorbar\":{\"outlinewidth\":0,\"ticks\":\"\"},\"colorscale\":[[0.0,\"#0d0887\"],[0.1111111111111111,\"#46039f\"],[0.2222222222222222,\"#7201a8\"],[0.3333333333333333,\"#9c179e\"],[0.4444444444444444,\"#bd3786\"],[0.5555555555555556,\"#d8576b\"],[0.6666666666666666,\"#ed7953\"],[0.7777777777777778,\"#fb9f3a\"],[0.8888888888888888,\"#fdca26\"],[1.0,\"#f0f921\"]],\"type\":\"contour\"}],\"heatmapgl\":[{\"colorbar\":{\"outlinewidth\":0,\"ticks\":\"\"},\"colorscale\":[[0.0,\"#0d0887\"],[0.1111111111111111,\"#46039f\"],[0.2222222222222222,\"#7201a8\"],[0.3333333333333333,\"#9c179e\"],[0.4444444444444444,\"#bd3786\"],[0.5555555555555556,\"#d8576b\"],[0.6666666666666666,\"#ed7953\"],[0.7777777777777778,\"#fb9f3a\"],[0.8888888888888888,\"#fdca26\"],[1.0,\"#f0f921\"]],\"type\":\"heatmapgl\"}],\"heatmap\":[{\"colorbar\":{\"outlinewidth\":0,\"ticks\":\"\"},\"colorscale\":[[0.0,\"#0d0887\"],[0.1111111111111111,\"#46039f\"],[0.2222222222222222,\"#7201a8\"],[0.3333333333333333,\"#9c179e\"],[0.4444444444444444,\"#bd3786\"],[0.5555555555555556,\"#d8576b\"],[0.6666666666666666,\"#ed7953\"],[0.7777777777777778,\"#fb9f3a\"],[0.8888888888888888,\"#fdca26\"],[1.0,\"#f0f921\"]],\"type\":\"heatmap\"}],\"histogram2dcontour\":[{\"colorbar\":{\"outlinewidth\":0,\"ticks\":\"\"},\"colorscale\":[[0.0,\"#0d0887\"],[0.1111111111111111,\"#46039f\"],[0.2222222222222222,\"#7201a8\"],[0.3333333333333333,\"#9c179e\"],[0.4444444444444444,\"#bd3786\"],[0.5555555555555556,\"#d8576b\"],[0.6666666666666666,\"#ed7953\"],[0.7777777777777778,\"#fb9f3a\"],[0.8888888888888888,\"#fdca26\"],[1.0,\"#f0f921\"]],\"type\":\"histogram2dcontour\"}],\"histogram2d\":[{\"colorbar\":{\"outlinewidth\":0,\"ticks\":\"\"},\"colorscale\":[[0.0,\"#0d0887\"],[0.1111111111111111,\"#46039f\"],[0.2222222222222222,\"#7201a8\"],[0.3333333333333333,\"#9c179e\"],[0.4444444444444444,\"#bd3786\"],[0.5555555555555556,\"#d8576b\"],[0.6666666666666666,\"#ed7953\"],[0.7777777777777778,\"#fb9f3a\"],[0.8888888888888888,\"#fdca26\"],[1.0,\"#f0f921\"]],\"type\":\"histogram2d\"}],\"histogram\":[{\"marker\":{\"pattern\":{\"fillmode\":\"overlay\",\"size\":10,\"solidity\":0.2}},\"type\":\"histogram\"}],\"mesh3d\":[{\"colorbar\":{\"outlinewidth\":0,\"ticks\":\"\"},\"type\":\"mesh3d\"}],\"parcoords\":[{\"line\":{\"colorbar\":{\"outlinewidth\":0,\"ticks\":\"\"}},\"type\":\"parcoords\"}],\"pie\":[{\"automargin\":true,\"type\":\"pie\"}],\"scatter3d\":[{\"line\":{\"colorbar\":{\"outlinewidth\":0,\"ticks\":\"\"}},\"marker\":{\"colorbar\":{\"outlinewidth\":0,\"ticks\":\"\"}},\"type\":\"scatter3d\"}],\"scattercarpet\":[{\"marker\":{\"colorbar\":{\"outlinewidth\":0,\"ticks\":\"\"}},\"type\":\"scattercarpet\"}],\"scattergeo\":[{\"marker\":{\"colorbar\":{\"outlinewidth\":0,\"ticks\":\"\"}},\"type\":\"scattergeo\"}],\"scattergl\":[{\"marker\":{\"colorbar\":{\"outlinewidth\":0,\"ticks\":\"\"}},\"type\":\"scattergl\"}],\"scattermapbox\":[{\"marker\":{\"colorbar\":{\"outlinewidth\":0,\"ticks\":\"\"}},\"type\":\"scattermapbox\"}],\"scatterpolargl\":[{\"marker\":{\"colorbar\":{\"outlinewidth\":0,\"ticks\":\"\"}},\"type\":\"scatterpolargl\"}],\"scatterpolar\":[{\"marker\":{\"colorbar\":{\"outlinewidth\":0,\"ticks\":\"\"}},\"type\":\"scatterpolar\"}],\"scatter\":[{\"fillpattern\":{\"fillmode\":\"overlay\",\"size\":10,\"solidity\":0.2},\"type\":\"scatter\"}],\"scatterternary\":[{\"marker\":{\"colorbar\":{\"outlinewidth\":0,\"ticks\":\"\"}},\"type\":\"scatterternary\"}],\"surface\":[{\"colorbar\":{\"outlinewidth\":0,\"ticks\":\"\"},\"colorscale\":[[0.0,\"#0d0887\"],[0.1111111111111111,\"#46039f\"],[0.2222222222222222,\"#7201a8\"],[0.3333333333333333,\"#9c179e\"],[0.4444444444444444,\"#bd3786\"],[0.5555555555555556,\"#d8576b\"],[0.6666666666666666,\"#ed7953\"],[0.7777777777777778,\"#fb9f3a\"],[0.8888888888888888,\"#fdca26\"],[1.0,\"#f0f921\"]],\"type\":\"surface\"}],\"table\":[{\"cells\":{\"fill\":{\"color\":\"#EBF0F8\"},\"line\":{\"color\":\"white\"}},\"header\":{\"fill\":{\"color\":\"#C8D4E3\"},\"line\":{\"color\":\"white\"}},\"type\":\"table\"}]},\"layout\":{\"annotationdefaults\":{\"arrowcolor\":\"#2a3f5f\",\"arrowhead\":0,\"arrowwidth\":1},\"autotypenumbers\":\"strict\",\"coloraxis\":{\"colorbar\":{\"outlinewidth\":0,\"ticks\":\"\"}},\"colorscale\":{\"diverging\":[[0,\"#8e0152\"],[0.1,\"#c51b7d\"],[0.2,\"#de77ae\"],[0.3,\"#f1b6da\"],[0.4,\"#fde0ef\"],[0.5,\"#f7f7f7\"],[0.6,\"#e6f5d0\"],[0.7,\"#b8e186\"],[0.8,\"#7fbc41\"],[0.9,\"#4d9221\"],[1,\"#276419\"]],\"sequential\":[[0.0,\"#0d0887\"],[0.1111111111111111,\"#46039f\"],[0.2222222222222222,\"#7201a8\"],[0.3333333333333333,\"#9c179e\"],[0.4444444444444444,\"#bd3786\"],[0.5555555555555556,\"#d8576b\"],[0.6666666666666666,\"#ed7953\"],[0.7777777777777778,\"#fb9f3a\"],[0.8888888888888888,\"#fdca26\"],[1.0,\"#f0f921\"]],\"sequentialminus\":[[0.0,\"#0d0887\"],[0.1111111111111111,\"#46039f\"],[0.2222222222222222,\"#7201a8\"],[0.3333333333333333,\"#9c179e\"],[0.4444444444444444,\"#bd3786\"],[0.5555555555555556,\"#d8576b\"],[0.6666666666666666,\"#ed7953\"],[0.7777777777777778,\"#fb9f3a\"],[0.8888888888888888,\"#fdca26\"],[1.0,\"#f0f921\"]]},\"colorway\":[\"#636efa\",\"#EF553B\",\"#00cc96\",\"#ab63fa\",\"#FFA15A\",\"#19d3f3\",\"#FF6692\",\"#B6E880\",\"#FF97FF\",\"#FECB52\"],\"font\":{\"color\":\"#2a3f5f\"},\"geo\":{\"bgcolor\":\"white\",\"lakecolor\":\"white\",\"landcolor\":\"white\",\"showlakes\":true,\"showland\":true,\"subunitcolor\":\"#C8D4E3\"},\"hoverlabel\":{\"align\":\"left\"},\"hovermode\":\"closest\",\"mapbox\":{\"style\":\"light\"},\"paper_bgcolor\":\"white\",\"plot_bgcolor\":\"white\",\"polar\":{\"angularaxis\":{\"gridcolor\":\"#EBF0F8\",\"linecolor\":\"#EBF0F8\",\"ticks\":\"\"},\"bgcolor\":\"white\",\"radialaxis\":{\"gridcolor\":\"#EBF0F8\",\"linecolor\":\"#EBF0F8\",\"ticks\":\"\"}},\"scene\":{\"xaxis\":{\"backgroundcolor\":\"white\",\"gridcolor\":\"#DFE8F3\",\"gridwidth\":2,\"linecolor\":\"#EBF0F8\",\"showbackground\":true,\"ticks\":\"\",\"zerolinecolor\":\"#EBF0F8\"},\"yaxis\":{\"backgroundcolor\":\"white\",\"gridcolor\":\"#DFE8F3\",\"gridwidth\":2,\"linecolor\":\"#EBF0F8\",\"showbackground\":true,\"ticks\":\"\",\"zerolinecolor\":\"#EBF0F8\"},\"zaxis\":{\"backgroundcolor\":\"white\",\"gridcolor\":\"#DFE8F3\",\"gridwidth\":2,\"linecolor\":\"#EBF0F8\",\"showbackground\":true,\"ticks\":\"\",\"zerolinecolor\":\"#EBF0F8\"}},\"shapedefaults\":{\"line\":{\"color\":\"#2a3f5f\"}},\"ternary\":{\"aaxis\":{\"gridcolor\":\"#DFE8F3\",\"linecolor\":\"#A2B1C6\",\"ticks\":\"\"},\"baxis\":{\"gridcolor\":\"#DFE8F3\",\"linecolor\":\"#A2B1C6\",\"ticks\":\"\"},\"bgcolor\":\"white\",\"caxis\":{\"gridcolor\":\"#DFE8F3\",\"linecolor\":\"#A2B1C6\",\"ticks\":\"\"}},\"title\":{\"x\":0.05},\"xaxis\":{\"automargin\":true,\"gridcolor\":\"#EBF0F8\",\"linecolor\":\"#EBF0F8\",\"ticks\":\"\",\"title\":{\"standoff\":15},\"zerolinecolor\":\"#EBF0F8\",\"zerolinewidth\":2},\"yaxis\":{\"automargin\":true,\"gridcolor\":\"#EBF0F8\",\"linecolor\":\"#EBF0F8\",\"ticks\":\"\",\"title\":{\"standoff\":15},\"zerolinecolor\":\"#EBF0F8\",\"zerolinewidth\":2}}},\"xaxis\":{\"anchor\":\"y\",\"domain\":[0.0,0.2888888888888889]},\"yaxis\":{\"anchor\":\"x\",\"domain\":[0.0,1.0]},\"xaxis2\":{\"anchor\":\"y2\",\"domain\":[0.35555555555555557,0.6444444444444445]},\"yaxis2\":{\"anchor\":\"x2\",\"domain\":[0.0,1.0]},\"xaxis3\":{\"anchor\":\"y3\",\"domain\":[0.7111111111111111,1.0]},\"yaxis3\":{\"anchor\":\"x3\",\"domain\":[0.0,1.0]},\"annotations\":[{\"font\":{\"size\":16},\"showarrow\":false,\"text\":\"Axial\",\"x\":0.14444444444444446,\"xanchor\":\"center\",\"xref\":\"paper\",\"y\":1.0,\"yanchor\":\"bottom\",\"yref\":\"paper\"},{\"font\":{\"size\":16},\"showarrow\":false,\"text\":\"Coronal\",\"x\":0.5,\"xanchor\":\"center\",\"xref\":\"paper\",\"y\":1.0,\"yanchor\":\"bottom\",\"yref\":\"paper\"},{\"font\":{\"size\":16},\"showarrow\":false,\"text\":\"Sagittal\",\"x\":0.8555555555555556,\"xanchor\":\"center\",\"xref\":\"paper\",\"y\":1.0,\"yanchor\":\"bottom\",\"yref\":\"paper\"}],\"title\":{\"font\":{\"size\":20},\"text\":\"Boxplot of Image Intensities by Orientation\"},\"font\":{\"size\":18},\"height\":600,\"width\":1000},                        {\"responsive\": true}                    ).then(function(){\n",
       "                            \n",
       "var gd = document.getElementById('196dfe5c-e6f1-4d34-9201-f21cffb0ae48');\n",
       "var x = new MutationObserver(function (mutations, observer) {{\n",
       "        var display = window.getComputedStyle(gd).display;\n",
       "        if (!display || display === 'none') {{\n",
       "            console.log([gd, 'removed!']);\n",
       "            Plotly.purge(gd);\n",
       "            observer.disconnect();\n",
       "        }}\n",
       "}});\n",
       "\n",
       "// Listen for the removal of the full notebook cells\n",
       "var notebookContainer = gd.closest('#notebook-container');\n",
       "if (notebookContainer) {{\n",
       "    x.observe(notebookContainer, {childList: true});\n",
       "}}\n",
       "\n",
       "// Listen for the clearing of the current output cell\n",
       "var outputEl = gd.closest('.output');\n",
       "if (outputEl) {{\n",
       "    x.observe(outputEl, {childList: true});\n",
       "}}\n",
       "\n",
       "                        })                };                });            </script>        </div>"
      ]
     },
     "metadata": {},
     "output_type": "display_data"
    }
   ],
   "source": [
    "plot_intensity_boxplots_subplots(intensity_values_axial, intensity_values_coronal, intensity_values_sagital,colors_sub)"
   ]
  },
  {
   "cell_type": "code",
   "execution_count": 26,
   "metadata": {},
   "outputs": [
    {
     "name": "stderr",
     "output_type": "stream",
     "text": [
      "  0%|          | 0/496 [00:00<?, ?it/s]"
     ]
    },
    {
     "name": "stderr",
     "output_type": "stream",
     "text": [
      "100%|██████████| 496/496 [01:32<00:00,  5.36it/s]\n"
     ]
    }
   ],
   "source": [
    "import numpy as np\n",
    "from tqdm import tqdm\n",
    "\n",
    "def compute_histogram(image, bins=10):\n",
    "    \"\"\"Compute the histogram of an image.\"\"\"\n",
    "    histogram, _ = np.histogram(image.flatten(), bins=bins)\n",
    "    return histogram\n",
    "\n",
    "def average_histograms(histograms):\n",
    "    \"\"\"Average a list of histograms.\"\"\"\n",
    "    return np.mean(histograms, axis=0)\n",
    "\n",
    "# Initialize lists to hold histograms for each orientation\n",
    "histograms_axial = []\n",
    "histograms_coronal = []\n",
    "histograms_sagital = []\n",
    "\n",
    "# Loop through your dataset\n",
    "for image in tqdm(train_ds):\n",
    "    if 'sagital' in image.keys():\n",
    "        histograms_sagital.append(compute_histogram(image['sagital']))\n",
    "    if 'coronal' in image.keys():\n",
    "        histograms_coronal.append(compute_histogram(image['coronal']))\n",
    "    if 'axial' in image.keys():\n",
    "        histograms_axial.append(compute_histogram(image['axial']))\n",
    "\n",
    "# Average the histograms for each orientation\n",
    "avg_histogram_axial = average_histograms(histograms_axial)\n",
    "avg_histogram_coronal = average_histograms(histograms_coronal)\n",
    "avg_histogram_sagital = average_histograms(histograms_sagital)\n",
    "\n",
    "\n"
   ]
  },
  {
   "cell_type": "code",
   "execution_count": 29,
   "metadata": {},
   "outputs": [
    {
     "data": {
      "text/plain": [
       "[array([1174382, 2142092, 2110083,  737164,   96539,   24184,    4818,\n",
       "           1784,     399,      11]),\n",
       " array([ 394842, 1139416, 1289498,  723884,   97825,   16935,    5428,\n",
       "           1902,     277,       9]),\n",
       " array([ 767046, 2345612, 2637364, 1365827,  179898,   30400,   10641,\n",
       "           2872,     358,      14]),\n",
       " array([1687198, 2296205, 1571965,  464693,  193496,   48474,   20402,\n",
       "           7314,    1601,     108]),\n",
       " array([ 603392, 1253024, 1409207, 1282494,  978932,  572121,  172047,\n",
       "          19070,    1131,      38]),\n",
       " array([ 625729,  682441,  473872,  552392, 1210858,  801069,   86562,\n",
       "          20957,    2342,     226]),\n",
       " array([ 614082,  671685,  488578,  591035, 1198115,  778637,   92150,\n",
       "          19620,    2343,     203]),\n",
       " array([ 605977, 1141687, 1222646, 2290967,  929510,   84949,   12982,\n",
       "           2362,     330,      46]),\n",
       " array([3473895, 1171364, 1203252, 1560746,  571324,  134514,   10820,\n",
       "            388,     112,      49]),\n",
       " array([1097596, 1807288, 2254838, 1308386,  267397,   61782,   15071,\n",
       "           2995,     371,      20]),\n",
       " array([ 835100, 1055600, 1304265, 1761006, 1058431,  230038,   37188,\n",
       "           8234,    1456,     138]),\n",
       " array([2666986,  492890,  541204,  596259,  517021,  251363,  125333,\n",
       "          39082,   10750,    1992]),\n",
       " array([2157555,  439912,  496199,  601847,  483985,  162068,   88478,\n",
       "          24038,    2241,     125]),\n",
       " array([1532550, 1635289, 2326449,  683603,   84470,   22506,    6033,\n",
       "            488,      50,      18]),\n",
       " array([1314977, 1564425, 2053765, 1153854,  155575,   32408,   13520,\n",
       "           2639,     248,      45]),\n",
       " array([1150809,  455531,  443785,  538634,  357809,  128272,   59727,\n",
       "          10304,     772,      85]),\n",
       " array([ 537531, 1379181, 1506611, 2162653,  596328,   82123,   20868,\n",
       "           4933,    1089,     139]),\n",
       " array([663058, 431846, 484395, 269192,  93210,  23634,    713,     22,\n",
       "             8,      2]),\n",
       " array([597092, 365862, 387730, 427051, 289723,  99142,  48163,  12141,\n",
       "          1250,     70]),\n",
       " array([1258170, 1430891, 1331459, 1801720,  393968,   57870,   13464,\n",
       "           3279,     607,      28]),\n",
       " array([1353100, 1401471, 1637936, 1583971,  278118,   26108,    7809,\n",
       "           2516,     391,      36]),\n",
       " array([1206971, 1473296, 1631294, 1667873,  265689,   34811,    9274,\n",
       "           2027,     209,      12]),\n",
       " array([ 602740, 2293326, 2466014, 1243472,  180314,   25369,    3619,\n",
       "            830,      58,       2]),\n",
       " array([ 963888, 1544547, 1599451, 2435124,  706371,   75059,   11953,\n",
       "           2956,     580,     103]),\n",
       " array([1364199,  580642,  567039,  795611,  288848,   43455,   37500,\n",
       "           9001,     102,       3]),\n",
       " array([ 374978, 1772823, 1697376, 1698104,  586238,  132582,   24521,\n",
       "           4318,     481,      35]),\n",
       " array([1288896, 1370908, 1139091, 1916119,  859649,  197548,   34472,\n",
       "           8375,     670,      16]),\n",
       " array([1186964, 1086814, 2052473, 1537620,  893550,  259530,   53439,\n",
       "           6753,     695,      50]),\n",
       " array([1209040, 2238712, 2227413, 1160044,  215416,   25267,    1901,\n",
       "             93,       0,       2]),\n",
       " array([ 559413, 1729050, 2253787, 1495218,  209204,   30403,   10244,\n",
       "           3524,     567,      46]),\n",
       " array([ 551034, 1134623, 1106097, 1904795, 1255249,  280470,   52039,\n",
       "           6712,     406,      31]),\n",
       " array([ 673320, 1287531, 1236401, 2176821,  792913,  113601,   10014,\n",
       "            786,      55,      14]),\n",
       " array([ 625684, 1263483, 1242053, 1616889, 1188174,  311627,   30511,\n",
       "           9457,    3298,     280]),\n",
       " array([ 724390, 1461013, 1569468, 1782958,  624313,   96629,   26786,\n",
       "           5179,     686,      34]),\n",
       " array([ 352179,  964803, 1253505, 2198367,  869271,  118024,   10511,\n",
       "            488,      14,       6]),\n",
       " array([1070197, 2268894, 1932724, 2143203,  801152,  139749,   25966,\n",
       "           5599,    1024,     100]),\n",
       " array([1588786, 1570194, 2383089, 1113307,  140776,   18461,     848,\n",
       "            205,      63,      15]),\n",
       " array([ 500953,  599915,  487316,  577584, 1224430,  721487,   58904,\n",
       "          21149,    2502,      64]),\n",
       " array([ 509202,  612902,  467611,  546998, 1231991,  740664,   60117,\n",
       "          21983,    2740,      96]),\n",
       " array([2867332, 1216395, 1281105, 1417665,  466917,   78335,   11954,\n",
       "            313,      11,       5]),\n",
       " array([1142166, 2526217, 2959269, 1059437,  138898,   23318,   10694,\n",
       "           3832,     448,      41]),\n",
       " array([ 309980,  453435,  321313,  257716,  328478,  900844, 1485660,\n",
       "         135806,    1050,      22]),\n",
       " array([ 300203,  470426,  313427,  241986,  290426,  690300, 1701309,\n",
       "         184276,    1903,      48]),\n",
       " array([1312187,  548433,  518076,  476520,  181275,   31385,    3793,\n",
       "            310,      19,       2]),\n",
       " array([1372191, 1102435, 1260533,  620664,  235645,   99095,   24978,\n",
       "           2606,     427,      18]),\n",
       " array([1345570, 1138990, 1250770,  627239,  235410,   96729,   21765,\n",
       "           1717,     387,      15]),\n",
       " array([ 957032, 1555521, 1582555, 1806930,  323661,   47683,   12939,\n",
       "           4353,     683,      99]),\n",
       " array([1109060,  485581,  486426,  650937,  625559,  280024,   43630,\n",
       "           4751,     393,      39]),\n",
       " array([ 816608, 2020974, 2256264, 1985195,  696831,   81272,    6378,\n",
       "            720,      70,       8]),\n",
       " array([4282743, 1232040, 1067729,  594195,  130489,   27993,    4361,\n",
       "            253,     169,      60]),\n",
       " array([1018853, 1871880, 1652950, 1328392,  338344,   59146,   14301,\n",
       "           5697,    1784,     109]),\n",
       " array([1002819, 1851767, 1664371, 1342114,  342019,   64653,   15899,\n",
       "           6118,    1598,      98]),\n",
       " array([3252400,  967731,  562687,  246952,  128051,   66540,   15794,\n",
       "           2387,     284,      54]),\n",
       " array([1190641, 1841311, 1959118, 1734413,  520814,   86273,    6387,\n",
       "            931,     128,      16]),\n",
       " array([1338666, 2092707, 2687944,  608953,   63508,   18000,    5316,\n",
       "            604,      41,       5]),\n",
       " array([1725914, 1111952, 1290913, 2393560,  729409,   76626,    8571,\n",
       "           2706,     330,      51]),\n",
       " array([3286727, 1122638, 1973417, 1175215,  217395,   70134,   16624,\n",
       "           2057,     108,       5]),\n",
       " array([3294883,  942044,  575596,  239332,   89219,   45541,   30497,\n",
       "          19117,    6257,     394]),\n",
       " array([ 916455, 1358412, 1240783, 1601337,  869502,  254218,   45732,\n",
       "           4671,     324,      22]),\n",
       " array([ 910869, 1357076, 1282779, 1618057,  841854,  235361,   40638,\n",
       "           4460,     308,      54]),\n",
       " array([ 820334, 1602427, 1665653, 1564663,  538218,   89620,    9158,\n",
       "           1128,     224,      31]),\n",
       " array([ 847656, 1527284, 2211974, 1886134,  290201,   41243,    8655,\n",
       "           2356,     231,      10]),\n",
       " array([ 533718, 1143596,  887924, 1497302, 1729836,  432196,   64159,\n",
       "           2435,     256,      34]),\n",
       " array([1217950,  995377,  861263, 1141856, 1211580,  156833,   82131,\n",
       "          59819,   37948,    2411]),\n",
       " array([1243246,  979468,  831540, 1070493, 1284202,  165415,   86412,\n",
       "          60754,   43285,    2353]),\n",
       " array([958149, 498394, 692395, 555642, 305321,  56245,   5379,    416,\n",
       "            49,     10]),\n",
       " array([ 849284, 1311344, 1225344, 2138535,  666782,   87857,   10151,\n",
       "           1775,     345,      39]),\n",
       " array([926479, 543627, 544023, 612535, 385836,  53946,   5021,    479,\n",
       "            46,      8]),\n",
       " array([ 429596, 1085273, 1182452, 2147484, 1201017,  199549,   34118,\n",
       "           9457,    2240,     270]),\n",
       " array([2568277, 3694705,  533382,   17189,    1293,     475,     234,\n",
       "            108,      50,      31]),\n",
       " array([ 723663, 1341109, 1349872, 2136994,  591582,  128553,   18834,\n",
       "            752,      90,       7]),\n",
       " array([1553042, 1372513,  842271,   64004,    1503,     295,     105,\n",
       "             60,      34,      29]),\n",
       " array([ 373158, 1852842, 1626875, 1768264,  565793,   96600,    6860,\n",
       "            968,      82,      14]),\n",
       " array([ 892633, 1677670, 2223318, 1294232,  164163,   32268,    6337,\n",
       "            648,     129,      58]),\n",
       " array([ 702594, 3418009, 2470879, 1008659,  202543,   41604,   14571,\n",
       "           4546,     831,      84]),\n",
       " array([ 637119, 3272687, 2551454, 1075604,  246498,   57298,   17913,\n",
       "           4746,     876,     125]),\n",
       " array([ 437638, 1664548, 2194225, 2145950,  333217,   36225,    3726,\n",
       "            207,       4,       4]),\n",
       " array([1617702,  724454,  723238,  425908,  150161,   38644,    5432,\n",
       "            724,     125,      12]),\n",
       " array([ 879971, 1852421, 2183379, 1681458,  192529,   21404,    4052,\n",
       "            472,      37,      21]),\n",
       " array([ 470150, 1654986, 1555803, 2045422,  447325,   90714,   23475,\n",
       "           3307,     260,      14]),\n",
       " array([ 753815, 1144566, 1186693, 1667716,  413026,   67294,    8750,\n",
       "            955,      48,      17]),\n",
       " array([1425742, 1491438, 1658030, 1426565,  240669,   37723,    8732,\n",
       "           1911,     577,      69]),\n",
       " array([1286967,  532576,  474897,  671348,  525206,  169298,   23941,\n",
       "           1932,     203,      32]),\n",
       " array([ 243166, 1074482, 2124534, 2242967,  538621,   59990,    5707,\n",
       "           1377,     521,      91]),\n",
       " array([ 383672, 1172793, 1208369, 2150761, 1145833,  201546,   24513,\n",
       "           3351,     551,      67]),\n",
       " array([ 604535, 1332946, 1210967, 2280147,  734331,  103583,   19369,\n",
       "           4593,     919,      66]),\n",
       " array([1141968, 2210220, 2407137,  932624,  102875,   16341,    3708,\n",
       "            775,      80,      16]),\n",
       " array([1085995, 2137801, 2289561, 1157026,  128371,   14183,    2443,\n",
       "            295,      51,      18]),\n",
       " array([1697043, 1967519, 2470242,  598800,   62660,   12830,    4872,\n",
       "           1410,     339,      29]),\n",
       " array([672249, 107593, 128496,  91594,  33139,  10764,   3650,    917,\n",
       "           148,     26]),\n",
       " array([3737562, 1433215, 1460049,  552489,  121716,   30381,    3691,\n",
       "            510,     377,      42]),\n",
       " array([ 630971, 1851657, 1379482, 1727686,  592968,   92905,   13652,\n",
       "           1837,     233,      65]),\n",
       " array([1056182,  473849,  423515,  670537,  356084,   76537,   14206,\n",
       "            981,      92,      17]),\n",
       " array([ 380165, 1189566, 1367340, 2097751, 1102594,  130028,   21060,\n",
       "           2756,     183,      13]),\n",
       " array([1154242, 2443733, 2469069, 1999520,  260952,   47247,   12669,\n",
       "           1119,      51,       6]),\n",
       " array([654386, 424709, 331070, 485616, 901948, 240127,  29507,   4563,\n",
       "            70,      4]),\n",
       " array([ 533652, 1884377, 1702299, 1586501,  466282,  108082,    8336,\n",
       "           1577,     313,      37]),\n",
       " array([1321804,  467041,  561997,  631440,  264287,   27434,    2496,\n",
       "            276,      24,       1]),\n",
       " array([640383, 684470, 925745, 891508, 250729,  95553,  42969,   6786,\n",
       "           740,     61]),\n",
       " array([ 240378,  925875,  699608,  533132, 1119554, 1422906,  282196,\n",
       "          17840,    1283,     108]),\n",
       " array([ 204387,  989134,  697390,  485895, 1057256, 1564914,  225329,\n",
       "          17011,    1443,     121]),\n",
       " array([ 811672, 1897060, 1499408, 1630790,  329921,   89995,   27175,\n",
       "           4627,     748,      60]),\n",
       " array([1636205,  527026,  448364,  613471,  347562,   73876,   28511,\n",
       "          10851,     496,      38]),\n",
       " array([ 750556, 1431224, 1735897, 1878661,  387876,   80465,   21758,\n",
       "           3946,     912,     161]),\n",
       " array([1085380, 1436734, 1284514, 1540546,  698560,  195485,   40266,\n",
       "           9101,     820,      50]),\n",
       " array([1034403, 1279830, 1220190, 1369355,  989493,  301689,   74815,\n",
       "          18465,    3071,     145]),\n",
       " array([ 564528, 1484107, 1614435, 2286244, 1192354,  173443,   21648,\n",
       "           3010,     247,      16]),\n",
       " array([2054680,  562841,  645663,  938754,  426735,   77808,   10392,\n",
       "           1159,     459,     101]),\n",
       " array([ 838114, 1915297, 2127304,  339694,   20721,    1607,      80,\n",
       "             24,      24,      15]),\n",
       " array([1553333,  988278,  815189, 1061035, 1236976,  581904,   50380,\n",
       "           3883,     431,      47]),\n",
       " array([ 819842, 1382323, 1719545, 1959819,  359780,   43373,    5793,\n",
       "            900,      79,       2]),\n",
       " array([1611519,  730704,  779133,  716695,  199726,   50087,    7615,\n",
       "            458,      54,       9]),\n",
       " array([1780323, 1008222,  964429, 1346374, 1452651,  160599,   23509,\n",
       "          44324,   34720,     593]),\n",
       " array([1734858, 1036254,  996296, 1381650, 1416203,  153300,   19746,\n",
       "          44270,   32753,     414]),\n",
       " array([ 261126, 1153155, 1405645, 1919430, 1280554,  249096,   19917,\n",
       "           2120,     379,      34]),\n",
       " array([ 820123, 1785012, 2611457, 1392965,  176990,   21457,    5270,\n",
       "           1970,     456,      44]),\n",
       " array([ 828059,  787429,  966314, 1257843,  699111,  341301,   92258,\n",
       "           7700,     668,      53]),\n",
       " array([1824637, 1159356, 1291527,  896513,  238423,   78095,   14518,\n",
       "           1775,     168,      12]),\n",
       " array([ 434738, 1503648, 1766249, 1704098,  315350,   35854,    6320,\n",
       "            845,      54,      12]),\n",
       " array([1055809,  979814, 1417533, 1626292, 1390489,  288687,   43175,\n",
       "          12864,    1036,      45]),\n",
       " array([ 401941, 1632211, 1670401, 1896264,  580210,   93758,   12906,\n",
       "           3149,     588,      28]),\n",
       " array([ 803695, 1522646, 2338558,  986856,   92628,   16487,    4755,\n",
       "           1315,     214,      14]),\n",
       " array([308065, 580965, 688732, 628894, 404537, 197907,  63307,  10120,\n",
       "           967,     90]),\n",
       " array([449092, 808037, 762324, 668857, 453573, 214791,  46635,   4076,\n",
       "           425,     62]),\n",
       " array([1096858,  785384,  610565,  671200, 1514088,  531938,   13383,\n",
       "          14690,    4636,     138]),\n",
       " array([1067052,  796014,  630918,  714948, 1487242,  517454,   10620,\n",
       "          14134,    4384,     114]),\n",
       " array([ 662934, 1551492, 1304473, 2027400,  610203,  102895,   24557,\n",
       "           5592,    1745,     165]),\n",
       " array([ 517329, 1250132, 1324017, 1994467,  560387,   99534,   18303,\n",
       "           2589,     383,      27]),\n",
       " array([ 657170,  701403,  624205,  734710, 1028240,  209450,  168914,\n",
       "          59189,    9786,    1237]),\n",
       " array([645658, 701282, 652443, 779993, 982512, 208735, 156750,  56804,\n",
       "          9084,   1043]),\n",
       " array([1516200, 1041795, 1207334, 1843430,   84215,   53209,  210660,\n",
       "          71681,     750,      38]),\n",
       " array([1477911, 1069481, 1281995, 1788237,   78078,   56000,  206699,\n",
       "          70117,     766,      28]),\n",
       " array([ 718017, 1575887, 1522415, 2010762,  847043,  127376,   11650,\n",
       "           2079,     463,      52]),\n",
       " array([ 529074,  921606, 1305999, 2306275, 1087060,  117106,   20202,\n",
       "           3658,     437,      39]),\n",
       " array([ 503651, 1387926, 1592245, 2071102,  627941,   87037,   13678,\n",
       "           5491,    1967,     418]),\n",
       " array([ 887110, 1127433,  992779, 1553666, 1766306,  111781,   24002,\n",
       "          60098,   29817,     608]),\n",
       " array([ 238173,  894385, 1113357, 1454940, 2141530,  406065,   38405,\n",
       "           4223,     348,      30]),\n",
       " array([1924302,  786607, 1234478, 1340286,  206245,   10149,    2242,\n",
       "            585,     109,      21]),\n",
       " array([1060313, 1080214, 1198892, 1462192,  391035,   39543,    8421,\n",
       "           1697,     504,      69]),\n",
       " array([992513, 555748, 595553, 481597, 262291,  96446,  81327,   5954,\n",
       "           526,     45]),\n",
       " array([ 335935, 2010461, 2120707, 2284725, 1250026,  315106,   62395,\n",
       "           8658,     565,      30]),\n",
       " array([1079500,  749093,  740115,  994973, 1412945,  245168,   16902,\n",
       "           3767,     377,      40]),\n",
       " array([1115853,  740032,  711216,  942989, 1455295,  248942,   22832,\n",
       "           5102,     568,      51]),\n",
       " array([ 368242,  971062,  817757, 1479751, 1285027,  281845,   35796,\n",
       "           3144,     218,      38]),\n",
       " array([ 630346, 1066167,  859974, 1141167, 1838365,  924444,  238004,\n",
       "         114983,    2117,     177]),\n",
       " array([1733564, 2065023, 1420775,  835958,  182428,   53001,     624,\n",
       "             68,      11,       4]),\n",
       " array([1715178,  452164,  504228,  368495,  221039,  105383,   32833,\n",
       "           7352,    1075,     125]),\n",
       " array([1629141,  435159,  480775,  374446,  255478,  158171,   55334,\n",
       "          16853,    2337,     178]),\n",
       " array([1855577,  611678,  431313,  266846,  149822,   56725,   27324,\n",
       "           6853,    1663,      71]),\n",
       " array([1116402,  713659,  927156,  942806,  173580,   15801,    1583,\n",
       "            187,      22,       4]),\n",
       " array([ 328252, 1010437, 1120490, 2100521, 1387359,  296918,   37294,\n",
       "           8589,    1453,     143]),\n",
       " array([1376841, 1910442, 1662525,  784356,  249364,  178688,   89702,\n",
       "          35885,    3528,     125]),\n",
       " array([ 515435, 1444389, 1363956, 2218561, 1057105,  169181,   40685,\n",
       "           5404,     874,     154]),\n",
       " array([ 511181, 1286838, 1748416, 2286683,  415074,   39023,    3505,\n",
       "            576,     144,      16]),\n",
       " array([ 757270, 1946271, 1847399, 2571715, 1051115,  190042,   21266,\n",
       "           3142,     354,      34]),\n",
       " array([ 586716, 1702973, 1697489, 2543200, 1483213,  306159,   59469,\n",
       "           8162,    1151,      76]),\n",
       " array([ 787412, 1953392, 1795411, 2625565, 1034251,  169298,   20195,\n",
       "           2750,     308,      26]),\n",
       " array([ 470048, 1144923, 1090262, 1704530, 1478304,  353614,   43922,\n",
       "           5506,     312,      35]),\n",
       " array([863639, 474395, 503784, 664225, 408849,  96261,  58263,   2193,\n",
       "           361,     30]),\n",
       " array([ 533237, 1580896, 1987042, 1801673,  311143,   61086,   13869,\n",
       "           2051,     384,      75]),\n",
       " array([ 220555,  980459, 1416800, 2458187, 1022267,  158226,   27979,\n",
       "           5621,    1154,     208]),\n",
       " array([1136884,  860615, 1053198,  656586,  202484,   17107,    3677,\n",
       "            867,     668,      74]),\n",
       " array([ 547166, 1108436, 1334131, 1768782,  404145,   53315,   17836,\n",
       "           7902,    1133,      34]),\n",
       " array([ 632663, 1188270, 1634574, 1504054,  242752,   29373,    6641,\n",
       "           3221,    1127,     205]),\n",
       " array([1080426, 1254913, 1448387, 1954184,  430147,  112532,   10592,\n",
       "            244,      28,       3]),\n",
       " array([3459952, 1252223, 1363721, 1248277,  651526,  300302,  103113,\n",
       "           8577,     816,     101]),\n",
       " array([ 210491, 1189967, 1819076, 1854329, 1015579,  165426,   28737,\n",
       "           6540,    1187,     124]),\n",
       " array([2526276, 1401083,  933000,  418418,  131155,   53530,   27408,\n",
       "          12040,    2057,      57]),\n",
       " array([2565038, 1355526,  928107,  422521,  133288,   55934,   28615,\n",
       "          13230,    2682,      83]),\n",
       " array([ 881904, 1109664,  725606,  625983, 1351736, 1248731,   80222,\n",
       "           5220,     230,      16]),\n",
       " array([ 546163,  642044,  546622,  537581,  920926, 1260465,  231515,\n",
       "          29373,    3845,      58]),\n",
       " array([ 540579,  643555,  565364,  584365, 1025259, 1147366,  187537,\n",
       "          22210,    2337,      20]),\n",
       " array([1395063, 1889181, 2020171, 1718847,  247646,   59005,    9294,\n",
       "            796,      22,       7]),\n",
       " array([1118737, 3577338, 2582471,  848390,  183574,   56817,   17417,\n",
       "           3433,     388,      43]),\n",
       " array([1509718, 4200583, 2185436,  386806,   79567,   21769,    4162,\n",
       "            505,      49,      13]),\n",
       " array([1326100, 1994072, 1859938,  955030,  136090,   13760,    4001,\n",
       "           1868,     517,      80]),\n",
       " array([ 809539, 1097301, 1293142, 1981300,  527575,   51932,    5608,\n",
       "            679,      83,       9]),\n",
       " array([ 543038, 1057693,  892038, 1191784, 2127612,  916474,   76482,\n",
       "           9845,     721,      57]),\n",
       " array([1391077,  670201,  675512,  694763,  496538,  171872,   25536,\n",
       "           2826,     379,      64]),\n",
       " array([ 766808, 1642594, 1563469, 1644062,  574333,   89750,    8601,\n",
       "           1564,     251,      24]),\n",
       " array([ 525996, 1095078, 1301294, 1644010, 1332493,  327586,   55866,\n",
       "           8277,     793,      63]),\n",
       " array([ 362386, 1077315, 1749960, 1961359,  902949,  209137,   25578,\n",
       "           2459,     288,      25]),\n",
       " array([ 272180,  797247, 1267131, 1529043, 1017087,  280977,   69066,\n",
       "           9288,     785,      76]),\n",
       " array([ 435536, 1273637, 1204786, 1924289, 1136423,  248262,   57420,\n",
       "          10139,     933,      31]),\n",
       " array([1400619,  624163,  685144,  597592,  151584,   18782,    3058,\n",
       "            548,      99,      11]),\n",
       " array([1070271,  385198,  358521,  571293,  538339,  122781,   22148,\n",
       "           2995,     419,      35]),\n",
       " array([ 986041, 3056904, 2840396, 1327264,  146105,   24150,    5948,\n",
       "           1283,     455,      62]),\n",
       " array([ 296694, 1581139, 1539946, 1520857,  909705,  333182,   91850,\n",
       "          17092,     970,      21]),\n",
       " array([ 375011, 1209488, 1224905, 1778220, 1326644,  283901,   72596,\n",
       "          17284,    3213,     194]),\n",
       " array([ 691980, 1605203, 1563526, 2149664, 1141122,  163091,   21786,\n",
       "           3084,     524,      52]),\n",
       " array([ 671719, 1601884, 1502333, 1941601, 1340260,  236727,   37305,\n",
       "           7065,    1055,      83]),\n",
       " array([ 726832,  693462,  592579, 1398111, 1299945,   48980,   28777,\n",
       "         126765,   63752,    1533]),\n",
       " array([ 740337,  686754,  562665, 1235478, 1477464,   52961,   22334,\n",
       "         123555,   78363,     825]),\n",
       " array([ 869131, 1746879, 2312501, 1235705,  119285,    6574,     958,\n",
       "            277,     100,      46]),\n",
       " array([ 390886, 1708994, 1812955, 1969510,  753110,  145253,   29479,\n",
       "           5142,     397,      18]),\n",
       " array([ 661043, 1857257, 1731204, 1543602,  408927,   68069,   17163,\n",
       "           3499,     627,      65]),\n",
       " array([ 641316, 1581300, 1755488, 1479922,  258679,   39753,    8706,\n",
       "           1717,     253,      34])]"
      ]
     },
     "execution_count": 29,
     "metadata": {},
     "output_type": "execute_result"
    }
   ],
   "source": [
    "histograms_sagital"
   ]
  },
  {
   "cell_type": "code",
   "execution_count": 39,
   "metadata": {},
   "outputs": [
    {
     "data": {
      "application/vnd.plotly.v1+json": {
       "config": {
        "plotlyServerURL": "https://plot.ly"
       },
       "data": [
        {
         "line": {
          "color": "blue"
         },
         "mode": "lines",
         "name": "Axial",
         "type": "scatter",
         "x": [
          0,
          1,
          2,
          3,
          4,
          5,
          6,
          7,
          8,
          9
         ],
         "y": [
          2297351.9768518517,
          1715448.2962962964,
          1347947.9675925926,
          1195271.7777777778,
          690923.6620370371,
          310122.7824074074,
          57916.18518518518,
          10519.777777777777,
          3448.6481481481483,
          232.92592592592592
         ]
        },
        {
         "line": {
          "color": "red"
         },
         "mode": "lines",
         "name": "Coronal",
         "type": "scatter",
         "x": [
          0,
          1,
          2,
          3,
          4,
          5,
          6,
          7,
          8,
          9
         ],
         "y": [
          2204365.481927711,
          1208119.5662650603,
          789556.2891566266,
          701391.2409638554,
          533494.4457831326,
          144898.2530120482,
          36582.927710843374,
          23190.807228915663,
          7373.204819277108,
          448.12048192771084
         ]
        },
        {
         "line": {
          "color": "green"
         },
         "mode": "lines",
         "name": "Sagital",
         "type": "scatter",
         "x": [
          0,
          1,
          2,
          3,
          4,
          5,
          6,
          7,
          8,
          9
         ],
         "y": [
          1032191.4213197969,
          1298291.7918781727,
          1324095.1472081218,
          1295053.3197969543,
          622931.0964467005,
          182121.538071066,
          50852.51269035533,
          11166.380710659898,
          2489.248730964467,
          121.57360406091371
         ]
        }
       ],
       "layout": {
        "template": {
         "data": {
          "bar": [
           {
            "error_x": {
             "color": "#2a3f5f"
            },
            "error_y": {
             "color": "#2a3f5f"
            },
            "marker": {
             "line": {
              "color": "white",
              "width": 0.5
             },
             "pattern": {
              "fillmode": "overlay",
              "size": 10,
              "solidity": 0.2
             }
            },
            "type": "bar"
           }
          ],
          "barpolar": [
           {
            "marker": {
             "line": {
              "color": "white",
              "width": 0.5
             },
             "pattern": {
              "fillmode": "overlay",
              "size": 10,
              "solidity": 0.2
             }
            },
            "type": "barpolar"
           }
          ],
          "carpet": [
           {
            "aaxis": {
             "endlinecolor": "#2a3f5f",
             "gridcolor": "#C8D4E3",
             "linecolor": "#C8D4E3",
             "minorgridcolor": "#C8D4E3",
             "startlinecolor": "#2a3f5f"
            },
            "baxis": {
             "endlinecolor": "#2a3f5f",
             "gridcolor": "#C8D4E3",
             "linecolor": "#C8D4E3",
             "minorgridcolor": "#C8D4E3",
             "startlinecolor": "#2a3f5f"
            },
            "type": "carpet"
           }
          ],
          "choropleth": [
           {
            "colorbar": {
             "outlinewidth": 0,
             "ticks": ""
            },
            "type": "choropleth"
           }
          ],
          "contour": [
           {
            "colorbar": {
             "outlinewidth": 0,
             "ticks": ""
            },
            "colorscale": [
             [
              0,
              "#0d0887"
             ],
             [
              0.1111111111111111,
              "#46039f"
             ],
             [
              0.2222222222222222,
              "#7201a8"
             ],
             [
              0.3333333333333333,
              "#9c179e"
             ],
             [
              0.4444444444444444,
              "#bd3786"
             ],
             [
              0.5555555555555556,
              "#d8576b"
             ],
             [
              0.6666666666666666,
              "#ed7953"
             ],
             [
              0.7777777777777778,
              "#fb9f3a"
             ],
             [
              0.8888888888888888,
              "#fdca26"
             ],
             [
              1,
              "#f0f921"
             ]
            ],
            "type": "contour"
           }
          ],
          "contourcarpet": [
           {
            "colorbar": {
             "outlinewidth": 0,
             "ticks": ""
            },
            "type": "contourcarpet"
           }
          ],
          "heatmap": [
           {
            "colorbar": {
             "outlinewidth": 0,
             "ticks": ""
            },
            "colorscale": [
             [
              0,
              "#0d0887"
             ],
             [
              0.1111111111111111,
              "#46039f"
             ],
             [
              0.2222222222222222,
              "#7201a8"
             ],
             [
              0.3333333333333333,
              "#9c179e"
             ],
             [
              0.4444444444444444,
              "#bd3786"
             ],
             [
              0.5555555555555556,
              "#d8576b"
             ],
             [
              0.6666666666666666,
              "#ed7953"
             ],
             [
              0.7777777777777778,
              "#fb9f3a"
             ],
             [
              0.8888888888888888,
              "#fdca26"
             ],
             [
              1,
              "#f0f921"
             ]
            ],
            "type": "heatmap"
           }
          ],
          "heatmapgl": [
           {
            "colorbar": {
             "outlinewidth": 0,
             "ticks": ""
            },
            "colorscale": [
             [
              0,
              "#0d0887"
             ],
             [
              0.1111111111111111,
              "#46039f"
             ],
             [
              0.2222222222222222,
              "#7201a8"
             ],
             [
              0.3333333333333333,
              "#9c179e"
             ],
             [
              0.4444444444444444,
              "#bd3786"
             ],
             [
              0.5555555555555556,
              "#d8576b"
             ],
             [
              0.6666666666666666,
              "#ed7953"
             ],
             [
              0.7777777777777778,
              "#fb9f3a"
             ],
             [
              0.8888888888888888,
              "#fdca26"
             ],
             [
              1,
              "#f0f921"
             ]
            ],
            "type": "heatmapgl"
           }
          ],
          "histogram": [
           {
            "marker": {
             "pattern": {
              "fillmode": "overlay",
              "size": 10,
              "solidity": 0.2
             }
            },
            "type": "histogram"
           }
          ],
          "histogram2d": [
           {
            "colorbar": {
             "outlinewidth": 0,
             "ticks": ""
            },
            "colorscale": [
             [
              0,
              "#0d0887"
             ],
             [
              0.1111111111111111,
              "#46039f"
             ],
             [
              0.2222222222222222,
              "#7201a8"
             ],
             [
              0.3333333333333333,
              "#9c179e"
             ],
             [
              0.4444444444444444,
              "#bd3786"
             ],
             [
              0.5555555555555556,
              "#d8576b"
             ],
             [
              0.6666666666666666,
              "#ed7953"
             ],
             [
              0.7777777777777778,
              "#fb9f3a"
             ],
             [
              0.8888888888888888,
              "#fdca26"
             ],
             [
              1,
              "#f0f921"
             ]
            ],
            "type": "histogram2d"
           }
          ],
          "histogram2dcontour": [
           {
            "colorbar": {
             "outlinewidth": 0,
             "ticks": ""
            },
            "colorscale": [
             [
              0,
              "#0d0887"
             ],
             [
              0.1111111111111111,
              "#46039f"
             ],
             [
              0.2222222222222222,
              "#7201a8"
             ],
             [
              0.3333333333333333,
              "#9c179e"
             ],
             [
              0.4444444444444444,
              "#bd3786"
             ],
             [
              0.5555555555555556,
              "#d8576b"
             ],
             [
              0.6666666666666666,
              "#ed7953"
             ],
             [
              0.7777777777777778,
              "#fb9f3a"
             ],
             [
              0.8888888888888888,
              "#fdca26"
             ],
             [
              1,
              "#f0f921"
             ]
            ],
            "type": "histogram2dcontour"
           }
          ],
          "mesh3d": [
           {
            "colorbar": {
             "outlinewidth": 0,
             "ticks": ""
            },
            "type": "mesh3d"
           }
          ],
          "parcoords": [
           {
            "line": {
             "colorbar": {
              "outlinewidth": 0,
              "ticks": ""
             }
            },
            "type": "parcoords"
           }
          ],
          "pie": [
           {
            "automargin": true,
            "type": "pie"
           }
          ],
          "scatter": [
           {
            "fillpattern": {
             "fillmode": "overlay",
             "size": 10,
             "solidity": 0.2
            },
            "type": "scatter"
           }
          ],
          "scatter3d": [
           {
            "line": {
             "colorbar": {
              "outlinewidth": 0,
              "ticks": ""
             }
            },
            "marker": {
             "colorbar": {
              "outlinewidth": 0,
              "ticks": ""
             }
            },
            "type": "scatter3d"
           }
          ],
          "scattercarpet": [
           {
            "marker": {
             "colorbar": {
              "outlinewidth": 0,
              "ticks": ""
             }
            },
            "type": "scattercarpet"
           }
          ],
          "scattergeo": [
           {
            "marker": {
             "colorbar": {
              "outlinewidth": 0,
              "ticks": ""
             }
            },
            "type": "scattergeo"
           }
          ],
          "scattergl": [
           {
            "marker": {
             "colorbar": {
              "outlinewidth": 0,
              "ticks": ""
             }
            },
            "type": "scattergl"
           }
          ],
          "scattermapbox": [
           {
            "marker": {
             "colorbar": {
              "outlinewidth": 0,
              "ticks": ""
             }
            },
            "type": "scattermapbox"
           }
          ],
          "scatterpolar": [
           {
            "marker": {
             "colorbar": {
              "outlinewidth": 0,
              "ticks": ""
             }
            },
            "type": "scatterpolar"
           }
          ],
          "scatterpolargl": [
           {
            "marker": {
             "colorbar": {
              "outlinewidth": 0,
              "ticks": ""
             }
            },
            "type": "scatterpolargl"
           }
          ],
          "scatterternary": [
           {
            "marker": {
             "colorbar": {
              "outlinewidth": 0,
              "ticks": ""
             }
            },
            "type": "scatterternary"
           }
          ],
          "surface": [
           {
            "colorbar": {
             "outlinewidth": 0,
             "ticks": ""
            },
            "colorscale": [
             [
              0,
              "#0d0887"
             ],
             [
              0.1111111111111111,
              "#46039f"
             ],
             [
              0.2222222222222222,
              "#7201a8"
             ],
             [
              0.3333333333333333,
              "#9c179e"
             ],
             [
              0.4444444444444444,
              "#bd3786"
             ],
             [
              0.5555555555555556,
              "#d8576b"
             ],
             [
              0.6666666666666666,
              "#ed7953"
             ],
             [
              0.7777777777777778,
              "#fb9f3a"
             ],
             [
              0.8888888888888888,
              "#fdca26"
             ],
             [
              1,
              "#f0f921"
             ]
            ],
            "type": "surface"
           }
          ],
          "table": [
           {
            "cells": {
             "fill": {
              "color": "#EBF0F8"
             },
             "line": {
              "color": "white"
             }
            },
            "header": {
             "fill": {
              "color": "#C8D4E3"
             },
             "line": {
              "color": "white"
             }
            },
            "type": "table"
           }
          ]
         },
         "layout": {
          "annotationdefaults": {
           "arrowcolor": "#2a3f5f",
           "arrowhead": 0,
           "arrowwidth": 1
          },
          "autotypenumbers": "strict",
          "coloraxis": {
           "colorbar": {
            "outlinewidth": 0,
            "ticks": ""
           }
          },
          "colorscale": {
           "diverging": [
            [
             0,
             "#8e0152"
            ],
            [
             0.1,
             "#c51b7d"
            ],
            [
             0.2,
             "#de77ae"
            ],
            [
             0.3,
             "#f1b6da"
            ],
            [
             0.4,
             "#fde0ef"
            ],
            [
             0.5,
             "#f7f7f7"
            ],
            [
             0.6,
             "#e6f5d0"
            ],
            [
             0.7,
             "#b8e186"
            ],
            [
             0.8,
             "#7fbc41"
            ],
            [
             0.9,
             "#4d9221"
            ],
            [
             1,
             "#276419"
            ]
           ],
           "sequential": [
            [
             0,
             "#0d0887"
            ],
            [
             0.1111111111111111,
             "#46039f"
            ],
            [
             0.2222222222222222,
             "#7201a8"
            ],
            [
             0.3333333333333333,
             "#9c179e"
            ],
            [
             0.4444444444444444,
             "#bd3786"
            ],
            [
             0.5555555555555556,
             "#d8576b"
            ],
            [
             0.6666666666666666,
             "#ed7953"
            ],
            [
             0.7777777777777778,
             "#fb9f3a"
            ],
            [
             0.8888888888888888,
             "#fdca26"
            ],
            [
             1,
             "#f0f921"
            ]
           ],
           "sequentialminus": [
            [
             0,
             "#0d0887"
            ],
            [
             0.1111111111111111,
             "#46039f"
            ],
            [
             0.2222222222222222,
             "#7201a8"
            ],
            [
             0.3333333333333333,
             "#9c179e"
            ],
            [
             0.4444444444444444,
             "#bd3786"
            ],
            [
             0.5555555555555556,
             "#d8576b"
            ],
            [
             0.6666666666666666,
             "#ed7953"
            ],
            [
             0.7777777777777778,
             "#fb9f3a"
            ],
            [
             0.8888888888888888,
             "#fdca26"
            ],
            [
             1,
             "#f0f921"
            ]
           ]
          },
          "colorway": [
           "#636efa",
           "#EF553B",
           "#00cc96",
           "#ab63fa",
           "#FFA15A",
           "#19d3f3",
           "#FF6692",
           "#B6E880",
           "#FF97FF",
           "#FECB52"
          ],
          "font": {
           "color": "#2a3f5f"
          },
          "geo": {
           "bgcolor": "white",
           "lakecolor": "white",
           "landcolor": "white",
           "showlakes": true,
           "showland": true,
           "subunitcolor": "#C8D4E3"
          },
          "hoverlabel": {
           "align": "left"
          },
          "hovermode": "closest",
          "mapbox": {
           "style": "light"
          },
          "paper_bgcolor": "white",
          "plot_bgcolor": "white",
          "polar": {
           "angularaxis": {
            "gridcolor": "#EBF0F8",
            "linecolor": "#EBF0F8",
            "ticks": ""
           },
           "bgcolor": "white",
           "radialaxis": {
            "gridcolor": "#EBF0F8",
            "linecolor": "#EBF0F8",
            "ticks": ""
           }
          },
          "scene": {
           "xaxis": {
            "backgroundcolor": "white",
            "gridcolor": "#DFE8F3",
            "gridwidth": 2,
            "linecolor": "#EBF0F8",
            "showbackground": true,
            "ticks": "",
            "zerolinecolor": "#EBF0F8"
           },
           "yaxis": {
            "backgroundcolor": "white",
            "gridcolor": "#DFE8F3",
            "gridwidth": 2,
            "linecolor": "#EBF0F8",
            "showbackground": true,
            "ticks": "",
            "zerolinecolor": "#EBF0F8"
           },
           "zaxis": {
            "backgroundcolor": "white",
            "gridcolor": "#DFE8F3",
            "gridwidth": 2,
            "linecolor": "#EBF0F8",
            "showbackground": true,
            "ticks": "",
            "zerolinecolor": "#EBF0F8"
           }
          },
          "shapedefaults": {
           "line": {
            "color": "#2a3f5f"
           }
          },
          "ternary": {
           "aaxis": {
            "gridcolor": "#DFE8F3",
            "linecolor": "#A2B1C6",
            "ticks": ""
           },
           "baxis": {
            "gridcolor": "#DFE8F3",
            "linecolor": "#A2B1C6",
            "ticks": ""
           },
           "bgcolor": "white",
           "caxis": {
            "gridcolor": "#DFE8F3",
            "linecolor": "#A2B1C6",
            "ticks": ""
           }
          },
          "title": {
           "x": 0.05
          },
          "xaxis": {
           "automargin": true,
           "gridcolor": "#EBF0F8",
           "linecolor": "#EBF0F8",
           "ticks": "",
           "title": {
            "standoff": 15
           },
           "zerolinecolor": "#EBF0F8",
           "zerolinewidth": 2
          },
          "yaxis": {
           "automargin": true,
           "gridcolor": "#EBF0F8",
           "linecolor": "#EBF0F8",
           "ticks": "",
           "title": {
            "standoff": 15
           },
           "zerolinecolor": "#EBF0F8",
           "zerolinewidth": 2
          }
         }
        },
        "title": {
         "text": "Average Intensity Histograms by Orientation"
        },
        "xaxis": {
         "title": {
          "text": "Intensity Value"
         }
        },
        "yaxis": {
         "title": {
          "text": "Frequency"
         }
        }
       }
      },
      "text/html": [
       "<div>                            <div id=\"736b77c2-4de5-4eae-82fb-8ea428e24603\" class=\"plotly-graph-div\" style=\"height:525px; width:100%;\"></div>            <script type=\"text/javascript\">                require([\"plotly\"], function(Plotly) {                    window.PLOTLYENV=window.PLOTLYENV || {};                                    if (document.getElementById(\"736b77c2-4de5-4eae-82fb-8ea428e24603\")) {                    Plotly.newPlot(                        \"736b77c2-4de5-4eae-82fb-8ea428e24603\",                        [{\"line\":{\"color\":\"blue\"},\"mode\":\"lines\",\"name\":\"Axial\",\"x\":[0,1,2,3,4,5,6,7,8,9],\"y\":[2297351.9768518517,1715448.2962962964,1347947.9675925926,1195271.7777777778,690923.6620370371,310122.7824074074,57916.18518518518,10519.777777777777,3448.6481481481483,232.92592592592592],\"type\":\"scatter\"},{\"line\":{\"color\":\"red\"},\"mode\":\"lines\",\"name\":\"Coronal\",\"x\":[0,1,2,3,4,5,6,7,8,9],\"y\":[2204365.481927711,1208119.5662650603,789556.2891566266,701391.2409638554,533494.4457831326,144898.2530120482,36582.927710843374,23190.807228915663,7373.204819277108,448.12048192771084],\"type\":\"scatter\"},{\"line\":{\"color\":\"green\"},\"mode\":\"lines\",\"name\":\"Sagital\",\"x\":[0,1,2,3,4,5,6,7,8,9],\"y\":[1032191.4213197969,1298291.7918781727,1324095.1472081218,1295053.3197969543,622931.0964467005,182121.538071066,50852.51269035533,11166.380710659898,2489.248730964467,121.57360406091371],\"type\":\"scatter\"}],                        {\"template\":{\"data\":{\"barpolar\":[{\"marker\":{\"line\":{\"color\":\"white\",\"width\":0.5},\"pattern\":{\"fillmode\":\"overlay\",\"size\":10,\"solidity\":0.2}},\"type\":\"barpolar\"}],\"bar\":[{\"error_x\":{\"color\":\"#2a3f5f\"},\"error_y\":{\"color\":\"#2a3f5f\"},\"marker\":{\"line\":{\"color\":\"white\",\"width\":0.5},\"pattern\":{\"fillmode\":\"overlay\",\"size\":10,\"solidity\":0.2}},\"type\":\"bar\"}],\"carpet\":[{\"aaxis\":{\"endlinecolor\":\"#2a3f5f\",\"gridcolor\":\"#C8D4E3\",\"linecolor\":\"#C8D4E3\",\"minorgridcolor\":\"#C8D4E3\",\"startlinecolor\":\"#2a3f5f\"},\"baxis\":{\"endlinecolor\":\"#2a3f5f\",\"gridcolor\":\"#C8D4E3\",\"linecolor\":\"#C8D4E3\",\"minorgridcolor\":\"#C8D4E3\",\"startlinecolor\":\"#2a3f5f\"},\"type\":\"carpet\"}],\"choropleth\":[{\"colorbar\":{\"outlinewidth\":0,\"ticks\":\"\"},\"type\":\"choropleth\"}],\"contourcarpet\":[{\"colorbar\":{\"outlinewidth\":0,\"ticks\":\"\"},\"type\":\"contourcarpet\"}],\"contour\":[{\"colorbar\":{\"outlinewidth\":0,\"ticks\":\"\"},\"colorscale\":[[0.0,\"#0d0887\"],[0.1111111111111111,\"#46039f\"],[0.2222222222222222,\"#7201a8\"],[0.3333333333333333,\"#9c179e\"],[0.4444444444444444,\"#bd3786\"],[0.5555555555555556,\"#d8576b\"],[0.6666666666666666,\"#ed7953\"],[0.7777777777777778,\"#fb9f3a\"],[0.8888888888888888,\"#fdca26\"],[1.0,\"#f0f921\"]],\"type\":\"contour\"}],\"heatmapgl\":[{\"colorbar\":{\"outlinewidth\":0,\"ticks\":\"\"},\"colorscale\":[[0.0,\"#0d0887\"],[0.1111111111111111,\"#46039f\"],[0.2222222222222222,\"#7201a8\"],[0.3333333333333333,\"#9c179e\"],[0.4444444444444444,\"#bd3786\"],[0.5555555555555556,\"#d8576b\"],[0.6666666666666666,\"#ed7953\"],[0.7777777777777778,\"#fb9f3a\"],[0.8888888888888888,\"#fdca26\"],[1.0,\"#f0f921\"]],\"type\":\"heatmapgl\"}],\"heatmap\":[{\"colorbar\":{\"outlinewidth\":0,\"ticks\":\"\"},\"colorscale\":[[0.0,\"#0d0887\"],[0.1111111111111111,\"#46039f\"],[0.2222222222222222,\"#7201a8\"],[0.3333333333333333,\"#9c179e\"],[0.4444444444444444,\"#bd3786\"],[0.5555555555555556,\"#d8576b\"],[0.6666666666666666,\"#ed7953\"],[0.7777777777777778,\"#fb9f3a\"],[0.8888888888888888,\"#fdca26\"],[1.0,\"#f0f921\"]],\"type\":\"heatmap\"}],\"histogram2dcontour\":[{\"colorbar\":{\"outlinewidth\":0,\"ticks\":\"\"},\"colorscale\":[[0.0,\"#0d0887\"],[0.1111111111111111,\"#46039f\"],[0.2222222222222222,\"#7201a8\"],[0.3333333333333333,\"#9c179e\"],[0.4444444444444444,\"#bd3786\"],[0.5555555555555556,\"#d8576b\"],[0.6666666666666666,\"#ed7953\"],[0.7777777777777778,\"#fb9f3a\"],[0.8888888888888888,\"#fdca26\"],[1.0,\"#f0f921\"]],\"type\":\"histogram2dcontour\"}],\"histogram2d\":[{\"colorbar\":{\"outlinewidth\":0,\"ticks\":\"\"},\"colorscale\":[[0.0,\"#0d0887\"],[0.1111111111111111,\"#46039f\"],[0.2222222222222222,\"#7201a8\"],[0.3333333333333333,\"#9c179e\"],[0.4444444444444444,\"#bd3786\"],[0.5555555555555556,\"#d8576b\"],[0.6666666666666666,\"#ed7953\"],[0.7777777777777778,\"#fb9f3a\"],[0.8888888888888888,\"#fdca26\"],[1.0,\"#f0f921\"]],\"type\":\"histogram2d\"}],\"histogram\":[{\"marker\":{\"pattern\":{\"fillmode\":\"overlay\",\"size\":10,\"solidity\":0.2}},\"type\":\"histogram\"}],\"mesh3d\":[{\"colorbar\":{\"outlinewidth\":0,\"ticks\":\"\"},\"type\":\"mesh3d\"}],\"parcoords\":[{\"line\":{\"colorbar\":{\"outlinewidth\":0,\"ticks\":\"\"}},\"type\":\"parcoords\"}],\"pie\":[{\"automargin\":true,\"type\":\"pie\"}],\"scatter3d\":[{\"line\":{\"colorbar\":{\"outlinewidth\":0,\"ticks\":\"\"}},\"marker\":{\"colorbar\":{\"outlinewidth\":0,\"ticks\":\"\"}},\"type\":\"scatter3d\"}],\"scattercarpet\":[{\"marker\":{\"colorbar\":{\"outlinewidth\":0,\"ticks\":\"\"}},\"type\":\"scattercarpet\"}],\"scattergeo\":[{\"marker\":{\"colorbar\":{\"outlinewidth\":0,\"ticks\":\"\"}},\"type\":\"scattergeo\"}],\"scattergl\":[{\"marker\":{\"colorbar\":{\"outlinewidth\":0,\"ticks\":\"\"}},\"type\":\"scattergl\"}],\"scattermapbox\":[{\"marker\":{\"colorbar\":{\"outlinewidth\":0,\"ticks\":\"\"}},\"type\":\"scattermapbox\"}],\"scatterpolargl\":[{\"marker\":{\"colorbar\":{\"outlinewidth\":0,\"ticks\":\"\"}},\"type\":\"scatterpolargl\"}],\"scatterpolar\":[{\"marker\":{\"colorbar\":{\"outlinewidth\":0,\"ticks\":\"\"}},\"type\":\"scatterpolar\"}],\"scatter\":[{\"fillpattern\":{\"fillmode\":\"overlay\",\"size\":10,\"solidity\":0.2},\"type\":\"scatter\"}],\"scatterternary\":[{\"marker\":{\"colorbar\":{\"outlinewidth\":0,\"ticks\":\"\"}},\"type\":\"scatterternary\"}],\"surface\":[{\"colorbar\":{\"outlinewidth\":0,\"ticks\":\"\"},\"colorscale\":[[0.0,\"#0d0887\"],[0.1111111111111111,\"#46039f\"],[0.2222222222222222,\"#7201a8\"],[0.3333333333333333,\"#9c179e\"],[0.4444444444444444,\"#bd3786\"],[0.5555555555555556,\"#d8576b\"],[0.6666666666666666,\"#ed7953\"],[0.7777777777777778,\"#fb9f3a\"],[0.8888888888888888,\"#fdca26\"],[1.0,\"#f0f921\"]],\"type\":\"surface\"}],\"table\":[{\"cells\":{\"fill\":{\"color\":\"#EBF0F8\"},\"line\":{\"color\":\"white\"}},\"header\":{\"fill\":{\"color\":\"#C8D4E3\"},\"line\":{\"color\":\"white\"}},\"type\":\"table\"}]},\"layout\":{\"annotationdefaults\":{\"arrowcolor\":\"#2a3f5f\",\"arrowhead\":0,\"arrowwidth\":1},\"autotypenumbers\":\"strict\",\"coloraxis\":{\"colorbar\":{\"outlinewidth\":0,\"ticks\":\"\"}},\"colorscale\":{\"diverging\":[[0,\"#8e0152\"],[0.1,\"#c51b7d\"],[0.2,\"#de77ae\"],[0.3,\"#f1b6da\"],[0.4,\"#fde0ef\"],[0.5,\"#f7f7f7\"],[0.6,\"#e6f5d0\"],[0.7,\"#b8e186\"],[0.8,\"#7fbc41\"],[0.9,\"#4d9221\"],[1,\"#276419\"]],\"sequential\":[[0.0,\"#0d0887\"],[0.1111111111111111,\"#46039f\"],[0.2222222222222222,\"#7201a8\"],[0.3333333333333333,\"#9c179e\"],[0.4444444444444444,\"#bd3786\"],[0.5555555555555556,\"#d8576b\"],[0.6666666666666666,\"#ed7953\"],[0.7777777777777778,\"#fb9f3a\"],[0.8888888888888888,\"#fdca26\"],[1.0,\"#f0f921\"]],\"sequentialminus\":[[0.0,\"#0d0887\"],[0.1111111111111111,\"#46039f\"],[0.2222222222222222,\"#7201a8\"],[0.3333333333333333,\"#9c179e\"],[0.4444444444444444,\"#bd3786\"],[0.5555555555555556,\"#d8576b\"],[0.6666666666666666,\"#ed7953\"],[0.7777777777777778,\"#fb9f3a\"],[0.8888888888888888,\"#fdca26\"],[1.0,\"#f0f921\"]]},\"colorway\":[\"#636efa\",\"#EF553B\",\"#00cc96\",\"#ab63fa\",\"#FFA15A\",\"#19d3f3\",\"#FF6692\",\"#B6E880\",\"#FF97FF\",\"#FECB52\"],\"font\":{\"color\":\"#2a3f5f\"},\"geo\":{\"bgcolor\":\"white\",\"lakecolor\":\"white\",\"landcolor\":\"white\",\"showlakes\":true,\"showland\":true,\"subunitcolor\":\"#C8D4E3\"},\"hoverlabel\":{\"align\":\"left\"},\"hovermode\":\"closest\",\"mapbox\":{\"style\":\"light\"},\"paper_bgcolor\":\"white\",\"plot_bgcolor\":\"white\",\"polar\":{\"angularaxis\":{\"gridcolor\":\"#EBF0F8\",\"linecolor\":\"#EBF0F8\",\"ticks\":\"\"},\"bgcolor\":\"white\",\"radialaxis\":{\"gridcolor\":\"#EBF0F8\",\"linecolor\":\"#EBF0F8\",\"ticks\":\"\"}},\"scene\":{\"xaxis\":{\"backgroundcolor\":\"white\",\"gridcolor\":\"#DFE8F3\",\"gridwidth\":2,\"linecolor\":\"#EBF0F8\",\"showbackground\":true,\"ticks\":\"\",\"zerolinecolor\":\"#EBF0F8\"},\"yaxis\":{\"backgroundcolor\":\"white\",\"gridcolor\":\"#DFE8F3\",\"gridwidth\":2,\"linecolor\":\"#EBF0F8\",\"showbackground\":true,\"ticks\":\"\",\"zerolinecolor\":\"#EBF0F8\"},\"zaxis\":{\"backgroundcolor\":\"white\",\"gridcolor\":\"#DFE8F3\",\"gridwidth\":2,\"linecolor\":\"#EBF0F8\",\"showbackground\":true,\"ticks\":\"\",\"zerolinecolor\":\"#EBF0F8\"}},\"shapedefaults\":{\"line\":{\"color\":\"#2a3f5f\"}},\"ternary\":{\"aaxis\":{\"gridcolor\":\"#DFE8F3\",\"linecolor\":\"#A2B1C6\",\"ticks\":\"\"},\"baxis\":{\"gridcolor\":\"#DFE8F3\",\"linecolor\":\"#A2B1C6\",\"ticks\":\"\"},\"bgcolor\":\"white\",\"caxis\":{\"gridcolor\":\"#DFE8F3\",\"linecolor\":\"#A2B1C6\",\"ticks\":\"\"}},\"title\":{\"x\":0.05},\"xaxis\":{\"automargin\":true,\"gridcolor\":\"#EBF0F8\",\"linecolor\":\"#EBF0F8\",\"ticks\":\"\",\"title\":{\"standoff\":15},\"zerolinecolor\":\"#EBF0F8\",\"zerolinewidth\":2},\"yaxis\":{\"automargin\":true,\"gridcolor\":\"#EBF0F8\",\"linecolor\":\"#EBF0F8\",\"ticks\":\"\",\"title\":{\"standoff\":15},\"zerolinecolor\":\"#EBF0F8\",\"zerolinewidth\":2}}},\"title\":{\"text\":\"Average Intensity Histograms by Orientation\"},\"xaxis\":{\"title\":{\"text\":\"Intensity Value\"}},\"yaxis\":{\"title\":{\"text\":\"Frequency\"}}},                        {\"responsive\": true}                    ).then(function(){\n",
       "                            \n",
       "var gd = document.getElementById('736b77c2-4de5-4eae-82fb-8ea428e24603');\n",
       "var x = new MutationObserver(function (mutations, observer) {{\n",
       "        var display = window.getComputedStyle(gd).display;\n",
       "        if (!display || display === 'none') {{\n",
       "            console.log([gd, 'removed!']);\n",
       "            Plotly.purge(gd);\n",
       "            observer.disconnect();\n",
       "        }}\n",
       "}});\n",
       "\n",
       "// Listen for the removal of the full notebook cells\n",
       "var notebookContainer = gd.closest('#notebook-container');\n",
       "if (notebookContainer) {{\n",
       "    x.observe(notebookContainer, {childList: true});\n",
       "}}\n",
       "\n",
       "// Listen for the clearing of the current output cell\n",
       "var outputEl = gd.closest('.output');\n",
       "if (outputEl) {{\n",
       "    x.observe(outputEl, {childList: true});\n",
       "}}\n",
       "\n",
       "                        })                };                });            </script>        </div>"
      ]
     },
     "metadata": {},
     "output_type": "display_data"
    }
   ],
   "source": [
    "def plot_average_histograms_plotly(avg_histogram_axial, avg_histogram_coronal, avg_histogram_sagital, bins=10):\n",
    "    # Create x values for histogram bins (midpoints of bins)\n",
    "    x_values = list(range(bins))\n",
    "    \n",
    "    # Create traces for each orientation\n",
    "    trace_axial = go.Scatter(x=x_values, y=avg_histogram_axial, mode='lines', name='Axial', line=dict(color='blue'))\n",
    "    trace_coronal = go.Scatter(x=x_values, y=avg_histogram_coronal, mode='lines', name='Coronal', line=dict(color='red'))\n",
    "    trace_sagital = go.Scatter(x=x_values, y=avg_histogram_sagital, mode='lines', name='Sagital', line=dict(color='green'))\n",
    "    \n",
    "    # Combine traces in a list\n",
    "    data = [trace_axial, trace_coronal, trace_sagital]\n",
    "    \n",
    "    # Define layout\n",
    "    layout = go.Layout(\n",
    "        title='Average Intensity Histograms by Orientation',\n",
    "        xaxis=dict(title='Intensity Value'),\n",
    "        yaxis=dict(title='Frequency'),\n",
    "        template='plotly_white'\n",
    "    )\n",
    "    \n",
    "    # Create figure and add traces\n",
    "    fig = go.Figure(data=data, layout=layout)\n",
    "    \n",
    "    # Show plot\n",
    "    fig.show()\n",
    "\n",
    "# Example usage of the function\n",
    "plot_average_histograms_plotly(avg_histogram_axial, avg_histogram_coronal, avg_histogram_sagital)"
   ]
  },
  {
   "cell_type": "code",
   "execution_count": 37,
   "metadata": {},
   "outputs": [],
   "source": [
    "x_values = list(range(10))"
   ]
  },
  {
   "cell_type": "code",
   "execution_count": 38,
   "metadata": {},
   "outputs": [
    {
     "data": {
      "text/plain": [
       "[0, 1, 2, 3, 4, 5, 6, 7, 8, 9]"
      ]
     },
     "execution_count": 38,
     "metadata": {},
     "output_type": "execute_result"
    }
   ],
   "source": [
    "x_values"
   ]
  },
  {
   "cell_type": "code",
   "execution_count": 28,
   "metadata": {},
   "outputs": [
    {
     "data": {
      "text/plain": [
       "array([2.29735198e+06, 1.71544830e+06, 1.34794797e+06, 1.19527178e+06,\n",
       "       6.90923662e+05, 3.10122782e+05, 5.79161852e+04, 1.05197778e+04,\n",
       "       3.44864815e+03, 2.32925926e+02])"
      ]
     },
     "execution_count": 28,
     "metadata": {},
     "output_type": "execute_result"
    }
   ],
   "source": [
    "avg_histogram_axial"
   ]
  },
  {
   "cell_type": "markdown",
   "metadata": {},
   "source": [
    "# Clinical Variables"
   ]
  },
  {
   "cell_type": "markdown",
   "metadata": {},
   "source": [
    "# Labels"
   ]
  }
 ],
 "metadata": {
  "kernelspec": {
   "display_name": "Python 3 (ipykernel)",
   "language": "python",
   "name": "python3"
  },
  "language_info": {
   "codemirror_mode": {
    "name": "ipython",
    "version": 3
   },
   "file_extension": ".py",
   "mimetype": "text/x-python",
   "name": "python",
   "nbconvert_exporter": "python",
   "pygments_lexer": "ipython3",
   "version": "3.10.13"
  }
 },
 "nbformat": 4,
 "nbformat_minor": 2
}
