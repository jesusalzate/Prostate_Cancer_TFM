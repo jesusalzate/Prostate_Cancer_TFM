{
 "cells": [
  {
   "cell_type": "code",
   "execution_count": 27,
   "metadata": {},
   "outputs": [],
   "source": [
    "import pandas as pd\n",
    "import numpy as np\n",
    "import os\n",
    "import sys\n",
    "import monai\n",
    "\n",
    "from Prostate_Cancer_TFM.Data_Analysis.utils import (\n",
    "    plot_histogram,\n",
    "    plot_histogram_plotly,\n",
    ")\n",
    "\n",
    "%matplotlib inline"
   ]
  },
  {
   "cell_type": "code",
   "execution_count": 40,
   "metadata": {},
   "outputs": [],
   "source": [
    "MET_PALETTES = dict(\n",
    "    Archambault=dict(\n",
    "        colors=(\n",
    "            \"#88a0dc\",\n",
    "            \"#381a61\",\n",
    "            \"#7c4b73\",\n",
    "            \"#ed968c\",\n",
    "            \"#ab3329\",\n",
    "            \"#e78429\",\n",
    "            \"#f9d14a\",\n",
    "        ),\n",
    "        order=(2, 7, 5, 1, 6, 4, 3),\n",
    "        colorblind=True,\n",
    "    ),\n",
    "    Austria=dict(\n",
    "        colors=(\n",
    "            \"#a40000\",\n",
    "            \"#16317d\",\n",
    "            \"#007e2f\",\n",
    "            \"#ffcd12\",\n",
    "            \"#b86092\",\n",
    "            \"#721b3e\",\n",
    "            \"#00b7a7\",\n",
    "        ),\n",
    "        order=(1, 2, 3, 4, 6, 5, 7),\n",
    "        colorblind=False,\n",
    "    ),\n",
    "    Benedictus=dict(\n",
    "        colors=(\n",
    "            \"#9a133d\",\n",
    "            \"#b93961\",\n",
    "            \"#d8527c\",\n",
    "            \"#f28aaa\",\n",
    "            \"#f9b4c9\",\n",
    "            \"#f9e0e8\",\n",
    "            \"#ffffff\",\n",
    "            \"#eaf3ff\",\n",
    "            \"#c5daf6\",\n",
    "            \"#a1c2ed\",\n",
    "            \"#6996e3\",\n",
    "            \"#4060c8\",\n",
    "            \"#1a318b\",\n",
    "        ),\n",
    "        order=(9, 5, 11, 1, 7, 3, 13, 4, 8, 2, 12, 6, 10),\n",
    "        colorblind=False,\n",
    "    ),\n",
    "    Cassatt1=dict(\n",
    "        colors=(\n",
    "            \"#b1615c\",\n",
    "            \"#d88782\",\n",
    "            \"#e3aba7\",\n",
    "            \"#edd7d9\",\n",
    "            \"#c9c9dd\",\n",
    "            \"#9d9dc7\",\n",
    "            \"#8282aa\",\n",
    "            \"#5a5a83\",\n",
    "        ),\n",
    "        order=(3, 6, 1, 8, 4, 5, 2, 7),\n",
    "        colorblind=True,\n",
    "    ),\n",
    "    Cassatt2=dict(\n",
    "        colors=(\n",
    "            \"#2d223c\",\n",
    "            \"#574571\",\n",
    "            \"#90719f\",\n",
    "            \"#b695bc\",\n",
    "            \"#dec5da\",\n",
    "            \"#c1d1aa\",\n",
    "            \"#7fa074\",\n",
    "            \"#466c4b\",\n",
    "            \"#2c4b27\",\n",
    "            \"#0e2810\",\n",
    "        ),\n",
    "        order=(7, 3, 9, 1, 5, 6, 2, 10, 4, 8),\n",
    "        colorblind=True,\n",
    "    ),\n",
    "    Cross=dict(\n",
    "        colors=(\n",
    "            \"#c969a1\",\n",
    "            \"#ce4441\",\n",
    "            \"#ee8577\",\n",
    "            \"#eb7926\",\n",
    "            \"#ffbb44\",\n",
    "            \"#859b6c\",\n",
    "            \"#62929a\",\n",
    "            \"#004f63\",\n",
    "            \"#122451\",\n",
    "        ),\n",
    "        order=(4, 7, 1, 8, 2, 6, 3, 5, 9),\n",
    "        colorblind=False,\n",
    "    ),\n",
    "    Degas=dict(\n",
    "        colors=(\n",
    "            \"#591d06\",\n",
    "            \"#96410e\",\n",
    "            \"#e5a335\",\n",
    "            \"#556219\",\n",
    "            \"#418979\",\n",
    "            \"#2b614e\",\n",
    "            \"#053c29\",\n",
    "        ),\n",
    "        order=(5, 2, 1, 3, 4, 7, 6),\n",
    "        colorblind=False,\n",
    "    ),\n",
    "    Demuth=dict(\n",
    "        colors=(\n",
    "            \"#591c19\",\n",
    "            \"#9b332b\",\n",
    "            \"#b64f32\",\n",
    "            \"#d39a2d\",\n",
    "            \"#f7c267\",\n",
    "            \"#b9b9b8\",\n",
    "            \"#8b8b99\",\n",
    "            \"#5d6174\",\n",
    "            \"#41485f\",\n",
    "            \"#262d42\",\n",
    "        ),\n",
    "        order=(9, 5, 1, 7, 3, 4, 8, 2, 6, 10),\n",
    "        colorblind=True,\n",
    "    ),\n",
    "    Derain=dict(\n",
    "        colors=(\n",
    "            \"#efc86e\",\n",
    "            \"#97c684\",\n",
    "            \"#6f9969\",\n",
    "            \"#aab5d5\",\n",
    "            \"#808fe1\",\n",
    "            \"#5c66a8\",\n",
    "            \"#454a74\",\n",
    "        ),\n",
    "        order=(4, 2, 5, 7, 1, 3, 6),\n",
    "        colorblind=True,\n",
    "    ),\n",
    "    Egypt=dict(\n",
    "        colors=(\"#dd5129\", \"#0f7ba2\", \"#43b284\", \"#fab255\"),\n",
    "        order=(1, 2, 3, 4),\n",
    "        colorblind=True,\n",
    "    ),\n",
    "    Gauguin=dict(\n",
    "        colors=(\"#b04948\", \"#811e18\", \"#9e4013\", \"#c88a2c\", \"#4c6216\", \"#1a472a\"),\n",
    "        order=(2, 5, 4, 3, 1, 6),\n",
    "        colorblind=False,\n",
    "    ),\n",
    "    Greek=dict(\n",
    "        colors=(\"#3c0d03\", \"#8d1c06\", \"#e67424\", \"#ed9b49\", \"#f5c34d\"),\n",
    "        order=(2, 3, 5, 1, 4),\n",
    "        colorblind=True,\n",
    "    ),\n",
    "    Hiroshige=dict(\n",
    "        colors=(\n",
    "            \"#e76254\",\n",
    "            \"#ef8a47\",\n",
    "            \"#f7aa58\",\n",
    "            \"#ffd06f\",\n",
    "            \"#ffe6b7\",\n",
    "            \"#aadce0\",\n",
    "            \"#72bcd5\",\n",
    "            \"#528fad\",\n",
    "            \"#376795\",\n",
    "            \"#1e466e\",\n",
    "        ),\n",
    "        order=(6, 2, 9, 3, 7, 5, 1, 10, 4, 8),\n",
    "        colorblind=True,\n",
    "    ),\n",
    "    Hokusai1=dict(\n",
    "        colors=(\n",
    "            \"#6d2f20\",\n",
    "            \"#b75347\",\n",
    "            \"#df7e66\",\n",
    "            \"#e09351\",\n",
    "            \"#edc775\",\n",
    "            \"#94b594\",\n",
    "            \"#224b5e\",\n",
    "        ),\n",
    "        order=(2, 7, 4, 6, 5, 1, 3),\n",
    "        colorblind=False,\n",
    "    ),\n",
    "    Hokusai2=dict(\n",
    "        colors=(\"#abc9c8\", \"#72aeb6\", \"#4692b0\", \"#2f70a1\", \"#134b73\", \"#0a3351\"),\n",
    "        order=(5, 2, 4, 1, 6, 3),\n",
    "        colorblind=True,\n",
    "    ),\n",
    "    Hokusai3=dict(\n",
    "        colors=(\"#d8d97a\", \"#95c36e\", \"#74c8c3\", \"#5a97c1\", \"#295384\", \"#0a2e57\"),\n",
    "        order=(4, 2, 5, 3, 1, 6),\n",
    "        colorblind=True,\n",
    "    ),\n",
    "    Homer1=dict(\n",
    "        colors=(\n",
    "            \"#551f00\",\n",
    "            \"#a62f00\",\n",
    "            \"#df7700\",\n",
    "            \"#f5b642\",\n",
    "            \"#fff179\",\n",
    "            \"#c3f4f6\",\n",
    "            \"#6ad5e8\",\n",
    "            \"#32b2da\",\n",
    "        ),\n",
    "        order=(6, 3, 2, 7, 4, 8, 5, 1),\n",
    "        colorblind=False,\n",
    "    ),\n",
    "    Homer2=dict(\n",
    "        colors=(\n",
    "            \"#bf3626\",\n",
    "            \"#e9724c\",\n",
    "            \"#e9851d\",\n",
    "            \"#f9c53b\",\n",
    "            \"#aeac4c\",\n",
    "            \"#788f33\",\n",
    "            \"#165d43\",\n",
    "        ),\n",
    "        order=(3, 7, 1, 4, 6, 2, 5),\n",
    "        colorblind=False,\n",
    "    ),\n",
    "    Ingres=dict(\n",
    "        colors=(\n",
    "            \"#041d2c\",\n",
    "            \"#06314e\",\n",
    "            \"#18527e\",\n",
    "            \"#2e77ab\",\n",
    "            \"#d1b252\",\n",
    "            \"#a97f2f\",\n",
    "            \"#7e5522\",\n",
    "            \"#472c0b\",\n",
    "        ),\n",
    "        order=(4, 5, 3, 6, 2, 7, 1, 8),\n",
    "        colorblind=True,\n",
    "    ),\n",
    "    Isfahan1=dict(\n",
    "        colors=(\n",
    "            \"#4e3910\",\n",
    "            \"#845d29\",\n",
    "            \"#d8c29d\",\n",
    "            \"#4fb6ca\",\n",
    "            \"#178f92\",\n",
    "            \"#175f5d\",\n",
    "            \"#1d1f54\",\n",
    "        ),\n",
    "        order=(5, 2, 4, 6, 1, 7, 3),\n",
    "        colorblind=True,\n",
    "    ),\n",
    "    Isfahan2=dict(\n",
    "        colors=(\"#d7aca1\", \"#ddc000\", \"#79ad41\", \"#34b6c6\", \"#4063a3\"),\n",
    "        order=(4, 2, 3, 5, 1),\n",
    "        colorblind=True,\n",
    "    ),\n",
    "    Java=dict(\n",
    "        colors=(\"#663171\", \"#cf3a36\", \"#ea7428\", \"#e2998a\", \"#0c7156\"),\n",
    "        order=(1, 4, 2, 5, 3),\n",
    "        colorblind=True,\n",
    "    ),\n",
    "    Johnson=dict(\n",
    "        colors=(\"#a00e00\", \"#d04e00\", \"#f6c200\", \"#0086a8\", \"#132b69\"),\n",
    "        order=(3, 1, 4, 2, 5),\n",
    "        colorblind=True,\n",
    "    ),\n",
    "    Juarez=dict(\n",
    "        colors=(\"#a82203\", \"#208cc0\", \"#f1af3a\", \"#cf5e4e\", \"#637b31\", \"#003967\"),\n",
    "        order=(1, 2, 3, 4, 5, 6),\n",
    "        colorblind=False,\n",
    "    ),\n",
    "    Kandinsky=dict(\n",
    "        colors=(\"#3b7c70\", \"#ce9642\", \"#898e9f\", \"#3b3a3e\"),\n",
    "        order=(1, 2, 3, 4),\n",
    "        colorblind=True,\n",
    "    ),\n",
    "    Klimt=dict(\n",
    "        colors=(\"#df9ed4\", \"#c93f55\", \"#eacc62\", \"#469d76\", \"#3c4b99\", \"#924099\"),\n",
    "        order=(5, 2, 3, 4, 6, 1),\n",
    "        colorblind=False,\n",
    "    ),\n",
    "    Lakota=dict(\n",
    "        colors=(\"#04a3bd\", \"#f0be3d\", \"#931e18\", \"#da7901\", \"#247d3f\", \"#20235b\"),\n",
    "        order=(1, 2, 3, 4, 5, 6),\n",
    "        colorblind=False,\n",
    "    ),\n",
    "    Manet=dict(\n",
    "        colors=(\n",
    "            \"#3b2319\",\n",
    "            \"#80521c\",\n",
    "            \"#d29c44\",\n",
    "            \"#ebc174\",\n",
    "            \"#ede2cc\",\n",
    "            \"#7ec5f4\",\n",
    "            \"#4585b7\",\n",
    "            \"#225e92\",\n",
    "            \"#183571\",\n",
    "            \"#43429b\",\n",
    "            \"#5e65be\",\n",
    "        ),\n",
    "        order=(8, 3, 10, 4, 7, 9, 11, 2, 6, 1, 5),\n",
    "        colorblind=False,\n",
    "    ),\n",
    "    Monet=dict(\n",
    "        colors=(\n",
    "            \"#4e6d58\",\n",
    "            \"#749e89\",\n",
    "            \"#abccbe\",\n",
    "            \"#e3cacf\",\n",
    "            \"#c399a2\",\n",
    "            \"#9f6e71\",\n",
    "            \"#41507b\",\n",
    "            \"#7d87b2\",\n",
    "            \"#c2cae3\",\n",
    "        ),\n",
    "        order=(2, 5, 8, 3, 4, 9, 1, 6, 7),\n",
    "        colorblind=False,\n",
    "    ),\n",
    "    Moreau=dict(\n",
    "        colors=(\n",
    "            \"#421600\",\n",
    "            \"#792504\",\n",
    "            \"#bc7524\",\n",
    "            \"#8dadca\",\n",
    "            \"#527baa\",\n",
    "            \"#104839\",\n",
    "            \"#082844\",\n",
    "        ),\n",
    "        order=(2, 5, 3, 4, 7, 1, 6),\n",
    "        colorblind=False,\n",
    "    ),\n",
    "    Morgenstern=dict(\n",
    "        colors=(\n",
    "            \"#7c668c\",\n",
    "            \"#b08ba5\",\n",
    "            \"#dfbbc8\",\n",
    "            \"#ffc680\",\n",
    "            \"#ffb178\",\n",
    "            \"#db8872\",\n",
    "            \"#a56457\",\n",
    "        ),\n",
    "        order=(7, 5, 4, 6, 3, 2, 1),\n",
    "        colorblind=True,\n",
    "    ),\n",
    "    Nattier=dict(\n",
    "        colors=(\n",
    "            \"#52271c\",\n",
    "            \"#944839\",\n",
    "            \"#c08e39\",\n",
    "            \"#7f793c\",\n",
    "            \"#565c33\",\n",
    "            \"#184948\",\n",
    "            \"#022a2a\",\n",
    "        ),\n",
    "        order=(1, 6, 3, 4, 7, 2, 5),\n",
    "        colorblind=False,\n",
    "    ),\n",
    "    Navajo=dict(\n",
    "        colors=(\"#660d20\", \"#e59a52\", \"#edce79\", \"#094568\", \"#e1c59a\"),\n",
    "        order=(1, 2, 3, 4, 5),\n",
    "        colorblind=False,\n",
    "    ),\n",
    "    NewKingdom=dict(\n",
    "        colors=(\"#e1846c\", \"#9eb4e0\", \"#e6bb9e\", \"#9c6849\", \"#735852\"),\n",
    "        order=(2, 1, 3, 4, 5),\n",
    "        colorblind=False,\n",
    "    ),\n",
    "    Nizami=dict(\n",
    "        colors=(\n",
    "            \"#dd7867\",\n",
    "            \"#b83326\",\n",
    "            \"#c8570d\",\n",
    "            \"#edb144\",\n",
    "            \"#8cc8bc\",\n",
    "            \"#7da7ea\",\n",
    "            \"#5773c0\",\n",
    "            \"#1d4497\",\n",
    "        ),\n",
    "        order=(5, 2, 6, 8, 3, 7, 4, 1),\n",
    "        colorblind=False,\n",
    "    ),\n",
    "    OKeeffe1=dict(\n",
    "        colors=(\n",
    "            \"#6b200c\",\n",
    "            \"#973d21\",\n",
    "            \"#da6c42\",\n",
    "            \"#ee956a\",\n",
    "            \"#fbc2a9\",\n",
    "            \"#f6f2ee\",\n",
    "            \"#bad6f9\",\n",
    "            \"#7db0ea\",\n",
    "            \"#447fdd\",\n",
    "            \"#225bb2\",\n",
    "            \"#133e7e\",\n",
    "        ),\n",
    "        order=(8, 6, 1, 4, 10, 3, 11, 5, 2, 7, 9),\n",
    "        colorblind=True,\n",
    "    ),\n",
    "    OKeeffe2=dict(\n",
    "        colors=(\n",
    "            \"#fbe3c2\",\n",
    "            \"#f2c88f\",\n",
    "            \"#ecb27d\",\n",
    "            \"#e69c6b\",\n",
    "            \"#d37750\",\n",
    "            \"#b9563f\",\n",
    "            \"#92351e\",\n",
    "        ),\n",
    "        order=(7, 1, 6, 4, 2, 5, 3),\n",
    "        colorblind=True,\n",
    "    ),\n",
    "    Paquin=dict(\n",
    "        colors=(\n",
    "            \"#831818\",\n",
    "            \"#c62320\",\n",
    "            \"#f05b43\",\n",
    "            \"#f78462\",\n",
    "            \"#feac81\",\n",
    "            \"#f7dea3\",\n",
    "            \"#ced1af\",\n",
    "            \"#98ab76\",\n",
    "            \"#748f46\",\n",
    "            \"#47632a\",\n",
    "            \"#275024\",\n",
    "        ),\n",
    "        order=(10, 6, 1, 8, 4, 3, 5, 9, 2, 7, 11),\n",
    "        colorblind=False,\n",
    "    ),\n",
    "    Peru1=dict(\n",
    "        colors=(\"#b5361c\", \"#e35e28\", \"#1c9d7c\", \"#31c7ba\", \"#369cc9\", \"#3a507f\"),\n",
    "        order=(3, 1, 5, 2, 4, 6),\n",
    "        colorblind=False,\n",
    "    ),\n",
    "    Peru2=dict(\n",
    "        colors=(\n",
    "            \"#65150b\",\n",
    "            \"#961f1f\",\n",
    "            \"#c0431f\",\n",
    "            \"#b36c06\",\n",
    "            \"#f19425\",\n",
    "            \"#c59349\",\n",
    "            \"#533d14\",\n",
    "        ),\n",
    "        order=(4, 1, 3, 5, 2, 7, 6),\n",
    "        colorblind=False,\n",
    "    ),\n",
    "    Pillement=dict(\n",
    "        colors=(\"#a9845b\", \"#697852\", \"#738e8e\", \"#44636f\", \"#2b4655\", \"#0f252f\"),\n",
    "        order=(4, 3, 2, 5, 1, 6),\n",
    "        colorblind=True,\n",
    "    ),\n",
    "    Pissaro=dict(\n",
    "        colors=(\n",
    "            \"#134130\",\n",
    "            \"#4c825d\",\n",
    "            \"#8cae9e\",\n",
    "            \"#8dc7dc\",\n",
    "            \"#508ca7\",\n",
    "            \"#1a5270\",\n",
    "            \"#0e2a4d\",\n",
    "        ),\n",
    "        order=(6, 2, 4, 1, 7, 5, 3),\n",
    "        colorblind=False,\n",
    "    ),\n",
    "    Redon=dict(\n",
    "        colors=(\n",
    "            \"#5b859e\",\n",
    "            \"#1e395f\",\n",
    "            \"#75884b\",\n",
    "            \"#1e5a46\",\n",
    "            \"#df8d71\",\n",
    "            \"#af4f2f\",\n",
    "            \"#d48f90\",\n",
    "            \"#732f30\",\n",
    "            \"#ab84a5\",\n",
    "            \"#59385c\",\n",
    "            \"#d8b847\",\n",
    "            \"#b38711\",\n",
    "        ),\n",
    "        order=(1, 2, 3, 4, 5, 6, 7, 8, 9, 10, 11, 12),\n",
    "        colorblind=False,\n",
    "    ),\n",
    "    Renoir=dict(\n",
    "        colors=(\n",
    "            \"#17154f\",\n",
    "            \"#2f357c\",\n",
    "            \"#6c5d9e\",\n",
    "            \"#9d9cd5\",\n",
    "            \"#b0799a\",\n",
    "            \"#f6b3b0\",\n",
    "            \"#e48171\",\n",
    "            \"#bf3729\",\n",
    "            \"#e69b00\",\n",
    "            \"#f5bb50\",\n",
    "            \"#ada43b\",\n",
    "            \"#355828\",\n",
    "        ),\n",
    "        order=(2, 5, 9, 12, 3, 8, 7, 10, 4, 1, 6, 11),\n",
    "        colorblind=False,\n",
    "    ),\n",
    "    Robert=dict(\n",
    "        colors=(\"#11341a\", \"#375624\", \"#6ca4a0\", \"#487a7c\", \"#18505f\", \"#062e3d\"),\n",
    "        order=(2, 5, 3, 1, 6, 4),\n",
    "        colorblind=False,\n",
    "    ),\n",
    "    Signac=dict(\n",
    "        colors=(\n",
    "            \"#fbe183\",\n",
    "            \"#f4c40f\",\n",
    "            \"#fe9b00\",\n",
    "            \"#d8443c\",\n",
    "            \"#9b3441\",\n",
    "            \"#de597c\",\n",
    "            \"#e87b89\",\n",
    "            \"#e6a2a6\",\n",
    "            \"#aa7aa1\",\n",
    "            \"#9f5691\",\n",
    "            \"#633372\",\n",
    "            \"#1f6e9c\",\n",
    "            \"#2b9b81\",\n",
    "            \"#92c051\",\n",
    "        ),\n",
    "        order=(13, 3, 2, 1, 11, 5, 8, 14, 12, 10, 7, 4, 6, 9),\n",
    "        colorblind=False,\n",
    "    ),\n",
    "    Stevens=dict(\n",
    "        colors=(\"#042e4e\", \"#307d7f\", \"#598c4c\", \"#ba5c3f\", \"#a13213\", \"#470c00\"),\n",
    "        order=(4, 2, 3, 5, 1, 6),\n",
    "        colorblind=False,\n",
    "    ),\n",
    "    Tam=dict(\n",
    "        colors=(\n",
    "            \"#ffd353\",\n",
    "            \"#ffb242\",\n",
    "            \"#ef8737\",\n",
    "            \"#de4f33\",\n",
    "            \"#bb292c\",\n",
    "            \"#9f2d55\",\n",
    "            \"#62205f\",\n",
    "            \"#341648\",\n",
    "        ),\n",
    "        order=(3, 8, 1, 6, 2, 7, 4, 5),\n",
    "        colorblind=True,\n",
    "    ),\n",
    "    Tara=dict(\n",
    "        colors=(\"#eab1c6\", \"#d35e17\", \"#e18a1f\", \"#e9b109\", \"#829d44\"),\n",
    "        order=(1, 3, 2, 5, 4),\n",
    "        colorblind=False,\n",
    "    ),\n",
    "    Thomas=dict(\n",
    "        colors=(\n",
    "            \"#b24422\",\n",
    "            \"#c44d76\",\n",
    "            \"#4457a5\",\n",
    "            \"#13315f\",\n",
    "            \"#b1a1cc\",\n",
    "            \"#59386c\",\n",
    "            \"#447861\",\n",
    "            \"#7caf5c\",\n",
    "        ),\n",
    "        order=(3, 2, 8, 6, 1, 4, 7, 5),\n",
    "        colorblind=False,\n",
    "    ),\n",
    "    Tiepolo=dict(\n",
    "        colors=(\n",
    "            \"#802417\",\n",
    "            \"#c06636\",\n",
    "            \"#ce9344\",\n",
    "            \"#e8b960\",\n",
    "            \"#646e3b\",\n",
    "            \"#2b5851\",\n",
    "            \"#508ea2\",\n",
    "            \"#17486f\",\n",
    "        ),\n",
    "        order=(1, 2, 8, 4, 3, 5, 7, 6),\n",
    "        colorblind=False,\n",
    "    ),\n",
    "    Troy=dict(\n",
    "        colors=(\n",
    "            \"#421401\",\n",
    "            \"#6c1d0e\",\n",
    "            \"#8b3a2b\",\n",
    "            \"#c27668\",\n",
    "            \"#7ba0b4\",\n",
    "            \"#44728c\",\n",
    "            \"#235070\",\n",
    "            \"#0a2d46\",\n",
    "        ),\n",
    "        order=(2, 7, 4, 5, 1, 8, 3, 6),\n",
    "        colorblind=True,\n",
    "    ),\n",
    "    Tsimshian=dict(\n",
    "        colors=(\n",
    "            \"#582310\",\n",
    "            \"#aa361d\",\n",
    "            \"#82c45f\",\n",
    "            \"#318f49\",\n",
    "            \"#0cb4bb\",\n",
    "            \"#2673a3\",\n",
    "            \"#473d7d\",\n",
    "        ),\n",
    "        order=(6, 1, 7, 4, 1, 5, 3),\n",
    "        colorblind=False,\n",
    "    ),\n",
    "    VanGogh1=dict(\n",
    "        colors=(\n",
    "            \"#2c2d54\",\n",
    "            \"#434475\",\n",
    "            \"#6b6ca3\",\n",
    "            \"#969bc7\",\n",
    "            \"#87bcbd\",\n",
    "            \"#89ab7c\",\n",
    "            \"#6f9954\",\n",
    "        ),\n",
    "        order=(3, 5, 7, 4, 6, 2, 1),\n",
    "        colorblind=False,\n",
    "    ),\n",
    "    VanGogh2=dict(\n",
    "        colors=(\n",
    "            \"#bd3106\",\n",
    "            \"#d9700e\",\n",
    "            \"#e9a00e\",\n",
    "            \"#eebe04\",\n",
    "            \"#5b7314\",\n",
    "            \"#c3d6ce\",\n",
    "            \"#89a6bb\",\n",
    "            \"#454b87\",\n",
    "        ),\n",
    "        order=(1, 5, 8, 2, 7, 4, 6, 3),\n",
    "        colorblind=False,\n",
    "    ),\n",
    "    VanGogh3=dict(\n",
    "        colors=(\n",
    "            \"#e7e5cc\",\n",
    "            \"#c2d6a4\",\n",
    "            \"#9cc184\",\n",
    "            \"#669d62\",\n",
    "            \"#447243\",\n",
    "            \"#1f5b25\",\n",
    "            \"#1e3d14\",\n",
    "            \"#192813\",\n",
    "        ),\n",
    "        order=(7, 5, 1, 4, 8, 2, 3, 6),\n",
    "        colorblind=True,\n",
    "    ),\n",
    "    Veronese=dict(\n",
    "        colors=(\n",
    "            \"#67322e\",\n",
    "            \"#99610a\",\n",
    "            \"#c38f16\",\n",
    "            \"#6e948c\",\n",
    "            \"#2c6b67\",\n",
    "            \"#175449\",\n",
    "            \"#122c43\",\n",
    "        ),\n",
    "        order=(5, 1, 7, 2, 3, 6, 4),\n",
    "        colorblind=True,\n",
    "    ),\n",
    "    Wissing=dict(\n",
    "        colors=(\"#4b1d0d\", \"#7c291e\", \"#ba7233\", \"#3a4421\", \"#2d5380\"),\n",
    "        order=(2, 3, 5, 4, 1),\n",
    "        colorblind=False,\n",
    "    ),\n",
    ")"
   ]
  },
  {
   "cell_type": "code",
   "execution_count": 89,
   "metadata": {},
   "outputs": [
    {
     "name": "stdout",
     "output_type": "stream",
     "text": [
      "Overwriting Prostate_Cancer_TFM/Data_Analysis/utils.py\n"
     ]
    }
   ],
   "source": [
    "%%writefile Prostate_Cancer_TFM/Data_Analysis/utils.py\n",
    "\n",
    "import plotly.express as px\n",
    "import plotly.graph_objects as go\n",
    "import matplotlib.pyplot as plt\n",
    "import seaborn as sns\n",
    "import random\n",
    "\n",
    "\n",
    "# Set the seaborn style\n",
    "sns.set(style='whitegrid')\n",
    "\n",
    "MET_PALETTES = dict(\n",
    "    Archambault=dict(colors=(\"#88a0dc\", \"#381a61\", \"#7c4b73\", \"#ed968c\", \"#ab3329\", \"#e78429\", \"#f9d14a\"), order=(2, 7, 5, 1, 6, 4, 3), colorblind=True),\n",
    "    Austria=dict(colors=(\"#a40000\", \"#16317d\", \"#007e2f\", \"#ffcd12\", \"#b86092\", \"#721b3e\", \"#00b7a7\"), order=(1, 2, 3, 4, 6, 5, 7), colorblind=False),\n",
    "    Benedictus = dict(colors=(\"#9a133d\", \"#b93961\", \"#d8527c\", \"#f28aaa\", \"#f9b4c9\", \"#f9e0e8\", \"#ffffff\", \"#eaf3ff\", \"#c5daf6\", \"#a1c2ed\", \"#6996e3\", \"#4060c8\", \"#1a318b\"), order=(9, 5, 11, 1, 7, 3, 13, 4, 8, 2, 12, 6, 10), colorblind=False),\n",
    "    Cassatt1=dict(colors=(\"#b1615c\", \"#d88782\", \"#e3aba7\", \"#edd7d9\", \"#c9c9dd\", \"#9d9dc7\", \"#8282aa\", \"#5a5a83\"), order=(3, 6, 1, 8, 4, 5, 2, 7), colorblind=True),\n",
    "    Cassatt2=dict(colors=(\"#2d223c\", \"#574571\", \"#90719f\", \"#b695bc\", \"#dec5da\", \"#c1d1aa\", \"#7fa074\", \"#466c4b\", \"#2c4b27\", \"#0e2810\"), order=(7, 3, 9, 1, 5, 6, 2, 10, 4, 8), colorblind=True),\n",
    "    Cross=dict(colors=(\"#c969a1\", \"#ce4441\", \"#ee8577\", \"#eb7926\", \"#ffbb44\", \"#859b6c\", \"#62929a\", \"#004f63\", \"#122451\"), order=(4, 7, 1, 8, 2, 6, 3, 5, 9), colorblind=False),\n",
    "    Degas=dict(colors=(\"#591d06\", \"#96410e\", \"#e5a335\", \"#556219\", \"#418979\", \"#2b614e\", \"#053c29\"), order=(5, 2, 1, 3, 4, 7, 6), colorblind=False),\n",
    "    Demuth = dict(colors=(\"#591c19\", \"#9b332b\", \"#b64f32\", \"#d39a2d\", \"#f7c267\", \"#b9b9b8\", \"#8b8b99\", \"#5d6174\", \"#41485f\", \"#262d42\"), order=(9, 5, 1, 7, 3, 4, 8, 2, 6, 10), colorblind=True),\n",
    "    Derain=dict(colors=(\"#efc86e\", \"#97c684\", \"#6f9969\", \"#aab5d5\", \"#808fe1\", \"#5c66a8\", \"#454a74\"), order=(4, 2, 5, 7, 1, 3, 6), colorblind=True),\n",
    "    Egypt=dict(colors=(\"#dd5129\", \"#0f7ba2\", \"#43b284\", \"#fab255\"), order=(1, 2, 3, 4), colorblind=True),\n",
    "    Gauguin=dict(colors=(\"#b04948\", \"#811e18\", \"#9e4013\", \"#c88a2c\", \"#4c6216\", \"#1a472a\"), order=(2, 5, 4, 3, 1, 6), colorblind=False),\n",
    "    Greek=dict(colors=(\"#3c0d03\", \"#8d1c06\", \"#e67424\", \"#ed9b49\", \"#f5c34d\"), order=(2, 3, 5, 1, 4), colorblind=True),\n",
    "    Hiroshige=dict(colors=(\"#e76254\", \"#ef8a47\", \"#f7aa58\", \"#ffd06f\", \"#ffe6b7\", \"#aadce0\", \"#72bcd5\", \"#528fad\", \"#376795\", \"#1e466e\"), order=(6, 2, 9, 3, 7, 5, 1, 10, 4, 8), colorblind=True),\n",
    "    Hokusai1=dict(colors=(\"#6d2f20\", \"#b75347\", \"#df7e66\", \"#e09351\", \"#edc775\", \"#94b594\", \"#224b5e\"), order=(2, 7, 4, 6, 5, 1, 3), colorblind=False),\n",
    "    Hokusai2=dict(colors=(\"#abc9c8\", \"#72aeb6\", \"#4692b0\", \"#2f70a1\", \"#134b73\", \"#0a3351\"), order=(5, 2, 4, 1, 6, 3), colorblind=True),\n",
    "    Hokusai3=dict(colors=(\"#d8d97a\", \"#95c36e\", \"#74c8c3\", \"#5a97c1\", \"#295384\", \"#0a2e57\"), order=(4, 2, 5, 3, 1, 6), colorblind=True),\n",
    "    Homer1=dict(colors=(\"#551f00\", \"#a62f00\", \"#df7700\", \"#f5b642\", \"#fff179\", \"#c3f4f6\", \"#6ad5e8\", \"#32b2da\"), order=(6, 3, 2, 7, 4, 8, 5, 1), colorblind=False),\n",
    "    Homer2=dict(colors=(\"#bf3626\", \"#e9724c\", \"#e9851d\", \"#f9c53b\", \"#aeac4c\", \"#788f33\", \"#165d43\"), order=(3, 7, 1, 4, 6, 2, 5), colorblind=False),\n",
    "    Ingres=dict(colors=(\"#041d2c\", \"#06314e\", \"#18527e\", \"#2e77ab\", \"#d1b252\", \"#a97f2f\", \"#7e5522\", \"#472c0b\"), order=(4, 5, 3, 6, 2, 7, 1, 8), colorblind=True),\n",
    "    Isfahan1=dict(colors=(\"#4e3910\", \"#845d29\", \"#d8c29d\", \"#4fb6ca\", \"#178f92\", \"#175f5d\", \"#1d1f54\"), order=(5, 2, 4, 6, 1, 7, 3), colorblind=True),\n",
    "    Isfahan2=dict(colors=(\"#d7aca1\", \"#ddc000\", \"#79ad41\", \"#34b6c6\", \"#4063a3\"), order=(4, 2, 3, 5, 1), colorblind=True),\n",
    "    Java = dict(colors=(\"#663171\", \"#cf3a36\", \"#ea7428\", \"#e2998a\", \"#0c7156\"), order=(1, 4, 2, 5, 3), colorblind=True),\n",
    "    Johnson = dict(colors=(\"#a00e00\", \"#d04e00\", \"#f6c200\", \"#0086a8\", \"#132b69\"), order=(3, 1, 4, 2, 5), colorblind=True),\n",
    "    Juarez=dict(colors=(\"#a82203\", \"#208cc0\", \"#f1af3a\", \"#cf5e4e\", \"#637b31\", \"#003967\"), order=(1, 2, 3, 4, 5, 6), colorblind=False),\n",
    "    Kandinsky = dict(colors=(\"#3b7c70\", \"#ce9642\", \"#898e9f\", \"#3b3a3e\"), order=(1, 2, 3, 4), colorblind=True),\n",
    "    Klimt=dict(colors=(\"#df9ed4\", \"#c93f55\", \"#eacc62\", \"#469d76\", \"#3c4b99\", \"#924099\"), order=(5, 2, 3, 4, 6, 1), colorblind=False),\n",
    "    Lakota=dict(colors=(\"#04a3bd\", \"#f0be3d\", \"#931e18\", \"#da7901\", \"#247d3f\", \"#20235b\"), order=(1, 2, 3, 4, 5, 6), colorblind=False),\n",
    "    Manet=dict(colors=(\"#3b2319\", \"#80521c\", \"#d29c44\", \"#ebc174\", \"#ede2cc\", \"#7ec5f4\", \"#4585b7\", \"#225e92\", \"#183571\", \"#43429b\", \"#5e65be\"), order=(8, 3, 10, 4, 7, 9, 11, 2, 6, 1, 5), colorblind=False),\n",
    "    Monet=dict(colors=(\"#4e6d58\", \"#749e89\", \"#abccbe\", \"#e3cacf\", \"#c399a2\", \"#9f6e71\", \"#41507b\", \"#7d87b2\", \"#c2cae3\"), order=(2, 5, 8, 3, 4, 9, 1, 6, 7), colorblind=False),\n",
    "    Moreau=dict(colors=(\"#421600\", \"#792504\", \"#bc7524\", \"#8dadca\", \"#527baa\", \"#104839\", \"#082844\"), order=(2, 5, 3, 4, 7, 1, 6), colorblind=False),\n",
    "    Morgenstern=dict(colors=(\"#7c668c\", \"#b08ba5\", \"#dfbbc8\", \"#ffc680\", \"#ffb178\", \"#db8872\", \"#a56457\"), order=(7, 5, 4, 6, 3, 2, 1), colorblind=True),\n",
    "    Nattier=dict(colors=(\"#52271c\", \"#944839\", \"#c08e39\", \"#7f793c\", \"#565c33\", \"#184948\", \"#022a2a\"), order=(1, 6, 3, 4, 7, 2, 5), colorblind=False),\n",
    "    Navajo=dict(colors=(\"#660d20\", \"#e59a52\", \"#edce79\", \"#094568\", \"#e1c59a\"), order=(1, 2, 3, 4, 5), colorblind=False),\n",
    "    NewKingdom=dict(colors=(\"#e1846c\", \"#9eb4e0\", \"#e6bb9e\", \"#9c6849\", \"#735852\"), order=(2, 1, 3, 4, 5), colorblind=False),\n",
    "    Nizami=dict(colors=(\"#dd7867\", \"#b83326\", \"#c8570d\", \"#edb144\", \"#8cc8bc\", \"#7da7ea\", \"#5773c0\", \"#1d4497\"), order=(5, 2, 6, 8, 3, 7, 4, 1), colorblind=False),\n",
    "    OKeeffe1=dict(colors=(\"#6b200c\", \"#973d21\", \"#da6c42\", \"#ee956a\", \"#fbc2a9\", \"#f6f2ee\", \"#bad6f9\", \"#7db0ea\", \"#447fdd\", \"#225bb2\", \"#133e7e\"), order=(8, 6, 1, 4, 10, 3, 11, 5, 2, 7, 9), colorblind=True),\n",
    "    OKeeffe2=dict(colors=(\"#fbe3c2\", \"#f2c88f\", \"#ecb27d\", \"#e69c6b\", \"#d37750\", \"#b9563f\", \"#92351e\"), order=(7, 1, 6, 4, 2, 5, 3), colorblind=True),\n",
    "    Paquin = dict(colors=(\"#831818\", \"#c62320\", \"#f05b43\", \"#f78462\", \"#feac81\", \"#f7dea3\", \"#ced1af\", \"#98ab76\", \"#748f46\", \"#47632a\", \"#275024\"), order=(10, 6, 1, 8, 4, 3, 5, 9, 2, 7, 11), colorblind=False),\n",
    "    Peru1=dict(colors=(\"#b5361c\", \"#e35e28\", \"#1c9d7c\", \"#31c7ba\", \"#369cc9\", \"#3a507f\"), order=(3, 1, 5, 2, 4, 6), colorblind=False),\n",
    "    Peru2=dict(colors=(\"#65150b\", \"#961f1f\", \"#c0431f\", \"#b36c06\", \"#f19425\", \"#c59349\", \"#533d14\"), order=(4, 1, 3, 5, 2, 7, 6), colorblind=False),\n",
    "    Pillement=dict(colors=(\"#a9845b\", \"#697852\", \"#738e8e\", \"#44636f\", \"#2b4655\", \"#0f252f\"), order=(4, 3, 2, 5, 1, 6), colorblind=True),\n",
    "    Pissaro=dict(colors=(\"#134130\", \"#4c825d\", \"#8cae9e\", \"#8dc7dc\", \"#508ca7\", \"#1a5270\", \"#0e2a4d\"), order=(6, 2, 4, 1, 7, 5, 3), colorblind=False),\n",
    "    Redon=dict(colors=(\"#5b859e\", \"#1e395f\", \"#75884b\", \"#1e5a46\", \"#df8d71\", \"#af4f2f\", \"#d48f90\", \"#732f30\", \"#ab84a5\", \"#59385c\", \"#d8b847\", \"#b38711\"), order=(1, 2, 3, 4, 5, 6, 7, 8, 9, 10, 11, 12), colorblind=False),\n",
    "    Renoir=dict(colors=(\"#17154f\", \"#2f357c\", \"#6c5d9e\", \"#9d9cd5\", \"#b0799a\", \"#f6b3b0\", \"#e48171\", \"#bf3729\", \"#e69b00\", \"#f5bb50\", \"#ada43b\", \"#355828\"), order=(2, 5, 9, 12, 3, 8, 7, 10, 4, 1, 6, 11), colorblind=False),\n",
    "    Robert=dict(colors=(\"#11341a\", \"#375624\", \"#6ca4a0\", \"#487a7c\", \"#18505f\", \"#062e3d\"), order=(2, 5, 3, 1, 6, 4), colorblind=False),\n",
    "    Signac=dict(colors=(\"#fbe183\", \"#f4c40f\", \"#fe9b00\", \"#d8443c\", \"#9b3441\", \"#de597c\", \"#e87b89\", \"#e6a2a6\", \"#aa7aa1\", \"#9f5691\", \"#633372\", \"#1f6e9c\", \"#2b9b81\", \"#92c051\"), order=(13, 3, 2, 1, 11, 5, 8, 14, 12, 10, 7, 4, 6, 9), colorblind=False),\n",
    "    Stevens=dict(colors=(\"#042e4e\", \"#307d7f\", \"#598c4c\", \"#ba5c3f\", \"#a13213\", \"#470c00\"), order=(4, 2, 3, 5, 1, 6), colorblind=False),\n",
    "    Tam = dict(colors=(\"#ffd353\", \"#ffb242\", \"#ef8737\", \"#de4f33\", \"#bb292c\", \"#9f2d55\", \"#62205f\", \"#341648\"), order=(3, 8, 1, 6, 2, 7, 4, 5), colorblind=True),\n",
    "    Tara=dict(colors=(\"#eab1c6\", \"#d35e17\", \"#e18a1f\", \"#e9b109\", \"#829d44\"), order=(1, 3, 2, 5, 4), colorblind=False),\n",
    "    Thomas=dict(colors=(\"#b24422\", \"#c44d76\", \"#4457a5\", \"#13315f\", \"#b1a1cc\", \"#59386c\", \"#447861\", \"#7caf5c\"), order=(3, 2, 8, 6, 1, 4, 7, 5), colorblind=False),\n",
    "    Tiepolo=dict(colors=(\"#802417\", \"#c06636\", \"#ce9344\", \"#e8b960\", \"#646e3b\", \"#2b5851\", \"#508ea2\", \"#17486f\"), order=(1, 2, 8, 4, 3, 5, 7, 6), colorblind=False),\n",
    "    Troy=dict(colors=(\"#421401\", \"#6c1d0e\", \"#8b3a2b\", \"#c27668\", \"#7ba0b4\", \"#44728c\", \"#235070\", \"#0a2d46\"), order=(2, 7, 4, 5, 1, 8, 3, 6), colorblind=True),\n",
    "    Tsimshian=dict(colors=(\"#582310\", \"#aa361d\", \"#82c45f\", \"#318f49\", \"#0cb4bb\", \"#2673a3\", \"#473d7d\"), order=(6, 1, 7, 4, 1, 5, 3), colorblind=False),\n",
    "    VanGogh1=dict(colors=(\"#2c2d54\", \"#434475\", \"#6b6ca3\", \"#969bc7\", \"#87bcbd\", \"#89ab7c\", \"#6f9954\"), order=(3, 5, 7, 4, 6, 2, 1), colorblind=False),\n",
    "    VanGogh2=dict(colors=(\"#bd3106\", \"#d9700e\", \"#e9a00e\", \"#eebe04\", \"#5b7314\", \"#c3d6ce\", \"#89a6bb\", \"#454b87\"), order=(1, 5, 8, 2, 7, 4, 6, 3), colorblind=False),\n",
    "    VanGogh3=dict(colors=(\"#e7e5cc\", \"#c2d6a4\", \"#9cc184\", \"#669d62\", \"#447243\", \"#1f5b25\", \"#1e3d14\", \"#192813\"), order=(7, 5, 1, 4, 8, 2, 3, 6), colorblind=True),\n",
    "    Veronese=dict(colors=(\"#67322e\", \"#99610a\", \"#c38f16\", \"#6e948c\", \"#2c6b67\", \"#175449\", \"#122c43\"), order=(5, 1, 7, 2, 3, 6, 4), colorblind=True),\n",
    "    Wissing=dict(colors=(\"#4b1d0d\", \"#7c291e\", \"#ba7233\", \"#3a4421\", \"#2d5380\"), order=(2, 3, 5, 4, 1), colorblind=False)\n",
    "  )\n",
    "\n",
    "COLORBLIND_PALETTES_NAMES = (\"Archambault\", \"Cassatt1\", \"Cassatt2\", \"Demuth\", \"Derain\", \"Egypt\", \"Greek\", \"Hiroshige\", \"Hokusai2\", \"Hokusai3\", \"Ingres\", \"Isfahan1\", \"Isfahan2\", \"Java\", \"Johnson\", \"Kandinsky\", \"Morgenstern\", \"OKeeffe1\", \"OKeeffe2\", \"Pillement\", \"Tam\", \"Troy\", \"VanGogh3\", \"Veronese\")\n",
    "\n",
    "\n",
    "def plot_histogram(dataframe, column, color=None, xlabel=None, ylabel=None, title=None, bins=10):\n",
    "    if color is None:\n",
    "        palette = MET_PALETTES[random.choice(COLORBLIND_PALETTES_NAMES)]\n",
    "        color = palette['colors'][random.choice(range(0, len(palette['colors'])))]\n",
    "    \n",
    "    plt.figure(figsize=(10, 6))\n",
    "    plt.hist(dataframe[column], bins=bins, edgecolor='black', color=color)\n",
    "    \n",
    "    if xlabel is not None:\n",
    "        plt.xlabel(xlabel)\n",
    "    if ylabel is not None:\n",
    "        plt.ylabel(ylabel)\n",
    "    if title is not None:\n",
    "        plt.title(title)\n",
    "    \n",
    "    plt.show()\n",
    "\n",
    "def plot_histogram_plotly(dataframe, column, title, x_label, y_label, bins,fig_name):\n",
    "    # Colorblind-friendly color palette\n",
    "    colors = MET_PALETTES['NewKingdom']['colors']\n",
    "    \n",
    "    fig = go.Figure()\n",
    "    fig.add_trace(go.Histogram(\n",
    "        x=dataframe[column],\n",
    "        nbinsx=bins,\n",
    "        marker_color=colors[0], # Use only the first color\n",
    "        marker=dict(\n",
    "            line=dict(\n",
    "                color='DarkSlateGrey', # Set edge color\n",
    "                width=1\n",
    "            )\n",
    "        )\n",
    "    ))\n",
    "    \n",
    "    fig.update_traces(\n",
    "        texttemplate='%{y}', textposition='auto' # Display count in each bin\n",
    "    )\n",
    "    \n",
    "    fig.update_layout(\n",
    "        title_text=title, # title of plot\n",
    "        xaxis_title_text=x_label, # x axis label\n",
    "        yaxis_title_text=y_label, # y axis label\n",
    "        template='plotly_white', # for a more professional look\n",
    "        plot_bgcolor='rgba(0,0,0,0)', # Transparent background\n",
    "        paper_bgcolor='rgba(0,0,0,0)', # Transparent background\n",
    "    )\n",
    "    \n",
    "    fig.update_yaxes(automargin=True) # Enable automatic margins for y-axis\n",
    "    \n",
    "    fig.show()\n",
    "    if fig_name is not None:\n",
    "        fig.write_image(fig_name)\n",
    "\n",
    "def plot_pie_chart(dataframe, column, title=None, colors=sns.color_palette('pastel')):\n",
    "    grouped_data = dataframe[column].value_counts()\n",
    "    labels = grouped_data.index\n",
    "    sizes = grouped_data.values\n",
    "    colors = MET_PALETTES['Hokusai2']['colors']\n",
    "\n",
    "\n",
    "    \n",
    "    plt.figure(figsize=(10, 10))\n",
    "    plt.pie(sizes, labels=labels, autopct='%1.1f%%', startangle=90, colors=colors)\n",
    "    \n",
    "    if title is not None:\n",
    "        plt.title(title)\n",
    "    \n",
    "\n",
    "    plt.axis('equal')\n",
    "    plt.show()\n",
    "\n",
    "\n",
    "\n",
    "\n",
    "def plot_pie_chart_plotly(dataframe, column, title=None, fig_name=None):\n",
    "    # Colorblind-friendly color palette\n",
    "    colors = MET_PALETTES['NewKingdom']['colors']\n",
    "    \n",
    "    grouped_data = dataframe[column].value_counts()\n",
    "    labels = grouped_data.index\n",
    "    values = grouped_data.values\n",
    "    \n",
    "    fig = go.Figure(data=[go.Pie(labels=labels, values=values)])\n",
    "    fig.update_traces(hoverinfo='label+percent', textinfo='percent', textfont_size=20,\n",
    "                      marker=dict(colors=colors, line=dict(color='rgba(255,255,255,0.2)', width=2)))\n",
    "    \n",
    "    fig.update_layout(\n",
    "        title_text=title, # title of plot\n",
    "        autosize=False, # disable autosize to set custom width and height\n",
    "        width=800, # width of the plot\n",
    "        height=600, # height of the plot\n",
    "        plot_bgcolor='rgba(0,0,0,0)', # Transparent background\n",
    "        paper_bgcolor='rgba(0,0,0,0)', # Transparent background\n",
    "        template='plotly_white', # for a more professional look\n",
    "        margin=dict(l=50, r=50, b=50, t=50) # Set custom margins\n",
    "    )\n",
    "    \n",
    "    fig.show()\n",
    "    if fig_name is not None:\n",
    "        fig.write_image(fig_name)\n"
   ]
  },
  {
   "cell_type": "markdown",
   "metadata": {},
   "source": [
    "# Data Splits Overview 🗃️\n",
    "\n",
    "---\n",
    "\n",
    "## **Public Training and Development Dataset (1500 cases)**\n",
    "- **Purpose**: *Training and development of AI models* by participants and researchers.\n",
    "- **Availability**: Open access for all, under a non-commercial CC BY-NC 4.0 license.\n",
    "- **Contents**: Includes 328 cases from the ProstateX Challenge.\n",
    "- **Data Source**: \n",
    "  - Imaging data: [Zenodo - DOI: 10.5281/zenodo.6624726](https://zenodo.org/record/6624726)\n",
    "  - Annotations: [GitHub - DIAGNijmegen/picai_labels](https://github.com/DIAGNijmegen/picai_labels)\n",
    "- **Updates/Fixes**: Check the dedicated forum post on the challenge website for more information.\n",
    "\n",
    "---\n",
    "\n",
    "## **Private/Sequestered Training Dataset (7607 cases)**\n",
    "- **Purpose**: Retraining the top 5 AI algorithms during the Closed Testing Phase.\n",
    "- **Usage**: Exclusively for organizers, for large-scale data handling.\n",
    "\n",
    "---\n",
    "\n",
    "## **Hidden Tuning Cohort (100 cases)**\n",
    "- **Purpose**: Facilitates model selection and tuning.\n",
    "- **Usage**: For the live, public leaderboard in the Open Development Phase.\n",
    "\n",
    "---\n",
    "\n",
    "## **Hidden Testing Cohort (1000 cases)**\n",
    "- **Purpose**: \n",
    "  - To determine the top 5 AI algorithms at the end of the Open Development Phase.\n",
    "  - For benchmarking AI, radiologists, and testing hypotheses at the end of the Closed Testing Phase.\n",
    "- **Contents**: \n",
    "  - Internal testing data: Unseen cases from seen centers.\n",
    "  - External testing data: Unseen cases from an unseen center.\n",
    "- **Special Note**: 400 cases are used in the PI-CAI: Reader Study.\n",
    "\n",
    "---"
   ]
  },
  {
   "cell_type": "markdown",
   "metadata": {},
   "source": [
    "# Imaging Data Overview for PI-CAI Challenge 🏥\n",
    "\n",
    "---\n",
    "\n",
    "## **Dataset Composition**\n",
    "- **Size**: *9,000–11,000* prostate MRI exams.\n",
    "- **Sources**: \n",
    "  - **Dutch Centers**: \n",
    "    - Radboud University Medical Center (RUMC)\n",
    "    - Ziekenhuis Groep Twente (ZGT)\n",
    "    - University Medical Center Groningen (UMCG)\n",
    "  - **Norwegian Center**: \n",
    "    - Norwegian University of Science and Technology (NTNU)\n",
    "- **Ethical Considerations**: Institutional review boards waived the need for informed consent for retrospective scientific use of anonymized clinical data.\n",
    "\n",
    "---\n",
    "\n",
    "## **Patient Selection Criteria**\n",
    "- **Patients**: Men suspected of harboring *clinically significant Prostate Cancer (csPCa)*.\n",
    "- **Inclusion Criteria**: No history of treatment or prior ISUP ≥ 2 findings.\n",
    "- **Clinical Variables**: Patient age, prostate volume, PSA level, PSA density.\n",
    "- **Imaging Equipment**: Siemens Healthineers or Philips Medical Systems-based scanners with surface coils.\n",
    "\n",
    "---\n",
    "\n",
    "## **Imaging Sequences**\n",
    "1. **Axial, sagittal, and coronal T2-weighted imaging (T2W)**.\n",
    "2. **Axial high b-value (≥ 1000 s/mm²) diffusion-weighted imaging (DWI)**.\n",
    "3. **Axial apparent diffusion coefficient maps (ADC)**.\n",
    "\n",
    "### **Important Note on ADC Scans:**\n",
    "- **Lack of Universality**: Absolute intensity values are not universally meaningful.\n",
    "- **Variability Factors**: Acquisition protocols, image scaling, magnet strength, vendor, inter-patient variability.\n",
    "- **References**: \n",
    "  - T.L. Chenevert et al., 2014.\n",
    "  - PI-RADS v2, T. Barrett et al., 2015.\n",
    "\n",
    "---\n",
    "\n",
    "## **Dataset Specifics for Different Cohorts**\n",
    "\n",
    "### *Public Training and Development Dataset & Private/Sequestered Training Dataset:*\n",
    "- **Minimum Sequences**: Axial T2W, axial DWI, axial ADC.\n",
    "- **Optional Sequences**: Sagittal and coronal T2W.\n",
    "- **Exclusion**: No dynamic contrast-enhanced (DCE) sequences.\n",
    "\n",
    "### *Hidden Tuning Cohort & Hidden Testing Cohort:*\n",
    "- **Standard Sequences**: Axial, sagittal, and coronal T2W; axial DWI; axial ADC.\n",
    "- **Special Case in Hidden Testing Cohort**: DCE sequences available only to radiologists in the PI-CAI: Reader Study, not for AI algorithms.\n",
    "\n",
    "---\n",
    "\n",
    "## **Further Reading on Clinical Significance of Prostate MRI Sequences**\n",
    "1. \"Multiparametric Magnetic Resonance Imaging for the Detection of Clinically Significant Prostate Cancer: What Urologists Need to Know. Part 1: Acquisition\" by R.R.M. Engels, B. Israël, A.R. Padhani, J.O. Barentsz. DOI: 10.1016/j.eururo.2019.09.021\n",
    "2. \"Part 2: Interpretation\" by B. Israël, M. van der Leest, M. Sedelaar, A.R. Padhani, P. Zámecnik, J.O. Barentsz. DOI: 10.1016/j.eururo.2019.10.024\n"
   ]
  },
  {
   "cell_type": "code",
   "execution_count": 20,
   "metadata": {},
   "outputs": [
    {
     "data": {
      "text/html": [
       "<div>\n",
       "<style scoped>\n",
       "    .dataframe tbody tr th:only-of-type {\n",
       "        vertical-align: middle;\n",
       "    }\n",
       "\n",
       "    .dataframe tbody tr th {\n",
       "        vertical-align: top;\n",
       "    }\n",
       "\n",
       "    .dataframe thead th {\n",
       "        text-align: right;\n",
       "    }\n",
       "</style>\n",
       "<table border=\"1\" class=\"dataframe\">\n",
       "  <thead>\n",
       "    <tr style=\"text-align: right;\">\n",
       "      <th></th>\n",
       "      <th>index</th>\n",
       "      <th>patient_id</th>\n",
       "      <th>study_id</th>\n",
       "      <th>mri_date</th>\n",
       "      <th>patient_age</th>\n",
       "      <th>psa</th>\n",
       "      <th>psad</th>\n",
       "      <th>prostate_volume</th>\n",
       "      <th>histopath_type</th>\n",
       "      <th>lesion_GS</th>\n",
       "      <th>...</th>\n",
       "      <th>filepath_labelAI_cropped</th>\n",
       "      <th>filepath_seg_zones</th>\n",
       "      <th>filepath_seg_zones_cropped</th>\n",
       "      <th>PIRADS</th>\n",
       "      <th>cv_partition</th>\n",
       "      <th>Fold 0</th>\n",
       "      <th>Fold 1</th>\n",
       "      <th>Fold 2</th>\n",
       "      <th>Fold 3</th>\n",
       "      <th>Fold 4</th>\n",
       "    </tr>\n",
       "  </thead>\n",
       "  <tbody>\n",
       "    <tr>\n",
       "      <th>0</th>\n",
       "      <td>353</td>\n",
       "      <td>10347</td>\n",
       "      <td>1000353</td>\n",
       "      <td>2020-07-15</td>\n",
       "      <td>58</td>\n",
       "      <td>9.8</td>\n",
       "      <td>0.17</td>\n",
       "      <td>58.0</td>\n",
       "      <td>SysBx+MRBx</td>\n",
       "      <td>0+0,0+0</td>\n",
       "      <td>...</td>\n",
       "      <td>/nvmescratch/ceib/Prostate/input/cropped/label...</td>\n",
       "      <td>/nvmescratch/ceib/Prostate/input/labels/anatom...</td>\n",
       "      <td>/nvmescratch/ceib/Prostate/input/labels/anatom...</td>\n",
       "      <td>NaN</td>\n",
       "      <td>1</td>\n",
       "      <td>train</td>\n",
       "      <td>test</td>\n",
       "      <td>train</td>\n",
       "      <td>train</td>\n",
       "      <td>train</td>\n",
       "    </tr>\n",
       "    <tr>\n",
       "      <th>1</th>\n",
       "      <td>169</td>\n",
       "      <td>10166</td>\n",
       "      <td>1000169</td>\n",
       "      <td>2019-10-09</td>\n",
       "      <td>68</td>\n",
       "      <td>4.3</td>\n",
       "      <td>0.20</td>\n",
       "      <td>21.0</td>\n",
       "      <td>NaN</td>\n",
       "      <td>NaN</td>\n",
       "      <td>...</td>\n",
       "      <td>/nvmescratch/ceib/Prostate/input/cropped/label...</td>\n",
       "      <td>/nvmescratch/ceib/Prostate/input/labels/anatom...</td>\n",
       "      <td>/nvmescratch/ceib/Prostate/input/labels/anatom...</td>\n",
       "      <td>NaN</td>\n",
       "      <td>2</td>\n",
       "      <td>train</td>\n",
       "      <td>train</td>\n",
       "      <td>test</td>\n",
       "      <td>train</td>\n",
       "      <td>train</td>\n",
       "    </tr>\n",
       "    <tr>\n",
       "      <th>2</th>\n",
       "      <td>1332</td>\n",
       "      <td>11309</td>\n",
       "      <td>1001332</td>\n",
       "      <td>2012-03-04</td>\n",
       "      <td>50</td>\n",
       "      <td>7.5</td>\n",
       "      <td>0.34</td>\n",
       "      <td>22.0</td>\n",
       "      <td>MRBx</td>\n",
       "      <td>0+0</td>\n",
       "      <td>...</td>\n",
       "      <td>/nvmescratch/ceib/Prostate/input/cropped/label...</td>\n",
       "      <td>/nvmescratch/ceib/Prostate/input/labels/anatom...</td>\n",
       "      <td>/nvmescratch/ceib/Prostate/input/labels/anatom...</td>\n",
       "      <td>NaN</td>\n",
       "      <td>1</td>\n",
       "      <td>train</td>\n",
       "      <td>test</td>\n",
       "      <td>train</td>\n",
       "      <td>train</td>\n",
       "      <td>train</td>\n",
       "    </tr>\n",
       "    <tr>\n",
       "      <th>3</th>\n",
       "      <td>1019</td>\n",
       "      <td>11000</td>\n",
       "      <td>1001019</td>\n",
       "      <td>2019-01-11</td>\n",
       "      <td>51</td>\n",
       "      <td>1.2</td>\n",
       "      <td>0.03</td>\n",
       "      <td>33.0</td>\n",
       "      <td>NaN</td>\n",
       "      <td>NaN</td>\n",
       "      <td>...</td>\n",
       "      <td>/nvmescratch/ceib/Prostate/input/cropped/label...</td>\n",
       "      <td>/nvmescratch/ceib/Prostate/input/labels/anatom...</td>\n",
       "      <td>/nvmescratch/ceib/Prostate/input/labels/anatom...</td>\n",
       "      <td>NaN</td>\n",
       "      <td>2</td>\n",
       "      <td>train</td>\n",
       "      <td>train</td>\n",
       "      <td>test</td>\n",
       "      <td>train</td>\n",
       "      <td>train</td>\n",
       "    </tr>\n",
       "    <tr>\n",
       "      <th>4</th>\n",
       "      <td>176</td>\n",
       "      <td>10173</td>\n",
       "      <td>1000176</td>\n",
       "      <td>2016-11-25</td>\n",
       "      <td>64</td>\n",
       "      <td>28.0</td>\n",
       "      <td>NaN</td>\n",
       "      <td>37.0</td>\n",
       "      <td>SysBx</td>\n",
       "      <td>0+0</td>\n",
       "      <td>...</td>\n",
       "      <td>/nvmescratch/ceib/Prostate/input/cropped/label...</td>\n",
       "      <td>/nvmescratch/ceib/Prostate/input/labels/anatom...</td>\n",
       "      <td>/nvmescratch/ceib/Prostate/input/labels/anatom...</td>\n",
       "      <td>NaN</td>\n",
       "      <td>2</td>\n",
       "      <td>train</td>\n",
       "      <td>train</td>\n",
       "      <td>test</td>\n",
       "      <td>train</td>\n",
       "      <td>train</td>\n",
       "    </tr>\n",
       "    <tr>\n",
       "      <th>...</th>\n",
       "      <td>...</td>\n",
       "      <td>...</td>\n",
       "      <td>...</td>\n",
       "      <td>...</td>\n",
       "      <td>...</td>\n",
       "      <td>...</td>\n",
       "      <td>...</td>\n",
       "      <td>...</td>\n",
       "      <td>...</td>\n",
       "      <td>...</td>\n",
       "      <td>...</td>\n",
       "      <td>...</td>\n",
       "      <td>...</td>\n",
       "      <td>...</td>\n",
       "      <td>...</td>\n",
       "      <td>...</td>\n",
       "      <td>...</td>\n",
       "      <td>...</td>\n",
       "      <td>...</td>\n",
       "      <td>...</td>\n",
       "      <td>...</td>\n",
       "    </tr>\n",
       "    <tr>\n",
       "      <th>1488</th>\n",
       "      <td>1350</td>\n",
       "      <td>11327</td>\n",
       "      <td>1001350</td>\n",
       "      <td>2012-06-18</td>\n",
       "      <td>49</td>\n",
       "      <td>3.0</td>\n",
       "      <td>0.10</td>\n",
       "      <td>29.0</td>\n",
       "      <td>MRBx</td>\n",
       "      <td>0+0,0+0</td>\n",
       "      <td>...</td>\n",
       "      <td>/nvmescratch/ceib/Prostate/input/cropped/label...</td>\n",
       "      <td>/nvmescratch/ceib/Prostate/input/labels/anatom...</td>\n",
       "      <td>/nvmescratch/ceib/Prostate/input/labels/anatom...</td>\n",
       "      <td>NaN</td>\n",
       "      <td>3</td>\n",
       "      <td>train</td>\n",
       "      <td>train</td>\n",
       "      <td>train</td>\n",
       "      <td>test</td>\n",
       "      <td>train</td>\n",
       "    </tr>\n",
       "    <tr>\n",
       "      <th>1489</th>\n",
       "      <td>404</td>\n",
       "      <td>10398</td>\n",
       "      <td>1000404</td>\n",
       "      <td>2012-08-07</td>\n",
       "      <td>62</td>\n",
       "      <td>33.0</td>\n",
       "      <td>0.52</td>\n",
       "      <td>64.0</td>\n",
       "      <td>MRBx</td>\n",
       "      <td>3+4</td>\n",
       "      <td>...</td>\n",
       "      <td>/nvmescratch/ceib/Prostate/input/cropped/label...</td>\n",
       "      <td>/nvmescratch/ceib/Prostate/input/labels/anatom...</td>\n",
       "      <td>/nvmescratch/ceib/Prostate/input/labels/anatom...</td>\n",
       "      <td>2.0</td>\n",
       "      <td>3</td>\n",
       "      <td>train</td>\n",
       "      <td>train</td>\n",
       "      <td>train</td>\n",
       "      <td>test</td>\n",
       "      <td>train</td>\n",
       "    </tr>\n",
       "    <tr>\n",
       "      <th>1490</th>\n",
       "      <td>349</td>\n",
       "      <td>10343</td>\n",
       "      <td>1000349</td>\n",
       "      <td>2012-08-24</td>\n",
       "      <td>67</td>\n",
       "      <td>21.9</td>\n",
       "      <td>0.23</td>\n",
       "      <td>92.0</td>\n",
       "      <td>MRBx</td>\n",
       "      <td>3+2,N/A</td>\n",
       "      <td>...</td>\n",
       "      <td>/nvmescratch/ceib/Prostate/input/cropped/label...</td>\n",
       "      <td>/nvmescratch/ceib/Prostate/input/labels/anatom...</td>\n",
       "      <td>/nvmescratch/ceib/Prostate/input/labels/anatom...</td>\n",
       "      <td>NaN</td>\n",
       "      <td>4</td>\n",
       "      <td>train</td>\n",
       "      <td>train</td>\n",
       "      <td>train</td>\n",
       "      <td>train</td>\n",
       "      <td>test</td>\n",
       "    </tr>\n",
       "    <tr>\n",
       "      <th>1491</th>\n",
       "      <td>642</td>\n",
       "      <td>10628</td>\n",
       "      <td>1000642</td>\n",
       "      <td>2019-12-06</td>\n",
       "      <td>43</td>\n",
       "      <td>3.3</td>\n",
       "      <td>NaN</td>\n",
       "      <td>53.0</td>\n",
       "      <td>NaN</td>\n",
       "      <td>NaN</td>\n",
       "      <td>...</td>\n",
       "      <td>/nvmescratch/ceib/Prostate/input/cropped/label...</td>\n",
       "      <td>/nvmescratch/ceib/Prostate/input/labels/anatom...</td>\n",
       "      <td>/nvmescratch/ceib/Prostate/input/labels/anatom...</td>\n",
       "      <td>NaN</td>\n",
       "      <td>1</td>\n",
       "      <td>train</td>\n",
       "      <td>test</td>\n",
       "      <td>train</td>\n",
       "      <td>train</td>\n",
       "      <td>train</td>\n",
       "    </tr>\n",
       "    <tr>\n",
       "      <th>1492</th>\n",
       "      <td>172</td>\n",
       "      <td>10169</td>\n",
       "      <td>1000172</td>\n",
       "      <td>2018-11-25</td>\n",
       "      <td>74</td>\n",
       "      <td>16.0</td>\n",
       "      <td>0.10</td>\n",
       "      <td>170.0</td>\n",
       "      <td>NaN</td>\n",
       "      <td>NaN</td>\n",
       "      <td>...</td>\n",
       "      <td>/nvmescratch/ceib/Prostate/input/cropped/label...</td>\n",
       "      <td>/nvmescratch/ceib/Prostate/input/labels/anatom...</td>\n",
       "      <td>/nvmescratch/ceib/Prostate/input/labels/anatom...</td>\n",
       "      <td>NaN</td>\n",
       "      <td>3</td>\n",
       "      <td>train</td>\n",
       "      <td>train</td>\n",
       "      <td>train</td>\n",
       "      <td>test</td>\n",
       "      <td>train</td>\n",
       "    </tr>\n",
       "  </tbody>\n",
       "</table>\n",
       "<p>1493 rows × 44 columns</p>\n",
       "</div>"
      ],
      "text/plain": [
       "      index  patient_id  study_id   mri_date  patient_age   psa  psad  \\\n",
       "0       353       10347   1000353 2020-07-15           58   9.8  0.17   \n",
       "1       169       10166   1000169 2019-10-09           68   4.3  0.20   \n",
       "2      1332       11309   1001332 2012-03-04           50   7.5  0.34   \n",
       "3      1019       11000   1001019 2019-01-11           51   1.2  0.03   \n",
       "4       176       10173   1000176 2016-11-25           64  28.0   NaN   \n",
       "...     ...         ...       ...        ...          ...   ...   ...   \n",
       "1488   1350       11327   1001350 2012-06-18           49   3.0  0.10   \n",
       "1489    404       10398   1000404 2012-08-07           62  33.0  0.52   \n",
       "1490    349       10343   1000349 2012-08-24           67  21.9  0.23   \n",
       "1491    642       10628   1000642 2019-12-06           43   3.3   NaN   \n",
       "1492    172       10169   1000172 2018-11-25           74  16.0  0.10   \n",
       "\n",
       "      prostate_volume histopath_type lesion_GS  ...  \\\n",
       "0                58.0     SysBx+MRBx   0+0,0+0  ...   \n",
       "1                21.0            NaN       NaN  ...   \n",
       "2                22.0           MRBx       0+0  ...   \n",
       "3                33.0            NaN       NaN  ...   \n",
       "4                37.0          SysBx       0+0  ...   \n",
       "...               ...            ...       ...  ...   \n",
       "1488             29.0           MRBx   0+0,0+0  ...   \n",
       "1489             64.0           MRBx       3+4  ...   \n",
       "1490             92.0           MRBx   3+2,N/A  ...   \n",
       "1491             53.0            NaN       NaN  ...   \n",
       "1492            170.0            NaN       NaN  ...   \n",
       "\n",
       "                               filepath_labelAI_cropped  \\\n",
       "0     /nvmescratch/ceib/Prostate/input/cropped/label...   \n",
       "1     /nvmescratch/ceib/Prostate/input/cropped/label...   \n",
       "2     /nvmescratch/ceib/Prostate/input/cropped/label...   \n",
       "3     /nvmescratch/ceib/Prostate/input/cropped/label...   \n",
       "4     /nvmescratch/ceib/Prostate/input/cropped/label...   \n",
       "...                                                 ...   \n",
       "1488  /nvmescratch/ceib/Prostate/input/cropped/label...   \n",
       "1489  /nvmescratch/ceib/Prostate/input/cropped/label...   \n",
       "1490  /nvmescratch/ceib/Prostate/input/cropped/label...   \n",
       "1491  /nvmescratch/ceib/Prostate/input/cropped/label...   \n",
       "1492  /nvmescratch/ceib/Prostate/input/cropped/label...   \n",
       "\n",
       "                                     filepath_seg_zones  \\\n",
       "0     /nvmescratch/ceib/Prostate/input/labels/anatom...   \n",
       "1     /nvmescratch/ceib/Prostate/input/labels/anatom...   \n",
       "2     /nvmescratch/ceib/Prostate/input/labels/anatom...   \n",
       "3     /nvmescratch/ceib/Prostate/input/labels/anatom...   \n",
       "4     /nvmescratch/ceib/Prostate/input/labels/anatom...   \n",
       "...                                                 ...   \n",
       "1488  /nvmescratch/ceib/Prostate/input/labels/anatom...   \n",
       "1489  /nvmescratch/ceib/Prostate/input/labels/anatom...   \n",
       "1490  /nvmescratch/ceib/Prostate/input/labels/anatom...   \n",
       "1491  /nvmescratch/ceib/Prostate/input/labels/anatom...   \n",
       "1492  /nvmescratch/ceib/Prostate/input/labels/anatom...   \n",
       "\n",
       "                             filepath_seg_zones_cropped  PIRADS cv_partition  \\\n",
       "0     /nvmescratch/ceib/Prostate/input/labels/anatom...     NaN            1   \n",
       "1     /nvmescratch/ceib/Prostate/input/labels/anatom...     NaN            2   \n",
       "2     /nvmescratch/ceib/Prostate/input/labels/anatom...     NaN            1   \n",
       "3     /nvmescratch/ceib/Prostate/input/labels/anatom...     NaN            2   \n",
       "4     /nvmescratch/ceib/Prostate/input/labels/anatom...     NaN            2   \n",
       "...                                                 ...     ...          ...   \n",
       "1488  /nvmescratch/ceib/Prostate/input/labels/anatom...     NaN            3   \n",
       "1489  /nvmescratch/ceib/Prostate/input/labels/anatom...     2.0            3   \n",
       "1490  /nvmescratch/ceib/Prostate/input/labels/anatom...     NaN            4   \n",
       "1491  /nvmescratch/ceib/Prostate/input/labels/anatom...     NaN            1   \n",
       "1492  /nvmescratch/ceib/Prostate/input/labels/anatom...     NaN            3   \n",
       "\n",
       "     Fold 0 Fold 1 Fold 2 Fold 3 Fold 4  \n",
       "0     train   test  train  train  train  \n",
       "1     train  train   test  train  train  \n",
       "2     train   test  train  train  train  \n",
       "3     train  train   test  train  train  \n",
       "4     train  train   test  train  train  \n",
       "...     ...    ...    ...    ...    ...  \n",
       "1488  train  train  train   test  train  \n",
       "1489  train  train  train   test  train  \n",
       "1490  train  train  train  train   test  \n",
       "1491  train   test  train  train  train  \n",
       "1492  train  train  train   test  train  \n",
       "\n",
       "[1493 rows x 44 columns]"
      ]
     },
     "execution_count": 20,
     "metadata": {},
     "output_type": "execute_result"
    }
   ],
   "source": [
    "figs_path = \"Prostate_Cancer_TFM/Data_Analysis/Figures/PICAI\"\n",
    "\n",
    "df = pd.read_csv(\"Prostate_Cancer_TFM/Files/PICAI/partition_1_cv.csv\")\n",
    "df[\"mri_date\"] = pd.to_datetime(df[\"mri_date\"])\n",
    "df"
   ]
  },
  {
   "cell_type": "code",
   "execution_count": 104,
   "metadata": {},
   "outputs": [
    {
     "data": {
      "image/png": "[encoded data removed]",
      "text/plain": [
       "<Figure size 720x432 with 1 Axes>"
      ]
     },
     "metadata": {},
     "output_type": "display_data"
    }
   ],
   "source": [
    "plot_histogram(\n",
    "    df,\n",
    "    \"patient_age\",\n",
    "    color=None,\n",
    "    xlabel=\"Age\",\n",
    "    ylabel=\"Frequency\",\n",
    "    title=\"Age Distribution\",\n",
    ")"
   ]
  },
  {
   "cell_type": "code",
   "execution_count": 13,
   "metadata": {},
   "outputs": [
    {
     "data": {
      "application/vnd.plotly.v1+json": {
       "config": {
        "plotlyServerURL": "https://plot.ly"
       },
       "data": [
        {
         "marker": {
          "color": "#e1846c",
          "line": {
           "color": "DarkSlateGrey",
           "width": 1
          }
         },
         "nbinsx": 20,
         "textposition": "auto",
         "texttemplate": "%{y}",
         "type": "histogram",
         "x": [
          58,
          68,
          50,
          51,
          64,
          58,
          58,
          70,
          73,
          69,
          57,
          75,
          70,
          59,
          59,
          53,
          69,
          76,
          58,
          62,
          66,
          64,
          70,
          64,
          64,
          67,
          64,
          62,
          63,
          62,
          68,
          66,
          64,
          78,
          60,
          64,
          69,
          77,
          61,
          60,
          55,
          60,
          55,
          64,
          61,
          61,
          68,
          73,
          63,
          61,
          67,
          61,
          66,
          67,
          66,
          69,
          56,
          61,
          76,
          68,
          70,
          71,
          69,
          73,
          73,
          58,
          64,
          58,
          61,
          50,
          59,
          69,
          81,
          62,
          61,
          68,
          57,
          62,
          67,
          66,
          66,
          70,
          67,
          63,
          68,
          67,
          59,
          74,
          63,
          75,
          63,
          55,
          70,
          65,
          70,
          68,
          74,
          69,
          69,
          45,
          69,
          75,
          66,
          68,
          60,
          57,
          73,
          60,
          56,
          70,
          65,
          69,
          83,
          55,
          68,
          69,
          68,
          70,
          58,
          54,
          69,
          60,
          69,
          72,
          71,
          64,
          73,
          59,
          69,
          58,
          67,
          68,
          70,
          63,
          56,
          65,
          60,
          57,
          68,
          71,
          73,
          72,
          71,
          62,
          77,
          66,
          74,
          60,
          68,
          66,
          81,
          67,
          67,
          48,
          73,
          70,
          65,
          71,
          62,
          64,
          76,
          67,
          61,
          74,
          64,
          68,
          65,
          67,
          76,
          63,
          69,
          64,
          65,
          78,
          63,
          68,
          63,
          60,
          58,
          73,
          68,
          57,
          75,
          61,
          76,
          69,
          74,
          42,
          74,
          42,
          63,
          63,
          68,
          71,
          60,
          73,
          52,
          74,
          69,
          61,
          71,
          63,
          67,
          75,
          67,
          67,
          61,
          73,
          61,
          74,
          59,
          72,
          71,
          55,
          61,
          54,
          61,
          64,
          70,
          69,
          74,
          61,
          66,
          64,
          63,
          50,
          60,
          63,
          71,
          67,
          67,
          76,
          69,
          64,
          64,
          51,
          72,
          54,
          67,
          68,
          63,
          59,
          76,
          74,
          70,
          66,
          71,
          60,
          74,
          69,
          56,
          76,
          62,
          65,
          72,
          71,
          68,
          54,
          71,
          62,
          75,
          71,
          65,
          74,
          70,
          61,
          58,
          63,
          70,
          59,
          56,
          61,
          72,
          65,
          60,
          55,
          64,
          68,
          75,
          69,
          64,
          59,
          70,
          69,
          71,
          62,
          67,
          65,
          63,
          68,
          68,
          68,
          75,
          78,
          67,
          50,
          72,
          68,
          71,
          73,
          57,
          65,
          67,
          62,
          62,
          69,
          60,
          72,
          59,
          61,
          77,
          73,
          72,
          76,
          75,
          71,
          72,
          61,
          69,
          69,
          69,
          67,
          74,
          72,
          69,
          58,
          64,
          59,
          66,
          52,
          68,
          70,
          63,
          63,
          60,
          65,
          70,
          62,
          65,
          60,
          69,
          70,
          89,
          72,
          56,
          81,
          62,
          75,
          72,
          67,
          55,
          72,
          68,
          59,
          72,
          68,
          63,
          60,
          60,
          65,
          65,
          52,
          67,
          69,
          74,
          74,
          67,
          69,
          56,
          62,
          67,
          69,
          64,
          69,
          68,
          59,
          55,
          63,
          58,
          74,
          73,
          72,
          69,
          68,
          55,
          50,
          63,
          77,
          73,
          67,
          70,
          64,
          52,
          56,
          60,
          56,
          49,
          64,
          58,
          59,
          69,
          65,
          72,
          65,
          56,
          69,
          63,
          78,
          75,
          59,
          59,
          66,
          48,
          75,
          60,
          65,
          73,
          69,
          67,
          73,
          58,
          71,
          62,
          65,
          65,
          54,
          73,
          72,
          64,
          64,
          57,
          57,
          66,
          63,
          62,
          70,
          69,
          72,
          72,
          68,
          68,
          58,
          76,
          68,
          64,
          47,
          68,
          64,
          70,
          68,
          78,
          49,
          59,
          60,
          68,
          66,
          53,
          70,
          55,
          74,
          64,
          68,
          65,
          54,
          75,
          52,
          56,
          64,
          72,
          67,
          67,
          79,
          61,
          62,
          77,
          78,
          69,
          58,
          54,
          68,
          63,
          54,
          67,
          65,
          67,
          64,
          67,
          76,
          52,
          63,
          60,
          60,
          76,
          63,
          60,
          61,
          62,
          67,
          59,
          63,
          63,
          63,
          62,
          67,
          72,
          81,
          72,
          68,
          60,
          58,
          61,
          68,
          64,
          66,
          63,
          65,
          56,
          72,
          64,
          69,
          60,
          67,
          49,
          70,
          76,
          67,
          61,
          70,
          60,
          63,
          68,
          58,
          50,
          63,
          58,
          62,
          72,
          48,
          72,
          66,
          62,
          75,
          66,
          59,
          71,
          65,
          67,
          61,
          68,
          75,
          64,
          69,
          72,
          72,
          57,
          64,
          67,
          69,
          62,
          71,
          73,
          75,
          55,
          67,
          75,
          62,
          75,
          73,
          87,
          66,
          67,
          64,
          57,
          67,
          73,
          60,
          73,
          71,
          55,
          59,
          62,
          64,
          70,
          57,
          79,
          74,
          58,
          73,
          64,
          80,
          62,
          64,
          57,
          56,
          62,
          64,
          65,
          64,
          67,
          76,
          61,
          62,
          66,
          74,
          68,
          62,
          72,
          67,
          78,
          71,
          69,
          63,
          64,
          50,
          69,
          60,
          64,
          63,
          66,
          71,
          72,
          68,
          59,
          67,
          51,
          66,
          66,
          35,
          63,
          61,
          77,
          66,
          76,
          73,
          57,
          65,
          55,
          56,
          69,
          65,
          62,
          55,
          50,
          48,
          66,
          70,
          65,
          66,
          73,
          67,
          66,
          58,
          62,
          66,
          78,
          64,
          65,
          64,
          75,
          75,
          68,
          62,
          74,
          60,
          66,
          62,
          74,
          64,
          59,
          59,
          67,
          64,
          67,
          63,
          70,
          58,
          65,
          60,
          79,
          66,
          58,
          55,
          66,
          70,
          74,
          66,
          63,
          68,
          57,
          63,
          71,
          54,
          71,
          63,
          58,
          61,
          66,
          63,
          72,
          70,
          67,
          68,
          59,
          71,
          58,
          70,
          68,
          73,
          71,
          64,
          75,
          72,
          63,
          68,
          59,
          59,
          78,
          70,
          69,
          74,
          65,
          62,
          49,
          69,
          62,
          59,
          61,
          69,
          63,
          69,
          82,
          68,
          73,
          60,
          75,
          75,
          68,
          67,
          66,
          59,
          62,
          66,
          67,
          73,
          76,
          57,
          81,
          65,
          67,
          56,
          69,
          61,
          58,
          51,
          63,
          64,
          62,
          66,
          73,
          71,
          72,
          56,
          71,
          55,
          58,
          72,
          66,
          65,
          68,
          76,
          71,
          70,
          78,
          64,
          71,
          74,
          69,
          56,
          72,
          56,
          62,
          78,
          69,
          64,
          66,
          72,
          77,
          66,
          65,
          65,
          61,
          64,
          56,
          63,
          62,
          60,
          54,
          65,
          59,
          55,
          70,
          72,
          81,
          56,
          74,
          66,
          75,
          69,
          59,
          65,
          71,
          64,
          67,
          74,
          69,
          76,
          56,
          57,
          68,
          64,
          62,
          71,
          63,
          51,
          67,
          58,
          76,
          79,
          80,
          52,
          46,
          60,
          70,
          57,
          71,
          57,
          65,
          71,
          68,
          58,
          74,
          64,
          71,
          70,
          70,
          55,
          78,
          60,
          60,
          83,
          75,
          54,
          59,
          71,
          68,
          79,
          70,
          69,
          69,
          71,
          65,
          64,
          70,
          66,
          43,
          55,
          59,
          64,
          66,
          68,
          69,
          65,
          71,
          61,
          62,
          61,
          60,
          71,
          77,
          66,
          58,
          61,
          73,
          66,
          65,
          55,
          67,
          58,
          60,
          72,
          60,
          67,
          51,
          69,
          70,
          65,
          64,
          51,
          69,
          64,
          69,
          75,
          69,
          55,
          60,
          75,
          73,
          55,
          67,
          65,
          64,
          49,
          68,
          60,
          71,
          64,
          76,
          71,
          57,
          69,
          53,
          86,
          72,
          56,
          64,
          64,
          68,
          57,
          67,
          61,
          60,
          58,
          73,
          63,
          59,
          68,
          78,
          68,
          73,
          71,
          71,
          58,
          62,
          62,
          61,
          69,
          70,
          70,
          69,
          67,
          70,
          62,
          67,
          47,
          71,
          64,
          69,
          54,
          65,
          68,
          69,
          60,
          60,
          66,
          72,
          63,
          73,
          61,
          55,
          75,
          67,
          73,
          64,
          67,
          61,
          65,
          52,
          63,
          56,
          67,
          56,
          55,
          68,
          73,
          66,
          64,
          51,
          59,
          59,
          59,
          67,
          70,
          69,
          58,
          80,
          65,
          69,
          66,
          72,
          62,
          74,
          71,
          60,
          75,
          78,
          59,
          66,
          73,
          57,
          78,
          55,
          62,
          69,
          74,
          69,
          59,
          65,
          83,
          75,
          67,
          62,
          58,
          75,
          70,
          71,
          68,
          66,
          68,
          67,
          74,
          67,
          49,
          64,
          57,
          81,
          68,
          51,
          60,
          70,
          71,
          69,
          70,
          72,
          68,
          67,
          55,
          63,
          68,
          73,
          67,
          68,
          68,
          66,
          53,
          60,
          63,
          57,
          61,
          67,
          65,
          80,
          69,
          77,
          65,
          63,
          83,
          53,
          65,
          72,
          65,
          68,
          71,
          69,
          69,
          65,
          77,
          62,
          63,
          67,
          65,
          52,
          69,
          69,
          75,
          63,
          56,
          69,
          69,
          64,
          62,
          76,
          71,
          70,
          58,
          72,
          73,
          68,
          77,
          63,
          71,
          67,
          73,
          75,
          65,
          60,
          64,
          73,
          75,
          58,
          66,
          56,
          64,
          70,
          63,
          69,
          62,
          52,
          72,
          75,
          65,
          62,
          68,
          62,
          71,
          62,
          63,
          59,
          61,
          59,
          71,
          62,
          73,
          81,
          66,
          70,
          69,
          63,
          70,
          54,
          56,
          43,
          65,
          63,
          67,
          56,
          58,
          60,
          60,
          70,
          70,
          48,
          70,
          73,
          62,
          68,
          68,
          67,
          72,
          62,
          70,
          71,
          55,
          60,
          67,
          68,
          54,
          77,
          75,
          79,
          54,
          64,
          66,
          76,
          74,
          66,
          67,
          66,
          82,
          75,
          70,
          67,
          70,
          68,
          68,
          57,
          65,
          55,
          64,
          72,
          76,
          50,
          64,
          67,
          74,
          75,
          55,
          76,
          72,
          64,
          63,
          70,
          75,
          78,
          64,
          72,
          63,
          59,
          50,
          70,
          64,
          55,
          62,
          71,
          70,
          58,
          72,
          73,
          61,
          65,
          69,
          73,
          64,
          71,
          68,
          64,
          51,
          60,
          60,
          70,
          59,
          62,
          72,
          71,
          64,
          76,
          54,
          58,
          55,
          60,
          59,
          72,
          48,
          71,
          65,
          61,
          62,
          77,
          67,
          71,
          70,
          52,
          65,
          69,
          63,
          59,
          77,
          67,
          73,
          76,
          79,
          62,
          49,
          65,
          71,
          49,
          60,
          59,
          58,
          63,
          59,
          72,
          68,
          59,
          64,
          61,
          56,
          74,
          68,
          68,
          60,
          69,
          69,
          45,
          68,
          67,
          71,
          58,
          65,
          64,
          69,
          68,
          66,
          67,
          61,
          71,
          70,
          77,
          73,
          64,
          68,
          64,
          54,
          71,
          72,
          77,
          62,
          67,
          77,
          66,
          71,
          61,
          64,
          50,
          59,
          66,
          65,
          76,
          60,
          77,
          65,
          64,
          63,
          71,
          72,
          59,
          39,
          70,
          58,
          60,
          71,
          64,
          56,
          65,
          65,
          71,
          63,
          62,
          68,
          62,
          69,
          66,
          37,
          73,
          70,
          55,
          61,
          71,
          76,
          59,
          58,
          73,
          74,
          70,
          61,
          66,
          65,
          71,
          66,
          77,
          69,
          67,
          62,
          73,
          61,
          70,
          69,
          75,
          83,
          61,
          61,
          65,
          66,
          77,
          68,
          78,
          73,
          58,
          65,
          67,
          66,
          64,
          52,
          65,
          72,
          51,
          51,
          69,
          76,
          92,
          66,
          66,
          72,
          61,
          59,
          79,
          66,
          67,
          81,
          62,
          72,
          50,
          78,
          67,
          64,
          80,
          66,
          61,
          70,
          63,
          62,
          69,
          71,
          73,
          58,
          48,
          71,
          69,
          66,
          69,
          63,
          62,
          56,
          72,
          66,
          67,
          62,
          66,
          62,
          55,
          69,
          68,
          66,
          61,
          53,
          61,
          71,
          65,
          64,
          63,
          70,
          69,
          67,
          65,
          76,
          77,
          73,
          70,
          74,
          58,
          60,
          70,
          76,
          58,
          77,
          68,
          65,
          70,
          64,
          66,
          63,
          73,
          64,
          56,
          62,
          71,
          72,
          48,
          38,
          70,
          53,
          78,
          67,
          58,
          76,
          65,
          69,
          59,
          60,
          63,
          52,
          66,
          54,
          67,
          69,
          63,
          67,
          73,
          65,
          49,
          62,
          67,
          43,
          74
         ]
        }
       ],
       "layout": {
        "paper_bgcolor": "rgba(0,0,0,0)",
        "plot_bgcolor": "rgba(0,0,0,0)",
        "template": {
         "data": {
          "bar": [
           {
            "error_x": {
             "color": "#2a3f5f"
            },
            "error_y": {
             "color": "#2a3f5f"
            },
            "marker": {
             "line": {
              "color": "white",
              "width": 0.5
             },
             "pattern": {
              "fillmode": "overlay",
              "size": 10,
              "solidity": 0.2
             }
            },
            "type": "bar"
           }
          ],
          "barpolar": [
           {
            "marker": {
             "line": {
              "color": "white",
              "width": 0.5
             },
             "pattern": {
              "fillmode": "overlay",
              "size": 10,
              "solidity": 0.2
             }
            },
            "type": "barpolar"
           }
          ],
          "carpet": [
           {
            "aaxis": {
             "endlinecolor": "#2a3f5f",
             "gridcolor": "#C8D4E3",
             "linecolor": "#C8D4E3",
             "minorgridcolor": "#C8D4E3",
             "startlinecolor": "#2a3f5f"
            },
            "baxis": {
             "endlinecolor": "#2a3f5f",
             "gridcolor": "#C8D4E3",
             "linecolor": "#C8D4E3",
             "minorgridcolor": "#C8D4E3",
             "startlinecolor": "#2a3f5f"
            },
            "type": "carpet"
           }
          ],
          "choropleth": [
           {
            "colorbar": {
             "outlinewidth": 0,
             "ticks": ""
            },
            "type": "choropleth"
           }
          ],
          "contour": [
           {
            "colorbar": {
             "outlinewidth": 0,
             "ticks": ""
            },
            "colorscale": [
             [
              0,
              "#0d0887"
             ],
             [
              0.1111111111111111,
              "#46039f"
             ],
             [
              0.2222222222222222,
              "#7201a8"
             ],
             [
              0.3333333333333333,
              "#9c179e"
             ],
             [
              0.4444444444444444,
              "#bd3786"
             ],
             [
              0.5555555555555556,
              "#d8576b"
             ],
             [
              0.6666666666666666,
              "#ed7953"
             ],
             [
              0.7777777777777778,
              "#fb9f3a"
             ],
             [
              0.8888888888888888,
              "#fdca26"
             ],
             [
              1,
              "#f0f921"
             ]
            ],
            "type": "contour"
           }
          ],
          "contourcarpet": [
           {
            "colorbar": {
             "outlinewidth": 0,
             "ticks": ""
            },
            "type": "contourcarpet"
           }
          ],
          "heatmap": [
           {
            "colorbar": {
             "outlinewidth": 0,
             "ticks": ""
            },
            "colorscale": [
             [
              0,
              "#0d0887"
             ],
             [
              0.1111111111111111,
              "#46039f"
             ],
             [
              0.2222222222222222,
              "#7201a8"
             ],
             [
              0.3333333333333333,
              "#9c179e"
             ],
             [
              0.4444444444444444,
              "#bd3786"
             ],
             [
              0.5555555555555556,
              "#d8576b"
             ],
             [
              0.6666666666666666,
              "#ed7953"
             ],
             [
              0.7777777777777778,
              "#fb9f3a"
             ],
             [
              0.8888888888888888,
              "#fdca26"
             ],
             [
              1,
              "#f0f921"
             ]
            ],
            "type": "heatmap"
           }
          ],
          "heatmapgl": [
           {
            "colorbar": {
             "outlinewidth": 0,
             "ticks": ""
            },
            "colorscale": [
             [
              0,
              "#0d0887"
             ],
             [
              0.1111111111111111,
              "#46039f"
             ],
             [
              0.2222222222222222,
              "#7201a8"
             ],
             [
              0.3333333333333333,
              "#9c179e"
             ],
             [
              0.4444444444444444,
              "#bd3786"
             ],
             [
              0.5555555555555556,
              "#d8576b"
             ],
             [
              0.6666666666666666,
              "#ed7953"
             ],
             [
              0.7777777777777778,
              "#fb9f3a"
             ],
             [
              0.8888888888888888,
              "#fdca26"
             ],
             [
              1,
              "#f0f921"
             ]
            ],
            "type": "heatmapgl"
           }
          ],
          "histogram": [
           {
            "marker": {
             "pattern": {
              "fillmode": "overlay",
              "size": 10,
              "solidity": 0.2
             }
            },
            "type": "histogram"
           }
          ],
          "histogram2d": [
           {
            "colorbar": {
             "outlinewidth": 0,
             "ticks": ""
            },
            "colorscale": [
             [
              0,
              "#0d0887"
             ],
             [
              0.1111111111111111,
              "#46039f"
             ],
             [
              0.2222222222222222,
              "#7201a8"
             ],
             [
              0.3333333333333333,
              "#9c179e"
             ],
             [
              0.4444444444444444,
              "#bd3786"
             ],
             [
              0.5555555555555556,
              "#d8576b"
             ],
             [
              0.6666666666666666,
              "#ed7953"
             ],
             [
              0.7777777777777778,
              "#fb9f3a"
             ],
             [
              0.8888888888888888,
              "#fdca26"
             ],
             [
              1,
              "#f0f921"
             ]
            ],
            "type": "histogram2d"
           }
          ],
          "histogram2dcontour": [
           {
            "colorbar": {
             "outlinewidth": 0,
             "ticks": ""
            },
            "colorscale": [
             [
              0,
              "#0d0887"
             ],
             [
              0.1111111111111111,
              "#46039f"
             ],
             [
              0.2222222222222222,
              "#7201a8"
             ],
             [
              0.3333333333333333,
              "#9c179e"
             ],
             [
              0.4444444444444444,
              "#bd3786"
             ],
             [
              0.5555555555555556,
              "#d8576b"
             ],
             [
              0.6666666666666666,
              "#ed7953"
             ],
             [
              0.7777777777777778,
              "#fb9f3a"
             ],
             [
              0.8888888888888888,
              "#fdca26"
             ],
             [
              1,
              "#f0f921"
             ]
            ],
            "type": "histogram2dcontour"
           }
          ],
          "mesh3d": [
           {
            "colorbar": {
             "outlinewidth": 0,
             "ticks": ""
            },
            "type": "mesh3d"
           }
          ],
          "parcoords": [
           {
            "line": {
             "colorbar": {
              "outlinewidth": 0,
              "ticks": ""
             }
            },
            "type": "parcoords"
           }
          ],
          "pie": [
           {
            "automargin": true,
            "type": "pie"
           }
          ],
          "scatter": [
           {
            "fillpattern": {
             "fillmode": "overlay",
             "size": 10,
             "solidity": 0.2
            },
            "type": "scatter"
           }
          ],
          "scatter3d": [
           {
            "line": {
             "colorbar": {
              "outlinewidth": 0,
              "ticks": ""
             }
            },
            "marker": {
             "colorbar": {
              "outlinewidth": 0,
              "ticks": ""
             }
            },
            "type": "scatter3d"
           }
          ],
          "scattercarpet": [
           {
            "marker": {
             "colorbar": {
              "outlinewidth": 0,
              "ticks": ""
             }
            },
            "type": "scattercarpet"
           }
          ],
          "scattergeo": [
           {
            "marker": {
             "colorbar": {
              "outlinewidth": 0,
              "ticks": ""
             }
            },
            "type": "scattergeo"
           }
          ],
          "scattergl": [
           {
            "marker": {
             "colorbar": {
              "outlinewidth": 0,
              "ticks": ""
             }
            },
            "type": "scattergl"
           }
          ],
          "scattermapbox": [
           {
            "marker": {
             "colorbar": {
              "outlinewidth": 0,
              "ticks": ""
             }
            },
            "type": "scattermapbox"
           }
          ],
          "scatterpolar": [
           {
            "marker": {
             "colorbar": {
              "outlinewidth": 0,
              "ticks": ""
             }
            },
            "type": "scatterpolar"
           }
          ],
          "scatterpolargl": [
           {
            "marker": {
             "colorbar": {
              "outlinewidth": 0,
              "ticks": ""
             }
            },
            "type": "scatterpolargl"
           }
          ],
          "scatterternary": [
           {
            "marker": {
             "colorbar": {
              "outlinewidth": 0,
              "ticks": ""
             }
            },
            "type": "scatterternary"
           }
          ],
          "surface": [
           {
            "colorbar": {
             "outlinewidth": 0,
             "ticks": ""
            },
            "colorscale": [
             [
              0,
              "#0d0887"
             ],
             [
              0.1111111111111111,
              "#46039f"
             ],
             [
              0.2222222222222222,
              "#7201a8"
             ],
             [
              0.3333333333333333,
              "#9c179e"
             ],
             [
              0.4444444444444444,
              "#bd3786"
             ],
             [
              0.5555555555555556,
              "#d8576b"
             ],
             [
              0.6666666666666666,
              "#ed7953"
             ],
             [
              0.7777777777777778,
              "#fb9f3a"
             ],
             [
              0.8888888888888888,
              "#fdca26"
             ],
             [
              1,
              "#f0f921"
             ]
            ],
            "type": "surface"
           }
          ],
          "table": [
           {
            "cells": {
             "fill": {
              "color": "#EBF0F8"
             },
             "line": {
              "color": "white"
             }
            },
            "header": {
             "fill": {
              "color": "#C8D4E3"
             },
             "line": {
              "color": "white"
             }
            },
            "type": "table"
           }
          ]
         },
         "layout": {
          "annotationdefaults": {
           "arrowcolor": "#2a3f5f",
           "arrowhead": 0,
           "arrowwidth": 1
          },
          "autotypenumbers": "strict",
          "coloraxis": {
           "colorbar": {
            "outlinewidth": 0,
            "ticks": ""
           }
          },
          "colorscale": {
           "diverging": [
            [
             0,
             "#8e0152"
            ],
            [
             0.1,
             "#c51b7d"
            ],
            [
             0.2,
             "#de77ae"
            ],
            [
             0.3,
             "#f1b6da"
            ],
            [
             0.4,
             "#fde0ef"
            ],
            [
             0.5,
             "#f7f7f7"
            ],
            [
             0.6,
             "#e6f5d0"
            ],
            [
             0.7,
             "#b8e186"
            ],
            [
             0.8,
             "#7fbc41"
            ],
            [
             0.9,
             "#4d9221"
            ],
            [
             1,
             "#276419"
            ]
           ],
           "sequential": [
            [
             0,
             "#0d0887"
            ],
            [
             0.1111111111111111,
             "#46039f"
            ],
            [
             0.2222222222222222,
             "#7201a8"
            ],
            [
             0.3333333333333333,
             "#9c179e"
            ],
            [
             0.4444444444444444,
             "#bd3786"
            ],
            [
             0.5555555555555556,
             "#d8576b"
            ],
            [
             0.6666666666666666,
             "#ed7953"
            ],
            [
             0.7777777777777778,
             "#fb9f3a"
            ],
            [
             0.8888888888888888,
             "#fdca26"
            ],
            [
             1,
             "#f0f921"
            ]
           ],
           "sequentialminus": [
            [
             0,
             "#0d0887"
            ],
            [
             0.1111111111111111,
             "#46039f"
            ],
            [
             0.2222222222222222,
             "#7201a8"
            ],
            [
             0.3333333333333333,
             "#9c179e"
            ],
            [
             0.4444444444444444,
             "#bd3786"
            ],
            [
             0.5555555555555556,
             "#d8576b"
            ],
            [
             0.6666666666666666,
             "#ed7953"
            ],
            [
             0.7777777777777778,
             "#fb9f3a"
            ],
            [
             0.8888888888888888,
             "#fdca26"
            ],
            [
             1,
             "#f0f921"
            ]
           ]
          },
          "colorway": [
           "#636efa",
           "#EF553B",
           "#00cc96",
           "#ab63fa",
           "#FFA15A",
           "#19d3f3",
           "#FF6692",
           "#B6E880",
           "#FF97FF",
           "#FECB52"
          ],
          "font": {
           "color": "#2a3f5f"
          },
          "geo": {
           "bgcolor": "white",
           "lakecolor": "white",
           "landcolor": "white",
           "showlakes": true,
           "showland": true,
           "subunitcolor": "#C8D4E3"
          },
          "hoverlabel": {
           "align": "left"
          },
          "hovermode": "closest",
          "mapbox": {
           "style": "light"
          },
          "paper_bgcolor": "white",
          "plot_bgcolor": "white",
          "polar": {
           "angularaxis": {
            "gridcolor": "#EBF0F8",
            "linecolor": "#EBF0F8",
            "ticks": ""
           },
           "bgcolor": "white",
           "radialaxis": {
            "gridcolor": "#EBF0F8",
            "linecolor": "#EBF0F8",
            "ticks": ""
           }
          },
          "scene": {
           "xaxis": {
            "backgroundcolor": "white",
            "gridcolor": "#DFE8F3",
            "gridwidth": 2,
            "linecolor": "#EBF0F8",
            "showbackground": true,
            "ticks": "",
            "zerolinecolor": "#EBF0F8"
           },
           "yaxis": {
            "backgroundcolor": "white",
            "gridcolor": "#DFE8F3",
            "gridwidth": 2,
            "linecolor": "#EBF0F8",
            "showbackground": true,
            "ticks": "",
            "zerolinecolor": "#EBF0F8"
           },
           "zaxis": {
            "backgroundcolor": "white",
            "gridcolor": "#DFE8F3",
            "gridwidth": 2,
            "linecolor": "#EBF0F8",
            "showbackground": true,
            "ticks": "",
            "zerolinecolor": "#EBF0F8"
           }
          },
          "shapedefaults": {
           "line": {
            "color": "#2a3f5f"
           }
          },
          "ternary": {
           "aaxis": {
            "gridcolor": "#DFE8F3",
            "linecolor": "#A2B1C6",
            "ticks": ""
           },
           "baxis": {
            "gridcolor": "#DFE8F3",
            "linecolor": "#A2B1C6",
            "ticks": ""
           },
           "bgcolor": "white",
           "caxis": {
            "gridcolor": "#DFE8F3",
            "linecolor": "#A2B1C6",
            "ticks": ""
           }
          },
          "title": {
           "x": 0.05
          },
          "xaxis": {
           "automargin": true,
           "gridcolor": "#EBF0F8",
           "linecolor": "#EBF0F8",
           "ticks": "",
           "title": {
            "standoff": 15
           },
           "zerolinecolor": "#EBF0F8",
           "zerolinewidth": 2
          },
          "yaxis": {
           "automargin": true,
           "gridcolor": "#EBF0F8",
           "linecolor": "#EBF0F8",
           "ticks": "",
           "title": {
            "standoff": 15
           },
           "zerolinecolor": "#EBF0F8",
           "zerolinewidth": 2
          }
         }
        },
        "title": {
         "text": "Age Distribution PICAI"
        },
        "xaxis": {
         "title": {
          "text": "Age"
         }
        },
        "yaxis": {
         "automargin": true,
         "title": {
          "text": "Count"
         }
        }
       }
      },
      "text/html": [
       "<div>                            <div id=\"99ef54db-5d41-45c2-b3ff-84624c1594ba\" class=\"plotly-graph-div\" style=\"height:525px; width:100%;\"></div>            <script type=\"text/javascript\">                require([\"plotly\"], function(Plotly) {                    window.PLOTLYENV=window.PLOTLYENV || {};                                    if (document.getElementById(\"99ef54db-5d41-45c2-b3ff-84624c1594ba\")) {                    Plotly.newPlot(                        \"99ef54db-5d41-45c2-b3ff-84624c1594ba\",                        [{\"marker\":{\"color\":\"#e1846c\",\"line\":{\"color\":\"DarkSlateGrey\",\"width\":1}},\"nbinsx\":20,\"x\":[58,68,50,51,64,58,58,70,73,69,57,75,70,59,59,53,69,76,58,62,66,64,70,64,64,67,64,62,63,62,68,66,64,78,60,64,69,77,61,60,55,60,55,64,61,61,68,73,63,61,67,61,66,67,66,69,56,61,76,68,70,71,69,73,73,58,64,58,61,50,59,69,81,62,61,68,57,62,67,66,66,70,67,63,68,67,59,74,63,75,63,55,70,65,70,68,74,69,69,45,69,75,66,68,60,57,73,60,56,70,65,69,83,55,68,69,68,70,58,54,69,60,69,72,71,64,73,59,69,58,67,68,70,63,56,65,60,57,68,71,73,72,71,62,77,66,74,60,68,66,81,67,67,48,73,70,65,71,62,64,76,67,61,74,64,68,65,67,76,63,69,64,65,78,63,68,63,60,58,73,68,57,75,61,76,69,74,42,74,42,63,63,68,71,60,73,52,74,69,61,71,63,67,75,67,67,61,73,61,74,59,72,71,55,61,54,61,64,70,69,74,61,66,64,63,50,60,63,71,67,67,76,69,64,64,51,72,54,67,68,63,59,76,74,70,66,71,60,74,69,56,76,62,65,72,71,68,54,71,62,75,71,65,74,70,61,58,63,70,59,56,61,72,65,60,55,64,68,75,69,64,59,70,69,71,62,67,65,63,68,68,68,75,78,67,50,72,68,71,73,57,65,67,62,62,69,60,72,59,61,77,73,72,76,75,71,72,61,69,69,69,67,74,72,69,58,64,59,66,52,68,70,63,63,60,65,70,62,65,60,69,70,89,72,56,81,62,75,72,67,55,72,68,59,72,68,63,60,60,65,65,52,67,69,74,74,67,69,56,62,67,69,64,69,68,59,55,63,58,74,73,72,69,68,55,50,63,77,73,67,70,64,52,56,60,56,49,64,58,59,69,65,72,65,56,69,63,78,75,59,59,66,48,75,60,65,73,69,67,73,58,71,62,65,65,54,73,72,64,64,57,57,66,63,62,70,69,72,72,68,68,58,76,68,64,47,68,64,70,68,78,49,59,60,68,66,53,70,55,74,64,68,65,54,75,52,56,64,72,67,67,79,61,62,77,78,69,58,54,68,63,54,67,65,67,64,67,76,52,63,60,60,76,63,60,61,62,67,59,63,63,63,62,67,72,81,72,68,60,58,61,68,64,66,63,65,56,72,64,69,60,67,49,70,76,67,61,70,60,63,68,58,50,63,58,62,72,48,72,66,62,75,66,59,71,65,67,61,68,75,64,69,72,72,57,64,67,69,62,71,73,75,55,67,75,62,75,73,87,66,67,64,57,67,73,60,73,71,55,59,62,64,70,57,79,74,58,73,64,80,62,64,57,56,62,64,65,64,67,76,61,62,66,74,68,62,72,67,78,71,69,63,64,50,69,60,64,63,66,71,72,68,59,67,51,66,66,35,63,61,77,66,76,73,57,65,55,56,69,65,62,55,50,48,66,70,65,66,73,67,66,58,62,66,78,64,65,64,75,75,68,62,74,60,66,62,74,64,59,59,67,64,67,63,70,58,65,60,79,66,58,55,66,70,74,66,63,68,57,63,71,54,71,63,58,61,66,63,72,70,67,68,59,71,58,70,68,73,71,64,75,72,63,68,59,59,78,70,69,74,65,62,49,69,62,59,61,69,63,69,82,68,73,60,75,75,68,67,66,59,62,66,67,73,76,57,81,65,67,56,69,61,58,51,63,64,62,66,73,71,72,56,71,55,58,72,66,65,68,76,71,70,78,64,71,74,69,56,72,56,62,78,69,64,66,72,77,66,65,65,61,64,56,63,62,60,54,65,59,55,70,72,81,56,74,66,75,69,59,65,71,64,67,74,69,76,56,57,68,64,62,71,63,51,67,58,76,79,80,52,46,60,70,57,71,57,65,71,68,58,74,64,71,70,70,55,78,60,60,83,75,54,59,71,68,79,70,69,69,71,65,64,70,66,43,55,59,64,66,68,69,65,71,61,62,61,60,71,77,66,58,61,73,66,65,55,67,58,60,72,60,67,51,69,70,65,64,51,69,64,69,75,69,55,60,75,73,55,67,65,64,49,68,60,71,64,76,71,57,69,53,86,72,56,64,64,68,57,67,61,60,58,73,63,59,68,78,68,73,71,71,58,62,62,61,69,70,70,69,67,70,62,67,47,71,64,69,54,65,68,69,60,60,66,72,63,73,61,55,75,67,73,64,67,61,65,52,63,56,67,56,55,68,73,66,64,51,59,59,59,67,70,69,58,80,65,69,66,72,62,74,71,60,75,78,59,66,73,57,78,55,62,69,74,69,59,65,83,75,67,62,58,75,70,71,68,66,68,67,74,67,49,64,57,81,68,51,60,70,71,69,70,72,68,67,55,63,68,73,67,68,68,66,53,60,63,57,61,67,65,80,69,77,65,63,83,53,65,72,65,68,71,69,69,65,77,62,63,67,65,52,69,69,75,63,56,69,69,64,62,76,71,70,58,72,73,68,77,63,71,67,73,75,65,60,64,73,75,58,66,56,64,70,63,69,62,52,72,75,65,62,68,62,71,62,63,59,61,59,71,62,73,81,66,70,69,63,70,54,56,43,65,63,67,56,58,60,60,70,70,48,70,73,62,68,68,67,72,62,70,71,55,60,67,68,54,77,75,79,54,64,66,76,74,66,67,66,82,75,70,67,70,68,68,57,65,55,64,72,76,50,64,67,74,75,55,76,72,64,63,70,75,78,64,72,63,59,50,70,64,55,62,71,70,58,72,73,61,65,69,73,64,71,68,64,51,60,60,70,59,62,72,71,64,76,54,58,55,60,59,72,48,71,65,61,62,77,67,71,70,52,65,69,63,59,77,67,73,76,79,62,49,65,71,49,60,59,58,63,59,72,68,59,64,61,56,74,68,68,60,69,69,45,68,67,71,58,65,64,69,68,66,67,61,71,70,77,73,64,68,64,54,71,72,77,62,67,77,66,71,61,64,50,59,66,65,76,60,77,65,64,63,71,72,59,39,70,58,60,71,64,56,65,65,71,63,62,68,62,69,66,37,73,70,55,61,71,76,59,58,73,74,70,61,66,65,71,66,77,69,67,62,73,61,70,69,75,83,61,61,65,66,77,68,78,73,58,65,67,66,64,52,65,72,51,51,69,76,92,66,66,72,61,59,79,66,67,81,62,72,50,78,67,64,80,66,61,70,63,62,69,71,73,58,48,71,69,66,69,63,62,56,72,66,67,62,66,62,55,69,68,66,61,53,61,71,65,64,63,70,69,67,65,76,77,73,70,74,58,60,70,76,58,77,68,65,70,64,66,63,73,64,56,62,71,72,48,38,70,53,78,67,58,76,65,69,59,60,63,52,66,54,67,69,63,67,73,65,49,62,67,43,74],\"type\":\"histogram\",\"textposition\":\"auto\",\"texttemplate\":\"%{y}\"}],                        {\"template\":{\"data\":{\"barpolar\":[{\"marker\":{\"line\":{\"color\":\"white\",\"width\":0.5},\"pattern\":{\"fillmode\":\"overlay\",\"size\":10,\"solidity\":0.2}},\"type\":\"barpolar\"}],\"bar\":[{\"error_x\":{\"color\":\"#2a3f5f\"},\"error_y\":{\"color\":\"#2a3f5f\"},\"marker\":{\"line\":{\"color\":\"white\",\"width\":0.5},\"pattern\":{\"fillmode\":\"overlay\",\"size\":10,\"solidity\":0.2}},\"type\":\"bar\"}],\"carpet\":[{\"aaxis\":{\"endlinecolor\":\"#2a3f5f\",\"gridcolor\":\"#C8D4E3\",\"linecolor\":\"#C8D4E3\",\"minorgridcolor\":\"#C8D4E3\",\"startlinecolor\":\"#2a3f5f\"},\"baxis\":{\"endlinecolor\":\"#2a3f5f\",\"gridcolor\":\"#C8D4E3\",\"linecolor\":\"#C8D4E3\",\"minorgridcolor\":\"#C8D4E3\",\"startlinecolor\":\"#2a3f5f\"},\"type\":\"carpet\"}],\"choropleth\":[{\"colorbar\":{\"outlinewidth\":0,\"ticks\":\"\"},\"type\":\"choropleth\"}],\"contourcarpet\":[{\"colorbar\":{\"outlinewidth\":0,\"ticks\":\"\"},\"type\":\"contourcarpet\"}],\"contour\":[{\"colorbar\":{\"outlinewidth\":0,\"ticks\":\"\"},\"colorscale\":[[0.0,\"#0d0887\"],[0.1111111111111111,\"#46039f\"],[0.2222222222222222,\"#7201a8\"],[0.3333333333333333,\"#9c179e\"],[0.4444444444444444,\"#bd3786\"],[0.5555555555555556,\"#d8576b\"],[0.6666666666666666,\"#ed7953\"],[0.7777777777777778,\"#fb9f3a\"],[0.8888888888888888,\"#fdca26\"],[1.0,\"#f0f921\"]],\"type\":\"contour\"}],\"heatmapgl\":[{\"colorbar\":{\"outlinewidth\":0,\"ticks\":\"\"},\"colorscale\":[[0.0,\"#0d0887\"],[0.1111111111111111,\"#46039f\"],[0.2222222222222222,\"#7201a8\"],[0.3333333333333333,\"#9c179e\"],[0.4444444444444444,\"#bd3786\"],[0.5555555555555556,\"#d8576b\"],[0.6666666666666666,\"#ed7953\"],[0.7777777777777778,\"#fb9f3a\"],[0.8888888888888888,\"#fdca26\"],[1.0,\"#f0f921\"]],\"type\":\"heatmapgl\"}],\"heatmap\":[{\"colorbar\":{\"outlinewidth\":0,\"ticks\":\"\"},\"colorscale\":[[0.0,\"#0d0887\"],[0.1111111111111111,\"#46039f\"],[0.2222222222222222,\"#7201a8\"],[0.3333333333333333,\"#9c179e\"],[0.4444444444444444,\"#bd3786\"],[0.5555555555555556,\"#d8576b\"],[0.6666666666666666,\"#ed7953\"],[0.7777777777777778,\"#fb9f3a\"],[0.8888888888888888,\"#fdca26\"],[1.0,\"#f0f921\"]],\"type\":\"heatmap\"}],\"histogram2dcontour\":[{\"colorbar\":{\"outlinewidth\":0,\"ticks\":\"\"},\"colorscale\":[[0.0,\"#0d0887\"],[0.1111111111111111,\"#46039f\"],[0.2222222222222222,\"#7201a8\"],[0.3333333333333333,\"#9c179e\"],[0.4444444444444444,\"#bd3786\"],[0.5555555555555556,\"#d8576b\"],[0.6666666666666666,\"#ed7953\"],[0.7777777777777778,\"#fb9f3a\"],[0.8888888888888888,\"#fdca26\"],[1.0,\"#f0f921\"]],\"type\":\"histogram2dcontour\"}],\"histogram2d\":[{\"colorbar\":{\"outlinewidth\":0,\"ticks\":\"\"},\"colorscale\":[[0.0,\"#0d0887\"],[0.1111111111111111,\"#46039f\"],[0.2222222222222222,\"#7201a8\"],[0.3333333333333333,\"#9c179e\"],[0.4444444444444444,\"#bd3786\"],[0.5555555555555556,\"#d8576b\"],[0.6666666666666666,\"#ed7953\"],[0.7777777777777778,\"#fb9f3a\"],[0.8888888888888888,\"#fdca26\"],[1.0,\"#f0f921\"]],\"type\":\"histogram2d\"}],\"histogram\":[{\"marker\":{\"pattern\":{\"fillmode\":\"overlay\",\"size\":10,\"solidity\":0.2}},\"type\":\"histogram\"}],\"mesh3d\":[{\"colorbar\":{\"outlinewidth\":0,\"ticks\":\"\"},\"type\":\"mesh3d\"}],\"parcoords\":[{\"line\":{\"colorbar\":{\"outlinewidth\":0,\"ticks\":\"\"}},\"type\":\"parcoords\"}],\"pie\":[{\"automargin\":true,\"type\":\"pie\"}],\"scatter3d\":[{\"line\":{\"colorbar\":{\"outlinewidth\":0,\"ticks\":\"\"}},\"marker\":{\"colorbar\":{\"outlinewidth\":0,\"ticks\":\"\"}},\"type\":\"scatter3d\"}],\"scattercarpet\":[{\"marker\":{\"colorbar\":{\"outlinewidth\":0,\"ticks\":\"\"}},\"type\":\"scattercarpet\"}],\"scattergeo\":[{\"marker\":{\"colorbar\":{\"outlinewidth\":0,\"ticks\":\"\"}},\"type\":\"scattergeo\"}],\"scattergl\":[{\"marker\":{\"colorbar\":{\"outlinewidth\":0,\"ticks\":\"\"}},\"type\":\"scattergl\"}],\"scattermapbox\":[{\"marker\":{\"colorbar\":{\"outlinewidth\":0,\"ticks\":\"\"}},\"type\":\"scattermapbox\"}],\"scatterpolargl\":[{\"marker\":{\"colorbar\":{\"outlinewidth\":0,\"ticks\":\"\"}},\"type\":\"scatterpolargl\"}],\"scatterpolar\":[{\"marker\":{\"colorbar\":{\"outlinewidth\":0,\"ticks\":\"\"}},\"type\":\"scatterpolar\"}],\"scatter\":[{\"fillpattern\":{\"fillmode\":\"overlay\",\"size\":10,\"solidity\":0.2},\"type\":\"scatter\"}],\"scatterternary\":[{\"marker\":{\"colorbar\":{\"outlinewidth\":0,\"ticks\":\"\"}},\"type\":\"scatterternary\"}],\"surface\":[{\"colorbar\":{\"outlinewidth\":0,\"ticks\":\"\"},\"colorscale\":[[0.0,\"#0d0887\"],[0.1111111111111111,\"#46039f\"],[0.2222222222222222,\"#7201a8\"],[0.3333333333333333,\"#9c179e\"],[0.4444444444444444,\"#bd3786\"],[0.5555555555555556,\"#d8576b\"],[0.6666666666666666,\"#ed7953\"],[0.7777777777777778,\"#fb9f3a\"],[0.8888888888888888,\"#fdca26\"],[1.0,\"#f0f921\"]],\"type\":\"surface\"}],\"table\":[{\"cells\":{\"fill\":{\"color\":\"#EBF0F8\"},\"line\":{\"color\":\"white\"}},\"header\":{\"fill\":{\"color\":\"#C8D4E3\"},\"line\":{\"color\":\"white\"}},\"type\":\"table\"}]},\"layout\":{\"annotationdefaults\":{\"arrowcolor\":\"#2a3f5f\",\"arrowhead\":0,\"arrowwidth\":1},\"autotypenumbers\":\"strict\",\"coloraxis\":{\"colorbar\":{\"outlinewidth\":0,\"ticks\":\"\"}},\"colorscale\":{\"diverging\":[[0,\"#8e0152\"],[0.1,\"#c51b7d\"],[0.2,\"#de77ae\"],[0.3,\"#f1b6da\"],[0.4,\"#fde0ef\"],[0.5,\"#f7f7f7\"],[0.6,\"#e6f5d0\"],[0.7,\"#b8e186\"],[0.8,\"#7fbc41\"],[0.9,\"#4d9221\"],[1,\"#276419\"]],\"sequential\":[[0.0,\"#0d0887\"],[0.1111111111111111,\"#46039f\"],[0.2222222222222222,\"#7201a8\"],[0.3333333333333333,\"#9c179e\"],[0.4444444444444444,\"#bd3786\"],[0.5555555555555556,\"#d8576b\"],[0.6666666666666666,\"#ed7953\"],[0.7777777777777778,\"#fb9f3a\"],[0.8888888888888888,\"#fdca26\"],[1.0,\"#f0f921\"]],\"sequentialminus\":[[0.0,\"#0d0887\"],[0.1111111111111111,\"#46039f\"],[0.2222222222222222,\"#7201a8\"],[0.3333333333333333,\"#9c179e\"],[0.4444444444444444,\"#bd3786\"],[0.5555555555555556,\"#d8576b\"],[0.6666666666666666,\"#ed7953\"],[0.7777777777777778,\"#fb9f3a\"],[0.8888888888888888,\"#fdca26\"],[1.0,\"#f0f921\"]]},\"colorway\":[\"#636efa\",\"#EF553B\",\"#00cc96\",\"#ab63fa\",\"#FFA15A\",\"#19d3f3\",\"#FF6692\",\"#B6E880\",\"#FF97FF\",\"#FECB52\"],\"font\":{\"color\":\"#2a3f5f\"},\"geo\":{\"bgcolor\":\"white\",\"lakecolor\":\"white\",\"landcolor\":\"white\",\"showlakes\":true,\"showland\":true,\"subunitcolor\":\"#C8D4E3\"},\"hoverlabel\":{\"align\":\"left\"},\"hovermode\":\"closest\",\"mapbox\":{\"style\":\"light\"},\"paper_bgcolor\":\"white\",\"plot_bgcolor\":\"white\",\"polar\":{\"angularaxis\":{\"gridcolor\":\"#EBF0F8\",\"linecolor\":\"#EBF0F8\",\"ticks\":\"\"},\"bgcolor\":\"white\",\"radialaxis\":{\"gridcolor\":\"#EBF0F8\",\"linecolor\":\"#EBF0F8\",\"ticks\":\"\"}},\"scene\":{\"xaxis\":{\"backgroundcolor\":\"white\",\"gridcolor\":\"#DFE8F3\",\"gridwidth\":2,\"linecolor\":\"#EBF0F8\",\"showbackground\":true,\"ticks\":\"\",\"zerolinecolor\":\"#EBF0F8\"},\"yaxis\":{\"backgroundcolor\":\"white\",\"gridcolor\":\"#DFE8F3\",\"gridwidth\":2,\"linecolor\":\"#EBF0F8\",\"showbackground\":true,\"ticks\":\"\",\"zerolinecolor\":\"#EBF0F8\"},\"zaxis\":{\"backgroundcolor\":\"white\",\"gridcolor\":\"#DFE8F3\",\"gridwidth\":2,\"linecolor\":\"#EBF0F8\",\"showbackground\":true,\"ticks\":\"\",\"zerolinecolor\":\"#EBF0F8\"}},\"shapedefaults\":{\"line\":{\"color\":\"#2a3f5f\"}},\"ternary\":{\"aaxis\":{\"gridcolor\":\"#DFE8F3\",\"linecolor\":\"#A2B1C6\",\"ticks\":\"\"},\"baxis\":{\"gridcolor\":\"#DFE8F3\",\"linecolor\":\"#A2B1C6\",\"ticks\":\"\"},\"bgcolor\":\"white\",\"caxis\":{\"gridcolor\":\"#DFE8F3\",\"linecolor\":\"#A2B1C6\",\"ticks\":\"\"}},\"title\":{\"x\":0.05},\"xaxis\":{\"automargin\":true,\"gridcolor\":\"#EBF0F8\",\"linecolor\":\"#EBF0F8\",\"ticks\":\"\",\"title\":{\"standoff\":15},\"zerolinecolor\":\"#EBF0F8\",\"zerolinewidth\":2},\"yaxis\":{\"automargin\":true,\"gridcolor\":\"#EBF0F8\",\"linecolor\":\"#EBF0F8\",\"ticks\":\"\",\"title\":{\"standoff\":15},\"zerolinecolor\":\"#EBF0F8\",\"zerolinewidth\":2}}},\"title\":{\"text\":\"Age Distribution PICAI\"},\"xaxis\":{\"title\":{\"text\":\"Age\"}},\"yaxis\":{\"title\":{\"text\":\"Count\"},\"automargin\":true},\"plot_bgcolor\":\"rgba(0,0,0,0)\",\"paper_bgcolor\":\"rgba(0,0,0,0)\"},                        {\"responsive\": true}                    ).then(function(){\n",
       "                            \n",
       "var gd = document.getElementById('99ef54db-5d41-45c2-b3ff-84624c1594ba');\n",
       "var x = new MutationObserver(function (mutations, observer) {{\n",
       "        var display = window.getComputedStyle(gd).display;\n",
       "        if (!display || display === 'none') {{\n",
       "            console.log([gd, 'removed!']);\n",
       "            Plotly.purge(gd);\n",
       "            observer.disconnect();\n",
       "        }}\n",
       "}});\n",
       "\n",
       "// Listen for the removal of the full notebook cells\n",
       "var notebookContainer = gd.closest('#notebook-container');\n",
       "if (notebookContainer) {{\n",
       "    x.observe(notebookContainer, {childList: true});\n",
       "}}\n",
       "\n",
       "// Listen for the clearing of the current output cell\n",
       "var outputEl = gd.closest('.output');\n",
       "if (outputEl) {{\n",
       "    x.observe(outputEl, {childList: true});\n",
       "}}\n",
       "\n",
       "                        })                };                });            </script>        </div>"
      ]
     },
     "metadata": {},
     "output_type": "display_data"
    }
   ],
   "source": [
    "plot_histogram_plotly(\n",
    "    df,\n",
    "    \"patient_age\",\n",
    "    \"Age Distribution PICAI\",\n",
    "    \"Age\",\n",
    "    \"Count\",\n",
    "    20,\n",
    "    fig_name=os.path.join(figs_path, \"age_distribution_picai.pdf\"),\n",
    ")"
   ]
  },
  {
   "cell_type": "code",
   "execution_count": 30,
   "metadata": {},
   "outputs": [
    {
     "data": {
      "application/vnd.plotly.v1+json": {
       "config": {
        "plotlyServerURL": "https://plot.ly"
       },
       "data": [
        {
         "marker": {
          "color": "#e1846c",
          "line": {
           "color": "DarkSlateGrey",
           "width": 1
          }
         },
         "nbinsx": 20,
         "textposition": "auto",
         "texttemplate": "%{y}",
         "type": "histogram",
         "x": [
          9.8,
          4.3,
          7.5,
          1.2,
          28,
          4.1,
          5.2,
          7.7,
          15,
          10,
          5.37,
          24.4,
          4.9,
          19,
          4.3,
          9.99,
          9.8,
          4.1,
          9.5,
          6.51,
          3.9,
          11.1,
          6,
          19,
          6.2,
          4.5,
          9.99,
          20,
          4.1,
          4.1,
          11,
          6.8,
          12,
          13,
          10,
          11.9,
          5.9,
          15,
          13.5,
          17,
          94,
          5.3,
          82,
          24,
          9.4,
          3.4,
          2.5,
          8.1,
          8.3,
          5.3,
          5.1,
          4,
          51,
          18,
          3.9,
          5.6,
          9.7,
          7.3,
          9,
          0.44,
          10,
          12,
          9,
          6.3,
          7.7,
          10,
          5.12,
          5.8,
          6.1,
          5,
          5.1,
          8.8,
          5.28,
          13,
          7.4,
          5.1,
          4.8,
          6,
          23,
          6.2,
          15.8,
          15,
          4.5,
          9.8,
          8.1,
          9.3,
          5,
          6.2,
          9.8,
          3.3,
          7.2,
          15,
          12,
          null,
          6.05,
          18.2,
          9.7,
          16.2,
          9.4,
          1.4,
          5,
          3,
          2.7,
          6.6,
          0.56,
          11.8,
          13.7,
          9.6,
          3.9,
          17,
          null,
          7.4,
          14,
          5,
          7.7,
          7,
          15,
          8.8,
          21,
          12.2,
          19.6,
          7.1,
          31,
          7.4,
          6.4,
          11,
          38,
          10.4,
          13,
          6,
          4.8,
          14,
          13,
          2.5,
          28.3,
          52,
          6,
          8.2,
          6.2,
          9.4,
          7.2,
          3.3,
          null,
          8.2,
          7.8,
          11.3,
          null,
          10.8,
          6.5,
          4.9,
          11.1,
          4,
          4.2,
          16.12,
          18,
          7.69,
          5.2,
          13.2,
          6.9,
          null,
          7,
          6,
          7.4,
          36.8,
          6.5,
          6.6,
          4.08,
          9.7,
          4.3,
          6.8,
          11,
          5.5,
          7.7,
          null,
          9.9,
          6.7,
          11.4,
          19,
          21,
          7.1,
          12,
          2.5,
          6.6,
          12,
          18,
          10.92,
          19,
          3.6,
          5.8,
          7.6,
          8.6,
          13,
          9,
          4.3,
          6,
          19.18,
          7.4,
          12,
          52,
          7.6,
          12,
          10,
          4.6,
          8.8,
          33,
          3.7,
          6.6,
          8.8,
          null,
          187,
          9.2,
          18.7,
          5.6,
          8.9,
          6.3,
          3.9,
          14,
          13,
          8.7,
          9.3,
          4.7,
          15,
          5.7,
          5.7,
          1.6,
          6.8,
          6.3,
          28,
          9.91,
          15,
          11.4,
          9.4,
          15,
          3.9,
          6.4,
          6,
          9.2,
          5.4,
          null,
          5,
          13,
          14.4,
          13.6,
          3.87,
          15.1,
          3.8,
          7.5,
          3.1,
          9.8,
          8.03,
          14,
          7.1,
          6.3,
          7.7,
          9,
          26,
          2.2,
          4.06,
          9,
          11.3,
          4.4,
          23,
          5.61,
          36,
          71,
          6.9,
          7.1,
          17.9,
          6,
          6.5,
          9,
          20,
          6.4,
          null,
          6,
          4.75,
          17,
          0.4,
          18,
          6.4,
          5.7,
          16,
          10,
          6.6,
          3.3,
          20,
          10.4,
          1.6,
          2.5,
          5,
          4.8,
          6.2,
          29.6,
          22.5,
          11.5,
          4.6,
          7.4,
          3.83,
          8.4,
          12.94,
          7.8,
          2.89,
          7.7,
          22,
          10.3,
          8.4,
          6.2,
          18.3,
          6.1,
          6,
          6,
          11,
          50,
          17,
          9.6,
          5.3,
          12.7,
          23,
          6.4,
          4.5,
          14.18,
          5.7,
          7.6,
          2.2,
          19,
          10.4,
          10,
          1.2,
          9.7,
          5.400000000000001,
          null,
          null,
          4.8,
          4.9,
          5,
          24,
          6.5,
          17,
          7.2,
          8.5,
          21.3,
          10.3,
          11.2,
          7,
          11.5,
          36,
          11,
          2.2,
          7.5,
          8.2,
          6.6,
          8.2,
          29,
          32,
          33,
          5.32,
          135,
          19,
          16.6,
          6.1,
          5.5,
          5.2,
          15,
          12.6,
          11,
          11,
          9,
          9.9,
          6.2,
          4.1,
          7.8,
          4.3,
          8.7,
          8.2,
          4.73,
          null,
          13.4,
          5.1,
          14,
          4.6,
          10,
          2.4,
          6.3,
          11,
          7.9,
          10,
          4,
          7.1,
          7,
          13,
          5.63,
          4.3,
          2,
          1.5,
          5.9,
          5.2,
          8.9,
          4.1,
          6.3,
          7.2,
          22,
          6.3,
          3.7,
          11,
          4.2,
          19.11,
          4.7,
          12.42,
          8,
          4.6,
          9.8,
          10,
          7,
          10,
          0.7,
          3.3,
          13.8,
          5.3,
          5,
          11,
          15,
          13,
          8.8,
          4.7,
          8.4,
          4.1,
          28,
          5.97,
          3.3,
          20,
          9,
          9.2,
          6.7,
          7.1,
          33,
          6.2,
          11,
          10.2,
          9.7,
          6.6,
          15,
          4.4,
          4,
          9.8,
          8.7,
          3.1,
          null,
          9,
          18.3,
          23.4,
          null,
          4.3,
          4.1,
          4.7,
          8.4,
          12,
          2.9,
          7.1,
          8.1,
          7.91,
          7.1,
          5.5,
          6.3,
          6.2,
          5.5,
          16.4,
          4.9,
          45.7,
          17,
          13,
          4.8,
          9.23,
          5.4,
          33,
          12,
          9.9,
          8.2,
          5.4,
          13,
          6.3,
          29.6,
          5.7,
          12.7,
          21,
          13,
          5.8,
          5.1,
          6.7,
          10,
          6.5,
          6,
          14,
          22,
          23,
          7.5,
          10,
          7.6,
          11,
          5.6,
          6,
          4.5,
          7.4,
          7.9,
          5.5,
          9,
          12.87,
          11,
          7,
          17.3,
          4,
          7,
          6.7,
          7.2,
          10.15,
          2,
          9,
          9.8,
          32,
          27,
          17.8,
          5.3,
          9.4,
          3.7,
          11,
          17.7,
          4.6,
          8,
          43,
          17,
          9.5,
          21,
          11,
          4.6,
          5,
          5.5,
          12,
          1.2,
          9,
          14,
          10,
          3,
          13,
          12,
          7.68,
          3.66,
          6,
          6.19,
          3.2,
          6.2,
          18,
          9.4,
          10.2,
          10,
          16,
          6.9,
          7.3,
          8.3,
          7.3,
          2.4,
          5.2,
          9.2,
          5.7,
          31,
          12,
          7.4,
          null,
          6.5,
          10,
          35,
          null,
          9.9,
          17,
          7.6,
          9.9,
          6.2,
          16,
          6.4,
          7.6,
          26.28,
          21,
          7.5,
          11,
          18,
          22,
          11.7,
          11,
          4.8,
          14,
          4.3,
          8.9,
          9.08,
          4.2,
          11,
          10,
          6,
          5,
          4.1,
          16,
          2.2,
          9.7,
          5.3,
          10.24,
          13.5,
          10,
          15,
          3.3,
          1,
          4.6,
          15,
          8.5,
          23,
          3.8,
          6.5,
          9.9,
          4.4,
          3,
          9.07,
          8.5,
          15.01,
          null,
          10.4,
          5.800000000000001,
          5.4,
          40,
          7.9,
          9.9,
          13,
          13.5,
          8.6,
          8.4,
          2.9,
          12.8,
          null,
          3.5,
          1,
          15,
          8,
          15,
          5.1,
          8.1,
          9.7,
          null,
          4.5,
          21,
          4.3,
          12,
          6,
          22,
          9.7,
          46,
          5.9,
          7.6,
          16,
          26,
          6,
          9.9,
          7.4,
          10,
          4.2,
          10.27,
          7,
          23,
          11.5,
          12.86,
          5,
          null,
          8,
          37,
          10.2,
          11.3,
          12,
          4.5,
          3.2,
          11.8,
          67,
          11,
          7.1,
          5,
          23.6,
          null,
          12,
          3.26,
          0.6,
          6.1,
          13,
          4.3,
          3.1,
          null,
          11.1,
          9.7,
          16.05,
          6.3,
          7.7,
          6,
          4,
          5.9,
          null,
          1.6,
          8.7,
          15,
          5.5,
          6.3,
          6.4,
          6.4,
          3,
          11,
          13,
          95,
          49.42,
          7.3,
          6.18,
          61,
          22,
          135,
          12,
          11,
          9.7,
          15.4,
          16.85,
          6.5,
          6.5,
          13.8,
          0.59,
          16,
          12,
          12,
          16.4,
          6,
          1.9,
          7.5,
          4.7,
          18,
          12,
          10,
          12,
          2.7,
          5,
          24,
          11,
          6.4,
          0.1,
          13.2,
          17.7,
          7,
          9,
          4.9,
          19,
          21,
          6.25,
          7,
          6.8,
          21.7,
          5.9,
          7.6,
          11,
          50.05,
          7.9,
          12,
          14.5,
          4.8,
          7.6,
          11,
          8.2,
          6.1,
          13,
          29,
          5.2,
          9.2,
          7.9,
          6.7,
          8,
          8.4,
          null,
          4.7,
          13.3,
          11,
          5.1,
          5.5,
          9,
          3.7,
          5.4,
          224,
          6.6,
          3.9,
          8.3,
          14,
          11,
          34.7,
          134,
          4,
          9.24,
          10.7,
          21,
          6.8,
          15,
          9.3,
          9.7,
          6,
          8.2,
          4.6,
          13,
          9.2,
          9.45,
          15.5,
          8.2,
          8.4,
          11,
          16.43,
          6.5,
          8.7,
          11,
          6.4,
          5.1,
          22,
          6.6,
          13,
          7.7,
          31,
          9.8,
          7.6,
          16,
          0.74,
          9.6,
          16,
          7.24,
          7.8,
          13,
          14,
          9.5,
          0.5,
          null,
          7,
          15,
          7.4,
          11,
          81.95,
          9.6,
          12.5,
          22,
          null,
          9.6,
          14.6,
          1.4,
          10.4,
          10.8,
          11,
          17,
          78,
          12,
          13,
          6.3,
          8.6,
          10,
          null,
          13.4,
          7,
          15,
          8,
          5.2,
          5.8,
          12.7,
          6.7,
          34,
          11,
          1.1,
          0.72,
          11,
          10,
          7.3,
          7.9,
          5.3,
          2.17,
          13.8,
          4.02,
          4.9,
          11,
          18,
          6.22,
          7.5,
          9.4,
          8.6,
          13,
          7,
          3.3,
          23.9,
          2.9,
          11.7,
          18.1,
          7.4,
          7.8,
          null,
          9.1,
          9.6,
          6.4,
          5.1,
          9,
          5.6,
          6.3,
          5.9,
          13,
          9.3,
          7.32,
          11,
          6.8,
          2.3,
          16.8,
          57,
          9.96,
          13,
          5.5,
          4.9,
          15,
          15.8,
          9.1,
          8.1,
          17,
          21,
          11,
          9,
          14,
          3.8,
          25.86,
          33.5,
          25,
          6.2,
          null,
          18,
          2.11,
          6.4,
          4,
          9.1,
          7.4,
          68,
          8,
          7.9,
          null,
          14,
          10,
          3.6,
          10.3,
          8.9,
          4.58,
          12.3,
          null,
          18,
          11,
          18.4,
          3.4,
          6.2,
          4.89,
          23,
          1.5,
          10,
          10,
          4.4,
          12.1,
          7.98,
          4.4,
          9.02,
          4.6,
          3.4,
          10.4,
          9.42,
          5.53,
          40,
          6.7,
          20,
          28,
          4.3,
          14.54,
          21.8,
          9.8,
          6.4,
          3.6,
          5.83,
          70,
          15,
          3.3,
          5.5,
          5.5,
          5,
          5.6,
          14,
          8.19,
          14,
          15,
          8.3,
          3.5,
          17,
          14,
          8,
          7.88,
          13,
          38.9,
          17,
          9.1,
          4.7,
          16,
          8.7,
          31,
          27.6,
          6.2,
          6.1,
          10.5,
          3.5,
          12,
          9.1,
          9.86,
          6.6,
          7,
          5.6,
          null,
          3.6,
          11.1,
          7.1,
          8.3,
          8.5,
          23.99,
          8.5,
          5.7,
          5.4,
          5.1,
          7.7,
          8,
          5.1,
          44,
          4.6,
          null,
          8.3,
          7.4,
          10,
          5.4,
          9.9,
          14.8,
          31,
          12,
          15,
          2.3,
          4.8,
          19.73,
          13,
          8,
          12,
          5.4,
          6.5,
          5.6,
          9.2,
          6.9,
          3.4,
          17.2,
          9,
          5.1,
          12.16,
          4.9,
          9,
          21,
          10,
          8.9,
          19,
          null,
          21,
          8.7,
          59,
          14.9,
          9.1,
          10.66,
          8.7,
          9.2,
          8.7,
          6.64,
          3.2,
          6.4,
          4.1,
          44,
          8.6,
          6.8,
          8.3,
          15.6,
          8.6,
          4.7,
          7.7,
          6,
          10.4,
          11.77,
          4.5,
          12,
          12.9,
          7.8,
          20,
          3.65,
          16,
          67,
          9,
          8.6,
          9.1,
          29,
          10.6,
          18,
          9.8,
          7.5,
          7.5,
          1.5,
          9.6,
          12,
          22,
          11.8,
          9.4,
          7.7,
          4.1,
          6.4,
          15,
          1.4,
          9.3,
          12,
          7.1,
          7.3,
          4.5,
          20,
          4.8,
          37,
          4.9,
          8.3,
          7,
          9.4,
          15.9,
          28,
          10.2,
          6.4,
          5.8,
          2.6,
          10,
          113,
          27.2,
          11.9,
          3.8,
          null,
          7.3,
          7.5,
          28.4,
          17,
          4.6,
          6.4,
          7.4,
          7.3,
          4.6,
          5,
          10.5,
          4,
          3.59,
          7,
          4,
          3,
          6.3,
          7.1,
          7.4,
          21,
          35,
          8.8,
          7.1,
          4.6,
          9.2,
          17.8,
          15,
          6.1,
          0.76,
          7.6,
          6,
          4.3,
          12.2,
          13,
          14,
          8.5,
          8.5,
          5.9,
          7,
          13.6,
          7.2,
          14,
          13,
          8.2,
          6.1,
          5,
          23,
          8.42,
          22,
          4.53,
          13.5,
          20,
          34,
          4.4,
          2.4,
          3.7,
          12,
          18,
          7.3,
          5.4,
          16.6,
          14.4,
          23,
          19,
          10,
          11,
          55,
          8.9,
          7,
          8.7,
          4.5,
          9.8,
          2.3,
          22.33,
          9.8,
          5,
          3.1,
          7.6,
          5.8,
          12,
          7.49,
          9.6,
          8.6,
          12,
          3.3,
          4.4,
          8.48,
          6,
          10,
          5,
          7.3,
          6.8,
          7.2,
          6.07,
          14,
          6.2,
          21,
          28,
          7.7,
          4.2,
          2.9,
          11,
          8.22,
          7.4,
          4.35,
          7.9,
          58,
          0.73,
          11,
          9.8,
          34.66,
          11,
          6.75,
          6.1,
          8.7,
          27,
          9.8,
          14,
          11,
          8,
          10,
          6.67,
          19.12,
          7.9,
          6.5,
          3.1,
          6.9,
          31,
          8,
          4.4,
          6.7,
          4,
          null,
          210,
          13,
          1.2,
          14.8,
          11,
          11,
          4.8,
          16,
          4.8,
          9.2,
          14,
          7,
          2.6,
          2.7,
          7.8,
          25,
          9.7,
          6.6,
          7.8,
          7.06,
          6.2,
          4.7,
          15.9,
          9.9,
          9.3,
          15.2,
          7.099999999999999,
          7.4,
          3.8,
          5.5,
          6.6,
          9.5,
          21,
          8.4,
          7.9,
          4.1,
          9.9,
          31,
          38,
          34,
          46,
          5.7,
          20.4,
          9.2,
          17,
          7,
          null,
          9.5,
          7.3,
          8.8,
          11,
          28,
          9.2,
          2.8,
          4.8,
          4.7,
          3.2,
          8.7,
          8.1,
          15,
          6.6,
          38,
          29.6,
          2.73,
          3.2,
          17.9,
          31,
          6.1,
          13,
          5.3,
          7.6,
          5.5,
          4.1,
          6,
          22,
          1.8,
          6.1,
          8.3,
          11,
          4,
          79,
          7.8,
          20,
          17,
          11,
          12,
          3.3,
          5,
          13,
          11,
          24,
          11.4,
          6.7,
          33,
          5,
          8.8,
          null,
          12,
          112,
          5.4,
          13.2,
          6.44,
          5.5,
          17,
          9.3,
          11,
          13,
          11,
          29,
          10,
          6.7,
          8.9,
          5.2,
          9.2,
          18,
          14,
          8,
          12,
          11,
          13,
          3.7,
          15,
          3.3,
          8.4,
          4.8,
          5.2,
          23.8,
          5.99,
          21,
          11.8,
          31,
          5.4,
          12,
          4.8,
          23,
          5.2,
          13,
          10.76,
          5.9,
          5.3,
          12,
          30,
          1.7,
          6,
          4.2,
          6.6,
          11,
          3.14,
          3.1,
          6.5,
          6.4,
          5.6,
          5.7,
          10,
          3.7,
          8.3,
          26,
          3.7,
          7.3,
          4.2,
          11,
          28.3,
          5.9,
          7.6,
          0.9,
          28,
          6.2,
          6.5,
          11,
          4.4,
          7.3,
          4.1,
          7.6,
          8.3,
          10.8,
          7.1,
          15.2,
          10.77,
          5.94,
          4.9,
          11,
          6.9,
          8.6,
          16,
          1.6,
          15,
          7.8,
          15,
          1.7,
          39,
          4.7,
          6.77,
          8.3,
          6.7,
          24,
          5.58,
          8.7,
          null,
          2.9,
          11.2,
          6.96,
          15,
          null,
          28,
          9.3,
          12.4,
          9.3,
          6.9,
          4.3,
          12,
          6.5,
          28,
          6.1,
          9.8,
          11,
          0.44,
          5,
          16,
          7.6,
          3,
          33,
          21.9,
          3.3,
          16
         ]
        }
       ],
       "layout": {
        "paper_bgcolor": "rgba(0,0,0,0)",
        "plot_bgcolor": "rgba(0,0,0,0)",
        "template": {
         "data": {
          "bar": [
           {
            "error_x": {
             "color": "#2a3f5f"
            },
            "error_y": {
             "color": "#2a3f5f"
            },
            "marker": {
             "line": {
              "color": "white",
              "width": 0.5
             },
             "pattern": {
              "fillmode": "overlay",
              "size": 10,
              "solidity": 0.2
             }
            },
            "type": "bar"
           }
          ],
          "barpolar": [
           {
            "marker": {
             "line": {
              "color": "white",
              "width": 0.5
             },
             "pattern": {
              "fillmode": "overlay",
              "size": 10,
              "solidity": 0.2
             }
            },
            "type": "barpolar"
           }
          ],
          "carpet": [
           {
            "aaxis": {
             "endlinecolor": "#2a3f5f",
             "gridcolor": "#C8D4E3",
             "linecolor": "#C8D4E3",
             "minorgridcolor": "#C8D4E3",
             "startlinecolor": "#2a3f5f"
            },
            "baxis": {
             "endlinecolor": "#2a3f5f",
             "gridcolor": "#C8D4E3",
             "linecolor": "#C8D4E3",
             "minorgridcolor": "#C8D4E3",
             "startlinecolor": "#2a3f5f"
            },
            "type": "carpet"
           }
          ],
          "choropleth": [
           {
            "colorbar": {
             "outlinewidth": 0,
             "ticks": ""
            },
            "type": "choropleth"
           }
          ],
          "contour": [
           {
            "colorbar": {
             "outlinewidth": 0,
             "ticks": ""
            },
            "colorscale": [
             [
              0,
              "#0d0887"
             ],
             [
              0.1111111111111111,
              "#46039f"
             ],
             [
              0.2222222222222222,
              "#7201a8"
             ],
             [
              0.3333333333333333,
              "#9c179e"
             ],
             [
              0.4444444444444444,
              "#bd3786"
             ],
             [
              0.5555555555555556,
              "#d8576b"
             ],
             [
              0.6666666666666666,
              "#ed7953"
             ],
             [
              0.7777777777777778,
              "#fb9f3a"
             ],
             [
              0.8888888888888888,
              "#fdca26"
             ],
             [
              1,
              "#f0f921"
             ]
            ],
            "type": "contour"
           }
          ],
          "contourcarpet": [
           {
            "colorbar": {
             "outlinewidth": 0,
             "ticks": ""
            },
            "type": "contourcarpet"
           }
          ],
          "heatmap": [
           {
            "colorbar": {
             "outlinewidth": 0,
             "ticks": ""
            },
            "colorscale": [
             [
              0,
              "#0d0887"
             ],
             [
              0.1111111111111111,
              "#46039f"
             ],
             [
              0.2222222222222222,
              "#7201a8"
             ],
             [
              0.3333333333333333,
              "#9c179e"
             ],
             [
              0.4444444444444444,
              "#bd3786"
             ],
             [
              0.5555555555555556,
              "#d8576b"
             ],
             [
              0.6666666666666666,
              "#ed7953"
             ],
             [
              0.7777777777777778,
              "#fb9f3a"
             ],
             [
              0.8888888888888888,
              "#fdca26"
             ],
             [
              1,
              "#f0f921"
             ]
            ],
            "type": "heatmap"
           }
          ],
          "heatmapgl": [
           {
            "colorbar": {
             "outlinewidth": 0,
             "ticks": ""
            },
            "colorscale": [
             [
              0,
              "#0d0887"
             ],
             [
              0.1111111111111111,
              "#46039f"
             ],
             [
              0.2222222222222222,
              "#7201a8"
             ],
             [
              0.3333333333333333,
              "#9c179e"
             ],
             [
              0.4444444444444444,
              "#bd3786"
             ],
             [
              0.5555555555555556,
              "#d8576b"
             ],
             [
              0.6666666666666666,
              "#ed7953"
             ],
             [
              0.7777777777777778,
              "#fb9f3a"
             ],
             [
              0.8888888888888888,
              "#fdca26"
             ],
             [
              1,
              "#f0f921"
             ]
            ],
            "type": "heatmapgl"
           }
          ],
          "histogram": [
           {
            "marker": {
             "pattern": {
              "fillmode": "overlay",
              "size": 10,
              "solidity": 0.2
             }
            },
            "type": "histogram"
           }
          ],
          "histogram2d": [
           {
            "colorbar": {
             "outlinewidth": 0,
             "ticks": ""
            },
            "colorscale": [
             [
              0,
              "#0d0887"
             ],
             [
              0.1111111111111111,
              "#46039f"
             ],
             [
              0.2222222222222222,
              "#7201a8"
             ],
             [
              0.3333333333333333,
              "#9c179e"
             ],
             [
              0.4444444444444444,
              "#bd3786"
             ],
             [
              0.5555555555555556,
              "#d8576b"
             ],
             [
              0.6666666666666666,
              "#ed7953"
             ],
             [
              0.7777777777777778,
              "#fb9f3a"
             ],
             [
              0.8888888888888888,
              "#fdca26"
             ],
             [
              1,
              "#f0f921"
             ]
            ],
            "type": "histogram2d"
           }
          ],
          "histogram2dcontour": [
           {
            "colorbar": {
             "outlinewidth": 0,
             "ticks": ""
            },
            "colorscale": [
             [
              0,
              "#0d0887"
             ],
             [
              0.1111111111111111,
              "#46039f"
             ],
             [
              0.2222222222222222,
              "#7201a8"
             ],
             [
              0.3333333333333333,
              "#9c179e"
             ],
             [
              0.4444444444444444,
              "#bd3786"
             ],
             [
              0.5555555555555556,
              "#d8576b"
             ],
             [
              0.6666666666666666,
              "#ed7953"
             ],
             [
              0.7777777777777778,
              "#fb9f3a"
             ],
             [
              0.8888888888888888,
              "#fdca26"
             ],
             [
              1,
              "#f0f921"
             ]
            ],
            "type": "histogram2dcontour"
           }
          ],
          "mesh3d": [
           {
            "colorbar": {
             "outlinewidth": 0,
             "ticks": ""
            },
            "type": "mesh3d"
           }
          ],
          "parcoords": [
           {
            "line": {
             "colorbar": {
              "outlinewidth": 0,
              "ticks": ""
             }
            },
            "type": "parcoords"
           }
          ],
          "pie": [
           {
            "automargin": true,
            "type": "pie"
           }
          ],
          "scatter": [
           {
            "fillpattern": {
             "fillmode": "overlay",
             "size": 10,
             "solidity": 0.2
            },
            "type": "scatter"
           }
          ],
          "scatter3d": [
           {
            "line": {
             "colorbar": {
              "outlinewidth": 0,
              "ticks": ""
             }
            },
            "marker": {
             "colorbar": {
              "outlinewidth": 0,
              "ticks": ""
             }
            },
            "type": "scatter3d"
           }
          ],
          "scattercarpet": [
           {
            "marker": {
             "colorbar": {
              "outlinewidth": 0,
              "ticks": ""
             }
            },
            "type": "scattercarpet"
           }
          ],
          "scattergeo": [
           {
            "marker": {
             "colorbar": {
              "outlinewidth": 0,
              "ticks": ""
             }
            },
            "type": "scattergeo"
           }
          ],
          "scattergl": [
           {
            "marker": {
             "colorbar": {
              "outlinewidth": 0,
              "ticks": ""
             }
            },
            "type": "scattergl"
           }
          ],
          "scattermapbox": [
           {
            "marker": {
             "colorbar": {
              "outlinewidth": 0,
              "ticks": ""
             }
            },
            "type": "scattermapbox"
           }
          ],
          "scatterpolar": [
           {
            "marker": {
             "colorbar": {
              "outlinewidth": 0,
              "ticks": ""
             }
            },
            "type": "scatterpolar"
           }
          ],
          "scatterpolargl": [
           {
            "marker": {
             "colorbar": {
              "outlinewidth": 0,
              "ticks": ""
             }
            },
            "type": "scatterpolargl"
           }
          ],
          "scatterternary": [
           {
            "marker": {
             "colorbar": {
              "outlinewidth": 0,
              "ticks": ""
             }
            },
            "type": "scatterternary"
           }
          ],
          "surface": [
           {
            "colorbar": {
             "outlinewidth": 0,
             "ticks": ""
            },
            "colorscale": [
             [
              0,
              "#0d0887"
             ],
             [
              0.1111111111111111,
              "#46039f"
             ],
             [
              0.2222222222222222,
              "#7201a8"
             ],
             [
              0.3333333333333333,
              "#9c179e"
             ],
             [
              0.4444444444444444,
              "#bd3786"
             ],
             [
              0.5555555555555556,
              "#d8576b"
             ],
             [
              0.6666666666666666,
              "#ed7953"
             ],
             [
              0.7777777777777778,
              "#fb9f3a"
             ],
             [
              0.8888888888888888,
              "#fdca26"
             ],
             [
              1,
              "#f0f921"
             ]
            ],
            "type": "surface"
           }
          ],
          "table": [
           {
            "cells": {
             "fill": {
              "color": "#EBF0F8"
             },
             "line": {
              "color": "white"
             }
            },
            "header": {
             "fill": {
              "color": "#C8D4E3"
             },
             "line": {
              "color": "white"
             }
            },
            "type": "table"
           }
          ]
         },
         "layout": {
          "annotationdefaults": {
           "arrowcolor": "#2a3f5f",
           "arrowhead": 0,
           "arrowwidth": 1
          },
          "autotypenumbers": "strict",
          "coloraxis": {
           "colorbar": {
            "outlinewidth": 0,
            "ticks": ""
           }
          },
          "colorscale": {
           "diverging": [
            [
             0,
             "#8e0152"
            ],
            [
             0.1,
             "#c51b7d"
            ],
            [
             0.2,
             "#de77ae"
            ],
            [
             0.3,
             "#f1b6da"
            ],
            [
             0.4,
             "#fde0ef"
            ],
            [
             0.5,
             "#f7f7f7"
            ],
            [
             0.6,
             "#e6f5d0"
            ],
            [
             0.7,
             "#b8e186"
            ],
            [
             0.8,
             "#7fbc41"
            ],
            [
             0.9,
             "#4d9221"
            ],
            [
             1,
             "#276419"
            ]
           ],
           "sequential": [
            [
             0,
             "#0d0887"
            ],
            [
             0.1111111111111111,
             "#46039f"
            ],
            [
             0.2222222222222222,
             "#7201a8"
            ],
            [
             0.3333333333333333,
             "#9c179e"
            ],
            [
             0.4444444444444444,
             "#bd3786"
            ],
            [
             0.5555555555555556,
             "#d8576b"
            ],
            [
             0.6666666666666666,
             "#ed7953"
            ],
            [
             0.7777777777777778,
             "#fb9f3a"
            ],
            [
             0.8888888888888888,
             "#fdca26"
            ],
            [
             1,
             "#f0f921"
            ]
           ],
           "sequentialminus": [
            [
             0,
             "#0d0887"
            ],
            [
             0.1111111111111111,
             "#46039f"
            ],
            [
             0.2222222222222222,
             "#7201a8"
            ],
            [
             0.3333333333333333,
             "#9c179e"
            ],
            [
             0.4444444444444444,
             "#bd3786"
            ],
            [
             0.5555555555555556,
             "#d8576b"
            ],
            [
             0.6666666666666666,
             "#ed7953"
            ],
            [
             0.7777777777777778,
             "#fb9f3a"
            ],
            [
             0.8888888888888888,
             "#fdca26"
            ],
            [
             1,
             "#f0f921"
            ]
           ]
          },
          "colorway": [
           "#636efa",
           "#EF553B",
           "#00cc96",
           "#ab63fa",
           "#FFA15A",
           "#19d3f3",
           "#FF6692",
           "#B6E880",
           "#FF97FF",
           "#FECB52"
          ],
          "font": {
           "color": "#2a3f5f"
          },
          "geo": {
           "bgcolor": "white",
           "lakecolor": "white",
           "landcolor": "white",
           "showlakes": true,
           "showland": true,
           "subunitcolor": "#C8D4E3"
          },
          "hoverlabel": {
           "align": "left"
          },
          "hovermode": "closest",
          "mapbox": {
           "style": "light"
          },
          "paper_bgcolor": "white",
          "plot_bgcolor": "white",
          "polar": {
           "angularaxis": {
            "gridcolor": "#EBF0F8",
            "linecolor": "#EBF0F8",
            "ticks": ""
           },
           "bgcolor": "white",
           "radialaxis": {
            "gridcolor": "#EBF0F8",
            "linecolor": "#EBF0F8",
            "ticks": ""
           }
          },
          "scene": {
           "xaxis": {
            "backgroundcolor": "white",
            "gridcolor": "#DFE8F3",
            "gridwidth": 2,
            "linecolor": "#EBF0F8",
            "showbackground": true,
            "ticks": "",
            "zerolinecolor": "#EBF0F8"
           },
           "yaxis": {
            "backgroundcolor": "white",
            "gridcolor": "#DFE8F3",
            "gridwidth": 2,
            "linecolor": "#EBF0F8",
            "showbackground": true,
            "ticks": "",
            "zerolinecolor": "#EBF0F8"
           },
           "zaxis": {
            "backgroundcolor": "white",
            "gridcolor": "#DFE8F3",
            "gridwidth": 2,
            "linecolor": "#EBF0F8",
            "showbackground": true,
            "ticks": "",
            "zerolinecolor": "#EBF0F8"
           }
          },
          "shapedefaults": {
           "line": {
            "color": "#2a3f5f"
           }
          },
          "ternary": {
           "aaxis": {
            "gridcolor": "#DFE8F3",
            "linecolor": "#A2B1C6",
            "ticks": ""
           },
           "baxis": {
            "gridcolor": "#DFE8F3",
            "linecolor": "#A2B1C6",
            "ticks": ""
           },
           "bgcolor": "white",
           "caxis": {
            "gridcolor": "#DFE8F3",
            "linecolor": "#A2B1C6",
            "ticks": ""
           }
          },
          "title": {
           "x": 0.05
          },
          "xaxis": {
           "automargin": true,
           "gridcolor": "#EBF0F8",
           "linecolor": "#EBF0F8",
           "ticks": "",
           "title": {
            "standoff": 15
           },
           "zerolinecolor": "#EBF0F8",
           "zerolinewidth": 2
          },
          "yaxis": {
           "automargin": true,
           "gridcolor": "#EBF0F8",
           "linecolor": "#EBF0F8",
           "ticks": "",
           "title": {
            "standoff": 15
           },
           "zerolinecolor": "#EBF0F8",
           "zerolinewidth": 2
          }
         }
        },
        "title": {
         "text": "PSA Distribution PICAI"
        },
        "xaxis": {
         "title": {
          "text": "PSA"
         }
        },
        "yaxis": {
         "automargin": true,
         "title": {
          "text": "Count"
         }
        }
       }
      },
      "text/html": [
       "<div>                            <div id=\"b739071e-e661-4ede-9cda-a43161a2966b\" class=\"plotly-graph-div\" style=\"height:525px; width:100%;\"></div>            <script type=\"text/javascript\">                require([\"plotly\"], function(Plotly) {                    window.PLOTLYENV=window.PLOTLYENV || {};                                    if (document.getElementById(\"b739071e-e661-4ede-9cda-a43161a2966b\")) {                    Plotly.newPlot(                        \"b739071e-e661-4ede-9cda-a43161a2966b\",                        [{\"marker\":{\"color\":\"#e1846c\",\"line\":{\"color\":\"DarkSlateGrey\",\"width\":1}},\"nbinsx\":20,\"x\":[9.8,4.3,7.5,1.2,28.0,4.1,5.2,7.7,15.0,10.0,5.37,24.4,4.9,19.0,4.3,9.99,9.8,4.1,9.5,6.51,3.9,11.1,6.0,19.0,6.2,4.5,9.99,20.0,4.1,4.1,11.0,6.8,12.0,13.0,10.0,11.9,5.9,15.0,13.5,17.0,94.0,5.3,82.0,24.0,9.4,3.4,2.5,8.1,8.3,5.3,5.1,4.0,51.0,18.0,3.9,5.6,9.7,7.3,9.0,0.44,10.0,12.0,9.0,6.3,7.7,10.0,5.12,5.8,6.1,5.0,5.1,8.8,5.28,13.0,7.4,5.1,4.8,6.0,23.0,6.2,15.8,15.0,4.5,9.8,8.1,9.3,5.0,6.2,9.8,3.3,7.2,15.0,12.0,null,6.05,18.2,9.7,16.2,9.4,1.4,5.0,3.0,2.7,6.6,0.56,11.8,13.7,9.6,3.9,17.0,null,7.4,14.0,5.0,7.7,7.0,15.0,8.8,21.0,12.2,19.6,7.1,31.0,7.4,6.4,11.0,38.0,10.4,13.0,6.0,4.8,14.0,13.0,2.5,28.3,52.0,6.0,8.2,6.2,9.4,7.2,3.3,null,8.2,7.8,11.3,null,10.8,6.5,4.9,11.1,4.0,4.2,16.12,18.0,7.69,5.2,13.2,6.9,null,7.0,6.0,7.4,36.8,6.5,6.6,4.08,9.7,4.3,6.8,11.0,5.5,7.7,null,9.9,6.7,11.4,19.0,21.0,7.1,12.0,2.5,6.6,12.0,18.0,10.92,19.0,3.6,5.8,7.6,8.6,13.0,9.0,4.3,6.0,19.18,7.4,12.0,52.0,7.6,12.0,10.0,4.6,8.8,33.0,3.7,6.6,8.8,null,187.0,9.2,18.7,5.6,8.9,6.3,3.9,14.0,13.0,8.7,9.3,4.7,15.0,5.7,5.7,1.6,6.8,6.3,28.0,9.91,15.0,11.4,9.4,15.0,3.9,6.4,6.0,9.2,5.4,null,5.0,13.0,14.4,13.6,3.87,15.1,3.8,7.5,3.1,9.8,8.03,14.0,7.1,6.3,7.7,9.0,26.0,2.2,4.06,9.0,11.3,4.4,23.0,5.61,36.0,71.0,6.9,7.1,17.9,6.0,6.5,9.0,20.0,6.4,null,6.0,4.75,17.0,0.4,18.0,6.4,5.7,16.0,10.0,6.6,3.3,20.0,10.4,1.6,2.5,5.0,4.8,6.2,29.6,22.5,11.5,4.6,7.4,3.83,8.4,12.94,7.8,2.89,7.7,22.0,10.3,8.4,6.2,18.3,6.1,6.0,6.0,11.0,50.0,17.0,9.6,5.3,12.7,23.0,6.4,4.5,14.18,5.7,7.6,2.2,19.0,10.4,10.0,1.2,9.7,5.400000000000001,null,null,4.8,4.9,5.0,24.0,6.5,17.0,7.2,8.5,21.3,10.3,11.2,7.0,11.5,36.0,11.0,2.2,7.5,8.2,6.6,8.2,29.0,32.0,33.0,5.32,135.0,19.0,16.6,6.1,5.5,5.2,15.0,12.6,11.0,11.0,9.0,9.9,6.2,4.1,7.8,4.3,8.7,8.2,4.73,null,13.4,5.1,14.0,4.6,10.0,2.4,6.3,11.0,7.9,10.0,4.0,7.1,7.0,13.0,5.63,4.3,2.0,1.5,5.9,5.2,8.9,4.1,6.3,7.2,22.0,6.3,3.7,11.0,4.2,19.11,4.7,12.42,8.0,4.6,9.8,10.0,7.0,10.0,0.7,3.3,13.8,5.3,5.0,11.0,15.0,13.0,8.8,4.7,8.4,4.1,28.0,5.97,3.3,20.0,9.0,9.2,6.7,7.1,33.0,6.2,11.0,10.2,9.7,6.6,15.0,4.4,4.0,9.8,8.7,3.1,null,9.0,18.3,23.4,null,4.3,4.1,4.7,8.4,12.0,2.9,7.1,8.1,7.91,7.1,5.5,6.3,6.2,5.5,16.4,4.9,45.7,17.0,13.0,4.8,9.23,5.4,33.0,12.0,9.9,8.2,5.4,13.0,6.3,29.6,5.7,12.7,21.0,13.0,5.8,5.1,6.7,10.0,6.5,6.0,14.0,22.0,23.0,7.5,10.0,7.6,11.0,5.6,6.0,4.5,7.4,7.9,5.5,9.0,12.87,11.0,7.0,17.3,4.0,7.0,6.7,7.2,10.15,2.0,9.0,9.8,32.0,27.0,17.8,5.3,9.4,3.7,11.0,17.7,4.6,8.0,43.0,17.0,9.5,21.0,11.0,4.6,5.0,5.5,12.0,1.2,9.0,14.0,10.0,3.0,13.0,12.0,7.68,3.66,6.0,6.19,3.2,6.2,18.0,9.4,10.2,10.0,16.0,6.9,7.3,8.3,7.3,2.4,5.2,9.2,5.7,31.0,12.0,7.4,null,6.5,10.0,35.0,null,9.9,17.0,7.6,9.9,6.2,16.0,6.4,7.6,26.28,21.0,7.5,11.0,18.0,22.0,11.7,11.0,4.8,14.0,4.3,8.9,9.08,4.2,11.0,10.0,6.0,5.0,4.1,16.0,2.2,9.7,5.3,10.24,13.5,10.0,15.0,3.3,1.0,4.6,15.0,8.5,23.0,3.8,6.5,9.9,4.4,3.0,9.07,8.5,15.01,null,10.4,5.800000000000001,5.4,40.0,7.9,9.9,13.0,13.5,8.6,8.4,2.9,12.8,null,3.5,1.0,15.0,8.0,15.0,5.1,8.1,9.7,null,4.5,21.0,4.3,12.0,6.0,22.0,9.7,46.0,5.9,7.6,16.0,26.0,6.0,9.9,7.4,10.0,4.2,10.27,7.0,23.0,11.5,12.86,5.0,null,8.0,37.0,10.2,11.3,12.0,4.5,3.2,11.8,67.0,11.0,7.1,5.0,23.6,null,12.0,3.26,0.6,6.1,13.0,4.3,3.1,null,11.1,9.7,16.05,6.3,7.7,6.0,4.0,5.9,null,1.6,8.7,15.0,5.5,6.3,6.4,6.4,3.0,11.0,13.0,95.0,49.42,7.3,6.18,61.0,22.0,135.0,12.0,11.0,9.7,15.4,16.85,6.5,6.5,13.8,0.59,16.0,12.0,12.0,16.4,6.0,1.9,7.5,4.7,18.0,12.0,10.0,12.0,2.7,5.0,24.0,11.0,6.4,0.1,13.2,17.7,7.0,9.0,4.9,19.0,21.0,6.25,7.0,6.8,21.7,5.9,7.6,11.0,50.05,7.9,12.0,14.5,4.8,7.6,11.0,8.2,6.1,13.0,29.0,5.2,9.2,7.9,6.7,8.0,8.4,null,4.7,13.3,11.0,5.1,5.5,9.0,3.7,5.4,224.0,6.6,3.9,8.3,14.0,11.0,34.7,134.0,4.0,9.24,10.7,21.0,6.8,15.0,9.3,9.7,6.0,8.2,4.6,13.0,9.2,9.45,15.5,8.2,8.4,11.0,16.43,6.5,8.7,11.0,6.4,5.1,22.0,6.6,13.0,7.7,31.0,9.8,7.6,16.0,0.74,9.6,16.0,7.24,7.8,13.0,14.0,9.5,0.5,null,7.0,15.0,7.4,11.0,81.95,9.6,12.5,22.0,null,9.6,14.6,1.4,10.4,10.8,11.0,17.0,78.0,12.0,13.0,6.3,8.6,10.0,null,13.4,7.0,15.0,8.0,5.2,5.8,12.7,6.7,34.0,11.0,1.1,0.72,11.0,10.0,7.3,7.9,5.3,2.17,13.8,4.02,4.9,11.0,18.0,6.22,7.5,9.4,8.6,13.0,7.0,3.3,23.9,2.9,11.7,18.1,7.4,7.8,null,9.1,9.6,6.4,5.1,9.0,5.6,6.3,5.9,13.0,9.3,7.32,11.0,6.8,2.3,16.8,57.0,9.96,13.0,5.5,4.9,15.0,15.8,9.1,8.1,17.0,21.0,11.0,9.0,14.0,3.8,25.86,33.5,25.0,6.2,null,18.0,2.11,6.4,4.0,9.1,7.4,68.0,8.0,7.9,null,14.0,10.0,3.6,10.3,8.9,4.58,12.3,null,18.0,11.0,18.4,3.4,6.2,4.89,23.0,1.5,10.0,10.0,4.4,12.1,7.98,4.4,9.02,4.6,3.4,10.4,9.42,5.53,40.0,6.7,20.0,28.0,4.3,14.54,21.8,9.8,6.4,3.6,5.83,70.0,15.0,3.3,5.5,5.5,5.0,5.6,14.0,8.19,14.0,15.0,8.3,3.5,17.0,14.0,8.0,7.88,13.0,38.9,17.0,9.1,4.7,16.0,8.7,31.0,27.6,6.2,6.1,10.5,3.5,12.0,9.1,9.86,6.6,7.0,5.6,null,3.6,11.1,7.1,8.3,8.5,23.99,8.5,5.7,5.4,5.1,7.7,8.0,5.1,44.0,4.6,null,8.3,7.4,10.0,5.4,9.9,14.8,31.0,12.0,15.0,2.3,4.8,19.73,13.0,8.0,12.0,5.4,6.5,5.6,9.2,6.9,3.4,17.2,9.0,5.1,12.16,4.9,9.0,21.0,10.0,8.9,19.0,null,21.0,8.7,59.0,14.9,9.1,10.66,8.7,9.2,8.7,6.64,3.2,6.4,4.1,44.0,8.6,6.8,8.3,15.6,8.6,4.7,7.7,6.0,10.4,11.77,4.5,12.0,12.9,7.8,20.0,3.65,16.0,67.0,9.0,8.6,9.1,29.0,10.6,18.0,9.8,7.5,7.5,1.5,9.6,12.0,22.0,11.8,9.4,7.7,4.1,6.4,15.0,1.4,9.3,12.0,7.1,7.3,4.5,20.0,4.8,37.0,4.9,8.3,7.0,9.4,15.9,28.0,10.2,6.4,5.8,2.6,10.0,113.0,27.2,11.9,3.8,null,7.3,7.5,28.4,17.0,4.6,6.4,7.4,7.3,4.6,5.0,10.5,4.0,3.59,7.0,4.0,3.0,6.3,7.1,7.4,21.0,35.0,8.8,7.1,4.6,9.2,17.8,15.0,6.1,0.76,7.6,6.0,4.3,12.2,13.0,14.0,8.5,8.5,5.9,7.0,13.6,7.2,14.0,13.0,8.2,6.1,5.0,23.0,8.42,22.0,4.53,13.5,20.0,34.0,4.4,2.4,3.7,12.0,18.0,7.3,5.4,16.6,14.4,23.0,19.0,10.0,11.0,55.0,8.9,7.0,8.7,4.5,9.8,2.3,22.33,9.8,5.0,3.1,7.6,5.8,12.0,7.49,9.6,8.6,12.0,3.3,4.4,8.48,6.0,10.0,5.0,7.3,6.8,7.2,6.07,14.0,6.2,21.0,28.0,7.7,4.2,2.9,11.0,8.22,7.4,4.35,7.9,58.0,0.73,11.0,9.8,34.66,11.0,6.75,6.1,8.7,27.0,9.8,14.0,11.0,8.0,10.0,6.67,19.12,7.9,6.5,3.1,6.9,31.0,8.0,4.4,6.7,4.0,null,210.0,13.0,1.2,14.8,11.0,11.0,4.8,16.0,4.8,9.2,14.0,7.0,2.6,2.7,7.8,25.0,9.7,6.6,7.8,7.06,6.2,4.7,15.9,9.9,9.3,15.2,7.099999999999999,7.4,3.8,5.5,6.6,9.5,21.0,8.4,7.9,4.1,9.9,31.0,38.0,34.0,46.0,5.7,20.4,9.2,17.0,7.0,null,9.5,7.3,8.8,11.0,28.0,9.2,2.8,4.8,4.7,3.2,8.7,8.1,15.0,6.6,38.0,29.6,2.73,3.2,17.9,31.0,6.1,13.0,5.3,7.6,5.5,4.1,6.0,22.0,1.8,6.1,8.3,11.0,4.0,79.0,7.8,20.0,17.0,11.0,12.0,3.3,5.0,13.0,11.0,24.0,11.4,6.7,33.0,5.0,8.8,null,12.0,112.0,5.4,13.2,6.44,5.5,17.0,9.3,11.0,13.0,11.0,29.0,10.0,6.7,8.9,5.2,9.2,18.0,14.0,8.0,12.0,11.0,13.0,3.7,15.0,3.3,8.4,4.8,5.2,23.8,5.99,21.0,11.8,31.0,5.4,12.0,4.8,23.0,5.2,13.0,10.76,5.9,5.3,12.0,30.0,1.7,6.0,4.2,6.6,11.0,3.14,3.1,6.5,6.4,5.6,5.7,10.0,3.7,8.3,26.0,3.7,7.3,4.2,11.0,28.3,5.9,7.6,0.9,28.0,6.2,6.5,11.0,4.4,7.3,4.1,7.6,8.3,10.8,7.1,15.2,10.77,5.94,4.9,11.0,6.9,8.6,16.0,1.6,15.0,7.8,15.0,1.7,39.0,4.7,6.77,8.3,6.7,24.0,5.58,8.7,null,2.9,11.2,6.96,15.0,null,28.0,9.3,12.4,9.3,6.9,4.3,12.0,6.5,28.0,6.1,9.8,11.0,0.44,5.0,16.0,7.6,3.0,33.0,21.9,3.3,16.0],\"type\":\"histogram\",\"textposition\":\"auto\",\"texttemplate\":\"%{y}\"}],                        {\"template\":{\"data\":{\"barpolar\":[{\"marker\":{\"line\":{\"color\":\"white\",\"width\":0.5},\"pattern\":{\"fillmode\":\"overlay\",\"size\":10,\"solidity\":0.2}},\"type\":\"barpolar\"}],\"bar\":[{\"error_x\":{\"color\":\"#2a3f5f\"},\"error_y\":{\"color\":\"#2a3f5f\"},\"marker\":{\"line\":{\"color\":\"white\",\"width\":0.5},\"pattern\":{\"fillmode\":\"overlay\",\"size\":10,\"solidity\":0.2}},\"type\":\"bar\"}],\"carpet\":[{\"aaxis\":{\"endlinecolor\":\"#2a3f5f\",\"gridcolor\":\"#C8D4E3\",\"linecolor\":\"#C8D4E3\",\"minorgridcolor\":\"#C8D4E3\",\"startlinecolor\":\"#2a3f5f\"},\"baxis\":{\"endlinecolor\":\"#2a3f5f\",\"gridcolor\":\"#C8D4E3\",\"linecolor\":\"#C8D4E3\",\"minorgridcolor\":\"#C8D4E3\",\"startlinecolor\":\"#2a3f5f\"},\"type\":\"carpet\"}],\"choropleth\":[{\"colorbar\":{\"outlinewidth\":0,\"ticks\":\"\"},\"type\":\"choropleth\"}],\"contourcarpet\":[{\"colorbar\":{\"outlinewidth\":0,\"ticks\":\"\"},\"type\":\"contourcarpet\"}],\"contour\":[{\"colorbar\":{\"outlinewidth\":0,\"ticks\":\"\"},\"colorscale\":[[0.0,\"#0d0887\"],[0.1111111111111111,\"#46039f\"],[0.2222222222222222,\"#7201a8\"],[0.3333333333333333,\"#9c179e\"],[0.4444444444444444,\"#bd3786\"],[0.5555555555555556,\"#d8576b\"],[0.6666666666666666,\"#ed7953\"],[0.7777777777777778,\"#fb9f3a\"],[0.8888888888888888,\"#fdca26\"],[1.0,\"#f0f921\"]],\"type\":\"contour\"}],\"heatmapgl\":[{\"colorbar\":{\"outlinewidth\":0,\"ticks\":\"\"},\"colorscale\":[[0.0,\"#0d0887\"],[0.1111111111111111,\"#46039f\"],[0.2222222222222222,\"#7201a8\"],[0.3333333333333333,\"#9c179e\"],[0.4444444444444444,\"#bd3786\"],[0.5555555555555556,\"#d8576b\"],[0.6666666666666666,\"#ed7953\"],[0.7777777777777778,\"#fb9f3a\"],[0.8888888888888888,\"#fdca26\"],[1.0,\"#f0f921\"]],\"type\":\"heatmapgl\"}],\"heatmap\":[{\"colorbar\":{\"outlinewidth\":0,\"ticks\":\"\"},\"colorscale\":[[0.0,\"#0d0887\"],[0.1111111111111111,\"#46039f\"],[0.2222222222222222,\"#7201a8\"],[0.3333333333333333,\"#9c179e\"],[0.4444444444444444,\"#bd3786\"],[0.5555555555555556,\"#d8576b\"],[0.6666666666666666,\"#ed7953\"],[0.7777777777777778,\"#fb9f3a\"],[0.8888888888888888,\"#fdca26\"],[1.0,\"#f0f921\"]],\"type\":\"heatmap\"}],\"histogram2dcontour\":[{\"colorbar\":{\"outlinewidth\":0,\"ticks\":\"\"},\"colorscale\":[[0.0,\"#0d0887\"],[0.1111111111111111,\"#46039f\"],[0.2222222222222222,\"#7201a8\"],[0.3333333333333333,\"#9c179e\"],[0.4444444444444444,\"#bd3786\"],[0.5555555555555556,\"#d8576b\"],[0.6666666666666666,\"#ed7953\"],[0.7777777777777778,\"#fb9f3a\"],[0.8888888888888888,\"#fdca26\"],[1.0,\"#f0f921\"]],\"type\":\"histogram2dcontour\"}],\"histogram2d\":[{\"colorbar\":{\"outlinewidth\":0,\"ticks\":\"\"},\"colorscale\":[[0.0,\"#0d0887\"],[0.1111111111111111,\"#46039f\"],[0.2222222222222222,\"#7201a8\"],[0.3333333333333333,\"#9c179e\"],[0.4444444444444444,\"#bd3786\"],[0.5555555555555556,\"#d8576b\"],[0.6666666666666666,\"#ed7953\"],[0.7777777777777778,\"#fb9f3a\"],[0.8888888888888888,\"#fdca26\"],[1.0,\"#f0f921\"]],\"type\":\"histogram2d\"}],\"histogram\":[{\"marker\":{\"pattern\":{\"fillmode\":\"overlay\",\"size\":10,\"solidity\":0.2}},\"type\":\"histogram\"}],\"mesh3d\":[{\"colorbar\":{\"outlinewidth\":0,\"ticks\":\"\"},\"type\":\"mesh3d\"}],\"parcoords\":[{\"line\":{\"colorbar\":{\"outlinewidth\":0,\"ticks\":\"\"}},\"type\":\"parcoords\"}],\"pie\":[{\"automargin\":true,\"type\":\"pie\"}],\"scatter3d\":[{\"line\":{\"colorbar\":{\"outlinewidth\":0,\"ticks\":\"\"}},\"marker\":{\"colorbar\":{\"outlinewidth\":0,\"ticks\":\"\"}},\"type\":\"scatter3d\"}],\"scattercarpet\":[{\"marker\":{\"colorbar\":{\"outlinewidth\":0,\"ticks\":\"\"}},\"type\":\"scattercarpet\"}],\"scattergeo\":[{\"marker\":{\"colorbar\":{\"outlinewidth\":0,\"ticks\":\"\"}},\"type\":\"scattergeo\"}],\"scattergl\":[{\"marker\":{\"colorbar\":{\"outlinewidth\":0,\"ticks\":\"\"}},\"type\":\"scattergl\"}],\"scattermapbox\":[{\"marker\":{\"colorbar\":{\"outlinewidth\":0,\"ticks\":\"\"}},\"type\":\"scattermapbox\"}],\"scatterpolargl\":[{\"marker\":{\"colorbar\":{\"outlinewidth\":0,\"ticks\":\"\"}},\"type\":\"scatterpolargl\"}],\"scatterpolar\":[{\"marker\":{\"colorbar\":{\"outlinewidth\":0,\"ticks\":\"\"}},\"type\":\"scatterpolar\"}],\"scatter\":[{\"fillpattern\":{\"fillmode\":\"overlay\",\"size\":10,\"solidity\":0.2},\"type\":\"scatter\"}],\"scatterternary\":[{\"marker\":{\"colorbar\":{\"outlinewidth\":0,\"ticks\":\"\"}},\"type\":\"scatterternary\"}],\"surface\":[{\"colorbar\":{\"outlinewidth\":0,\"ticks\":\"\"},\"colorscale\":[[0.0,\"#0d0887\"],[0.1111111111111111,\"#46039f\"],[0.2222222222222222,\"#7201a8\"],[0.3333333333333333,\"#9c179e\"],[0.4444444444444444,\"#bd3786\"],[0.5555555555555556,\"#d8576b\"],[0.6666666666666666,\"#ed7953\"],[0.7777777777777778,\"#fb9f3a\"],[0.8888888888888888,\"#fdca26\"],[1.0,\"#f0f921\"]],\"type\":\"surface\"}],\"table\":[{\"cells\":{\"fill\":{\"color\":\"#EBF0F8\"},\"line\":{\"color\":\"white\"}},\"header\":{\"fill\":{\"color\":\"#C8D4E3\"},\"line\":{\"color\":\"white\"}},\"type\":\"table\"}]},\"layout\":{\"annotationdefaults\":{\"arrowcolor\":\"#2a3f5f\",\"arrowhead\":0,\"arrowwidth\":1},\"autotypenumbers\":\"strict\",\"coloraxis\":{\"colorbar\":{\"outlinewidth\":0,\"ticks\":\"\"}},\"colorscale\":{\"diverging\":[[0,\"#8e0152\"],[0.1,\"#c51b7d\"],[0.2,\"#de77ae\"],[0.3,\"#f1b6da\"],[0.4,\"#fde0ef\"],[0.5,\"#f7f7f7\"],[0.6,\"#e6f5d0\"],[0.7,\"#b8e186\"],[0.8,\"#7fbc41\"],[0.9,\"#4d9221\"],[1,\"#276419\"]],\"sequential\":[[0.0,\"#0d0887\"],[0.1111111111111111,\"#46039f\"],[0.2222222222222222,\"#7201a8\"],[0.3333333333333333,\"#9c179e\"],[0.4444444444444444,\"#bd3786\"],[0.5555555555555556,\"#d8576b\"],[0.6666666666666666,\"#ed7953\"],[0.7777777777777778,\"#fb9f3a\"],[0.8888888888888888,\"#fdca26\"],[1.0,\"#f0f921\"]],\"sequentialminus\":[[0.0,\"#0d0887\"],[0.1111111111111111,\"#46039f\"],[0.2222222222222222,\"#7201a8\"],[0.3333333333333333,\"#9c179e\"],[0.4444444444444444,\"#bd3786\"],[0.5555555555555556,\"#d8576b\"],[0.6666666666666666,\"#ed7953\"],[0.7777777777777778,\"#fb9f3a\"],[0.8888888888888888,\"#fdca26\"],[1.0,\"#f0f921\"]]},\"colorway\":[\"#636efa\",\"#EF553B\",\"#00cc96\",\"#ab63fa\",\"#FFA15A\",\"#19d3f3\",\"#FF6692\",\"#B6E880\",\"#FF97FF\",\"#FECB52\"],\"font\":{\"color\":\"#2a3f5f\"},\"geo\":{\"bgcolor\":\"white\",\"lakecolor\":\"white\",\"landcolor\":\"white\",\"showlakes\":true,\"showland\":true,\"subunitcolor\":\"#C8D4E3\"},\"hoverlabel\":{\"align\":\"left\"},\"hovermode\":\"closest\",\"mapbox\":{\"style\":\"light\"},\"paper_bgcolor\":\"white\",\"plot_bgcolor\":\"white\",\"polar\":{\"angularaxis\":{\"gridcolor\":\"#EBF0F8\",\"linecolor\":\"#EBF0F8\",\"ticks\":\"\"},\"bgcolor\":\"white\",\"radialaxis\":{\"gridcolor\":\"#EBF0F8\",\"linecolor\":\"#EBF0F8\",\"ticks\":\"\"}},\"scene\":{\"xaxis\":{\"backgroundcolor\":\"white\",\"gridcolor\":\"#DFE8F3\",\"gridwidth\":2,\"linecolor\":\"#EBF0F8\",\"showbackground\":true,\"ticks\":\"\",\"zerolinecolor\":\"#EBF0F8\"},\"yaxis\":{\"backgroundcolor\":\"white\",\"gridcolor\":\"#DFE8F3\",\"gridwidth\":2,\"linecolor\":\"#EBF0F8\",\"showbackground\":true,\"ticks\":\"\",\"zerolinecolor\":\"#EBF0F8\"},\"zaxis\":{\"backgroundcolor\":\"white\",\"gridcolor\":\"#DFE8F3\",\"gridwidth\":2,\"linecolor\":\"#EBF0F8\",\"showbackground\":true,\"ticks\":\"\",\"zerolinecolor\":\"#EBF0F8\"}},\"shapedefaults\":{\"line\":{\"color\":\"#2a3f5f\"}},\"ternary\":{\"aaxis\":{\"gridcolor\":\"#DFE8F3\",\"linecolor\":\"#A2B1C6\",\"ticks\":\"\"},\"baxis\":{\"gridcolor\":\"#DFE8F3\",\"linecolor\":\"#A2B1C6\",\"ticks\":\"\"},\"bgcolor\":\"white\",\"caxis\":{\"gridcolor\":\"#DFE8F3\",\"linecolor\":\"#A2B1C6\",\"ticks\":\"\"}},\"title\":{\"x\":0.05},\"xaxis\":{\"automargin\":true,\"gridcolor\":\"#EBF0F8\",\"linecolor\":\"#EBF0F8\",\"ticks\":\"\",\"title\":{\"standoff\":15},\"zerolinecolor\":\"#EBF0F8\",\"zerolinewidth\":2},\"yaxis\":{\"automargin\":true,\"gridcolor\":\"#EBF0F8\",\"linecolor\":\"#EBF0F8\",\"ticks\":\"\",\"title\":{\"standoff\":15},\"zerolinecolor\":\"#EBF0F8\",\"zerolinewidth\":2}}},\"title\":{\"text\":\"PSA Distribution PICAI\"},\"xaxis\":{\"title\":{\"text\":\"PSA\"}},\"yaxis\":{\"title\":{\"text\":\"Count\"},\"automargin\":true},\"plot_bgcolor\":\"rgba(0,0,0,0)\",\"paper_bgcolor\":\"rgba(0,0,0,0)\"},                        {\"responsive\": true}                    ).then(function(){\n",
       "                            \n",
       "var gd = document.getElementById('b739071e-e661-4ede-9cda-a43161a2966b');\n",
       "var x = new MutationObserver(function (mutations, observer) {{\n",
       "        var display = window.getComputedStyle(gd).display;\n",
       "        if (!display || display === 'none') {{\n",
       "            console.log([gd, 'removed!']);\n",
       "            Plotly.purge(gd);\n",
       "            observer.disconnect();\n",
       "        }}\n",
       "}});\n",
       "\n",
       "// Listen for the removal of the full notebook cells\n",
       "var notebookContainer = gd.closest('#notebook-container');\n",
       "if (notebookContainer) {{\n",
       "    x.observe(notebookContainer, {childList: true});\n",
       "}}\n",
       "\n",
       "// Listen for the clearing of the current output cell\n",
       "var outputEl = gd.closest('.output');\n",
       "if (outputEl) {{\n",
       "    x.observe(outputEl, {childList: true});\n",
       "}}\n",
       "\n",
       "                        })                };                });            </script>        </div>"
      ]
     },
     "metadata": {},
     "output_type": "display_data"
    }
   ],
   "source": [
    "plot_histogram_plotly(\n",
    "    df,\n",
    "    \"psa\",\n",
    "    \"PSA Distribution PICAI\",\n",
    "    \"PSA\",\n",
    "    \"Count\",\n",
    "    20,\n",
    "    fig_name=os.path.join(figs_path, \"psa_distribution_picai.pdf\"),\n",
    ")"
   ]
  },
  {
   "cell_type": "code",
   "execution_count": 31,
   "metadata": {},
   "outputs": [
    {
     "data": {
      "application/vnd.plotly.v1+json": {
       "config": {
        "plotlyServerURL": "https://plot.ly"
       },
       "data": [
        {
         "marker": {
          "color": "#e1846c",
          "line": {
           "color": "DarkSlateGrey",
           "width": 1
          }
         },
         "nbinsx": 20,
         "textposition": "auto",
         "texttemplate": "%{y}",
         "type": "histogram",
         "x": [
          58,
          21,
          22,
          33,
          37,
          32,
          40,
          63,
          63.76,
          40,
          26,
          49,
          95,
          40,
          45,
          63,
          32,
          31,
          60,
          35,
          35,
          107,
          61,
          64,
          58,
          84,
          117,
          105,
          83,
          130,
          52,
          24,
          54,
          37,
          45,
          25,
          114,
          152,
          60,
          130,
          16,
          70,
          64,
          58,
          37,
          58,
          46,
          206,
          108,
          42,
          28,
          null,
          95,
          34,
          47,
          41,
          180,
          37,
          75,
          29,
          91,
          70,
          60,
          51,
          55,
          56,
          41,
          39,
          39,
          48.3,
          42,
          96,
          44,
          46,
          37,
          49,
          32,
          55.87,
          26,
          35,
          64,
          49,
          66,
          112,
          15,
          56,
          34,
          78,
          99,
          64,
          110,
          33,
          80,
          62,
          27,
          157,
          75,
          82,
          68,
          13,
          61,
          106,
          56,
          59,
          24,
          58,
          39,
          30,
          55,
          48.89,
          63,
          63,
          56,
          72,
          70,
          83,
          68,
          98,
          200,
          40,
          205,
          34,
          58,
          91,
          40,
          66,
          61,
          50,
          45,
          49,
          95,
          47,
          25,
          88,
          70,
          52,
          53,
          29,
          104,
          49,
          35.4,
          63,
          31,
          66,
          55,
          155,
          44,
          101,
          74,
          104,
          56,
          77.63,
          52,
          52,
          62,
          63,
          41,
          96,
          125,
          null,
          35,
          93,
          56,
          105,
          33,
          58,
          84,
          51,
          106,
          91,
          113,
          120,
          43,
          73,
          42,
          36.7,
          29,
          51,
          null,
          60,
          101,
          124,
          28,
          102,
          119,
          42,
          15,
          59,
          63,
          30,
          80,
          108,
          26,
          34,
          75,
          57,
          28,
          51,
          61,
          35,
          83,
          25,
          69,
          47,
          null,
          21,
          90.5,
          120,
          77,
          57.28,
          70,
          83,
          45,
          78,
          50,
          45,
          69,
          75,
          50,
          88,
          42,
          196,
          22,
          20,
          32,
          34,
          30,
          138,
          57,
          54,
          78,
          27,
          32,
          106,
          49,
          48,
          57,
          51,
          44,
          61,
          52,
          35,
          68,
          43,
          103,
          61,
          54,
          40,
          19,
          78,
          136,
          70,
          37,
          80,
          49,
          54,
          23,
          35,
          60.96,
          92,
          22,
          69,
          41,
          33.4,
          54,
          136.2,
          43,
          34,
          72,
          24,
          51,
          38,
          30,
          59,
          38,
          90,
          161,
          41,
          37,
          46,
          28,
          122,
          20,
          50,
          49,
          55,
          65,
          35,
          41,
          74,
          66,
          25,
          308,
          188,
          82,
          31,
          63,
          41,
          80,
          58,
          77,
          50,
          50,
          59,
          52,
          59,
          83,
          29,
          50,
          41,
          null,
          118.75,
          45,
          68,
          55,
          75,
          114,
          60,
          68,
          20,
          102,
          30,
          40,
          85,
          100,
          40,
          37,
          28,
          35,
          28,
          21,
          134,
          150,
          26,
          81.43,
          120,
          73,
          42,
          30,
          71,
          30,
          68,
          77,
          95,
          38,
          33,
          70,
          31,
          74,
          61,
          39,
          45,
          40,
          100,
          60,
          53,
          48,
          21,
          55,
          53,
          55,
          40,
          62,
          104,
          32,
          89,
          191.68,
          69,
          50,
          49,
          35,
          57,
          66,
          43,
          57,
          92,
          70,
          25,
          35,
          38,
          51,
          null,
          56,
          128,
          67,
          40,
          44,
          44,
          32,
          187,
          45,
          48,
          34,
          20,
          32,
          47,
          114,
          43,
          56,
          33.96,
          170,
          49,
          33,
          22,
          30,
          39,
          56,
          18,
          55,
          57,
          35,
          109,
          31,
          44,
          28,
          47,
          35,
          48,
          48.92,
          60,
          63,
          60,
          81,
          47,
          93,
          41,
          65,
          125,
          37,
          100,
          38,
          53,
          62,
          77,
          58,
          33,
          83,
          29,
          37,
          89,
          60,
          44,
          41,
          96,
          102,
          29,
          100,
          45.24,
          110,
          57,
          139,
          34,
          20,
          35,
          85,
          103,
          59,
          21,
          54,
          37,
          82,
          48,
          67,
          38.5,
          28,
          105,
          24,
          111.4,
          225,
          32,
          60,
          90,
          103,
          62,
          30,
          28,
          110,
          68,
          82,
          78,
          97,
          38,
          83,
          162,
          50,
          30,
          30,
          28,
          null,
          70,
          48,
          67,
          42,
          41,
          31,
          42,
          133,
          118,
          48,
          90,
          30,
          50,
          95,
          90,
          57,
          52,
          null,
          63,
          43,
          36.8,
          67,
          36,
          67,
          71,
          23,
          104.99,
          85,
          63,
          37,
          79,
          80,
          35,
          60,
          87,
          72,
          44,
          65,
          55,
          82,
          55,
          79,
          34,
          13,
          75,
          56,
          201,
          38,
          37,
          59,
          58,
          58,
          72,
          85,
          80.93,
          51,
          33,
          76,
          38,
          76,
          52,
          69,
          151,
          47,
          49,
          69,
          56,
          31,
          30,
          29.8,
          27,
          32,
          71,
          25,
          39.06,
          35,
          null,
          60,
          70,
          28,
          161,
          103,
          103,
          120,
          90,
          27,
          104,
          87,
          86,
          184,
          136,
          88,
          null,
          60,
          150,
          64,
          47,
          40,
          64,
          23,
          25,
          77,
          57,
          52,
          41,
          41.78,
          61,
          68,
          106,
          87,
          81,
          23,
          38,
          74.5,
          65,
          60,
          60,
          39,
          42,
          61,
          80,
          75,
          40,
          21,
          55,
          34,
          25,
          58,
          75,
          32,
          null,
          46,
          28,
          52,
          129,
          67,
          33,
          120,
          25,
          50,
          117,
          33,
          95,
          52,
          99,
          17.86,
          55,
          70,
          33,
          97,
          53,
          61.32,
          54,
          34,
          32,
          48,
          52,
          31,
          99.6,
          100,
          204,
          51,
          105,
          31,
          107,
          59,
          70,
          36,
          49,
          23,
          97,
          67,
          89,
          61,
          76,
          68,
          30,
          62.3,
          87,
          24,
          86,
          91,
          52,
          60,
          76,
          28,
          31.6,
          55,
          77,
          128,
          14,
          152,
          33,
          30,
          100,
          110,
          82,
          76,
          null,
          70,
          50,
          38,
          30,
          73,
          130,
          43,
          44,
          50,
          44,
          91,
          83,
          null,
          124,
          18,
          16,
          65.21,
          59,
          73,
          73,
          63,
          64,
          98,
          74,
          115,
          67,
          75,
          28,
          47,
          114.7,
          null,
          154,
          57,
          48,
          30,
          78.5,
          111,
          10,
          279,
          104,
          106,
          14,
          37,
          45,
          74,
          53,
          75,
          61,
          55.13,
          62,
          96,
          103,
          29,
          109,
          111,
          40,
          108,
          49,
          65,
          56,
          49,
          58,
          39,
          49,
          55,
          56,
          70,
          69,
          103,
          25,
          51,
          75,
          50,
          50,
          65,
          38,
          47,
          210,
          68,
          80,
          30,
          null,
          75,
          78,
          57,
          47,
          126,
          121,
          87,
          25,
          36,
          26,
          48,
          183,
          35,
          30,
          35,
          40,
          86,
          99.5,
          49,
          38,
          62,
          29,
          32,
          80,
          145,
          44,
          28,
          55,
          32,
          42,
          60,
          47,
          46,
          88,
          43,
          17,
          55,
          91,
          28,
          28,
          150,
          141,
          38,
          30,
          62,
          130,
          44,
          125,
          37,
          106,
          null,
          30,
          21,
          68,
          59,
          36,
          56,
          130,
          87,
          14,
          34,
          59.55,
          67,
          45,
          121,
          19,
          43,
          62,
          34,
          null,
          102,
          100,
          55,
          122,
          38,
          36,
          68.49,
          70,
          42,
          53,
          38,
          44,
          78,
          null,
          47,
          26.5,
          200,
          122.92,
          73,
          54,
          85,
          252,
          50,
          89,
          42,
          34,
          55,
          82,
          70,
          70,
          48,
          39,
          50,
          57,
          36,
          92,
          97,
          36,
          100,
          48,
          51,
          70,
          167,
          32,
          84,
          31,
          37,
          75,
          65,
          88,
          37.7,
          48,
          55,
          145,
          102,
          47,
          117,
          28,
          79,
          50,
          131,
          36,
          106,
          25,
          75,
          47,
          66,
          37,
          50,
          35,
          75,
          52,
          69,
          47,
          47,
          78,
          146,
          32,
          55,
          85,
          36,
          118,
          115,
          61,
          49,
          60,
          null,
          49,
          48,
          77,
          77,
          45,
          57,
          18,
          60,
          81,
          61,
          45,
          30.68,
          85,
          35,
          35,
          81,
          86,
          49,
          56,
          69,
          28,
          38,
          47,
          69,
          37,
          71,
          50.72,
          44,
          51,
          37,
          36,
          80,
          39,
          50,
          64,
          33,
          17,
          49,
          55,
          180,
          69,
          57,
          93,
          32,
          50,
          44,
          38,
          39,
          105,
          51,
          19,
          47,
          30,
          25,
          44,
          112,
          59,
          64,
          84,
          62,
          70,
          33,
          73,
          78,
          38,
          56,
          114,
          40,
          29,
          114,
          27,
          35,
          66,
          4,
          66,
          165,
          52,
          110,
          66,
          33,
          59,
          58,
          94.53,
          28,
          57,
          49,
          53,
          88,
          65,
          72,
          73,
          133,
          70,
          66,
          35.5,
          40,
          79.26,
          146,
          28,
          47,
          42,
          41,
          164,
          180,
          57,
          69,
          76,
          null,
          75,
          67,
          47,
          95,
          140,
          60,
          64,
          26,
          65,
          36,
          55,
          65,
          43,
          23.4,
          136,
          58,
          44,
          66,
          18,
          50.89,
          53,
          50,
          148,
          149,
          84,
          120,
          132,
          185,
          74,
          62,
          77,
          127,
          60,
          36,
          83,
          140,
          75,
          72,
          37,
          50,
          56,
          28,
          53,
          43,
          57,
          22,
          79.98,
          68,
          124,
          73,
          21.28,
          33,
          59,
          31,
          61,
          31,
          77,
          57.66,
          44,
          34,
          17,
          62,
          100,
          69,
          22,
          68,
          89,
          89,
          69,
          35,
          99.2,
          40,
          44,
          44,
          53,
          37,
          40,
          40,
          76,
          null,
          60,
          50,
          24,
          41,
          62.7,
          60,
          110,
          26,
          83,
          92,
          115,
          80,
          70,
          65,
          99,
          184.07,
          43,
          148,
          27.7,
          56,
          51,
          66,
          85,
          91,
          90,
          47,
          50,
          37,
          77,
          71,
          35,
          42,
          57,
          19,
          146,
          33,
          115,
          125,
          20,
          57,
          112.15,
          81,
          40,
          47,
          77,
          80,
          70,
          114,
          47,
          36,
          80,
          79,
          34,
          170,
          145,
          36,
          32,
          32,
          38,
          72,
          91,
          16.8,
          168,
          81,
          79,
          21,
          41,
          88,
          117,
          147.4,
          41,
          13,
          null,
          57,
          62,
          32,
          147,
          32,
          57,
          49,
          32,
          26,
          107,
          64,
          57,
          67,
          129,
          44,
          45,
          20,
          64,
          45,
          86,
          85,
          34,
          39,
          46,
          56,
          43,
          74,
          64,
          81,
          108,
          47,
          69,
          37,
          54,
          33,
          73,
          60,
          60,
          35,
          36,
          96,
          51,
          69,
          43,
          64,
          null,
          99,
          42,
          22,
          79,
          78,
          44,
          46,
          45,
          36,
          18,
          93.47,
          134,
          82,
          28,
          73,
          38,
          100,
          72,
          125,
          92.36,
          59,
          71,
          90,
          72,
          23,
          123,
          95,
          45,
          131,
          62,
          57,
          71.18,
          82,
          44.78,
          87,
          91,
          71.5,
          45.8,
          123,
          47,
          48,
          26,
          70,
          72,
          104,
          85,
          40.49,
          48,
          16,
          51,
          55,
          27,
          107,
          57,
          41,
          62,
          63,
          148,
          50,
          38,
          112,
          43,
          78,
          58,
          49,
          106,
          54,
          42,
          25,
          40,
          46,
          50,
          100,
          48,
          71,
          73,
          42,
          104,
          88,
          72,
          77,
          176,
          41,
          66.5,
          53,
          24,
          97,
          45,
          20,
          41,
          47,
          46,
          40,
          72,
          130,
          50,
          71,
          87,
          64,
          50,
          44,
          32.52,
          50,
          156,
          132,
          68,
          46,
          24,
          37.3,
          102,
          43,
          73,
          62,
          50,
          120,
          39,
          47,
          235.69,
          73,
          41,
          180,
          71,
          64.14,
          98,
          65,
          216,
          104,
          37,
          113,
          41.23,
          35,
          94,
          56,
          55,
          62,
          70,
          64,
          48,
          47,
          null,
          40,
          16,
          96,
          68,
          20,
          38,
          46,
          65,
          23,
          60,
          42,
          50.47,
          45,
          114,
          142,
          105,
          94,
          84,
          59,
          37,
          81,
          64,
          172,
          86,
          61,
          44,
          25,
          120,
          68,
          50,
          62,
          104,
          72,
          61,
          50,
          115,
          100,
          39,
          53,
          74,
          38,
          39,
          46,
          39,
          42,
          27,
          42,
          29,
          116.62,
          22,
          38,
          65,
          null,
          33,
          69,
          39,
          146,
          41.5,
          106,
          26,
          null,
          83,
          100,
          183,
          51,
          36,
          42,
          53,
          66,
          117,
          35,
          79,
          89,
          32,
          29,
          45,
          null,
          46,
          50,
          15,
          45,
          53,
          55,
          24,
          69,
          61,
          41,
          115,
          87,
          100,
          44,
          23,
          62,
          26,
          61,
          79,
          53,
          56,
          94,
          42,
          149,
          37,
          57,
          36,
          60,
          70,
          192,
          55,
          102,
          63,
          184,
          23,
          100,
          64,
          29,
          64,
          92,
          53,
          170
         ]
        }
       ],
       "layout": {
        "paper_bgcolor": "rgba(0,0,0,0)",
        "plot_bgcolor": "rgba(0,0,0,0)",
        "template": {
         "data": {
          "bar": [
           {
            "error_x": {
             "color": "#2a3f5f"
            },
            "error_y": {
             "color": "#2a3f5f"
            },
            "marker": {
             "line": {
              "color": "white",
              "width": 0.5
             },
             "pattern": {
              "fillmode": "overlay",
              "size": 10,
              "solidity": 0.2
             }
            },
            "type": "bar"
           }
          ],
          "barpolar": [
           {
            "marker": {
             "line": {
              "color": "white",
              "width": 0.5
             },
             "pattern": {
              "fillmode": "overlay",
              "size": 10,
              "solidity": 0.2
             }
            },
            "type": "barpolar"
           }
          ],
          "carpet": [
           {
            "aaxis": {
             "endlinecolor": "#2a3f5f",
             "gridcolor": "#C8D4E3",
             "linecolor": "#C8D4E3",
             "minorgridcolor": "#C8D4E3",
             "startlinecolor": "#2a3f5f"
            },
            "baxis": {
             "endlinecolor": "#2a3f5f",
             "gridcolor": "#C8D4E3",
             "linecolor": "#C8D4E3",
             "minorgridcolor": "#C8D4E3",
             "startlinecolor": "#2a3f5f"
            },
            "type": "carpet"
           }
          ],
          "choropleth": [
           {
            "colorbar": {
             "outlinewidth": 0,
             "ticks": ""
            },
            "type": "choropleth"
           }
          ],
          "contour": [
           {
            "colorbar": {
             "outlinewidth": 0,
             "ticks": ""
            },
            "colorscale": [
             [
              0,
              "#0d0887"
             ],
             [
              0.1111111111111111,
              "#46039f"
             ],
             [
              0.2222222222222222,
              "#7201a8"
             ],
             [
              0.3333333333333333,
              "#9c179e"
             ],
             [
              0.4444444444444444,
              "#bd3786"
             ],
             [
              0.5555555555555556,
              "#d8576b"
             ],
             [
              0.6666666666666666,
              "#ed7953"
             ],
             [
              0.7777777777777778,
              "#fb9f3a"
             ],
             [
              0.8888888888888888,
              "#fdca26"
             ],
             [
              1,
              "#f0f921"
             ]
            ],
            "type": "contour"
           }
          ],
          "contourcarpet": [
           {
            "colorbar": {
             "outlinewidth": 0,
             "ticks": ""
            },
            "type": "contourcarpet"
           }
          ],
          "heatmap": [
           {
            "colorbar": {
             "outlinewidth": 0,
             "ticks": ""
            },
            "colorscale": [
             [
              0,
              "#0d0887"
             ],
             [
              0.1111111111111111,
              "#46039f"
             ],
             [
              0.2222222222222222,
              "#7201a8"
             ],
             [
              0.3333333333333333,
              "#9c179e"
             ],
             [
              0.4444444444444444,
              "#bd3786"
             ],
             [
              0.5555555555555556,
              "#d8576b"
             ],
             [
              0.6666666666666666,
              "#ed7953"
             ],
             [
              0.7777777777777778,
              "#fb9f3a"
             ],
             [
              0.8888888888888888,
              "#fdca26"
             ],
             [
              1,
              "#f0f921"
             ]
            ],
            "type": "heatmap"
           }
          ],
          "heatmapgl": [
           {
            "colorbar": {
             "outlinewidth": 0,
             "ticks": ""
            },
            "colorscale": [
             [
              0,
              "#0d0887"
             ],
             [
              0.1111111111111111,
              "#46039f"
             ],
             [
              0.2222222222222222,
              "#7201a8"
             ],
             [
              0.3333333333333333,
              "#9c179e"
             ],
             [
              0.4444444444444444,
              "#bd3786"
             ],
             [
              0.5555555555555556,
              "#d8576b"
             ],
             [
              0.6666666666666666,
              "#ed7953"
             ],
             [
              0.7777777777777778,
              "#fb9f3a"
             ],
             [
              0.8888888888888888,
              "#fdca26"
             ],
             [
              1,
              "#f0f921"
             ]
            ],
            "type": "heatmapgl"
           }
          ],
          "histogram": [
           {
            "marker": {
             "pattern": {
              "fillmode": "overlay",
              "size": 10,
              "solidity": 0.2
             }
            },
            "type": "histogram"
           }
          ],
          "histogram2d": [
           {
            "colorbar": {
             "outlinewidth": 0,
             "ticks": ""
            },
            "colorscale": [
             [
              0,
              "#0d0887"
             ],
             [
              0.1111111111111111,
              "#46039f"
             ],
             [
              0.2222222222222222,
              "#7201a8"
             ],
             [
              0.3333333333333333,
              "#9c179e"
             ],
             [
              0.4444444444444444,
              "#bd3786"
             ],
             [
              0.5555555555555556,
              "#d8576b"
             ],
             [
              0.6666666666666666,
              "#ed7953"
             ],
             [
              0.7777777777777778,
              "#fb9f3a"
             ],
             [
              0.8888888888888888,
              "#fdca26"
             ],
             [
              1,
              "#f0f921"
             ]
            ],
            "type": "histogram2d"
           }
          ],
          "histogram2dcontour": [
           {
            "colorbar": {
             "outlinewidth": 0,
             "ticks": ""
            },
            "colorscale": [
             [
              0,
              "#0d0887"
             ],
             [
              0.1111111111111111,
              "#46039f"
             ],
             [
              0.2222222222222222,
              "#7201a8"
             ],
             [
              0.3333333333333333,
              "#9c179e"
             ],
             [
              0.4444444444444444,
              "#bd3786"
             ],
             [
              0.5555555555555556,
              "#d8576b"
             ],
             [
              0.6666666666666666,
              "#ed7953"
             ],
             [
              0.7777777777777778,
              "#fb9f3a"
             ],
             [
              0.8888888888888888,
              "#fdca26"
             ],
             [
              1,
              "#f0f921"
             ]
            ],
            "type": "histogram2dcontour"
           }
          ],
          "mesh3d": [
           {
            "colorbar": {
             "outlinewidth": 0,
             "ticks": ""
            },
            "type": "mesh3d"
           }
          ],
          "parcoords": [
           {
            "line": {
             "colorbar": {
              "outlinewidth": 0,
              "ticks": ""
             }
            },
            "type": "parcoords"
           }
          ],
          "pie": [
           {
            "automargin": true,
            "type": "pie"
           }
          ],
          "scatter": [
           {
            "fillpattern": {
             "fillmode": "overlay",
             "size": 10,
             "solidity": 0.2
            },
            "type": "scatter"
           }
          ],
          "scatter3d": [
           {
            "line": {
             "colorbar": {
              "outlinewidth": 0,
              "ticks": ""
             }
            },
            "marker": {
             "colorbar": {
              "outlinewidth": 0,
              "ticks": ""
             }
            },
            "type": "scatter3d"
           }
          ],
          "scattercarpet": [
           {
            "marker": {
             "colorbar": {
              "outlinewidth": 0,
              "ticks": ""
             }
            },
            "type": "scattercarpet"
           }
          ],
          "scattergeo": [
           {
            "marker": {
             "colorbar": {
              "outlinewidth": 0,
              "ticks": ""
             }
            },
            "type": "scattergeo"
           }
          ],
          "scattergl": [
           {
            "marker": {
             "colorbar": {
              "outlinewidth": 0,
              "ticks": ""
             }
            },
            "type": "scattergl"
           }
          ],
          "scattermapbox": [
           {
            "marker": {
             "colorbar": {
              "outlinewidth": 0,
              "ticks": ""
             }
            },
            "type": "scattermapbox"
           }
          ],
          "scatterpolar": [
           {
            "marker": {
             "colorbar": {
              "outlinewidth": 0,
              "ticks": ""
             }
            },
            "type": "scatterpolar"
           }
          ],
          "scatterpolargl": [
           {
            "marker": {
             "colorbar": {
              "outlinewidth": 0,
              "ticks": ""
             }
            },
            "type": "scatterpolargl"
           }
          ],
          "scatterternary": [
           {
            "marker": {
             "colorbar": {
              "outlinewidth": 0,
              "ticks": ""
             }
            },
            "type": "scatterternary"
           }
          ],
          "surface": [
           {
            "colorbar": {
             "outlinewidth": 0,
             "ticks": ""
            },
            "colorscale": [
             [
              0,
              "#0d0887"
             ],
             [
              0.1111111111111111,
              "#46039f"
             ],
             [
              0.2222222222222222,
              "#7201a8"
             ],
             [
              0.3333333333333333,
              "#9c179e"
             ],
             [
              0.4444444444444444,
              "#bd3786"
             ],
             [
              0.5555555555555556,
              "#d8576b"
             ],
             [
              0.6666666666666666,
              "#ed7953"
             ],
             [
              0.7777777777777778,
              "#fb9f3a"
             ],
             [
              0.8888888888888888,
              "#fdca26"
             ],
             [
              1,
              "#f0f921"
             ]
            ],
            "type": "surface"
           }
          ],
          "table": [
           {
            "cells": {
             "fill": {
              "color": "#EBF0F8"
             },
             "line": {
              "color": "white"
             }
            },
            "header": {
             "fill": {
              "color": "#C8D4E3"
             },
             "line": {
              "color": "white"
             }
            },
            "type": "table"
           }
          ]
         },
         "layout": {
          "annotationdefaults": {
           "arrowcolor": "#2a3f5f",
           "arrowhead": 0,
           "arrowwidth": 1
          },
          "autotypenumbers": "strict",
          "coloraxis": {
           "colorbar": {
            "outlinewidth": 0,
            "ticks": ""
           }
          },
          "colorscale": {
           "diverging": [
            [
             0,
             "#8e0152"
            ],
            [
             0.1,
             "#c51b7d"
            ],
            [
             0.2,
             "#de77ae"
            ],
            [
             0.3,
             "#f1b6da"
            ],
            [
             0.4,
             "#fde0ef"
            ],
            [
             0.5,
             "#f7f7f7"
            ],
            [
             0.6,
             "#e6f5d0"
            ],
            [
             0.7,
             "#b8e186"
            ],
            [
             0.8,
             "#7fbc41"
            ],
            [
             0.9,
             "#4d9221"
            ],
            [
             1,
             "#276419"
            ]
           ],
           "sequential": [
            [
             0,
             "#0d0887"
            ],
            [
             0.1111111111111111,
             "#46039f"
            ],
            [
             0.2222222222222222,
             "#7201a8"
            ],
            [
             0.3333333333333333,
             "#9c179e"
            ],
            [
             0.4444444444444444,
             "#bd3786"
            ],
            [
             0.5555555555555556,
             "#d8576b"
            ],
            [
             0.6666666666666666,
             "#ed7953"
            ],
            [
             0.7777777777777778,
             "#fb9f3a"
            ],
            [
             0.8888888888888888,
             "#fdca26"
            ],
            [
             1,
             "#f0f921"
            ]
           ],
           "sequentialminus": [
            [
             0,
             "#0d0887"
            ],
            [
             0.1111111111111111,
             "#46039f"
            ],
            [
             0.2222222222222222,
             "#7201a8"
            ],
            [
             0.3333333333333333,
             "#9c179e"
            ],
            [
             0.4444444444444444,
             "#bd3786"
            ],
            [
             0.5555555555555556,
             "#d8576b"
            ],
            [
             0.6666666666666666,
             "#ed7953"
            ],
            [
             0.7777777777777778,
             "#fb9f3a"
            ],
            [
             0.8888888888888888,
             "#fdca26"
            ],
            [
             1,
             "#f0f921"
            ]
           ]
          },
          "colorway": [
           "#636efa",
           "#EF553B",
           "#00cc96",
           "#ab63fa",
           "#FFA15A",
           "#19d3f3",
           "#FF6692",
           "#B6E880",
           "#FF97FF",
           "#FECB52"
          ],
          "font": {
           "color": "#2a3f5f"
          },
          "geo": {
           "bgcolor": "white",
           "lakecolor": "white",
           "landcolor": "white",
           "showlakes": true,
           "showland": true,
           "subunitcolor": "#C8D4E3"
          },
          "hoverlabel": {
           "align": "left"
          },
          "hovermode": "closest",
          "mapbox": {
           "style": "light"
          },
          "paper_bgcolor": "white",
          "plot_bgcolor": "white",
          "polar": {
           "angularaxis": {
            "gridcolor": "#EBF0F8",
            "linecolor": "#EBF0F8",
            "ticks": ""
           },
           "bgcolor": "white",
           "radialaxis": {
            "gridcolor": "#EBF0F8",
            "linecolor": "#EBF0F8",
            "ticks": ""
           }
          },
          "scene": {
           "xaxis": {
            "backgroundcolor": "white",
            "gridcolor": "#DFE8F3",
            "gridwidth": 2,
            "linecolor": "#EBF0F8",
            "showbackground": true,
            "ticks": "",
            "zerolinecolor": "#EBF0F8"
           },
           "yaxis": {
            "backgroundcolor": "white",
            "gridcolor": "#DFE8F3",
            "gridwidth": 2,
            "linecolor": "#EBF0F8",
            "showbackground": true,
            "ticks": "",
            "zerolinecolor": "#EBF0F8"
           },
           "zaxis": {
            "backgroundcolor": "white",
            "gridcolor": "#DFE8F3",
            "gridwidth": 2,
            "linecolor": "#EBF0F8",
            "showbackground": true,
            "ticks": "",
            "zerolinecolor": "#EBF0F8"
           }
          },
          "shapedefaults": {
           "line": {
            "color": "#2a3f5f"
           }
          },
          "ternary": {
           "aaxis": {
            "gridcolor": "#DFE8F3",
            "linecolor": "#A2B1C6",
            "ticks": ""
           },
           "baxis": {
            "gridcolor": "#DFE8F3",
            "linecolor": "#A2B1C6",
            "ticks": ""
           },
           "bgcolor": "white",
           "caxis": {
            "gridcolor": "#DFE8F3",
            "linecolor": "#A2B1C6",
            "ticks": ""
           }
          },
          "title": {
           "x": 0.05
          },
          "xaxis": {
           "automargin": true,
           "gridcolor": "#EBF0F8",
           "linecolor": "#EBF0F8",
           "ticks": "",
           "title": {
            "standoff": 15
           },
           "zerolinecolor": "#EBF0F8",
           "zerolinewidth": 2
          },
          "yaxis": {
           "automargin": true,
           "gridcolor": "#EBF0F8",
           "linecolor": "#EBF0F8",
           "ticks": "",
           "title": {
            "standoff": 15
           },
           "zerolinecolor": "#EBF0F8",
           "zerolinewidth": 2
          }
         }
        },
        "title": {
         "text": "Prostate Volume Distribution PICAI"
        },
        "xaxis": {
         "title": {
          "text": "Prostate Volume"
         }
        },
        "yaxis": {
         "automargin": true,
         "title": {
          "text": "Count"
         }
        }
       }
      },
      "text/html": [
       "<div>                            <div id=\"95d1510b-7a2b-4eeb-bbc2-5f35e3216fc2\" class=\"plotly-graph-div\" style=\"height:525px; width:100%;\"></div>            <script type=\"text/javascript\">                require([\"plotly\"], function(Plotly) {                    window.PLOTLYENV=window.PLOTLYENV || {};                                    if (document.getElementById(\"95d1510b-7a2b-4eeb-bbc2-5f35e3216fc2\")) {                    Plotly.newPlot(                        \"95d1510b-7a2b-4eeb-bbc2-5f35e3216fc2\",                        [{\"marker\":{\"color\":\"#e1846c\",\"line\":{\"color\":\"DarkSlateGrey\",\"width\":1}},\"nbinsx\":20,\"x\":[58.0,21.0,22.0,33.0,37.0,32.0,40.0,63.0,63.76,40.0,26.0,49.0,95.0,40.0,45.0,63.0,32.0,31.0,60.0,35.0,35.0,107.0,61.0,64.0,58.0,84.0,117.0,105.0,83.0,130.0,52.0,24.0,54.0,37.0,45.0,25.0,114.0,152.0,60.0,130.0,16.0,70.0,64.0,58.0,37.0,58.0,46.0,206.0,108.0,42.0,28.0,null,95.0,34.0,47.0,41.0,180.0,37.0,75.0,29.0,91.0,70.0,60.0,51.0,55.0,56.0,41.0,39.0,39.0,48.3,42.0,96.0,44.0,46.0,37.0,49.0,32.0,55.87,26.0,35.0,64.0,49.0,66.0,112.0,15.0,56.0,34.0,78.0,99.0,64.0,110.0,33.0,80.0,62.0,27.0,157.0,75.0,82.0,68.0,13.0,61.0,106.0,56.0,59.0,24.0,58.0,39.0,30.0,55.0,48.89,63.0,63.0,56.0,72.0,70.0,83.0,68.0,98.0,200.0,40.0,205.0,34.0,58.0,91.0,40.0,66.0,61.0,50.0,45.0,49.0,95.0,47.0,25.0,88.0,70.0,52.0,53.0,29.0,104.0,49.0,35.4,63.0,31.0,66.0,55.0,155.0,44.0,101.0,74.0,104.0,56.0,77.63,52.0,52.0,62.0,63.0,41.0,96.0,125.0,null,35.0,93.0,56.0,105.0,33.0,58.0,84.0,51.0,106.0,91.0,113.0,120.0,43.0,73.0,42.0,36.7,29.0,51.0,null,60.0,101.0,124.0,28.0,102.0,119.0,42.0,15.0,59.0,63.0,30.0,80.0,108.0,26.0,34.0,75.0,57.0,28.0,51.0,61.0,35.0,83.0,25.0,69.0,47.0,null,21.0,90.5,120.0,77.0,57.28,70.0,83.0,45.0,78.0,50.0,45.0,69.0,75.0,50.0,88.0,42.0,196.0,22.0,20.0,32.0,34.0,30.0,138.0,57.0,54.0,78.0,27.0,32.0,106.0,49.0,48.0,57.0,51.0,44.0,61.0,52.0,35.0,68.0,43.0,103.0,61.0,54.0,40.0,19.0,78.0,136.0,70.0,37.0,80.0,49.0,54.0,23.0,35.0,60.96,92.0,22.0,69.0,41.0,33.4,54.0,136.2,43.0,34.0,72.0,24.0,51.0,38.0,30.0,59.0,38.0,90.0,161.0,41.0,37.0,46.0,28.0,122.0,20.0,50.0,49.0,55.0,65.0,35.0,41.0,74.0,66.0,25.0,308.0,188.0,82.0,31.0,63.0,41.0,80.0,58.0,77.0,50.0,50.0,59.0,52.0,59.0,83.0,29.0,50.0,41.0,null,118.75,45.0,68.0,55.0,75.0,114.0,60.0,68.0,20.0,102.0,30.0,40.0,85.0,100.0,40.0,37.0,28.0,35.0,28.0,21.0,134.0,150.0,26.0,81.43,120.0,73.0,42.0,30.0,71.0,30.0,68.0,77.0,95.0,38.0,33.0,70.0,31.0,74.0,61.0,39.0,45.0,40.0,100.0,60.0,53.0,48.0,21.0,55.0,53.0,55.0,40.0,62.0,104.0,32.0,89.0,191.68,69.0,50.0,49.0,35.0,57.0,66.0,43.0,57.0,92.0,70.0,25.0,35.0,38.0,51.0,null,56.0,128.0,67.0,40.0,44.0,44.0,32.0,187.0,45.0,48.0,34.0,20.0,32.0,47.0,114.0,43.0,56.0,33.96,170.0,49.0,33.0,22.0,30.0,39.0,56.0,18.0,55.0,57.0,35.0,109.0,31.0,44.0,28.0,47.0,35.0,48.0,48.92,60.0,63.0,60.0,81.0,47.0,93.0,41.0,65.0,125.0,37.0,100.0,38.0,53.0,62.0,77.0,58.0,33.0,83.0,29.0,37.0,89.0,60.0,44.0,41.0,96.0,102.0,29.0,100.0,45.24,110.0,57.0,139.0,34.0,20.0,35.0,85.0,103.0,59.0,21.0,54.0,37.0,82.0,48.0,67.0,38.5,28.0,105.0,24.0,111.4,225.0,32.0,60.0,90.0,103.0,62.0,30.0,28.0,110.0,68.0,82.0,78.0,97.0,38.0,83.0,162.0,50.0,30.0,30.0,28.0,null,70.0,48.0,67.0,42.0,41.0,31.0,42.0,133.0,118.0,48.0,90.0,30.0,50.0,95.0,90.0,57.0,52.0,null,63.0,43.0,36.8,67.0,36.0,67.0,71.0,23.0,104.99,85.0,63.0,37.0,79.0,80.0,35.0,60.0,87.0,72.0,44.0,65.0,55.0,82.0,55.0,79.0,34.0,13.0,75.0,56.0,201.0,38.0,37.0,59.0,58.0,58.0,72.0,85.0,80.93,51.0,33.0,76.0,38.0,76.0,52.0,69.0,151.0,47.0,49.0,69.0,56.0,31.0,30.0,29.8,27.0,32.0,71.0,25.0,39.06,35.0,null,60.0,70.0,28.0,161.0,103.0,103.0,120.0,90.0,27.0,104.0,87.0,86.0,184.0,136.0,88.0,null,60.0,150.0,64.0,47.0,40.0,64.0,23.0,25.0,77.0,57.0,52.0,41.0,41.78,61.0,68.0,106.0,87.0,81.0,23.0,38.0,74.5,65.0,60.0,60.0,39.0,42.0,61.0,80.0,75.0,40.0,21.0,55.0,34.0,25.0,58.0,75.0,32.0,null,46.0,28.0,52.0,129.0,67.0,33.0,120.0,25.0,50.0,117.0,33.0,95.0,52.0,99.0,17.86,55.0,70.0,33.0,97.0,53.0,61.32,54.0,34.0,32.0,48.0,52.0,31.0,99.6,100.0,204.0,51.0,105.0,31.0,107.0,59.0,70.0,36.0,49.0,23.0,97.0,67.0,89.0,61.0,76.0,68.0,30.0,62.3,87.0,24.0,86.0,91.0,52.0,60.0,76.0,28.0,31.6,55.0,77.0,128.0,14.0,152.0,33.0,30.0,100.0,110.0,82.0,76.0,null,70.0,50.0,38.0,30.0,73.0,130.0,43.0,44.0,50.0,44.0,91.0,83.0,null,124.0,18.0,16.0,65.21,59.0,73.0,73.0,63.0,64.0,98.0,74.0,115.0,67.0,75.0,28.0,47.0,114.7,null,154.0,57.0,48.0,30.0,78.5,111.0,10.0,279.0,104.0,106.0,14.0,37.0,45.0,74.0,53.0,75.0,61.0,55.13,62.0,96.0,103.0,29.0,109.0,111.0,40.0,108.0,49.0,65.0,56.0,49.0,58.0,39.0,49.0,55.0,56.0,70.0,69.0,103.0,25.0,51.0,75.0,50.0,50.0,65.0,38.0,47.0,210.0,68.0,80.0,30.0,null,75.0,78.0,57.0,47.0,126.0,121.0,87.0,25.0,36.0,26.0,48.0,183.0,35.0,30.0,35.0,40.0,86.0,99.5,49.0,38.0,62.0,29.0,32.0,80.0,145.0,44.0,28.0,55.0,32.0,42.0,60.0,47.0,46.0,88.0,43.0,17.0,55.0,91.0,28.0,28.0,150.0,141.0,38.0,30.0,62.0,130.0,44.0,125.0,37.0,106.0,null,30.0,21.0,68.0,59.0,36.0,56.0,130.0,87.0,14.0,34.0,59.55,67.0,45.0,121.0,19.0,43.0,62.0,34.0,null,102.0,100.0,55.0,122.0,38.0,36.0,68.49,70.0,42.0,53.0,38.0,44.0,78.0,null,47.0,26.5,200.0,122.92,73.0,54.0,85.0,252.0,50.0,89.0,42.0,34.0,55.0,82.0,70.0,70.0,48.0,39.0,50.0,57.0,36.0,92.0,97.0,36.0,100.0,48.0,51.0,70.0,167.0,32.0,84.0,31.0,37.0,75.0,65.0,88.0,37.7,48.0,55.0,145.0,102.0,47.0,117.0,28.0,79.0,50.0,131.0,36.0,106.0,25.0,75.0,47.0,66.0,37.0,50.0,35.0,75.0,52.0,69.0,47.0,47.0,78.0,146.0,32.0,55.0,85.0,36.0,118.0,115.0,61.0,49.0,60.0,null,49.0,48.0,77.0,77.0,45.0,57.0,18.0,60.0,81.0,61.0,45.0,30.68,85.0,35.0,35.0,81.0,86.0,49.0,56.0,69.0,28.0,38.0,47.0,69.0,37.0,71.0,50.72,44.0,51.0,37.0,36.0,80.0,39.0,50.0,64.0,33.0,17.0,49.0,55.0,180.0,69.0,57.0,93.0,32.0,50.0,44.0,38.0,39.0,105.0,51.0,19.0,47.0,30.0,25.0,44.0,112.0,59.0,64.0,84.0,62.0,70.0,33.0,73.0,78.0,38.0,56.0,114.0,40.0,29.0,114.0,27.0,35.0,66.0,4.0,66.0,165.0,52.0,110.0,66.0,33.0,59.0,58.0,94.53,28.0,57.0,49.0,53.0,88.0,65.0,72.0,73.0,133.0,70.0,66.0,35.5,40.0,79.26,146.0,28.0,47.0,42.0,41.0,164.0,180.0,57.0,69.0,76.0,null,75.0,67.0,47.0,95.0,140.0,60.0,64.0,26.0,65.0,36.0,55.0,65.0,43.0,23.4,136.0,58.0,44.0,66.0,18.0,50.89,53.0,50.0,148.0,149.0,84.0,120.0,132.0,185.0,74.0,62.0,77.0,127.0,60.0,36.0,83.0,140.0,75.0,72.0,37.0,50.0,56.0,28.0,53.0,43.0,57.0,22.0,79.98,68.0,124.0,73.0,21.28,33.0,59.0,31.0,61.0,31.0,77.0,57.66,44.0,34.0,17.0,62.0,100.0,69.0,22.0,68.0,89.0,89.0,69.0,35.0,99.2,40.0,44.0,44.0,53.0,37.0,40.0,40.0,76.0,null,60.0,50.0,24.0,41.0,62.7,60.0,110.0,26.0,83.0,92.0,115.0,80.0,70.0,65.0,99.0,184.07,43.0,148.0,27.7,56.0,51.0,66.0,85.0,91.0,90.0,47.0,50.0,37.0,77.0,71.0,35.0,42.0,57.0,19.0,146.0,33.0,115.0,125.0,20.0,57.0,112.15,81.0,40.0,47.0,77.0,80.0,70.0,114.0,47.0,36.0,80.0,79.0,34.0,170.0,145.0,36.0,32.0,32.0,38.0,72.0,91.0,16.8,168.0,81.0,79.0,21.0,41.0,88.0,117.0,147.4,41.0,13.0,null,57.0,62.0,32.0,147.0,32.0,57.0,49.0,32.0,26.0,107.0,64.0,57.0,67.0,129.0,44.0,45.0,20.0,64.0,45.0,86.0,85.0,34.0,39.0,46.0,56.0,43.0,74.0,64.0,81.0,108.0,47.0,69.0,37.0,54.0,33.0,73.0,60.0,60.0,35.0,36.0,96.0,51.0,69.0,43.0,64.0,null,99.0,42.0,22.0,79.0,78.0,44.0,46.0,45.0,36.0,18.0,93.47,134.0,82.0,28.0,73.0,38.0,100.0,72.0,125.0,92.36,59.0,71.0,90.0,72.0,23.0,123.0,95.0,45.0,131.0,62.0,57.0,71.18,82.0,44.78,87.0,91.0,71.5,45.8,123.0,47.0,48.0,26.0,70.0,72.0,104.0,85.0,40.49,48.0,16.0,51.0,55.0,27.0,107.0,57.0,41.0,62.0,63.0,148.0,50.0,38.0,112.0,43.0,78.0,58.0,49.0,106.0,54.0,42.0,25.0,40.0,46.0,50.0,100.0,48.0,71.0,73.0,42.0,104.0,88.0,72.0,77.0,176.0,41.0,66.5,53.0,24.0,97.0,45.0,20.0,41.0,47.0,46.0,40.0,72.0,130.0,50.0,71.0,87.0,64.0,50.0,44.0,32.52,50.0,156.0,132.0,68.0,46.0,24.0,37.3,102.0,43.0,73.0,62.0,50.0,120.0,39.0,47.0,235.69,73.0,41.0,180.0,71.0,64.14,98.0,65.0,216.0,104.0,37.0,113.0,41.23,35.0,94.0,56.0,55.0,62.0,70.0,64.0,48.0,47.0,null,40.0,16.0,96.0,68.0,20.0,38.0,46.0,65.0,23.0,60.0,42.0,50.47,45.0,114.0,142.0,105.0,94.0,84.0,59.0,37.0,81.0,64.0,172.0,86.0,61.0,44.0,25.0,120.0,68.0,50.0,62.0,104.0,72.0,61.0,50.0,115.0,100.0,39.0,53.0,74.0,38.0,39.0,46.0,39.0,42.0,27.0,42.0,29.0,116.62,22.0,38.0,65.0,null,33.0,69.0,39.0,146.0,41.5,106.0,26.0,null,83.0,100.0,183.0,51.0,36.0,42.0,53.0,66.0,117.0,35.0,79.0,89.0,32.0,29.0,45.0,null,46.0,50.0,15.0,45.0,53.0,55.0,24.0,69.0,61.0,41.0,115.0,87.0,100.0,44.0,23.0,62.0,26.0,61.0,79.0,53.0,56.0,94.0,42.0,149.0,37.0,57.0,36.0,60.0,70.0,192.0,55.0,102.0,63.0,184.0,23.0,100.0,64.0,29.0,64.0,92.0,53.0,170.0],\"type\":\"histogram\",\"textposition\":\"auto\",\"texttemplate\":\"%{y}\"}],                        {\"template\":{\"data\":{\"barpolar\":[{\"marker\":{\"line\":{\"color\":\"white\",\"width\":0.5},\"pattern\":{\"fillmode\":\"overlay\",\"size\":10,\"solidity\":0.2}},\"type\":\"barpolar\"}],\"bar\":[{\"error_x\":{\"color\":\"#2a3f5f\"},\"error_y\":{\"color\":\"#2a3f5f\"},\"marker\":{\"line\":{\"color\":\"white\",\"width\":0.5},\"pattern\":{\"fillmode\":\"overlay\",\"size\":10,\"solidity\":0.2}},\"type\":\"bar\"}],\"carpet\":[{\"aaxis\":{\"endlinecolor\":\"#2a3f5f\",\"gridcolor\":\"#C8D4E3\",\"linecolor\":\"#C8D4E3\",\"minorgridcolor\":\"#C8D4E3\",\"startlinecolor\":\"#2a3f5f\"},\"baxis\":{\"endlinecolor\":\"#2a3f5f\",\"gridcolor\":\"#C8D4E3\",\"linecolor\":\"#C8D4E3\",\"minorgridcolor\":\"#C8D4E3\",\"startlinecolor\":\"#2a3f5f\"},\"type\":\"carpet\"}],\"choropleth\":[{\"colorbar\":{\"outlinewidth\":0,\"ticks\":\"\"},\"type\":\"choropleth\"}],\"contourcarpet\":[{\"colorbar\":{\"outlinewidth\":0,\"ticks\":\"\"},\"type\":\"contourcarpet\"}],\"contour\":[{\"colorbar\":{\"outlinewidth\":0,\"ticks\":\"\"},\"colorscale\":[[0.0,\"#0d0887\"],[0.1111111111111111,\"#46039f\"],[0.2222222222222222,\"#7201a8\"],[0.3333333333333333,\"#9c179e\"],[0.4444444444444444,\"#bd3786\"],[0.5555555555555556,\"#d8576b\"],[0.6666666666666666,\"#ed7953\"],[0.7777777777777778,\"#fb9f3a\"],[0.8888888888888888,\"#fdca26\"],[1.0,\"#f0f921\"]],\"type\":\"contour\"}],\"heatmapgl\":[{\"colorbar\":{\"outlinewidth\":0,\"ticks\":\"\"},\"colorscale\":[[0.0,\"#0d0887\"],[0.1111111111111111,\"#46039f\"],[0.2222222222222222,\"#7201a8\"],[0.3333333333333333,\"#9c179e\"],[0.4444444444444444,\"#bd3786\"],[0.5555555555555556,\"#d8576b\"],[0.6666666666666666,\"#ed7953\"],[0.7777777777777778,\"#fb9f3a\"],[0.8888888888888888,\"#fdca26\"],[1.0,\"#f0f921\"]],\"type\":\"heatmapgl\"}],\"heatmap\":[{\"colorbar\":{\"outlinewidth\":0,\"ticks\":\"\"},\"colorscale\":[[0.0,\"#0d0887\"],[0.1111111111111111,\"#46039f\"],[0.2222222222222222,\"#7201a8\"],[0.3333333333333333,\"#9c179e\"],[0.4444444444444444,\"#bd3786\"],[0.5555555555555556,\"#d8576b\"],[0.6666666666666666,\"#ed7953\"],[0.7777777777777778,\"#fb9f3a\"],[0.8888888888888888,\"#fdca26\"],[1.0,\"#f0f921\"]],\"type\":\"heatmap\"}],\"histogram2dcontour\":[{\"colorbar\":{\"outlinewidth\":0,\"ticks\":\"\"},\"colorscale\":[[0.0,\"#0d0887\"],[0.1111111111111111,\"#46039f\"],[0.2222222222222222,\"#7201a8\"],[0.3333333333333333,\"#9c179e\"],[0.4444444444444444,\"#bd3786\"],[0.5555555555555556,\"#d8576b\"],[0.6666666666666666,\"#ed7953\"],[0.7777777777777778,\"#fb9f3a\"],[0.8888888888888888,\"#fdca26\"],[1.0,\"#f0f921\"]],\"type\":\"histogram2dcontour\"}],\"histogram2d\":[{\"colorbar\":{\"outlinewidth\":0,\"ticks\":\"\"},\"colorscale\":[[0.0,\"#0d0887\"],[0.1111111111111111,\"#46039f\"],[0.2222222222222222,\"#7201a8\"],[0.3333333333333333,\"#9c179e\"],[0.4444444444444444,\"#bd3786\"],[0.5555555555555556,\"#d8576b\"],[0.6666666666666666,\"#ed7953\"],[0.7777777777777778,\"#fb9f3a\"],[0.8888888888888888,\"#fdca26\"],[1.0,\"#f0f921\"]],\"type\":\"histogram2d\"}],\"histogram\":[{\"marker\":{\"pattern\":{\"fillmode\":\"overlay\",\"size\":10,\"solidity\":0.2}},\"type\":\"histogram\"}],\"mesh3d\":[{\"colorbar\":{\"outlinewidth\":0,\"ticks\":\"\"},\"type\":\"mesh3d\"}],\"parcoords\":[{\"line\":{\"colorbar\":{\"outlinewidth\":0,\"ticks\":\"\"}},\"type\":\"parcoords\"}],\"pie\":[{\"automargin\":true,\"type\":\"pie\"}],\"scatter3d\":[{\"line\":{\"colorbar\":{\"outlinewidth\":0,\"ticks\":\"\"}},\"marker\":{\"colorbar\":{\"outlinewidth\":0,\"ticks\":\"\"}},\"type\":\"scatter3d\"}],\"scattercarpet\":[{\"marker\":{\"colorbar\":{\"outlinewidth\":0,\"ticks\":\"\"}},\"type\":\"scattercarpet\"}],\"scattergeo\":[{\"marker\":{\"colorbar\":{\"outlinewidth\":0,\"ticks\":\"\"}},\"type\":\"scattergeo\"}],\"scattergl\":[{\"marker\":{\"colorbar\":{\"outlinewidth\":0,\"ticks\":\"\"}},\"type\":\"scattergl\"}],\"scattermapbox\":[{\"marker\":{\"colorbar\":{\"outlinewidth\":0,\"ticks\":\"\"}},\"type\":\"scattermapbox\"}],\"scatterpolargl\":[{\"marker\":{\"colorbar\":{\"outlinewidth\":0,\"ticks\":\"\"}},\"type\":\"scatterpolargl\"}],\"scatterpolar\":[{\"marker\":{\"colorbar\":{\"outlinewidth\":0,\"ticks\":\"\"}},\"type\":\"scatterpolar\"}],\"scatter\":[{\"fillpattern\":{\"fillmode\":\"overlay\",\"size\":10,\"solidity\":0.2},\"type\":\"scatter\"}],\"scatterternary\":[{\"marker\":{\"colorbar\":{\"outlinewidth\":0,\"ticks\":\"\"}},\"type\":\"scatterternary\"}],\"surface\":[{\"colorbar\":{\"outlinewidth\":0,\"ticks\":\"\"},\"colorscale\":[[0.0,\"#0d0887\"],[0.1111111111111111,\"#46039f\"],[0.2222222222222222,\"#7201a8\"],[0.3333333333333333,\"#9c179e\"],[0.4444444444444444,\"#bd3786\"],[0.5555555555555556,\"#d8576b\"],[0.6666666666666666,\"#ed7953\"],[0.7777777777777778,\"#fb9f3a\"],[0.8888888888888888,\"#fdca26\"],[1.0,\"#f0f921\"]],\"type\":\"surface\"}],\"table\":[{\"cells\":{\"fill\":{\"color\":\"#EBF0F8\"},\"line\":{\"color\":\"white\"}},\"header\":{\"fill\":{\"color\":\"#C8D4E3\"},\"line\":{\"color\":\"white\"}},\"type\":\"table\"}]},\"layout\":{\"annotationdefaults\":{\"arrowcolor\":\"#2a3f5f\",\"arrowhead\":0,\"arrowwidth\":1},\"autotypenumbers\":\"strict\",\"coloraxis\":{\"colorbar\":{\"outlinewidth\":0,\"ticks\":\"\"}},\"colorscale\":{\"diverging\":[[0,\"#8e0152\"],[0.1,\"#c51b7d\"],[0.2,\"#de77ae\"],[0.3,\"#f1b6da\"],[0.4,\"#fde0ef\"],[0.5,\"#f7f7f7\"],[0.6,\"#e6f5d0\"],[0.7,\"#b8e186\"],[0.8,\"#7fbc41\"],[0.9,\"#4d9221\"],[1,\"#276419\"]],\"sequential\":[[0.0,\"#0d0887\"],[0.1111111111111111,\"#46039f\"],[0.2222222222222222,\"#7201a8\"],[0.3333333333333333,\"#9c179e\"],[0.4444444444444444,\"#bd3786\"],[0.5555555555555556,\"#d8576b\"],[0.6666666666666666,\"#ed7953\"],[0.7777777777777778,\"#fb9f3a\"],[0.8888888888888888,\"#fdca26\"],[1.0,\"#f0f921\"]],\"sequentialminus\":[[0.0,\"#0d0887\"],[0.1111111111111111,\"#46039f\"],[0.2222222222222222,\"#7201a8\"],[0.3333333333333333,\"#9c179e\"],[0.4444444444444444,\"#bd3786\"],[0.5555555555555556,\"#d8576b\"],[0.6666666666666666,\"#ed7953\"],[0.7777777777777778,\"#fb9f3a\"],[0.8888888888888888,\"#fdca26\"],[1.0,\"#f0f921\"]]},\"colorway\":[\"#636efa\",\"#EF553B\",\"#00cc96\",\"#ab63fa\",\"#FFA15A\",\"#19d3f3\",\"#FF6692\",\"#B6E880\",\"#FF97FF\",\"#FECB52\"],\"font\":{\"color\":\"#2a3f5f\"},\"geo\":{\"bgcolor\":\"white\",\"lakecolor\":\"white\",\"landcolor\":\"white\",\"showlakes\":true,\"showland\":true,\"subunitcolor\":\"#C8D4E3\"},\"hoverlabel\":{\"align\":\"left\"},\"hovermode\":\"closest\",\"mapbox\":{\"style\":\"light\"},\"paper_bgcolor\":\"white\",\"plot_bgcolor\":\"white\",\"polar\":{\"angularaxis\":{\"gridcolor\":\"#EBF0F8\",\"linecolor\":\"#EBF0F8\",\"ticks\":\"\"},\"bgcolor\":\"white\",\"radialaxis\":{\"gridcolor\":\"#EBF0F8\",\"linecolor\":\"#EBF0F8\",\"ticks\":\"\"}},\"scene\":{\"xaxis\":{\"backgroundcolor\":\"white\",\"gridcolor\":\"#DFE8F3\",\"gridwidth\":2,\"linecolor\":\"#EBF0F8\",\"showbackground\":true,\"ticks\":\"\",\"zerolinecolor\":\"#EBF0F8\"},\"yaxis\":{\"backgroundcolor\":\"white\",\"gridcolor\":\"#DFE8F3\",\"gridwidth\":2,\"linecolor\":\"#EBF0F8\",\"showbackground\":true,\"ticks\":\"\",\"zerolinecolor\":\"#EBF0F8\"},\"zaxis\":{\"backgroundcolor\":\"white\",\"gridcolor\":\"#DFE8F3\",\"gridwidth\":2,\"linecolor\":\"#EBF0F8\",\"showbackground\":true,\"ticks\":\"\",\"zerolinecolor\":\"#EBF0F8\"}},\"shapedefaults\":{\"line\":{\"color\":\"#2a3f5f\"}},\"ternary\":{\"aaxis\":{\"gridcolor\":\"#DFE8F3\",\"linecolor\":\"#A2B1C6\",\"ticks\":\"\"},\"baxis\":{\"gridcolor\":\"#DFE8F3\",\"linecolor\":\"#A2B1C6\",\"ticks\":\"\"},\"bgcolor\":\"white\",\"caxis\":{\"gridcolor\":\"#DFE8F3\",\"linecolor\":\"#A2B1C6\",\"ticks\":\"\"}},\"title\":{\"x\":0.05},\"xaxis\":{\"automargin\":true,\"gridcolor\":\"#EBF0F8\",\"linecolor\":\"#EBF0F8\",\"ticks\":\"\",\"title\":{\"standoff\":15},\"zerolinecolor\":\"#EBF0F8\",\"zerolinewidth\":2},\"yaxis\":{\"automargin\":true,\"gridcolor\":\"#EBF0F8\",\"linecolor\":\"#EBF0F8\",\"ticks\":\"\",\"title\":{\"standoff\":15},\"zerolinecolor\":\"#EBF0F8\",\"zerolinewidth\":2}}},\"title\":{\"text\":\"Prostate Volume Distribution PICAI\"},\"xaxis\":{\"title\":{\"text\":\"Prostate Volume\"}},\"yaxis\":{\"title\":{\"text\":\"Count\"},\"automargin\":true},\"plot_bgcolor\":\"rgba(0,0,0,0)\",\"paper_bgcolor\":\"rgba(0,0,0,0)\"},                        {\"responsive\": true}                    ).then(function(){\n",
       "                            \n",
       "var gd = document.getElementById('95d1510b-7a2b-4eeb-bbc2-5f35e3216fc2');\n",
       "var x = new MutationObserver(function (mutations, observer) {{\n",
       "        var display = window.getComputedStyle(gd).display;\n",
       "        if (!display || display === 'none') {{\n",
       "            console.log([gd, 'removed!']);\n",
       "            Plotly.purge(gd);\n",
       "            observer.disconnect();\n",
       "        }}\n",
       "}});\n",
       "\n",
       "// Listen for the removal of the full notebook cells\n",
       "var notebookContainer = gd.closest('#notebook-container');\n",
       "if (notebookContainer) {{\n",
       "    x.observe(notebookContainer, {childList: true});\n",
       "}}\n",
       "\n",
       "// Listen for the clearing of the current output cell\n",
       "var outputEl = gd.closest('.output');\n",
       "if (outputEl) {{\n",
       "    x.observe(outputEl, {childList: true});\n",
       "}}\n",
       "\n",
       "                        })                };                });            </script>        </div>"
      ]
     },
     "metadata": {},
     "output_type": "display_data"
    }
   ],
   "source": [
    "plot_histogram_plotly(\n",
    "    df,\n",
    "    \"prostate_volume\",\n",
    "    \"Prostate Volume Distribution PICAI\",\n",
    "    \"Prostate Volume\",\n",
    "    \"Count\",\n",
    "    20,\n",
    "    fig_name=os.path.join(figs_path, \"prostate_volume_distribution_picai.pdf\"),\n",
    ")"
   ]
  },
  {
   "cell_type": "code",
   "execution_count": 32,
   "metadata": {},
   "outputs": [
    {
     "data": {
      "image/png": "[encoded data removed]",
      "text/plain": [
       "<Figure size 720x432 with 1 Axes>"
      ]
     },
     "metadata": {
      "needs_background": "light"
     },
     "output_type": "display_data"
    }
   ],
   "source": [
    "plot_histogram(\n",
    "    df,\n",
    "    \"prostate_volume\",\n",
    "    color=None,\n",
    "    xlabel=\"PSA\",\n",
    "    ylabel=\"Frequency\",\n",
    "    title=\"PSA Distribution\",\n",
    "    bins=20,\n",
    ")"
   ]
  },
  {
   "cell_type": "code",
   "execution_count": 77,
   "metadata": {},
   "outputs": [
    {
     "data": {
      "image/png": "[encoded data removed]",
      "text/plain": [
       "<Figure size 720x432 with 1 Axes>"
      ]
     },
     "metadata": {},
     "output_type": "display_data"
    }
   ],
   "source": [
    "plot_histogram(\n",
    "    df,\n",
    "    \"mri_date\",\n",
    "    color=None,\n",
    "    xlabel=\"Date\",\n",
    "    ylabel=\"Frequency\",\n",
    "    title=\"Date Distribution\",\n",
    "    bins=10,\n",
    ")"
   ]
  },
  {
   "cell_type": "code",
   "execution_count": 88,
   "metadata": {},
   "outputs": [
    {
     "data": {
      "application/vnd.plotly.v1+json": {
       "config": {
        "plotlyServerURL": "https://plot.ly"
       },
       "data": [
        {
         "hoverinfo": "label+percent",
         "labels": [
          "NO",
          "YES"
         ],
         "marker": {
          "colors": [
           "#e1846c",
           "#9eb4e0",
           "#e6bb9e",
           "#9c6849",
           "#735852"
          ],
          "line": {
           "color": "rgba(255,255,255,0.2)",
           "width": 2
          }
         },
         "textfont": {
          "size": 20
         },
         "textinfo": "percent",
         "type": "pie",
         "values": [
          1071,
          422
         ]
        }
       ],
       "layout": {
        "autosize": false,
        "height": 600,
        "margin": {
         "b": 50,
         "l": 50,
         "r": 50,
         "t": 50
        },
        "paper_bgcolor": "rgba(0,0,0,0)",
        "plot_bgcolor": "rgba(0,0,0,0)",
        "template": {
         "data": {
          "bar": [
           {
            "error_x": {
             "color": "#2a3f5f"
            },
            "error_y": {
             "color": "#2a3f5f"
            },
            "marker": {
             "line": {
              "color": "white",
              "width": 0.5
             },
             "pattern": {
              "fillmode": "overlay",
              "size": 10,
              "solidity": 0.2
             }
            },
            "type": "bar"
           }
          ],
          "barpolar": [
           {
            "marker": {
             "line": {
              "color": "white",
              "width": 0.5
             },
             "pattern": {
              "fillmode": "overlay",
              "size": 10,
              "solidity": 0.2
             }
            },
            "type": "barpolar"
           }
          ],
          "carpet": [
           {
            "aaxis": {
             "endlinecolor": "#2a3f5f",
             "gridcolor": "#C8D4E3",
             "linecolor": "#C8D4E3",
             "minorgridcolor": "#C8D4E3",
             "startlinecolor": "#2a3f5f"
            },
            "baxis": {
             "endlinecolor": "#2a3f5f",
             "gridcolor": "#C8D4E3",
             "linecolor": "#C8D4E3",
             "minorgridcolor": "#C8D4E3",
             "startlinecolor": "#2a3f5f"
            },
            "type": "carpet"
           }
          ],
          "choropleth": [
           {
            "colorbar": {
             "outlinewidth": 0,
             "ticks": ""
            },
            "type": "choropleth"
           }
          ],
          "contour": [
           {
            "colorbar": {
             "outlinewidth": 0,
             "ticks": ""
            },
            "colorscale": [
             [
              0,
              "#0d0887"
             ],
             [
              0.1111111111111111,
              "#46039f"
             ],
             [
              0.2222222222222222,
              "#7201a8"
             ],
             [
              0.3333333333333333,
              "#9c179e"
             ],
             [
              0.4444444444444444,
              "#bd3786"
             ],
             [
              0.5555555555555556,
              "#d8576b"
             ],
             [
              0.6666666666666666,
              "#ed7953"
             ],
             [
              0.7777777777777778,
              "#fb9f3a"
             ],
             [
              0.8888888888888888,
              "#fdca26"
             ],
             [
              1,
              "#f0f921"
             ]
            ],
            "type": "contour"
           }
          ],
          "contourcarpet": [
           {
            "colorbar": {
             "outlinewidth": 0,
             "ticks": ""
            },
            "type": "contourcarpet"
           }
          ],
          "heatmap": [
           {
            "colorbar": {
             "outlinewidth": 0,
             "ticks": ""
            },
            "colorscale": [
             [
              0,
              "#0d0887"
             ],
             [
              0.1111111111111111,
              "#46039f"
             ],
             [
              0.2222222222222222,
              "#7201a8"
             ],
             [
              0.3333333333333333,
              "#9c179e"
             ],
             [
              0.4444444444444444,
              "#bd3786"
             ],
             [
              0.5555555555555556,
              "#d8576b"
             ],
             [
              0.6666666666666666,
              "#ed7953"
             ],
             [
              0.7777777777777778,
              "#fb9f3a"
             ],
             [
              0.8888888888888888,
              "#fdca26"
             ],
             [
              1,
              "#f0f921"
             ]
            ],
            "type": "heatmap"
           }
          ],
          "heatmapgl": [
           {
            "colorbar": {
             "outlinewidth": 0,
             "ticks": ""
            },
            "colorscale": [
             [
              0,
              "#0d0887"
             ],
             [
              0.1111111111111111,
              "#46039f"
             ],
             [
              0.2222222222222222,
              "#7201a8"
             ],
             [
              0.3333333333333333,
              "#9c179e"
             ],
             [
              0.4444444444444444,
              "#bd3786"
             ],
             [
              0.5555555555555556,
              "#d8576b"
             ],
             [
              0.6666666666666666,
              "#ed7953"
             ],
             [
              0.7777777777777778,
              "#fb9f3a"
             ],
             [
              0.8888888888888888,
              "#fdca26"
             ],
             [
              1,
              "#f0f921"
             ]
            ],
            "type": "heatmapgl"
           }
          ],
          "histogram": [
           {
            "marker": {
             "pattern": {
              "fillmode": "overlay",
              "size": 10,
              "solidity": 0.2
             }
            },
            "type": "histogram"
           }
          ],
          "histogram2d": [
           {
            "colorbar": {
             "outlinewidth": 0,
             "ticks": ""
            },
            "colorscale": [
             [
              0,
              "#0d0887"
             ],
             [
              0.1111111111111111,
              "#46039f"
             ],
             [
              0.2222222222222222,
              "#7201a8"
             ],
             [
              0.3333333333333333,
              "#9c179e"
             ],
             [
              0.4444444444444444,
              "#bd3786"
             ],
             [
              0.5555555555555556,
              "#d8576b"
             ],
             [
              0.6666666666666666,
              "#ed7953"
             ],
             [
              0.7777777777777778,
              "#fb9f3a"
             ],
             [
              0.8888888888888888,
              "#fdca26"
             ],
             [
              1,
              "#f0f921"
             ]
            ],
            "type": "histogram2d"
           }
          ],
          "histogram2dcontour": [
           {
            "colorbar": {
             "outlinewidth": 0,
             "ticks": ""
            },
            "colorscale": [
             [
              0,
              "#0d0887"
             ],
             [
              0.1111111111111111,
              "#46039f"
             ],
             [
              0.2222222222222222,
              "#7201a8"
             ],
             [
              0.3333333333333333,
              "#9c179e"
             ],
             [
              0.4444444444444444,
              "#bd3786"
             ],
             [
              0.5555555555555556,
              "#d8576b"
             ],
             [
              0.6666666666666666,
              "#ed7953"
             ],
             [
              0.7777777777777778,
              "#fb9f3a"
             ],
             [
              0.8888888888888888,
              "#fdca26"
             ],
             [
              1,
              "#f0f921"
             ]
            ],
            "type": "histogram2dcontour"
           }
          ],
          "mesh3d": [
           {
            "colorbar": {
             "outlinewidth": 0,
             "ticks": ""
            },
            "type": "mesh3d"
           }
          ],
          "parcoords": [
           {
            "line": {
             "colorbar": {
              "outlinewidth": 0,
              "ticks": ""
             }
            },
            "type": "parcoords"
           }
          ],
          "pie": [
           {
            "automargin": true,
            "type": "pie"
           }
          ],
          "scatter": [
           {
            "fillpattern": {
             "fillmode": "overlay",
             "size": 10,
             "solidity": 0.2
            },
            "type": "scatter"
           }
          ],
          "scatter3d": [
           {
            "line": {
             "colorbar": {
              "outlinewidth": 0,
              "ticks": ""
             }
            },
            "marker": {
             "colorbar": {
              "outlinewidth": 0,
              "ticks": ""
             }
            },
            "type": "scatter3d"
           }
          ],
          "scattercarpet": [
           {
            "marker": {
             "colorbar": {
              "outlinewidth": 0,
              "ticks": ""
             }
            },
            "type": "scattercarpet"
           }
          ],
          "scattergeo": [
           {
            "marker": {
             "colorbar": {
              "outlinewidth": 0,
              "ticks": ""
             }
            },
            "type": "scattergeo"
           }
          ],
          "scattergl": [
           {
            "marker": {
             "colorbar": {
              "outlinewidth": 0,
              "ticks": ""
             }
            },
            "type": "scattergl"
           }
          ],
          "scattermapbox": [
           {
            "marker": {
             "colorbar": {
              "outlinewidth": 0,
              "ticks": ""
             }
            },
            "type": "scattermapbox"
           }
          ],
          "scatterpolar": [
           {
            "marker": {
             "colorbar": {
              "outlinewidth": 0,
              "ticks": ""
             }
            },
            "type": "scatterpolar"
           }
          ],
          "scatterpolargl": [
           {
            "marker": {
             "colorbar": {
              "outlinewidth": 0,
              "ticks": ""
             }
            },
            "type": "scatterpolargl"
           }
          ],
          "scatterternary": [
           {
            "marker": {
             "colorbar": {
              "outlinewidth": 0,
              "ticks": ""
             }
            },
            "type": "scatterternary"
           }
          ],
          "surface": [
           {
            "colorbar": {
             "outlinewidth": 0,
             "ticks": ""
            },
            "colorscale": [
             [
              0,
              "#0d0887"
             ],
             [
              0.1111111111111111,
              "#46039f"
             ],
             [
              0.2222222222222222,
              "#7201a8"
             ],
             [
              0.3333333333333333,
              "#9c179e"
             ],
             [
              0.4444444444444444,
              "#bd3786"
             ],
             [
              0.5555555555555556,
              "#d8576b"
             ],
             [
              0.6666666666666666,
              "#ed7953"
             ],
             [
              0.7777777777777778,
              "#fb9f3a"
             ],
             [
              0.8888888888888888,
              "#fdca26"
             ],
             [
              1,
              "#f0f921"
             ]
            ],
            "type": "surface"
           }
          ],
          "table": [
           {
            "cells": {
             "fill": {
              "color": "#EBF0F8"
             },
             "line": {
              "color": "white"
             }
            },
            "header": {
             "fill": {
              "color": "#C8D4E3"
             },
             "line": {
              "color": "white"
             }
            },
            "type": "table"
           }
          ]
         },
         "layout": {
          "annotationdefaults": {
           "arrowcolor": "#2a3f5f",
           "arrowhead": 0,
           "arrowwidth": 1
          },
          "autotypenumbers": "strict",
          "coloraxis": {
           "colorbar": {
            "outlinewidth": 0,
            "ticks": ""
           }
          },
          "colorscale": {
           "diverging": [
            [
             0,
             "#8e0152"
            ],
            [
             0.1,
             "#c51b7d"
            ],
            [
             0.2,
             "#de77ae"
            ],
            [
             0.3,
             "#f1b6da"
            ],
            [
             0.4,
             "#fde0ef"
            ],
            [
             0.5,
             "#f7f7f7"
            ],
            [
             0.6,
             "#e6f5d0"
            ],
            [
             0.7,
             "#b8e186"
            ],
            [
             0.8,
             "#7fbc41"
            ],
            [
             0.9,
             "#4d9221"
            ],
            [
             1,
             "#276419"
            ]
           ],
           "sequential": [
            [
             0,
             "#0d0887"
            ],
            [
             0.1111111111111111,
             "#46039f"
            ],
            [
             0.2222222222222222,
             "#7201a8"
            ],
            [
             0.3333333333333333,
             "#9c179e"
            ],
            [
             0.4444444444444444,
             "#bd3786"
            ],
            [
             0.5555555555555556,
             "#d8576b"
            ],
            [
             0.6666666666666666,
             "#ed7953"
            ],
            [
             0.7777777777777778,
             "#fb9f3a"
            ],
            [
             0.8888888888888888,
             "#fdca26"
            ],
            [
             1,
             "#f0f921"
            ]
           ],
           "sequentialminus": [
            [
             0,
             "#0d0887"
            ],
            [
             0.1111111111111111,
             "#46039f"
            ],
            [
             0.2222222222222222,
             "#7201a8"
            ],
            [
             0.3333333333333333,
             "#9c179e"
            ],
            [
             0.4444444444444444,
             "#bd3786"
            ],
            [
             0.5555555555555556,
             "#d8576b"
            ],
            [
             0.6666666666666666,
             "#ed7953"
            ],
            [
             0.7777777777777778,
             "#fb9f3a"
            ],
            [
             0.8888888888888888,
             "#fdca26"
            ],
            [
             1,
             "#f0f921"
            ]
           ]
          },
          "colorway": [
           "#636efa",
           "#EF553B",
           "#00cc96",
           "#ab63fa",
           "#FFA15A",
           "#19d3f3",
           "#FF6692",
           "#B6E880",
           "#FF97FF",
           "#FECB52"
          ],
          "font": {
           "color": "#2a3f5f"
          },
          "geo": {
           "bgcolor": "white",
           "lakecolor": "white",
           "landcolor": "white",
           "showlakes": true,
           "showland": true,
           "subunitcolor": "#C8D4E3"
          },
          "hoverlabel": {
           "align": "left"
          },
          "hovermode": "closest",
          "mapbox": {
           "style": "light"
          },
          "paper_bgcolor": "white",
          "plot_bgcolor": "white",
          "polar": {
           "angularaxis": {
            "gridcolor": "#EBF0F8",
            "linecolor": "#EBF0F8",
            "ticks": ""
           },
           "bgcolor": "white",
           "radialaxis": {
            "gridcolor": "#EBF0F8",
            "linecolor": "#EBF0F8",
            "ticks": ""
           }
          },
          "scene": {
           "xaxis": {
            "backgroundcolor": "white",
            "gridcolor": "#DFE8F3",
            "gridwidth": 2,
            "linecolor": "#EBF0F8",
            "showbackground": true,
            "ticks": "",
            "zerolinecolor": "#EBF0F8"
           },
           "yaxis": {
            "backgroundcolor": "white",
            "gridcolor": "#DFE8F3",
            "gridwidth": 2,
            "linecolor": "#EBF0F8",
            "showbackground": true,
            "ticks": "",
            "zerolinecolor": "#EBF0F8"
           },
           "zaxis": {
            "backgroundcolor": "white",
            "gridcolor": "#DFE8F3",
            "gridwidth": 2,
            "linecolor": "#EBF0F8",
            "showbackground": true,
            "ticks": "",
            "zerolinecolor": "#EBF0F8"
           }
          },
          "shapedefaults": {
           "line": {
            "color": "#2a3f5f"
           }
          },
          "ternary": {
           "aaxis": {
            "gridcolor": "#DFE8F3",
            "linecolor": "#A2B1C6",
            "ticks": ""
           },
           "baxis": {
            "gridcolor": "#DFE8F3",
            "linecolor": "#A2B1C6",
            "ticks": ""
           },
           "bgcolor": "white",
           "caxis": {
            "gridcolor": "#DFE8F3",
            "linecolor": "#A2B1C6",
            "ticks": ""
           }
          },
          "title": {
           "x": 0.05
          },
          "xaxis": {
           "automargin": true,
           "gridcolor": "#EBF0F8",
           "linecolor": "#EBF0F8",
           "ticks": "",
           "title": {
            "standoff": 15
           },
           "zerolinecolor": "#EBF0F8",
           "zerolinewidth": 2
          },
          "yaxis": {
           "automargin": true,
           "gridcolor": "#EBF0F8",
           "linecolor": "#EBF0F8",
           "ticks": "",
           "title": {
            "standoff": 15
           },
           "zerolinecolor": "#EBF0F8",
           "zerolinewidth": 2
          }
         }
        },
        "title": {
         "text": "Prostate Cancer Distribution"
        },
        "width": 800
       }
      },
      "text/html": [
       "<div>                            <div id=\"be038dc1-7679-45a8-8737-058d2ae19e78\" class=\"plotly-graph-div\" style=\"height:600px; width:800px;\"></div>            <script type=\"text/javascript\">                require([\"plotly\"], function(Plotly) {                    window.PLOTLYENV=window.PLOTLYENV || {};                                    if (document.getElementById(\"be038dc1-7679-45a8-8737-058d2ae19e78\")) {                    Plotly.newPlot(                        \"be038dc1-7679-45a8-8737-058d2ae19e78\",                        [{\"labels\":[\"NO\",\"YES\"],\"values\":[1071,422],\"type\":\"pie\",\"textfont\":{\"size\":20},\"marker\":{\"line\":{\"color\":\"rgba(255,255,255,0.2)\",\"width\":2},\"colors\":[\"#e1846c\",\"#9eb4e0\",\"#e6bb9e\",\"#9c6849\",\"#735852\"]},\"hoverinfo\":\"label+percent\",\"textinfo\":\"percent\"}],                        {\"template\":{\"data\":{\"barpolar\":[{\"marker\":{\"line\":{\"color\":\"white\",\"width\":0.5},\"pattern\":{\"fillmode\":\"overlay\",\"size\":10,\"solidity\":0.2}},\"type\":\"barpolar\"}],\"bar\":[{\"error_x\":{\"color\":\"#2a3f5f\"},\"error_y\":{\"color\":\"#2a3f5f\"},\"marker\":{\"line\":{\"color\":\"white\",\"width\":0.5},\"pattern\":{\"fillmode\":\"overlay\",\"size\":10,\"solidity\":0.2}},\"type\":\"bar\"}],\"carpet\":[{\"aaxis\":{\"endlinecolor\":\"#2a3f5f\",\"gridcolor\":\"#C8D4E3\",\"linecolor\":\"#C8D4E3\",\"minorgridcolor\":\"#C8D4E3\",\"startlinecolor\":\"#2a3f5f\"},\"baxis\":{\"endlinecolor\":\"#2a3f5f\",\"gridcolor\":\"#C8D4E3\",\"linecolor\":\"#C8D4E3\",\"minorgridcolor\":\"#C8D4E3\",\"startlinecolor\":\"#2a3f5f\"},\"type\":\"carpet\"}],\"choropleth\":[{\"colorbar\":{\"outlinewidth\":0,\"ticks\":\"\"},\"type\":\"choropleth\"}],\"contourcarpet\":[{\"colorbar\":{\"outlinewidth\":0,\"ticks\":\"\"},\"type\":\"contourcarpet\"}],\"contour\":[{\"colorbar\":{\"outlinewidth\":0,\"ticks\":\"\"},\"colorscale\":[[0.0,\"#0d0887\"],[0.1111111111111111,\"#46039f\"],[0.2222222222222222,\"#7201a8\"],[0.3333333333333333,\"#9c179e\"],[0.4444444444444444,\"#bd3786\"],[0.5555555555555556,\"#d8576b\"],[0.6666666666666666,\"#ed7953\"],[0.7777777777777778,\"#fb9f3a\"],[0.8888888888888888,\"#fdca26\"],[1.0,\"#f0f921\"]],\"type\":\"contour\"}],\"heatmapgl\":[{\"colorbar\":{\"outlinewidth\":0,\"ticks\":\"\"},\"colorscale\":[[0.0,\"#0d0887\"],[0.1111111111111111,\"#46039f\"],[0.2222222222222222,\"#7201a8\"],[0.3333333333333333,\"#9c179e\"],[0.4444444444444444,\"#bd3786\"],[0.5555555555555556,\"#d8576b\"],[0.6666666666666666,\"#ed7953\"],[0.7777777777777778,\"#fb9f3a\"],[0.8888888888888888,\"#fdca26\"],[1.0,\"#f0f921\"]],\"type\":\"heatmapgl\"}],\"heatmap\":[{\"colorbar\":{\"outlinewidth\":0,\"ticks\":\"\"},\"colorscale\":[[0.0,\"#0d0887\"],[0.1111111111111111,\"#46039f\"],[0.2222222222222222,\"#7201a8\"],[0.3333333333333333,\"#9c179e\"],[0.4444444444444444,\"#bd3786\"],[0.5555555555555556,\"#d8576b\"],[0.6666666666666666,\"#ed7953\"],[0.7777777777777778,\"#fb9f3a\"],[0.8888888888888888,\"#fdca26\"],[1.0,\"#f0f921\"]],\"type\":\"heatmap\"}],\"histogram2dcontour\":[{\"colorbar\":{\"outlinewidth\":0,\"ticks\":\"\"},\"colorscale\":[[0.0,\"#0d0887\"],[0.1111111111111111,\"#46039f\"],[0.2222222222222222,\"#7201a8\"],[0.3333333333333333,\"#9c179e\"],[0.4444444444444444,\"#bd3786\"],[0.5555555555555556,\"#d8576b\"],[0.6666666666666666,\"#ed7953\"],[0.7777777777777778,\"#fb9f3a\"],[0.8888888888888888,\"#fdca26\"],[1.0,\"#f0f921\"]],\"type\":\"histogram2dcontour\"}],\"histogram2d\":[{\"colorbar\":{\"outlinewidth\":0,\"ticks\":\"\"},\"colorscale\":[[0.0,\"#0d0887\"],[0.1111111111111111,\"#46039f\"],[0.2222222222222222,\"#7201a8\"],[0.3333333333333333,\"#9c179e\"],[0.4444444444444444,\"#bd3786\"],[0.5555555555555556,\"#d8576b\"],[0.6666666666666666,\"#ed7953\"],[0.7777777777777778,\"#fb9f3a\"],[0.8888888888888888,\"#fdca26\"],[1.0,\"#f0f921\"]],\"type\":\"histogram2d\"}],\"histogram\":[{\"marker\":{\"pattern\":{\"fillmode\":\"overlay\",\"size\":10,\"solidity\":0.2}},\"type\":\"histogram\"}],\"mesh3d\":[{\"colorbar\":{\"outlinewidth\":0,\"ticks\":\"\"},\"type\":\"mesh3d\"}],\"parcoords\":[{\"line\":{\"colorbar\":{\"outlinewidth\":0,\"ticks\":\"\"}},\"type\":\"parcoords\"}],\"pie\":[{\"automargin\":true,\"type\":\"pie\"}],\"scatter3d\":[{\"line\":{\"colorbar\":{\"outlinewidth\":0,\"ticks\":\"\"}},\"marker\":{\"colorbar\":{\"outlinewidth\":0,\"ticks\":\"\"}},\"type\":\"scatter3d\"}],\"scattercarpet\":[{\"marker\":{\"colorbar\":{\"outlinewidth\":0,\"ticks\":\"\"}},\"type\":\"scattercarpet\"}],\"scattergeo\":[{\"marker\":{\"colorbar\":{\"outlinewidth\":0,\"ticks\":\"\"}},\"type\":\"scattergeo\"}],\"scattergl\":[{\"marker\":{\"colorbar\":{\"outlinewidth\":0,\"ticks\":\"\"}},\"type\":\"scattergl\"}],\"scattermapbox\":[{\"marker\":{\"colorbar\":{\"outlinewidth\":0,\"ticks\":\"\"}},\"type\":\"scattermapbox\"}],\"scatterpolargl\":[{\"marker\":{\"colorbar\":{\"outlinewidth\":0,\"ticks\":\"\"}},\"type\":\"scatterpolargl\"}],\"scatterpolar\":[{\"marker\":{\"colorbar\":{\"outlinewidth\":0,\"ticks\":\"\"}},\"type\":\"scatterpolar\"}],\"scatter\":[{\"fillpattern\":{\"fillmode\":\"overlay\",\"size\":10,\"solidity\":0.2},\"type\":\"scatter\"}],\"scatterternary\":[{\"marker\":{\"colorbar\":{\"outlinewidth\":0,\"ticks\":\"\"}},\"type\":\"scatterternary\"}],\"surface\":[{\"colorbar\":{\"outlinewidth\":0,\"ticks\":\"\"},\"colorscale\":[[0.0,\"#0d0887\"],[0.1111111111111111,\"#46039f\"],[0.2222222222222222,\"#7201a8\"],[0.3333333333333333,\"#9c179e\"],[0.4444444444444444,\"#bd3786\"],[0.5555555555555556,\"#d8576b\"],[0.6666666666666666,\"#ed7953\"],[0.7777777777777778,\"#fb9f3a\"],[0.8888888888888888,\"#fdca26\"],[1.0,\"#f0f921\"]],\"type\":\"surface\"}],\"table\":[{\"cells\":{\"fill\":{\"color\":\"#EBF0F8\"},\"line\":{\"color\":\"white\"}},\"header\":{\"fill\":{\"color\":\"#C8D4E3\"},\"line\":{\"color\":\"white\"}},\"type\":\"table\"}]},\"layout\":{\"annotationdefaults\":{\"arrowcolor\":\"#2a3f5f\",\"arrowhead\":0,\"arrowwidth\":1},\"autotypenumbers\":\"strict\",\"coloraxis\":{\"colorbar\":{\"outlinewidth\":0,\"ticks\":\"\"}},\"colorscale\":{\"diverging\":[[0,\"#8e0152\"],[0.1,\"#c51b7d\"],[0.2,\"#de77ae\"],[0.3,\"#f1b6da\"],[0.4,\"#fde0ef\"],[0.5,\"#f7f7f7\"],[0.6,\"#e6f5d0\"],[0.7,\"#b8e186\"],[0.8,\"#7fbc41\"],[0.9,\"#4d9221\"],[1,\"#276419\"]],\"sequential\":[[0.0,\"#0d0887\"],[0.1111111111111111,\"#46039f\"],[0.2222222222222222,\"#7201a8\"],[0.3333333333333333,\"#9c179e\"],[0.4444444444444444,\"#bd3786\"],[0.5555555555555556,\"#d8576b\"],[0.6666666666666666,\"#ed7953\"],[0.7777777777777778,\"#fb9f3a\"],[0.8888888888888888,\"#fdca26\"],[1.0,\"#f0f921\"]],\"sequentialminus\":[[0.0,\"#0d0887\"],[0.1111111111111111,\"#46039f\"],[0.2222222222222222,\"#7201a8\"],[0.3333333333333333,\"#9c179e\"],[0.4444444444444444,\"#bd3786\"],[0.5555555555555556,\"#d8576b\"],[0.6666666666666666,\"#ed7953\"],[0.7777777777777778,\"#fb9f3a\"],[0.8888888888888888,\"#fdca26\"],[1.0,\"#f0f921\"]]},\"colorway\":[\"#636efa\",\"#EF553B\",\"#00cc96\",\"#ab63fa\",\"#FFA15A\",\"#19d3f3\",\"#FF6692\",\"#B6E880\",\"#FF97FF\",\"#FECB52\"],\"font\":{\"color\":\"#2a3f5f\"},\"geo\":{\"bgcolor\":\"white\",\"lakecolor\":\"white\",\"landcolor\":\"white\",\"showlakes\":true,\"showland\":true,\"subunitcolor\":\"#C8D4E3\"},\"hoverlabel\":{\"align\":\"left\"},\"hovermode\":\"closest\",\"mapbox\":{\"style\":\"light\"},\"paper_bgcolor\":\"white\",\"plot_bgcolor\":\"white\",\"polar\":{\"angularaxis\":{\"gridcolor\":\"#EBF0F8\",\"linecolor\":\"#EBF0F8\",\"ticks\":\"\"},\"bgcolor\":\"white\",\"radialaxis\":{\"gridcolor\":\"#EBF0F8\",\"linecolor\":\"#EBF0F8\",\"ticks\":\"\"}},\"scene\":{\"xaxis\":{\"backgroundcolor\":\"white\",\"gridcolor\":\"#DFE8F3\",\"gridwidth\":2,\"linecolor\":\"#EBF0F8\",\"showbackground\":true,\"ticks\":\"\",\"zerolinecolor\":\"#EBF0F8\"},\"yaxis\":{\"backgroundcolor\":\"white\",\"gridcolor\":\"#DFE8F3\",\"gridwidth\":2,\"linecolor\":\"#EBF0F8\",\"showbackground\":true,\"ticks\":\"\",\"zerolinecolor\":\"#EBF0F8\"},\"zaxis\":{\"backgroundcolor\":\"white\",\"gridcolor\":\"#DFE8F3\",\"gridwidth\":2,\"linecolor\":\"#EBF0F8\",\"showbackground\":true,\"ticks\":\"\",\"zerolinecolor\":\"#EBF0F8\"}},\"shapedefaults\":{\"line\":{\"color\":\"#2a3f5f\"}},\"ternary\":{\"aaxis\":{\"gridcolor\":\"#DFE8F3\",\"linecolor\":\"#A2B1C6\",\"ticks\":\"\"},\"baxis\":{\"gridcolor\":\"#DFE8F3\",\"linecolor\":\"#A2B1C6\",\"ticks\":\"\"},\"bgcolor\":\"white\",\"caxis\":{\"gridcolor\":\"#DFE8F3\",\"linecolor\":\"#A2B1C6\",\"ticks\":\"\"}},\"title\":{\"x\":0.05},\"xaxis\":{\"automargin\":true,\"gridcolor\":\"#EBF0F8\",\"linecolor\":\"#EBF0F8\",\"ticks\":\"\",\"title\":{\"standoff\":15},\"zerolinecolor\":\"#EBF0F8\",\"zerolinewidth\":2},\"yaxis\":{\"automargin\":true,\"gridcolor\":\"#EBF0F8\",\"linecolor\":\"#EBF0F8\",\"ticks\":\"\",\"title\":{\"standoff\":15},\"zerolinecolor\":\"#EBF0F8\",\"zerolinewidth\":2}}},\"title\":{\"text\":\"Prostate Cancer Distribution\"},\"margin\":{\"l\":50,\"r\":50,\"b\":50,\"t\":50},\"autosize\":false,\"width\":800,\"height\":600,\"plot_bgcolor\":\"rgba(0,0,0,0)\",\"paper_bgcolor\":\"rgba(0,0,0,0)\"},                        {\"responsive\": true}                    ).then(function(){\n",
       "                            \n",
       "var gd = document.getElementById('be038dc1-7679-45a8-8737-058d2ae19e78');\n",
       "var x = new MutationObserver(function (mutations, observer) {{\n",
       "        var display = window.getComputedStyle(gd).display;\n",
       "        if (!display || display === 'none') {{\n",
       "            console.log([gd, 'removed!']);\n",
       "            Plotly.purge(gd);\n",
       "            observer.disconnect();\n",
       "        }}\n",
       "}});\n",
       "\n",
       "// Listen for the removal of the full notebook cells\n",
       "var notebookContainer = gd.closest('#notebook-container');\n",
       "if (notebookContainer) {{\n",
       "    x.observe(notebookContainer, {childList: true});\n",
       "}}\n",
       "\n",
       "// Listen for the clearing of the current output cell\n",
       "var outputEl = gd.closest('.output');\n",
       "if (outputEl) {{\n",
       "    x.observe(outputEl, {childList: true});\n",
       "}}\n",
       "\n",
       "                        })                };                });            </script>        </div>"
      ]
     },
     "metadata": {},
     "output_type": "display_data"
    }
   ],
   "source": [
    "plot_pie_chart_plotly(\n",
    "    df,\n",
    "    \"case_csPCa\",\n",
    "    title=\"Prostate Cancer Distribution\",\n",
    "    fig_name=os.path.join(figs_path, \"prostate_cancer_distribution_picai.pdf\"),\n",
    ")"
   ]
  },
  {
   "cell_type": "code",
   "execution_count": 100,
   "metadata": {},
   "outputs": [
    {
     "data": {
      "image/png": "[encoded data removed]",
      "text/plain": [
       "<Figure size 720x720 with 1 Axes>"
      ]
     },
     "metadata": {},
     "output_type": "display_data"
    }
   ],
   "source": [
    "plot_pie_chart(df, \"case_csPCa\", title=\"Prostate Cancer Distribution\")"
   ]
  }
 ],
 "metadata": {
  "kernelspec": {
   "display_name": "Python 3 (ipykernel)",
   "language": "python",
   "name": "python3"
  },
  "language_info": {
   "codemirror_mode": {
    "name": "ipython",
    "version": 3
   },
   "file_extension": ".py",
   "mimetype": "text/x-python",
   "name": "python",
   "nbconvert_exporter": "python",
   "pygments_lexer": "ipython3",
   "version": "3.9.6"
  }
 },
 "nbformat": 4,
 "nbformat_minor": 2
}
