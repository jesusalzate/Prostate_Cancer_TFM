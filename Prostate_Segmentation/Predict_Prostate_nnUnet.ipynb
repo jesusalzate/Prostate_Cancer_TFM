{
 "cells": [
  {
   "cell_type": "code",
   "execution_count": 74,
   "metadata": {},
   "outputs": [],
   "source": [
    "import os\n",
    "import matplotlib.pyplot as plt\n",
    "import shutil\n",
    "import pandas as pd\n",
    "import numpy as np\n",
    "\n",
    "from nnunetv2.paths import nnUNet_results, nnUNet_raw\n",
    "import torch\n",
    "from batchgenerators.utilities.file_and_folder_operations import join\n",
    "from nnunetv2.inference.predict_from_raw_data import nnUNetPredictor\n",
    "import SimpleITK as sitk"
   ]
  },
  {
   "cell_type": "code",
   "execution_count": 2,
   "metadata": {},
   "outputs": [
    {
     "name": "stdout",
     "output_type": "stream",
     "text": [
      "CUDA Version: 11.8\n"
     ]
    }
   ],
   "source": [
    "import torch\n",
    "\n",
    "cuda_version = torch.version.cuda\n",
    "print(\"CUDA Version:\", cuda_version)\n"
   ]
  },
  {
   "cell_type": "code",
   "execution_count": 75,
   "metadata": {},
   "outputs": [],
   "source": [
    "def _flatten(t):\n",
    "    return [item for sublist in t for item in sublist]\n",
    "\n",
    "\n",
    "def crop(image, margin, interpolator=sitk.sitkLinear):\n",
    "    \"\"\"\n",
    "    Crops a sitk.Image while retaining correct spacing. Negative margins will lead to zero padding\n",
    "\n",
    "    Args:\n",
    "        image:  a sitk.Image\n",
    "        margin: margins to crop. Single integer or float (percentage crop),\n",
    "                lists of int/float or nestes lists are supported.\n",
    "    \"\"\"\n",
    "    if isinstance(margin, (list, tuple)):\n",
    "        assert len(margin) == 3, \"expected margin to be of length 3\"\n",
    "    else:\n",
    "        assert isinstance(margin, (int, float)), \"expected margin to be a float value\"\n",
    "        margin = [margin, margin, margin]\n",
    "\n",
    "    margin = [m if isinstance(m, (tuple, list)) else [m, m] for m in margin]\n",
    "    old_size = image.GetSize()\n",
    "\n",
    "    # calculate new origin and new image size\n",
    "    if all([isinstance(m, float) for m in _flatten(margin)]):\n",
    "        assert all([m >= 0 and m < 0.5 for m in _flatten(margin)]), \"margins must be between 0 and 0.5\"\n",
    "        to_crop = [[int(sz * _m) for _m in m] for sz, m in zip(old_size, margin)]\n",
    "    elif all([isinstance(m, int) for m in _flatten(margin)]):\n",
    "        to_crop = margin\n",
    "    else:\n",
    "        raise ValueError(\"Wrong format of margins.\")\n",
    "\n",
    "    new_size = [sz - sum(c) for sz, c in zip(old_size, to_crop)]\n",
    "\n",
    "    # origin has Index (0,0,0)\n",
    "    # new origin has Index (to_crop[0][0], to_crop[2][0], to_crop[2][0])\n",
    "    new_origin = image.TransformIndexToPhysicalPoint([c[0] for c in to_crop])\n",
    "\n",
    "    # create reference plane to resample image\n",
    "    ref_image = sitk.Image(new_size, image.GetPixelIDValue())\n",
    "    ref_image.SetSpacing(image.GetSpacing())\n",
    "    ref_image.SetOrigin(new_origin)\n",
    "    ref_image.SetDirection(image.GetDirection())\n",
    "\n",
    "    return sitk.Resample(image, ref_image, interpolator=interpolator)\n"
   ]
  },
  {
   "cell_type": "markdown",
   "metadata": {},
   "source": [
    "# Read and Copy Data"
   ]
  },
  {
   "cell_type": "code",
   "execution_count": 3,
   "metadata": {},
   "outputs": [],
   "source": [
    "df = pd.read_csv(\"/home/jaalzate/Tartaglia/Prostate_Tartaglia/New_Dataset/validation_dataset_complete.csv\")\n",
    "groups = df.groupby('subject')\n"
   ]
  },
  {
   "cell_type": "code",
   "execution_count": 90,
   "metadata": {},
   "outputs": [],
   "source": [
    "rooth_path = \"/mnt/ceib/datalake/FISABIO_datalake/p0042021/\"\n",
    "sub_group = groups.get_group(list(groups.groups.keys())[10])\n",
    "\n",
    "images_t2 = sub_group[(sub_group[\"sequence\"] == \"T2w\") & (sub_group['orientation'] == 'ax')].values"
   ]
  },
  {
   "cell_type": "code",
   "execution_count": 91,
   "metadata": {},
   "outputs": [
    {
     "data": {
      "text/plain": [
       "'/mnt/ceib/datalake/FISABIO_datalake/p0042021/sub-000015/ses-000015/mim-mr/anat/sub-000015_ses-000015_acq-fse_run-5_bp-p_vp-ax_T2w.nii.gz'"
      ]
     },
     "execution_count": 91,
     "metadata": {},
     "output_type": "execute_result"
    }
   ],
   "source": [
    "img_id = 0\n",
    "image_t2_path =os.path.join(\n",
    "        rooth_path, images_t2[img_id][0], images_t2[img_id][1], \"mim-mr\", images_t2[img_id][2], images_t2[img_id][3]\n",
    "        )\n",
    "image_t2_path"
   ]
  },
  {
   "cell_type": "code",
   "execution_count": 92,
   "metadata": {},
   "outputs": [],
   "source": [
    "# Copying img to model predictions folder.\n",
    "list_of_lists_or_source_folder='Prostate_Cancer_TFM/Prostate_Segmentation/sample_images/tmp_predict'\n",
    "\n",
    "image = sitk.ReadImage(image_t2_path)\n",
    "\n",
    "image = crop(image, margin=[0.2,0.2,0.0])\n",
    "\n",
    "image_save_path = os.path.join(list_of_lists_or_source_folder, \"ProstateSample_0000.nii.gz\")\n",
    "\n",
    "# Save the image and segmentation\n",
    "sitk.WriteImage(image, image_save_path)"
   ]
  },
  {
   "cell_type": "code",
   "execution_count": 88,
   "metadata": {},
   "outputs": [],
   "source": [
    "images_list = [join('/home/jaalzate/Prostate_Cancer_TFM/Prostate_Segmentation/sample_images/tmp_predict','ProstateSample_0000.nii.gz')]\n",
    "images_outdir = [join('/home/jaalzate/Prostate_Cancer_TFM/Prostate_Segmentation/sample_images/tmp_results','ProstateSample.nii.gz')]\n"
   ]
  },
  {
   "cell_type": "code",
   "execution_count": 81,
   "metadata": {},
   "outputs": [
    {
     "data": {
      "text/plain": [
       "['/home/jaalzate/Prostate_Cancer_TFM/Prostate_Segmentation/sample_images/tmp_predict/ProstateSample_0000.nii.gz']"
      ]
     },
     "execution_count": 81,
     "metadata": {},
     "output_type": "execute_result"
    }
   ],
   "source": [
    "images_list"
   ]
  },
  {
   "cell_type": "code",
   "execution_count": 82,
   "metadata": {},
   "outputs": [],
   "source": [
    "# instantiate the nnUNetPredictor\n",
    "predictor = nnUNetPredictor(\n",
    "    tile_step_size=0.5,\n",
    "    use_gaussian=True,\n",
    "    use_mirroring=True,\n",
    "    perform_everything_on_device=True,\n",
    "    device=torch.device('cuda', 0),\n",
    "    verbose=True,\n",
    "    verbose_preprocessing=True,\n",
    "    allow_tqdm=True\n",
    ")"
   ]
  },
  {
   "cell_type": "code",
   "execution_count": 83,
   "metadata": {},
   "outputs": [],
   "source": [
    "# initializes the network architecture, loads the checkpoint\n",
    "results_folder = \"/nvmescratch/ceib/Prostate/nnUnet/nnUNet_results/Dataset014_ProstateOwn/nnUNetTrainer_100epochs__nnUNetPlans__3d_fullres\"\n",
    "predictor.initialize_from_trained_model_folder(\n",
    "    results_folder,\n",
    "    use_folds=(0,1,2,3,4),\n",
    "    checkpoint_name='checkpoint_best.pth',\n",
    ")"
   ]
  },
  {
   "cell_type": "code",
   "execution_count": 93,
   "metadata": {},
   "outputs": [
    {
     "name": "stdout",
     "output_type": "stream",
     "text": [
      "There are 1 cases in the source folder\n",
      "I am process 0 out of 1 (max process ID is 0, we start counting with 0!)\n",
      "There are 1 cases that I would like to predict\n",
      "old shape: (36, 308, 308), new_shape: [ 35 257 257], old_spacing: [3.0, 0.3905999958515167, 0.3905999958515167], new_spacing: [3.089737057685852, 0.46875, 0.46875], fn_data: functools.partial(<function resample_data_or_seg_to_shape at 0x7fe3ea11ce50>, is_seg=False, order=3, order_z=0, force_separate_z=None)\n",
      "\n",
      "Predicting ProstateSample.nii.gz:\n",
      "perform_everything_on_device: True\n",
      "Input shape: torch.Size([1, 35, 257, 257])\n",
      "step_size: 0.5\n",
      "mirror_axes: (0, 1, 2)\n",
      "n_steps 8, image size is torch.Size([35, 257, 257]), tile_size [24, 256, 256], tile_step_size 0.5\n",
      "steps:\n",
      "[[0, 11], [0, 1], [0, 1]]\n",
      "move image to device cuda:0\n",
      "preallocating results arrays on device cuda:0\n",
      "running prediction\n"
     ]
    },
    {
     "name": "stderr",
     "output_type": "stream",
     "text": [
      "100%|██████████| 8/8 [00:02<00:00,  3.11it/s]\n"
     ]
    },
    {
     "name": "stdout",
     "output_type": "stream",
     "text": [
      "Input shape: torch.Size([1, 35, 257, 257])\n",
      "step_size: 0.5\n",
      "mirror_axes: (0, 1, 2)\n",
      "n_steps 8, image size is torch.Size([35, 257, 257]), tile_size [24, 256, 256], tile_step_size 0.5\n",
      "steps:\n",
      "[[0, 11], [0, 1], [0, 1]]\n",
      "move image to device cuda:0\n",
      "preallocating results arrays on device cuda:0\n",
      "running prediction\n"
     ]
    },
    {
     "name": "stderr",
     "output_type": "stream",
     "text": [
      "100%|██████████| 8/8 [00:02<00:00,  3.13it/s]\n"
     ]
    },
    {
     "name": "stdout",
     "output_type": "stream",
     "text": [
      "Input shape: torch.Size([1, 35, 257, 257])\n",
      "step_size: 0.5\n",
      "mirror_axes: (0, 1, 2)\n",
      "n_steps 8, image size is torch.Size([35, 257, 257]), tile_size [24, 256, 256], tile_step_size 0.5\n",
      "steps:\n",
      "[[0, 11], [0, 1], [0, 1]]\n",
      "move image to device cuda:0\n",
      "preallocating results arrays on device cuda:0\n",
      "running prediction\n"
     ]
    },
    {
     "name": "stderr",
     "output_type": "stream",
     "text": [
      "100%|██████████| 8/8 [00:02<00:00,  3.13it/s]\n"
     ]
    },
    {
     "name": "stdout",
     "output_type": "stream",
     "text": [
      "Input shape: torch.Size([1, 35, 257, 257])\n",
      "step_size: 0.5\n",
      "mirror_axes: (0, 1, 2)\n",
      "n_steps 8, image size is torch.Size([35, 257, 257]), tile_size [24, 256, 256], tile_step_size 0.5\n",
      "steps:\n",
      "[[0, 11], [0, 1], [0, 1]]\n",
      "move image to device cuda:0\n",
      "preallocating results arrays on device cuda:0\n",
      "running prediction\n"
     ]
    },
    {
     "name": "stderr",
     "output_type": "stream",
     "text": [
      "100%|██████████| 8/8 [00:02<00:00,  3.13it/s]\n"
     ]
    },
    {
     "name": "stdout",
     "output_type": "stream",
     "text": [
      "Input shape: torch.Size([1, 35, 257, 257])\n",
      "step_size: 0.5\n",
      "mirror_axes: (0, 1, 2)\n",
      "n_steps 8, image size is torch.Size([35, 257, 257]), tile_size [24, 256, 256], tile_step_size 0.5\n",
      "steps:\n",
      "[[0, 11], [0, 1], [0, 1]]\n",
      "move image to device cuda:0\n",
      "preallocating results arrays on device cuda:0\n",
      "running prediction\n"
     ]
    },
    {
     "name": "stderr",
     "output_type": "stream",
     "text": [
      "100%|██████████| 8/8 [00:02<00:00,  3.11it/s]\n"
     ]
    },
    {
     "name": "stdout",
     "output_type": "stream",
     "text": [
      "Prediction done\n",
      "sending off prediction to background worker for resampling and export\n",
      "done with ProstateSample.nii.gz\n"
     ]
    },
    {
     "data": {
      "text/plain": [
       "[None]"
      ]
     },
     "execution_count": 93,
     "metadata": {},
     "output_type": "execute_result"
    }
   ],
   "source": [
    "# Save Segmentations\n",
    "predictor.predict_from_files([images_list],\n",
    "                            images_outdir,\n",
    "                            save_probabilities=False, overwrite=True,\n",
    "                            num_processes_preprocessing=2, num_processes_segmentation_export=2,\n",
    "                            folder_with_segs_from_prev_stage=None, num_parts=1, part_id=0)"
   ]
  },
  {
   "cell_type": "code",
   "execution_count": 50,
   "metadata": {},
   "outputs": [
    {
     "name": "stdout",
     "output_type": "stream",
     "text": [
      "There are 1 cases in the source folder\n",
      "I am process 0 out of 1 (max process ID is 0, we start counting with 0!)\n",
      "There are 1 cases that I would like to predict\n",
      "\n",
      "Predicting image of shape torch.Size([1, 23, 341, 339]):\n",
      "perform_everything_on_device: True\n"
     ]
    },
    {
     "name": "stderr",
     "output_type": "stream",
     "text": [
      "100%|██████████| 4/4 [00:01<00:00,  3.28it/s]\n",
      "100%|██████████| 4/4 [00:01<00:00,  3.33it/s]\n",
      "100%|██████████| 4/4 [00:01<00:00,  3.33it/s]\n",
      "100%|██████████| 4/4 [00:01<00:00,  3.33it/s]\n",
      "100%|██████████| 4/4 [00:01<00:00,  3.33it/s]\n"
     ]
    },
    {
     "name": "stdout",
     "output_type": "stream",
     "text": [
      "sending off prediction to background worker for resampling\n",
      "\n",
      "Done with image of shape torch.Size([1, 23, 341, 339]):\n"
     ]
    }
   ],
   "source": [
    "# Predict Array\n",
    "prediction = predictor.predict_from_files([images_list],\n",
    "                            None,\n",
    "                            save_probabilities=True, overwrite=True,\n",
    "                            num_processes_preprocessing=2, num_processes_segmentation_export=2,\n",
    "                            folder_with_segs_from_prev_stage=None, num_parts=1, part_id=0)"
   ]
  },
  {
   "cell_type": "markdown",
   "metadata": {},
   "source": [
    "# Prediction for Bounding Boxes Data"
   ]
  },
  {
   "cell_type": "markdown",
   "metadata": {},
   "source": [
    "## Organize Dataset"
   ]
  },
  {
   "cell_type": "code",
   "execution_count": 248,
   "metadata": {},
   "outputs": [],
   "source": [
    "df_bounding_boxes = pd.read_csv(\"Prostate_Cancer_TFM/Files/Bounding_Boxes/Only_Bounding.csv\")\n",
    "t2_images = df_bounding_boxes[df_bounding_boxes['modality'] == 'T2'].reset_index(drop=True)"
   ]
  },
  {
   "cell_type": "code",
   "execution_count": 249,
   "metadata": {},
   "outputs": [
    {
     "data": {
      "text/html": [
       "<div>\n",
       "<style scoped>\n",
       "    .dataframe tbody tr th:only-of-type {\n",
       "        vertical-align: middle;\n",
       "    }\n",
       "\n",
       "    .dataframe tbody tr th {\n",
       "        vertical-align: top;\n",
       "    }\n",
       "\n",
       "    .dataframe thead th {\n",
       "        text-align: right;\n",
       "    }\n",
       "</style>\n",
       "<table border=\"1\" class=\"dataframe\">\n",
       "  <thead>\n",
       "    <tr style=\"text-align: right;\">\n",
       "      <th></th>\n",
       "      <th>subject</th>\n",
       "      <th>session</th>\n",
       "      <th>image</th>\n",
       "      <th>image_associated</th>\n",
       "      <th>bounding_box</th>\n",
       "      <th>SeriesDescription</th>\n",
       "      <th>image_nifti</th>\n",
       "      <th>bval</th>\n",
       "      <th>bvec</th>\n",
       "      <th>modality</th>\n",
       "    </tr>\n",
       "  </thead>\n",
       "  <tbody>\n",
       "    <tr>\n",
       "      <th>0</th>\n",
       "      <td>5586</td>\n",
       "      <td>6040</td>\n",
       "      <td>p0052021/005586/006040/8/DICOM</td>\n",
       "      <td>p0052021/005586/006040/8/DICOM</td>\n",
       "      <td>p0052021/005586/006040/SEG_20240113_205302_952...</td>\n",
       "      <td>ax T2</td>\n",
       "      <td>/nvmescratch/ceib/Prostate/Bounding_Boxes/p005...</td>\n",
       "      <td>NaN</td>\n",
       "      <td>NaN</td>\n",
       "      <td>T2</td>\n",
       "    </tr>\n",
       "    <tr>\n",
       "      <th>1</th>\n",
       "      <td>5586</td>\n",
       "      <td>6040</td>\n",
       "      <td>p0052021/005586/006040/7/DICOM</td>\n",
       "      <td>p0052021/005586/006040/7/DICOM</td>\n",
       "      <td>p0052021/005586/006040/SEG_20240113_205223_953...</td>\n",
       "      <td>Ax T2 ADENOPATIAS</td>\n",
       "      <td>/nvmescratch/ceib/Prostate/Bounding_Boxes/p005...</td>\n",
       "      <td>NaN</td>\n",
       "      <td>NaN</td>\n",
       "      <td>T2</td>\n",
       "    </tr>\n",
       "    <tr>\n",
       "      <th>2</th>\n",
       "      <td>5596</td>\n",
       "      <td>6050</td>\n",
       "      <td>p0052021/005596/006050/13001/DICOM</td>\n",
       "      <td>p0052021/005596/006050/13001/DICOM</td>\n",
       "      <td>p0052021/005596/006050/SEG_20240113_211223_114...</td>\n",
       "      <td>AXIAL T2 TSE</td>\n",
       "      <td>/nvmescratch/ceib/Prostate/Bounding_Boxes/p005...</td>\n",
       "      <td>NaN</td>\n",
       "      <td>NaN</td>\n",
       "      <td>T2</td>\n",
       "    </tr>\n",
       "    <tr>\n",
       "      <th>3</th>\n",
       "      <td>5700</td>\n",
       "      <td>6173</td>\n",
       "      <td>p0052021/005700/006173/6/DICOM</td>\n",
       "      <td>p0052021/005700/006173/6/DICOM</td>\n",
       "      <td>p0052021/005700/006173/SEG_20240113_211858_507...</td>\n",
       "      <td>AXIAL  T2 ALTA RES. (de abajo arriba en próstata)</td>\n",
       "      <td>/nvmescratch/ceib/Prostate/Bounding_Boxes/p005...</td>\n",
       "      <td>NaN</td>\n",
       "      <td>NaN</td>\n",
       "      <td>T2</td>\n",
       "    </tr>\n",
       "    <tr>\n",
       "      <th>4</th>\n",
       "      <td>5665</td>\n",
       "      <td>6131</td>\n",
       "      <td>p0052021/005665/006131/6/DICOM</td>\n",
       "      <td>p0052021/005665/006131/6/DICOM</td>\n",
       "      <td>p0052021/005665/006131/SEG_20240115_203626_074...</td>\n",
       "      <td>Ax T2 FSE</td>\n",
       "      <td>/nvmescratch/ceib/Prostate/Bounding_Boxes/p005...</td>\n",
       "      <td>NaN</td>\n",
       "      <td>NaN</td>\n",
       "      <td>T2</td>\n",
       "    </tr>\n",
       "    <tr>\n",
       "      <th>...</th>\n",
       "      <td>...</td>\n",
       "      <td>...</td>\n",
       "      <td>...</td>\n",
       "      <td>...</td>\n",
       "      <td>...</td>\n",
       "      <td>...</td>\n",
       "      <td>...</td>\n",
       "      <td>...</td>\n",
       "      <td>...</td>\n",
       "      <td>...</td>\n",
       "    </tr>\n",
       "    <tr>\n",
       "      <th>226</th>\n",
       "      <td>5636</td>\n",
       "      <td>6097</td>\n",
       "      <td>p0052021/005636/006097/501/DICOM</td>\n",
       "      <td>p0052021/005636/006097/501/DICOM</td>\n",
       "      <td>p0052021/005636/006097/SEG_20240113_202733_764...</td>\n",
       "      <td>T2W_TSE_TRA_IQ</td>\n",
       "      <td>/nvmescratch/ceib/Prostate/Bounding_Boxes/p005...</td>\n",
       "      <td>NaN</td>\n",
       "      <td>NaN</td>\n",
       "      <td>T2</td>\n",
       "    </tr>\n",
       "    <tr>\n",
       "      <th>227</th>\n",
       "      <td>5613</td>\n",
       "      <td>6070</td>\n",
       "      <td>p0052021/005613/006070/6/DICOM</td>\n",
       "      <td>p0052021/005613/006070/6/DICOM</td>\n",
       "      <td>p0052021/005613/006070/SEG_20240113_203814_089...</td>\n",
       "      <td>AX T2 PROPELLER</td>\n",
       "      <td>/nvmescratch/ceib/Prostate/Bounding_Boxes/p005...</td>\n",
       "      <td>NaN</td>\n",
       "      <td>NaN</td>\n",
       "      <td>T2</td>\n",
       "    </tr>\n",
       "    <tr>\n",
       "      <th>228</th>\n",
       "      <td>5646</td>\n",
       "      <td>6108</td>\n",
       "      <td>p0052021/005646/006108/7/DICOM</td>\n",
       "      <td>p0052021/005646/006108/7/DICOM</td>\n",
       "      <td>p0052021/005646/006108/SEG_20240113_210319_135...</td>\n",
       "      <td>Ax T2 FSE</td>\n",
       "      <td>/nvmescratch/ceib/Prostate/Bounding_Boxes/p005...</td>\n",
       "      <td>NaN</td>\n",
       "      <td>NaN</td>\n",
       "      <td>T2</td>\n",
       "    </tr>\n",
       "    <tr>\n",
       "      <th>229</th>\n",
       "      <td>5399</td>\n",
       "      <td>5819</td>\n",
       "      <td>p0052021/005399/005819/701/DICOM</td>\n",
       "      <td>p0052021/005399/005819/701/DICOM</td>\n",
       "      <td>p0052021/005399/005819/SEG_20240109_114231_571...</td>\n",
       "      <td>T2W_TSE</td>\n",
       "      <td>/nvmescratch/ceib/Prostate/Bounding_Boxes/p005...</td>\n",
       "      <td>NaN</td>\n",
       "      <td>NaN</td>\n",
       "      <td>T2</td>\n",
       "    </tr>\n",
       "    <tr>\n",
       "      <th>230</th>\n",
       "      <td>5399</td>\n",
       "      <td>5819</td>\n",
       "      <td>p0052021/005399/005819/401/DICOM</td>\n",
       "      <td>p0052021/005399/005819/401/DICOM</td>\n",
       "      <td>p0052021/005399/005819/SEG_20240109_114054_657...</td>\n",
       "      <td>T2W FAST TRA</td>\n",
       "      <td>/nvmescratch/ceib/Prostate/Bounding_Boxes/p005...</td>\n",
       "      <td>NaN</td>\n",
       "      <td>NaN</td>\n",
       "      <td>T2</td>\n",
       "    </tr>\n",
       "  </tbody>\n",
       "</table>\n",
       "<p>231 rows × 10 columns</p>\n",
       "</div>"
      ],
      "text/plain": [
       "     subject  session                               image  \\\n",
       "0       5586     6040      p0052021/005586/006040/8/DICOM   \n",
       "1       5586     6040      p0052021/005586/006040/7/DICOM   \n",
       "2       5596     6050  p0052021/005596/006050/13001/DICOM   \n",
       "3       5700     6173      p0052021/005700/006173/6/DICOM   \n",
       "4       5665     6131      p0052021/005665/006131/6/DICOM   \n",
       "..       ...      ...                                 ...   \n",
       "226     5636     6097    p0052021/005636/006097/501/DICOM   \n",
       "227     5613     6070      p0052021/005613/006070/6/DICOM   \n",
       "228     5646     6108      p0052021/005646/006108/7/DICOM   \n",
       "229     5399     5819    p0052021/005399/005819/701/DICOM   \n",
       "230     5399     5819    p0052021/005399/005819/401/DICOM   \n",
       "\n",
       "                       image_associated  \\\n",
       "0        p0052021/005586/006040/8/DICOM   \n",
       "1        p0052021/005586/006040/7/DICOM   \n",
       "2    p0052021/005596/006050/13001/DICOM   \n",
       "3        p0052021/005700/006173/6/DICOM   \n",
       "4        p0052021/005665/006131/6/DICOM   \n",
       "..                                  ...   \n",
       "226    p0052021/005636/006097/501/DICOM   \n",
       "227      p0052021/005613/006070/6/DICOM   \n",
       "228      p0052021/005646/006108/7/DICOM   \n",
       "229    p0052021/005399/005819/701/DICOM   \n",
       "230    p0052021/005399/005819/401/DICOM   \n",
       "\n",
       "                                          bounding_box  \\\n",
       "0    p0052021/005586/006040/SEG_20240113_205302_952...   \n",
       "1    p0052021/005586/006040/SEG_20240113_205223_953...   \n",
       "2    p0052021/005596/006050/SEG_20240113_211223_114...   \n",
       "3    p0052021/005700/006173/SEG_20240113_211858_507...   \n",
       "4    p0052021/005665/006131/SEG_20240115_203626_074...   \n",
       "..                                                 ...   \n",
       "226  p0052021/005636/006097/SEG_20240113_202733_764...   \n",
       "227  p0052021/005613/006070/SEG_20240113_203814_089...   \n",
       "228  p0052021/005646/006108/SEG_20240113_210319_135...   \n",
       "229  p0052021/005399/005819/SEG_20240109_114231_571...   \n",
       "230  p0052021/005399/005819/SEG_20240109_114054_657...   \n",
       "\n",
       "                                     SeriesDescription  \\\n",
       "0                                                ax T2   \n",
       "1                                    Ax T2 ADENOPATIAS   \n",
       "2                                         AXIAL T2 TSE   \n",
       "3    AXIAL  T2 ALTA RES. (de abajo arriba en próstata)   \n",
       "4                                            Ax T2 FSE   \n",
       "..                                                 ...   \n",
       "226                                     T2W_TSE_TRA_IQ   \n",
       "227                                    AX T2 PROPELLER   \n",
       "228                                          Ax T2 FSE   \n",
       "229                                            T2W_TSE   \n",
       "230                                       T2W FAST TRA   \n",
       "\n",
       "                                           image_nifti bval bvec modality  \n",
       "0    /nvmescratch/ceib/Prostate/Bounding_Boxes/p005...  NaN  NaN       T2  \n",
       "1    /nvmescratch/ceib/Prostate/Bounding_Boxes/p005...  NaN  NaN       T2  \n",
       "2    /nvmescratch/ceib/Prostate/Bounding_Boxes/p005...  NaN  NaN       T2  \n",
       "3    /nvmescratch/ceib/Prostate/Bounding_Boxes/p005...  NaN  NaN       T2  \n",
       "4    /nvmescratch/ceib/Prostate/Bounding_Boxes/p005...  NaN  NaN       T2  \n",
       "..                                                 ...  ...  ...      ...  \n",
       "226  /nvmescratch/ceib/Prostate/Bounding_Boxes/p005...  NaN  NaN       T2  \n",
       "227  /nvmescratch/ceib/Prostate/Bounding_Boxes/p005...  NaN  NaN       T2  \n",
       "228  /nvmescratch/ceib/Prostate/Bounding_Boxes/p005...  NaN  NaN       T2  \n",
       "229  /nvmescratch/ceib/Prostate/Bounding_Boxes/p005...  NaN  NaN       T2  \n",
       "230  /nvmescratch/ceib/Prostate/Bounding_Boxes/p005...  NaN  NaN       T2  \n",
       "\n",
       "[231 rows x 10 columns]"
      ]
     },
     "execution_count": 249,
     "metadata": {},
     "output_type": "execute_result"
    }
   ],
   "source": [
    "t2_images"
   ]
  },
  {
   "cell_type": "code",
   "execution_count": 250,
   "metadata": {},
   "outputs": [],
   "source": [
    "# Create temporal folder to save the images in nnUNet format\n",
    "tmp_folder_imgs = \"Prostate_Cancer_TFM/Prostate_Segmentation/sample_images/tmp_images\"\n",
    "tmp_folder_preds = \"Prostate_Cancer_TFM/Prostate_Segmentation/sample_images/tmp_predictions\"\n",
    "\n",
    "associated_paths = []\n",
    "\n",
    "if not os.path.exists(tmp_folder_imgs):\n",
    "    os.makedirs(tmp_folder_imgs)\n",
    "if not os.path.exists(tmp_folder_preds):\n",
    "    os.makedirs(tmp_folder_preds)\n",
    "\n",
    "# Copying img to model predictions folder.\n",
    "for i, path in enumerate(t2_images['image_nifti']):\n",
    "\n",
    "    new_path = os.path.join(tmp_folder_imgs, f\"Sample{i}_0000.nii.gz\")\n",
    "    image = sitk.ReadImage(path)\n",
    "\n",
    "    image = crop(image, margin=[0.2,0.2,0.0])\n",
    "    associated_paths.append({'original_path': path, 'path_nnunet': new_path})\n",
    "    sitk.WriteImage(image, new_path)\n",
    "\n",
    "associated_paths = pd.DataFrame(associated_paths)"
   ]
  },
  {
   "cell_type": "code",
   "execution_count": 251,
   "metadata": {},
   "outputs": [
    {
     "data": {
      "text/html": [
       "<div>\n",
       "<style scoped>\n",
       "    .dataframe tbody tr th:only-of-type {\n",
       "        vertical-align: middle;\n",
       "    }\n",
       "\n",
       "    .dataframe tbody tr th {\n",
       "        vertical-align: top;\n",
       "    }\n",
       "\n",
       "    .dataframe thead th {\n",
       "        text-align: right;\n",
       "    }\n",
       "</style>\n",
       "<table border=\"1\" class=\"dataframe\">\n",
       "  <thead>\n",
       "    <tr style=\"text-align: right;\">\n",
       "      <th></th>\n",
       "      <th>original_path</th>\n",
       "      <th>path_nnunet</th>\n",
       "    </tr>\n",
       "  </thead>\n",
       "  <tbody>\n",
       "    <tr>\n",
       "      <th>0</th>\n",
       "      <td>/nvmescratch/ceib/Prostate/Bounding_Boxes/p005...</td>\n",
       "      <td>Prostate_Cancer_TFM/Prostate_Segmentation/samp...</td>\n",
       "    </tr>\n",
       "    <tr>\n",
       "      <th>1</th>\n",
       "      <td>/nvmescratch/ceib/Prostate/Bounding_Boxes/p005...</td>\n",
       "      <td>Prostate_Cancer_TFM/Prostate_Segmentation/samp...</td>\n",
       "    </tr>\n",
       "    <tr>\n",
       "      <th>2</th>\n",
       "      <td>/nvmescratch/ceib/Prostate/Bounding_Boxes/p005...</td>\n",
       "      <td>Prostate_Cancer_TFM/Prostate_Segmentation/samp...</td>\n",
       "    </tr>\n",
       "    <tr>\n",
       "      <th>3</th>\n",
       "      <td>/nvmescratch/ceib/Prostate/Bounding_Boxes/p005...</td>\n",
       "      <td>Prostate_Cancer_TFM/Prostate_Segmentation/samp...</td>\n",
       "    </tr>\n",
       "    <tr>\n",
       "      <th>4</th>\n",
       "      <td>/nvmescratch/ceib/Prostate/Bounding_Boxes/p005...</td>\n",
       "      <td>Prostate_Cancer_TFM/Prostate_Segmentation/samp...</td>\n",
       "    </tr>\n",
       "    <tr>\n",
       "      <th>...</th>\n",
       "      <td>...</td>\n",
       "      <td>...</td>\n",
       "    </tr>\n",
       "    <tr>\n",
       "      <th>226</th>\n",
       "      <td>/nvmescratch/ceib/Prostate/Bounding_Boxes/p005...</td>\n",
       "      <td>Prostate_Cancer_TFM/Prostate_Segmentation/samp...</td>\n",
       "    </tr>\n",
       "    <tr>\n",
       "      <th>227</th>\n",
       "      <td>/nvmescratch/ceib/Prostate/Bounding_Boxes/p005...</td>\n",
       "      <td>Prostate_Cancer_TFM/Prostate_Segmentation/samp...</td>\n",
       "    </tr>\n",
       "    <tr>\n",
       "      <th>228</th>\n",
       "      <td>/nvmescratch/ceib/Prostate/Bounding_Boxes/p005...</td>\n",
       "      <td>Prostate_Cancer_TFM/Prostate_Segmentation/samp...</td>\n",
       "    </tr>\n",
       "    <tr>\n",
       "      <th>229</th>\n",
       "      <td>/nvmescratch/ceib/Prostate/Bounding_Boxes/p005...</td>\n",
       "      <td>Prostate_Cancer_TFM/Prostate_Segmentation/samp...</td>\n",
       "    </tr>\n",
       "    <tr>\n",
       "      <th>230</th>\n",
       "      <td>/nvmescratch/ceib/Prostate/Bounding_Boxes/p005...</td>\n",
       "      <td>Prostate_Cancer_TFM/Prostate_Segmentation/samp...</td>\n",
       "    </tr>\n",
       "  </tbody>\n",
       "</table>\n",
       "<p>231 rows × 2 columns</p>\n",
       "</div>"
      ],
      "text/plain": [
       "                                         original_path  \\\n",
       "0    /nvmescratch/ceib/Prostate/Bounding_Boxes/p005...   \n",
       "1    /nvmescratch/ceib/Prostate/Bounding_Boxes/p005...   \n",
       "2    /nvmescratch/ceib/Prostate/Bounding_Boxes/p005...   \n",
       "3    /nvmescratch/ceib/Prostate/Bounding_Boxes/p005...   \n",
       "4    /nvmescratch/ceib/Prostate/Bounding_Boxes/p005...   \n",
       "..                                                 ...   \n",
       "226  /nvmescratch/ceib/Prostate/Bounding_Boxes/p005...   \n",
       "227  /nvmescratch/ceib/Prostate/Bounding_Boxes/p005...   \n",
       "228  /nvmescratch/ceib/Prostate/Bounding_Boxes/p005...   \n",
       "229  /nvmescratch/ceib/Prostate/Bounding_Boxes/p005...   \n",
       "230  /nvmescratch/ceib/Prostate/Bounding_Boxes/p005...   \n",
       "\n",
       "                                           path_nnunet  \n",
       "0    Prostate_Cancer_TFM/Prostate_Segmentation/samp...  \n",
       "1    Prostate_Cancer_TFM/Prostate_Segmentation/samp...  \n",
       "2    Prostate_Cancer_TFM/Prostate_Segmentation/samp...  \n",
       "3    Prostate_Cancer_TFM/Prostate_Segmentation/samp...  \n",
       "4    Prostate_Cancer_TFM/Prostate_Segmentation/samp...  \n",
       "..                                                 ...  \n",
       "226  Prostate_Cancer_TFM/Prostate_Segmentation/samp...  \n",
       "227  Prostate_Cancer_TFM/Prostate_Segmentation/samp...  \n",
       "228  Prostate_Cancer_TFM/Prostate_Segmentation/samp...  \n",
       "229  Prostate_Cancer_TFM/Prostate_Segmentation/samp...  \n",
       "230  Prostate_Cancer_TFM/Prostate_Segmentation/samp...  \n",
       "\n",
       "[231 rows x 2 columns]"
      ]
     },
     "execution_count": 251,
     "metadata": {},
     "output_type": "execute_result"
    }
   ],
   "source": [
    "associated_paths"
   ]
  },
  {
   "cell_type": "markdown",
   "metadata": {},
   "source": [
    "## Make Predictions"
   ]
  },
  {
   "cell_type": "code",
   "execution_count": 252,
   "metadata": {},
   "outputs": [],
   "source": [
    "from nnunetv2.paths import nnUNet_results, nnUNet_raw\n",
    "import torch\n",
    "from batchgenerators.utilities.file_and_folder_operations import join\n",
    "from nnunetv2.inference.predict_from_raw_data import nnUNetPredictor"
   ]
  },
  {
   "cell_type": "code",
   "execution_count": 253,
   "metadata": {},
   "outputs": [],
   "source": [
    "folder_images = \"Prostate_Cancer_TFM/Prostate_Segmentation/sample_images/tmp_images/\"\n",
    "pred_outdir = \"Prostate_Cancer_TFM/Prostate_Segmentation/sample_images/tmp_predictions\"\n"
   ]
  },
  {
   "cell_type": "code",
   "execution_count": 254,
   "metadata": {},
   "outputs": [],
   "source": [
    "# instantiate the nnUNetPredictor\n",
    "predictor = nnUNetPredictor(\n",
    "    tile_step_size=0.5,\n",
    "    use_gaussian=True,\n",
    "    use_mirroring=True,\n",
    "    perform_everything_on_device=True,\n",
    "    device=torch.device('cuda', 0),\n",
    "    verbose=False,\n",
    "    verbose_preprocessing=False,\n",
    "    allow_tqdm=True\n",
    ")"
   ]
  },
  {
   "cell_type": "code",
   "execution_count": 255,
   "metadata": {},
   "outputs": [],
   "source": [
    "# initializes the network architecture, loads the checkpoint\n",
    "results_folder = \"/nvmescratch/ceib/Prostate/nnUnet/nnUNet_results/Dataset014_ProstateOwn/nnUNetTrainer_100epochs__nnUNetPlans__3d_fullres\"\n",
    "predictor.initialize_from_trained_model_folder(\n",
    "    results_folder,\n",
    "    use_folds=(0,1,2,3,4),\n",
    "    checkpoint_name='checkpoint_best.pth',\n",
    ")"
   ]
  },
  {
   "cell_type": "code",
   "execution_count": 264,
   "metadata": {},
   "outputs": [
    {
     "name": "stdout",
     "output_type": "stream",
     "text": [
      "There are 231 cases in the source folder\n",
      "I am process 0 out of 1 (max process ID is 0, we start counting with 0!)\n",
      "There are 231 cases that I would like to predict\n",
      "overwrite was set to False, so I am only working on cases that haven't been predicted yet. That's 217 cases.\n",
      "\n",
      "Predicting Sample110:\n",
      "perform_everything_on_device: True\n"
     ]
    },
    {
     "name": "stderr",
     "output_type": "stream",
     "text": [
      "100%|██████████| 8/8 [00:02<00:00,  3.12it/s]\n",
      "100%|██████████| 8/8 [00:02<00:00,  3.13it/s]\n",
      "100%|██████████| 8/8 [00:02<00:00,  3.13it/s]\n",
      "100%|██████████| 8/8 [00:02<00:00,  3.13it/s]\n",
      "100%|██████████| 8/8 [00:02<00:00,  3.13it/s]\n"
     ]
    },
    {
     "name": "stdout",
     "output_type": "stream",
     "text": [
      "sending off prediction to background worker for resampling and export\n",
      "done with Sample110\n",
      "\n",
      "Predicting Sample111:\n",
      "perform_everything_on_device: True\n"
     ]
    },
    {
     "name": "stderr",
     "output_type": "stream",
     "text": [
      "100%|██████████| 8/8 [00:02<00:00,  3.13it/s]\n",
      "100%|██████████| 8/8 [00:02<00:00,  3.13it/s]\n",
      "100%|██████████| 8/8 [00:02<00:00,  3.13it/s]\n",
      "100%|██████████| 8/8 [00:02<00:00,  3.13it/s]\n",
      "100%|██████████| 8/8 [00:02<00:00,  3.13it/s]\n"
     ]
    },
    {
     "name": "stdout",
     "output_type": "stream",
     "text": [
      "sending off prediction to background worker for resampling and export\n",
      "done with Sample111\n",
      "\n",
      "Predicting Sample112:\n",
      "perform_everything_on_device: True\n"
     ]
    },
    {
     "name": "stderr",
     "output_type": "stream",
     "text": [
      "100%|██████████| 3/3 [00:00<00:00,  3.46it/s]\n",
      "100%|██████████| 3/3 [00:00<00:00,  3.46it/s]\n",
      "100%|██████████| 3/3 [00:00<00:00,  3.45it/s]\n",
      "100%|██████████| 3/3 [00:00<00:00,  3.46it/s]\n",
      "100%|██████████| 3/3 [00:00<00:00,  3.46it/s]\n"
     ]
    },
    {
     "name": "stdout",
     "output_type": "stream",
     "text": [
      "sending off prediction to background worker for resampling and export\n",
      "done with Sample112\n",
      "\n",
      "Predicting Sample113:\n",
      "perform_everything_on_device: True\n"
     ]
    },
    {
     "name": "stderr",
     "output_type": "stream",
     "text": [
      "100%|██████████| 18/18 [00:05<00:00,  3.03it/s]\n",
      "100%|██████████| 18/18 [00:05<00:00,  3.03it/s]\n",
      "100%|██████████| 18/18 [00:05<00:00,  3.03it/s]\n",
      "100%|██████████| 18/18 [00:05<00:00,  3.03it/s]\n",
      "100%|██████████| 18/18 [00:05<00:00,  3.03it/s]\n"
     ]
    },
    {
     "name": "stdout",
     "output_type": "stream",
     "text": [
      "sending off prediction to background worker for resampling and export\n",
      "done with Sample113\n",
      "\n",
      "Predicting Sample114:\n",
      "perform_everything_on_device: True\n"
     ]
    },
    {
     "name": "stderr",
     "output_type": "stream",
     "text": [
      "100%|██████████| 18/18 [00:05<00:00,  3.03it/s]\n",
      "100%|██████████| 18/18 [00:05<00:00,  3.03it/s]\n",
      "100%|██████████| 18/18 [00:05<00:00,  3.03it/s]\n",
      "100%|██████████| 18/18 [00:05<00:00,  3.03it/s]\n",
      "100%|██████████| 18/18 [00:05<00:00,  3.03it/s]\n"
     ]
    },
    {
     "name": "stdout",
     "output_type": "stream",
     "text": [
      "sending off prediction to background worker for resampling and export\n",
      "done with Sample114\n",
      "\n",
      "Predicting Sample115:\n",
      "perform_everything_on_device: True\n"
     ]
    },
    {
     "name": "stderr",
     "output_type": "stream",
     "text": [
      "100%|██████████| 3/3 [00:00<00:00,  3.45it/s]\n",
      "100%|██████████| 3/3 [00:00<00:00,  3.46it/s]\n",
      "100%|██████████| 3/3 [00:00<00:00,  3.46it/s]\n",
      "100%|██████████| 3/3 [00:00<00:00,  3.46it/s]\n",
      "100%|██████████| 3/3 [00:00<00:00,  3.45it/s]\n"
     ]
    },
    {
     "name": "stdout",
     "output_type": "stream",
     "text": [
      "sending off prediction to background worker for resampling and export\n",
      "done with Sample115\n",
      "\n",
      "Predicting Sample116:\n",
      "perform_everything_on_device: True\n"
     ]
    },
    {
     "name": "stderr",
     "output_type": "stream",
     "text": [
      "100%|██████████| 8/8 [00:02<00:00,  3.13it/s]\n",
      "100%|██████████| 8/8 [00:02<00:00,  3.13it/s]\n",
      "100%|██████████| 8/8 [00:02<00:00,  3.13it/s]\n",
      "100%|██████████| 8/8 [00:02<00:00,  3.13it/s]\n",
      "100%|██████████| 8/8 [00:02<00:00,  3.13it/s]\n"
     ]
    },
    {
     "name": "stdout",
     "output_type": "stream",
     "text": [
      "sending off prediction to background worker for resampling and export\n",
      "done with Sample116\n",
      "\n",
      "Predicting Sample117:\n",
      "perform_everything_on_device: True\n"
     ]
    },
    {
     "name": "stderr",
     "output_type": "stream",
     "text": [
      "100%|██████████| 8/8 [00:02<00:00,  3.13it/s]\n",
      "100%|██████████| 8/8 [00:02<00:00,  3.13it/s]\n",
      "100%|██████████| 8/8 [00:02<00:00,  3.13it/s]\n",
      "100%|██████████| 8/8 [00:02<00:00,  3.13it/s]\n",
      "100%|██████████| 8/8 [00:02<00:00,  3.13it/s]\n"
     ]
    },
    {
     "name": "stdout",
     "output_type": "stream",
     "text": [
      "sending off prediction to background worker for resampling and export\n",
      "done with Sample117\n",
      "\n",
      "Predicting Sample118:\n",
      "perform_everything_on_device: True\n"
     ]
    },
    {
     "name": "stderr",
     "output_type": "stream",
     "text": [
      "100%|██████████| 8/8 [00:02<00:00,  3.13it/s]\n",
      "100%|██████████| 8/8 [00:02<00:00,  3.13it/s]\n",
      "100%|██████████| 8/8 [00:02<00:00,  3.13it/s]\n",
      "100%|██████████| 8/8 [00:02<00:00,  3.13it/s]\n",
      "100%|██████████| 8/8 [00:02<00:00,  3.13it/s]\n"
     ]
    },
    {
     "name": "stdout",
     "output_type": "stream",
     "text": [
      "sending off prediction to background worker for resampling and export\n",
      "done with Sample118\n",
      "\n",
      "Predicting Sample119:\n",
      "perform_everything_on_device: True\n"
     ]
    },
    {
     "name": "stderr",
     "output_type": "stream",
     "text": [
      "100%|██████████| 63/63 [00:21<00:00,  2.99it/s]\n",
      "100%|██████████| 63/63 [00:21<00:00,  2.99it/s]\n",
      "100%|██████████| 63/63 [00:21<00:00,  2.99it/s]\n",
      "100%|██████████| 63/63 [00:21<00:00,  2.99it/s]\n",
      "100%|██████████| 63/63 [00:21<00:00,  2.99it/s]\n"
     ]
    },
    {
     "name": "stdout",
     "output_type": "stream",
     "text": [
      "sending off prediction to background worker for resampling and export\n",
      "done with Sample119\n",
      "\n",
      "Predicting Sample12:\n",
      "perform_everything_on_device: True\n"
     ]
    },
    {
     "name": "stderr",
     "output_type": "stream",
     "text": [
      "100%|██████████| 8/8 [00:02<00:00,  3.13it/s]\n",
      "100%|██████████| 8/8 [00:02<00:00,  3.13it/s]\n",
      "100%|██████████| 8/8 [00:02<00:00,  3.13it/s]\n",
      "100%|██████████| 8/8 [00:02<00:00,  3.13it/s]\n",
      "100%|██████████| 8/8 [00:02<00:00,  3.13it/s]\n"
     ]
    },
    {
     "name": "stdout",
     "output_type": "stream",
     "text": [
      "sending off prediction to background worker for resampling and export\n",
      "done with Sample12\n",
      "\n",
      "Predicting Sample120:\n",
      "perform_everything_on_device: True\n"
     ]
    },
    {
     "name": "stderr",
     "output_type": "stream",
     "text": [
      "100%|██████████| 8/8 [00:02<00:00,  3.13it/s]\n",
      "100%|██████████| 8/8 [00:02<00:00,  3.13it/s]\n",
      "100%|██████████| 8/8 [00:02<00:00,  3.13it/s]\n",
      "100%|██████████| 8/8 [00:02<00:00,  3.13it/s]\n",
      "100%|██████████| 8/8 [00:02<00:00,  3.13it/s]\n"
     ]
    },
    {
     "name": "stdout",
     "output_type": "stream",
     "text": [
      "sending off prediction to background worker for resampling and export\n",
      "done with Sample120\n",
      "\n",
      "Predicting Sample121:\n",
      "perform_everything_on_device: True\n"
     ]
    },
    {
     "name": "stderr",
     "output_type": "stream",
     "text": [
      "100%|██████████| 2/2 [00:00<00:00,  3.78it/s]\n",
      "100%|██████████| 2/2 [00:00<00:00,  3.78it/s]\n",
      "100%|██████████| 2/2 [00:00<00:00,  3.77it/s]\n",
      "100%|██████████| 2/2 [00:00<00:00,  3.78it/s]\n",
      "100%|██████████| 2/2 [00:00<00:00,  3.78it/s]\n"
     ]
    },
    {
     "name": "stdout",
     "output_type": "stream",
     "text": [
      "sending off prediction to background worker for resampling and export\n",
      "done with Sample121\n",
      "\n",
      "Predicting Sample122:\n",
      "perform_everything_on_device: True\n"
     ]
    },
    {
     "name": "stderr",
     "output_type": "stream",
     "text": [
      "100%|██████████| 8/8 [00:02<00:00,  3.13it/s]\n",
      "100%|██████████| 8/8 [00:02<00:00,  3.13it/s]\n",
      "100%|██████████| 8/8 [00:02<00:00,  3.13it/s]\n",
      "100%|██████████| 8/8 [00:02<00:00,  3.13it/s]\n",
      "100%|██████████| 8/8 [00:02<00:00,  3.13it/s]\n"
     ]
    },
    {
     "name": "stdout",
     "output_type": "stream",
     "text": [
      "sending off prediction to background worker for resampling and export\n",
      "done with Sample122\n",
      "\n",
      "Predicting Sample123:\n",
      "perform_everything_on_device: True\n"
     ]
    },
    {
     "name": "stderr",
     "output_type": "stream",
     "text": [
      "100%|██████████| 54/54 [00:18<00:00,  2.99it/s]\n",
      "100%|██████████| 54/54 [00:18<00:00,  2.99it/s]\n",
      "100%|██████████| 54/54 [00:18<00:00,  2.99it/s]\n",
      "100%|██████████| 54/54 [00:18<00:00,  2.99it/s]\n",
      "100%|██████████| 54/54 [00:18<00:00,  2.99it/s]\n"
     ]
    },
    {
     "name": "stdout",
     "output_type": "stream",
     "text": [
      "sending off prediction to background worker for resampling and export\n",
      "done with Sample123\n",
      "\n",
      "Predicting Sample124:\n",
      "perform_everything_on_device: True\n"
     ]
    },
    {
     "name": "stderr",
     "output_type": "stream",
     "text": [
      "100%|██████████| 54/54 [00:18<00:00,  2.99it/s]\n",
      "100%|██████████| 54/54 [00:18<00:00,  2.99it/s]\n",
      "100%|██████████| 54/54 [00:18<00:00,  2.99it/s]\n",
      "100%|██████████| 54/54 [00:18<00:00,  2.99it/s]\n",
      "100%|██████████| 54/54 [00:18<00:00,  2.99it/s]\n"
     ]
    },
    {
     "name": "stdout",
     "output_type": "stream",
     "text": [
      "sending off prediction to background worker for resampling and export\n",
      "done with Sample124\n",
      "\n",
      "Predicting Sample125:\n",
      "perform_everything_on_device: True\n"
     ]
    },
    {
     "name": "stderr",
     "output_type": "stream",
     "text": [
      "100%|██████████| 54/54 [00:18<00:00,  2.99it/s]\n",
      "100%|██████████| 54/54 [00:18<00:00,  2.99it/s]\n",
      "100%|██████████| 54/54 [00:18<00:00,  2.99it/s]\n",
      "100%|██████████| 54/54 [00:18<00:00,  2.99it/s]\n",
      "100%|██████████| 54/54 [00:18<00:00,  2.99it/s]\n"
     ]
    },
    {
     "name": "stdout",
     "output_type": "stream",
     "text": [
      "sending off prediction to background worker for resampling and export\n",
      "done with Sample125\n",
      "\n",
      "Predicting Sample126:\n",
      "perform_everything_on_device: True\n"
     ]
    },
    {
     "name": "stderr",
     "output_type": "stream",
     "text": [
      "100%|██████████| 54/54 [00:18<00:00,  2.99it/s]\n",
      "100%|██████████| 54/54 [00:18<00:00,  2.99it/s]\n",
      "100%|██████████| 54/54 [00:18<00:00,  2.99it/s]\n",
      "100%|██████████| 54/54 [00:18<00:00,  2.99it/s]\n",
      "100%|██████████| 54/54 [00:18<00:00,  2.99it/s]\n"
     ]
    },
    {
     "name": "stdout",
     "output_type": "stream",
     "text": [
      "sending off prediction to background worker for resampling and export\n",
      "done with Sample126\n",
      "\n",
      "Predicting Sample127:\n",
      "perform_everything_on_device: True\n"
     ]
    },
    {
     "name": "stderr",
     "output_type": "stream",
     "text": [
      "100%|██████████| 2/2 [00:00<00:00,  3.78it/s]\n",
      "100%|██████████| 2/2 [00:00<00:00,  3.77it/s]\n",
      "100%|██████████| 2/2 [00:00<00:00,  3.79it/s]\n",
      "100%|██████████| 2/2 [00:00<00:00,  3.78it/s]\n",
      "100%|██████████| 2/2 [00:00<00:00,  3.79it/s]\n"
     ]
    },
    {
     "name": "stdout",
     "output_type": "stream",
     "text": [
      "sending off prediction to background worker for resampling and export\n",
      "done with Sample127\n",
      "\n",
      "Predicting Sample128:\n",
      "perform_everything_on_device: True\n"
     ]
    },
    {
     "name": "stderr",
     "output_type": "stream",
     "text": [
      "100%|██████████| 3/3 [00:00<00:00,  3.46it/s]\n",
      "100%|██████████| 3/3 [00:00<00:00,  3.46it/s]\n",
      "100%|██████████| 3/3 [00:00<00:00,  3.46it/s]\n",
      "100%|██████████| 3/3 [00:00<00:00,  3.46it/s]\n",
      "100%|██████████| 3/3 [00:00<00:00,  3.46it/s]\n"
     ]
    },
    {
     "name": "stdout",
     "output_type": "stream",
     "text": [
      "sending off prediction to background worker for resampling and export\n",
      "done with Sample128\n",
      "\n",
      "Predicting Sample129:\n",
      "perform_everything_on_device: True\n"
     ]
    },
    {
     "name": "stderr",
     "output_type": "stream",
     "text": [
      "100%|██████████| 8/8 [00:02<00:00,  3.13it/s]\n",
      "100%|██████████| 8/8 [00:02<00:00,  3.13it/s]\n",
      "100%|██████████| 8/8 [00:02<00:00,  3.13it/s]\n",
      "100%|██████████| 8/8 [00:02<00:00,  3.13it/s]\n",
      "100%|██████████| 8/8 [00:02<00:00,  3.13it/s]\n"
     ]
    },
    {
     "name": "stdout",
     "output_type": "stream",
     "text": [
      "sending off prediction to background worker for resampling and export\n",
      "done with Sample129\n",
      "\n",
      "Predicting Sample13:\n",
      "perform_everything_on_device: True\n"
     ]
    },
    {
     "name": "stderr",
     "output_type": "stream",
     "text": [
      "100%|██████████| 8/8 [00:02<00:00,  3.13it/s]\n",
      "100%|██████████| 8/8 [00:02<00:00,  3.13it/s]\n",
      "100%|██████████| 8/8 [00:02<00:00,  3.13it/s]\n",
      "100%|██████████| 8/8 [00:02<00:00,  3.13it/s]\n",
      "100%|██████████| 8/8 [00:02<00:00,  3.13it/s]\n"
     ]
    },
    {
     "name": "stdout",
     "output_type": "stream",
     "text": [
      "sending off prediction to background worker for resampling and export\n",
      "done with Sample13\n",
      "\n",
      "Predicting Sample130:\n",
      "perform_everything_on_device: True\n"
     ]
    },
    {
     "name": "stderr",
     "output_type": "stream",
     "text": [
      "100%|██████████| 8/8 [00:02<00:00,  3.13it/s]\n",
      "100%|██████████| 8/8 [00:02<00:00,  3.13it/s]\n",
      "100%|██████████| 8/8 [00:02<00:00,  3.13it/s]\n",
      "100%|██████████| 8/8 [00:02<00:00,  3.13it/s]\n",
      "100%|██████████| 8/8 [00:02<00:00,  3.12it/s]\n"
     ]
    },
    {
     "name": "stdout",
     "output_type": "stream",
     "text": [
      "sending off prediction to background worker for resampling and export\n",
      "done with Sample130\n",
      "\n",
      "Predicting Sample131:\n",
      "perform_everything_on_device: True\n"
     ]
    },
    {
     "name": "stderr",
     "output_type": "stream",
     "text": [
      "100%|██████████| 8/8 [00:02<00:00,  3.13it/s]\n",
      "100%|██████████| 8/8 [00:02<00:00,  3.13it/s]\n",
      "100%|██████████| 8/8 [00:02<00:00,  3.13it/s]\n",
      "100%|██████████| 8/8 [00:02<00:00,  3.13it/s]\n",
      "100%|██████████| 8/8 [00:02<00:00,  3.13it/s]\n"
     ]
    },
    {
     "name": "stdout",
     "output_type": "stream",
     "text": [
      "sending off prediction to background worker for resampling and export\n",
      "done with Sample131\n",
      "\n",
      "Predicting Sample132:\n",
      "perform_everything_on_device: True\n"
     ]
    },
    {
     "name": "stderr",
     "output_type": "stream",
     "text": [
      "100%|██████████| 2/2 [00:00<00:00,  3.79it/s]\n",
      "100%|██████████| 2/2 [00:00<00:00,  3.79it/s]\n",
      "100%|██████████| 2/2 [00:00<00:00,  3.78it/s]\n",
      "100%|██████████| 2/2 [00:00<00:00,  3.78it/s]\n",
      "100%|██████████| 2/2 [00:00<00:00,  3.79it/s]\n"
     ]
    },
    {
     "name": "stdout",
     "output_type": "stream",
     "text": [
      "sending off prediction to background worker for resampling and export\n",
      "done with Sample132\n",
      "\n",
      "Predicting Sample133:\n",
      "perform_everything_on_device: True\n"
     ]
    },
    {
     "name": "stderr",
     "output_type": "stream",
     "text": [
      "100%|██████████| 2/2 [00:00<00:00,  3.78it/s]\n",
      "100%|██████████| 2/2 [00:00<00:00,  3.79it/s]\n",
      "100%|██████████| 2/2 [00:00<00:00,  3.79it/s]\n",
      "100%|██████████| 2/2 [00:00<00:00,  3.79it/s]\n",
      "100%|██████████| 2/2 [00:00<00:00,  3.79it/s]\n"
     ]
    },
    {
     "name": "stdout",
     "output_type": "stream",
     "text": [
      "sending off prediction to background worker for resampling and export\n",
      "done with Sample133\n",
      "\n",
      "Predicting Sample134:\n",
      "perform_everything_on_device: True\n"
     ]
    },
    {
     "name": "stderr",
     "output_type": "stream",
     "text": [
      "100%|██████████| 8/8 [00:02<00:00,  3.13it/s]\n",
      "100%|██████████| 8/8 [00:02<00:00,  3.12it/s]\n",
      "100%|██████████| 8/8 [00:02<00:00,  3.13it/s]\n",
      "100%|██████████| 8/8 [00:02<00:00,  3.13it/s]\n",
      "100%|██████████| 8/8 [00:02<00:00,  3.13it/s]\n"
     ]
    },
    {
     "name": "stdout",
     "output_type": "stream",
     "text": [
      "sending off prediction to background worker for resampling and export\n",
      "done with Sample134\n",
      "\n",
      "Predicting Sample135:\n",
      "perform_everything_on_device: True\n"
     ]
    },
    {
     "name": "stderr",
     "output_type": "stream",
     "text": [
      "100%|██████████| 8/8 [00:02<00:00,  3.13it/s]\n",
      "100%|██████████| 8/8 [00:02<00:00,  3.13it/s]\n",
      "100%|██████████| 8/8 [00:02<00:00,  3.13it/s]\n",
      "100%|██████████| 8/8 [00:02<00:00,  3.13it/s]\n",
      "100%|██████████| 8/8 [00:02<00:00,  3.13it/s]\n"
     ]
    },
    {
     "name": "stdout",
     "output_type": "stream",
     "text": [
      "sending off prediction to background worker for resampling and export\n",
      "done with Sample135\n",
      "\n",
      "Predicting Sample136:\n",
      "perform_everything_on_device: True\n"
     ]
    },
    {
     "name": "stderr",
     "output_type": "stream",
     "text": [
      "100%|██████████| 8/8 [00:02<00:00,  3.13it/s]\n",
      "100%|██████████| 8/8 [00:02<00:00,  3.13it/s]\n",
      "100%|██████████| 8/8 [00:02<00:00,  3.13it/s]\n",
      "100%|██████████| 8/8 [00:02<00:00,  3.13it/s]\n",
      "100%|██████████| 8/8 [00:02<00:00,  3.13it/s]\n"
     ]
    },
    {
     "name": "stdout",
     "output_type": "stream",
     "text": [
      "sending off prediction to background worker for resampling and export\n",
      "done with Sample136\n",
      "\n",
      "Predicting Sample137:\n",
      "perform_everything_on_device: True\n"
     ]
    },
    {
     "name": "stderr",
     "output_type": "stream",
     "text": [
      "100%|██████████| 8/8 [00:02<00:00,  3.13it/s]\n",
      "100%|██████████| 8/8 [00:02<00:00,  3.13it/s]\n",
      "100%|██████████| 8/8 [00:02<00:00,  3.13it/s]\n",
      "100%|██████████| 8/8 [00:02<00:00,  3.13it/s]\n",
      "100%|██████████| 8/8 [00:02<00:00,  3.13it/s]\n"
     ]
    },
    {
     "name": "stdout",
     "output_type": "stream",
     "text": [
      "sending off prediction to background worker for resampling and export\n",
      "done with Sample137\n",
      "\n",
      "Predicting Sample138:\n",
      "perform_everything_on_device: True\n"
     ]
    },
    {
     "name": "stderr",
     "output_type": "stream",
     "text": [
      "100%|██████████| 8/8 [00:02<00:00,  3.13it/s]\n",
      "100%|██████████| 8/8 [00:02<00:00,  3.13it/s]\n",
      "100%|██████████| 8/8 [00:02<00:00,  3.13it/s]\n",
      "100%|██████████| 8/8 [00:02<00:00,  3.13it/s]\n",
      "100%|██████████| 8/8 [00:02<00:00,  3.13it/s]\n"
     ]
    },
    {
     "name": "stdout",
     "output_type": "stream",
     "text": [
      "sending off prediction to background worker for resampling and export\n",
      "done with Sample138\n",
      "\n",
      "Predicting Sample139:\n",
      "perform_everything_on_device: True\n"
     ]
    },
    {
     "name": "stderr",
     "output_type": "stream",
     "text": [
      "100%|██████████| 18/18 [00:05<00:00,  3.03it/s]\n",
      "100%|██████████| 18/18 [00:05<00:00,  3.03it/s]\n",
      "100%|██████████| 18/18 [00:05<00:00,  3.03it/s]\n",
      "100%|██████████| 18/18 [00:05<00:00,  3.03it/s]\n",
      "100%|██████████| 18/18 [00:05<00:00,  3.03it/s]\n"
     ]
    },
    {
     "name": "stdout",
     "output_type": "stream",
     "text": [
      "sending off prediction to background worker for resampling and export\n",
      "done with Sample139\n",
      "\n",
      "Predicting Sample14:\n",
      "perform_everything_on_device: True\n"
     ]
    },
    {
     "name": "stderr",
     "output_type": "stream",
     "text": [
      "100%|██████████| 8/8 [00:02<00:00,  3.13it/s]\n",
      "100%|██████████| 8/8 [00:02<00:00,  3.13it/s]\n",
      "100%|██████████| 8/8 [00:02<00:00,  3.13it/s]\n",
      "100%|██████████| 8/8 [00:02<00:00,  3.13it/s]\n",
      "100%|██████████| 8/8 [00:02<00:00,  3.13it/s]\n"
     ]
    },
    {
     "name": "stdout",
     "output_type": "stream",
     "text": [
      "sending off prediction to background worker for resampling and export\n",
      "done with Sample14\n",
      "\n",
      "Predicting Sample140:\n",
      "perform_everything_on_device: True\n"
     ]
    },
    {
     "name": "stderr",
     "output_type": "stream",
     "text": [
      "100%|██████████| 8/8 [00:02<00:00,  3.13it/s]\n",
      "100%|██████████| 8/8 [00:02<00:00,  3.13it/s]\n",
      "100%|██████████| 8/8 [00:02<00:00,  3.13it/s]\n",
      "100%|██████████| 8/8 [00:02<00:00,  3.13it/s]\n",
      "100%|██████████| 8/8 [00:02<00:00,  3.13it/s]\n"
     ]
    },
    {
     "name": "stdout",
     "output_type": "stream",
     "text": [
      "sending off prediction to background worker for resampling and export\n",
      "done with Sample140\n",
      "\n",
      "Predicting Sample141:\n",
      "perform_everything_on_device: True\n"
     ]
    },
    {
     "name": "stderr",
     "output_type": "stream",
     "text": [
      "100%|██████████| 36/36 [00:12<00:00,  3.00it/s]\n",
      "100%|██████████| 36/36 [00:12<00:00,  2.99it/s]\n",
      "100%|██████████| 36/36 [00:12<00:00,  3.00it/s]\n",
      "100%|██████████| 36/36 [00:12<00:00,  3.00it/s]\n",
      "100%|██████████| 36/36 [00:12<00:00,  3.00it/s]\n"
     ]
    },
    {
     "name": "stdout",
     "output_type": "stream",
     "text": [
      "sending off prediction to background worker for resampling and export\n",
      "done with Sample141\n",
      "\n",
      "Predicting Sample142:\n",
      "perform_everything_on_device: True\n"
     ]
    },
    {
     "name": "stderr",
     "output_type": "stream",
     "text": [
      "100%|██████████| 8/8 [00:02<00:00,  3.13it/s]\n",
      "100%|██████████| 8/8 [00:02<00:00,  3.13it/s]\n",
      "100%|██████████| 8/8 [00:02<00:00,  3.13it/s]\n",
      "100%|██████████| 8/8 [00:02<00:00,  3.13it/s]\n",
      "100%|██████████| 8/8 [00:02<00:00,  3.13it/s]\n"
     ]
    },
    {
     "name": "stdout",
     "output_type": "stream",
     "text": [
      "sending off prediction to background worker for resampling and export\n",
      "done with Sample142\n",
      "\n",
      "Predicting Sample143:\n",
      "perform_everything_on_device: True\n"
     ]
    },
    {
     "name": "stderr",
     "output_type": "stream",
     "text": [
      "100%|██████████| 1/1 [00:00<00:00,  5.25it/s]\n",
      "100%|██████████| 1/1 [00:00<00:00,  5.24it/s]\n",
      "100%|██████████| 1/1 [00:00<00:00,  5.26it/s]\n",
      "100%|██████████| 1/1 [00:00<00:00,  5.26it/s]\n",
      "100%|██████████| 1/1 [00:00<00:00,  5.22it/s]\n"
     ]
    },
    {
     "name": "stdout",
     "output_type": "stream",
     "text": [
      "sending off prediction to background worker for resampling and export\n",
      "done with Sample143\n",
      "\n",
      "Predicting Sample144:\n",
      "perform_everything_on_device: True\n"
     ]
    },
    {
     "name": "stderr",
     "output_type": "stream",
     "text": [
      "100%|██████████| 1/1 [00:00<00:00,  5.24it/s]\n",
      "100%|██████████| 1/1 [00:00<00:00,  5.26it/s]\n",
      "100%|██████████| 1/1 [00:00<00:00,  5.27it/s]\n",
      "100%|██████████| 1/1 [00:00<00:00,  5.26it/s]\n",
      "100%|██████████| 1/1 [00:00<00:00,  5.22it/s]\n"
     ]
    },
    {
     "name": "stdout",
     "output_type": "stream",
     "text": [
      "sending off prediction to background worker for resampling and export\n",
      "done with Sample144\n",
      "\n",
      "Predicting Sample145:\n",
      "perform_everything_on_device: True\n"
     ]
    },
    {
     "name": "stderr",
     "output_type": "stream",
     "text": [
      "100%|██████████| 4/4 [00:01<00:00,  3.31it/s]\n",
      "100%|██████████| 4/4 [00:01<00:00,  3.32it/s]\n",
      "100%|██████████| 4/4 [00:01<00:00,  3.32it/s]\n",
      "100%|██████████| 4/4 [00:01<00:00,  3.32it/s]\n",
      "100%|██████████| 4/4 [00:01<00:00,  3.32it/s]\n"
     ]
    },
    {
     "name": "stdout",
     "output_type": "stream",
     "text": [
      "sending off prediction to background worker for resampling and export\n",
      "done with Sample145\n",
      "\n",
      "Predicting Sample146:\n",
      "perform_everything_on_device: True\n"
     ]
    },
    {
     "name": "stderr",
     "output_type": "stream",
     "text": [
      "100%|██████████| 8/8 [00:02<00:00,  3.13it/s]\n",
      "100%|██████████| 8/8 [00:02<00:00,  3.13it/s]\n",
      "100%|██████████| 8/8 [00:02<00:00,  3.13it/s]\n",
      "100%|██████████| 8/8 [00:02<00:00,  3.13it/s]\n",
      "100%|██████████| 8/8 [00:02<00:00,  3.13it/s]\n"
     ]
    },
    {
     "name": "stdout",
     "output_type": "stream",
     "text": [
      "sending off prediction to background worker for resampling and export\n",
      "done with Sample146\n",
      "\n",
      "Predicting Sample147:\n",
      "perform_everything_on_device: True\n"
     ]
    },
    {
     "name": "stderr",
     "output_type": "stream",
     "text": [
      "100%|██████████| 2/2 [00:00<00:00,  3.79it/s]\n",
      "100%|██████████| 2/2 [00:00<00:00,  3.79it/s]\n",
      "100%|██████████| 2/2 [00:00<00:00,  3.79it/s]\n",
      "100%|██████████| 2/2 [00:00<00:00,  3.79it/s]\n",
      "100%|██████████| 2/2 [00:00<00:00,  3.78it/s]\n"
     ]
    },
    {
     "name": "stdout",
     "output_type": "stream",
     "text": [
      "sending off prediction to background worker for resampling and export\n",
      "done with Sample147\n",
      "\n",
      "Predicting Sample148:\n",
      "perform_everything_on_device: True\n"
     ]
    },
    {
     "name": "stderr",
     "output_type": "stream",
     "text": [
      "100%|██████████| 1/1 [00:00<00:00,  5.25it/s]\n",
      "100%|██████████| 1/1 [00:00<00:00,  5.24it/s]\n",
      "100%|██████████| 1/1 [00:00<00:00,  5.20it/s]\n",
      "100%|██████████| 1/1 [00:00<00:00,  5.26it/s]\n",
      "100%|██████████| 1/1 [00:00<00:00,  5.26it/s]\n"
     ]
    },
    {
     "name": "stdout",
     "output_type": "stream",
     "text": [
      "sending off prediction to background worker for resampling and export\n",
      "done with Sample148\n",
      "\n",
      "Predicting Sample149:\n",
      "perform_everything_on_device: True\n"
     ]
    },
    {
     "name": "stderr",
     "output_type": "stream",
     "text": [
      "100%|██████████| 27/27 [00:08<00:00,  3.01it/s]\n",
      "100%|██████████| 27/27 [00:08<00:00,  3.01it/s]\n",
      "100%|██████████| 27/27 [00:08<00:00,  3.01it/s]\n",
      "100%|██████████| 27/27 [00:08<00:00,  3.01it/s]\n",
      "100%|██████████| 27/27 [00:08<00:00,  3.01it/s]\n"
     ]
    },
    {
     "name": "stdout",
     "output_type": "stream",
     "text": [
      "sending off prediction to background worker for resampling and export\n",
      "done with Sample149\n",
      "\n",
      "Predicting Sample15:\n",
      "perform_everything_on_device: True\n"
     ]
    },
    {
     "name": "stderr",
     "output_type": "stream",
     "text": [
      "100%|██████████| 4/4 [00:01<00:00,  3.32it/s]\n",
      "100%|██████████| 4/4 [00:01<00:00,  3.32it/s]\n",
      "100%|██████████| 4/4 [00:01<00:00,  3.32it/s]\n",
      "100%|██████████| 4/4 [00:01<00:00,  3.30it/s]\n",
      "100%|██████████| 4/4 [00:01<00:00,  3.32it/s]\n"
     ]
    },
    {
     "name": "stdout",
     "output_type": "stream",
     "text": [
      "sending off prediction to background worker for resampling and export\n",
      "done with Sample15\n",
      "\n",
      "Predicting Sample150:\n",
      "perform_everything_on_device: True\n"
     ]
    },
    {
     "name": "stderr",
     "output_type": "stream",
     "text": [
      "100%|██████████| 2/2 [00:00<00:00,  3.79it/s]\n",
      "100%|██████████| 2/2 [00:00<00:00,  3.79it/s]\n",
      "100%|██████████| 2/2 [00:00<00:00,  3.78it/s]\n",
      "100%|██████████| 2/2 [00:00<00:00,  3.79it/s]\n",
      "100%|██████████| 2/2 [00:00<00:00,  3.79it/s]\n"
     ]
    },
    {
     "name": "stdout",
     "output_type": "stream",
     "text": [
      "sending off prediction to background worker for resampling and export\n",
      "done with Sample150\n",
      "\n",
      "Predicting Sample151:\n",
      "perform_everything_on_device: True\n"
     ]
    },
    {
     "name": "stderr",
     "output_type": "stream",
     "text": [
      "100%|██████████| 8/8 [00:02<00:00,  3.13it/s]\n",
      "100%|██████████| 8/8 [00:02<00:00,  3.13it/s]\n",
      "100%|██████████| 8/8 [00:02<00:00,  3.13it/s]\n",
      "100%|██████████| 8/8 [00:02<00:00,  3.13it/s]\n",
      "100%|██████████| 8/8 [00:02<00:00,  3.13it/s]\n"
     ]
    },
    {
     "name": "stdout",
     "output_type": "stream",
     "text": [
      "sending off prediction to background worker for resampling and export\n",
      "done with Sample151\n",
      "\n",
      "Predicting Sample152:\n",
      "perform_everything_on_device: True\n"
     ]
    },
    {
     "name": "stderr",
     "output_type": "stream",
     "text": [
      "100%|██████████| 8/8 [00:02<00:00,  3.13it/s]\n",
      "100%|██████████| 8/8 [00:02<00:00,  3.13it/s]\n",
      "100%|██████████| 8/8 [00:02<00:00,  3.13it/s]\n",
      "100%|██████████| 8/8 [00:02<00:00,  3.13it/s]\n",
      "100%|██████████| 8/8 [00:02<00:00,  3.13it/s]\n"
     ]
    },
    {
     "name": "stdout",
     "output_type": "stream",
     "text": [
      "sending off prediction to background worker for resampling and export\n",
      "done with Sample152\n",
      "\n",
      "Predicting Sample153:\n",
      "perform_everything_on_device: True\n"
     ]
    },
    {
     "name": "stderr",
     "output_type": "stream",
     "text": [
      "100%|██████████| 8/8 [00:02<00:00,  3.13it/s]\n",
      "100%|██████████| 8/8 [00:02<00:00,  3.13it/s]\n",
      "100%|██████████| 8/8 [00:02<00:00,  3.13it/s]\n",
      "100%|██████████| 8/8 [00:02<00:00,  3.13it/s]\n",
      "100%|██████████| 8/8 [00:02<00:00,  3.13it/s]\n"
     ]
    },
    {
     "name": "stdout",
     "output_type": "stream",
     "text": [
      "sending off prediction to background worker for resampling and export\n",
      "done with Sample153\n",
      "\n",
      "Predicting Sample154:\n",
      "perform_everything_on_device: True\n"
     ]
    },
    {
     "name": "stderr",
     "output_type": "stream",
     "text": [
      "100%|██████████| 8/8 [00:02<00:00,  3.13it/s]\n",
      "100%|██████████| 8/8 [00:02<00:00,  3.13it/s]\n",
      "100%|██████████| 8/8 [00:02<00:00,  3.13it/s]\n",
      "100%|██████████| 8/8 [00:02<00:00,  3.13it/s]\n",
      "100%|██████████| 8/8 [00:02<00:00,  3.13it/s]\n"
     ]
    },
    {
     "name": "stdout",
     "output_type": "stream",
     "text": [
      "sending off prediction to background worker for resampling and export\n",
      "done with Sample154\n",
      "\n",
      "Predicting Sample155:\n",
      "perform_everything_on_device: True\n"
     ]
    },
    {
     "name": "stderr",
     "output_type": "stream",
     "text": [
      "100%|██████████| 4/4 [00:01<00:00,  3.32it/s]\n",
      "100%|██████████| 4/4 [00:01<00:00,  3.32it/s]\n",
      "100%|██████████| 4/4 [00:01<00:00,  3.32it/s]\n",
      "100%|██████████| 4/4 [00:01<00:00,  3.32it/s]\n",
      "100%|██████████| 4/4 [00:01<00:00,  3.32it/s]\n"
     ]
    },
    {
     "name": "stdout",
     "output_type": "stream",
     "text": [
      "sending off prediction to background worker for resampling and export\n",
      "done with Sample155\n",
      "\n",
      "Predicting Sample156:\n",
      "perform_everything_on_device: True\n"
     ]
    },
    {
     "name": "stderr",
     "output_type": "stream",
     "text": [
      "100%|██████████| 4/4 [00:01<00:00,  3.32it/s]\n",
      "100%|██████████| 4/4 [00:01<00:00,  3.32it/s]\n",
      "100%|██████████| 4/4 [00:01<00:00,  3.31it/s]\n",
      "100%|██████████| 4/4 [00:01<00:00,  3.32it/s]\n",
      "100%|██████████| 4/4 [00:01<00:00,  3.32it/s]\n"
     ]
    },
    {
     "name": "stdout",
     "output_type": "stream",
     "text": [
      "sending off prediction to background worker for resampling and export\n",
      "done with Sample156\n",
      "\n",
      "Predicting Sample157:\n",
      "perform_everything_on_device: True\n"
     ]
    },
    {
     "name": "stderr",
     "output_type": "stream",
     "text": [
      "100%|██████████| 4/4 [00:01<00:00,  3.32it/s]\n",
      "100%|██████████| 4/4 [00:01<00:00,  3.32it/s]\n",
      "100%|██████████| 4/4 [00:01<00:00,  3.32it/s]\n",
      "100%|██████████| 4/4 [00:01<00:00,  3.32it/s]\n",
      "100%|██████████| 4/4 [00:01<00:00,  3.32it/s]\n"
     ]
    },
    {
     "name": "stdout",
     "output_type": "stream",
     "text": [
      "sending off prediction to background worker for resampling and export\n",
      "done with Sample157\n",
      "\n",
      "Predicting Sample158:\n",
      "perform_everything_on_device: True\n"
     ]
    },
    {
     "name": "stderr",
     "output_type": "stream",
     "text": [
      "100%|██████████| 54/54 [00:18<00:00,  2.99it/s]\n",
      "100%|██████████| 54/54 [00:18<00:00,  2.99it/s]\n",
      "100%|██████████| 54/54 [00:18<00:00,  2.99it/s]\n",
      "100%|██████████| 54/54 [00:18<00:00,  2.99it/s]\n",
      "100%|██████████| 54/54 [00:18<00:00,  2.99it/s]\n"
     ]
    },
    {
     "name": "stdout",
     "output_type": "stream",
     "text": [
      "sending off prediction to background worker for resampling and export\n",
      "done with Sample158\n",
      "\n",
      "Predicting Sample159:\n",
      "perform_everything_on_device: True\n"
     ]
    },
    {
     "name": "stderr",
     "output_type": "stream",
     "text": [
      "100%|██████████| 54/54 [00:18<00:00,  2.99it/s]\n",
      "100%|██████████| 54/54 [00:18<00:00,  2.99it/s]\n",
      "100%|██████████| 54/54 [00:18<00:00,  2.99it/s]\n",
      "100%|██████████| 54/54 [00:18<00:00,  2.99it/s]\n",
      "100%|██████████| 54/54 [00:18<00:00,  2.99it/s]\n"
     ]
    },
    {
     "name": "stdout",
     "output_type": "stream",
     "text": [
      "sending off prediction to background worker for resampling and export\n",
      "done with Sample159\n",
      "\n",
      "Predicting Sample16:\n",
      "perform_everything_on_device: True\n"
     ]
    },
    {
     "name": "stderr",
     "output_type": "stream",
     "text": [
      "100%|██████████| 45/45 [00:14<00:00,  3.00it/s]\n",
      "100%|██████████| 45/45 [00:14<00:00,  3.00it/s]\n",
      "100%|██████████| 45/45 [00:14<00:00,  3.00it/s]\n",
      "100%|██████████| 45/45 [00:14<00:00,  3.00it/s]\n",
      "100%|██████████| 45/45 [00:14<00:00,  3.00it/s]\n"
     ]
    },
    {
     "name": "stdout",
     "output_type": "stream",
     "text": [
      "sending off prediction to background worker for resampling and export\n",
      "done with Sample16\n",
      "\n",
      "Predicting Sample160:\n",
      "perform_everything_on_device: True\n"
     ]
    },
    {
     "name": "stderr",
     "output_type": "stream",
     "text": [
      "100%|██████████| 54/54 [00:18<00:00,  2.99it/s]\n",
      "100%|██████████| 54/54 [00:18<00:00,  2.99it/s]\n",
      "100%|██████████| 54/54 [00:18<00:00,  2.99it/s]\n",
      "100%|██████████| 54/54 [00:18<00:00,  2.99it/s]\n",
      "100%|██████████| 54/54 [00:18<00:00,  2.99it/s]\n"
     ]
    },
    {
     "name": "stdout",
     "output_type": "stream",
     "text": [
      "sending off prediction to background worker for resampling and export\n",
      "done with Sample160\n",
      "\n",
      "Predicting Sample161:\n",
      "perform_everything_on_device: True\n"
     ]
    },
    {
     "name": "stderr",
     "output_type": "stream",
     "text": [
      "100%|██████████| 1/1 [00:00<00:00,  4.93it/s]\n",
      "100%|██████████| 1/1 [00:00<00:00,  5.12it/s]\n",
      "100%|██████████| 1/1 [00:00<00:00,  5.25it/s]\n",
      "100%|██████████| 1/1 [00:00<00:00,  5.27it/s]\n",
      "100%|██████████| 1/1 [00:00<00:00,  5.02it/s]\n"
     ]
    },
    {
     "name": "stdout",
     "output_type": "stream",
     "text": [
      "sending off prediction to background worker for resampling and export\n",
      "done with Sample161\n",
      "\n",
      "Predicting Sample162:\n",
      "perform_everything_on_device: True\n"
     ]
    },
    {
     "name": "stderr",
     "output_type": "stream",
     "text": [
      "100%|██████████| 8/8 [00:02<00:00,  3.13it/s]\n",
      "100%|██████████| 8/8 [00:02<00:00,  3.13it/s]\n",
      "100%|██████████| 8/8 [00:02<00:00,  3.13it/s]\n",
      "100%|██████████| 8/8 [00:02<00:00,  3.13it/s]\n",
      "100%|██████████| 8/8 [00:02<00:00,  3.13it/s]\n"
     ]
    },
    {
     "name": "stdout",
     "output_type": "stream",
     "text": [
      "sending off prediction to background worker for resampling and export\n",
      "done with Sample162\n",
      "\n",
      "Predicting Sample163:\n",
      "perform_everything_on_device: True\n"
     ]
    },
    {
     "name": "stderr",
     "output_type": "stream",
     "text": [
      "100%|██████████| 36/36 [00:11<00:00,  3.01it/s]\n",
      "100%|██████████| 36/36 [00:11<00:00,  3.01it/s]\n",
      "100%|██████████| 36/36 [00:11<00:00,  3.01it/s]\n",
      "100%|██████████| 36/36 [00:11<00:00,  3.01it/s]\n",
      "100%|██████████| 36/36 [00:11<00:00,  3.01it/s]\n"
     ]
    },
    {
     "name": "stdout",
     "output_type": "stream",
     "text": [
      "sending off prediction to background worker for resampling and export\n",
      "done with Sample163\n",
      "\n",
      "Predicting Sample164:\n",
      "perform_everything_on_device: True\n"
     ]
    },
    {
     "name": "stderr",
     "output_type": "stream",
     "text": [
      "100%|██████████| 36/36 [00:12<00:00,  3.00it/s]\n",
      "100%|██████████| 36/36 [00:12<00:00,  3.00it/s]\n",
      "100%|██████████| 36/36 [00:12<00:00,  3.00it/s]\n",
      "100%|██████████| 36/36 [00:12<00:00,  3.00it/s]\n",
      "100%|██████████| 36/36 [00:12<00:00,  3.00it/s]\n"
     ]
    },
    {
     "name": "stdout",
     "output_type": "stream",
     "text": [
      "sending off prediction to background worker for resampling and export\n",
      "done with Sample164\n",
      "\n",
      "Predicting Sample165:\n",
      "perform_everything_on_device: True\n"
     ]
    },
    {
     "name": "stderr",
     "output_type": "stream",
     "text": [
      "100%|██████████| 8/8 [00:02<00:00,  3.13it/s]\n",
      "100%|██████████| 8/8 [00:02<00:00,  3.13it/s]\n",
      "100%|██████████| 8/8 [00:02<00:00,  3.13it/s]\n",
      "100%|██████████| 8/8 [00:02<00:00,  3.13it/s]\n",
      "100%|██████████| 8/8 [00:02<00:00,  3.13it/s]\n"
     ]
    },
    {
     "name": "stdout",
     "output_type": "stream",
     "text": [
      "sending off prediction to background worker for resampling and export\n",
      "done with Sample165\n",
      "\n",
      "Predicting Sample166:\n",
      "perform_everything_on_device: True\n"
     ]
    },
    {
     "name": "stderr",
     "output_type": "stream",
     "text": [
      "100%|██████████| 36/36 [00:12<00:00,  3.00it/s]\n",
      "100%|██████████| 36/36 [00:12<00:00,  3.00it/s]\n",
      "100%|██████████| 36/36 [00:12<00:00,  3.00it/s]\n",
      "100%|██████████| 36/36 [00:12<00:00,  3.00it/s]\n",
      "100%|██████████| 36/36 [00:12<00:00,  3.00it/s]\n"
     ]
    },
    {
     "name": "stdout",
     "output_type": "stream",
     "text": [
      "sending off prediction to background worker for resampling and export\n",
      "done with Sample166\n",
      "\n",
      "Predicting Sample167:\n",
      "perform_everything_on_device: True\n"
     ]
    },
    {
     "name": "stderr",
     "output_type": "stream",
     "text": [
      "100%|██████████| 8/8 [00:02<00:00,  3.13it/s]\n",
      "100%|██████████| 8/8 [00:02<00:00,  3.13it/s]\n",
      "100%|██████████| 8/8 [00:02<00:00,  3.13it/s]\n",
      "100%|██████████| 8/8 [00:02<00:00,  3.13it/s]\n",
      "100%|██████████| 8/8 [00:02<00:00,  3.13it/s]\n"
     ]
    },
    {
     "name": "stdout",
     "output_type": "stream",
     "text": [
      "sending off prediction to background worker for resampling and export\n",
      "done with Sample167\n",
      "\n",
      "Predicting Sample168:\n",
      "perform_everything_on_device: True\n"
     ]
    },
    {
     "name": "stderr",
     "output_type": "stream",
     "text": [
      "100%|██████████| 8/8 [00:02<00:00,  3.13it/s]\n",
      "100%|██████████| 8/8 [00:02<00:00,  3.13it/s]\n",
      "100%|██████████| 8/8 [00:02<00:00,  3.13it/s]\n",
      "100%|██████████| 8/8 [00:02<00:00,  3.13it/s]\n",
      "100%|██████████| 8/8 [00:02<00:00,  3.13it/s]\n"
     ]
    },
    {
     "name": "stdout",
     "output_type": "stream",
     "text": [
      "sending off prediction to background worker for resampling and export\n",
      "done with Sample168\n",
      "\n",
      "Predicting Sample169:\n",
      "perform_everything_on_device: True\n"
     ]
    },
    {
     "name": "stderr",
     "output_type": "stream",
     "text": [
      "100%|██████████| 8/8 [00:02<00:00,  3.13it/s]\n",
      "100%|██████████| 8/8 [00:02<00:00,  3.13it/s]\n",
      "100%|██████████| 8/8 [00:02<00:00,  3.13it/s]\n",
      "100%|██████████| 8/8 [00:02<00:00,  3.13it/s]\n",
      "100%|██████████| 8/8 [00:02<00:00,  3.13it/s]\n"
     ]
    },
    {
     "name": "stdout",
     "output_type": "stream",
     "text": [
      "sending off prediction to background worker for resampling and export\n",
      "done with Sample169\n",
      "\n",
      "Predicting Sample17:\n",
      "perform_everything_on_device: True\n"
     ]
    },
    {
     "name": "stderr",
     "output_type": "stream",
     "text": [
      "100%|██████████| 2/2 [00:00<00:00,  3.77it/s]\n",
      "100%|██████████| 2/2 [00:00<00:00,  3.78it/s]\n",
      "100%|██████████| 2/2 [00:00<00:00,  3.78it/s]\n",
      "100%|██████████| 2/2 [00:00<00:00,  3.79it/s]\n",
      "100%|██████████| 2/2 [00:00<00:00,  3.79it/s]\n"
     ]
    },
    {
     "name": "stdout",
     "output_type": "stream",
     "text": [
      "sending off prediction to background worker for resampling and export\n",
      "done with Sample17\n",
      "\n",
      "Predicting Sample170:\n",
      "perform_everything_on_device: True\n"
     ]
    },
    {
     "name": "stderr",
     "output_type": "stream",
     "text": [
      "100%|██████████| 2/2 [00:00<00:00,  3.78it/s]\n",
      "100%|██████████| 2/2 [00:00<00:00,  3.79it/s]\n",
      "100%|██████████| 2/2 [00:00<00:00,  3.79it/s]\n",
      "100%|██████████| 2/2 [00:00<00:00,  3.79it/s]\n",
      "100%|██████████| 2/2 [00:00<00:00,  3.78it/s]\n"
     ]
    },
    {
     "name": "stdout",
     "output_type": "stream",
     "text": [
      "sending off prediction to background worker for resampling and export\n",
      "done with Sample170\n",
      "\n",
      "Predicting Sample171:\n",
      "perform_everything_on_device: True\n"
     ]
    },
    {
     "name": "stderr",
     "output_type": "stream",
     "text": [
      "100%|██████████| 2/2 [00:00<00:00,  3.78it/s]\n",
      "100%|██████████| 2/2 [00:00<00:00,  3.79it/s]\n",
      "100%|██████████| 2/2 [00:00<00:00,  3.79it/s]\n",
      "100%|██████████| 2/2 [00:00<00:00,  3.79it/s]\n",
      "100%|██████████| 2/2 [00:00<00:00,  3.79it/s]\n"
     ]
    },
    {
     "name": "stdout",
     "output_type": "stream",
     "text": [
      "sending off prediction to background worker for resampling and export\n",
      "done with Sample171\n",
      "\n",
      "Predicting Sample172:\n",
      "perform_everything_on_device: True\n"
     ]
    },
    {
     "name": "stderr",
     "output_type": "stream",
     "text": [
      "100%|██████████| 2/2 [00:00<00:00,  3.78it/s]\n",
      "100%|██████████| 2/2 [00:00<00:00,  3.79it/s]\n",
      "100%|██████████| 2/2 [00:00<00:00,  3.79it/s]\n",
      "100%|██████████| 2/2 [00:00<00:00,  3.79it/s]\n",
      "100%|██████████| 2/2 [00:00<00:00,  3.79it/s]\n"
     ]
    },
    {
     "name": "stdout",
     "output_type": "stream",
     "text": [
      "sending off prediction to background worker for resampling and export\n",
      "done with Sample172\n",
      "\n",
      "Predicting Sample173:\n",
      "perform_everything_on_device: True\n"
     ]
    },
    {
     "name": "stderr",
     "output_type": "stream",
     "text": [
      "100%|██████████| 2/2 [00:00<00:00,  3.78it/s]\n",
      "100%|██████████| 2/2 [00:00<00:00,  3.79it/s]\n",
      "100%|██████████| 2/2 [00:00<00:00,  3.79it/s]\n",
      "100%|██████████| 2/2 [00:00<00:00,  3.79it/s]\n",
      "100%|██████████| 2/2 [00:00<00:00,  3.78it/s]\n"
     ]
    },
    {
     "name": "stdout",
     "output_type": "stream",
     "text": [
      "sending off prediction to background worker for resampling and export\n",
      "done with Sample173\n",
      "\n",
      "Predicting Sample174:\n",
      "perform_everything_on_device: True\n"
     ]
    },
    {
     "name": "stderr",
     "output_type": "stream",
     "text": [
      "100%|██████████| 8/8 [00:02<00:00,  3.13it/s]\n",
      "100%|██████████| 8/8 [00:02<00:00,  3.13it/s]\n",
      "100%|██████████| 8/8 [00:02<00:00,  3.13it/s]\n",
      "100%|██████████| 8/8 [00:02<00:00,  3.13it/s]\n",
      "100%|██████████| 8/8 [00:02<00:00,  3.13it/s]\n"
     ]
    },
    {
     "name": "stdout",
     "output_type": "stream",
     "text": [
      "sending off prediction to background worker for resampling and export\n",
      "done with Sample174\n",
      "\n",
      "Predicting Sample175:\n",
      "perform_everything_on_device: True\n"
     ]
    },
    {
     "name": "stderr",
     "output_type": "stream",
     "text": [
      "100%|██████████| 2/2 [00:00<00:00,  3.74it/s]\n",
      "100%|██████████| 2/2 [00:00<00:00,  3.77it/s]\n",
      "100%|██████████| 2/2 [00:00<00:00,  3.79it/s]\n",
      "100%|██████████| 2/2 [00:00<00:00,  3.79it/s]\n",
      "100%|██████████| 2/2 [00:00<00:00,  3.79it/s]\n"
     ]
    },
    {
     "name": "stdout",
     "output_type": "stream",
     "text": [
      "sending off prediction to background worker for resampling and export\n",
      "done with Sample175\n",
      "\n",
      "Predicting Sample176:\n",
      "perform_everything_on_device: True\n"
     ]
    },
    {
     "name": "stderr",
     "output_type": "stream",
     "text": [
      "100%|██████████| 1/1 [00:00<00:00,  5.20it/s]\n",
      "100%|██████████| 1/1 [00:00<00:00,  5.03it/s]\n",
      "100%|██████████| 1/1 [00:00<00:00,  5.26it/s]\n",
      "100%|██████████| 1/1 [00:00<00:00,  5.24it/s]\n",
      "100%|██████████| 1/1 [00:00<00:00,  5.27it/s]\n"
     ]
    },
    {
     "name": "stdout",
     "output_type": "stream",
     "text": [
      "sending off prediction to background worker for resampling and export\n",
      "done with Sample176\n",
      "\n",
      "Predicting Sample177:\n",
      "perform_everything_on_device: True\n"
     ]
    },
    {
     "name": "stderr",
     "output_type": "stream",
     "text": [
      "100%|██████████| 2/2 [00:00<00:00,  3.79it/s]\n",
      "100%|██████████| 2/2 [00:00<00:00,  3.78it/s]\n",
      "100%|██████████| 2/2 [00:00<00:00,  3.79it/s]\n",
      "100%|██████████| 2/2 [00:00<00:00,  3.79it/s]\n",
      "100%|██████████| 2/2 [00:00<00:00,  3.79it/s]\n"
     ]
    },
    {
     "name": "stdout",
     "output_type": "stream",
     "text": [
      "sending off prediction to background worker for resampling and export\n",
      "done with Sample177\n",
      "\n",
      "Predicting Sample178:\n",
      "perform_everything_on_device: True\n"
     ]
    },
    {
     "name": "stderr",
     "output_type": "stream",
     "text": [
      "100%|██████████| 1/1 [00:00<00:00,  5.21it/s]\n",
      "100%|██████████| 1/1 [00:00<00:00,  5.27it/s]\n",
      "100%|██████████| 1/1 [00:00<00:00,  5.26it/s]\n",
      "100%|██████████| 1/1 [00:00<00:00,  5.26it/s]\n",
      "100%|██████████| 1/1 [00:00<00:00,  5.26it/s]\n"
     ]
    },
    {
     "name": "stdout",
     "output_type": "stream",
     "text": [
      "sending off prediction to background worker for resampling and export\n",
      "done with Sample178\n",
      "\n",
      "Predicting Sample179:\n",
      "perform_everything_on_device: True\n"
     ]
    },
    {
     "name": "stderr",
     "output_type": "stream",
     "text": [
      "100%|██████████| 8/8 [00:02<00:00,  3.13it/s]\n",
      "100%|██████████| 8/8 [00:02<00:00,  3.13it/s]\n",
      "100%|██████████| 8/8 [00:02<00:00,  3.13it/s]\n",
      "100%|██████████| 8/8 [00:02<00:00,  3.13it/s]\n",
      "100%|██████████| 8/8 [00:02<00:00,  3.13it/s]\n"
     ]
    },
    {
     "name": "stdout",
     "output_type": "stream",
     "text": [
      "sending off prediction to background worker for resampling and export\n",
      "done with Sample179\n",
      "\n",
      "Predicting Sample18:\n",
      "perform_everything_on_device: True\n"
     ]
    },
    {
     "name": "stderr",
     "output_type": "stream",
     "text": [
      "100%|██████████| 2/2 [00:00<00:00,  3.77it/s]\n",
      "100%|██████████| 2/2 [00:00<00:00,  3.78it/s]\n",
      "100%|██████████| 2/2 [00:00<00:00,  3.78it/s]\n",
      "100%|██████████| 2/2 [00:00<00:00,  3.78it/s]\n",
      "100%|██████████| 2/2 [00:00<00:00,  3.79it/s]\n"
     ]
    },
    {
     "name": "stdout",
     "output_type": "stream",
     "text": [
      "sending off prediction to background worker for resampling and export\n",
      "done with Sample18\n",
      "\n",
      "Predicting Sample180:\n",
      "perform_everything_on_device: True\n"
     ]
    },
    {
     "name": "stderr",
     "output_type": "stream",
     "text": [
      "100%|██████████| 8/8 [00:02<00:00,  3.13it/s]\n",
      "100%|██████████| 8/8 [00:02<00:00,  3.13it/s]\n",
      "100%|██████████| 8/8 [00:02<00:00,  3.13it/s]\n",
      "100%|██████████| 8/8 [00:02<00:00,  3.13it/s]\n",
      "100%|██████████| 8/8 [00:02<00:00,  3.13it/s]\n"
     ]
    },
    {
     "name": "stdout",
     "output_type": "stream",
     "text": [
      "sending off prediction to background worker for resampling and export\n",
      "done with Sample180\n",
      "\n",
      "Predicting Sample181:\n",
      "perform_everything_on_device: True\n"
     ]
    },
    {
     "name": "stderr",
     "output_type": "stream",
     "text": [
      "100%|██████████| 8/8 [00:02<00:00,  3.13it/s]\n",
      "100%|██████████| 8/8 [00:02<00:00,  3.13it/s]\n",
      "100%|██████████| 8/8 [00:02<00:00,  3.13it/s]\n",
      "100%|██████████| 8/8 [00:02<00:00,  3.13it/s]\n",
      "100%|██████████| 8/8 [00:02<00:00,  3.13it/s]\n"
     ]
    },
    {
     "name": "stdout",
     "output_type": "stream",
     "text": [
      "sending off prediction to background worker for resampling and export\n",
      "done with Sample181\n",
      "\n",
      "Predicting Sample182:\n",
      "perform_everything_on_device: True\n"
     ]
    },
    {
     "name": "stderr",
     "output_type": "stream",
     "text": [
      "100%|██████████| 2/2 [00:00<00:00,  3.78it/s]\n",
      "100%|██████████| 2/2 [00:00<00:00,  3.79it/s]\n",
      "100%|██████████| 2/2 [00:00<00:00,  3.79it/s]\n",
      "100%|██████████| 2/2 [00:00<00:00,  3.79it/s]\n",
      "100%|██████████| 2/2 [00:00<00:00,  3.79it/s]\n"
     ]
    },
    {
     "name": "stdout",
     "output_type": "stream",
     "text": [
      "sending off prediction to background worker for resampling and export\n",
      "done with Sample182\n",
      "\n",
      "Predicting Sample183:\n",
      "perform_everything_on_device: True\n"
     ]
    },
    {
     "name": "stderr",
     "output_type": "stream",
     "text": [
      "100%|██████████| 2/2 [00:00<00:00,  3.78it/s]\n",
      "100%|██████████| 2/2 [00:00<00:00,  3.78it/s]\n",
      "100%|██████████| 2/2 [00:00<00:00,  3.79it/s]\n",
      "100%|██████████| 2/2 [00:00<00:00,  3.79it/s]\n",
      "100%|██████████| 2/2 [00:00<00:00,  3.79it/s]\n"
     ]
    },
    {
     "name": "stdout",
     "output_type": "stream",
     "text": [
      "sending off prediction to background worker for resampling and export\n",
      "done with Sample183\n",
      "\n",
      "Predicting Sample184:\n",
      "perform_everything_on_device: True\n"
     ]
    },
    {
     "name": "stderr",
     "output_type": "stream",
     "text": [
      "100%|██████████| 2/2 [00:00<00:00,  3.78it/s]\n",
      "100%|██████████| 2/2 [00:00<00:00,  3.79it/s]\n",
      "100%|██████████| 2/2 [00:00<00:00,  3.79it/s]\n",
      "100%|██████████| 2/2 [00:00<00:00,  3.76it/s]\n",
      "100%|██████████| 2/2 [00:00<00:00,  3.79it/s]\n"
     ]
    },
    {
     "name": "stdout",
     "output_type": "stream",
     "text": [
      "sending off prediction to background worker for resampling and export\n",
      "done with Sample184\n",
      "\n",
      "Predicting Sample185:\n",
      "perform_everything_on_device: True\n"
     ]
    },
    {
     "name": "stderr",
     "output_type": "stream",
     "text": [
      "100%|██████████| 3/3 [00:00<00:00,  3.46it/s]\n",
      "100%|██████████| 3/3 [00:00<00:00,  3.46it/s]\n",
      "100%|██████████| 3/3 [00:00<00:00,  3.47it/s]\n",
      "100%|██████████| 3/3 [00:00<00:00,  3.46it/s]\n",
      "100%|██████████| 3/3 [00:00<00:00,  3.47it/s]\n"
     ]
    },
    {
     "name": "stdout",
     "output_type": "stream",
     "text": [
      "sending off prediction to background worker for resampling and export\n",
      "done with Sample185\n",
      "\n",
      "Predicting Sample186:\n",
      "perform_everything_on_device: True\n"
     ]
    },
    {
     "name": "stderr",
     "output_type": "stream",
     "text": [
      "100%|██████████| 3/3 [00:00<00:00,  3.46it/s]\n",
      "100%|██████████| 3/3 [00:00<00:00,  3.47it/s]\n",
      "100%|██████████| 3/3 [00:00<00:00,  3.47it/s]\n",
      "100%|██████████| 3/3 [00:00<00:00,  3.47it/s]\n",
      "100%|██████████| 3/3 [00:00<00:00,  3.47it/s]\n"
     ]
    },
    {
     "name": "stdout",
     "output_type": "stream",
     "text": [
      "sending off prediction to background worker for resampling and export\n",
      "done with Sample186\n",
      "\n",
      "Predicting Sample187:\n",
      "perform_everything_on_device: True\n"
     ]
    },
    {
     "name": "stderr",
     "output_type": "stream",
     "text": [
      "100%|██████████| 8/8 [00:02<00:00,  3.13it/s]\n",
      "100%|██████████| 8/8 [00:02<00:00,  3.13it/s]\n",
      "100%|██████████| 8/8 [00:02<00:00,  3.13it/s]\n",
      "100%|██████████| 8/8 [00:02<00:00,  3.13it/s]\n",
      "100%|██████████| 8/8 [00:02<00:00,  3.13it/s]\n"
     ]
    },
    {
     "name": "stdout",
     "output_type": "stream",
     "text": [
      "sending off prediction to background worker for resampling and export\n",
      "done with Sample187\n",
      "\n",
      "Predicting Sample188:\n",
      "perform_everything_on_device: True\n"
     ]
    },
    {
     "name": "stderr",
     "output_type": "stream",
     "text": [
      "100%|██████████| 8/8 [00:02<00:00,  3.13it/s]\n",
      "100%|██████████| 8/8 [00:02<00:00,  3.13it/s]\n",
      "100%|██████████| 8/8 [00:02<00:00,  3.13it/s]\n",
      "100%|██████████| 8/8 [00:02<00:00,  3.13it/s]\n",
      "100%|██████████| 8/8 [00:02<00:00,  3.13it/s]\n"
     ]
    },
    {
     "name": "stdout",
     "output_type": "stream",
     "text": [
      "sending off prediction to background worker for resampling and export\n",
      "done with Sample188\n",
      "\n",
      "Predicting Sample189:\n",
      "perform_everything_on_device: True\n"
     ]
    },
    {
     "name": "stderr",
     "output_type": "stream",
     "text": [
      "100%|██████████| 8/8 [00:02<00:00,  3.13it/s]\n",
      "100%|██████████| 8/8 [00:02<00:00,  3.13it/s]\n",
      "100%|██████████| 8/8 [00:02<00:00,  3.13it/s]\n",
      "100%|██████████| 8/8 [00:02<00:00,  3.13it/s]\n",
      "100%|██████████| 8/8 [00:02<00:00,  3.13it/s]\n"
     ]
    },
    {
     "name": "stdout",
     "output_type": "stream",
     "text": [
      "sending off prediction to background worker for resampling and export\n",
      "done with Sample189\n",
      "\n",
      "Predicting Sample19:\n",
      "perform_everything_on_device: True\n"
     ]
    },
    {
     "name": "stderr",
     "output_type": "stream",
     "text": [
      "100%|██████████| 12/12 [00:03<00:00,  3.07it/s]\n",
      "100%|██████████| 12/12 [00:03<00:00,  3.07it/s]\n",
      "100%|██████████| 12/12 [00:03<00:00,  3.07it/s]\n",
      "100%|██████████| 12/12 [00:03<00:00,  3.07it/s]\n",
      "100%|██████████| 12/12 [00:03<00:00,  3.07it/s]\n"
     ]
    },
    {
     "name": "stdout",
     "output_type": "stream",
     "text": [
      "sending off prediction to background worker for resampling and export\n",
      "done with Sample19\n",
      "\n",
      "Predicting Sample190:\n",
      "perform_everything_on_device: True\n"
     ]
    },
    {
     "name": "stderr",
     "output_type": "stream",
     "text": [
      "100%|██████████| 8/8 [00:02<00:00,  3.13it/s]\n",
      "100%|██████████| 8/8 [00:02<00:00,  3.13it/s]\n",
      "100%|██████████| 8/8 [00:02<00:00,  3.13it/s]\n",
      "100%|██████████| 8/8 [00:02<00:00,  3.13it/s]\n",
      "100%|██████████| 8/8 [00:02<00:00,  3.13it/s]\n"
     ]
    },
    {
     "name": "stdout",
     "output_type": "stream",
     "text": [
      "sending off prediction to background worker for resampling and export\n",
      "done with Sample190\n",
      "\n",
      "Predicting Sample191:\n",
      "perform_everything_on_device: True\n"
     ]
    },
    {
     "name": "stderr",
     "output_type": "stream",
     "text": [
      "100%|██████████| 8/8 [00:02<00:00,  3.13it/s]\n",
      "100%|██████████| 8/8 [00:02<00:00,  3.13it/s]\n",
      "100%|██████████| 8/8 [00:02<00:00,  3.13it/s]\n",
      "100%|██████████| 8/8 [00:02<00:00,  3.13it/s]\n",
      "100%|██████████| 8/8 [00:02<00:00,  3.13it/s]\n"
     ]
    },
    {
     "name": "stdout",
     "output_type": "stream",
     "text": [
      "sending off prediction to background worker for resampling and export\n",
      "done with Sample191\n",
      "\n",
      "Predicting Sample192:\n",
      "perform_everything_on_device: True\n"
     ]
    },
    {
     "name": "stderr",
     "output_type": "stream",
     "text": [
      "100%|██████████| 8/8 [00:02<00:00,  3.13it/s]\n",
      "100%|██████████| 8/8 [00:02<00:00,  3.13it/s]\n",
      "100%|██████████| 8/8 [00:02<00:00,  3.13it/s]\n",
      "100%|██████████| 8/8 [00:02<00:00,  3.13it/s]\n",
      "100%|██████████| 8/8 [00:02<00:00,  3.13it/s]\n"
     ]
    },
    {
     "name": "stdout",
     "output_type": "stream",
     "text": [
      "sending off prediction to background worker for resampling and export\n",
      "done with Sample192\n",
      "\n",
      "Predicting Sample193:\n",
      "perform_everything_on_device: True\n"
     ]
    },
    {
     "name": "stderr",
     "output_type": "stream",
     "text": [
      "100%|██████████| 8/8 [00:02<00:00,  3.13it/s]\n",
      "100%|██████████| 8/8 [00:02<00:00,  3.13it/s]\n",
      "100%|██████████| 8/8 [00:02<00:00,  3.13it/s]\n",
      "100%|██████████| 8/8 [00:02<00:00,  3.13it/s]\n",
      "100%|██████████| 8/8 [00:02<00:00,  3.13it/s]\n"
     ]
    },
    {
     "name": "stdout",
     "output_type": "stream",
     "text": [
      "sending off prediction to background worker for resampling and export\n",
      "done with Sample193\n",
      "\n",
      "Predicting Sample194:\n",
      "perform_everything_on_device: True\n"
     ]
    },
    {
     "name": "stderr",
     "output_type": "stream",
     "text": [
      "100%|██████████| 8/8 [00:02<00:00,  3.13it/s]\n",
      "100%|██████████| 8/8 [00:02<00:00,  3.13it/s]\n",
      "100%|██████████| 8/8 [00:02<00:00,  3.13it/s]\n",
      "100%|██████████| 8/8 [00:02<00:00,  3.13it/s]\n",
      "100%|██████████| 8/8 [00:02<00:00,  3.13it/s]\n"
     ]
    },
    {
     "name": "stdout",
     "output_type": "stream",
     "text": [
      "sending off prediction to background worker for resampling and export\n",
      "done with Sample194\n",
      "\n",
      "Predicting Sample195:\n",
      "perform_everything_on_device: True\n"
     ]
    },
    {
     "name": "stderr",
     "output_type": "stream",
     "text": [
      "100%|██████████| 2/2 [00:00<00:00,  3.78it/s]\n",
      "100%|██████████| 2/2 [00:00<00:00,  3.79it/s]\n",
      "100%|██████████| 2/2 [00:00<00:00,  3.79it/s]\n",
      "100%|██████████| 2/2 [00:00<00:00,  3.78it/s]\n",
      "100%|██████████| 2/2 [00:00<00:00,  3.78it/s]\n"
     ]
    },
    {
     "name": "stdout",
     "output_type": "stream",
     "text": [
      "sending off prediction to background worker for resampling and export\n",
      "done with Sample195\n",
      "\n",
      "Predicting Sample196:\n",
      "perform_everything_on_device: True\n"
     ]
    },
    {
     "name": "stderr",
     "output_type": "stream",
     "text": [
      "100%|██████████| 2/2 [00:00<00:00,  3.78it/s]\n",
      "100%|██████████| 2/2 [00:00<00:00,  3.79it/s]\n",
      "100%|██████████| 2/2 [00:00<00:00,  3.78it/s]\n",
      "100%|██████████| 2/2 [00:00<00:00,  3.79it/s]\n",
      "100%|██████████| 2/2 [00:00<00:00,  3.79it/s]\n"
     ]
    },
    {
     "name": "stdout",
     "output_type": "stream",
     "text": [
      "sending off prediction to background worker for resampling and export\n",
      "done with Sample196\n",
      "\n",
      "Predicting Sample197:\n",
      "perform_everything_on_device: True\n"
     ]
    },
    {
     "name": "stderr",
     "output_type": "stream",
     "text": [
      "100%|██████████| 2/2 [00:00<00:00,  3.79it/s]\n",
      "100%|██████████| 2/2 [00:00<00:00,  3.78it/s]\n",
      "100%|██████████| 2/2 [00:00<00:00,  3.77it/s]\n",
      "100%|██████████| 2/2 [00:00<00:00,  3.78it/s]\n",
      "100%|██████████| 2/2 [00:00<00:00,  3.78it/s]\n"
     ]
    },
    {
     "name": "stdout",
     "output_type": "stream",
     "text": [
      "sending off prediction to background worker for resampling and export\n",
      "done with Sample197\n",
      "\n",
      "Predicting Sample198:\n",
      "perform_everything_on_device: True\n"
     ]
    },
    {
     "name": "stderr",
     "output_type": "stream",
     "text": [
      "100%|██████████| 1/1 [00:00<00:00,  5.19it/s]\n",
      "100%|██████████| 1/1 [00:00<00:00,  5.26it/s]\n",
      "100%|██████████| 1/1 [00:00<00:00,  5.26it/s]\n",
      "100%|██████████| 1/1 [00:00<00:00,  5.23it/s]\n",
      "100%|██████████| 1/1 [00:00<00:00,  4.95it/s]\n"
     ]
    },
    {
     "name": "stdout",
     "output_type": "stream",
     "text": [
      "sending off prediction to background worker for resampling and export\n",
      "done with Sample198\n",
      "\n",
      "Predicting Sample199:\n",
      "perform_everything_on_device: True\n"
     ]
    },
    {
     "name": "stderr",
     "output_type": "stream",
     "text": [
      "100%|██████████| 8/8 [00:02<00:00,  3.13it/s]\n",
      "100%|██████████| 8/8 [00:02<00:00,  3.13it/s]\n",
      "100%|██████████| 8/8 [00:02<00:00,  3.13it/s]\n",
      "100%|██████████| 8/8 [00:02<00:00,  3.13it/s]\n",
      "100%|██████████| 8/8 [00:02<00:00,  3.13it/s]\n"
     ]
    },
    {
     "name": "stdout",
     "output_type": "stream",
     "text": [
      "sending off prediction to background worker for resampling and export\n",
      "done with Sample199\n",
      "\n",
      "Predicting Sample2:\n",
      "perform_everything_on_device: True\n"
     ]
    },
    {
     "name": "stderr",
     "output_type": "stream",
     "text": [
      "100%|██████████| 8/8 [00:02<00:00,  3.13it/s]\n",
      "100%|██████████| 8/8 [00:02<00:00,  3.13it/s]\n",
      "100%|██████████| 8/8 [00:02<00:00,  3.13it/s]\n",
      "100%|██████████| 8/8 [00:02<00:00,  3.13it/s]\n",
      "100%|██████████| 8/8 [00:02<00:00,  3.13it/s]\n"
     ]
    },
    {
     "name": "stdout",
     "output_type": "stream",
     "text": [
      "sending off prediction to background worker for resampling and export\n",
      "done with Sample2\n",
      "\n",
      "Predicting Sample20:\n",
      "perform_everything_on_device: True\n"
     ]
    },
    {
     "name": "stderr",
     "output_type": "stream",
     "text": [
      "100%|██████████| 1/1 [00:00<00:00,  5.21it/s]\n",
      "100%|██████████| 1/1 [00:00<00:00,  5.26it/s]\n",
      "100%|██████████| 1/1 [00:00<00:00,  5.23it/s]\n",
      "100%|██████████| 1/1 [00:00<00:00,  5.26it/s]\n",
      "100%|██████████| 1/1 [00:00<00:00,  5.26it/s]\n"
     ]
    },
    {
     "name": "stdout",
     "output_type": "stream",
     "text": [
      "sending off prediction to background worker for resampling and export\n",
      "done with Sample20\n",
      "\n",
      "Predicting Sample200:\n",
      "perform_everything_on_device: True\n"
     ]
    },
    {
     "name": "stderr",
     "output_type": "stream",
     "text": [
      "100%|██████████| 8/8 [00:02<00:00,  3.13it/s]\n",
      "100%|██████████| 8/8 [00:02<00:00,  3.13it/s]\n",
      "100%|██████████| 8/8 [00:02<00:00,  3.13it/s]\n",
      "100%|██████████| 8/8 [00:02<00:00,  3.13it/s]\n",
      "100%|██████████| 8/8 [00:02<00:00,  3.13it/s]\n"
     ]
    },
    {
     "name": "stdout",
     "output_type": "stream",
     "text": [
      "sending off prediction to background worker for resampling and export\n",
      "done with Sample200\n",
      "\n",
      "Predicting Sample201:\n",
      "perform_everything_on_device: True\n"
     ]
    },
    {
     "name": "stderr",
     "output_type": "stream",
     "text": [
      "100%|██████████| 45/45 [00:15<00:00,  2.99it/s]\n",
      "100%|██████████| 45/45 [00:15<00:00,  2.99it/s]\n",
      "100%|██████████| 45/45 [00:15<00:00,  2.99it/s]\n",
      "100%|██████████| 45/45 [00:15<00:00,  2.99it/s]\n",
      "100%|██████████| 45/45 [00:15<00:00,  2.99it/s]\n"
     ]
    },
    {
     "name": "stdout",
     "output_type": "stream",
     "text": [
      "sending off prediction to background worker for resampling and export\n",
      "done with Sample201\n",
      "\n",
      "Predicting Sample202:\n",
      "perform_everything_on_device: True\n"
     ]
    },
    {
     "name": "stderr",
     "output_type": "stream",
     "text": [
      "100%|██████████| 45/45 [00:15<00:00,  2.99it/s]\n",
      "100%|██████████| 45/45 [00:15<00:00,  2.99it/s]\n",
      "100%|██████████| 45/45 [00:15<00:00,  2.99it/s]\n",
      "100%|██████████| 45/45 [00:15<00:00,  2.99it/s]\n",
      "100%|██████████| 45/45 [00:15<00:00,  2.99it/s]\n"
     ]
    },
    {
     "name": "stdout",
     "output_type": "stream",
     "text": [
      "sending off prediction to background worker for resampling and export\n",
      "done with Sample202\n",
      "\n",
      "Predicting Sample203:\n",
      "perform_everything_on_device: True\n"
     ]
    },
    {
     "name": "stderr",
     "output_type": "stream",
     "text": [
      "100%|██████████| 4/4 [00:01<00:00,  3.32it/s]\n",
      "100%|██████████| 4/4 [00:01<00:00,  3.32it/s]\n",
      "100%|██████████| 4/4 [00:01<00:00,  3.32it/s]\n",
      "100%|██████████| 4/4 [00:01<00:00,  3.32it/s]\n",
      "100%|██████████| 4/4 [00:01<00:00,  3.32it/s]\n"
     ]
    },
    {
     "name": "stdout",
     "output_type": "stream",
     "text": [
      "sending off prediction to background worker for resampling and export\n",
      "done with Sample203\n",
      "\n",
      "Predicting Sample204:\n",
      "perform_everything_on_device: True\n"
     ]
    },
    {
     "name": "stderr",
     "output_type": "stream",
     "text": [
      "100%|██████████| 4/4 [00:01<00:00,  3.32it/s]\n",
      "100%|██████████| 4/4 [00:01<00:00,  3.32it/s]\n",
      "100%|██████████| 4/4 [00:01<00:00,  3.32it/s]\n",
      "100%|██████████| 4/4 [00:01<00:00,  3.32it/s]\n",
      "100%|██████████| 4/4 [00:01<00:00,  3.32it/s]\n"
     ]
    },
    {
     "name": "stdout",
     "output_type": "stream",
     "text": [
      "sending off prediction to background worker for resampling and export\n",
      "done with Sample204\n",
      "\n",
      "Predicting Sample205:\n",
      "perform_everything_on_device: True\n"
     ]
    },
    {
     "name": "stderr",
     "output_type": "stream",
     "text": [
      "100%|██████████| 54/54 [00:18<00:00,  2.99it/s]\n",
      "100%|██████████| 54/54 [00:18<00:00,  2.99it/s]\n",
      "100%|██████████| 54/54 [00:18<00:00,  2.99it/s]\n",
      "100%|██████████| 54/54 [00:18<00:00,  2.99it/s]\n",
      "100%|██████████| 54/54 [00:18<00:00,  2.99it/s]\n"
     ]
    },
    {
     "name": "stdout",
     "output_type": "stream",
     "text": [
      "sending off prediction to background worker for resampling and export\n",
      "done with Sample205\n",
      "\n",
      "Predicting Sample206:\n",
      "perform_everything_on_device: True\n"
     ]
    },
    {
     "name": "stderr",
     "output_type": "stream",
     "text": [
      "100%|██████████| 2/2 [00:00<00:00,  3.78it/s]\n",
      "100%|██████████| 2/2 [00:00<00:00,  3.79it/s]\n",
      "100%|██████████| 2/2 [00:00<00:00,  3.79it/s]\n",
      "100%|██████████| 2/2 [00:00<00:00,  3.79it/s]\n",
      "100%|██████████| 2/2 [00:00<00:00,  3.79it/s]\n"
     ]
    },
    {
     "name": "stdout",
     "output_type": "stream",
     "text": [
      "sending off prediction to background worker for resampling and export\n",
      "done with Sample206\n",
      "\n",
      "Predicting Sample207:\n",
      "perform_everything_on_device: True\n"
     ]
    },
    {
     "name": "stderr",
     "output_type": "stream",
     "text": [
      "100%|██████████| 18/18 [00:05<00:00,  3.03it/s]\n",
      "100%|██████████| 18/18 [00:05<00:00,  3.03it/s]\n",
      "100%|██████████| 18/18 [00:05<00:00,  3.03it/s]\n",
      "100%|██████████| 18/18 [00:05<00:00,  3.03it/s]\n",
      "100%|██████████| 18/18 [00:05<00:00,  3.03it/s]\n"
     ]
    },
    {
     "name": "stdout",
     "output_type": "stream",
     "text": [
      "sending off prediction to background worker for resampling and export\n",
      "done with Sample207\n",
      "\n",
      "Predicting Sample208:\n",
      "perform_everything_on_device: True\n"
     ]
    },
    {
     "name": "stderr",
     "output_type": "stream",
     "text": [
      "100%|██████████| 2/2 [00:00<00:00,  3.78it/s]\n",
      "100%|██████████| 2/2 [00:00<00:00,  3.79it/s]\n",
      "100%|██████████| 2/2 [00:00<00:00,  3.79it/s]\n",
      "100%|██████████| 2/2 [00:00<00:00,  3.79it/s]\n",
      "100%|██████████| 2/2 [00:00<00:00,  3.79it/s]\n"
     ]
    },
    {
     "name": "stdout",
     "output_type": "stream",
     "text": [
      "sending off prediction to background worker for resampling and export\n",
      "done with Sample208\n",
      "\n",
      "Predicting Sample209:\n",
      "perform_everything_on_device: True\n"
     ]
    },
    {
     "name": "stderr",
     "output_type": "stream",
     "text": [
      "100%|██████████| 8/8 [00:02<00:00,  3.13it/s]\n",
      "100%|██████████| 8/8 [00:02<00:00,  3.13it/s]\n",
      "100%|██████████| 8/8 [00:02<00:00,  3.13it/s]\n",
      "100%|██████████| 8/8 [00:02<00:00,  3.13it/s]\n",
      "100%|██████████| 8/8 [00:02<00:00,  3.13it/s]\n"
     ]
    },
    {
     "name": "stdout",
     "output_type": "stream",
     "text": [
      "sending off prediction to background worker for resampling and export\n",
      "done with Sample209\n",
      "\n",
      "Predicting Sample21:\n",
      "perform_everything_on_device: True\n"
     ]
    },
    {
     "name": "stderr",
     "output_type": "stream",
     "text": [
      "100%|██████████| 2/2 [00:00<00:00,  3.78it/s]\n",
      "100%|██████████| 2/2 [00:00<00:00,  3.78it/s]\n",
      "100%|██████████| 2/2 [00:00<00:00,  3.79it/s]\n",
      "100%|██████████| 2/2 [00:00<00:00,  3.78it/s]\n",
      "100%|██████████| 2/2 [00:00<00:00,  3.78it/s]\n"
     ]
    },
    {
     "name": "stdout",
     "output_type": "stream",
     "text": [
      "sending off prediction to background worker for resampling and export\n",
      "done with Sample21\n",
      "\n",
      "Predicting Sample210:\n",
      "perform_everything_on_device: True\n"
     ]
    },
    {
     "name": "stderr",
     "output_type": "stream",
     "text": [
      "100%|██████████| 2/2 [00:00<00:00,  3.79it/s]\n",
      "100%|██████████| 2/2 [00:00<00:00,  3.79it/s]\n",
      "100%|██████████| 2/2 [00:00<00:00,  3.78it/s]\n",
      "100%|██████████| 2/2 [00:00<00:00,  3.74it/s]\n",
      "100%|██████████| 2/2 [00:00<00:00,  3.79it/s]\n"
     ]
    },
    {
     "name": "stdout",
     "output_type": "stream",
     "text": [
      "sending off prediction to background worker for resampling and export\n",
      "done with Sample210\n",
      "\n",
      "Predicting Sample211:\n",
      "perform_everything_on_device: True\n"
     ]
    },
    {
     "name": "stderr",
     "output_type": "stream",
     "text": [
      "100%|██████████| 2/2 [00:00<00:00,  3.72it/s]\n",
      "100%|██████████| 2/2 [00:00<00:00,  3.79it/s]\n",
      "100%|██████████| 2/2 [00:00<00:00,  3.79it/s]\n",
      "100%|██████████| 2/2 [00:00<00:00,  3.79it/s]\n",
      "100%|██████████| 2/2 [00:00<00:00,  3.78it/s]\n"
     ]
    },
    {
     "name": "stdout",
     "output_type": "stream",
     "text": [
      "sending off prediction to background worker for resampling and export\n",
      "done with Sample211\n",
      "\n",
      "Predicting Sample212:\n",
      "perform_everything_on_device: True\n"
     ]
    },
    {
     "name": "stderr",
     "output_type": "stream",
     "text": [
      "100%|██████████| 2/2 [00:00<00:00,  3.78it/s]\n",
      "100%|██████████| 2/2 [00:00<00:00,  3.79it/s]\n",
      "100%|██████████| 2/2 [00:00<00:00,  3.78it/s]\n",
      "100%|██████████| 2/2 [00:00<00:00,  3.78it/s]\n",
      "100%|██████████| 2/2 [00:00<00:00,  3.76it/s]\n"
     ]
    },
    {
     "name": "stdout",
     "output_type": "stream",
     "text": [
      "sending off prediction to background worker for resampling and export\n",
      "done with Sample212\n",
      "\n",
      "Predicting Sample213:\n",
      "perform_everything_on_device: True\n"
     ]
    },
    {
     "name": "stderr",
     "output_type": "stream",
     "text": [
      "100%|██████████| 45/45 [00:14<00:00,  3.00it/s]\n",
      "100%|██████████| 45/45 [00:14<00:00,  3.00it/s]\n",
      "100%|██████████| 45/45 [00:14<00:00,  3.00it/s]\n",
      "100%|██████████| 45/45 [00:14<00:00,  3.00it/s]\n",
      "100%|██████████| 45/45 [00:14<00:00,  3.00it/s]\n"
     ]
    },
    {
     "name": "stdout",
     "output_type": "stream",
     "text": [
      "sending off prediction to background worker for resampling and export\n",
      "done with Sample213\n",
      "\n",
      "Predicting Sample214:\n",
      "perform_everything_on_device: True\n"
     ]
    },
    {
     "name": "stderr",
     "output_type": "stream",
     "text": [
      "100%|██████████| 2/2 [00:00<00:00,  3.77it/s]\n",
      "100%|██████████| 2/2 [00:00<00:00,  3.69it/s]\n",
      "100%|██████████| 2/2 [00:00<00:00,  3.78it/s]\n",
      "100%|██████████| 2/2 [00:00<00:00,  3.79it/s]\n",
      "100%|██████████| 2/2 [00:00<00:00,  3.79it/s]\n"
     ]
    },
    {
     "name": "stdout",
     "output_type": "stream",
     "text": [
      "sending off prediction to background worker for resampling and export\n",
      "done with Sample214\n",
      "\n",
      "Predicting Sample215:\n",
      "perform_everything_on_device: True\n"
     ]
    },
    {
     "name": "stderr",
     "output_type": "stream",
     "text": [
      "100%|██████████| 2/2 [00:00<00:00,  3.78it/s]\n",
      "100%|██████████| 2/2 [00:00<00:00,  3.79it/s]\n",
      "100%|██████████| 2/2 [00:00<00:00,  3.79it/s]\n",
      "100%|██████████| 2/2 [00:00<00:00,  3.79it/s]\n",
      "100%|██████████| 2/2 [00:00<00:00,  3.78it/s]\n"
     ]
    },
    {
     "name": "stdout",
     "output_type": "stream",
     "text": [
      "sending off prediction to background worker for resampling and export\n",
      "done with Sample215\n",
      "\n",
      "Predicting Sample216:\n",
      "perform_everything_on_device: True\n"
     ]
    },
    {
     "name": "stderr",
     "output_type": "stream",
     "text": [
      "100%|██████████| 54/54 [00:18<00:00,  3.00it/s]\n",
      "100%|██████████| 54/54 [00:18<00:00,  3.00it/s]\n",
      "100%|██████████| 54/54 [00:18<00:00,  3.00it/s]\n",
      "100%|██████████| 54/54 [00:18<00:00,  3.00it/s]\n",
      "100%|██████████| 54/54 [00:18<00:00,  3.00it/s]\n"
     ]
    },
    {
     "name": "stdout",
     "output_type": "stream",
     "text": [
      "sending off prediction to background worker for resampling and export\n",
      "done with Sample216\n",
      "\n",
      "Predicting Sample217:\n",
      "perform_everything_on_device: True\n"
     ]
    },
    {
     "name": "stderr",
     "output_type": "stream",
     "text": [
      "100%|██████████| 8/8 [00:02<00:00,  3.13it/s]\n",
      "100%|██████████| 8/8 [00:02<00:00,  3.13it/s]\n",
      "100%|██████████| 8/8 [00:02<00:00,  3.13it/s]\n",
      "100%|██████████| 8/8 [00:02<00:00,  3.13it/s]\n",
      "100%|██████████| 8/8 [00:02<00:00,  3.13it/s]\n"
     ]
    },
    {
     "name": "stdout",
     "output_type": "stream",
     "text": [
      "sending off prediction to background worker for resampling and export\n",
      "done with Sample217\n",
      "\n",
      "Predicting Sample218:\n",
      "perform_everything_on_device: True\n"
     ]
    },
    {
     "name": "stderr",
     "output_type": "stream",
     "text": [
      "100%|██████████| 2/2 [00:00<00:00,  3.79it/s]\n",
      "100%|██████████| 2/2 [00:00<00:00,  3.79it/s]\n",
      "100%|██████████| 2/2 [00:00<00:00,  3.78it/s]\n",
      "100%|██████████| 2/2 [00:00<00:00,  3.78it/s]\n",
      "100%|██████████| 2/2 [00:00<00:00,  3.79it/s]\n"
     ]
    },
    {
     "name": "stdout",
     "output_type": "stream",
     "text": [
      "sending off prediction to background worker for resampling and export\n",
      "done with Sample218\n",
      "\n",
      "Predicting Sample219:\n",
      "perform_everything_on_device: True\n"
     ]
    },
    {
     "name": "stderr",
     "output_type": "stream",
     "text": [
      "100%|██████████| 2/2 [00:00<00:00,  3.79it/s]\n",
      "100%|██████████| 2/2 [00:00<00:00,  3.79it/s]\n",
      "100%|██████████| 2/2 [00:00<00:00,  3.78it/s]\n",
      "100%|██████████| 2/2 [00:00<00:00,  3.79it/s]\n",
      "100%|██████████| 2/2 [00:00<00:00,  3.79it/s]\n"
     ]
    },
    {
     "name": "stdout",
     "output_type": "stream",
     "text": [
      "sending off prediction to background worker for resampling and export\n",
      "done with Sample219\n",
      "\n",
      "Predicting Sample22:\n",
      "perform_everything_on_device: True\n"
     ]
    },
    {
     "name": "stderr",
     "output_type": "stream",
     "text": [
      "100%|██████████| 18/18 [00:05<00:00,  3.03it/s]\n",
      "100%|██████████| 18/18 [00:05<00:00,  3.03it/s]\n",
      "100%|██████████| 18/18 [00:05<00:00,  3.03it/s]\n",
      "100%|██████████| 18/18 [00:05<00:00,  3.03it/s]\n",
      "100%|██████████| 18/18 [00:05<00:00,  3.03it/s]\n"
     ]
    },
    {
     "name": "stdout",
     "output_type": "stream",
     "text": [
      "sending off prediction to background worker for resampling and export\n",
      "done with Sample22\n",
      "\n",
      "Predicting Sample220:\n",
      "perform_everything_on_device: True\n"
     ]
    },
    {
     "name": "stderr",
     "output_type": "stream",
     "text": [
      "100%|██████████| 36/36 [00:12<00:00,  2.99it/s]\n",
      "100%|██████████| 36/36 [00:12<00:00,  2.99it/s]\n",
      "100%|██████████| 36/36 [00:12<00:00,  3.00it/s]\n",
      "100%|██████████| 36/36 [00:12<00:00,  3.00it/s]\n",
      "100%|██████████| 36/36 [00:12<00:00,  2.99it/s]\n"
     ]
    },
    {
     "name": "stdout",
     "output_type": "stream",
     "text": [
      "sending off prediction to background worker for resampling and export\n",
      "done with Sample220\n",
      "\n",
      "Predicting Sample221:\n",
      "perform_everything_on_device: True\n"
     ]
    },
    {
     "name": "stderr",
     "output_type": "stream",
     "text": [
      "100%|██████████| 16/16 [00:05<00:00,  3.04it/s]\n",
      "100%|██████████| 16/16 [00:05<00:00,  3.04it/s]\n",
      "100%|██████████| 16/16 [00:05<00:00,  3.04it/s]\n",
      "100%|██████████| 16/16 [00:05<00:00,  3.04it/s]\n",
      "100%|██████████| 16/16 [00:05<00:00,  3.04it/s]\n"
     ]
    },
    {
     "name": "stdout",
     "output_type": "stream",
     "text": [
      "sending off prediction to background worker for resampling and export\n",
      "done with Sample221\n",
      "\n",
      "Predicting Sample222:\n",
      "perform_everything_on_device: True\n"
     ]
    },
    {
     "name": "stderr",
     "output_type": "stream",
     "text": [
      "100%|██████████| 8/8 [00:02<00:00,  3.13it/s]\n",
      "100%|██████████| 8/8 [00:02<00:00,  3.13it/s]\n",
      "100%|██████████| 8/8 [00:02<00:00,  3.13it/s]\n",
      "100%|██████████| 8/8 [00:02<00:00,  3.13it/s]\n",
      "100%|██████████| 8/8 [00:02<00:00,  3.13it/s]\n"
     ]
    },
    {
     "name": "stdout",
     "output_type": "stream",
     "text": [
      "sending off prediction to background worker for resampling and export\n",
      "done with Sample222\n",
      "\n",
      "Predicting Sample223:\n",
      "perform_everything_on_device: True\n"
     ]
    },
    {
     "name": "stderr",
     "output_type": "stream",
     "text": [
      "100%|██████████| 8/8 [00:02<00:00,  3.13it/s]\n",
      "100%|██████████| 8/8 [00:02<00:00,  3.13it/s]\n",
      "100%|██████████| 8/8 [00:02<00:00,  3.13it/s]\n",
      "100%|██████████| 8/8 [00:02<00:00,  3.13it/s]\n",
      "100%|██████████| 8/8 [00:02<00:00,  3.13it/s]\n"
     ]
    },
    {
     "name": "stdout",
     "output_type": "stream",
     "text": [
      "sending off prediction to background worker for resampling and export\n",
      "done with Sample223\n",
      "\n",
      "Predicting Sample224:\n",
      "perform_everything_on_device: True\n"
     ]
    },
    {
     "name": "stderr",
     "output_type": "stream",
     "text": [
      "100%|██████████| 8/8 [00:02<00:00,  3.13it/s]\n",
      "100%|██████████| 8/8 [00:02<00:00,  3.13it/s]\n",
      "100%|██████████| 8/8 [00:02<00:00,  3.13it/s]\n",
      "100%|██████████| 8/8 [00:02<00:00,  3.13it/s]\n",
      "100%|██████████| 8/8 [00:02<00:00,  3.13it/s]\n"
     ]
    },
    {
     "name": "stdout",
     "output_type": "stream",
     "text": [
      "sending off prediction to background worker for resampling and export\n",
      "done with Sample224\n",
      "\n",
      "Predicting Sample225:\n",
      "perform_everything_on_device: True\n"
     ]
    },
    {
     "name": "stderr",
     "output_type": "stream",
     "text": [
      "100%|██████████| 8/8 [00:02<00:00,  3.13it/s]\n",
      "100%|██████████| 8/8 [00:02<00:00,  3.13it/s]\n",
      "100%|██████████| 8/8 [00:02<00:00,  3.13it/s]\n",
      "100%|██████████| 8/8 [00:02<00:00,  3.13it/s]\n",
      "100%|██████████| 8/8 [00:02<00:00,  3.13it/s]\n"
     ]
    },
    {
     "name": "stdout",
     "output_type": "stream",
     "text": [
      "sending off prediction to background worker for resampling and export\n",
      "done with Sample225\n",
      "\n",
      "Predicting Sample226:\n",
      "perform_everything_on_device: True\n"
     ]
    },
    {
     "name": "stderr",
     "output_type": "stream",
     "text": [
      "100%|██████████| 8/8 [00:02<00:00,  3.13it/s]\n",
      "100%|██████████| 8/8 [00:02<00:00,  3.13it/s]\n",
      "100%|██████████| 8/8 [00:02<00:00,  3.13it/s]\n",
      "100%|██████████| 8/8 [00:02<00:00,  3.13it/s]\n",
      "100%|██████████| 8/8 [00:02<00:00,  3.13it/s]\n"
     ]
    },
    {
     "name": "stdout",
     "output_type": "stream",
     "text": [
      "sending off prediction to background worker for resampling and export\n",
      "done with Sample226\n",
      "\n",
      "Predicting Sample227:\n",
      "perform_everything_on_device: True\n"
     ]
    },
    {
     "name": "stderr",
     "output_type": "stream",
     "text": [
      "100%|██████████| 8/8 [00:02<00:00,  3.13it/s]\n",
      "100%|██████████| 8/8 [00:02<00:00,  3.13it/s]\n",
      "100%|██████████| 8/8 [00:02<00:00,  3.13it/s]\n",
      "100%|██████████| 8/8 [00:02<00:00,  3.13it/s]\n",
      "100%|██████████| 8/8 [00:02<00:00,  3.13it/s]\n"
     ]
    },
    {
     "name": "stdout",
     "output_type": "stream",
     "text": [
      "sending off prediction to background worker for resampling and export\n",
      "done with Sample227\n",
      "\n",
      "Predicting Sample228:\n",
      "perform_everything_on_device: True\n"
     ]
    },
    {
     "name": "stderr",
     "output_type": "stream",
     "text": [
      "100%|██████████| 8/8 [00:02<00:00,  3.13it/s]\n",
      "100%|██████████| 8/8 [00:02<00:00,  3.13it/s]\n",
      "100%|██████████| 8/8 [00:02<00:00,  3.13it/s]\n",
      "100%|██████████| 8/8 [00:02<00:00,  3.13it/s]\n",
      "100%|██████████| 8/8 [00:02<00:00,  3.13it/s]\n"
     ]
    },
    {
     "name": "stdout",
     "output_type": "stream",
     "text": [
      "sending off prediction to background worker for resampling and export\n",
      "done with Sample228\n",
      "\n",
      "Predicting Sample229:\n",
      "perform_everything_on_device: True\n"
     ]
    },
    {
     "name": "stderr",
     "output_type": "stream",
     "text": [
      "100%|██████████| 2/2 [00:00<00:00,  3.78it/s]\n",
      "100%|██████████| 2/2 [00:00<00:00,  3.79it/s]\n",
      "100%|██████████| 2/2 [00:00<00:00,  3.79it/s]\n",
      "100%|██████████| 2/2 [00:00<00:00,  3.79it/s]\n",
      "100%|██████████| 2/2 [00:00<00:00,  3.79it/s]\n"
     ]
    },
    {
     "name": "stdout",
     "output_type": "stream",
     "text": [
      "sending off prediction to background worker for resampling and export\n",
      "done with Sample229\n",
      "\n",
      "Predicting Sample23:\n",
      "perform_everything_on_device: True\n"
     ]
    },
    {
     "name": "stderr",
     "output_type": "stream",
     "text": [
      "100%|██████████| 2/2 [00:00<00:00,  3.79it/s]\n",
      "100%|██████████| 2/2 [00:00<00:00,  3.78it/s]\n",
      "100%|██████████| 2/2 [00:00<00:00,  3.78it/s]\n",
      "100%|██████████| 2/2 [00:00<00:00,  3.79it/s]\n",
      "100%|██████████| 2/2 [00:00<00:00,  3.78it/s]\n"
     ]
    },
    {
     "name": "stdout",
     "output_type": "stream",
     "text": [
      "sending off prediction to background worker for resampling and export\n",
      "done with Sample23\n",
      "\n",
      "Predicting Sample230:\n",
      "perform_everything_on_device: True\n"
     ]
    },
    {
     "name": "stderr",
     "output_type": "stream",
     "text": [
      "100%|██████████| 27/27 [00:08<00:00,  3.01it/s]\n",
      "100%|██████████| 27/27 [00:08<00:00,  3.01it/s]\n",
      "100%|██████████| 27/27 [00:08<00:00,  3.01it/s]\n",
      "100%|██████████| 27/27 [00:08<00:00,  3.01it/s]\n",
      "100%|██████████| 27/27 [00:08<00:00,  3.01it/s]\n"
     ]
    },
    {
     "name": "stdout",
     "output_type": "stream",
     "text": [
      "sending off prediction to background worker for resampling and export\n",
      "done with Sample230\n",
      "\n",
      "Predicting Sample24:\n",
      "perform_everything_on_device: True\n"
     ]
    },
    {
     "name": "stderr",
     "output_type": "stream",
     "text": [
      "100%|██████████| 45/45 [00:14<00:00,  3.00it/s]\n",
      "100%|██████████| 45/45 [00:14<00:00,  3.00it/s]\n",
      "100%|██████████| 45/45 [00:14<00:00,  3.00it/s]\n",
      "100%|██████████| 45/45 [00:14<00:00,  3.00it/s]\n",
      "100%|██████████| 45/45 [00:14<00:00,  3.00it/s]\n"
     ]
    },
    {
     "name": "stdout",
     "output_type": "stream",
     "text": [
      "sending off prediction to background worker for resampling and export\n",
      "done with Sample24\n",
      "\n",
      "Predicting Sample25:\n",
      "perform_everything_on_device: True\n"
     ]
    },
    {
     "name": "stderr",
     "output_type": "stream",
     "text": [
      "100%|██████████| 3/3 [00:00<00:00,  3.46it/s]\n",
      "100%|██████████| 3/3 [00:00<00:00,  3.46it/s]\n",
      "100%|██████████| 3/3 [00:00<00:00,  3.46it/s]\n",
      "100%|██████████| 3/3 [00:00<00:00,  3.46it/s]\n",
      "100%|██████████| 3/3 [00:00<00:00,  3.46it/s]\n"
     ]
    },
    {
     "name": "stdout",
     "output_type": "stream",
     "text": [
      "sending off prediction to background worker for resampling and export\n",
      "done with Sample25\n",
      "\n",
      "Predicting Sample26:\n",
      "perform_everything_on_device: True\n"
     ]
    },
    {
     "name": "stderr",
     "output_type": "stream",
     "text": [
      "100%|██████████| 72/72 [00:24<00:00,  2.98it/s]\n",
      "100%|██████████| 72/72 [00:24<00:00,  2.99it/s]\n",
      "100%|██████████| 72/72 [00:24<00:00,  2.99it/s]\n",
      "100%|██████████| 72/72 [00:24<00:00,  2.99it/s]\n",
      "100%|██████████| 72/72 [00:24<00:00,  2.99it/s]\n"
     ]
    },
    {
     "name": "stdout",
     "output_type": "stream",
     "text": [
      "sending off prediction to background worker for resampling and export\n",
      "done with Sample26\n",
      "\n",
      "Predicting Sample27:\n",
      "perform_everything_on_device: True\n"
     ]
    },
    {
     "name": "stderr",
     "output_type": "stream",
     "text": [
      "100%|██████████| 4/4 [00:01<00:00,  3.32it/s]\n",
      "100%|██████████| 4/4 [00:01<00:00,  3.32it/s]\n",
      "100%|██████████| 4/4 [00:01<00:00,  3.32it/s]\n",
      "100%|██████████| 4/4 [00:01<00:00,  3.32it/s]\n",
      "100%|██████████| 4/4 [00:01<00:00,  3.32it/s]\n"
     ]
    },
    {
     "name": "stdout",
     "output_type": "stream",
     "text": [
      "sending off prediction to background worker for resampling and export\n",
      "done with Sample27\n",
      "\n",
      "Predicting Sample28:\n",
      "perform_everything_on_device: True\n"
     ]
    },
    {
     "name": "stderr",
     "output_type": "stream",
     "text": [
      "100%|██████████| 8/8 [00:02<00:00,  3.13it/s]\n",
      "100%|██████████| 8/8 [00:02<00:00,  3.13it/s]\n",
      "100%|██████████| 8/8 [00:02<00:00,  3.13it/s]\n",
      "100%|██████████| 8/8 [00:02<00:00,  3.13it/s]\n",
      "100%|██████████| 8/8 [00:02<00:00,  3.13it/s]\n"
     ]
    },
    {
     "name": "stdout",
     "output_type": "stream",
     "text": [
      "sending off prediction to background worker for resampling and export\n",
      "done with Sample28\n",
      "\n",
      "Predicting Sample29:\n",
      "perform_everything_on_device: True\n"
     ]
    },
    {
     "name": "stderr",
     "output_type": "stream",
     "text": [
      "100%|██████████| 8/8 [00:02<00:00,  3.13it/s]\n",
      "100%|██████████| 8/8 [00:02<00:00,  3.13it/s]\n",
      "100%|██████████| 8/8 [00:02<00:00,  3.13it/s]\n",
      "100%|██████████| 8/8 [00:02<00:00,  3.13it/s]\n",
      "100%|██████████| 8/8 [00:02<00:00,  3.13it/s]\n"
     ]
    },
    {
     "name": "stdout",
     "output_type": "stream",
     "text": [
      "sending off prediction to background worker for resampling and export\n",
      "done with Sample29\n",
      "\n",
      "Predicting Sample3:\n",
      "perform_everything_on_device: True\n"
     ]
    },
    {
     "name": "stderr",
     "output_type": "stream",
     "text": [
      "100%|██████████| 8/8 [00:02<00:00,  3.13it/s]\n",
      "100%|██████████| 8/8 [00:02<00:00,  3.13it/s]\n",
      "100%|██████████| 8/8 [00:02<00:00,  3.13it/s]\n",
      "100%|██████████| 8/8 [00:02<00:00,  3.13it/s]\n",
      "100%|██████████| 8/8 [00:02<00:00,  3.13it/s]\n"
     ]
    },
    {
     "name": "stdout",
     "output_type": "stream",
     "text": [
      "sending off prediction to background worker for resampling and export\n",
      "done with Sample3\n",
      "\n",
      "Predicting Sample30:\n",
      "perform_everything_on_device: True\n"
     ]
    },
    {
     "name": "stderr",
     "output_type": "stream",
     "text": [
      "100%|██████████| 8/8 [00:02<00:00,  3.13it/s]\n",
      "100%|██████████| 8/8 [00:02<00:00,  3.13it/s]\n",
      "100%|██████████| 8/8 [00:02<00:00,  3.13it/s]\n",
      "100%|██████████| 8/8 [00:02<00:00,  3.12it/s]\n",
      "100%|██████████| 8/8 [00:02<00:00,  3.13it/s]\n"
     ]
    },
    {
     "name": "stdout",
     "output_type": "stream",
     "text": [
      "sending off prediction to background worker for resampling and export\n",
      "done with Sample30\n",
      "\n",
      "Predicting Sample31:\n",
      "perform_everything_on_device: True\n"
     ]
    },
    {
     "name": "stderr",
     "output_type": "stream",
     "text": [
      "100%|██████████| 36/36 [00:11<00:00,  3.01it/s]\n",
      "100%|██████████| 36/36 [00:11<00:00,  3.01it/s]\n",
      "100%|██████████| 36/36 [00:11<00:00,  3.01it/s]\n",
      "100%|██████████| 36/36 [00:11<00:00,  3.01it/s]\n",
      "100%|██████████| 36/36 [00:11<00:00,  3.01it/s]\n"
     ]
    },
    {
     "name": "stdout",
     "output_type": "stream",
     "text": [
      "sending off prediction to background worker for resampling and export\n",
      "done with Sample31\n",
      "\n",
      "Predicting Sample32:\n",
      "perform_everything_on_device: True\n"
     ]
    },
    {
     "name": "stderr",
     "output_type": "stream",
     "text": [
      "100%|██████████| 54/54 [00:18<00:00,  2.99it/s]\n",
      "100%|██████████| 54/54 [00:18<00:00,  2.99it/s]\n",
      "100%|██████████| 54/54 [00:18<00:00,  2.99it/s]\n",
      "100%|██████████| 54/54 [00:18<00:00,  2.99it/s]\n",
      "100%|██████████| 54/54 [00:18<00:00,  2.99it/s]\n"
     ]
    },
    {
     "name": "stdout",
     "output_type": "stream",
     "text": [
      "sending off prediction to background worker for resampling and export\n",
      "done with Sample32\n",
      "\n",
      "Predicting Sample33:\n",
      "perform_everything_on_device: True\n"
     ]
    },
    {
     "name": "stderr",
     "output_type": "stream",
     "text": [
      "100%|██████████| 8/8 [00:02<00:00,  3.13it/s]\n",
      "100%|██████████| 8/8 [00:02<00:00,  3.13it/s]\n",
      "100%|██████████| 8/8 [00:02<00:00,  3.13it/s]\n",
      "100%|██████████| 8/8 [00:02<00:00,  3.13it/s]\n",
      "100%|██████████| 8/8 [00:02<00:00,  3.13it/s]\n"
     ]
    },
    {
     "name": "stdout",
     "output_type": "stream",
     "text": [
      "sending off prediction to background worker for resampling and export\n",
      "done with Sample33\n",
      "\n",
      "Predicting Sample34:\n",
      "perform_everything_on_device: True\n"
     ]
    },
    {
     "name": "stderr",
     "output_type": "stream",
     "text": [
      "100%|██████████| 16/16 [00:05<00:00,  3.04it/s]\n",
      "100%|██████████| 16/16 [00:05<00:00,  3.04it/s]\n",
      "100%|██████████| 16/16 [00:05<00:00,  3.04it/s]\n",
      "100%|██████████| 16/16 [00:05<00:00,  3.04it/s]\n",
      "100%|██████████| 16/16 [00:05<00:00,  3.04it/s]\n"
     ]
    },
    {
     "name": "stdout",
     "output_type": "stream",
     "text": [
      "sending off prediction to background worker for resampling and export\n",
      "done with Sample34\n",
      "\n",
      "Predicting Sample35:\n",
      "perform_everything_on_device: True\n"
     ]
    },
    {
     "name": "stderr",
     "output_type": "stream",
     "text": [
      "100%|██████████| 2/2 [00:00<00:00,  3.78it/s]\n",
      "100%|██████████| 2/2 [00:00<00:00,  3.79it/s]\n",
      "100%|██████████| 2/2 [00:00<00:00,  3.78it/s]\n",
      "100%|██████████| 2/2 [00:00<00:00,  3.78it/s]\n",
      "100%|██████████| 2/2 [00:00<00:00,  3.79it/s]\n"
     ]
    },
    {
     "name": "stdout",
     "output_type": "stream",
     "text": [
      "sending off prediction to background worker for resampling and export\n",
      "done with Sample35\n",
      "\n",
      "Predicting Sample36:\n",
      "perform_everything_on_device: True\n"
     ]
    },
    {
     "name": "stderr",
     "output_type": "stream",
     "text": [
      "100%|██████████| 2/2 [00:00<00:00,  3.77it/s]\n",
      "100%|██████████| 2/2 [00:00<00:00,  3.77it/s]\n",
      "100%|██████████| 2/2 [00:00<00:00,  3.79it/s]\n",
      "100%|██████████| 2/2 [00:00<00:00,  3.78it/s]\n",
      "100%|██████████| 2/2 [00:00<00:00,  3.79it/s]\n"
     ]
    },
    {
     "name": "stdout",
     "output_type": "stream",
     "text": [
      "sending off prediction to background worker for resampling and export\n",
      "done with Sample36\n",
      "\n",
      "Predicting Sample37:\n",
      "perform_everything_on_device: True\n"
     ]
    },
    {
     "name": "stderr",
     "output_type": "stream",
     "text": [
      "100%|██████████| 8/8 [00:02<00:00,  3.13it/s]\n",
      "100%|██████████| 8/8 [00:02<00:00,  3.13it/s]\n",
      "100%|██████████| 8/8 [00:02<00:00,  3.13it/s]\n",
      "100%|██████████| 8/8 [00:02<00:00,  3.13it/s]\n",
      "100%|██████████| 8/8 [00:02<00:00,  3.13it/s]\n"
     ]
    },
    {
     "name": "stdout",
     "output_type": "stream",
     "text": [
      "sending off prediction to background worker for resampling and export\n",
      "done with Sample37\n",
      "\n",
      "Predicting Sample38:\n",
      "perform_everything_on_device: True\n"
     ]
    },
    {
     "name": "stderr",
     "output_type": "stream",
     "text": [
      "100%|██████████| 8/8 [00:02<00:00,  3.13it/s]\n",
      "100%|██████████| 8/8 [00:02<00:00,  3.13it/s]\n",
      "100%|██████████| 8/8 [00:02<00:00,  3.13it/s]\n",
      "100%|██████████| 8/8 [00:02<00:00,  3.13it/s]\n",
      "100%|██████████| 8/8 [00:02<00:00,  3.13it/s]\n"
     ]
    },
    {
     "name": "stdout",
     "output_type": "stream",
     "text": [
      "sending off prediction to background worker for resampling and export\n",
      "done with Sample38\n",
      "\n",
      "Predicting Sample39:\n",
      "perform_everything_on_device: True\n"
     ]
    },
    {
     "name": "stderr",
     "output_type": "stream",
     "text": [
      "100%|██████████| 45/45 [00:14<00:00,  3.00it/s]\n",
      "100%|██████████| 45/45 [00:14<00:00,  3.00it/s]\n",
      "100%|██████████| 45/45 [00:14<00:00,  3.00it/s]\n",
      "100%|██████████| 45/45 [00:14<00:00,  3.00it/s]\n",
      "100%|██████████| 45/45 [00:14<00:00,  3.00it/s]\n"
     ]
    },
    {
     "name": "stdout",
     "output_type": "stream",
     "text": [
      "sending off prediction to background worker for resampling and export\n",
      "done with Sample39\n",
      "\n",
      "Predicting Sample4:\n",
      "perform_everything_on_device: True\n"
     ]
    },
    {
     "name": "stderr",
     "output_type": "stream",
     "text": [
      "100%|██████████| 8/8 [00:02<00:00,  3.13it/s]\n",
      "100%|██████████| 8/8 [00:02<00:00,  3.13it/s]\n",
      "100%|██████████| 8/8 [00:02<00:00,  3.13it/s]\n",
      "100%|██████████| 8/8 [00:02<00:00,  3.13it/s]\n",
      "100%|██████████| 8/8 [00:02<00:00,  3.13it/s]\n"
     ]
    },
    {
     "name": "stdout",
     "output_type": "stream",
     "text": [
      "sending off prediction to background worker for resampling and export\n",
      "done with Sample4\n",
      "\n",
      "Predicting Sample40:\n",
      "perform_everything_on_device: True\n"
     ]
    },
    {
     "name": "stderr",
     "output_type": "stream",
     "text": [
      "100%|██████████| 8/8 [00:02<00:00,  3.13it/s]\n",
      "100%|██████████| 8/8 [00:02<00:00,  3.13it/s]\n",
      "100%|██████████| 8/8 [00:02<00:00,  3.13it/s]\n",
      "100%|██████████| 8/8 [00:02<00:00,  3.13it/s]\n",
      "100%|██████████| 8/8 [00:02<00:00,  3.13it/s]\n"
     ]
    },
    {
     "name": "stdout",
     "output_type": "stream",
     "text": [
      "sending off prediction to background worker for resampling and export\n",
      "done with Sample40\n",
      "\n",
      "Predicting Sample41:\n",
      "perform_everything_on_device: True\n"
     ]
    },
    {
     "name": "stderr",
     "output_type": "stream",
     "text": [
      "100%|██████████| 8/8 [00:02<00:00,  3.13it/s]\n",
      "100%|██████████| 8/8 [00:02<00:00,  3.13it/s]\n",
      "100%|██████████| 8/8 [00:02<00:00,  3.13it/s]\n",
      "100%|██████████| 8/8 [00:02<00:00,  3.13it/s]\n",
      "100%|██████████| 8/8 [00:02<00:00,  3.13it/s]\n"
     ]
    },
    {
     "name": "stdout",
     "output_type": "stream",
     "text": [
      "sending off prediction to background worker for resampling and export\n",
      "done with Sample41\n",
      "\n",
      "Predicting Sample42:\n",
      "perform_everything_on_device: True\n"
     ]
    },
    {
     "name": "stderr",
     "output_type": "stream",
     "text": [
      "100%|██████████| 64/64 [00:21<00:00,  2.99it/s]\n",
      "100%|██████████| 64/64 [00:21<00:00,  2.99it/s]\n",
      "100%|██████████| 64/64 [00:21<00:00,  2.99it/s]\n",
      "100%|██████████| 64/64 [00:21<00:00,  2.99it/s]\n",
      "100%|██████████| 64/64 [00:21<00:00,  2.99it/s]\n"
     ]
    },
    {
     "name": "stdout",
     "output_type": "stream",
     "text": [
      "sending off prediction to background worker for resampling and export\n",
      "done with Sample42\n",
      "\n",
      "Predicting Sample43:\n",
      "perform_everything_on_device: True\n"
     ]
    },
    {
     "name": "stderr",
     "output_type": "stream",
     "text": [
      "100%|██████████| 2/2 [00:00<00:00,  3.78it/s]\n",
      "100%|██████████| 2/2 [00:00<00:00,  3.78it/s]\n",
      "100%|██████████| 2/2 [00:00<00:00,  3.79it/s]\n",
      "100%|██████████| 2/2 [00:00<00:00,  3.79it/s]\n",
      "100%|██████████| 2/2 [00:00<00:00,  3.78it/s]\n"
     ]
    },
    {
     "name": "stdout",
     "output_type": "stream",
     "text": [
      "sending off prediction to background worker for resampling and export\n",
      "done with Sample43\n",
      "\n",
      "Predicting Sample44:\n",
      "perform_everything_on_device: True\n"
     ]
    },
    {
     "name": "stderr",
     "output_type": "stream",
     "text": [
      "100%|██████████| 2/2 [00:00<00:00,  3.71it/s]\n",
      "100%|██████████| 2/2 [00:00<00:00,  3.79it/s]\n",
      "100%|██████████| 2/2 [00:00<00:00,  3.79it/s]\n",
      "100%|██████████| 2/2 [00:00<00:00,  3.79it/s]\n",
      "100%|██████████| 2/2 [00:00<00:00,  3.79it/s]\n"
     ]
    },
    {
     "name": "stdout",
     "output_type": "stream",
     "text": [
      "sending off prediction to background worker for resampling and export\n",
      "done with Sample44\n",
      "\n",
      "Predicting Sample45:\n",
      "perform_everything_on_device: True\n"
     ]
    },
    {
     "name": "stderr",
     "output_type": "stream",
     "text": [
      "100%|██████████| 1/1 [00:00<00:00,  5.23it/s]\n",
      "100%|██████████| 1/1 [00:00<00:00,  5.26it/s]\n",
      "100%|██████████| 1/1 [00:00<00:00,  5.26it/s]\n",
      "100%|██████████| 1/1 [00:00<00:00,  5.26it/s]\n",
      "100%|██████████| 1/1 [00:00<00:00,  5.26it/s]\n"
     ]
    },
    {
     "name": "stdout",
     "output_type": "stream",
     "text": [
      "sending off prediction to background worker for resampling and export\n",
      "done with Sample45\n",
      "\n",
      "Predicting Sample46:\n",
      "perform_everything_on_device: True\n"
     ]
    },
    {
     "name": "stderr",
     "output_type": "stream",
     "text": [
      "100%|██████████| 8/8 [00:02<00:00,  3.13it/s]\n",
      "100%|██████████| 8/8 [00:02<00:00,  3.13it/s]\n",
      "100%|██████████| 8/8 [00:02<00:00,  3.13it/s]\n",
      "100%|██████████| 8/8 [00:02<00:00,  3.13it/s]\n",
      "100%|██████████| 8/8 [00:02<00:00,  3.13it/s]\n"
     ]
    },
    {
     "name": "stdout",
     "output_type": "stream",
     "text": [
      "sending off prediction to background worker for resampling and export\n",
      "done with Sample46\n",
      "\n",
      "Predicting Sample47:\n",
      "perform_everything_on_device: True\n"
     ]
    },
    {
     "name": "stderr",
     "output_type": "stream",
     "text": [
      "100%|██████████| 54/54 [00:18<00:00,  3.00it/s]\n",
      "100%|██████████| 54/54 [00:18<00:00,  3.00it/s]\n",
      "100%|██████████| 54/54 [00:18<00:00,  3.00it/s]\n",
      "100%|██████████| 54/54 [00:18<00:00,  3.00it/s]\n",
      "100%|██████████| 54/54 [00:18<00:00,  3.00it/s]\n"
     ]
    },
    {
     "name": "stdout",
     "output_type": "stream",
     "text": [
      "sending off prediction to background worker for resampling and export\n",
      "done with Sample47\n",
      "\n",
      "Predicting Sample48:\n",
      "perform_everything_on_device: True\n"
     ]
    },
    {
     "name": "stderr",
     "output_type": "stream",
     "text": [
      "100%|██████████| 8/8 [00:02<00:00,  3.13it/s]\n",
      "100%|██████████| 8/8 [00:02<00:00,  3.13it/s]\n",
      "100%|██████████| 8/8 [00:02<00:00,  3.13it/s]\n",
      "100%|██████████| 8/8 [00:02<00:00,  3.13it/s]\n",
      "100%|██████████| 8/8 [00:02<00:00,  3.13it/s]\n"
     ]
    },
    {
     "name": "stdout",
     "output_type": "stream",
     "text": [
      "sending off prediction to background worker for resampling and export\n",
      "done with Sample48\n",
      "\n",
      "Predicting Sample49:\n",
      "perform_everything_on_device: True\n"
     ]
    },
    {
     "name": "stderr",
     "output_type": "stream",
     "text": [
      "100%|██████████| 8/8 [00:02<00:00,  3.13it/s]\n",
      "100%|██████████| 8/8 [00:02<00:00,  3.13it/s]\n",
      "100%|██████████| 8/8 [00:02<00:00,  3.13it/s]\n",
      "100%|██████████| 8/8 [00:02<00:00,  3.13it/s]\n",
      "100%|██████████| 8/8 [00:02<00:00,  3.13it/s]\n"
     ]
    },
    {
     "name": "stdout",
     "output_type": "stream",
     "text": [
      "sending off prediction to background worker for resampling and export\n",
      "done with Sample49\n",
      "\n",
      "Predicting Sample5:\n",
      "perform_everything_on_device: True\n"
     ]
    },
    {
     "name": "stderr",
     "output_type": "stream",
     "text": [
      "100%|██████████| 8/8 [00:02<00:00,  3.13it/s]\n",
      "100%|██████████| 8/8 [00:02<00:00,  3.13it/s]\n",
      "100%|██████████| 8/8 [00:02<00:00,  3.13it/s]\n",
      "100%|██████████| 8/8 [00:02<00:00,  3.13it/s]\n",
      "100%|██████████| 8/8 [00:02<00:00,  3.13it/s]\n"
     ]
    },
    {
     "name": "stdout",
     "output_type": "stream",
     "text": [
      "sending off prediction to background worker for resampling and export\n",
      "done with Sample5\n",
      "\n",
      "Predicting Sample50:\n",
      "perform_everything_on_device: True\n"
     ]
    },
    {
     "name": "stderr",
     "output_type": "stream",
     "text": [
      "100%|██████████| 2/2 [00:00<00:00,  3.77it/s]\n",
      "100%|██████████| 2/2 [00:00<00:00,  3.79it/s]\n",
      "100%|██████████| 2/2 [00:00<00:00,  3.79it/s]\n",
      "100%|██████████| 2/2 [00:00<00:00,  3.79it/s]\n",
      "100%|██████████| 2/2 [00:00<00:00,  3.79it/s]\n"
     ]
    },
    {
     "name": "stdout",
     "output_type": "stream",
     "text": [
      "sending off prediction to background worker for resampling and export\n",
      "done with Sample50\n",
      "\n",
      "Predicting Sample51:\n",
      "perform_everything_on_device: True\n"
     ]
    },
    {
     "name": "stderr",
     "output_type": "stream",
     "text": [
      "100%|██████████| 8/8 [00:02<00:00,  3.13it/s]\n",
      "100%|██████████| 8/8 [00:02<00:00,  3.13it/s]\n",
      "100%|██████████| 8/8 [00:02<00:00,  3.13it/s]\n",
      "100%|██████████| 8/8 [00:02<00:00,  3.13it/s]\n",
      "100%|██████████| 8/8 [00:02<00:00,  3.13it/s]\n"
     ]
    },
    {
     "name": "stdout",
     "output_type": "stream",
     "text": [
      "sending off prediction to background worker for resampling and export\n",
      "done with Sample51\n",
      "\n",
      "Predicting Sample52:\n",
      "perform_everything_on_device: True\n"
     ]
    },
    {
     "name": "stderr",
     "output_type": "stream",
     "text": [
      "100%|██████████| 8/8 [00:02<00:00,  3.13it/s]\n",
      "100%|██████████| 8/8 [00:02<00:00,  3.13it/s]\n",
      "100%|██████████| 8/8 [00:02<00:00,  3.13it/s]\n",
      "100%|██████████| 8/8 [00:02<00:00,  3.13it/s]\n",
      "100%|██████████| 8/8 [00:02<00:00,  3.13it/s]\n"
     ]
    },
    {
     "name": "stdout",
     "output_type": "stream",
     "text": [
      "sending off prediction to background worker for resampling and export\n",
      "done with Sample52\n",
      "\n",
      "Predicting Sample53:\n",
      "perform_everything_on_device: True\n"
     ]
    },
    {
     "name": "stderr",
     "output_type": "stream",
     "text": [
      "100%|██████████| 2/2 [00:00<00:00,  3.78it/s]\n",
      "100%|██████████| 2/2 [00:00<00:00,  3.79it/s]\n",
      "100%|██████████| 2/2 [00:00<00:00,  3.79it/s]\n",
      "100%|██████████| 2/2 [00:00<00:00,  3.79it/s]\n",
      "100%|██████████| 2/2 [00:00<00:00,  3.76it/s]\n"
     ]
    },
    {
     "name": "stdout",
     "output_type": "stream",
     "text": [
      "sending off prediction to background worker for resampling and export\n",
      "done with Sample53\n",
      "\n",
      "Predicting Sample54:\n",
      "perform_everything_on_device: True\n"
     ]
    },
    {
     "name": "stderr",
     "output_type": "stream",
     "text": [
      "100%|██████████| 2/2 [00:00<00:00,  3.78it/s]\n",
      "100%|██████████| 2/2 [00:00<00:00,  3.77it/s]\n",
      "100%|██████████| 2/2 [00:00<00:00,  3.78it/s]\n",
      "100%|██████████| 2/2 [00:00<00:00,  3.79it/s]\n",
      "100%|██████████| 2/2 [00:00<00:00,  3.78it/s]\n"
     ]
    },
    {
     "name": "stdout",
     "output_type": "stream",
     "text": [
      "sending off prediction to background worker for resampling and export\n",
      "done with Sample54\n",
      "\n",
      "Predicting Sample55:\n",
      "perform_everything_on_device: True\n"
     ]
    },
    {
     "name": "stderr",
     "output_type": "stream",
     "text": [
      "100%|██████████| 8/8 [00:02<00:00,  3.13it/s]\n",
      "100%|██████████| 8/8 [00:02<00:00,  3.13it/s]\n",
      "100%|██████████| 8/8 [00:02<00:00,  3.13it/s]\n",
      "100%|██████████| 8/8 [00:02<00:00,  3.13it/s]\n",
      "100%|██████████| 8/8 [00:02<00:00,  3.13it/s]\n"
     ]
    },
    {
     "name": "stdout",
     "output_type": "stream",
     "text": [
      "sending off prediction to background worker for resampling and export\n",
      "done with Sample55\n",
      "\n",
      "Predicting Sample56:\n",
      "perform_everything_on_device: True\n"
     ]
    },
    {
     "name": "stderr",
     "output_type": "stream",
     "text": [
      "100%|██████████| 4/4 [00:01<00:00,  3.32it/s]\n",
      "100%|██████████| 4/4 [00:01<00:00,  3.32it/s]\n",
      "100%|██████████| 4/4 [00:01<00:00,  3.32it/s]\n",
      "100%|██████████| 4/4 [00:01<00:00,  3.32it/s]\n",
      "100%|██████████| 4/4 [00:01<00:00,  3.32it/s]\n"
     ]
    },
    {
     "name": "stdout",
     "output_type": "stream",
     "text": [
      "sending off prediction to background worker for resampling and export\n",
      "done with Sample56\n",
      "\n",
      "Predicting Sample57:\n",
      "perform_everything_on_device: True\n"
     ]
    },
    {
     "name": "stderr",
     "output_type": "stream",
     "text": [
      "100%|██████████| 4/4 [00:01<00:00,  3.32it/s]\n",
      "100%|██████████| 4/4 [00:01<00:00,  3.32it/s]\n",
      "100%|██████████| 4/4 [00:01<00:00,  3.32it/s]\n",
      "100%|██████████| 4/4 [00:01<00:00,  3.32it/s]\n",
      "100%|██████████| 4/4 [00:01<00:00,  3.32it/s]\n"
     ]
    },
    {
     "name": "stdout",
     "output_type": "stream",
     "text": [
      "sending off prediction to background worker for resampling and export\n",
      "done with Sample57\n",
      "\n",
      "Predicting Sample58:\n",
      "perform_everything_on_device: True\n"
     ]
    },
    {
     "name": "stderr",
     "output_type": "stream",
     "text": [
      "100%|██████████| 4/4 [00:01<00:00,  3.32it/s]\n",
      "100%|██████████| 4/4 [00:01<00:00,  3.32it/s]\n",
      "100%|██████████| 4/4 [00:01<00:00,  3.32it/s]\n",
      "100%|██████████| 4/4 [00:01<00:00,  3.32it/s]\n",
      "100%|██████████| 4/4 [00:01<00:00,  3.32it/s]\n"
     ]
    },
    {
     "name": "stdout",
     "output_type": "stream",
     "text": [
      "sending off prediction to background worker for resampling and export\n",
      "done with Sample58\n",
      "\n",
      "Predicting Sample59:\n",
      "perform_everything_on_device: True\n"
     ]
    },
    {
     "name": "stderr",
     "output_type": "stream",
     "text": [
      "100%|██████████| 4/4 [00:01<00:00,  3.32it/s]\n",
      "100%|██████████| 4/4 [00:01<00:00,  3.32it/s]\n",
      "100%|██████████| 4/4 [00:01<00:00,  3.32it/s]\n",
      "100%|██████████| 4/4 [00:01<00:00,  3.32it/s]\n",
      "100%|██████████| 4/4 [00:01<00:00,  3.32it/s]\n"
     ]
    },
    {
     "name": "stdout",
     "output_type": "stream",
     "text": [
      "sending off prediction to background worker for resampling and export\n",
      "done with Sample59\n",
      "\n",
      "Predicting Sample6:\n",
      "perform_everything_on_device: True\n"
     ]
    },
    {
     "name": "stderr",
     "output_type": "stream",
     "text": [
      "100%|██████████| 1/1 [00:00<00:00,  5.22it/s]\n",
      "100%|██████████| 1/1 [00:00<00:00,  5.24it/s]\n",
      "100%|██████████| 1/1 [00:00<00:00,  5.22it/s]\n",
      "100%|██████████| 1/1 [00:00<00:00,  5.26it/s]\n",
      "100%|██████████| 1/1 [00:00<00:00,  5.26it/s]\n"
     ]
    },
    {
     "name": "stdout",
     "output_type": "stream",
     "text": [
      "sending off prediction to background worker for resampling and export\n",
      "done with Sample6\n",
      "\n",
      "Predicting Sample60:\n",
      "perform_everything_on_device: True\n"
     ]
    },
    {
     "name": "stderr",
     "output_type": "stream",
     "text": [
      "100%|██████████| 8/8 [00:02<00:00,  3.13it/s]\n",
      "100%|██████████| 8/8 [00:02<00:00,  3.13it/s]\n",
      "100%|██████████| 8/8 [00:02<00:00,  3.13it/s]\n",
      "100%|██████████| 8/8 [00:02<00:00,  3.13it/s]\n",
      "100%|██████████| 8/8 [00:02<00:00,  3.13it/s]\n"
     ]
    },
    {
     "name": "stdout",
     "output_type": "stream",
     "text": [
      "sending off prediction to background worker for resampling and export\n",
      "done with Sample60\n",
      "\n",
      "Predicting Sample61:\n",
      "perform_everything_on_device: True\n"
     ]
    },
    {
     "name": "stderr",
     "output_type": "stream",
     "text": [
      "100%|██████████| 8/8 [00:02<00:00,  3.13it/s]\n",
      "100%|██████████| 8/8 [00:02<00:00,  3.13it/s]\n",
      "100%|██████████| 8/8 [00:02<00:00,  3.13it/s]\n",
      "100%|██████████| 8/8 [00:02<00:00,  3.13it/s]\n",
      "100%|██████████| 8/8 [00:02<00:00,  3.13it/s]\n"
     ]
    },
    {
     "name": "stdout",
     "output_type": "stream",
     "text": [
      "sending off prediction to background worker for resampling and export\n",
      "done with Sample61\n",
      "\n",
      "Predicting Sample62:\n",
      "perform_everything_on_device: True\n"
     ]
    },
    {
     "name": "stderr",
     "output_type": "stream",
     "text": [
      "100%|██████████| 2/2 [00:00<00:00,  3.78it/s]\n",
      "100%|██████████| 2/2 [00:00<00:00,  3.79it/s]\n",
      "100%|██████████| 2/2 [00:00<00:00,  3.79it/s]\n",
      "100%|██████████| 2/2 [00:00<00:00,  3.79it/s]\n",
      "100%|██████████| 2/2 [00:00<00:00,  3.79it/s]\n"
     ]
    },
    {
     "name": "stdout",
     "output_type": "stream",
     "text": [
      "sending off prediction to background worker for resampling and export\n",
      "done with Sample62\n",
      "\n",
      "Predicting Sample63:\n",
      "perform_everything_on_device: True\n"
     ]
    },
    {
     "name": "stderr",
     "output_type": "stream",
     "text": [
      "100%|██████████| 8/8 [00:02<00:00,  3.13it/s]\n",
      "100%|██████████| 8/8 [00:02<00:00,  3.13it/s]\n",
      "100%|██████████| 8/8 [00:02<00:00,  3.13it/s]\n",
      "100%|██████████| 8/8 [00:02<00:00,  3.13it/s]\n",
      "100%|██████████| 8/8 [00:02<00:00,  3.13it/s]\n"
     ]
    },
    {
     "name": "stdout",
     "output_type": "stream",
     "text": [
      "sending off prediction to background worker for resampling and export\n",
      "done with Sample63\n",
      "\n",
      "Predicting Sample64:\n",
      "perform_everything_on_device: True\n"
     ]
    },
    {
     "name": "stderr",
     "output_type": "stream",
     "text": [
      "100%|██████████| 8/8 [00:02<00:00,  3.13it/s]\n",
      "100%|██████████| 8/8 [00:02<00:00,  3.13it/s]\n",
      "100%|██████████| 8/8 [00:02<00:00,  3.13it/s]\n",
      "100%|██████████| 8/8 [00:02<00:00,  3.13it/s]\n",
      "100%|██████████| 8/8 [00:02<00:00,  3.13it/s]\n"
     ]
    },
    {
     "name": "stdout",
     "output_type": "stream",
     "text": [
      "sending off prediction to background worker for resampling and export\n",
      "done with Sample64\n",
      "\n",
      "Predicting Sample65:\n",
      "perform_everything_on_device: True\n"
     ]
    },
    {
     "name": "stderr",
     "output_type": "stream",
     "text": [
      "100%|██████████| 2/2 [00:00<00:00,  3.78it/s]\n",
      "100%|██████████| 2/2 [00:00<00:00,  3.79it/s]\n",
      "100%|██████████| 2/2 [00:00<00:00,  3.79it/s]\n",
      "100%|██████████| 2/2 [00:00<00:00,  3.79it/s]\n",
      "100%|██████████| 2/2 [00:00<00:00,  3.78it/s]\n"
     ]
    },
    {
     "name": "stdout",
     "output_type": "stream",
     "text": [
      "sending off prediction to background worker for resampling and export\n",
      "done with Sample65\n",
      "\n",
      "Predicting Sample66:\n",
      "perform_everything_on_device: True\n"
     ]
    },
    {
     "name": "stderr",
     "output_type": "stream",
     "text": [
      "100%|██████████| 4/4 [00:01<00:00,  3.32it/s]\n",
      "100%|██████████| 4/4 [00:01<00:00,  3.32it/s]\n",
      "100%|██████████| 4/4 [00:01<00:00,  3.28it/s]\n",
      "100%|██████████| 4/4 [00:01<00:00,  3.32it/s]\n",
      "100%|██████████| 4/4 [00:01<00:00,  3.32it/s]\n"
     ]
    },
    {
     "name": "stdout",
     "output_type": "stream",
     "text": [
      "sending off prediction to background worker for resampling and export\n",
      "done with Sample66\n",
      "\n",
      "Predicting Sample67:\n",
      "perform_everything_on_device: True\n"
     ]
    },
    {
     "name": "stderr",
     "output_type": "stream",
     "text": [
      "100%|██████████| 8/8 [00:02<00:00,  3.13it/s]\n",
      "100%|██████████| 8/8 [00:02<00:00,  3.13it/s]\n",
      "100%|██████████| 8/8 [00:02<00:00,  3.13it/s]\n",
      "100%|██████████| 8/8 [00:02<00:00,  3.13it/s]\n",
      "100%|██████████| 8/8 [00:02<00:00,  3.13it/s]\n"
     ]
    },
    {
     "name": "stdout",
     "output_type": "stream",
     "text": [
      "sending off prediction to background worker for resampling and export\n",
      "done with Sample67\n",
      "\n",
      "Predicting Sample68:\n",
      "perform_everything_on_device: True\n"
     ]
    },
    {
     "name": "stderr",
     "output_type": "stream",
     "text": [
      "100%|██████████| 8/8 [00:02<00:00,  3.13it/s]\n",
      "100%|██████████| 8/8 [00:02<00:00,  3.13it/s]\n",
      "100%|██████████| 8/8 [00:02<00:00,  3.13it/s]\n",
      "100%|██████████| 8/8 [00:02<00:00,  3.13it/s]\n",
      "100%|██████████| 8/8 [00:02<00:00,  3.13it/s]\n"
     ]
    },
    {
     "name": "stdout",
     "output_type": "stream",
     "text": [
      "sending off prediction to background worker for resampling and export\n",
      "done with Sample68\n",
      "\n",
      "Predicting Sample69:\n",
      "perform_everything_on_device: True\n"
     ]
    },
    {
     "name": "stderr",
     "output_type": "stream",
     "text": [
      "100%|██████████| 3/3 [00:00<00:00,  3.46it/s]\n",
      "100%|██████████| 3/3 [00:00<00:00,  3.46it/s]\n",
      "100%|██████████| 3/3 [00:00<00:00,  3.46it/s]\n",
      "100%|██████████| 3/3 [00:00<00:00,  3.46it/s]\n",
      "100%|██████████| 3/3 [00:00<00:00,  3.46it/s]\n"
     ]
    },
    {
     "name": "stdout",
     "output_type": "stream",
     "text": [
      "sending off prediction to background worker for resampling and export\n",
      "done with Sample69\n",
      "\n",
      "Predicting Sample7:\n",
      "perform_everything_on_device: True\n"
     ]
    },
    {
     "name": "stderr",
     "output_type": "stream",
     "text": [
      "100%|██████████| 8/8 [00:02<00:00,  3.13it/s]\n",
      "100%|██████████| 8/8 [00:02<00:00,  3.13it/s]\n",
      "100%|██████████| 8/8 [00:02<00:00,  3.13it/s]\n",
      "100%|██████████| 8/8 [00:02<00:00,  3.13it/s]\n",
      "100%|██████████| 8/8 [00:02<00:00,  3.13it/s]\n"
     ]
    },
    {
     "name": "stdout",
     "output_type": "stream",
     "text": [
      "sending off prediction to background worker for resampling and export\n",
      "done with Sample7\n",
      "\n",
      "Predicting Sample70:\n",
      "perform_everything_on_device: True\n"
     ]
    },
    {
     "name": "stderr",
     "output_type": "stream",
     "text": [
      "100%|██████████| 3/3 [00:00<00:00,  3.46it/s]\n",
      "100%|██████████| 3/3 [00:00<00:00,  3.46it/s]\n",
      "100%|██████████| 3/3 [00:00<00:00,  3.40it/s]\n",
      "100%|██████████| 3/3 [00:00<00:00,  3.46it/s]\n",
      "100%|██████████| 3/3 [00:00<00:00,  3.46it/s]\n"
     ]
    },
    {
     "name": "stdout",
     "output_type": "stream",
     "text": [
      "sending off prediction to background worker for resampling and export\n",
      "done with Sample70\n",
      "\n",
      "Predicting Sample71:\n",
      "perform_everything_on_device: True\n"
     ]
    },
    {
     "name": "stderr",
     "output_type": "stream",
     "text": [
      "100%|██████████| 3/3 [00:00<00:00,  3.46it/s]\n",
      "100%|██████████| 3/3 [00:00<00:00,  3.46it/s]\n",
      "100%|██████████| 3/3 [00:00<00:00,  3.46it/s]\n",
      "100%|██████████| 3/3 [00:00<00:00,  3.46it/s]\n",
      "100%|██████████| 3/3 [00:00<00:00,  3.46it/s]\n"
     ]
    },
    {
     "name": "stdout",
     "output_type": "stream",
     "text": [
      "sending off prediction to background worker for resampling and export\n",
      "done with Sample71\n",
      "\n",
      "Predicting Sample72:\n",
      "perform_everything_on_device: True\n"
     ]
    },
    {
     "name": "stderr",
     "output_type": "stream",
     "text": [
      "100%|██████████| 8/8 [00:02<00:00,  3.13it/s]\n",
      "100%|██████████| 8/8 [00:02<00:00,  3.13it/s]\n",
      "100%|██████████| 8/8 [00:02<00:00,  3.13it/s]\n",
      "100%|██████████| 8/8 [00:02<00:00,  3.13it/s]\n",
      "100%|██████████| 8/8 [00:02<00:00,  3.13it/s]\n"
     ]
    },
    {
     "name": "stdout",
     "output_type": "stream",
     "text": [
      "sending off prediction to background worker for resampling and export\n",
      "done with Sample72\n",
      "\n",
      "Predicting Sample73:\n",
      "perform_everything_on_device: True\n"
     ]
    },
    {
     "name": "stderr",
     "output_type": "stream",
     "text": [
      "100%|██████████| 8/8 [00:02<00:00,  3.13it/s]\n",
      "100%|██████████| 8/8 [00:02<00:00,  3.13it/s]\n",
      "100%|██████████| 8/8 [00:02<00:00,  3.13it/s]\n",
      "100%|██████████| 8/8 [00:02<00:00,  3.13it/s]\n",
      "100%|██████████| 8/8 [00:02<00:00,  3.13it/s]\n"
     ]
    },
    {
     "name": "stdout",
     "output_type": "stream",
     "text": [
      "sending off prediction to background worker for resampling and export\n",
      "done with Sample73\n",
      "\n",
      "Predicting Sample74:\n",
      "perform_everything_on_device: True\n"
     ]
    },
    {
     "name": "stderr",
     "output_type": "stream",
     "text": [
      "100%|██████████| 8/8 [00:02<00:00,  3.13it/s]\n",
      "100%|██████████| 8/8 [00:02<00:00,  3.13it/s]\n",
      "100%|██████████| 8/8 [00:02<00:00,  3.13it/s]\n",
      "100%|██████████| 8/8 [00:02<00:00,  3.13it/s]\n",
      "100%|██████████| 8/8 [00:02<00:00,  3.13it/s]\n"
     ]
    },
    {
     "name": "stdout",
     "output_type": "stream",
     "text": [
      "sending off prediction to background worker for resampling and export\n",
      "done with Sample74\n",
      "\n",
      "Predicting Sample75:\n",
      "perform_everything_on_device: True\n"
     ]
    },
    {
     "name": "stderr",
     "output_type": "stream",
     "text": [
      "100%|██████████| 2/2 [00:00<00:00,  3.78it/s]\n",
      "100%|██████████| 2/2 [00:00<00:00,  3.79it/s]\n",
      "100%|██████████| 2/2 [00:00<00:00,  3.79it/s]\n",
      "100%|██████████| 2/2 [00:00<00:00,  3.79it/s]\n",
      "100%|██████████| 2/2 [00:00<00:00,  3.78it/s]\n"
     ]
    },
    {
     "name": "stdout",
     "output_type": "stream",
     "text": [
      "sending off prediction to background worker for resampling and export\n",
      "done with Sample75\n",
      "\n",
      "Predicting Sample76:\n",
      "perform_everything_on_device: True\n"
     ]
    },
    {
     "name": "stderr",
     "output_type": "stream",
     "text": [
      "100%|██████████| 2/2 [00:00<00:00,  3.78it/s]\n",
      "100%|██████████| 2/2 [00:00<00:00,  3.78it/s]\n",
      "100%|██████████| 2/2 [00:00<00:00,  3.78it/s]\n",
      "100%|██████████| 2/2 [00:00<00:00,  3.77it/s]\n",
      "100%|██████████| 2/2 [00:00<00:00,  3.79it/s]\n"
     ]
    },
    {
     "name": "stdout",
     "output_type": "stream",
     "text": [
      "sending off prediction to background worker for resampling and export\n",
      "done with Sample76\n",
      "\n",
      "Predicting Sample77:\n",
      "perform_everything_on_device: True\n"
     ]
    },
    {
     "name": "stderr",
     "output_type": "stream",
     "text": [
      "100%|██████████| 8/8 [00:02<00:00,  3.13it/s]\n",
      "100%|██████████| 8/8 [00:02<00:00,  3.13it/s]\n",
      "100%|██████████| 8/8 [00:02<00:00,  3.13it/s]\n",
      "100%|██████████| 8/8 [00:02<00:00,  3.13it/s]\n",
      "100%|██████████| 8/8 [00:02<00:00,  3.13it/s]\n"
     ]
    },
    {
     "name": "stdout",
     "output_type": "stream",
     "text": [
      "sending off prediction to background worker for resampling and export\n",
      "done with Sample77\n",
      "\n",
      "Predicting Sample78:\n",
      "perform_everything_on_device: True\n"
     ]
    },
    {
     "name": "stderr",
     "output_type": "stream",
     "text": [
      "100%|██████████| 8/8 [00:02<00:00,  3.13it/s]\n",
      "100%|██████████| 8/8 [00:02<00:00,  3.13it/s]\n",
      "100%|██████████| 8/8 [00:02<00:00,  3.13it/s]\n",
      "100%|██████████| 8/8 [00:02<00:00,  3.13it/s]\n",
      "100%|██████████| 8/8 [00:02<00:00,  3.13it/s]\n"
     ]
    },
    {
     "name": "stdout",
     "output_type": "stream",
     "text": [
      "sending off prediction to background worker for resampling and export\n",
      "done with Sample78\n",
      "\n",
      "Predicting Sample79:\n",
      "perform_everything_on_device: True\n"
     ]
    },
    {
     "name": "stderr",
     "output_type": "stream",
     "text": [
      "100%|██████████| 8/8 [00:02<00:00,  3.13it/s]\n",
      "100%|██████████| 8/8 [00:02<00:00,  3.13it/s]\n",
      "100%|██████████| 8/8 [00:02<00:00,  3.13it/s]\n",
      "100%|██████████| 8/8 [00:02<00:00,  3.13it/s]\n",
      "100%|██████████| 8/8 [00:02<00:00,  3.13it/s]\n"
     ]
    },
    {
     "name": "stdout",
     "output_type": "stream",
     "text": [
      "sending off prediction to background worker for resampling and export\n",
      "done with Sample79\n",
      "\n",
      "Predicting Sample8:\n",
      "perform_everything_on_device: True\n"
     ]
    },
    {
     "name": "stderr",
     "output_type": "stream",
     "text": [
      "100%|██████████| 54/54 [00:18<00:00,  3.00it/s]\n",
      "100%|██████████| 54/54 [00:18<00:00,  3.00it/s]\n",
      "100%|██████████| 54/54 [00:18<00:00,  3.00it/s]\n",
      "100%|██████████| 54/54 [00:18<00:00,  3.00it/s]\n",
      "100%|██████████| 54/54 [00:18<00:00,  3.00it/s]\n"
     ]
    },
    {
     "name": "stdout",
     "output_type": "stream",
     "text": [
      "sending off prediction to background worker for resampling and export\n",
      "done with Sample8\n",
      "\n",
      "Predicting Sample80:\n",
      "perform_everything_on_device: True\n"
     ]
    },
    {
     "name": "stderr",
     "output_type": "stream",
     "text": [
      "100%|██████████| 2/2 [00:00<00:00,  3.77it/s]\n",
      "100%|██████████| 2/2 [00:00<00:00,  3.78it/s]\n",
      "100%|██████████| 2/2 [00:00<00:00,  3.78it/s]\n",
      "100%|██████████| 2/2 [00:00<00:00,  3.79it/s]\n",
      "100%|██████████| 2/2 [00:00<00:00,  3.79it/s]\n"
     ]
    },
    {
     "name": "stdout",
     "output_type": "stream",
     "text": [
      "sending off prediction to background worker for resampling and export\n",
      "done with Sample80\n",
      "\n",
      "Predicting Sample81:\n",
      "perform_everything_on_device: True\n"
     ]
    },
    {
     "name": "stderr",
     "output_type": "stream",
     "text": [
      "100%|██████████| 12/12 [00:03<00:00,  3.07it/s]\n",
      "100%|██████████| 12/12 [00:03<00:00,  3.07it/s]\n",
      "100%|██████████| 12/12 [00:03<00:00,  3.07it/s]\n",
      "100%|██████████| 12/12 [00:03<00:00,  3.07it/s]\n",
      "100%|██████████| 12/12 [00:03<00:00,  3.07it/s]\n"
     ]
    },
    {
     "name": "stdout",
     "output_type": "stream",
     "text": [
      "sending off prediction to background worker for resampling and export\n",
      "done with Sample81\n",
      "\n",
      "Predicting Sample82:\n",
      "perform_everything_on_device: True\n"
     ]
    },
    {
     "name": "stderr",
     "output_type": "stream",
     "text": [
      "100%|██████████| 4/4 [00:01<00:00,  3.31it/s]\n",
      "100%|██████████| 4/4 [00:01<00:00,  3.32it/s]\n",
      "100%|██████████| 4/4 [00:01<00:00,  3.32it/s]\n",
      "100%|██████████| 4/4 [00:01<00:00,  3.32it/s]\n",
      "100%|██████████| 4/4 [00:01<00:00,  3.32it/s]\n"
     ]
    },
    {
     "name": "stdout",
     "output_type": "stream",
     "text": [
      "sending off prediction to background worker for resampling and export\n",
      "done with Sample82\n",
      "\n",
      "Predicting Sample83:\n",
      "perform_everything_on_device: True\n"
     ]
    },
    {
     "name": "stderr",
     "output_type": "stream",
     "text": [
      "100%|██████████| 8/8 [00:02<00:00,  3.13it/s]\n",
      "100%|██████████| 8/8 [00:02<00:00,  3.13it/s]\n",
      "100%|██████████| 8/8 [00:02<00:00,  3.13it/s]\n",
      "100%|██████████| 8/8 [00:02<00:00,  3.13it/s]\n",
      "100%|██████████| 8/8 [00:02<00:00,  3.13it/s]\n"
     ]
    },
    {
     "name": "stdout",
     "output_type": "stream",
     "text": [
      "sending off prediction to background worker for resampling and export\n",
      "done with Sample83\n",
      "\n",
      "Predicting Sample84:\n",
      "perform_everything_on_device: True\n"
     ]
    },
    {
     "name": "stderr",
     "output_type": "stream",
     "text": [
      "100%|██████████| 8/8 [00:02<00:00,  3.13it/s]\n",
      "100%|██████████| 8/8 [00:02<00:00,  3.13it/s]\n",
      "100%|██████████| 8/8 [00:02<00:00,  3.13it/s]\n",
      "100%|██████████| 8/8 [00:02<00:00,  3.13it/s]\n",
      "100%|██████████| 8/8 [00:02<00:00,  3.13it/s]\n"
     ]
    },
    {
     "name": "stdout",
     "output_type": "stream",
     "text": [
      "sending off prediction to background worker for resampling and export\n",
      "done with Sample84\n",
      "\n",
      "Predicting Sample85:\n",
      "perform_everything_on_device: True\n"
     ]
    },
    {
     "name": "stderr",
     "output_type": "stream",
     "text": [
      "100%|██████████| 8/8 [00:02<00:00,  3.13it/s]\n",
      "100%|██████████| 8/8 [00:02<00:00,  3.13it/s]\n",
      "100%|██████████| 8/8 [00:02<00:00,  3.13it/s]\n",
      "100%|██████████| 8/8 [00:02<00:00,  3.13it/s]\n",
      "100%|██████████| 8/8 [00:02<00:00,  3.13it/s]\n"
     ]
    },
    {
     "name": "stdout",
     "output_type": "stream",
     "text": [
      "sending off prediction to background worker for resampling and export\n",
      "done with Sample85\n",
      "\n",
      "Predicting Sample86:\n",
      "perform_everything_on_device: True\n"
     ]
    },
    {
     "name": "stderr",
     "output_type": "stream",
     "text": [
      "100%|██████████| 8/8 [00:02<00:00,  3.13it/s]\n",
      "100%|██████████| 8/8 [00:02<00:00,  3.13it/s]\n",
      "100%|██████████| 8/8 [00:02<00:00,  3.13it/s]\n",
      "100%|██████████| 8/8 [00:02<00:00,  3.13it/s]\n",
      "100%|██████████| 8/8 [00:02<00:00,  3.13it/s]\n"
     ]
    },
    {
     "name": "stdout",
     "output_type": "stream",
     "text": [
      "sending off prediction to background worker for resampling and export\n",
      "done with Sample86\n",
      "\n",
      "Predicting Sample87:\n",
      "perform_everything_on_device: True\n"
     ]
    },
    {
     "name": "stderr",
     "output_type": "stream",
     "text": [
      "100%|██████████| 8/8 [00:02<00:00,  3.13it/s]\n",
      "100%|██████████| 8/8 [00:02<00:00,  3.13it/s]\n",
      "100%|██████████| 8/8 [00:02<00:00,  3.13it/s]\n",
      "100%|██████████| 8/8 [00:02<00:00,  3.13it/s]\n",
      "100%|██████████| 8/8 [00:02<00:00,  3.13it/s]\n"
     ]
    },
    {
     "name": "stdout",
     "output_type": "stream",
     "text": [
      "sending off prediction to background worker for resampling and export\n",
      "done with Sample87\n",
      "\n",
      "Predicting Sample88:\n",
      "perform_everything_on_device: True\n"
     ]
    },
    {
     "name": "stderr",
     "output_type": "stream",
     "text": [
      "100%|██████████| 2/2 [00:00<00:00,  3.78it/s]\n",
      "100%|██████████| 2/2 [00:00<00:00,  3.79it/s]\n",
      "100%|██████████| 2/2 [00:00<00:00,  3.79it/s]\n",
      "100%|██████████| 2/2 [00:00<00:00,  3.79it/s]\n",
      "100%|██████████| 2/2 [00:00<00:00,  3.79it/s]\n"
     ]
    },
    {
     "name": "stdout",
     "output_type": "stream",
     "text": [
      "sending off prediction to background worker for resampling and export\n",
      "done with Sample88\n",
      "\n",
      "Predicting Sample89:\n",
      "perform_everything_on_device: True\n"
     ]
    },
    {
     "name": "stderr",
     "output_type": "stream",
     "text": [
      "100%|██████████| 2/2 [00:00<00:00,  3.79it/s]\n",
      "100%|██████████| 2/2 [00:00<00:00,  3.79it/s]\n",
      "100%|██████████| 2/2 [00:00<00:00,  3.79it/s]\n",
      "100%|██████████| 2/2 [00:00<00:00,  3.79it/s]\n",
      "100%|██████████| 2/2 [00:00<00:00,  3.79it/s]\n"
     ]
    },
    {
     "name": "stdout",
     "output_type": "stream",
     "text": [
      "sending off prediction to background worker for resampling and export\n",
      "done with Sample89\n",
      "\n",
      "Predicting Sample9:\n",
      "perform_everything_on_device: True\n"
     ]
    },
    {
     "name": "stderr",
     "output_type": "stream",
     "text": [
      "100%|██████████| 2/2 [00:00<00:00,  3.78it/s]\n",
      "100%|██████████| 2/2 [00:00<00:00,  3.74it/s]\n",
      "100%|██████████| 2/2 [00:00<00:00,  3.79it/s]\n",
      "100%|██████████| 2/2 [00:00<00:00,  3.78it/s]\n",
      "100%|██████████| 2/2 [00:00<00:00,  3.78it/s]\n"
     ]
    },
    {
     "name": "stdout",
     "output_type": "stream",
     "text": [
      "sending off prediction to background worker for resampling and export\n",
      "done with Sample9\n",
      "\n",
      "Predicting Sample90:\n",
      "perform_everything_on_device: True\n"
     ]
    },
    {
     "name": "stderr",
     "output_type": "stream",
     "text": [
      "100%|██████████| 4/4 [00:01<00:00,  3.32it/s]\n",
      "100%|██████████| 4/4 [00:01<00:00,  3.32it/s]\n",
      "100%|██████████| 4/4 [00:01<00:00,  3.32it/s]\n",
      "100%|██████████| 4/4 [00:01<00:00,  3.32it/s]\n",
      "100%|██████████| 4/4 [00:01<00:00,  3.32it/s]\n"
     ]
    },
    {
     "name": "stdout",
     "output_type": "stream",
     "text": [
      "sending off prediction to background worker for resampling and export\n",
      "done with Sample90\n",
      "\n",
      "Predicting Sample91:\n",
      "perform_everything_on_device: True\n"
     ]
    },
    {
     "name": "stderr",
     "output_type": "stream",
     "text": [
      "100%|██████████| 4/4 [00:01<00:00,  3.32it/s]\n",
      "100%|██████████| 4/4 [00:01<00:00,  3.32it/s]\n",
      "100%|██████████| 4/4 [00:01<00:00,  3.32it/s]\n",
      "100%|██████████| 4/4 [00:01<00:00,  3.32it/s]\n",
      "100%|██████████| 4/4 [00:01<00:00,  3.32it/s]\n"
     ]
    },
    {
     "name": "stdout",
     "output_type": "stream",
     "text": [
      "sending off prediction to background worker for resampling and export\n",
      "done with Sample91\n",
      "\n",
      "Predicting Sample92:\n",
      "perform_everything_on_device: True\n"
     ]
    },
    {
     "name": "stderr",
     "output_type": "stream",
     "text": [
      "100%|██████████| 2/2 [00:00<00:00,  3.79it/s]\n",
      "100%|██████████| 2/2 [00:00<00:00,  3.79it/s]\n",
      "100%|██████████| 2/2 [00:00<00:00,  3.79it/s]\n",
      "100%|██████████| 2/2 [00:00<00:00,  3.79it/s]\n",
      "100%|██████████| 2/2 [00:00<00:00,  3.79it/s]\n"
     ]
    },
    {
     "name": "stdout",
     "output_type": "stream",
     "text": [
      "sending off prediction to background worker for resampling and export\n",
      "done with Sample92\n",
      "\n",
      "Predicting Sample93:\n",
      "perform_everything_on_device: True\n"
     ]
    },
    {
     "name": "stderr",
     "output_type": "stream",
     "text": [
      "100%|██████████| 2/2 [00:00<00:00,  3.78it/s]\n",
      "100%|██████████| 2/2 [00:00<00:00,  3.79it/s]\n",
      "100%|██████████| 2/2 [00:00<00:00,  3.79it/s]\n",
      "100%|██████████| 2/2 [00:00<00:00,  3.79it/s]\n",
      "100%|██████████| 2/2 [00:00<00:00,  3.79it/s]\n"
     ]
    },
    {
     "name": "stdout",
     "output_type": "stream",
     "text": [
      "sending off prediction to background worker for resampling and export\n",
      "done with Sample93\n",
      "\n",
      "Predicting Sample94:\n",
      "perform_everything_on_device: True\n"
     ]
    },
    {
     "name": "stderr",
     "output_type": "stream",
     "text": [
      "100%|██████████| 2/2 [00:00<00:00,  3.79it/s]\n",
      "100%|██████████| 2/2 [00:00<00:00,  3.79it/s]\n",
      "100%|██████████| 2/2 [00:00<00:00,  3.78it/s]\n",
      "100%|██████████| 2/2 [00:00<00:00,  3.79it/s]\n",
      "100%|██████████| 2/2 [00:00<00:00,  3.79it/s]\n"
     ]
    },
    {
     "name": "stdout",
     "output_type": "stream",
     "text": [
      "sending off prediction to background worker for resampling and export\n",
      "done with Sample94\n",
      "\n",
      "Predicting Sample95:\n",
      "perform_everything_on_device: True\n"
     ]
    },
    {
     "name": "stderr",
     "output_type": "stream",
     "text": [
      "100%|██████████| 2/2 [00:00<00:00,  3.78it/s]\n",
      "100%|██████████| 2/2 [00:00<00:00,  3.79it/s]\n",
      "100%|██████████| 2/2 [00:00<00:00,  3.79it/s]\n",
      "100%|██████████| 2/2 [00:00<00:00,  3.78it/s]\n",
      "100%|██████████| 2/2 [00:00<00:00,  3.79it/s]\n"
     ]
    },
    {
     "name": "stdout",
     "output_type": "stream",
     "text": [
      "sending off prediction to background worker for resampling and export\n",
      "done with Sample95\n",
      "\n",
      "Predicting Sample96:\n",
      "perform_everything_on_device: True\n"
     ]
    },
    {
     "name": "stderr",
     "output_type": "stream",
     "text": [
      "100%|██████████| 2/2 [00:00<00:00,  3.79it/s]\n",
      "100%|██████████| 2/2 [00:00<00:00,  3.78it/s]\n",
      "100%|██████████| 2/2 [00:00<00:00,  3.79it/s]\n",
      "100%|██████████| 2/2 [00:00<00:00,  3.79it/s]\n",
      "100%|██████████| 2/2 [00:00<00:00,  3.77it/s]\n"
     ]
    },
    {
     "name": "stdout",
     "output_type": "stream",
     "text": [
      "sending off prediction to background worker for resampling and export\n",
      "done with Sample96\n",
      "\n",
      "Predicting Sample97:\n",
      "perform_everything_on_device: True\n"
     ]
    },
    {
     "name": "stderr",
     "output_type": "stream",
     "text": [
      "100%|██████████| 2/2 [00:00<00:00,  3.78it/s]\n",
      "100%|██████████| 2/2 [00:00<00:00,  3.79it/s]\n",
      "100%|██████████| 2/2 [00:00<00:00,  3.79it/s]\n",
      "100%|██████████| 2/2 [00:00<00:00,  3.79it/s]\n",
      "100%|██████████| 2/2 [00:00<00:00,  3.79it/s]\n"
     ]
    },
    {
     "name": "stdout",
     "output_type": "stream",
     "text": [
      "sending off prediction to background worker for resampling and export\n",
      "done with Sample97\n",
      "\n",
      "Predicting Sample98:\n",
      "perform_everything_on_device: True\n"
     ]
    },
    {
     "name": "stderr",
     "output_type": "stream",
     "text": [
      "100%|██████████| 2/2 [00:00<00:00,  3.78it/s]\n",
      "100%|██████████| 2/2 [00:00<00:00,  3.79it/s]\n",
      "100%|██████████| 2/2 [00:00<00:00,  3.79it/s]\n",
      "100%|██████████| 2/2 [00:00<00:00,  3.79it/s]\n",
      "100%|██████████| 2/2 [00:00<00:00,  3.79it/s]\n"
     ]
    },
    {
     "name": "stdout",
     "output_type": "stream",
     "text": [
      "sending off prediction to background worker for resampling and export\n",
      "done with Sample98\n",
      "\n",
      "Predicting Sample99:\n",
      "perform_everything_on_device: True\n"
     ]
    },
    {
     "name": "stderr",
     "output_type": "stream",
     "text": [
      "100%|██████████| 8/8 [00:02<00:00,  3.13it/s]\n",
      "100%|██████████| 8/8 [00:02<00:00,  3.13it/s]\n",
      "100%|██████████| 8/8 [00:02<00:00,  3.13it/s]\n",
      "100%|██████████| 8/8 [00:02<00:00,  3.13it/s]\n",
      "100%|██████████| 8/8 [00:02<00:00,  3.13it/s]\n"
     ]
    },
    {
     "name": "stdout",
     "output_type": "stream",
     "text": [
      "sending off prediction to background worker for resampling and export\n",
      "done with Sample99\n"
     ]
    },
    {
     "data": {
      "text/plain": [
       "[None,\n",
       " None,\n",
       " None,\n",
       " None,\n",
       " None,\n",
       " None,\n",
       " None,\n",
       " None,\n",
       " None,\n",
       " None,\n",
       " None,\n",
       " None,\n",
       " None,\n",
       " None,\n",
       " None,\n",
       " None,\n",
       " None,\n",
       " None,\n",
       " None,\n",
       " None,\n",
       " None,\n",
       " None,\n",
       " None,\n",
       " None,\n",
       " None,\n",
       " None,\n",
       " None,\n",
       " None,\n",
       " None,\n",
       " None,\n",
       " None,\n",
       " None,\n",
       " None,\n",
       " None,\n",
       " None,\n",
       " None,\n",
       " None,\n",
       " None,\n",
       " None,\n",
       " None,\n",
       " None,\n",
       " None,\n",
       " None,\n",
       " None,\n",
       " None,\n",
       " None,\n",
       " None,\n",
       " None,\n",
       " None,\n",
       " None,\n",
       " None,\n",
       " None,\n",
       " None,\n",
       " None,\n",
       " None,\n",
       " None,\n",
       " None,\n",
       " None,\n",
       " None,\n",
       " None,\n",
       " None,\n",
       " None,\n",
       " None,\n",
       " None,\n",
       " None,\n",
       " None,\n",
       " None,\n",
       " None,\n",
       " None,\n",
       " None,\n",
       " None,\n",
       " None,\n",
       " None,\n",
       " None,\n",
       " None,\n",
       " None,\n",
       " None,\n",
       " None,\n",
       " None,\n",
       " None,\n",
       " None,\n",
       " None,\n",
       " None,\n",
       " None,\n",
       " None,\n",
       " None,\n",
       " None,\n",
       " None,\n",
       " None,\n",
       " None,\n",
       " None,\n",
       " None,\n",
       " None,\n",
       " None,\n",
       " None,\n",
       " None,\n",
       " None,\n",
       " None,\n",
       " None,\n",
       " None,\n",
       " None,\n",
       " None,\n",
       " None,\n",
       " None,\n",
       " None,\n",
       " None,\n",
       " None,\n",
       " None,\n",
       " None,\n",
       " None,\n",
       " None,\n",
       " None,\n",
       " None,\n",
       " None,\n",
       " None,\n",
       " None,\n",
       " None,\n",
       " None,\n",
       " None,\n",
       " None,\n",
       " None,\n",
       " None,\n",
       " None,\n",
       " None,\n",
       " None,\n",
       " None,\n",
       " None,\n",
       " None,\n",
       " None,\n",
       " None,\n",
       " None,\n",
       " None,\n",
       " None,\n",
       " None,\n",
       " None,\n",
       " None,\n",
       " None,\n",
       " None,\n",
       " None,\n",
       " None,\n",
       " None,\n",
       " None,\n",
       " None,\n",
       " None,\n",
       " None,\n",
       " None,\n",
       " None,\n",
       " None,\n",
       " None,\n",
       " None,\n",
       " None,\n",
       " None,\n",
       " None,\n",
       " None,\n",
       " None,\n",
       " None,\n",
       " None,\n",
       " None,\n",
       " None,\n",
       " None,\n",
       " None,\n",
       " None,\n",
       " None,\n",
       " None,\n",
       " None,\n",
       " None,\n",
       " None,\n",
       " None,\n",
       " None,\n",
       " None,\n",
       " None,\n",
       " None,\n",
       " None,\n",
       " None,\n",
       " None,\n",
       " None,\n",
       " None,\n",
       " None,\n",
       " None,\n",
       " None,\n",
       " None,\n",
       " None,\n",
       " None,\n",
       " None,\n",
       " None,\n",
       " None,\n",
       " None,\n",
       " None,\n",
       " None,\n",
       " None,\n",
       " None,\n",
       " None,\n",
       " None,\n",
       " None,\n",
       " None,\n",
       " None,\n",
       " None,\n",
       " None,\n",
       " None,\n",
       " None,\n",
       " None,\n",
       " None,\n",
       " None,\n",
       " None,\n",
       " None,\n",
       " None,\n",
       " None,\n",
       " None,\n",
       " None,\n",
       " None,\n",
       " None,\n",
       " None,\n",
       " None,\n",
       " None,\n",
       " None,\n",
       " None,\n",
       " None]"
      ]
     },
     "execution_count": 264,
     "metadata": {},
     "output_type": "execute_result"
    }
   ],
   "source": [
    "# Save Segmentations\n",
    "predictor.predict_from_files(folder_images,\n",
    "                            pred_outdir,\n",
    "                            save_probabilities=False, overwrite=False,\n",
    "                            num_processes_preprocessing=2, num_processes_segmentation_export=2,\n",
    "                            folder_with_segs_from_prev_stage=None, num_parts=1, part_id=0)"
   ]
  },
  {
   "cell_type": "code",
   "execution_count": 282,
   "metadata": {},
   "outputs": [],
   "source": [
    "# Move predicted masks to the original folder with the name of the original image\n",
    "directory = '/nvmescratch/ceib/Prostate/Bounding_Boxes/p0052021/Prostate_Segmentation_AI'\n",
    "pred_outdir = \"Prostate_Cancer_TFM/Prostate_Segmentation/sample_images/tmp_predictions\"\n",
    "\n",
    "associated_paths['Path_Segmentation'] = [os.path.join(directory, *path.split('/')[-5:]) for path in associated_paths['original_path']]\n",
    "\n",
    "\n",
    "for i, row in associated_paths.iterrows():\n",
    "\n",
    "    path_prediction = os.path.join(pred_outdir, f\"Sample{i}.nii.gz\")\n",
    "\n",
    "    new_path = row['Path_Segmentation']\n",
    "\n",
    "    # Extract the directory part of the new path\n",
    "    new_directory = os.path.dirname(new_path)\n",
    "\n",
    "    # Create the new directory if it doesn't exist\n",
    "    if not os.path.exists(new_directory):\n",
    "        os.makedirs(new_directory)\n",
    "    \n",
    "    shutil.copy(path_prediction,new_path)"
   ]
  },
  {
   "cell_type": "code",
   "execution_count": 278,
   "metadata": {},
   "outputs": [],
   "source": [
    "# Remove temporal folders\n",
    "shutil.rmtree(tmp_folder_imgs)\n",
    "shutil.rmtree(tmp_folder_preds)\n",
    "\n"
   ]
  },
  {
   "cell_type": "code",
   "execution_count": 283,
   "metadata": {},
   "outputs": [],
   "source": [
    "# Associate df_bounding_boxes with the predictions\n",
    "\n",
    "df_merged = pd.merge(df_bounding_boxes, associated_paths, left_on='image_nifti', right_on='original_path', how='left')\n",
    "df_merged = df_merged.drop(columns=['original_path', 'path_nnunet'])\n"
   ]
  },
  {
   "cell_type": "code",
   "execution_count": 284,
   "metadata": {},
   "outputs": [
    {
     "data": {
      "text/html": [
       "<div>\n",
       "<style scoped>\n",
       "    .dataframe tbody tr th:only-of-type {\n",
       "        vertical-align: middle;\n",
       "    }\n",
       "\n",
       "    .dataframe tbody tr th {\n",
       "        vertical-align: top;\n",
       "    }\n",
       "\n",
       "    .dataframe thead th {\n",
       "        text-align: right;\n",
       "    }\n",
       "</style>\n",
       "<table border=\"1\" class=\"dataframe\">\n",
       "  <thead>\n",
       "    <tr style=\"text-align: right;\">\n",
       "      <th></th>\n",
       "      <th>subject</th>\n",
       "      <th>session</th>\n",
       "      <th>image</th>\n",
       "      <th>image_associated</th>\n",
       "      <th>bounding_box</th>\n",
       "      <th>SeriesDescription</th>\n",
       "      <th>image_nifti</th>\n",
       "      <th>bval</th>\n",
       "      <th>bvec</th>\n",
       "      <th>modality</th>\n",
       "      <th>Path_Segmentation</th>\n",
       "    </tr>\n",
       "  </thead>\n",
       "  <tbody>\n",
       "    <tr>\n",
       "      <th>0</th>\n",
       "      <td>5586</td>\n",
       "      <td>6040</td>\n",
       "      <td>p0052021/005586/006040/8/DICOM</td>\n",
       "      <td>p0052021/005586/006040/8/DICOM</td>\n",
       "      <td>p0052021/005586/006040/SEG_20240113_205302_952...</td>\n",
       "      <td>ax T2</td>\n",
       "      <td>/nvmescratch/ceib/Prostate/Bounding_Boxes/p005...</td>\n",
       "      <td>NaN</td>\n",
       "      <td>NaN</td>\n",
       "      <td>T2</td>\n",
       "      <td>/nvmescratch/ceib/Prostate/Bounding_Boxes/p005...</td>\n",
       "    </tr>\n",
       "    <tr>\n",
       "      <th>1</th>\n",
       "      <td>5586</td>\n",
       "      <td>6040</td>\n",
       "      <td>p0052021/005586/006040/7/DICOM</td>\n",
       "      <td>p0052021/005586/006040/7/DICOM</td>\n",
       "      <td>p0052021/005586/006040/SEG_20240113_205223_953...</td>\n",
       "      <td>Ax T2 ADENOPATIAS</td>\n",
       "      <td>/nvmescratch/ceib/Prostate/Bounding_Boxes/p005...</td>\n",
       "      <td>NaN</td>\n",
       "      <td>NaN</td>\n",
       "      <td>T2</td>\n",
       "      <td>/nvmescratch/ceib/Prostate/Bounding_Boxes/p005...</td>\n",
       "    </tr>\n",
       "    <tr>\n",
       "      <th>2</th>\n",
       "      <td>5596</td>\n",
       "      <td>6050</td>\n",
       "      <td>p0052021/005596/006050/13001/DICOM</td>\n",
       "      <td>p0052021/005596/006050/13001/DICOM</td>\n",
       "      <td>p0052021/005596/006050/SEG_20240113_211223_114...</td>\n",
       "      <td>AXIAL T2 TSE</td>\n",
       "      <td>/nvmescratch/ceib/Prostate/Bounding_Boxes/p005...</td>\n",
       "      <td>NaN</td>\n",
       "      <td>NaN</td>\n",
       "      <td>T2</td>\n",
       "      <td>/nvmescratch/ceib/Prostate/Bounding_Boxes/p005...</td>\n",
       "    </tr>\n",
       "    <tr>\n",
       "      <th>3</th>\n",
       "      <td>5700</td>\n",
       "      <td>6173</td>\n",
       "      <td>p0052021/005700/006173/9/DICOM</td>\n",
       "      <td>p0052021/005700/006173/9/DICOM</td>\n",
       "      <td>p0052021/005700/006173/SEG_20240113_211959_757...</td>\n",
       "      <td>AXIAL DW 1500 PROSTATA</td>\n",
       "      <td>/nvmescratch/ceib/Prostate/Bounding_Boxes/p005...</td>\n",
       "      <td>NaN</td>\n",
       "      <td>NaN</td>\n",
       "      <td>DWI</td>\n",
       "      <td>NaN</td>\n",
       "    </tr>\n",
       "    <tr>\n",
       "      <th>4</th>\n",
       "      <td>5700</td>\n",
       "      <td>6173</td>\n",
       "      <td>p0052021/005700/006173/7/DICOM</td>\n",
       "      <td>p0052021/005700/006173/7/DICOM</td>\n",
       "      <td>p0052021/005700/006173/SEG_20240113_211927_274...</td>\n",
       "      <td>AXIAL DW 1000 PROSTATA</td>\n",
       "      <td>/nvmescratch/ceib/Prostate/Bounding_Boxes/p005...</td>\n",
       "      <td>NaN</td>\n",
       "      <td>NaN</td>\n",
       "      <td>DWI</td>\n",
       "      <td>NaN</td>\n",
       "    </tr>\n",
       "    <tr>\n",
       "      <th>...</th>\n",
       "      <td>...</td>\n",
       "      <td>...</td>\n",
       "      <td>...</td>\n",
       "      <td>...</td>\n",
       "      <td>...</td>\n",
       "      <td>...</td>\n",
       "      <td>...</td>\n",
       "      <td>...</td>\n",
       "      <td>...</td>\n",
       "      <td>...</td>\n",
       "      <td>...</td>\n",
       "    </tr>\n",
       "    <tr>\n",
       "      <th>530</th>\n",
       "      <td>5646</td>\n",
       "      <td>6108</td>\n",
       "      <td>p0052021/005646/006108/4/DICOM</td>\n",
       "      <td>p0052021/005646/006108/4/DICOM</td>\n",
       "      <td>p0052021/005646/006108/SEG_20240113_210039_451...</td>\n",
       "      <td>AXI PELVIS DWI B50-800</td>\n",
       "      <td>/nvmescratch/ceib/Prostate/Bounding_Boxes/p005...</td>\n",
       "      <td>NaN</td>\n",
       "      <td>NaN</td>\n",
       "      <td>DWI</td>\n",
       "      <td>NaN</td>\n",
       "    </tr>\n",
       "    <tr>\n",
       "      <th>531</th>\n",
       "      <td>5646</td>\n",
       "      <td>6108</td>\n",
       "      <td>p0052021/005646/006108/1050/DICOM</td>\n",
       "      <td>p0052021/005646/006108/1050/DICOM</td>\n",
       "      <td>p0052021/005646/006108/SEG_20240113_205921_383...</td>\n",
       "      <td>ADC (10^-6 mm²/s):Nov 26 2019 16-59-11 CET</td>\n",
       "      <td>/nvmescratch/ceib/Prostate/Bounding_Boxes/p005...</td>\n",
       "      <td>NaN</td>\n",
       "      <td>NaN</td>\n",
       "      <td>ADC</td>\n",
       "      <td>NaN</td>\n",
       "    </tr>\n",
       "    <tr>\n",
       "      <th>532</th>\n",
       "      <td>5646</td>\n",
       "      <td>6108</td>\n",
       "      <td>p0052021/005646/006108/1000/DICOM</td>\n",
       "      <td>p0052021/005646/006108/1000/DICOM</td>\n",
       "      <td>p0052021/005646/006108/SEG_20240113_205854_334...</td>\n",
       "      <td>DW_Synthetic: Ax FOCUS B-50-800 Synthetic B-2000</td>\n",
       "      <td>/nvmescratch/ceib/Prostate/Bounding_Boxes/p005...</td>\n",
       "      <td>NaN</td>\n",
       "      <td>NaN</td>\n",
       "      <td>DWI</td>\n",
       "      <td>NaN</td>\n",
       "    </tr>\n",
       "    <tr>\n",
       "      <th>533</th>\n",
       "      <td>5399</td>\n",
       "      <td>5819</td>\n",
       "      <td>p0052021/005399/005819/701/DICOM</td>\n",
       "      <td>p0052021/005399/005819/701/DICOM</td>\n",
       "      <td>p0052021/005399/005819/SEG_20240109_114231_571...</td>\n",
       "      <td>T2W_TSE</td>\n",
       "      <td>/nvmescratch/ceib/Prostate/Bounding_Boxes/p005...</td>\n",
       "      <td>NaN</td>\n",
       "      <td>NaN</td>\n",
       "      <td>T2</td>\n",
       "      <td>/nvmescratch/ceib/Prostate/Bounding_Boxes/p005...</td>\n",
       "    </tr>\n",
       "    <tr>\n",
       "      <th>534</th>\n",
       "      <td>5399</td>\n",
       "      <td>5819</td>\n",
       "      <td>p0052021/005399/005819/401/DICOM</td>\n",
       "      <td>p0052021/005399/005819/401/DICOM</td>\n",
       "      <td>p0052021/005399/005819/SEG_20240109_114054_657...</td>\n",
       "      <td>T2W FAST TRA</td>\n",
       "      <td>/nvmescratch/ceib/Prostate/Bounding_Boxes/p005...</td>\n",
       "      <td>NaN</td>\n",
       "      <td>NaN</td>\n",
       "      <td>T2</td>\n",
       "      <td>/nvmescratch/ceib/Prostate/Bounding_Boxes/p005...</td>\n",
       "    </tr>\n",
       "  </tbody>\n",
       "</table>\n",
       "<p>535 rows × 11 columns</p>\n",
       "</div>"
      ],
      "text/plain": [
       "     subject  session                               image  \\\n",
       "0       5586     6040      p0052021/005586/006040/8/DICOM   \n",
       "1       5586     6040      p0052021/005586/006040/7/DICOM   \n",
       "2       5596     6050  p0052021/005596/006050/13001/DICOM   \n",
       "3       5700     6173      p0052021/005700/006173/9/DICOM   \n",
       "4       5700     6173      p0052021/005700/006173/7/DICOM   \n",
       "..       ...      ...                                 ...   \n",
       "530     5646     6108      p0052021/005646/006108/4/DICOM   \n",
       "531     5646     6108   p0052021/005646/006108/1050/DICOM   \n",
       "532     5646     6108   p0052021/005646/006108/1000/DICOM   \n",
       "533     5399     5819    p0052021/005399/005819/701/DICOM   \n",
       "534     5399     5819    p0052021/005399/005819/401/DICOM   \n",
       "\n",
       "                       image_associated  \\\n",
       "0        p0052021/005586/006040/8/DICOM   \n",
       "1        p0052021/005586/006040/7/DICOM   \n",
       "2    p0052021/005596/006050/13001/DICOM   \n",
       "3        p0052021/005700/006173/9/DICOM   \n",
       "4        p0052021/005700/006173/7/DICOM   \n",
       "..                                  ...   \n",
       "530      p0052021/005646/006108/4/DICOM   \n",
       "531   p0052021/005646/006108/1050/DICOM   \n",
       "532   p0052021/005646/006108/1000/DICOM   \n",
       "533    p0052021/005399/005819/701/DICOM   \n",
       "534    p0052021/005399/005819/401/DICOM   \n",
       "\n",
       "                                          bounding_box  \\\n",
       "0    p0052021/005586/006040/SEG_20240113_205302_952...   \n",
       "1    p0052021/005586/006040/SEG_20240113_205223_953...   \n",
       "2    p0052021/005596/006050/SEG_20240113_211223_114...   \n",
       "3    p0052021/005700/006173/SEG_20240113_211959_757...   \n",
       "4    p0052021/005700/006173/SEG_20240113_211927_274...   \n",
       "..                                                 ...   \n",
       "530  p0052021/005646/006108/SEG_20240113_210039_451...   \n",
       "531  p0052021/005646/006108/SEG_20240113_205921_383...   \n",
       "532  p0052021/005646/006108/SEG_20240113_205854_334...   \n",
       "533  p0052021/005399/005819/SEG_20240109_114231_571...   \n",
       "534  p0052021/005399/005819/SEG_20240109_114054_657...   \n",
       "\n",
       "                                    SeriesDescription  \\\n",
       "0                                               ax T2   \n",
       "1                                   Ax T2 ADENOPATIAS   \n",
       "2                                        AXIAL T2 TSE   \n",
       "3                              AXIAL DW 1500 PROSTATA   \n",
       "4                              AXIAL DW 1000 PROSTATA   \n",
       "..                                                ...   \n",
       "530                            AXI PELVIS DWI B50-800   \n",
       "531        ADC (10^-6 mm²/s):Nov 26 2019 16-59-11 CET   \n",
       "532  DW_Synthetic: Ax FOCUS B-50-800 Synthetic B-2000   \n",
       "533                                           T2W_TSE   \n",
       "534                                      T2W FAST TRA   \n",
       "\n",
       "                                           image_nifti bval bvec modality  \\\n",
       "0    /nvmescratch/ceib/Prostate/Bounding_Boxes/p005...  NaN  NaN       T2   \n",
       "1    /nvmescratch/ceib/Prostate/Bounding_Boxes/p005...  NaN  NaN       T2   \n",
       "2    /nvmescratch/ceib/Prostate/Bounding_Boxes/p005...  NaN  NaN       T2   \n",
       "3    /nvmescratch/ceib/Prostate/Bounding_Boxes/p005...  NaN  NaN      DWI   \n",
       "4    /nvmescratch/ceib/Prostate/Bounding_Boxes/p005...  NaN  NaN      DWI   \n",
       "..                                                 ...  ...  ...      ...   \n",
       "530  /nvmescratch/ceib/Prostate/Bounding_Boxes/p005...  NaN  NaN      DWI   \n",
       "531  /nvmescratch/ceib/Prostate/Bounding_Boxes/p005...  NaN  NaN      ADC   \n",
       "532  /nvmescratch/ceib/Prostate/Bounding_Boxes/p005...  NaN  NaN      DWI   \n",
       "533  /nvmescratch/ceib/Prostate/Bounding_Boxes/p005...  NaN  NaN       T2   \n",
       "534  /nvmescratch/ceib/Prostate/Bounding_Boxes/p005...  NaN  NaN       T2   \n",
       "\n",
       "                                     Path_Segmentation  \n",
       "0    /nvmescratch/ceib/Prostate/Bounding_Boxes/p005...  \n",
       "1    /nvmescratch/ceib/Prostate/Bounding_Boxes/p005...  \n",
       "2    /nvmescratch/ceib/Prostate/Bounding_Boxes/p005...  \n",
       "3                                                  NaN  \n",
       "4                                                  NaN  \n",
       "..                                                 ...  \n",
       "530                                                NaN  \n",
       "531                                                NaN  \n",
       "532                                                NaN  \n",
       "533  /nvmescratch/ceib/Prostate/Bounding_Boxes/p005...  \n",
       "534  /nvmescratch/ceib/Prostate/Bounding_Boxes/p005...  \n",
       "\n",
       "[535 rows x 11 columns]"
      ]
     },
     "execution_count": 284,
     "metadata": {},
     "output_type": "execute_result"
    }
   ],
   "source": [
    "df_merged"
   ]
  },
  {
   "cell_type": "code",
   "execution_count": 285,
   "metadata": {},
   "outputs": [],
   "source": [
    "df_merged.to_csv(\"Prostate_Cancer_TFM/Files/Bounding_Boxes/Only_Bounding.csv\", index=False)"
   ]
  }
 ],
 "metadata": {
  "kernelspec": {
   "display_name": "Python 3 (ipykernel)",
   "language": "python",
   "name": "python3"
  }
 },
 "nbformat": 4,
 "nbformat_minor": 2
}
