{
 "cells": [
  {
   "cell_type": "code",
   "execution_count": 66,
   "metadata": {},
   "outputs": [],
   "source": [
    "import os\n",
    "import matplotlib.pyplot as plt\n",
    "import shutil\n",
    "import pandas as pd\n",
    "import numpy as np\n",
    "\n",
    "from nnunetv2.paths import nnUNet_results, nnUNet_raw\n",
    "import torch\n",
    "from batchgenerators.utilities.file_and_folder_operations import join\n",
    "from nnunetv2.inference.predict_from_raw_data import nnUNetPredictor\n",
    "import SimpleITK as sitk\n",
    "\n",
    "%matplotlib inline"
   ]
  },
  {
   "cell_type": "code",
   "execution_count": 2,
   "metadata": {},
   "outputs": [
    {
     "name": "stdout",
     "output_type": "stream",
     "text": [
      "CUDA Version: 11.8\n"
     ]
    }
   ],
   "source": [
    "import torch\n",
    "\n",
    "cuda_version = torch.version.cuda\n",
    "print(\"CUDA Version:\", cuda_version)\n"
   ]
  },
  {
   "cell_type": "code",
   "execution_count": 3,
   "metadata": {},
   "outputs": [],
   "source": [
    "def _flatten(t):\n",
    "    return [item for sublist in t for item in sublist]\n",
    "\n",
    "\n",
    "def crop(image, margin, interpolator=sitk.sitkLinear):\n",
    "    \"\"\"\n",
    "    Crops a sitk.Image while retaining correct spacing. Negative margins will lead to zero padding\n",
    "\n",
    "    Args:\n",
    "        image:  a sitk.Image\n",
    "        margin: margins to crop. Single integer or float (percentage crop),\n",
    "                lists of int/float or nestes lists are supported.\n",
    "    \"\"\"\n",
    "    if isinstance(margin, (list, tuple)):\n",
    "        assert len(margin) == 3, \"expected margin to be of length 3\"\n",
    "    else:\n",
    "        assert isinstance(margin, (int, float)), \"expected margin to be a float value\"\n",
    "        margin = [margin, margin, margin]\n",
    "\n",
    "    margin = [m if isinstance(m, (tuple, list)) else [m, m] for m in margin]\n",
    "    old_size = image.GetSize()\n",
    "\n",
    "    # calculate new origin and new image size\n",
    "    if all([isinstance(m, float) for m in _flatten(margin)]):\n",
    "        assert all([m >= 0 and m < 0.5 for m in _flatten(margin)]), \"margins must be between 0 and 0.5\"\n",
    "        to_crop = [[int(sz * _m) for _m in m] for sz, m in zip(old_size, margin)]\n",
    "    elif all([isinstance(m, int) for m in _flatten(margin)]):\n",
    "        to_crop = margin\n",
    "    else:\n",
    "        raise ValueError(\"Wrong format of margins.\")\n",
    "\n",
    "    new_size = [sz - sum(c) for sz, c in zip(old_size, to_crop)]\n",
    "\n",
    "    # origin has Index (0,0,0)\n",
    "    # new origin has Index (to_crop[0][0], to_crop[2][0], to_crop[2][0])\n",
    "    new_origin = image.TransformIndexToPhysicalPoint([c[0] for c in to_crop])\n",
    "\n",
    "    # create reference plane to resample image\n",
    "    ref_image = sitk.Image(new_size, image.GetPixelIDValue())\n",
    "    ref_image.SetSpacing(image.GetSpacing())\n",
    "    ref_image.SetOrigin(new_origin)\n",
    "    ref_image.SetDirection(image.GetDirection())\n",
    "\n",
    "    return sitk.Resample(image, ref_image, interpolator=interpolator)\n"
   ]
  },
  {
   "cell_type": "markdown",
   "metadata": {},
   "source": [
    "# Read and Copy Data"
   ]
  },
  {
   "cell_type": "code",
   "execution_count": 36,
   "metadata": {},
   "outputs": [],
   "source": [
    "df = pd.read_csv(\"/home/jaalzate/Tartaglia/Prostate_Tartaglia/New_Dataset/validation_dataset_complete.csv\")\n",
    "path = \"/mnt/ceib/datalake/FISABIO_datalake/p0042021\"\n",
    "#groups = df.groupby('subject')\n"
   ]
  },
  {
   "cell_type": "code",
   "execution_count": 37,
   "metadata": {},
   "outputs": [],
   "source": [
    "df_t2_axial = df[(df['sequence'] == 'T2w') & (df['orientation']=='ax')]"
   ]
  },
  {
   "cell_type": "code",
   "execution_count": 38,
   "metadata": {},
   "outputs": [
    {
     "data": {
      "text/html": [
       "<div>\n",
       "<style scoped>\n",
       "    .dataframe tbody tr th:only-of-type {\n",
       "        vertical-align: middle;\n",
       "    }\n",
       "\n",
       "    .dataframe tbody tr th {\n",
       "        vertical-align: top;\n",
       "    }\n",
       "\n",
       "    .dataframe thead th {\n",
       "        text-align: right;\n",
       "    }\n",
       "</style>\n",
       "<table border=\"1\" class=\"dataframe\">\n",
       "  <thead>\n",
       "    <tr style=\"text-align: right;\">\n",
       "      <th></th>\n",
       "      <th>subject</th>\n",
       "      <th>session</th>\n",
       "      <th>modality</th>\n",
       "      <th>image</th>\n",
       "      <th>orientation</th>\n",
       "      <th>sequence</th>\n",
       "      <th>shape</th>\n",
       "      <th>ProtocolName</th>\n",
       "      <th>SeriesDescription</th>\n",
       "      <th>usable</th>\n",
       "      <th>...</th>\n",
       "      <th>VP</th>\n",
       "      <th>PIR</th>\n",
       "      <th>csPC</th>\n",
       "      <th>F_nacimiento</th>\n",
       "      <th>F_RM</th>\n",
       "      <th>F_TACTO_RECTAL</th>\n",
       "      <th>F_PSA</th>\n",
       "      <th>F_csPC</th>\n",
       "      <th>label_MIDS_session</th>\n",
       "      <th>label_MIDS_subject</th>\n",
       "    </tr>\n",
       "  </thead>\n",
       "  <tbody>\n",
       "    <tr>\n",
       "      <th>1</th>\n",
       "      <td>sub-000063</td>\n",
       "      <td>ses-000063</td>\n",
       "      <td>anat</td>\n",
       "      <td>sub-000063_ses-000063_acq-fse_run-6_bp-p_vp-ax...</td>\n",
       "      <td>ax</td>\n",
       "      <td>T2w</td>\n",
       "      <td>torch.Size([512, 512, 28])</td>\n",
       "      <td>ax T2</td>\n",
       "      <td>ax T2</td>\n",
       "      <td>True</td>\n",
       "      <td>...</td>\n",
       "      <td>105.698736</td>\n",
       "      <td>3.0</td>\n",
       "      <td>0.0</td>\n",
       "      <td>1947-04-05</td>\n",
       "      <td>2016-07-07</td>\n",
       "      <td>NaN</td>\n",
       "      <td>NaN</td>\n",
       "      <td>14.0</td>\n",
       "      <td>ses-000063</td>\n",
       "      <td>sub-000063</td>\n",
       "    </tr>\n",
       "    <tr>\n",
       "      <th>3</th>\n",
       "      <td>sub-000063</td>\n",
       "      <td>ses-000063</td>\n",
       "      <td>anat</td>\n",
       "      <td>sub-000063_ses-000063_acq-fse_run-8_bp-p_vp-ax...</td>\n",
       "      <td>ax</td>\n",
       "      <td>T2w</td>\n",
       "      <td>torch.Size([512, 512, 28])</td>\n",
       "      <td>ax T2</td>\n",
       "      <td>ax T2</td>\n",
       "      <td>True</td>\n",
       "      <td>...</td>\n",
       "      <td>105.698736</td>\n",
       "      <td>3.0</td>\n",
       "      <td>0.0</td>\n",
       "      <td>1947-04-05</td>\n",
       "      <td>2016-07-07</td>\n",
       "      <td>NaN</td>\n",
       "      <td>NaN</td>\n",
       "      <td>14.0</td>\n",
       "      <td>ses-000063</td>\n",
       "      <td>sub-000063</td>\n",
       "    </tr>\n",
       "    <tr>\n",
       "      <th>11</th>\n",
       "      <td>sub-000066</td>\n",
       "      <td>ses-000066</td>\n",
       "      <td>anat</td>\n",
       "      <td>sub-000066_ses-000066_acq-fse_run-8_bp-p_vp-ax...</td>\n",
       "      <td>ax</td>\n",
       "      <td>T2w</td>\n",
       "      <td>torch.Size([512, 512, 34])</td>\n",
       "      <td>ax T2</td>\n",
       "      <td>ax T2</td>\n",
       "      <td>True</td>\n",
       "      <td>...</td>\n",
       "      <td>NaN</td>\n",
       "      <td>NaN</td>\n",
       "      <td>0.0</td>\n",
       "      <td>1945-03-09</td>\n",
       "      <td>2017-01-27</td>\n",
       "      <td>NaN</td>\n",
       "      <td>-2.0</td>\n",
       "      <td>69.0</td>\n",
       "      <td>ses-000066</td>\n",
       "      <td>sub-000066</td>\n",
       "    </tr>\n",
       "    <tr>\n",
       "      <th>22</th>\n",
       "      <td>sub-000184</td>\n",
       "      <td>ses-000184</td>\n",
       "      <td>anat</td>\n",
       "      <td>sub-000184_ses-000184_acq-propeller_run-6_bp-a...</td>\n",
       "      <td>ax</td>\n",
       "      <td>T2w</td>\n",
       "      <td>torch.Size([512, 512, 55])</td>\n",
       "      <td>Ax T2 PROP. PELVIS</td>\n",
       "      <td>Ax T2 PROP. PELVIS</td>\n",
       "      <td>True</td>\n",
       "      <td>...</td>\n",
       "      <td>46.823400</td>\n",
       "      <td>5.0</td>\n",
       "      <td>1.0</td>\n",
       "      <td>1946-03-12</td>\n",
       "      <td>2018-02-01</td>\n",
       "      <td>NaN</td>\n",
       "      <td>-443.0</td>\n",
       "      <td>162.0</td>\n",
       "      <td>ses-000184</td>\n",
       "      <td>sub-000184</td>\n",
       "    </tr>\n",
       "    <tr>\n",
       "      <th>23</th>\n",
       "      <td>sub-000184</td>\n",
       "      <td>ses-000184</td>\n",
       "      <td>anat</td>\n",
       "      <td>sub-000184_ses-000184_acq-propeller_run-3_bp-a...</td>\n",
       "      <td>ax</td>\n",
       "      <td>T2w</td>\n",
       "      <td>torch.Size([512, 512, 33])</td>\n",
       "      <td>Ax T2 PROPELLER</td>\n",
       "      <td>Ax T2 PROPELLER</td>\n",
       "      <td>True</td>\n",
       "      <td>...</td>\n",
       "      <td>46.823400</td>\n",
       "      <td>5.0</td>\n",
       "      <td>1.0</td>\n",
       "      <td>1946-03-12</td>\n",
       "      <td>2018-02-01</td>\n",
       "      <td>NaN</td>\n",
       "      <td>-443.0</td>\n",
       "      <td>162.0</td>\n",
       "      <td>ses-000184</td>\n",
       "      <td>sub-000184</td>\n",
       "    </tr>\n",
       "    <tr>\n",
       "      <th>...</th>\n",
       "      <td>...</td>\n",
       "      <td>...</td>\n",
       "      <td>...</td>\n",
       "      <td>...</td>\n",
       "      <td>...</td>\n",
       "      <td>...</td>\n",
       "      <td>...</td>\n",
       "      <td>...</td>\n",
       "      <td>...</td>\n",
       "      <td>...</td>\n",
       "      <td>...</td>\n",
       "      <td>...</td>\n",
       "      <td>...</td>\n",
       "      <td>...</td>\n",
       "      <td>...</td>\n",
       "      <td>...</td>\n",
       "      <td>...</td>\n",
       "      <td>...</td>\n",
       "      <td>...</td>\n",
       "      <td>...</td>\n",
       "      <td>...</td>\n",
       "    </tr>\n",
       "    <tr>\n",
       "      <th>1341</th>\n",
       "      <td>sub-000092</td>\n",
       "      <td>ses-000092</td>\n",
       "      <td>anat</td>\n",
       "      <td>sub-000092_ses-000092_acq-fse_run-8_bp-p_vp-ax...</td>\n",
       "      <td>ax</td>\n",
       "      <td>T2w</td>\n",
       "      <td>torch.Size([512, 512, 28])</td>\n",
       "      <td>ax T2</td>\n",
       "      <td>ax T2</td>\n",
       "      <td>True</td>\n",
       "      <td>...</td>\n",
       "      <td>0.520000</td>\n",
       "      <td>NaN</td>\n",
       "      <td>0.0</td>\n",
       "      <td>1945-10-31</td>\n",
       "      <td>2014-10-02</td>\n",
       "      <td>NaN</td>\n",
       "      <td>-163.0</td>\n",
       "      <td>-90.0</td>\n",
       "      <td>ses-000092</td>\n",
       "      <td>sub-000092</td>\n",
       "    </tr>\n",
       "    <tr>\n",
       "      <th>1342</th>\n",
       "      <td>sub-000092</td>\n",
       "      <td>ses-000092</td>\n",
       "      <td>anat</td>\n",
       "      <td>sub-000092_ses-000092_acq-fse_run-13_bp-p_vp-a...</td>\n",
       "      <td>ax</td>\n",
       "      <td>T2w</td>\n",
       "      <td>torch.Size([512, 512, 28])</td>\n",
       "      <td>ax T2</td>\n",
       "      <td>ax T2</td>\n",
       "      <td>True</td>\n",
       "      <td>...</td>\n",
       "      <td>0.520000</td>\n",
       "      <td>NaN</td>\n",
       "      <td>0.0</td>\n",
       "      <td>1945-10-31</td>\n",
       "      <td>2014-10-02</td>\n",
       "      <td>NaN</td>\n",
       "      <td>-163.0</td>\n",
       "      <td>-90.0</td>\n",
       "      <td>ses-000092</td>\n",
       "      <td>sub-000092</td>\n",
       "    </tr>\n",
       "    <tr>\n",
       "      <th>1350</th>\n",
       "      <td>sub-000003</td>\n",
       "      <td>ses-000003</td>\n",
       "      <td>anat</td>\n",
       "      <td>sub-000003_ses-000003_acq-fse_run-10_bp-a_vp-a...</td>\n",
       "      <td>ax</td>\n",
       "      <td>T2w</td>\n",
       "      <td>torch.Size([512, 512, 26])</td>\n",
       "      <td>ax T2</td>\n",
       "      <td>ax T2</td>\n",
       "      <td>True</td>\n",
       "      <td>...</td>\n",
       "      <td>NaN</td>\n",
       "      <td>NaN</td>\n",
       "      <td>1.0</td>\n",
       "      <td>1945-01-02</td>\n",
       "      <td>2014-03-07</td>\n",
       "      <td>NaN</td>\n",
       "      <td>-42.0</td>\n",
       "      <td>-18.0</td>\n",
       "      <td>ses-000003</td>\n",
       "      <td>sub-000003</td>\n",
       "    </tr>\n",
       "    <tr>\n",
       "      <th>1354</th>\n",
       "      <td>sub-000111</td>\n",
       "      <td>ses-000111</td>\n",
       "      <td>anat</td>\n",
       "      <td>sub-000111_ses-000111_acq-fse_run-8_bp-a_vp-ax...</td>\n",
       "      <td>ax</td>\n",
       "      <td>T2w</td>\n",
       "      <td>torch.Size([512, 512, 28])</td>\n",
       "      <td>ax T2</td>\n",
       "      <td>ax T2</td>\n",
       "      <td>True</td>\n",
       "      <td>...</td>\n",
       "      <td>58.000000</td>\n",
       "      <td>4.0</td>\n",
       "      <td>1.0</td>\n",
       "      <td>1953-01-05</td>\n",
       "      <td>2015-06-24</td>\n",
       "      <td>NaN</td>\n",
       "      <td>NaN</td>\n",
       "      <td>316.0</td>\n",
       "      <td>ses-000111</td>\n",
       "      <td>sub-000111</td>\n",
       "    </tr>\n",
       "    <tr>\n",
       "      <th>1362</th>\n",
       "      <td>sub-000120</td>\n",
       "      <td>ses-000120</td>\n",
       "      <td>anat</td>\n",
       "      <td>sub-000120_ses-000120_acq-fse_run-8_bp-a_vp-ax...</td>\n",
       "      <td>ax</td>\n",
       "      <td>T2w</td>\n",
       "      <td>torch.Size([512, 512, 24])</td>\n",
       "      <td>ax T2</td>\n",
       "      <td>ax T2</td>\n",
       "      <td>True</td>\n",
       "      <td>...</td>\n",
       "      <td>34.000000</td>\n",
       "      <td>4.0</td>\n",
       "      <td>1.0</td>\n",
       "      <td>1945-06-17</td>\n",
       "      <td>2014-09-24</td>\n",
       "      <td>NaN</td>\n",
       "      <td>-144.0</td>\n",
       "      <td>-109.0</td>\n",
       "      <td>ses-000120</td>\n",
       "      <td>sub-000120</td>\n",
       "    </tr>\n",
       "  </tbody>\n",
       "</table>\n",
       "<p>216 rows × 32 columns</p>\n",
       "</div>"
      ],
      "text/plain": [
       "         subject     session modality  \\\n",
       "1     sub-000063  ses-000063     anat   \n",
       "3     sub-000063  ses-000063     anat   \n",
       "11    sub-000066  ses-000066     anat   \n",
       "22    sub-000184  ses-000184     anat   \n",
       "23    sub-000184  ses-000184     anat   \n",
       "...          ...         ...      ...   \n",
       "1341  sub-000092  ses-000092     anat   \n",
       "1342  sub-000092  ses-000092     anat   \n",
       "1350  sub-000003  ses-000003     anat   \n",
       "1354  sub-000111  ses-000111     anat   \n",
       "1362  sub-000120  ses-000120     anat   \n",
       "\n",
       "                                                  image orientation sequence  \\\n",
       "1     sub-000063_ses-000063_acq-fse_run-6_bp-p_vp-ax...          ax      T2w   \n",
       "3     sub-000063_ses-000063_acq-fse_run-8_bp-p_vp-ax...          ax      T2w   \n",
       "11    sub-000066_ses-000066_acq-fse_run-8_bp-p_vp-ax...          ax      T2w   \n",
       "22    sub-000184_ses-000184_acq-propeller_run-6_bp-a...          ax      T2w   \n",
       "23    sub-000184_ses-000184_acq-propeller_run-3_bp-a...          ax      T2w   \n",
       "...                                                 ...         ...      ...   \n",
       "1341  sub-000092_ses-000092_acq-fse_run-8_bp-p_vp-ax...          ax      T2w   \n",
       "1342  sub-000092_ses-000092_acq-fse_run-13_bp-p_vp-a...          ax      T2w   \n",
       "1350  sub-000003_ses-000003_acq-fse_run-10_bp-a_vp-a...          ax      T2w   \n",
       "1354  sub-000111_ses-000111_acq-fse_run-8_bp-a_vp-ax...          ax      T2w   \n",
       "1362  sub-000120_ses-000120_acq-fse_run-8_bp-a_vp-ax...          ax      T2w   \n",
       "\n",
       "                           shape        ProtocolName   SeriesDescription  \\\n",
       "1     torch.Size([512, 512, 28])               ax T2               ax T2   \n",
       "3     torch.Size([512, 512, 28])               ax T2               ax T2   \n",
       "11    torch.Size([512, 512, 34])               ax T2               ax T2   \n",
       "22    torch.Size([512, 512, 55])  Ax T2 PROP. PELVIS  Ax T2 PROP. PELVIS   \n",
       "23    torch.Size([512, 512, 33])     Ax T2 PROPELLER     Ax T2 PROPELLER   \n",
       "...                          ...                 ...                 ...   \n",
       "1341  torch.Size([512, 512, 28])               ax T2               ax T2   \n",
       "1342  torch.Size([512, 512, 28])               ax T2               ax T2   \n",
       "1350  torch.Size([512, 512, 26])               ax T2               ax T2   \n",
       "1354  torch.Size([512, 512, 28])               ax T2               ax T2   \n",
       "1362  torch.Size([512, 512, 24])               ax T2               ax T2   \n",
       "\n",
       "      usable  ...          VP  PIR  csPC  F_nacimiento        F_RM  \\\n",
       "1       True  ...  105.698736  3.0   0.0    1947-04-05  2016-07-07   \n",
       "3       True  ...  105.698736  3.0   0.0    1947-04-05  2016-07-07   \n",
       "11      True  ...         NaN  NaN   0.0    1945-03-09  2017-01-27   \n",
       "22      True  ...   46.823400  5.0   1.0    1946-03-12  2018-02-01   \n",
       "23      True  ...   46.823400  5.0   1.0    1946-03-12  2018-02-01   \n",
       "...      ...  ...         ...  ...   ...           ...         ...   \n",
       "1341    True  ...    0.520000  NaN   0.0    1945-10-31  2014-10-02   \n",
       "1342    True  ...    0.520000  NaN   0.0    1945-10-31  2014-10-02   \n",
       "1350    True  ...         NaN  NaN   1.0    1945-01-02  2014-03-07   \n",
       "1354    True  ...   58.000000  4.0   1.0    1953-01-05  2015-06-24   \n",
       "1362    True  ...   34.000000  4.0   1.0    1945-06-17  2014-09-24   \n",
       "\n",
       "     F_TACTO_RECTAL  F_PSA  F_csPC  label_MIDS_session  label_MIDS_subject  \n",
       "1               NaN    NaN    14.0          ses-000063          sub-000063  \n",
       "3               NaN    NaN    14.0          ses-000063          sub-000063  \n",
       "11              NaN   -2.0    69.0          ses-000066          sub-000066  \n",
       "22              NaN -443.0   162.0          ses-000184          sub-000184  \n",
       "23              NaN -443.0   162.0          ses-000184          sub-000184  \n",
       "...             ...    ...     ...                 ...                 ...  \n",
       "1341            NaN -163.0   -90.0          ses-000092          sub-000092  \n",
       "1342            NaN -163.0   -90.0          ses-000092          sub-000092  \n",
       "1350            NaN  -42.0   -18.0          ses-000003          sub-000003  \n",
       "1354            NaN    NaN   316.0          ses-000111          sub-000111  \n",
       "1362            NaN -144.0  -109.0          ses-000120          sub-000120  \n",
       "\n",
       "[216 rows x 32 columns]"
      ]
     },
     "execution_count": 38,
     "metadata": {},
     "output_type": "execute_result"
    }
   ],
   "source": [
    "df_t2_axial"
   ]
  },
  {
   "cell_type": "code",
   "execution_count": 39,
   "metadata": {},
   "outputs": [],
   "source": [
    "images_paths = df_t2_axial.copy().apply(lambda x: os.path.join(path, x['subject'], x['session'],'mim-mr','anat', x['image']), axis=1).values"
   ]
  },
  {
   "cell_type": "code",
   "execution_count": 40,
   "metadata": {},
   "outputs": [
    {
     "data": {
      "text/plain": [
       "array(['/mnt/ceib/datalake/FISABIO_datalake/p0042021/sub-000063/ses-000063/mim-mr/anat/sub-000063_ses-000063_acq-fse_run-6_bp-p_vp-ax_T2w.nii.gz',\n",
       "       '/mnt/ceib/datalake/FISABIO_datalake/p0042021/sub-000063/ses-000063/mim-mr/anat/sub-000063_ses-000063_acq-fse_run-8_bp-p_vp-ax_T2w.nii.gz',\n",
       "       '/mnt/ceib/datalake/FISABIO_datalake/p0042021/sub-000066/ses-000066/mim-mr/anat/sub-000066_ses-000066_acq-fse_run-8_bp-p_vp-ax_T2w.nii.gz',\n",
       "       '/mnt/ceib/datalake/FISABIO_datalake/p0042021/sub-000184/ses-000184/mim-mr/anat/sub-000184_ses-000184_acq-propeller_run-6_bp-a_vp-ax_T2w.nii.gz',\n",
       "       '/mnt/ceib/datalake/FISABIO_datalake/p0042021/sub-000184/ses-000184/mim-mr/anat/sub-000184_ses-000184_acq-propeller_run-3_bp-a_vp-ax_T2w.nii.gz',\n",
       "       '/mnt/ceib/datalake/FISABIO_datalake/p0042021/sub-000184/ses-000184/mim-mr/anat/sub-000184_ses-000184_acq-propeller_run-300_bp-a_vp-ax_T2w.nii.gz',\n",
       "       '/mnt/ceib/datalake/FISABIO_datalake/p0042021/sub-000179/ses-000179/mim-mr/anat/sub-000179_ses-000179_acq-fse_run-501_bp-p_vp-ax_T2w.nii.gz',\n",
       "       '/mnt/ceib/datalake/FISABIO_datalake/p0042021/sub-000108/ses-000108/mim-mr/anat/sub-000108_ses-000108_acq-fse_run-9_bp-a_vp-ax_T2w.nii.gz',\n",
       "       '/mnt/ceib/datalake/FISABIO_datalake/p0042021/sub-000176/ses-000176/mim-mr/anat/sub-000176_ses-000176_acq-propeller_run-8_bp-a_vp-ax_T2w.nii.gz',\n",
       "       '/mnt/ceib/datalake/FISABIO_datalake/p0042021/sub-000176/ses-000176/mim-mr/anat/sub-000176_ses-000176_acq-propeller_run-800_bp-a_vp-ax_T2w.nii.gz',\n",
       "       '/mnt/ceib/datalake/FISABIO_datalake/p0042021/sub-000176/ses-000176/mim-mr/anat/sub-000176_ses-000176_acq-propeller_run-5_bp-a_vp-ax_T2w.nii.gz',\n",
       "       '/mnt/ceib/datalake/FISABIO_datalake/p0042021/sub-000103/ses-000103/mim-mr/anat/sub-000103_ses-000103_acq-fse_run-8_bp-a_vp-ax_T2w.nii.gz',\n",
       "       '/mnt/ceib/datalake/FISABIO_datalake/p0042021/sub-000155/ses-000155/mim-mr/anat/sub-000155_ses-000155_acq-fse_run-4_bp-a_vp-ax_T2w.nii.gz',\n",
       "       '/mnt/ceib/datalake/FISABIO_datalake/p0042021/sub-000155/ses-000155/mim-mr/anat/sub-000155_ses-000155_acq-propeller_run-6_bp-a_vp-ax_T2w.nii.gz',\n",
       "       '/mnt/ceib/datalake/FISABIO_datalake/p0042021/sub-000155/ses-000155/mim-mr/anat/sub-000155_ses-000155_acq-propeller_run-600_bp-a_vp-ax_T2w.nii.gz',\n",
       "       '/mnt/ceib/datalake/FISABIO_datalake/p0042021/sub-000078/ses-000078/mim-mr/anat/sub-000078_ses-000078_acq-fse_run-9_bp-p_vp-ax_T2w.nii.gz',\n",
       "       '/mnt/ceib/datalake/FISABIO_datalake/p0042021/sub-000015/ses-000015/mim-mr/anat/sub-000015_ses-000015_acq-fse_run-5_bp-p_vp-ax_T2w.nii.gz',\n",
       "       '/mnt/ceib/datalake/FISABIO_datalake/p0042021/sub-000015/ses-000015/mim-mr/anat/sub-000015_ses-000015_acq-fse_run-9_bp-p_vp-ax_T2w.nii.gz',\n",
       "       '/mnt/ceib/datalake/FISABIO_datalake/p0042021/sub-000042/ses-000042/mim-mr/anat/sub-000042_ses-000042_acq-fse_run-11_bp-p_vp-ax_T2w.nii.gz',\n",
       "       '/mnt/ceib/datalake/FISABIO_datalake/p0042021/sub-000035/ses-000035/mim-mr/anat/sub-000035_ses-000035_acq-fse_run-12_bp-a_vp-ax_T2w.nii.gz',\n",
       "       '/mnt/ceib/datalake/FISABIO_datalake/p0042021/sub-000004/ses-000004/mim-mr/anat/sub-000004_ses-000004_acq-fse_run-20_bp-c_vp-ax_T2w.nii.gz',\n",
       "       '/mnt/ceib/datalake/FISABIO_datalake/p0042021/sub-000004/ses-000004/mim-mr/anat/sub-000004_ses-000004_acq-fse_run-25_bp-c_vp-ax_T2w.nii.gz',\n",
       "       '/mnt/ceib/datalake/FISABIO_datalake/p0042021/sub-000004/ses-000004/mim-mr/anat/sub-000004_ses-000004_acq-fse_run-10_bp-c_vp-ax_T2w.nii.gz',\n",
       "       '/mnt/ceib/datalake/FISABIO_datalake/p0042021/sub-000081/ses-000081/mim-mr/anat/sub-000081_ses-000081_acq-fse_run-11_bp-a_vp-ax_T2w.nii.gz',\n",
       "       '/mnt/ceib/datalake/FISABIO_datalake/p0042021/sub-000026/ses-000026/mim-mr/anat/sub-000026_ses-000026_acq-fse_run-9_bp-a_vp-ax_T2w.nii.gz',\n",
       "       '/mnt/ceib/datalake/FISABIO_datalake/p0042021/sub-000034/ses-000034/mim-mr/anat/sub-000034_ses-000034_acq-blade_run-9001_bp-p_vp-ax_T2w.nii.gz',\n",
       "       '/mnt/ceib/datalake/FISABIO_datalake/p0042021/sub-000034/ses-000034/mim-mr/anat/sub-000034_ses-000034_acq-blade_run-12001_bp-p_vp-ax_T2w.nii.gz',\n",
       "       '/mnt/ceib/datalake/FISABIO_datalake/p0042021/sub-000175/ses-000175/mim-mr/anat/sub-000175_ses-000175_acq-fse_run-501_bp-p_vp-ax_T2w.nii.gz',\n",
       "       '/mnt/ceib/datalake/FISABIO_datalake/p0042021/sub-000071/ses-000071/mim-mr/anat/sub-000071_ses-000071_acq-fse_run-8_bp-p_vp-ax_T2w.nii.gz',\n",
       "       '/mnt/ceib/datalake/FISABIO_datalake/p0042021/sub-000018/ses-000018/mim-mr/anat/sub-000018_ses-000018_acq-fse_run-8_bp-p_vp-ax_T2w.nii.gz',\n",
       "       '/mnt/ceib/datalake/FISABIO_datalake/p0042021/sub-000024/ses-000024/mim-mr/anat/sub-000024_ses-000024_acq-fse_run-8_bp-a_vp-ax_T2w.nii.gz',\n",
       "       '/mnt/ceib/datalake/FISABIO_datalake/p0042021/sub-000048/ses-000048/mim-mr/anat/sub-000048_ses-000048_acq-fse_run-8_bp-a_vp-ax_T2w.nii.gz',\n",
       "       '/mnt/ceib/datalake/FISABIO_datalake/p0042021/sub-000084/ses-000084/mim-mr/anat/sub-000084_ses-000084_acq-fse_run-9_bp-c_vp-ax_T2w.nii.gz',\n",
       "       '/mnt/ceib/datalake/FISABIO_datalake/p0042021/sub-000127/ses-000127/mim-mr/anat/sub-000127_ses-000127_acq-fse_run-12_bp-p_vp-ax_T2w.nii.gz',\n",
       "       '/mnt/ceib/datalake/FISABIO_datalake/p0042021/sub-000127/ses-000127/mim-mr/anat/sub-000127_ses-000127_acq-fse_run-17_bp-p_vp-ax_T2w.nii.gz',\n",
       "       '/mnt/ceib/datalake/FISABIO_datalake/p0042021/sub-000096/ses-000096/mim-mr/anat/sub-000096_ses-000096_acq-fse_run-7_bp-c_vp-ax_T2w.nii.gz',\n",
       "       '/mnt/ceib/datalake/FISABIO_datalake/p0042021/sub-000032/ses-000032/mim-mr/anat/sub-000032_ses-000032_acq-fse_run-8_bp-p_vp-ax_T2w.nii.gz',\n",
       "       '/mnt/ceib/datalake/FISABIO_datalake/p0042021/sub-000146/ses-000146/mim-mr/anat/sub-000146_ses-000146_acq-fse_run-8_bp-p_vp-ax_T2w.nii.gz',\n",
       "       '/mnt/ceib/datalake/FISABIO_datalake/p0042021/sub-000168/ses-000168/mim-mr/anat/sub-000168_ses-000168_acq-propeller_run-800_bp-a_vp-ax_T2w.nii.gz',\n",
       "       '/mnt/ceib/datalake/FISABIO_datalake/p0042021/sub-000168/ses-000168/mim-mr/anat/sub-000168_ses-000168_acq-propeller_run-8_bp-a_vp-ax_T2w.nii.gz',\n",
       "       '/mnt/ceib/datalake/FISABIO_datalake/p0042021/sub-000168/ses-000168/mim-mr/anat/sub-000168_ses-000168_acq-fse_run-4_bp-a_vp-ax_T2w.nii.gz',\n",
       "       '/mnt/ceib/datalake/FISABIO_datalake/p0042021/sub-000168/ses-000168/mim-mr/anat/sub-000168_ses-000168_acq-propeller_run-10_bp-a_vp-ax_T2w.nii.gz',\n",
       "       '/mnt/ceib/datalake/FISABIO_datalake/p0042021/sub-000082/ses-000082/mim-mr/anat/sub-000082_ses-000082_acq-fse_run-5_bp-a_vp-ax_T2w.nii.gz',\n",
       "       '/mnt/ceib/datalake/FISABIO_datalake/p0042021/sub-000138/ses-000138/mim-mr/anat/sub-000138_ses-000138_acq-propeller_run-900_bp-a_vp-ax_T2w.nii.gz',\n",
       "       '/mnt/ceib/datalake/FISABIO_datalake/p0042021/sub-000138/ses-000138/mim-mr/anat/sub-000138_ses-000138_acq-propeller_run-9_bp-a_vp-ax_T2w.nii.gz',\n",
       "       '/mnt/ceib/datalake/FISABIO_datalake/p0042021/sub-000138/ses-000138/mim-mr/anat/sub-000138_ses-000138_acq-propeller_run-6_bp-a_vp-ax_T2w.nii.gz',\n",
       "       '/mnt/ceib/datalake/FISABIO_datalake/p0042021/sub-000130/ses-000130/mim-mr/anat/sub-000130_ses-000130_acq-blade_run-12001_bp-p_vp-ax_T2w.nii.gz',\n",
       "       '/mnt/ceib/datalake/FISABIO_datalake/p0042021/sub-000130/ses-000130/mim-mr/anat/sub-000130_ses-000130_acq-blade_run-9001_bp-p_vp-ax_T2w.nii.gz',\n",
       "       '/mnt/ceib/datalake/FISABIO_datalake/p0042021/sub-000160/ses-000160/mim-mr/anat/sub-000160_ses-000160_acq-propeller_run-4_bp-a_vp-ax_T2w.nii.gz',\n",
       "       '/mnt/ceib/datalake/FISABIO_datalake/p0042021/sub-000160/ses-000160/mim-mr/anat/sub-000160_ses-000160_acq-propeller_run-8_bp-a_vp-ax_T2w.nii.gz',\n",
       "       '/mnt/ceib/datalake/FISABIO_datalake/p0042021/sub-000160/ses-000160/mim-mr/anat/sub-000160_ses-000160_acq-propeller_run-800_bp-a_vp-ax_T2w.nii.gz',\n",
       "       '/mnt/ceib/datalake/FISABIO_datalake/p0042021/sub-000021/ses-000021/mim-mr/anat/sub-000021_ses-000021_acq-fse_run-8_bp-r_vp-ax_T2w.nii.gz',\n",
       "       '/mnt/ceib/datalake/FISABIO_datalake/p0042021/sub-000115/ses-000115/mim-mr/anat/sub-000115_ses-000115_acq-fse_run-4_bp-p_vp-ax_T2w.nii.gz',\n",
       "       '/mnt/ceib/datalake/FISABIO_datalake/p0042021/sub-000023/ses-000023/mim-mr/anat/sub-000023_ses-000023_acq-blade_run-9001_bp-p_vp-ax_T2w.nii.gz',\n",
       "       '/mnt/ceib/datalake/FISABIO_datalake/p0042021/sub-000062/ses-000062/mim-mr/anat/sub-000062_ses-000062_acq-fse_run-8_bp-p_vp-ax_T2w.nii.gz',\n",
       "       '/mnt/ceib/datalake/FISABIO_datalake/p0042021/sub-000159/ses-000159/mim-mr/anat/sub-000159_ses-000159_acq-fse_run-5_bp-a_vp-ax_T2w.nii.gz',\n",
       "       '/mnt/ceib/datalake/FISABIO_datalake/p0042021/sub-000151/ses-000151/mim-mr/anat/sub-000151_ses-000151_acq-fse_run-9_bp-p_vp-ax_T2w.nii.gz',\n",
       "       '/mnt/ceib/datalake/FISABIO_datalake/p0042021/sub-000123/ses-000123/mim-mr/anat/sub-000123_ses-000123_acq-fse_run-4_bp-p_vp-ax_T2w.nii.gz',\n",
       "       '/mnt/ceib/datalake/FISABIO_datalake/p0042021/sub-000093/ses-000093/mim-mr/anat/sub-000093_ses-000093_acq-fse_run-8_bp-p_vp-ax_T2w.nii.gz',\n",
       "       '/mnt/ceib/datalake/FISABIO_datalake/p0042021/sub-000097/ses-000097/mim-mr/anat/sub-000097_ses-000097_acq-fse_run-9_bp-p_vp-ax_T2w.nii.gz',\n",
       "       '/mnt/ceib/datalake/FISABIO_datalake/p0042021/sub-000134/ses-000134/mim-mr/anat/sub-000134_ses-000134_acq-fse_run-9_bp-p_vp-ax_T2w.nii.gz',\n",
       "       '/mnt/ceib/datalake/FISABIO_datalake/p0042021/sub-000090/ses-000090/mim-mr/anat/sub-000090_ses-000090_acq-blade_run-14001_bp-p_vp-ax_T2w.nii.gz',\n",
       "       '/mnt/ceib/datalake/FISABIO_datalake/p0042021/sub-000090/ses-000090/mim-mr/anat/sub-000090_ses-000090_acq-blade_run-11001_bp-p_vp-ax_T2w.nii.gz',\n",
       "       '/mnt/ceib/datalake/FISABIO_datalake/p0042021/sub-000121/ses-000121/mim-mr/anat/sub-000121_ses-000121_acq-propeller_run-8_bp-r_vp-ax_T2w.nii.gz',\n",
       "       '/mnt/ceib/datalake/FISABIO_datalake/p0042021/sub-000121/ses-000121/mim-mr/anat/sub-000121_ses-000121_acq-propeller_run-7_bp-r_vp-ax_T2w.nii.gz',\n",
       "       '/mnt/ceib/datalake/FISABIO_datalake/p0042021/sub-000132/ses-000132/mim-mr/anat/sub-000132_ses-000132_acq-fse_run-4_bp-p_vp-ax_T2w.nii.gz',\n",
       "       '/mnt/ceib/datalake/FISABIO_datalake/p0042021/sub-000005/ses-000005/mim-mr/anat/sub-000005_ses-000005_acq-fse_run-7_bp-p_vp-ax_T2w.nii.gz',\n",
       "       '/mnt/ceib/datalake/FISABIO_datalake/p0042021/sub-000016/ses-000016/mim-mr/anat/sub-000016_ses-000016_acq-fse_run-9_bp-p_vp-ax_T2w.nii.gz',\n",
       "       '/mnt/ceib/datalake/FISABIO_datalake/p0042021/sub-000033/ses-000033/mim-mr/anat/sub-000033_ses-000033_acq-fse_run-9_bp-a_vp-ax_T2w.nii.gz',\n",
       "       '/mnt/ceib/datalake/FISABIO_datalake/p0042021/sub-000065/ses-000065/mim-mr/anat/sub-000065_ses-000065_acq-fse_run-8_bp-a_vp-ax_T2w.nii.gz',\n",
       "       '/mnt/ceib/datalake/FISABIO_datalake/p0042021/sub-000136/ses-000136/mim-mr/anat/sub-000136_ses-000136_acq-propeller_run-700_bp-a_vp-ax_T2w.nii.gz',\n",
       "       '/mnt/ceib/datalake/FISABIO_datalake/p0042021/sub-000136/ses-000136/mim-mr/anat/sub-000136_ses-000136_acq-propeller_run-4_bp-a_vp-ax_T2w.nii.gz',\n",
       "       '/mnt/ceib/datalake/FISABIO_datalake/p0042021/sub-000136/ses-000136/mim-mr/anat/sub-000136_ses-000136_acq-propeller_run-7_bp-a_vp-ax_T2w.nii.gz',\n",
       "       '/mnt/ceib/datalake/FISABIO_datalake/p0042021/sub-000044/ses-000044/mim-mr/anat/sub-000044_ses-000044_acq-blade_run-10001_bp-p_vp-ax_T2w.nii.gz',\n",
       "       '/mnt/ceib/datalake/FISABIO_datalake/p0042021/sub-000142/ses-000142/mim-mr/anat/sub-000142_ses-000142_acq-fse_run-8_bp-p_vp-ax_T2w.nii.gz',\n",
       "       '/mnt/ceib/datalake/FISABIO_datalake/p0042021/sub-000041/ses-000041/mim-mr/anat/sub-000041_ses-000041_acq-blade_run-12001_bp-p_vp-ax_T2w.nii.gz',\n",
       "       '/mnt/ceib/datalake/FISABIO_datalake/p0042021/sub-000041/ses-000041/mim-mr/anat/sub-000041_ses-000041_acq-blade_run-9001_bp-p_vp-ax_T2w.nii.gz',\n",
       "       '/mnt/ceib/datalake/FISABIO_datalake/p0042021/sub-000087/ses-000087/mim-mr/anat/sub-000087_ses-000087_acq-fse_run-8_bp-p_vp-ax_T2w.nii.gz',\n",
       "       '/mnt/ceib/datalake/FISABIO_datalake/p0042021/sub-000150/ses-000150/mim-mr/anat/sub-000150_ses-000150_acq-fse_run-6_bp-p_vp-ax_T2w.nii.gz',\n",
       "       '/mnt/ceib/datalake/FISABIO_datalake/p0042021/sub-000085/ses-000085/mim-mr/anat/sub-000085_ses-000085_acq-fse_run-8_bp-a_vp-ax_T2w.nii.gz',\n",
       "       '/mnt/ceib/datalake/FISABIO_datalake/p0042021/sub-000135/ses-000135/mim-mr/anat/sub-000135_ses-000135_acq-blade_run-9001_bp-p_vp-ax_T2w.nii.gz',\n",
       "       '/mnt/ceib/datalake/FISABIO_datalake/p0042021/sub-000135/ses-000135/mim-mr/anat/sub-000135_ses-000135_acq-blade_run-12001_bp-p_vp-ax_T2w.nii.gz',\n",
       "       '/mnt/ceib/datalake/FISABIO_datalake/p0042021/sub-000006/ses-000006/mim-mr/anat/sub-000006_ses-000006_acq-fse_run-7_bp-p_vp-ax_T2w.nii.gz',\n",
       "       '/mnt/ceib/datalake/FISABIO_datalake/p0042021/sub-000112/ses-000112/mim-mr/anat/sub-000112_ses-000112_acq-fse_run-8_bp-p_vp-ax_T2w.nii.gz',\n",
       "       '/mnt/ceib/datalake/FISABIO_datalake/p0042021/sub-000030/ses-000030/mim-mr/anat/sub-000030_ses-000030_acq-fse_run-10_bp-a_vp-ax_T2w.nii.gz',\n",
       "       '/mnt/ceib/datalake/FISABIO_datalake/p0042021/sub-000110/ses-000110/mim-mr/anat/sub-000110_ses-000110_acq-fse_run-10_bp-c_vp-ax_T2w.nii.gz',\n",
       "       '/mnt/ceib/datalake/FISABIO_datalake/p0042021/sub-000057/ses-000057/mim-mr/anat/sub-000057_ses-000057_acq-blade_run-11001_bp-p_vp-ax_T2w.nii.gz',\n",
       "       '/mnt/ceib/datalake/FISABIO_datalake/p0042021/sub-000057/ses-000057/mim-mr/anat/sub-000057_ses-000057_acq-blade_run-9001_bp-p_vp-ax_T2w.nii.gz',\n",
       "       '/mnt/ceib/datalake/FISABIO_datalake/p0042021/sub-000043/ses-000043/mim-mr/anat/sub-000043_ses-000043_acq-fse_run-9_bp-a_vp-ax_T2w.nii.gz',\n",
       "       '/mnt/ceib/datalake/FISABIO_datalake/p0042021/sub-000047/ses-000047/mim-mr/anat/sub-000047_ses-000047_acq-fse_run-8_bp-c_vp-ax_T2w.nii.gz',\n",
       "       '/mnt/ceib/datalake/FISABIO_datalake/p0042021/sub-000167/ses-000167/mim-mr/anat/sub-000167_ses-000167_acq-propeller_run-10_bp-a_vp-ax_T2w.nii.gz',\n",
       "       '/mnt/ceib/datalake/FISABIO_datalake/p0042021/sub-000167/ses-000167/mim-mr/anat/sub-000167_ses-000167_acq-propeller_run-1000_bp-a_vp-ax_T2w.nii.gz',\n",
       "       '/mnt/ceib/datalake/FISABIO_datalake/p0042021/sub-000167/ses-000167/mim-mr/anat/sub-000167_ses-000167_acq-propeller_run-5_bp-a_vp-ax_T2w.nii.gz',\n",
       "       '/mnt/ceib/datalake/FISABIO_datalake/p0042021/sub-000119/ses-000119/mim-mr/anat/sub-000119_ses-000119_acq-fse_run-10_bp-p_vp-ax_T2w.nii.gz',\n",
       "       '/mnt/ceib/datalake/FISABIO_datalake/p0042021/sub-000028/ses-000028/mim-mr/anat/sub-000028_ses-000028_acq-blade_run-9_bp-p_vp-ax_T2w.nii.gz',\n",
       "       '/mnt/ceib/datalake/FISABIO_datalake/p0042021/sub-000083/ses-000083/mim-mr/anat/sub-000083_ses-000083_acq-fse_run-8_bp-p_vp-ax_T2w.nii.gz',\n",
       "       '/mnt/ceib/datalake/FISABIO_datalake/p0042021/sub-000022/ses-000022/mim-mr/anat/sub-000022_ses-000022_acq-fse_run-10_bp-a_vp-ax_T2w.nii.gz',\n",
       "       '/mnt/ceib/datalake/FISABIO_datalake/p0042021/sub-000077/ses-000077/mim-mr/anat/sub-000077_ses-000077_acq-fse_run-8_bp-c_vp-ax_T2w.nii.gz',\n",
       "       '/mnt/ceib/datalake/FISABIO_datalake/p0042021/sub-000105/ses-000105/mim-mr/anat/sub-000105_ses-000105_acq-fse_run-11_bp-a_vp-ax_T2w.nii.gz',\n",
       "       '/mnt/ceib/datalake/FISABIO_datalake/p0042021/sub-000099/ses-000099/mim-mr/anat/sub-000099_ses-000099_acq-fse_run-9_bp-p_vp-ax_T2w.nii.gz',\n",
       "       '/mnt/ceib/datalake/FISABIO_datalake/p0042021/sub-000156/ses-000156/mim-mr/anat/sub-000156_ses-000156_acq-fse_run-4_bp-a_vp-ax_T2w.nii.gz',\n",
       "       '/mnt/ceib/datalake/FISABIO_datalake/p0042021/sub-000064/ses-000064/mim-mr/anat/sub-000064_ses-000064_acq-fse_run-8_bp-p_vp-ax_T2w.nii.gz',\n",
       "       '/mnt/ceib/datalake/FISABIO_datalake/p0042021/sub-000060/ses-000060/mim-mr/anat/sub-000060_ses-000060_acq-blade_run-9001_bp-a_vp-ax_T2w.nii.gz',\n",
       "       '/mnt/ceib/datalake/FISABIO_datalake/p0042021/sub-000079/ses-000079/mim-mr/anat/sub-000079_ses-000079_acq-fse_run-7_bp-a_vp-ax_T2w.nii.gz',\n",
       "       '/mnt/ceib/datalake/FISABIO_datalake/p0042021/sub-000052/ses-000052/mim-mr/anat/sub-000052_ses-000052_acq-fse_run-9_bp-a_vp-ax_T2w.nii.gz',\n",
       "       '/mnt/ceib/datalake/FISABIO_datalake/p0042021/sub-009330/ses-010449/mim-mr/anat/sub-009330_ses-010449_acq-fse_run-501_bp-p_vp-ax_T2w.nii.gz',\n",
       "       '/mnt/ceib/datalake/FISABIO_datalake/p0042021/sub-009330/ses-010449/mim-mr/anat/sub-009330_ses-010449_acq-fse_run-301_bp-p_vp-ax_T2w.nii.gz',\n",
       "       '/mnt/ceib/datalake/FISABIO_datalake/p0042021/sub-000049/ses-000049/mim-mr/anat/sub-000049_ses-000049_acq-fse_run-7_bp-p_vp-ax_T2w.nii.gz',\n",
       "       '/mnt/ceib/datalake/FISABIO_datalake/p0042021/sub-000133/ses-000133/mim-mr/anat/sub-000133_ses-000133_acq-blade_run-12001_bp-p_vp-ax_T2w.nii.gz',\n",
       "       '/mnt/ceib/datalake/FISABIO_datalake/p0042021/sub-000133/ses-000133/mim-mr/anat/sub-000133_ses-000133_acq-blade_run-9001_bp-p_vp-ax_T2w.nii.gz',\n",
       "       '/mnt/ceib/datalake/FISABIO_datalake/p0042021/sub-000059/ses-000059/mim-mr/anat/sub-000059_ses-000059_acq-fse_run-12001_bp-a_vp-ax_T2w.nii.gz',\n",
       "       '/mnt/ceib/datalake/FISABIO_datalake/p0042021/sub-000059/ses-000059/mim-mr/anat/sub-000059_ses-000059_acq-blade_run-9001_bp-p_vp-ax_T2w.nii.gz',\n",
       "       '/mnt/ceib/datalake/FISABIO_datalake/p0042021/sub-000163/ses-000163/mim-mr/anat/sub-000163_ses-000163_acq-propeller_run-7_bp-a_vp-ax_T2w.nii.gz',\n",
       "       '/mnt/ceib/datalake/FISABIO_datalake/p0042021/sub-000163/ses-000163/mim-mr/anat/sub-000163_ses-000163_acq-propeller_run-700_bp-a_vp-ax_T2w.nii.gz',\n",
       "       '/mnt/ceib/datalake/FISABIO_datalake/p0042021/sub-000163/ses-000163/mim-mr/anat/sub-000163_ses-000163_acq-propeller_run-4_bp-a_vp-ax_T2w.nii.gz',\n",
       "       '/mnt/ceib/datalake/FISABIO_datalake/p0042021/sub-000074/ses-000074/mim-mr/anat/sub-000074_ses-000074_acq-fse_run-9_bp-c_vp-ax_T2w.nii.gz',\n",
       "       '/mnt/ceib/datalake/FISABIO_datalake/p0042021/sub-000141/ses-000141/mim-mr/anat/sub-000141_ses-000141_acq-blade_run-15001_bp-p_vp-ax_T2w.nii.gz',\n",
       "       '/mnt/ceib/datalake/FISABIO_datalake/p0042021/sub-000141/ses-000141/mim-mr/anat/sub-000141_ses-000141_acq-blade_run-9001_bp-p_vp-ax_T2w.nii.gz',\n",
       "       '/mnt/ceib/datalake/FISABIO_datalake/p0042021/sub-000148/ses-000148/mim-mr/anat/sub-000148_ses-000148_acq-fse_run-8_bp-a_vp-ax_T2w.nii.gz',\n",
       "       '/mnt/ceib/datalake/FISABIO_datalake/p0042021/sub-000129/ses-000129/mim-mr/anat/sub-000129_ses-000129_acq-fse_run-4_bp-p_vp-ax_T2w.nii.gz',\n",
       "       '/mnt/ceib/datalake/FISABIO_datalake/p0042021/sub-000145/ses-000145/mim-mr/anat/sub-000145_ses-000145_acq-fse_run-8_bp-a_vp-ax_T2w.nii.gz',\n",
       "       '/mnt/ceib/datalake/FISABIO_datalake/p0042021/sub-000088/ses-000088/mim-mr/anat/sub-000088_ses-000088_acq-fse_run-8_bp-p_vp-ax_T2w.nii.gz',\n",
       "       '/mnt/ceib/datalake/FISABIO_datalake/p0042021/sub-000098/ses-000098/mim-mr/anat/sub-000098_ses-000098_acq-fse_run-16_bp-a_vp-ax_T2w.nii.gz',\n",
       "       '/mnt/ceib/datalake/FISABIO_datalake/p0042021/sub-000098/ses-000098/mim-mr/anat/sub-000098_ses-000098_acq-fse_run-9_bp-a_vp-ax_T2w.nii.gz',\n",
       "       '/mnt/ceib/datalake/FISABIO_datalake/p0042021/sub-000054/ses-000054/mim-mr/anat/sub-000054_ses-000054_acq-fse_run-5_bp-p_vp-ax_T2w.nii.gz',\n",
       "       '/mnt/ceib/datalake/FISABIO_datalake/p0042021/sub-000056/ses-000056/mim-mr/anat/sub-000056_ses-000056_acq-blade_run-13001_bp-p_vp-ax_T2w.nii.gz',\n",
       "       '/mnt/ceib/datalake/FISABIO_datalake/p0042021/sub-000056/ses-000056/mim-mr/anat/sub-000056_ses-000056_acq-blade_run-10001_bp-p_vp-ax_T2w.nii.gz',\n",
       "       '/mnt/ceib/datalake/FISABIO_datalake/p0042021/sub-000126/ses-000126/mim-mr/anat/sub-000126_ses-000126_acq-propeller_run-4_bp-a_vp-ax_T2w.nii.gz',\n",
       "       '/mnt/ceib/datalake/FISABIO_datalake/p0042021/sub-000126/ses-000126/mim-mr/anat/sub-000126_ses-000126_acq-propeller_run-700_bp-a_vp-ax_T2w.nii.gz',\n",
       "       '/mnt/ceib/datalake/FISABIO_datalake/p0042021/sub-000126/ses-000126/mim-mr/anat/sub-000126_ses-000126_acq-propeller_run-7_bp-a_vp-ax_T2w.nii.gz',\n",
       "       '/mnt/ceib/datalake/FISABIO_datalake/p0042021/sub-000086/ses-000086/mim-mr/anat/sub-000086_ses-000086_acq-fse_run-8_bp-p_vp-ax_T2w.nii.gz',\n",
       "       '/mnt/ceib/datalake/FISABIO_datalake/p0042021/sub-000058/ses-000058/mim-mr/anat/sub-000058_ses-000058_acq-fse_run-10_bp-a_vp-ax_T2w.nii.gz',\n",
       "       '/mnt/ceib/datalake/FISABIO_datalake/p0042021/sub-000017/ses-000017/mim-mr/anat/sub-000017_ses-000017_acq-fse_run-10_bp-a_vp-ax_T2w.nii.gz',\n",
       "       '/mnt/ceib/datalake/FISABIO_datalake/p0042021/sub-000095/ses-000095/mim-mr/anat/sub-000095_ses-000095_acq-fse_run-9_bp-p_vp-ax_T2w.nii.gz',\n",
       "       '/mnt/ceib/datalake/FISABIO_datalake/p0042021/sub-000094/ses-000094/mim-mr/anat/sub-000094_ses-000094_acq-fse_run-8_bp-p_vp-ax_T2w.nii.gz',\n",
       "       '/mnt/ceib/datalake/FISABIO_datalake/p0042021/sub-000070/ses-000070/mim-mr/anat/sub-000070_ses-000070_acq-fse_run-17_bp-a_vp-ax_T2w.nii.gz',\n",
       "       '/mnt/ceib/datalake/FISABIO_datalake/p0042021/sub-000070/ses-000070/mim-mr/anat/sub-000070_ses-000070_acq-fse_run-16_bp-a_vp-ax_T2w.nii.gz',\n",
       "       '/mnt/ceib/datalake/FISABIO_datalake/p0042021/sub-000157/ses-000157/mim-mr/anat/sub-000157_ses-000157_acq-propeller_run-7_bp-a_vp-ax_T2w.nii.gz',\n",
       "       '/mnt/ceib/datalake/FISABIO_datalake/p0042021/sub-000157/ses-000157/mim-mr/anat/sub-000157_ses-000157_acq-propeller_run-4_bp-a_vp-ax_T2w.nii.gz',\n",
       "       '/mnt/ceib/datalake/FISABIO_datalake/p0042021/sub-000157/ses-000157/mim-mr/anat/sub-000157_ses-000157_acq-propeller_run-700_bp-a_vp-ax_T2w.nii.gz',\n",
       "       '/mnt/ceib/datalake/FISABIO_datalake/p0042021/sub-000011/ses-000011/mim-mr/anat/sub-000011_ses-000011_acq-fse_run-8_bp-p_vp-ax_T2w.nii.gz',\n",
       "       '/mnt/ceib/datalake/FISABIO_datalake/p0042021/sub-000139/ses-000139/mim-mr/anat/sub-000139_ses-000139_acq-fse_run-9_bp-a_vp-ax_T2w.nii.gz',\n",
       "       '/mnt/ceib/datalake/FISABIO_datalake/p0042021/sub-000182/ses-000182/mim-mr/anat/sub-000182_ses-000182_acq-propeller_run-5_bp-a_vp-ax_T2w.nii.gz',\n",
       "       '/mnt/ceib/datalake/FISABIO_datalake/p0042021/sub-000182/ses-000182/mim-mr/anat/sub-000182_ses-000182_acq-propeller_run-900_bp-a_vp-ax_T2w.nii.gz',\n",
       "       '/mnt/ceib/datalake/FISABIO_datalake/p0042021/sub-000182/ses-000182/mim-mr/anat/sub-000182_ses-000182_acq-propeller_run-9_bp-a_vp-ax_T2w.nii.gz',\n",
       "       '/mnt/ceib/datalake/FISABIO_datalake/p0042021/sub-000045/ses-000045/mim-mr/anat/sub-000045_ses-000045_acq-propeller_run-9_bp-a_vp-ax_T2w.nii.gz',\n",
       "       '/mnt/ceib/datalake/FISABIO_datalake/p0042021/sub-000045/ses-000045/mim-mr/anat/sub-000045_ses-000045_acq-propeller_run-5_bp-a_vp-ax_T2w.nii.gz',\n",
       "       '/mnt/ceib/datalake/FISABIO_datalake/p0042021/sub-000045/ses-000045/mim-mr/anat/sub-000045_ses-000045_acq-propeller_run-900_bp-a_vp-ax_T2w.nii.gz',\n",
       "       '/mnt/ceib/datalake/FISABIO_datalake/p0042021/sub-000149/ses-000149/mim-mr/anat/sub-000149_ses-000149_acq-fse_run-8_bp-a_vp-ax_T2w.nii.gz',\n",
       "       '/mnt/ceib/datalake/FISABIO_datalake/p0042021/sub-000109/ses-000109/mim-mr/anat/sub-000109_ses-000109_acq-fse_run-5_bp-p_vp-ax_T2w.nii.gz',\n",
       "       '/mnt/ceib/datalake/FISABIO_datalake/p0042021/sub-000029/ses-000029/mim-mr/anat/sub-000029_ses-000029_acq-fse_run-8_bp-a_vp-ax_T2w.nii.gz',\n",
       "       '/mnt/ceib/datalake/FISABIO_datalake/p0042021/sub-000189/ses-000189/mim-mr/anat/sub-000189_ses-000189_acq-fse_run-3_bp-p_vp-ax_T2w.nii.gz',\n",
       "       '/mnt/ceib/datalake/FISABIO_datalake/p0042021/sub-000189/ses-000189/mim-mr/anat/sub-000189_ses-000189_acq-propeller_run-40006_bp-p_vp-ax_T2w.nii.gz',\n",
       "       '/mnt/ceib/datalake/FISABIO_datalake/p0042021/sub-000189/ses-000189/mim-mr/anat/sub-000189_ses-000189_acq-propeller_run-6_bp-p_vp-ax_T2w.nii.gz',\n",
       "       '/mnt/ceib/datalake/FISABIO_datalake/p0042021/sub-000117/ses-000117/mim-mr/anat/sub-000117_ses-000117_acq-fse_run-12_bp-p_vp-ax_T2w.nii.gz',\n",
       "       '/mnt/ceib/datalake/FISABIO_datalake/p0042021/sub-000124/ses-000124/mim-mr/anat/sub-000124_ses-000124_acq-fse_run-8_bp-p_vp-ax_T2w.nii.gz',\n",
       "       '/mnt/ceib/datalake/FISABIO_datalake/p0042021/sub-000031/ses-000031/mim-mr/anat/sub-000031_ses-000031_acq-blade_run-13001_bp-p_vp-ax_T2w.nii.gz',\n",
       "       '/mnt/ceib/datalake/FISABIO_datalake/p0042021/sub-000031/ses-000031/mim-mr/anat/sub-000031_ses-000031_acq-blade_run-10001_bp-p_vp-ax_T2w.nii.gz',\n",
       "       '/mnt/ceib/datalake/FISABIO_datalake/p0042021/sub-000038/ses-000038/mim-mr/anat/sub-000038_ses-000038_acq-fse_run-7_bp-a_vp-ax_T2w.nii.gz',\n",
       "       '/mnt/ceib/datalake/FISABIO_datalake/p0042021/sub-000137/ses-000137/mim-mr/anat/sub-000137_ses-000137_acq-propeller_run-4_bp-a_vp-ax_T2w.nii.gz',\n",
       "       '/mnt/ceib/datalake/FISABIO_datalake/p0042021/sub-000137/ses-000137/mim-mr/anat/sub-000137_ses-000137_acq-propeller_run-7_bp-a_vp-ax_T2w.nii.gz',\n",
       "       '/mnt/ceib/datalake/FISABIO_datalake/p0042021/sub-000137/ses-000137/mim-mr/anat/sub-000137_ses-000137_acq-propeller_run-700_bp-a_vp-ax_T2w.nii.gz',\n",
       "       '/mnt/ceib/datalake/FISABIO_datalake/p0042021/sub-000118/ses-000118/mim-mr/anat/sub-000118_ses-000118_acq-fse_run-9_bp-p_vp-ax_T2w.nii.gz',\n",
       "       '/mnt/ceib/datalake/FISABIO_datalake/p0042021/sub-000040/ses-000040/mim-mr/anat/sub-000040_ses-000040_acq-fse_run-9_bp-c_vp-ax_T2w.nii.gz',\n",
       "       '/mnt/ceib/datalake/FISABIO_datalake/p0042021/sub-000116/ses-000116/mim-mr/anat/sub-000116_ses-000116_acq-fse_run-14_bp-p_vp-ax_T2w.nii.gz',\n",
       "       '/mnt/ceib/datalake/FISABIO_datalake/p0042021/sub-000116/ses-000116/mim-mr/anat/sub-000116_ses-000116_acq-fse_run-18_bp-p_vp-ax_T2w.nii.gz',\n",
       "       '/mnt/ceib/datalake/FISABIO_datalake/p0042021/sub-000013/ses-000013/mim-mr/anat/sub-000013_ses-000013_acq-blade_run-12001_bp-p_vp-ax_T2w.nii.gz',\n",
       "       '/mnt/ceib/datalake/FISABIO_datalake/p0042021/sub-000013/ses-000013/mim-mr/anat/sub-000013_ses-000013_acq-blade_run-9001_bp-p_vp-ax_T2w.nii.gz',\n",
       "       '/mnt/ceib/datalake/FISABIO_datalake/p0042021/sub-000068/ses-000068/mim-mr/anat/sub-000068_ses-000068_acq-fse_run-10_bp-p_vp-ax_T2w.nii.gz',\n",
       "       '/mnt/ceib/datalake/FISABIO_datalake/p0042021/sub-000100/ses-000100/mim-mr/anat/sub-000100_ses-000100_acq-fse_run-11_bp-a_vp-ax_T2w.nii.gz',\n",
       "       '/mnt/ceib/datalake/FISABIO_datalake/p0042021/sub-000114/ses-000114/mim-mr/anat/sub-000114_ses-000114_acq-fse_run-7_bp-p_vp-ax_T2w.nii.gz',\n",
       "       '/mnt/ceib/datalake/FISABIO_datalake/p0042021/sub-000101/ses-000101/mim-mr/anat/sub-000101_ses-000101_acq-fse_run-8_bp-a_vp-ax_T2w.nii.gz',\n",
       "       '/mnt/ceib/datalake/FISABIO_datalake/p0042021/sub-000101/ses-000101/mim-mr/anat/sub-000101_ses-000101_acq-fse_run-4_bp-a_vp-ax_T2w.nii.gz',\n",
       "       '/mnt/ceib/datalake/FISABIO_datalake/p0042021/sub-000122/ses-000122/mim-mr/anat/sub-000122_ses-000122_acq-fse_run-13_bp-p_vp-ax_T2w.nii.gz',\n",
       "       '/mnt/ceib/datalake/FISABIO_datalake/p0042021/sub-000089/ses-000089/mim-mr/anat/sub-000089_ses-000089_acq-fse_run-8_bp-r_vp-ax_T2w.nii.gz',\n",
       "       '/mnt/ceib/datalake/FISABIO_datalake/p0042021/sub-000027/ses-000027/mim-mr/anat/sub-000027_ses-000027_acq-blade_run-12001_bp-p_vp-ax_T2w.nii.gz',\n",
       "       '/mnt/ceib/datalake/FISABIO_datalake/p0042021/sub-000027/ses-000027/mim-mr/anat/sub-000027_ses-000027_acq-blade_run-9001_bp-p_vp-ax_T2w.nii.gz',\n",
       "       '/mnt/ceib/datalake/FISABIO_datalake/p0042021/sub-000055/ses-000055/mim-mr/anat/sub-000055_ses-000055_acq-fse_run-11_bp-p_vp-ax_T2w.nii.gz',\n",
       "       '/mnt/ceib/datalake/FISABIO_datalake/p0042021/sub-000055/ses-000055/mim-mr/anat/sub-000055_ses-000055_acq-fse_run-4_bp-p_vp-ax_T2w.nii.gz',\n",
       "       '/mnt/ceib/datalake/FISABIO_datalake/p0042021/sub-000053/ses-000053/mim-mr/anat/sub-000053_ses-000053_acq-fse_run-10_bp-p_vp-ax_T2w.nii.gz',\n",
       "       '/mnt/ceib/datalake/FISABIO_datalake/p0042021/sub-000125/ses-000125/mim-mr/anat/sub-000125_ses-000125_acq-fse_run-13_bp-a_vp-ax_T2w.nii.gz',\n",
       "       '/mnt/ceib/datalake/FISABIO_datalake/p0042021/sub-000039/ses-000039/mim-mr/anat/sub-000039_ses-000039_acq-fse_run-8_bp-c_vp-ax_T2w.nii.gz',\n",
       "       '/mnt/ceib/datalake/FISABIO_datalake/p0042021/sub-000186/ses-000186/mim-mr/anat/sub-000186_ses-000186_acq-propeller_run-7_bp-a_vp-ax_T2w.nii.gz',\n",
       "       '/mnt/ceib/datalake/FISABIO_datalake/p0042021/sub-000186/ses-000186/mim-mr/anat/sub-000186_ses-000186_acq-propeller_run-4_bp-a_vp-ax_T2w.nii.gz',\n",
       "       '/mnt/ceib/datalake/FISABIO_datalake/p0042021/sub-000186/ses-000186/mim-mr/anat/sub-000186_ses-000186_acq-propeller_run-700_bp-a_vp-ax_T2w.nii.gz',\n",
       "       '/mnt/ceib/datalake/FISABIO_datalake/p0042021/sub-000183/ses-000183/mim-mr/anat/sub-000183_ses-000183_acq-fse_run-4_bp-h_vp-ax_T2w.nii.gz',\n",
       "       '/mnt/ceib/datalake/FISABIO_datalake/p0042021/sub-000183/ses-000183/mim-mr/anat/sub-000183_ses-000183_acq-fse_run-7_bp-p_vp-ax_T2w.nii.gz',\n",
       "       '/mnt/ceib/datalake/FISABIO_datalake/p0042021/sub-000191/ses-000191/mim-mr/anat/sub-000191_ses-000191_acq-propeller_run-800_bp-a_vp-ax_T2w.nii.gz',\n",
       "       '/mnt/ceib/datalake/FISABIO_datalake/p0042021/sub-000191/ses-000191/mim-mr/anat/sub-000191_ses-000191_acq-propeller_run-5_bp-a_vp-ax_T2w.nii.gz',\n",
       "       '/mnt/ceib/datalake/FISABIO_datalake/p0042021/sub-000191/ses-000191/mim-mr/anat/sub-000191_ses-000191_acq-propeller_run-8_bp-a_vp-ax_T2w.nii.gz',\n",
       "       '/mnt/ceib/datalake/FISABIO_datalake/p0042021/sub-000020/ses-000020/mim-mr/anat/sub-000020_ses-000020_acq-fse_run-9_bp-p_vp-ax_T2w.nii.gz',\n",
       "       '/mnt/ceib/datalake/FISABIO_datalake/p0042021/sub-000008/ses-000008/mim-mr/anat/sub-000008_ses-000008_acq-fse_run-11_bp-a_vp-ax_T2w.nii.gz',\n",
       "       '/mnt/ceib/datalake/FISABIO_datalake/p0042021/sub-000046/ses-000046/mim-mr/anat/sub-000046_ses-000046_acq-fse_run-9_bp-a_vp-ax_T2w.nii.gz',\n",
       "       '/mnt/ceib/datalake/FISABIO_datalake/p0042021/sub-000036/ses-000036/mim-mr/anat/sub-000036_ses-000036_acq-fse_run-8_bp-c_vp-ax_T2w.nii.gz',\n",
       "       '/mnt/ceib/datalake/FISABIO_datalake/p0042021/sub-000147/ses-000147/mim-mr/anat/sub-000147_ses-000147_acq-fse_run-9_bp-p_vp-ax_T2w.nii.gz',\n",
       "       '/mnt/ceib/datalake/FISABIO_datalake/p0042021/sub-000144/ses-000144/mim-mr/anat/sub-000144_ses-000144_acq-blade_run-9001_bp-p_vp-ax_T2w.nii.gz',\n",
       "       '/mnt/ceib/datalake/FISABIO_datalake/p0042021/sub-000144/ses-000144/mim-mr/anat/sub-000144_ses-000144_acq-blade_run-12001_bp-p_vp-ax_T2w.nii.gz',\n",
       "       '/mnt/ceib/datalake/FISABIO_datalake/p0042021/sub-000012/ses-000012/mim-mr/anat/sub-000012_ses-000012_acq-fse_run-8_bp-a_vp-ax_T2w.nii.gz',\n",
       "       '/mnt/ceib/datalake/FISABIO_datalake/p0042021/sub-000037/ses-000037/mim-mr/anat/sub-000037_ses-000037_acq-fse_run-6_bp-p_vp-ax_T2w.nii.gz',\n",
       "       '/mnt/ceib/datalake/FISABIO_datalake/p0042021/sub-000037/ses-000037/mim-mr/anat/sub-000037_ses-000037_acq-fse_run-8_bp-p_vp-ax_T2w.nii.gz',\n",
       "       '/mnt/ceib/datalake/FISABIO_datalake/p0042021/sub-000019/ses-000019/mim-mr/anat/sub-000019_ses-000019_acq-fse_run-7_bp-a_vp-ax_T2w.nii.gz',\n",
       "       '/mnt/ceib/datalake/FISABIO_datalake/p0042021/sub-000010/ses-000010/mim-mr/anat/sub-000010_ses-000010_acq-blade_run-9001_bp-p_vp-ax_T2w.nii.gz',\n",
       "       '/mnt/ceib/datalake/FISABIO_datalake/p0042021/sub-000128/ses-000128/mim-mr/anat/sub-000128_ses-000128_acq-blade_run-12001_bp-p_vp-ax_T2w.nii.gz',\n",
       "       '/mnt/ceib/datalake/FISABIO_datalake/p0042021/sub-000128/ses-000128/mim-mr/anat/sub-000128_ses-000128_acq-blade_run-9001_bp-p_vp-ax_T2w.nii.gz',\n",
       "       '/mnt/ceib/datalake/FISABIO_datalake/p0042021/sub-000104/ses-000104/mim-mr/anat/sub-000104_ses-000104_acq-fse_run-9_bp-p_vp-ax_T2w.nii.gz',\n",
       "       '/mnt/ceib/datalake/FISABIO_datalake/p0042021/sub-000106/ses-000106/mim-mr/anat/sub-000106_ses-000106_acq-fse_run-8_bp-p_vp-ax_T2w.nii.gz',\n",
       "       '/mnt/ceib/datalake/FISABIO_datalake/p0042021/sub-000069/ses-000069/mim-mr/anat/sub-000069_ses-000069_acq-fse_run-8_bp-p_vp-ax_T2w.nii.gz',\n",
       "       '/mnt/ceib/datalake/FISABIO_datalake/p0042021/sub-000107/ses-000107/mim-mr/anat/sub-000107_ses-000107_acq-fse_run-10_bp-a_vp-ax_T2w.nii.gz',\n",
       "       '/mnt/ceib/datalake/FISABIO_datalake/p0042021/sub-000173/ses-000173/mim-mr/anat/sub-000173_ses-000173_acq-propeller_run-700_bp-a_vp-ax_T2w.nii.gz',\n",
       "       '/mnt/ceib/datalake/FISABIO_datalake/p0042021/sub-000173/ses-000173/mim-mr/anat/sub-000173_ses-000173_acq-propeller_run-4_bp-a_vp-ax_T2w.nii.gz',\n",
       "       '/mnt/ceib/datalake/FISABIO_datalake/p0042021/sub-000173/ses-000173/mim-mr/anat/sub-000173_ses-000173_acq-propeller_run-7_bp-a_vp-ax_T2w.nii.gz',\n",
       "       '/mnt/ceib/datalake/FISABIO_datalake/p0042021/sub-000092/ses-000092/mim-mr/anat/sub-000092_ses-000092_acq-fse_run-8_bp-p_vp-ax_T2w.nii.gz',\n",
       "       '/mnt/ceib/datalake/FISABIO_datalake/p0042021/sub-000092/ses-000092/mim-mr/anat/sub-000092_ses-000092_acq-fse_run-13_bp-p_vp-ax_T2w.nii.gz',\n",
       "       '/mnt/ceib/datalake/FISABIO_datalake/p0042021/sub-000003/ses-000003/mim-mr/anat/sub-000003_ses-000003_acq-fse_run-10_bp-a_vp-ax_T2w.nii.gz',\n",
       "       '/mnt/ceib/datalake/FISABIO_datalake/p0042021/sub-000111/ses-000111/mim-mr/anat/sub-000111_ses-000111_acq-fse_run-8_bp-a_vp-ax_T2w.nii.gz',\n",
       "       '/mnt/ceib/datalake/FISABIO_datalake/p0042021/sub-000120/ses-000120/mim-mr/anat/sub-000120_ses-000120_acq-fse_run-8_bp-a_vp-ax_T2w.nii.gz'],\n",
       "      dtype=object)"
      ]
     },
     "execution_count": 40,
     "metadata": {},
     "output_type": "execute_result"
    }
   ],
   "source": [
    "images_paths"
   ]
  },
  {
   "cell_type": "code",
   "execution_count": 41,
   "metadata": {},
   "outputs": [
    {
     "name": "stdout",
     "output_type": "stream",
     "text": [
      "Error in /mnt/ceib/datalake/FISABIO_datalake/p0042021/sub-000028/ses-000028/mim-mr/anat/sub-000028_ses-000028_acq-blade_run-9_bp-p_vp-ax_T2w.nii.gz\n",
      "Exception thrown in SimpleITK ImageFileReader_Execute: /tmp/SimpleITK/Code/IO/src/sitkImageReaderBase.cxx:97:\n",
      "sitk::ERROR: The file \"/mnt/ceib/datalake/FISABIO_datalake/p0042021/sub-000028/ses-000028/mim-mr/anat/sub-000028_ses-000028_acq-blade_run-9_bp-p_vp-ax_T2w.nii.gz\" does not exist.\n"
     ]
    }
   ],
   "source": [
    "# Create temporal folder to save the images in nnUNet format\n",
    "tmp_folder_imgs = \"Prostate_Cancer_TFM/Prostate_Segmentation/sample_images/tmp_images\"\n",
    "tmp_folder_preds = \"Prostate_Cancer_TFM/Prostate_Segmentation/sample_images/tmp_predictions\"\n",
    "\n",
    "associated_paths = []\n",
    "\n",
    "if not os.path.exists(tmp_folder_imgs):\n",
    "    os.makedirs(tmp_folder_imgs)\n",
    "if not os.path.exists(tmp_folder_preds):\n",
    "    os.makedirs(tmp_folder_preds)\n",
    "\n",
    "# Copying img to model predictions folder.\n",
    "for i, path in enumerate(images_paths):\n",
    "    try:\n",
    "        new_path = os.path.join(tmp_folder_imgs, f\"Sample{i}_0000.nii.gz\")\n",
    "        image = sitk.ReadImage(path)\n",
    "\n",
    "        image = crop(image, margin=[0.2,0.2,0.0])\n",
    "        associated_paths.append({'original_path': path, 'path_nnunet': new_path})\n",
    "        sitk.WriteImage(image, new_path)\n",
    "\n",
    "    except Exception as e:\n",
    "        print(f\"Error in {path}\")\n",
    "        print(e)\n",
    "\n",
    "associated_paths = pd.DataFrame(associated_paths)"
   ]
  },
  {
   "cell_type": "code",
   "execution_count": 82,
   "metadata": {},
   "outputs": [],
   "source": [
    "# instantiate the nnUNetPredictor\n",
    "predictor = nnUNetPredictor(\n",
    "    tile_step_size=0.5,\n",
    "    use_gaussian=True,\n",
    "    use_mirroring=True,\n",
    "    perform_everything_on_device=True,\n",
    "    device=torch.device('cuda', 0),\n",
    "    verbose=True,\n",
    "    verbose_preprocessing=True,\n",
    "    allow_tqdm=True\n",
    ")"
   ]
  },
  {
   "cell_type": "code",
   "execution_count": 83,
   "metadata": {},
   "outputs": [],
   "source": [
    "# initializes the network architecture, loads the checkpoint\n",
    "results_folder = \"/nvmescratch/ceib/Prostate/nnUnet/nnUNet_results/Dataset014_ProstateOwn/nnUNetTrainer_100epochs__nnUNetPlans__3d_fullres\"\n",
    "predictor.initialize_from_trained_model_folder(\n",
    "    results_folder,\n",
    "    use_folds=(0,1,2,3,4),\n",
    "    checkpoint_name='checkpoint_best.pth',\n",
    ")"
   ]
  },
  {
   "cell_type": "code",
   "execution_count": 93,
   "metadata": {},
   "outputs": [
    {
     "name": "stdout",
     "output_type": "stream",
     "text": [
      "There are 1 cases in the source folder\n",
      "I am process 0 out of 1 (max process ID is 0, we start counting with 0!)\n",
      "There are 1 cases that I would like to predict\n",
      "old shape: (36, 308, 308), new_shape: [ 35 257 257], old_spacing: [3.0, 0.3905999958515167, 0.3905999958515167], new_spacing: [3.089737057685852, 0.46875, 0.46875], fn_data: functools.partial(<function resample_data_or_seg_to_shape at 0x7fe3ea11ce50>, is_seg=False, order=3, order_z=0, force_separate_z=None)\n",
      "\n",
      "Predicting ProstateSample.nii.gz:\n",
      "perform_everything_on_device: True\n",
      "Input shape: torch.Size([1, 35, 257, 257])\n",
      "step_size: 0.5\n",
      "mirror_axes: (0, 1, 2)\n",
      "n_steps 8, image size is torch.Size([35, 257, 257]), tile_size [24, 256, 256], tile_step_size 0.5\n",
      "steps:\n",
      "[[0, 11], [0, 1], [0, 1]]\n",
      "move image to device cuda:0\n",
      "preallocating results arrays on device cuda:0\n",
      "running prediction\n"
     ]
    },
    {
     "name": "stderr",
     "output_type": "stream",
     "text": [
      "100%|██████████| 8/8 [00:02<00:00,  3.11it/s]\n"
     ]
    },
    {
     "name": "stdout",
     "output_type": "stream",
     "text": [
      "Input shape: torch.Size([1, 35, 257, 257])\n",
      "step_size: 0.5\n",
      "mirror_axes: (0, 1, 2)\n",
      "n_steps 8, image size is torch.Size([35, 257, 257]), tile_size [24, 256, 256], tile_step_size 0.5\n",
      "steps:\n",
      "[[0, 11], [0, 1], [0, 1]]\n",
      "move image to device cuda:0\n",
      "preallocating results arrays on device cuda:0\n",
      "running prediction\n"
     ]
    },
    {
     "name": "stderr",
     "output_type": "stream",
     "text": [
      "100%|██████████| 8/8 [00:02<00:00,  3.13it/s]\n"
     ]
    },
    {
     "name": "stdout",
     "output_type": "stream",
     "text": [
      "Input shape: torch.Size([1, 35, 257, 257])\n",
      "step_size: 0.5\n",
      "mirror_axes: (0, 1, 2)\n",
      "n_steps 8, image size is torch.Size([35, 257, 257]), tile_size [24, 256, 256], tile_step_size 0.5\n",
      "steps:\n",
      "[[0, 11], [0, 1], [0, 1]]\n",
      "move image to device cuda:0\n",
      "preallocating results arrays on device cuda:0\n",
      "running prediction\n"
     ]
    },
    {
     "name": "stderr",
     "output_type": "stream",
     "text": [
      "100%|██████████| 8/8 [00:02<00:00,  3.13it/s]\n"
     ]
    },
    {
     "name": "stdout",
     "output_type": "stream",
     "text": [
      "Input shape: torch.Size([1, 35, 257, 257])\n",
      "step_size: 0.5\n",
      "mirror_axes: (0, 1, 2)\n",
      "n_steps 8, image size is torch.Size([35, 257, 257]), tile_size [24, 256, 256], tile_step_size 0.5\n",
      "steps:\n",
      "[[0, 11], [0, 1], [0, 1]]\n",
      "move image to device cuda:0\n",
      "preallocating results arrays on device cuda:0\n",
      "running prediction\n"
     ]
    },
    {
     "name": "stderr",
     "output_type": "stream",
     "text": [
      "100%|██████████| 8/8 [00:02<00:00,  3.13it/s]\n"
     ]
    },
    {
     "name": "stdout",
     "output_type": "stream",
     "text": [
      "Input shape: torch.Size([1, 35, 257, 257])\n",
      "step_size: 0.5\n",
      "mirror_axes: (0, 1, 2)\n",
      "n_steps 8, image size is torch.Size([35, 257, 257]), tile_size [24, 256, 256], tile_step_size 0.5\n",
      "steps:\n",
      "[[0, 11], [0, 1], [0, 1]]\n",
      "move image to device cuda:0\n",
      "preallocating results arrays on device cuda:0\n",
      "running prediction\n"
     ]
    },
    {
     "name": "stderr",
     "output_type": "stream",
     "text": [
      "100%|██████████| 8/8 [00:02<00:00,  3.11it/s]\n"
     ]
    },
    {
     "name": "stdout",
     "output_type": "stream",
     "text": [
      "Prediction done\n",
      "sending off prediction to background worker for resampling and export\n",
      "done with ProstateSample.nii.gz\n"
     ]
    },
    {
     "data": {
      "text/plain": [
       "[None]"
      ]
     },
     "execution_count": 93,
     "metadata": {},
     "output_type": "execute_result"
    }
   ],
   "source": [
    "# Save Segmentations\n",
    "predictor.predict_from_files([images_list],\n",
    "                            images_outdir,\n",
    "                            save_probabilities=False, overwrite=True,\n",
    "                            num_processes_preprocessing=2, num_processes_segmentation_export=2,\n",
    "                            folder_with_segs_from_prev_stage=None, num_parts=1, part_id=0)"
   ]
  },
  {
   "cell_type": "code",
   "execution_count": 50,
   "metadata": {},
   "outputs": [
    {
     "name": "stdout",
     "output_type": "stream",
     "text": [
      "There are 1 cases in the source folder\n",
      "I am process 0 out of 1 (max process ID is 0, we start counting with 0!)\n",
      "There are 1 cases that I would like to predict\n",
      "\n",
      "Predicting image of shape torch.Size([1, 23, 341, 339]):\n",
      "perform_everything_on_device: True\n"
     ]
    },
    {
     "name": "stderr",
     "output_type": "stream",
     "text": [
      "100%|██████████| 4/4 [00:01<00:00,  3.28it/s]\n",
      "100%|██████████| 4/4 [00:01<00:00,  3.33it/s]\n",
      "100%|██████████| 4/4 [00:01<00:00,  3.33it/s]\n",
      "100%|██████████| 4/4 [00:01<00:00,  3.33it/s]\n",
      "100%|██████████| 4/4 [00:01<00:00,  3.33it/s]\n"
     ]
    },
    {
     "name": "stdout",
     "output_type": "stream",
     "text": [
      "sending off prediction to background worker for resampling\n",
      "\n",
      "Done with image of shape torch.Size([1, 23, 341, 339]):\n"
     ]
    }
   ],
   "source": [
    "# Predict Array\n",
    "prediction = predictor.predict_from_files([images_list],\n",
    "                            None,\n",
    "                            save_probabilities=True, overwrite=True,\n",
    "                            num_processes_preprocessing=2, num_processes_segmentation_export=2,\n",
    "                            folder_with_segs_from_prev_stage=None, num_parts=1, part_id=0)"
   ]
  },
  {
   "cell_type": "markdown",
   "metadata": {},
   "source": [
    "# Prediction for Bounding Boxes Data"
   ]
  },
  {
   "cell_type": "markdown",
   "metadata": {},
   "source": [
    "## Organize Dataset"
   ]
  },
  {
   "cell_type": "code",
   "execution_count": 248,
   "metadata": {},
   "outputs": [],
   "source": [
    "df_bounding_boxes = pd.read_csv(\"Prostate_Cancer_TFM/Files/Bounding_Boxes/Only_Bounding.csv\")\n",
    "t2_images = df_bounding_boxes[df_bounding_boxes['modality'] == 'T2'].reset_index(drop=True)"
   ]
  },
  {
   "cell_type": "code",
   "execution_count": 249,
   "metadata": {},
   "outputs": [
    {
     "data": {
      "text/html": [
       "<div>\n",
       "<style scoped>\n",
       "    .dataframe tbody tr th:only-of-type {\n",
       "        vertical-align: middle;\n",
       "    }\n",
       "\n",
       "    .dataframe tbody tr th {\n",
       "        vertical-align: top;\n",
       "    }\n",
       "\n",
       "    .dataframe thead th {\n",
       "        text-align: right;\n",
       "    }\n",
       "</style>\n",
       "<table border=\"1\" class=\"dataframe\">\n",
       "  <thead>\n",
       "    <tr style=\"text-align: right;\">\n",
       "      <th></th>\n",
       "      <th>subject</th>\n",
       "      <th>session</th>\n",
       "      <th>image</th>\n",
       "      <th>image_associated</th>\n",
       "      <th>bounding_box</th>\n",
       "      <th>SeriesDescription</th>\n",
       "      <th>image_nifti</th>\n",
       "      <th>bval</th>\n",
       "      <th>bvec</th>\n",
       "      <th>modality</th>\n",
       "    </tr>\n",
       "  </thead>\n",
       "  <tbody>\n",
       "    <tr>\n",
       "      <th>0</th>\n",
       "      <td>5586</td>\n",
       "      <td>6040</td>\n",
       "      <td>p0052021/005586/006040/8/DICOM</td>\n",
       "      <td>p0052021/005586/006040/8/DICOM</td>\n",
       "      <td>p0052021/005586/006040/SEG_20240113_205302_952...</td>\n",
       "      <td>ax T2</td>\n",
       "      <td>/nvmescratch/ceib/Prostate/Bounding_Boxes/p005...</td>\n",
       "      <td>NaN</td>\n",
       "      <td>NaN</td>\n",
       "      <td>T2</td>\n",
       "    </tr>\n",
       "    <tr>\n",
       "      <th>1</th>\n",
       "      <td>5586</td>\n",
       "      <td>6040</td>\n",
       "      <td>p0052021/005586/006040/7/DICOM</td>\n",
       "      <td>p0052021/005586/006040/7/DICOM</td>\n",
       "      <td>p0052021/005586/006040/SEG_20240113_205223_953...</td>\n",
       "      <td>Ax T2 ADENOPATIAS</td>\n",
       "      <td>/nvmescratch/ceib/Prostate/Bounding_Boxes/p005...</td>\n",
       "      <td>NaN</td>\n",
       "      <td>NaN</td>\n",
       "      <td>T2</td>\n",
       "    </tr>\n",
       "    <tr>\n",
       "      <th>2</th>\n",
       "      <td>5596</td>\n",
       "      <td>6050</td>\n",
       "      <td>p0052021/005596/006050/13001/DICOM</td>\n",
       "      <td>p0052021/005596/006050/13001/DICOM</td>\n",
       "      <td>p0052021/005596/006050/SEG_20240113_211223_114...</td>\n",
       "      <td>AXIAL T2 TSE</td>\n",
       "      <td>/nvmescratch/ceib/Prostate/Bounding_Boxes/p005...</td>\n",
       "      <td>NaN</td>\n",
       "      <td>NaN</td>\n",
       "      <td>T2</td>\n",
       "    </tr>\n",
       "    <tr>\n",
       "      <th>3</th>\n",
       "      <td>5700</td>\n",
       "      <td>6173</td>\n",
       "      <td>p0052021/005700/006173/6/DICOM</td>\n",
       "      <td>p0052021/005700/006173/6/DICOM</td>\n",
       "      <td>p0052021/005700/006173/SEG_20240113_211858_507...</td>\n",
       "      <td>AXIAL  T2 ALTA RES. (de abajo arriba en próstata)</td>\n",
       "      <td>/nvmescratch/ceib/Prostate/Bounding_Boxes/p005...</td>\n",
       "      <td>NaN</td>\n",
       "      <td>NaN</td>\n",
       "      <td>T2</td>\n",
       "    </tr>\n",
       "    <tr>\n",
       "      <th>4</th>\n",
       "      <td>5665</td>\n",
       "      <td>6131</td>\n",
       "      <td>p0052021/005665/006131/6/DICOM</td>\n",
       "      <td>p0052021/005665/006131/6/DICOM</td>\n",
       "      <td>p0052021/005665/006131/SEG_20240115_203626_074...</td>\n",
       "      <td>Ax T2 FSE</td>\n",
       "      <td>/nvmescratch/ceib/Prostate/Bounding_Boxes/p005...</td>\n",
       "      <td>NaN</td>\n",
       "      <td>NaN</td>\n",
       "      <td>T2</td>\n",
       "    </tr>\n",
       "    <tr>\n",
       "      <th>...</th>\n",
       "      <td>...</td>\n",
       "      <td>...</td>\n",
       "      <td>...</td>\n",
       "      <td>...</td>\n",
       "      <td>...</td>\n",
       "      <td>...</td>\n",
       "      <td>...</td>\n",
       "      <td>...</td>\n",
       "      <td>...</td>\n",
       "      <td>...</td>\n",
       "    </tr>\n",
       "    <tr>\n",
       "      <th>226</th>\n",
       "      <td>5636</td>\n",
       "      <td>6097</td>\n",
       "      <td>p0052021/005636/006097/501/DICOM</td>\n",
       "      <td>p0052021/005636/006097/501/DICOM</td>\n",
       "      <td>p0052021/005636/006097/SEG_20240113_202733_764...</td>\n",
       "      <td>T2W_TSE_TRA_IQ</td>\n",
       "      <td>/nvmescratch/ceib/Prostate/Bounding_Boxes/p005...</td>\n",
       "      <td>NaN</td>\n",
       "      <td>NaN</td>\n",
       "      <td>T2</td>\n",
       "    </tr>\n",
       "    <tr>\n",
       "      <th>227</th>\n",
       "      <td>5613</td>\n",
       "      <td>6070</td>\n",
       "      <td>p0052021/005613/006070/6/DICOM</td>\n",
       "      <td>p0052021/005613/006070/6/DICOM</td>\n",
       "      <td>p0052021/005613/006070/SEG_20240113_203814_089...</td>\n",
       "      <td>AX T2 PROPELLER</td>\n",
       "      <td>/nvmescratch/ceib/Prostate/Bounding_Boxes/p005...</td>\n",
       "      <td>NaN</td>\n",
       "      <td>NaN</td>\n",
       "      <td>T2</td>\n",
       "    </tr>\n",
       "    <tr>\n",
       "      <th>228</th>\n",
       "      <td>5646</td>\n",
       "      <td>6108</td>\n",
       "      <td>p0052021/005646/006108/7/DICOM</td>\n",
       "      <td>p0052021/005646/006108/7/DICOM</td>\n",
       "      <td>p0052021/005646/006108/SEG_20240113_210319_135...</td>\n",
       "      <td>Ax T2 FSE</td>\n",
       "      <td>/nvmescratch/ceib/Prostate/Bounding_Boxes/p005...</td>\n",
       "      <td>NaN</td>\n",
       "      <td>NaN</td>\n",
       "      <td>T2</td>\n",
       "    </tr>\n",
       "    <tr>\n",
       "      <th>229</th>\n",
       "      <td>5399</td>\n",
       "      <td>5819</td>\n",
       "      <td>p0052021/005399/005819/701/DICOM</td>\n",
       "      <td>p0052021/005399/005819/701/DICOM</td>\n",
       "      <td>p0052021/005399/005819/SEG_20240109_114231_571...</td>\n",
       "      <td>T2W_TSE</td>\n",
       "      <td>/nvmescratch/ceib/Prostate/Bounding_Boxes/p005...</td>\n",
       "      <td>NaN</td>\n",
       "      <td>NaN</td>\n",
       "      <td>T2</td>\n",
       "    </tr>\n",
       "    <tr>\n",
       "      <th>230</th>\n",
       "      <td>5399</td>\n",
       "      <td>5819</td>\n",
       "      <td>p0052021/005399/005819/401/DICOM</td>\n",
       "      <td>p0052021/005399/005819/401/DICOM</td>\n",
       "      <td>p0052021/005399/005819/SEG_20240109_114054_657...</td>\n",
       "      <td>T2W FAST TRA</td>\n",
       "      <td>/nvmescratch/ceib/Prostate/Bounding_Boxes/p005...</td>\n",
       "      <td>NaN</td>\n",
       "      <td>NaN</td>\n",
       "      <td>T2</td>\n",
       "    </tr>\n",
       "  </tbody>\n",
       "</table>\n",
       "<p>231 rows × 10 columns</p>\n",
       "</div>"
      ],
      "text/plain": [
       "     subject  session                               image  \\\n",
       "0       5586     6040      p0052021/005586/006040/8/DICOM   \n",
       "1       5586     6040      p0052021/005586/006040/7/DICOM   \n",
       "2       5596     6050  p0052021/005596/006050/13001/DICOM   \n",
       "3       5700     6173      p0052021/005700/006173/6/DICOM   \n",
       "4       5665     6131      p0052021/005665/006131/6/DICOM   \n",
       "..       ...      ...                                 ...   \n",
       "226     5636     6097    p0052021/005636/006097/501/DICOM   \n",
       "227     5613     6070      p0052021/005613/006070/6/DICOM   \n",
       "228     5646     6108      p0052021/005646/006108/7/DICOM   \n",
       "229     5399     5819    p0052021/005399/005819/701/DICOM   \n",
       "230     5399     5819    p0052021/005399/005819/401/DICOM   \n",
       "\n",
       "                       image_associated  \\\n",
       "0        p0052021/005586/006040/8/DICOM   \n",
       "1        p0052021/005586/006040/7/DICOM   \n",
       "2    p0052021/005596/006050/13001/DICOM   \n",
       "3        p0052021/005700/006173/6/DICOM   \n",
       "4        p0052021/005665/006131/6/DICOM   \n",
       "..                                  ...   \n",
       "226    p0052021/005636/006097/501/DICOM   \n",
       "227      p0052021/005613/006070/6/DICOM   \n",
       "228      p0052021/005646/006108/7/DICOM   \n",
       "229    p0052021/005399/005819/701/DICOM   \n",
       "230    p0052021/005399/005819/401/DICOM   \n",
       "\n",
       "                                          bounding_box  \\\n",
       "0    p0052021/005586/006040/SEG_20240113_205302_952...   \n",
       "1    p0052021/005586/006040/SEG_20240113_205223_953...   \n",
       "2    p0052021/005596/006050/SEG_20240113_211223_114...   \n",
       "3    p0052021/005700/006173/SEG_20240113_211858_507...   \n",
       "4    p0052021/005665/006131/SEG_20240115_203626_074...   \n",
       "..                                                 ...   \n",
       "226  p0052021/005636/006097/SEG_20240113_202733_764...   \n",
       "227  p0052021/005613/006070/SEG_20240113_203814_089...   \n",
       "228  p0052021/005646/006108/SEG_20240113_210319_135...   \n",
       "229  p0052021/005399/005819/SEG_20240109_114231_571...   \n",
       "230  p0052021/005399/005819/SEG_20240109_114054_657...   \n",
       "\n",
       "                                     SeriesDescription  \\\n",
       "0                                                ax T2   \n",
       "1                                    Ax T2 ADENOPATIAS   \n",
       "2                                         AXIAL T2 TSE   \n",
       "3    AXIAL  T2 ALTA RES. (de abajo arriba en próstata)   \n",
       "4                                            Ax T2 FSE   \n",
       "..                                                 ...   \n",
       "226                                     T2W_TSE_TRA_IQ   \n",
       "227                                    AX T2 PROPELLER   \n",
       "228                                          Ax T2 FSE   \n",
       "229                                            T2W_TSE   \n",
       "230                                       T2W FAST TRA   \n",
       "\n",
       "                                           image_nifti bval bvec modality  \n",
       "0    /nvmescratch/ceib/Prostate/Bounding_Boxes/p005...  NaN  NaN       T2  \n",
       "1    /nvmescratch/ceib/Prostate/Bounding_Boxes/p005...  NaN  NaN       T2  \n",
       "2    /nvmescratch/ceib/Prostate/Bounding_Boxes/p005...  NaN  NaN       T2  \n",
       "3    /nvmescratch/ceib/Prostate/Bounding_Boxes/p005...  NaN  NaN       T2  \n",
       "4    /nvmescratch/ceib/Prostate/Bounding_Boxes/p005...  NaN  NaN       T2  \n",
       "..                                                 ...  ...  ...      ...  \n",
       "226  /nvmescratch/ceib/Prostate/Bounding_Boxes/p005...  NaN  NaN       T2  \n",
       "227  /nvmescratch/ceib/Prostate/Bounding_Boxes/p005...  NaN  NaN       T2  \n",
       "228  /nvmescratch/ceib/Prostate/Bounding_Boxes/p005...  NaN  NaN       T2  \n",
       "229  /nvmescratch/ceib/Prostate/Bounding_Boxes/p005...  NaN  NaN       T2  \n",
       "230  /nvmescratch/ceib/Prostate/Bounding_Boxes/p005...  NaN  NaN       T2  \n",
       "\n",
       "[231 rows x 10 columns]"
      ]
     },
     "execution_count": 249,
     "metadata": {},
     "output_type": "execute_result"
    }
   ],
   "source": [
    "t2_images"
   ]
  },
  {
   "cell_type": "code",
   "execution_count": 250,
   "metadata": {},
   "outputs": [],
   "source": [
    "# Create temporal folder to save the images in nnUNet format\n",
    "tmp_folder_imgs = \"Prostate_Cancer_TFM/Prostate_Segmentation/sample_images/tmp_images\"\n",
    "tmp_folder_preds = \"Prostate_Cancer_TFM/Prostate_Segmentation/sample_images/tmp_predictions\"\n",
    "\n",
    "associated_paths = []\n",
    "\n",
    "if not os.path.exists(tmp_folder_imgs):\n",
    "    os.makedirs(tmp_folder_imgs)\n",
    "if not os.path.exists(tmp_folder_preds):\n",
    "    os.makedirs(tmp_folder_preds)\n",
    "\n",
    "# Copying img to model predictions folder.\n",
    "for i, path in enumerate(t2_images['image_nifti']):\n",
    "\n",
    "    new_path = os.path.join(tmp_folder_imgs, f\"Sample{i}_0000.nii.gz\")\n",
    "    image = sitk.ReadImage(path)\n",
    "\n",
    "    image = crop(image, margin=[0.2,0.2,0.0])\n",
    "    associated_paths.append({'original_path': path, 'path_nnunet': new_path})\n",
    "    sitk.WriteImage(image, new_path)\n",
    "\n",
    "associated_paths = pd.DataFrame(associated_paths)"
   ]
  },
  {
   "cell_type": "code",
   "execution_count": 251,
   "metadata": {},
   "outputs": [
    {
     "data": {
      "text/html": [
       "<div>\n",
       "<style scoped>\n",
       "    .dataframe tbody tr th:only-of-type {\n",
       "        vertical-align: middle;\n",
       "    }\n",
       "\n",
       "    .dataframe tbody tr th {\n",
       "        vertical-align: top;\n",
       "    }\n",
       "\n",
       "    .dataframe thead th {\n",
       "        text-align: right;\n",
       "    }\n",
       "</style>\n",
       "<table border=\"1\" class=\"dataframe\">\n",
       "  <thead>\n",
       "    <tr style=\"text-align: right;\">\n",
       "      <th></th>\n",
       "      <th>original_path</th>\n",
       "      <th>path_nnunet</th>\n",
       "    </tr>\n",
       "  </thead>\n",
       "  <tbody>\n",
       "    <tr>\n",
       "      <th>0</th>\n",
       "      <td>/nvmescratch/ceib/Prostate/Bounding_Boxes/p005...</td>\n",
       "      <td>Prostate_Cancer_TFM/Prostate_Segmentation/samp...</td>\n",
       "    </tr>\n",
       "    <tr>\n",
       "      <th>1</th>\n",
       "      <td>/nvmescratch/ceib/Prostate/Bounding_Boxes/p005...</td>\n",
       "      <td>Prostate_Cancer_TFM/Prostate_Segmentation/samp...</td>\n",
       "    </tr>\n",
       "    <tr>\n",
       "      <th>2</th>\n",
       "      <td>/nvmescratch/ceib/Prostate/Bounding_Boxes/p005...</td>\n",
       "      <td>Prostate_Cancer_TFM/Prostate_Segmentation/samp...</td>\n",
       "    </tr>\n",
       "    <tr>\n",
       "      <th>3</th>\n",
       "      <td>/nvmescratch/ceib/Prostate/Bounding_Boxes/p005...</td>\n",
       "      <td>Prostate_Cancer_TFM/Prostate_Segmentation/samp...</td>\n",
       "    </tr>\n",
       "    <tr>\n",
       "      <th>4</th>\n",
       "      <td>/nvmescratch/ceib/Prostate/Bounding_Boxes/p005...</td>\n",
       "      <td>Prostate_Cancer_TFM/Prostate_Segmentation/samp...</td>\n",
       "    </tr>\n",
       "    <tr>\n",
       "      <th>...</th>\n",
       "      <td>...</td>\n",
       "      <td>...</td>\n",
       "    </tr>\n",
       "    <tr>\n",
       "      <th>226</th>\n",
       "      <td>/nvmescratch/ceib/Prostate/Bounding_Boxes/p005...</td>\n",
       "      <td>Prostate_Cancer_TFM/Prostate_Segmentation/samp...</td>\n",
       "    </tr>\n",
       "    <tr>\n",
       "      <th>227</th>\n",
       "      <td>/nvmescratch/ceib/Prostate/Bounding_Boxes/p005...</td>\n",
       "      <td>Prostate_Cancer_TFM/Prostate_Segmentation/samp...</td>\n",
       "    </tr>\n",
       "    <tr>\n",
       "      <th>228</th>\n",
       "      <td>/nvmescratch/ceib/Prostate/Bounding_Boxes/p005...</td>\n",
       "      <td>Prostate_Cancer_TFM/Prostate_Segmentation/samp...</td>\n",
       "    </tr>\n",
       "    <tr>\n",
       "      <th>229</th>\n",
       "      <td>/nvmescratch/ceib/Prostate/Bounding_Boxes/p005...</td>\n",
       "      <td>Prostate_Cancer_TFM/Prostate_Segmentation/samp...</td>\n",
       "    </tr>\n",
       "    <tr>\n",
       "      <th>230</th>\n",
       "      <td>/nvmescratch/ceib/Prostate/Bounding_Boxes/p005...</td>\n",
       "      <td>Prostate_Cancer_TFM/Prostate_Segmentation/samp...</td>\n",
       "    </tr>\n",
       "  </tbody>\n",
       "</table>\n",
       "<p>231 rows × 2 columns</p>\n",
       "</div>"
      ],
      "text/plain": [
       "                                         original_path  \\\n",
       "0    /nvmescratch/ceib/Prostate/Bounding_Boxes/p005...   \n",
       "1    /nvmescratch/ceib/Prostate/Bounding_Boxes/p005...   \n",
       "2    /nvmescratch/ceib/Prostate/Bounding_Boxes/p005...   \n",
       "3    /nvmescratch/ceib/Prostate/Bounding_Boxes/p005...   \n",
       "4    /nvmescratch/ceib/Prostate/Bounding_Boxes/p005...   \n",
       "..                                                 ...   \n",
       "226  /nvmescratch/ceib/Prostate/Bounding_Boxes/p005...   \n",
       "227  /nvmescratch/ceib/Prostate/Bounding_Boxes/p005...   \n",
       "228  /nvmescratch/ceib/Prostate/Bounding_Boxes/p005...   \n",
       "229  /nvmescratch/ceib/Prostate/Bounding_Boxes/p005...   \n",
       "230  /nvmescratch/ceib/Prostate/Bounding_Boxes/p005...   \n",
       "\n",
       "                                           path_nnunet  \n",
       "0    Prostate_Cancer_TFM/Prostate_Segmentation/samp...  \n",
       "1    Prostate_Cancer_TFM/Prostate_Segmentation/samp...  \n",
       "2    Prostate_Cancer_TFM/Prostate_Segmentation/samp...  \n",
       "3    Prostate_Cancer_TFM/Prostate_Segmentation/samp...  \n",
       "4    Prostate_Cancer_TFM/Prostate_Segmentation/samp...  \n",
       "..                                                 ...  \n",
       "226  Prostate_Cancer_TFM/Prostate_Segmentation/samp...  \n",
       "227  Prostate_Cancer_TFM/Prostate_Segmentation/samp...  \n",
       "228  Prostate_Cancer_TFM/Prostate_Segmentation/samp...  \n",
       "229  Prostate_Cancer_TFM/Prostate_Segmentation/samp...  \n",
       "230  Prostate_Cancer_TFM/Prostate_Segmentation/samp...  \n",
       "\n",
       "[231 rows x 2 columns]"
      ]
     },
     "execution_count": 251,
     "metadata": {},
     "output_type": "execute_result"
    }
   ],
   "source": [
    "associated_paths"
   ]
  },
  {
   "cell_type": "markdown",
   "metadata": {},
   "source": [
    "## Make Predictions"
   ]
  },
  {
   "cell_type": "code",
   "execution_count": 42,
   "metadata": {},
   "outputs": [],
   "source": [
    "from nnunetv2.paths import nnUNet_results, nnUNet_raw\n",
    "import torch\n",
    "from batchgenerators.utilities.file_and_folder_operations import join\n",
    "from nnunetv2.inference.predict_from_raw_data import nnUNetPredictor"
   ]
  },
  {
   "cell_type": "code",
   "execution_count": 43,
   "metadata": {},
   "outputs": [],
   "source": [
    "folder_images = \"Prostate_Cancer_TFM/Prostate_Segmentation/sample_images/tmp_images/\"\n",
    "pred_outdir = \"Prostate_Cancer_TFM/Prostate_Segmentation/sample_images/tmp_predictions\"\n"
   ]
  },
  {
   "cell_type": "code",
   "execution_count": 44,
   "metadata": {},
   "outputs": [],
   "source": [
    "# instantiate the nnUNetPredictor\n",
    "predictor = nnUNetPredictor(\n",
    "    tile_step_size=0.5,\n",
    "    use_gaussian=True,\n",
    "    use_mirroring=True,\n",
    "    perform_everything_on_device=True,\n",
    "    device=torch.device('cuda', 0),\n",
    "    verbose=False,\n",
    "    verbose_preprocessing=False,\n",
    "    allow_tqdm=True\n",
    ")"
   ]
  },
  {
   "cell_type": "code",
   "execution_count": 45,
   "metadata": {},
   "outputs": [
    {
     "name": "stderr",
     "output_type": "stream",
     "text": [
      "/clinicfs/userhomes/jaalzate/nnUNet/nnunetv2/utilities/plans_handling/plans_handler.py:37: UserWarning: Detected old nnU-Net plans format. Attempting to reconstruct network architecture parameters. If this fails, rerun nnUNetv2_plan_experiment for your dataset. If you use a custom architecture, please downgrade nnU-Net to the version you implemented this or update your implementation + plans.\n",
      "  warnings.warn(\"Detected old nnU-Net plans format. Attempting to reconstruct network architecture \"\n"
     ]
    }
   ],
   "source": [
    "# initializes the network architecture, loads the checkpoint\n",
    "results_folder = \"/nvmescratch/ceib/Prostate/nnUnet/nnUNet_results/Dataset014_ProstateOwn/nnUNetTrainer_100epochs__nnUNetPlans__3d_fullres\"\n",
    "predictor.initialize_from_trained_model_folder(\n",
    "    results_folder,\n",
    "    use_folds=(0,1,2,3,4),\n",
    "    checkpoint_name='checkpoint_best.pth',\n",
    ")"
   ]
  },
  {
   "cell_type": "code",
   "execution_count": 46,
   "metadata": {},
   "outputs": [
    {
     "name": "stdout",
     "output_type": "stream",
     "text": [
      "There are 215 cases in the source folder\n",
      "I am process 0 out of 1 (max process ID is 0, we start counting with 0!)\n",
      "There are 215 cases that I would like to predict\n",
      "overwrite was set to False, so I am only working on cases that haven't been predicted yet. That's 215 cases.\n",
      "\n",
      "Predicting Sample0:\n",
      "perform_everything_on_device: True\n"
     ]
    },
    {
     "name": "stderr",
     "output_type": "stream",
     "text": [
      "100%|██████████| 2/2 [00:12<00:00,  6.22s/it]\n",
      "100%|██████████| 2/2 [00:00<00:00,  3.39it/s]\n",
      "100%|██████████| 2/2 [00:00<00:00,  3.78it/s]\n",
      "100%|██████████| 2/2 [00:00<00:00,  3.78it/s]\n",
      "100%|██████████| 2/2 [00:00<00:00,  3.78it/s]\n"
     ]
    },
    {
     "name": "stdout",
     "output_type": "stream",
     "text": [
      "sending off prediction to background worker for resampling and export\n",
      "done with Sample0\n",
      "\n",
      "Predicting Sample1:\n",
      "perform_everything_on_device: True\n"
     ]
    },
    {
     "name": "stderr",
     "output_type": "stream",
     "text": [
      "100%|██████████| 2/2 [00:00<00:00,  3.78it/s]\n",
      "100%|██████████| 2/2 [00:00<00:00,  3.78it/s]\n",
      "100%|██████████| 2/2 [00:00<00:00,  3.78it/s]\n",
      "100%|██████████| 2/2 [00:00<00:00,  3.78it/s]\n",
      "100%|██████████| 2/2 [00:00<00:00,  3.78it/s]\n"
     ]
    },
    {
     "name": "stdout",
     "output_type": "stream",
     "text": [
      "sending off prediction to background worker for resampling and export\n",
      "done with Sample1\n",
      "\n",
      "Predicting Sample10:\n",
      "perform_everything_on_device: True\n"
     ]
    },
    {
     "name": "stderr",
     "output_type": "stream",
     "text": [
      "100%|██████████| 45/45 [00:15<00:00,  2.98it/s]\n",
      "100%|██████████| 45/45 [00:15<00:00,  2.97it/s]\n",
      "100%|██████████| 45/45 [00:15<00:00,  2.98it/s]\n",
      "100%|██████████| 45/45 [00:15<00:00,  2.97it/s]\n",
      "100%|██████████| 45/45 [00:15<00:00,  2.98it/s]\n"
     ]
    },
    {
     "name": "stdout",
     "output_type": "stream",
     "text": [
      "sending off prediction to background worker for resampling and export\n",
      "done with Sample10\n",
      "\n",
      "Predicting Sample100:\n",
      "perform_everything_on_device: True\n"
     ]
    },
    {
     "name": "stderr",
     "output_type": "stream",
     "text": [
      "100%|██████████| 54/54 [00:18<00:00,  2.97it/s]\n",
      "100%|██████████| 54/54 [00:18<00:00,  2.97it/s]\n",
      "100%|██████████| 54/54 [00:18<00:00,  2.97it/s]\n",
      "100%|██████████| 54/54 [00:18<00:00,  2.97it/s]\n",
      "100%|██████████| 54/54 [00:18<00:00,  2.97it/s]\n"
     ]
    },
    {
     "name": "stdout",
     "output_type": "stream",
     "text": [
      "sending off prediction to background worker for resampling and export\n",
      "done with Sample100\n",
      "\n",
      "Predicting Sample101:\n",
      "perform_everything_on_device: True\n"
     ]
    },
    {
     "name": "stderr",
     "output_type": "stream",
     "text": [
      "100%|██████████| 2/2 [00:00<00:00,  3.77it/s]\n",
      "100%|██████████| 2/2 [00:00<00:00,  3.77it/s]\n",
      "100%|██████████| 2/2 [00:00<00:00,  3.78it/s]\n",
      "100%|██████████| 2/2 [00:00<00:00,  3.77it/s]\n",
      "100%|██████████| 2/2 [00:00<00:00,  3.77it/s]\n"
     ]
    },
    {
     "name": "stdout",
     "output_type": "stream",
     "text": [
      "sending off prediction to background worker for resampling and export\n",
      "done with Sample101\n",
      "\n",
      "Predicting Sample102:\n",
      "perform_everything_on_device: True\n"
     ]
    },
    {
     "name": "stderr",
     "output_type": "stream",
     "text": [
      "100%|██████████| 8/8 [00:02<00:00,  3.12it/s]\n",
      "100%|██████████| 8/8 [00:02<00:00,  3.12it/s]\n",
      "100%|██████████| 8/8 [00:02<00:00,  3.12it/s]\n",
      "100%|██████████| 8/8 [00:02<00:00,  3.12it/s]\n",
      "100%|██████████| 8/8 [00:02<00:00,  3.12it/s]\n"
     ]
    },
    {
     "name": "stdout",
     "output_type": "stream",
     "text": [
      "sending off prediction to background worker for resampling and export\n",
      "done with Sample102\n",
      "\n",
      "Predicting Sample103:\n",
      "perform_everything_on_device: True\n"
     ]
    },
    {
     "name": "stderr",
     "output_type": "stream",
     "text": [
      "100%|██████████| 2/2 [00:00<00:00,  3.78it/s]\n",
      "100%|██████████| 2/2 [00:00<00:00,  3.78it/s]\n",
      "100%|██████████| 2/2 [00:00<00:00,  3.78it/s]\n",
      "100%|██████████| 2/2 [00:00<00:00,  3.78it/s]\n",
      "100%|██████████| 2/2 [00:00<00:00,  3.78it/s]\n"
     ]
    },
    {
     "name": "stdout",
     "output_type": "stream",
     "text": [
      "sending off prediction to background worker for resampling and export\n",
      "done with Sample103\n",
      "\n",
      "Predicting Sample104:\n",
      "perform_everything_on_device: True\n"
     ]
    },
    {
     "name": "stderr",
     "output_type": "stream",
     "text": [
      "100%|██████████| 2/2 [00:00<00:00,  3.78it/s]\n",
      "100%|██████████| 2/2 [00:00<00:00,  3.77it/s]\n",
      "100%|██████████| 2/2 [00:00<00:00,  3.78it/s]\n",
      "100%|██████████| 2/2 [00:00<00:00,  3.78it/s]\n",
      "100%|██████████| 2/2 [00:00<00:00,  3.78it/s]\n"
     ]
    },
    {
     "name": "stdout",
     "output_type": "stream",
     "text": [
      "sending off prediction to background worker for resampling and export\n",
      "done with Sample104\n",
      "\n",
      "Predicting Sample105:\n",
      "perform_everything_on_device: True\n"
     ]
    },
    {
     "name": "stderr",
     "output_type": "stream",
     "text": [
      "100%|██████████| 36/36 [00:12<00:00,  2.98it/s]\n",
      "100%|██████████| 36/36 [00:12<00:00,  2.99it/s]\n",
      "100%|██████████| 36/36 [00:12<00:00,  2.99it/s]\n",
      "100%|██████████| 36/36 [00:12<00:00,  2.99it/s]\n",
      "100%|██████████| 36/36 [00:12<00:00,  2.99it/s]\n"
     ]
    },
    {
     "name": "stdout",
     "output_type": "stream",
     "text": [
      "sending off prediction to background worker for resampling and export\n",
      "done with Sample105\n",
      "\n",
      "Predicting Sample106:\n",
      "perform_everything_on_device: True\n"
     ]
    },
    {
     "name": "stderr",
     "output_type": "stream",
     "text": [
      "100%|██████████| 8/8 [00:02<00:00,  3.12it/s]\n",
      "100%|██████████| 8/8 [00:02<00:00,  3.12it/s]\n",
      "100%|██████████| 8/8 [00:02<00:00,  3.12it/s]\n",
      "100%|██████████| 8/8 [00:02<00:00,  3.12it/s]\n",
      "100%|██████████| 8/8 [00:02<00:00,  3.12it/s]\n"
     ]
    },
    {
     "name": "stdout",
     "output_type": "stream",
     "text": [
      "sending off prediction to background worker for resampling and export\n",
      "done with Sample106\n",
      "\n",
      "Predicting Sample107:\n",
      "perform_everything_on_device: True\n"
     ]
    },
    {
     "name": "stderr",
     "output_type": "stream",
     "text": [
      "100%|██████████| 2/2 [00:00<00:00,  3.77it/s]\n",
      "100%|██████████| 2/2 [00:00<00:00,  3.78it/s]\n",
      "100%|██████████| 2/2 [00:00<00:00,  3.78it/s]\n",
      "100%|██████████| 2/2 [00:00<00:00,  3.78it/s]\n",
      "100%|██████████| 2/2 [00:00<00:00,  3.78it/s]\n"
     ]
    },
    {
     "name": "stdout",
     "output_type": "stream",
     "text": [
      "sending off prediction to background worker for resampling and export\n",
      "done with Sample107\n",
      "\n",
      "Predicting Sample108:\n",
      "perform_everything_on_device: True\n"
     ]
    },
    {
     "name": "stderr",
     "output_type": "stream",
     "text": [
      "100%|██████████| 8/8 [00:02<00:00,  3.12it/s]\n",
      "100%|██████████| 8/8 [00:02<00:00,  3.12it/s]\n",
      "100%|██████████| 8/8 [00:02<00:00,  3.12it/s]\n",
      "100%|██████████| 8/8 [00:02<00:00,  3.12it/s]\n",
      "100%|██████████| 8/8 [00:02<00:00,  3.12it/s]\n"
     ]
    },
    {
     "name": "stdout",
     "output_type": "stream",
     "text": [
      "sending off prediction to background worker for resampling and export\n",
      "done with Sample108\n",
      "\n",
      "Predicting Sample109:\n",
      "perform_everything_on_device: True\n"
     ]
    },
    {
     "name": "stderr",
     "output_type": "stream",
     "text": [
      "100%|██████████| 72/72 [00:24<00:00,  2.96it/s]\n",
      "100%|██████████| 72/72 [00:24<00:00,  2.96it/s]\n",
      "100%|██████████| 72/72 [00:24<00:00,  2.96it/s]\n",
      "100%|██████████| 72/72 [00:24<00:00,  2.96it/s]\n",
      "100%|██████████| 72/72 [00:24<00:00,  2.96it/s]\n"
     ]
    },
    {
     "name": "stdout",
     "output_type": "stream",
     "text": [
      "sending off prediction to background worker for resampling and export\n",
      "done with Sample109\n",
      "\n",
      "Predicting Sample11:\n",
      "perform_everything_on_device: True\n"
     ]
    },
    {
     "name": "stderr",
     "output_type": "stream",
     "text": [
      "100%|██████████| 2/2 [00:00<00:00,  3.77it/s]\n",
      "100%|██████████| 2/2 [00:00<00:00,  3.78it/s]\n",
      "100%|██████████| 2/2 [00:00<00:00,  3.78it/s]\n",
      "100%|██████████| 2/2 [00:00<00:00,  3.78it/s]\n",
      "100%|██████████| 2/2 [00:00<00:00,  3.78it/s]\n"
     ]
    },
    {
     "name": "stdout",
     "output_type": "stream",
     "text": [
      "sending off prediction to background worker for resampling and export\n",
      "done with Sample11\n",
      "\n",
      "Predicting Sample110:\n",
      "perform_everything_on_device: True\n"
     ]
    },
    {
     "name": "stderr",
     "output_type": "stream",
     "text": [
      "100%|██████████| 4/4 [00:01<00:00,  3.31it/s]\n",
      "100%|██████████| 4/4 [00:01<00:00,  3.31it/s]\n",
      "100%|██████████| 4/4 [00:01<00:00,  3.31it/s]\n",
      "100%|██████████| 4/4 [00:01<00:00,  3.31it/s]\n",
      "100%|██████████| 4/4 [00:01<00:00,  3.31it/s]\n"
     ]
    },
    {
     "name": "stdout",
     "output_type": "stream",
     "text": [
      "sending off prediction to background worker for resampling and export\n",
      "done with Sample110\n",
      "\n",
      "Predicting Sample111:\n",
      "perform_everything_on_device: True\n"
     ]
    },
    {
     "name": "stderr",
     "output_type": "stream",
     "text": [
      "100%|██████████| 72/72 [00:24<00:00,  2.96it/s]\n",
      "100%|██████████| 72/72 [00:24<00:00,  2.96it/s]\n",
      "100%|██████████| 72/72 [00:24<00:00,  2.96it/s]\n",
      "100%|██████████| 72/72 [00:24<00:00,  2.96it/s]\n",
      "100%|██████████| 72/72 [00:24<00:00,  2.96it/s]\n"
     ]
    },
    {
     "name": "stdout",
     "output_type": "stream",
     "text": [
      "sending off prediction to background worker for resampling and export\n",
      "done with Sample111\n",
      "\n",
      "Predicting Sample112:\n",
      "perform_everything_on_device: True\n"
     ]
    },
    {
     "name": "stderr",
     "output_type": "stream",
     "text": [
      "100%|██████████| 8/8 [00:02<00:00,  3.12it/s]\n",
      "100%|██████████| 8/8 [00:02<00:00,  3.12it/s]\n",
      "100%|██████████| 8/8 [00:02<00:00,  3.12it/s]\n",
      "100%|██████████| 8/8 [00:02<00:00,  3.12it/s]\n",
      "100%|██████████| 8/8 [00:02<00:00,  3.12it/s]\n"
     ]
    },
    {
     "name": "stdout",
     "output_type": "stream",
     "text": [
      "sending off prediction to background worker for resampling and export\n",
      "done with Sample112\n",
      "\n",
      "Predicting Sample113:\n",
      "perform_everything_on_device: True\n"
     ]
    },
    {
     "name": "stderr",
     "output_type": "stream",
     "text": [
      "100%|██████████| 8/8 [00:02<00:00,  3.12it/s]\n",
      "100%|██████████| 8/8 [00:02<00:00,  3.12it/s]\n",
      "100%|██████████| 8/8 [00:02<00:00,  3.12it/s]\n",
      "100%|██████████| 8/8 [00:02<00:00,  3.12it/s]\n",
      "100%|██████████| 8/8 [00:02<00:00,  3.12it/s]\n"
     ]
    },
    {
     "name": "stdout",
     "output_type": "stream",
     "text": [
      "sending off prediction to background worker for resampling and export\n",
      "done with Sample113\n",
      "\n",
      "Predicting Sample114:\n",
      "perform_everything_on_device: True\n"
     ]
    },
    {
     "name": "stderr",
     "output_type": "stream",
     "text": [
      "100%|██████████| 54/54 [00:18<00:00,  2.97it/s]\n",
      "100%|██████████| 54/54 [00:18<00:00,  2.97it/s]\n",
      "100%|██████████| 54/54 [00:18<00:00,  2.97it/s]\n",
      "100%|██████████| 54/54 [00:18<00:00,  2.97it/s]\n",
      "100%|██████████| 54/54 [00:18<00:00,  2.97it/s]\n"
     ]
    },
    {
     "name": "stdout",
     "output_type": "stream",
     "text": [
      "sending off prediction to background worker for resampling and export\n",
      "done with Sample114\n",
      "\n",
      "Predicting Sample115:\n",
      "perform_everything_on_device: True\n"
     ]
    },
    {
     "name": "stderr",
     "output_type": "stream",
     "text": [
      "100%|██████████| 2/2 [00:00<00:00,  3.78it/s]\n",
      "100%|██████████| 2/2 [00:00<00:00,  3.78it/s]\n",
      "100%|██████████| 2/2 [00:00<00:00,  3.78it/s]\n",
      "100%|██████████| 2/2 [00:00<00:00,  3.78it/s]\n",
      "100%|██████████| 2/2 [00:00<00:00,  3.78it/s]\n"
     ]
    },
    {
     "name": "stdout",
     "output_type": "stream",
     "text": [
      "sending off prediction to background worker for resampling and export\n",
      "done with Sample115\n",
      "\n",
      "Predicting Sample116:\n",
      "perform_everything_on_device: True\n"
     ]
    },
    {
     "name": "stderr",
     "output_type": "stream",
     "text": [
      "100%|██████████| 8/8 [00:02<00:00,  3.12it/s]\n",
      "100%|██████████| 8/8 [00:02<00:00,  3.12it/s]\n",
      "100%|██████████| 8/8 [00:02<00:00,  3.12it/s]\n",
      "100%|██████████| 8/8 [00:02<00:00,  3.12it/s]\n",
      "100%|██████████| 8/8 [00:02<00:00,  3.12it/s]\n"
     ]
    },
    {
     "name": "stdout",
     "output_type": "stream",
     "text": [
      "sending off prediction to background worker for resampling and export\n",
      "done with Sample116\n",
      "\n",
      "Predicting Sample117:\n",
      "perform_everything_on_device: True\n"
     ]
    },
    {
     "name": "stderr",
     "output_type": "stream",
     "text": [
      "100%|██████████| 72/72 [00:24<00:00,  2.96it/s]\n",
      "100%|██████████| 72/72 [00:24<00:00,  2.96it/s]\n",
      "100%|██████████| 72/72 [00:24<00:00,  2.96it/s]\n",
      "100%|██████████| 72/72 [00:24<00:00,  2.96it/s]\n",
      "100%|██████████| 72/72 [00:24<00:00,  2.96it/s]\n"
     ]
    },
    {
     "name": "stdout",
     "output_type": "stream",
     "text": [
      "sending off prediction to background worker for resampling and export\n",
      "done with Sample117\n",
      "\n",
      "Predicting Sample118:\n",
      "perform_everything_on_device: True\n"
     ]
    },
    {
     "name": "stderr",
     "output_type": "stream",
     "text": [
      "100%|██████████| 1/1 [00:00<00:00,  5.22it/s]\n",
      "100%|██████████| 1/1 [00:00<00:00,  5.25it/s]\n",
      "100%|██████████| 1/1 [00:00<00:00,  5.25it/s]\n",
      "100%|██████████| 1/1 [00:00<00:00,  5.25it/s]\n",
      "100%|██████████| 1/1 [00:00<00:00,  5.23it/s]\n"
     ]
    },
    {
     "name": "stdout",
     "output_type": "stream",
     "text": [
      "sending off prediction to background worker for resampling and export\n",
      "done with Sample118\n",
      "\n",
      "Predicting Sample119:\n",
      "perform_everything_on_device: True\n"
     ]
    },
    {
     "name": "stderr",
     "output_type": "stream",
     "text": [
      "100%|██████████| 2/2 [00:00<00:00,  3.78it/s]\n",
      "100%|██████████| 2/2 [00:00<00:00,  3.78it/s]\n",
      "100%|██████████| 2/2 [00:00<00:00,  3.78it/s]\n",
      "100%|██████████| 2/2 [00:00<00:00,  3.78it/s]\n",
      "100%|██████████| 2/2 [00:00<00:00,  3.78it/s]\n"
     ]
    },
    {
     "name": "stdout",
     "output_type": "stream",
     "text": [
      "sending off prediction to background worker for resampling and export\n",
      "done with Sample119\n",
      "\n",
      "Predicting Sample12:\n",
      "perform_everything_on_device: True\n"
     ]
    },
    {
     "name": "stderr",
     "output_type": "stream",
     "text": [
      "100%|██████████| 36/36 [00:12<00:00,  2.99it/s]\n",
      "100%|██████████| 36/36 [00:12<00:00,  2.99it/s]\n",
      "100%|██████████| 36/36 [00:12<00:00,  2.99it/s]\n",
      "100%|██████████| 36/36 [00:12<00:00,  2.99it/s]\n",
      "100%|██████████| 36/36 [00:12<00:00,  2.99it/s]\n"
     ]
    },
    {
     "name": "stdout",
     "output_type": "stream",
     "text": [
      "sending off prediction to background worker for resampling and export\n",
      "done with Sample12\n",
      "\n",
      "Predicting Sample120:\n",
      "perform_everything_on_device: True\n"
     ]
    },
    {
     "name": "stderr",
     "output_type": "stream",
     "text": [
      "100%|██████████| 2/2 [00:00<00:00,  3.77it/s]\n",
      "100%|██████████| 2/2 [00:00<00:00,  3.78it/s]\n",
      "100%|██████████| 2/2 [00:00<00:00,  3.78it/s]\n",
      "100%|██████████| 2/2 [00:00<00:00,  3.78it/s]\n",
      "100%|██████████| 2/2 [00:00<00:00,  3.78it/s]\n"
     ]
    },
    {
     "name": "stdout",
     "output_type": "stream",
     "text": [
      "sending off prediction to background worker for resampling and export\n",
      "done with Sample120\n",
      "\n",
      "Predicting Sample121:\n",
      "perform_everything_on_device: True\n"
     ]
    },
    {
     "name": "stderr",
     "output_type": "stream",
     "text": [
      "100%|██████████| 2/2 [00:00<00:00,  3.77it/s]\n",
      "100%|██████████| 2/2 [00:00<00:00,  3.78it/s]\n",
      "100%|██████████| 2/2 [00:00<00:00,  3.78it/s]\n",
      "100%|██████████| 2/2 [00:00<00:00,  3.78it/s]\n",
      "100%|██████████| 2/2 [00:00<00:00,  3.78it/s]\n"
     ]
    },
    {
     "name": "stdout",
     "output_type": "stream",
     "text": [
      "sending off prediction to background worker for resampling and export\n",
      "done with Sample121\n",
      "\n",
      "Predicting Sample122:\n",
      "perform_everything_on_device: True\n"
     ]
    },
    {
     "name": "stderr",
     "output_type": "stream",
     "text": [
      "100%|██████████| 2/2 [00:00<00:00,  3.78it/s]\n",
      "100%|██████████| 2/2 [00:00<00:00,  3.78it/s]\n",
      "100%|██████████| 2/2 [00:00<00:00,  3.78it/s]\n",
      "100%|██████████| 2/2 [00:00<00:00,  3.78it/s]\n",
      "100%|██████████| 2/2 [00:00<00:00,  3.77it/s]\n"
     ]
    },
    {
     "name": "stdout",
     "output_type": "stream",
     "text": [
      "sending off prediction to background worker for resampling and export\n",
      "done with Sample122\n",
      "\n",
      "Predicting Sample123:\n",
      "perform_everything_on_device: True\n"
     ]
    },
    {
     "name": "stderr",
     "output_type": "stream",
     "text": [
      "100%|██████████| 2/2 [00:00<00:00,  3.76it/s]\n",
      "100%|██████████| 2/2 [00:00<00:00,  3.78it/s]\n",
      "100%|██████████| 2/2 [00:00<00:00,  3.78it/s]\n",
      "100%|██████████| 2/2 [00:00<00:00,  3.78it/s]\n",
      "100%|██████████| 2/2 [00:00<00:00,  3.78it/s]\n"
     ]
    },
    {
     "name": "stdout",
     "output_type": "stream",
     "text": [
      "sending off prediction to background worker for resampling and export\n",
      "done with Sample123\n",
      "\n",
      "Predicting Sample124:\n",
      "perform_everything_on_device: True\n"
     ]
    },
    {
     "name": "stderr",
     "output_type": "stream",
     "text": [
      "100%|██████████| 2/2 [00:00<00:00,  3.77it/s]\n",
      "100%|██████████| 2/2 [00:00<00:00,  3.78it/s]\n",
      "100%|██████████| 2/2 [00:00<00:00,  3.78it/s]\n",
      "100%|██████████| 2/2 [00:00<00:00,  3.78it/s]\n",
      "100%|██████████| 2/2 [00:00<00:00,  3.77it/s]\n"
     ]
    },
    {
     "name": "stdout",
     "output_type": "stream",
     "text": [
      "sending off prediction to background worker for resampling and export\n",
      "done with Sample124\n",
      "\n",
      "Predicting Sample125:\n",
      "perform_everything_on_device: True\n"
     ]
    },
    {
     "name": "stderr",
     "output_type": "stream",
     "text": [
      "100%|██████████| 12/12 [00:03<00:00,  3.06it/s]\n",
      "100%|██████████| 12/12 [00:03<00:00,  3.06it/s]\n",
      "100%|██████████| 12/12 [00:03<00:00,  3.06it/s]\n",
      "100%|██████████| 12/12 [00:03<00:00,  3.06it/s]\n",
      "100%|██████████| 12/12 [00:03<00:00,  3.06it/s]\n"
     ]
    },
    {
     "name": "stdout",
     "output_type": "stream",
     "text": [
      "sending off prediction to background worker for resampling and export\n",
      "done with Sample125\n",
      "\n",
      "Predicting Sample126:\n",
      "perform_everything_on_device: True\n"
     ]
    },
    {
     "name": "stderr",
     "output_type": "stream",
     "text": [
      "100%|██████████| 72/72 [00:24<00:00,  2.96it/s]\n",
      "100%|██████████| 72/72 [00:24<00:00,  2.96it/s]\n",
      "100%|██████████| 72/72 [00:24<00:00,  2.96it/s]\n",
      "100%|██████████| 72/72 [00:24<00:00,  2.96it/s]\n",
      "100%|██████████| 72/72 [00:24<00:00,  2.96it/s]\n"
     ]
    },
    {
     "name": "stdout",
     "output_type": "stream",
     "text": [
      "sending off prediction to background worker for resampling and export\n",
      "done with Sample126\n",
      "\n",
      "Predicting Sample127:\n",
      "perform_everything_on_device: True\n"
     ]
    },
    {
     "name": "stderr",
     "output_type": "stream",
     "text": [
      "100%|██████████| 20/20 [00:06<00:00,  3.02it/s]\n",
      "100%|██████████| 20/20 [00:06<00:00,  3.02it/s]\n",
      "100%|██████████| 20/20 [00:06<00:00,  3.02it/s]\n",
      "100%|██████████| 20/20 [00:06<00:00,  3.02it/s]\n",
      "100%|██████████| 20/20 [00:06<00:00,  3.02it/s]\n"
     ]
    },
    {
     "name": "stdout",
     "output_type": "stream",
     "text": [
      "sending off prediction to background worker for resampling and export\n",
      "done with Sample127\n",
      "\n",
      "Predicting Sample128:\n",
      "perform_everything_on_device: True\n"
     ]
    },
    {
     "name": "stderr",
     "output_type": "stream",
     "text": [
      "100%|██████████| 8/8 [00:02<00:00,  3.12it/s]\n",
      "100%|██████████| 8/8 [00:02<00:00,  3.12it/s]\n",
      "100%|██████████| 8/8 [00:02<00:00,  3.12it/s]\n",
      "100%|██████████| 8/8 [00:02<00:00,  3.12it/s]\n",
      "100%|██████████| 8/8 [00:02<00:00,  3.12it/s]\n"
     ]
    },
    {
     "name": "stdout",
     "output_type": "stream",
     "text": [
      "sending off prediction to background worker for resampling and export\n",
      "done with Sample128\n",
      "\n",
      "Predicting Sample129:\n",
      "perform_everything_on_device: True\n"
     ]
    },
    {
     "name": "stderr",
     "output_type": "stream",
     "text": [
      "100%|██████████| 8/8 [00:02<00:00,  3.12it/s]\n",
      "100%|██████████| 8/8 [00:02<00:00,  3.12it/s]\n",
      "100%|██████████| 8/8 [00:02<00:00,  3.12it/s]\n",
      "100%|██████████| 8/8 [00:02<00:00,  3.12it/s]\n",
      "100%|██████████| 8/8 [00:02<00:00,  3.12it/s]\n"
     ]
    },
    {
     "name": "stdout",
     "output_type": "stream",
     "text": [
      "sending off prediction to background worker for resampling and export\n",
      "done with Sample129\n",
      "\n",
      "Predicting Sample13:\n",
      "perform_everything_on_device: True\n"
     ]
    },
    {
     "name": "stderr",
     "output_type": "stream",
     "text": [
      "100%|██████████| 12/12 [00:03<00:00,  3.06it/s]\n",
      "100%|██████████| 12/12 [00:03<00:00,  3.06it/s]\n",
      "100%|██████████| 12/12 [00:03<00:00,  3.06it/s]\n",
      "100%|██████████| 12/12 [00:03<00:00,  3.06it/s]\n",
      "100%|██████████| 12/12 [00:03<00:00,  3.06it/s]\n"
     ]
    },
    {
     "name": "stdout",
     "output_type": "stream",
     "text": [
      "sending off prediction to background worker for resampling and export\n",
      "done with Sample13\n",
      "\n",
      "Predicting Sample130:\n",
      "perform_everything_on_device: True\n"
     ]
    },
    {
     "name": "stderr",
     "output_type": "stream",
     "text": [
      "100%|██████████| 2/2 [00:00<00:00,  3.78it/s]\n",
      "100%|██████████| 2/2 [00:00<00:00,  3.78it/s]\n",
      "100%|██████████| 2/2 [00:00<00:00,  3.78it/s]\n",
      "100%|██████████| 2/2 [00:00<00:00,  3.78it/s]\n",
      "100%|██████████| 2/2 [00:00<00:00,  3.78it/s]\n"
     ]
    },
    {
     "name": "stdout",
     "output_type": "stream",
     "text": [
      "sending off prediction to background worker for resampling and export\n",
      "done with Sample130\n",
      "\n",
      "Predicting Sample131:\n",
      "perform_everything_on_device: True\n"
     ]
    },
    {
     "name": "stderr",
     "output_type": "stream",
     "text": [
      "100%|██████████| 2/2 [00:00<00:00,  3.77it/s]\n",
      "100%|██████████| 2/2 [00:00<00:00,  3.78it/s]\n",
      "100%|██████████| 2/2 [00:00<00:00,  3.78it/s]\n",
      "100%|██████████| 2/2 [00:00<00:00,  3.78it/s]\n",
      "100%|██████████| 2/2 [00:00<00:00,  3.78it/s]\n"
     ]
    },
    {
     "name": "stdout",
     "output_type": "stream",
     "text": [
      "sending off prediction to background worker for resampling and export\n",
      "done with Sample131\n",
      "\n",
      "Predicting Sample132:\n",
      "perform_everything_on_device: True\n"
     ]
    },
    {
     "name": "stderr",
     "output_type": "stream",
     "text": [
      "100%|██████████| 1/1 [00:00<00:00,  5.24it/s]\n",
      "100%|██████████| 1/1 [00:00<00:00,  5.25it/s]\n",
      "100%|██████████| 1/1 [00:00<00:00,  5.25it/s]\n",
      "100%|██████████| 1/1 [00:00<00:00,  5.25it/s]\n",
      "100%|██████████| 1/1 [00:00<00:00,  5.25it/s]\n"
     ]
    },
    {
     "name": "stdout",
     "output_type": "stream",
     "text": [
      "sending off prediction to background worker for resampling and export\n",
      "done with Sample132\n",
      "\n",
      "Predicting Sample133:\n",
      "perform_everything_on_device: True\n"
     ]
    },
    {
     "name": "stderr",
     "output_type": "stream",
     "text": [
      "100%|██████████| 2/2 [00:00<00:00,  3.77it/s]\n",
      "100%|██████████| 2/2 [00:00<00:00,  3.78it/s]\n",
      "100%|██████████| 2/2 [00:00<00:00,  3.78it/s]\n",
      "100%|██████████| 2/2 [00:00<00:00,  3.78it/s]\n",
      "100%|██████████| 2/2 [00:00<00:00,  3.78it/s]\n"
     ]
    },
    {
     "name": "stdout",
     "output_type": "stream",
     "text": [
      "sending off prediction to background worker for resampling and export\n",
      "done with Sample133\n",
      "\n",
      "Predicting Sample134:\n",
      "perform_everything_on_device: True\n"
     ]
    },
    {
     "name": "stderr",
     "output_type": "stream",
     "text": [
      "100%|██████████| 2/2 [00:00<00:00,  3.78it/s]\n",
      "100%|██████████| 2/2 [00:00<00:00,  3.77it/s]\n",
      "100%|██████████| 2/2 [00:00<00:00,  3.78it/s]\n",
      "100%|██████████| 2/2 [00:00<00:00,  3.78it/s]\n",
      "100%|██████████| 2/2 [00:00<00:00,  3.78it/s]\n"
     ]
    },
    {
     "name": "stdout",
     "output_type": "stream",
     "text": [
      "sending off prediction to background worker for resampling and export\n",
      "done with Sample134\n",
      "\n",
      "Predicting Sample135:\n",
      "perform_everything_on_device: True\n"
     ]
    },
    {
     "name": "stderr",
     "output_type": "stream",
     "text": [
      "100%|██████████| 2/2 [00:00<00:00,  3.77it/s]\n",
      "100%|██████████| 2/2 [00:00<00:00,  3.77it/s]\n",
      "100%|██████████| 2/2 [00:00<00:00,  3.77it/s]\n",
      "100%|██████████| 2/2 [00:00<00:00,  3.78it/s]\n",
      "100%|██████████| 2/2 [00:00<00:00,  3.78it/s]\n"
     ]
    },
    {
     "name": "stdout",
     "output_type": "stream",
     "text": [
      "sending off prediction to background worker for resampling and export\n",
      "done with Sample135\n",
      "\n",
      "Predicting Sample136:\n",
      "perform_everything_on_device: True\n"
     ]
    },
    {
     "name": "stderr",
     "output_type": "stream",
     "text": [
      "100%|██████████| 2/2 [00:00<00:00,  3.77it/s]\n",
      "100%|██████████| 2/2 [00:00<00:00,  3.78it/s]\n",
      "100%|██████████| 2/2 [00:00<00:00,  3.78it/s]\n",
      "100%|██████████| 2/2 [00:00<00:00,  3.77it/s]\n",
      "100%|██████████| 2/2 [00:00<00:00,  3.78it/s]\n"
     ]
    },
    {
     "name": "stdout",
     "output_type": "stream",
     "text": [
      "sending off prediction to background worker for resampling and export\n",
      "done with Sample136\n",
      "\n",
      "Predicting Sample137:\n",
      "perform_everything_on_device: True\n"
     ]
    },
    {
     "name": "stderr",
     "output_type": "stream",
     "text": [
      "100%|██████████| 8/8 [00:02<00:00,  3.12it/s]\n",
      "100%|██████████| 8/8 [00:02<00:00,  3.12it/s]\n",
      "100%|██████████| 8/8 [00:02<00:00,  3.12it/s]\n",
      "100%|██████████| 8/8 [00:02<00:00,  3.12it/s]\n",
      "100%|██████████| 8/8 [00:02<00:00,  3.12it/s]\n"
     ]
    },
    {
     "name": "stdout",
     "output_type": "stream",
     "text": [
      "sending off prediction to background worker for resampling and export\n",
      "done with Sample137\n",
      "\n",
      "Predicting Sample138:\n",
      "perform_everything_on_device: True\n"
     ]
    },
    {
     "name": "stderr",
     "output_type": "stream",
     "text": [
      "100%|██████████| 20/20 [00:06<00:00,  3.01it/s]\n",
      "100%|██████████| 20/20 [00:06<00:00,  3.02it/s]\n",
      "100%|██████████| 20/20 [00:06<00:00,  3.02it/s]\n",
      "100%|██████████| 20/20 [00:06<00:00,  3.02it/s]\n",
      "100%|██████████| 20/20 [00:06<00:00,  3.02it/s]\n"
     ]
    },
    {
     "name": "stdout",
     "output_type": "stream",
     "text": [
      "sending off prediction to background worker for resampling and export\n",
      "done with Sample138\n",
      "\n",
      "Predicting Sample139:\n",
      "perform_everything_on_device: True\n"
     ]
    },
    {
     "name": "stderr",
     "output_type": "stream",
     "text": [
      "100%|██████████| 8/8 [00:02<00:00,  3.12it/s]\n",
      "100%|██████████| 8/8 [00:02<00:00,  3.12it/s]\n",
      "100%|██████████| 8/8 [00:02<00:00,  3.12it/s]\n",
      "100%|██████████| 8/8 [00:02<00:00,  3.12it/s]\n",
      "100%|██████████| 8/8 [00:02<00:00,  3.12it/s]\n"
     ]
    },
    {
     "name": "stdout",
     "output_type": "stream",
     "text": [
      "sending off prediction to background worker for resampling and export\n",
      "done with Sample139\n",
      "\n",
      "Predicting Sample14:\n",
      "perform_everything_on_device: True\n"
     ]
    },
    {
     "name": "stderr",
     "output_type": "stream",
     "text": [
      "100%|██████████| 12/12 [00:03<00:00,  3.06it/s]\n",
      "100%|██████████| 12/12 [00:03<00:00,  3.06it/s]\n",
      "100%|██████████| 12/12 [00:03<00:00,  3.06it/s]\n",
      "100%|██████████| 12/12 [00:03<00:00,  3.06it/s]\n",
      "100%|██████████| 12/12 [00:03<00:00,  3.06it/s]\n"
     ]
    },
    {
     "name": "stdout",
     "output_type": "stream",
     "text": [
      "sending off prediction to background worker for resampling and export\n",
      "done with Sample14\n",
      "\n",
      "Predicting Sample140:\n",
      "perform_everything_on_device: True\n"
     ]
    },
    {
     "name": "stderr",
     "output_type": "stream",
     "text": [
      "100%|██████████| 2/2 [00:00<00:00,  3.77it/s]\n",
      "100%|██████████| 2/2 [00:00<00:00,  3.78it/s]\n",
      "100%|██████████| 2/2 [00:00<00:00,  3.77it/s]\n",
      "100%|██████████| 2/2 [00:00<00:00,  3.78it/s]\n",
      "100%|██████████| 2/2 [00:00<00:00,  3.78it/s]\n"
     ]
    },
    {
     "name": "stdout",
     "output_type": "stream",
     "text": [
      "sending off prediction to background worker for resampling and export\n",
      "done with Sample140\n",
      "\n",
      "Predicting Sample141:\n",
      "perform_everything_on_device: True\n"
     ]
    },
    {
     "name": "stderr",
     "output_type": "stream",
     "text": [
      "100%|██████████| 1/1 [00:00<00:00,  5.22it/s]\n",
      "100%|██████████| 1/1 [00:00<00:00,  5.24it/s]\n",
      "100%|██████████| 1/1 [00:00<00:00,  5.24it/s]\n",
      "100%|██████████| 1/1 [00:00<00:00,  5.25it/s]\n",
      "100%|██████████| 1/1 [00:00<00:00,  5.25it/s]\n"
     ]
    },
    {
     "name": "stdout",
     "output_type": "stream",
     "text": [
      "sending off prediction to background worker for resampling and export\n",
      "done with Sample141\n",
      "\n",
      "Predicting Sample142:\n",
      "perform_everything_on_device: True\n"
     ]
    },
    {
     "name": "stderr",
     "output_type": "stream",
     "text": [
      "100%|██████████| 24/24 [00:07<00:00,  3.00it/s]\n",
      "100%|██████████| 24/24 [00:07<00:00,  3.01it/s]\n",
      "100%|██████████| 24/24 [00:07<00:00,  3.01it/s]\n",
      "100%|██████████| 24/24 [00:07<00:00,  3.01it/s]\n",
      "100%|██████████| 24/24 [00:07<00:00,  3.01it/s]\n"
     ]
    },
    {
     "name": "stdout",
     "output_type": "stream",
     "text": [
      "sending off prediction to background worker for resampling and export\n",
      "done with Sample142\n",
      "\n",
      "Predicting Sample143:\n",
      "perform_everything_on_device: True\n"
     ]
    },
    {
     "name": "stderr",
     "output_type": "stream",
     "text": [
      "100%|██████████| 8/8 [00:02<00:00,  3.12it/s]\n",
      "100%|██████████| 8/8 [00:02<00:00,  3.12it/s]\n",
      "100%|██████████| 8/8 [00:02<00:00,  3.12it/s]\n",
      "100%|██████████| 8/8 [00:02<00:00,  3.12it/s]\n",
      "100%|██████████| 8/8 [00:02<00:00,  3.12it/s]\n"
     ]
    },
    {
     "name": "stdout",
     "output_type": "stream",
     "text": [
      "sending off prediction to background worker for resampling and export\n",
      "done with Sample143\n",
      "\n",
      "Predicting Sample144:\n",
      "perform_everything_on_device: True\n"
     ]
    },
    {
     "name": "stderr",
     "output_type": "stream",
     "text": [
      "100%|██████████| 8/8 [00:02<00:00,  3.12it/s]\n",
      "100%|██████████| 8/8 [00:02<00:00,  3.12it/s]\n",
      "100%|██████████| 8/8 [00:02<00:00,  3.12it/s]\n",
      "100%|██████████| 8/8 [00:02<00:00,  3.12it/s]\n",
      "100%|██████████| 8/8 [00:02<00:00,  3.12it/s]\n"
     ]
    },
    {
     "name": "stdout",
     "output_type": "stream",
     "text": [
      "sending off prediction to background worker for resampling and export\n",
      "done with Sample144\n",
      "\n",
      "Predicting Sample145:\n",
      "perform_everything_on_device: True\n"
     ]
    },
    {
     "name": "stderr",
     "output_type": "stream",
     "text": [
      "100%|██████████| 12/12 [00:03<00:00,  3.06it/s]\n",
      "100%|██████████| 12/12 [00:03<00:00,  3.06it/s]\n",
      "100%|██████████| 12/12 [00:03<00:00,  3.06it/s]\n",
      "100%|██████████| 12/12 [00:03<00:00,  3.06it/s]\n",
      "100%|██████████| 12/12 [00:03<00:00,  3.06it/s]\n"
     ]
    },
    {
     "name": "stdout",
     "output_type": "stream",
     "text": [
      "sending off prediction to background worker for resampling and export\n",
      "done with Sample145\n",
      "\n",
      "Predicting Sample146:\n",
      "perform_everything_on_device: True\n"
     ]
    },
    {
     "name": "stderr",
     "output_type": "stream",
     "text": [
      "100%|██████████| 20/20 [00:06<00:00,  3.01it/s]\n",
      "100%|██████████| 20/20 [00:06<00:00,  3.02it/s]\n",
      "100%|██████████| 20/20 [00:06<00:00,  3.02it/s]\n",
      "100%|██████████| 20/20 [00:06<00:00,  3.02it/s]\n",
      "100%|██████████| 20/20 [00:06<00:00,  3.02it/s]\n"
     ]
    },
    {
     "name": "stdout",
     "output_type": "stream",
     "text": [
      "sending off prediction to background worker for resampling and export\n",
      "done with Sample146\n",
      "\n",
      "Predicting Sample147:\n",
      "perform_everything_on_device: True\n"
     ]
    },
    {
     "name": "stderr",
     "output_type": "stream",
     "text": [
      "100%|██████████| 12/12 [00:03<00:00,  3.06it/s]\n",
      "100%|██████████| 12/12 [00:03<00:00,  3.06it/s]\n",
      "100%|██████████| 12/12 [00:03<00:00,  3.06it/s]\n",
      "100%|██████████| 12/12 [00:03<00:00,  3.06it/s]\n",
      "100%|██████████| 12/12 [00:03<00:00,  3.06it/s]\n"
     ]
    },
    {
     "name": "stdout",
     "output_type": "stream",
     "text": [
      "sending off prediction to background worker for resampling and export\n",
      "done with Sample147\n",
      "\n",
      "Predicting Sample148:\n",
      "perform_everything_on_device: True\n"
     ]
    },
    {
     "name": "stderr",
     "output_type": "stream",
     "text": [
      "100%|██████████| 2/2 [00:00<00:00,  3.77it/s]\n",
      "100%|██████████| 2/2 [00:00<00:00,  3.78it/s]\n",
      "100%|██████████| 2/2 [00:00<00:00,  3.78it/s]\n",
      "100%|██████████| 2/2 [00:00<00:00,  3.78it/s]\n",
      "100%|██████████| 2/2 [00:00<00:00,  3.77it/s]\n"
     ]
    },
    {
     "name": "stdout",
     "output_type": "stream",
     "text": [
      "sending off prediction to background worker for resampling and export\n",
      "done with Sample148\n",
      "\n",
      "Predicting Sample149:\n",
      "perform_everything_on_device: True\n"
     ]
    },
    {
     "name": "stderr",
     "output_type": "stream",
     "text": [
      "100%|██████████| 1/1 [00:00<00:00,  5.22it/s]\n",
      "100%|██████████| 1/1 [00:00<00:00,  5.25it/s]\n",
      "100%|██████████| 1/1 [00:00<00:00,  5.25it/s]\n",
      "100%|██████████| 1/1 [00:00<00:00,  5.24it/s]\n",
      "100%|██████████| 1/1 [00:00<00:00,  5.25it/s]\n"
     ]
    },
    {
     "name": "stdout",
     "output_type": "stream",
     "text": [
      "sending off prediction to background worker for resampling and export\n",
      "done with Sample149\n",
      "\n",
      "Predicting Sample15:\n",
      "perform_everything_on_device: True\n"
     ]
    },
    {
     "name": "stderr",
     "output_type": "stream",
     "text": [
      "100%|██████████| 3/3 [00:00<00:00,  3.45it/s]\n",
      "100%|██████████| 3/3 [00:00<00:00,  3.46it/s]\n",
      "100%|██████████| 3/3 [00:00<00:00,  3.46it/s]\n",
      "100%|██████████| 3/3 [00:00<00:00,  3.45it/s]\n",
      "100%|██████████| 3/3 [00:00<00:00,  3.46it/s]\n"
     ]
    },
    {
     "name": "stdout",
     "output_type": "stream",
     "text": [
      "sending off prediction to background worker for resampling and export\n",
      "done with Sample15\n",
      "\n",
      "Predicting Sample150:\n",
      "perform_everything_on_device: True\n"
     ]
    },
    {
     "name": "stderr",
     "output_type": "stream",
     "text": [
      "100%|██████████| 1/1 [00:00<00:00,  5.23it/s]\n",
      "100%|██████████| 1/1 [00:00<00:00,  5.26it/s]\n",
      "100%|██████████| 1/1 [00:00<00:00,  5.19it/s]\n",
      "100%|██████████| 1/1 [00:00<00:00,  5.25it/s]\n",
      "100%|██████████| 1/1 [00:00<00:00,  5.23it/s]\n"
     ]
    },
    {
     "name": "stdout",
     "output_type": "stream",
     "text": [
      "sending off prediction to background worker for resampling and export\n",
      "done with Sample150\n",
      "\n",
      "Predicting Sample151:\n",
      "perform_everything_on_device: True\n"
     ]
    },
    {
     "name": "stderr",
     "output_type": "stream",
     "text": [
      "100%|██████████| 54/54 [00:18<00:00,  2.97it/s]\n",
      "100%|██████████| 54/54 [00:18<00:00,  2.97it/s]\n",
      "100%|██████████| 54/54 [00:18<00:00,  2.97it/s]\n",
      "100%|██████████| 54/54 [00:18<00:00,  2.97it/s]\n",
      "100%|██████████| 54/54 [00:18<00:00,  2.97it/s]\n"
     ]
    },
    {
     "name": "stdout",
     "output_type": "stream",
     "text": [
      "sending off prediction to background worker for resampling and export\n",
      "done with Sample151\n",
      "\n",
      "Predicting Sample152:\n",
      "perform_everything_on_device: True\n"
     ]
    },
    {
     "name": "stderr",
     "output_type": "stream",
     "text": [
      "100%|██████████| 2/2 [00:00<00:00,  3.77it/s]\n",
      "100%|██████████| 2/2 [00:00<00:00,  3.77it/s]\n",
      "100%|██████████| 2/2 [00:00<00:00,  3.78it/s]\n",
      "100%|██████████| 2/2 [00:00<00:00,  3.77it/s]\n",
      "100%|██████████| 2/2 [00:00<00:00,  3.78it/s]\n"
     ]
    },
    {
     "name": "stdout",
     "output_type": "stream",
     "text": [
      "sending off prediction to background worker for resampling and export\n",
      "done with Sample152\n",
      "\n",
      "Predicting Sample153:\n",
      "perform_everything_on_device: True\n"
     ]
    },
    {
     "name": "stderr",
     "output_type": "stream",
     "text": [
      "100%|██████████| 2/2 [00:00<00:00,  3.78it/s]\n",
      "100%|██████████| 2/2 [00:00<00:00,  3.78it/s]\n",
      "100%|██████████| 2/2 [00:00<00:00,  3.78it/s]\n",
      "100%|██████████| 2/2 [00:00<00:00,  3.77it/s]\n",
      "100%|██████████| 2/2 [00:00<00:00,  3.77it/s]\n"
     ]
    },
    {
     "name": "stdout",
     "output_type": "stream",
     "text": [
      "sending off prediction to background worker for resampling and export\n",
      "done with Sample153\n",
      "\n",
      "Predicting Sample154:\n",
      "perform_everything_on_device: True\n"
     ]
    },
    {
     "name": "stderr",
     "output_type": "stream",
     "text": [
      "100%|██████████| 2/2 [00:00<00:00,  3.78it/s]\n",
      "100%|██████████| 2/2 [00:00<00:00,  3.78it/s]\n",
      "100%|██████████| 2/2 [00:00<00:00,  3.77it/s]\n",
      "100%|██████████| 2/2 [00:00<00:00,  3.78it/s]\n",
      "100%|██████████| 2/2 [00:00<00:00,  3.77it/s]\n"
     ]
    },
    {
     "name": "stdout",
     "output_type": "stream",
     "text": [
      "sending off prediction to background worker for resampling and export\n",
      "done with Sample154\n",
      "\n",
      "Predicting Sample155:\n",
      "perform_everything_on_device: True\n"
     ]
    },
    {
     "name": "stderr",
     "output_type": "stream",
     "text": [
      "100%|██████████| 1/1 [00:00<00:00,  5.23it/s]\n",
      "100%|██████████| 1/1 [00:00<00:00,  5.26it/s]\n",
      "100%|██████████| 1/1 [00:00<00:00,  5.25it/s]\n",
      "100%|██████████| 1/1 [00:00<00:00,  5.24it/s]\n",
      "100%|██████████| 1/1 [00:00<00:00,  5.24it/s]\n"
     ]
    },
    {
     "name": "stdout",
     "output_type": "stream",
     "text": [
      "sending off prediction to background worker for resampling and export\n",
      "done with Sample155\n",
      "\n",
      "Predicting Sample156:\n",
      "perform_everything_on_device: True\n"
     ]
    },
    {
     "name": "stderr",
     "output_type": "stream",
     "text": [
      "100%|██████████| 4/4 [00:01<00:00,  3.31it/s]\n",
      "100%|██████████| 4/4 [00:01<00:00,  3.31it/s]\n",
      "100%|██████████| 4/4 [00:01<00:00,  3.31it/s]\n",
      "100%|██████████| 4/4 [00:01<00:00,  3.31it/s]\n",
      "100%|██████████| 4/4 [00:01<00:00,  3.32it/s]\n"
     ]
    },
    {
     "name": "stdout",
     "output_type": "stream",
     "text": [
      "sending off prediction to background worker for resampling and export\n",
      "done with Sample156\n",
      "\n",
      "Predicting Sample157:\n",
      "perform_everything_on_device: True\n"
     ]
    },
    {
     "name": "stderr",
     "output_type": "stream",
     "text": [
      "100%|██████████| 200/200 [01:07<00:00,  2.95it/s]\n",
      "100%|██████████| 200/200 [01:07<00:00,  2.95it/s]\n",
      "100%|██████████| 200/200 [01:07<00:00,  2.95it/s]\n",
      "100%|██████████| 200/200 [01:07<00:00,  2.95it/s]\n",
      "100%|██████████| 200/200 [01:07<00:00,  2.95it/s]\n"
     ]
    },
    {
     "name": "stdout",
     "output_type": "stream",
     "text": [
      "sending off prediction to background worker for resampling and export\n",
      "done with Sample157\n",
      "\n",
      "Predicting Sample158:\n",
      "perform_everything_on_device: True\n"
     ]
    },
    {
     "name": "stderr",
     "output_type": "stream",
     "text": [
      "100%|██████████| 2/2 [00:00<00:00,  3.75it/s]\n",
      "100%|██████████| 2/2 [00:00<00:00,  3.78it/s]\n",
      "100%|██████████| 2/2 [00:00<00:00,  3.78it/s]\n",
      "100%|██████████| 2/2 [00:00<00:00,  3.78it/s]\n",
      "100%|██████████| 2/2 [00:00<00:00,  3.78it/s]\n"
     ]
    },
    {
     "name": "stdout",
     "output_type": "stream",
     "text": [
      "sending off prediction to background worker for resampling and export\n",
      "done with Sample158\n",
      "\n",
      "Predicting Sample159:\n",
      "perform_everything_on_device: True\n"
     ]
    },
    {
     "name": "stderr",
     "output_type": "stream",
     "text": [
      "100%|██████████| 20/20 [00:06<00:00,  3.01it/s]\n",
      "100%|██████████| 20/20 [00:06<00:00,  3.02it/s]\n",
      "100%|██████████| 20/20 [00:06<00:00,  3.02it/s]\n",
      "100%|██████████| 20/20 [00:06<00:00,  3.02it/s]\n",
      "100%|██████████| 20/20 [00:06<00:00,  3.02it/s]\n"
     ]
    },
    {
     "name": "stdout",
     "output_type": "stream",
     "text": [
      "sending off prediction to background worker for resampling and export\n",
      "done with Sample159\n",
      "\n",
      "Predicting Sample16:\n",
      "perform_everything_on_device: True\n"
     ]
    },
    {
     "name": "stderr",
     "output_type": "stream",
     "text": [
      "100%|██████████| 8/8 [00:02<00:00,  3.12it/s]\n",
      "100%|██████████| 8/8 [00:02<00:00,  3.12it/s]\n",
      "100%|██████████| 8/8 [00:02<00:00,  3.12it/s]\n",
      "100%|██████████| 8/8 [00:02<00:00,  3.12it/s]\n",
      "100%|██████████| 8/8 [00:02<00:00,  3.12it/s]\n"
     ]
    },
    {
     "name": "stdout",
     "output_type": "stream",
     "text": [
      "sending off prediction to background worker for resampling and export\n",
      "done with Sample16\n",
      "\n",
      "Predicting Sample160:\n",
      "perform_everything_on_device: True\n"
     ]
    },
    {
     "name": "stderr",
     "output_type": "stream",
     "text": [
      "100%|██████████| 8/8 [00:02<00:00,  3.12it/s]\n",
      "100%|██████████| 8/8 [00:02<00:00,  3.12it/s]\n",
      "100%|██████████| 8/8 [00:02<00:00,  3.12it/s]\n",
      "100%|██████████| 8/8 [00:02<00:00,  3.12it/s]\n",
      "100%|██████████| 8/8 [00:02<00:00,  3.12it/s]\n"
     ]
    },
    {
     "name": "stdout",
     "output_type": "stream",
     "text": [
      "sending off prediction to background worker for resampling and export\n",
      "done with Sample160\n",
      "\n",
      "Predicting Sample161:\n",
      "perform_everything_on_device: True\n"
     ]
    },
    {
     "name": "stderr",
     "output_type": "stream",
     "text": [
      "100%|██████████| 8/8 [00:02<00:00,  3.12it/s]\n",
      "100%|██████████| 8/8 [00:02<00:00,  3.12it/s]\n",
      "100%|██████████| 8/8 [00:02<00:00,  3.12it/s]\n",
      "100%|██████████| 8/8 [00:02<00:00,  3.12it/s]\n",
      "100%|██████████| 8/8 [00:02<00:00,  3.12it/s]\n"
     ]
    },
    {
     "name": "stdout",
     "output_type": "stream",
     "text": [
      "sending off prediction to background worker for resampling and export\n",
      "done with Sample161\n",
      "\n",
      "Predicting Sample162:\n",
      "perform_everything_on_device: True\n"
     ]
    },
    {
     "name": "stderr",
     "output_type": "stream",
     "text": [
      "100%|██████████| 1/1 [00:00<00:00,  5.24it/s]\n",
      "100%|██████████| 1/1 [00:00<00:00,  5.26it/s]\n",
      "100%|██████████| 1/1 [00:00<00:00,  5.26it/s]\n",
      "100%|██████████| 1/1 [00:00<00:00,  5.22it/s]\n",
      "100%|██████████| 1/1 [00:00<00:00,  5.25it/s]\n"
     ]
    },
    {
     "name": "stdout",
     "output_type": "stream",
     "text": [
      "sending off prediction to background worker for resampling and export\n",
      "done with Sample162\n",
      "\n",
      "Predicting Sample163:\n",
      "perform_everything_on_device: True\n"
     ]
    },
    {
     "name": "stderr",
     "output_type": "stream",
     "text": [
      "100%|██████████| 2/2 [00:00<00:00,  3.78it/s]\n",
      "100%|██████████| 2/2 [00:00<00:00,  3.78it/s]\n",
      "100%|██████████| 2/2 [00:00<00:00,  3.78it/s]\n",
      "100%|██████████| 2/2 [00:00<00:00,  3.78it/s]\n",
      "100%|██████████| 2/2 [00:00<00:00,  3.78it/s]\n"
     ]
    },
    {
     "name": "stdout",
     "output_type": "stream",
     "text": [
      "sending off prediction to background worker for resampling and export\n",
      "done with Sample163\n",
      "\n",
      "Predicting Sample164:\n",
      "perform_everything_on_device: True\n"
     ]
    },
    {
     "name": "stderr",
     "output_type": "stream",
     "text": [
      "100%|██████████| 2/2 [00:00<00:00,  3.78it/s]\n",
      "100%|██████████| 2/2 [00:00<00:00,  3.78it/s]\n",
      "100%|██████████| 2/2 [00:00<00:00,  3.78it/s]\n",
      "100%|██████████| 2/2 [00:00<00:00,  3.78it/s]\n",
      "100%|██████████| 2/2 [00:00<00:00,  3.78it/s]\n"
     ]
    },
    {
     "name": "stdout",
     "output_type": "stream",
     "text": [
      "sending off prediction to background worker for resampling and export\n",
      "done with Sample164\n",
      "\n",
      "Predicting Sample165:\n",
      "perform_everything_on_device: True\n"
     ]
    },
    {
     "name": "stderr",
     "output_type": "stream",
     "text": [
      "100%|██████████| 2/2 [00:00<00:00,  3.78it/s]\n",
      "100%|██████████| 2/2 [00:00<00:00,  3.77it/s]\n",
      "100%|██████████| 2/2 [00:00<00:00,  3.78it/s]\n",
      "100%|██████████| 2/2 [00:00<00:00,  3.78it/s]\n",
      "100%|██████████| 2/2 [00:00<00:00,  3.78it/s]\n"
     ]
    },
    {
     "name": "stdout",
     "output_type": "stream",
     "text": [
      "sending off prediction to background worker for resampling and export\n",
      "done with Sample165\n",
      "\n",
      "Predicting Sample166:\n",
      "perform_everything_on_device: True\n"
     ]
    },
    {
     "name": "stderr",
     "output_type": "stream",
     "text": [
      "100%|██████████| 8/8 [00:02<00:00,  3.12it/s]\n",
      "100%|██████████| 8/8 [00:02<00:00,  3.12it/s]\n",
      "100%|██████████| 8/8 [00:02<00:00,  3.12it/s]\n",
      "100%|██████████| 8/8 [00:02<00:00,  3.12it/s]\n",
      "100%|██████████| 8/8 [00:02<00:00,  3.12it/s]\n"
     ]
    },
    {
     "name": "stdout",
     "output_type": "stream",
     "text": [
      "sending off prediction to background worker for resampling and export\n",
      "done with Sample166\n",
      "\n",
      "Predicting Sample167:\n",
      "perform_everything_on_device: True\n"
     ]
    },
    {
     "name": "stderr",
     "output_type": "stream",
     "text": [
      "100%|██████████| 72/72 [00:24<00:00,  2.96it/s]\n",
      "100%|██████████| 72/72 [00:24<00:00,  2.96it/s]\n",
      "100%|██████████| 72/72 [00:24<00:00,  2.96it/s]\n",
      "100%|██████████| 72/72 [00:24<00:00,  2.96it/s]\n",
      "100%|██████████| 72/72 [00:24<00:00,  2.96it/s]\n"
     ]
    },
    {
     "name": "stdout",
     "output_type": "stream",
     "text": [
      "sending off prediction to background worker for resampling and export\n",
      "done with Sample167\n",
      "\n",
      "Predicting Sample168:\n",
      "perform_everything_on_device: True\n"
     ]
    },
    {
     "name": "stderr",
     "output_type": "stream",
     "text": [
      "100%|██████████| 2/2 [00:00<00:00,  3.78it/s]\n",
      "100%|██████████| 2/2 [00:00<00:00,  3.78it/s]\n",
      "100%|██████████| 2/2 [00:00<00:00,  3.78it/s]\n",
      "100%|██████████| 2/2 [00:00<00:00,  3.78it/s]\n",
      "100%|██████████| 2/2 [00:00<00:00,  3.78it/s]\n"
     ]
    },
    {
     "name": "stdout",
     "output_type": "stream",
     "text": [
      "sending off prediction to background worker for resampling and export\n",
      "done with Sample168\n",
      "\n",
      "Predicting Sample169:\n",
      "perform_everything_on_device: True\n"
     ]
    },
    {
     "name": "stderr",
     "output_type": "stream",
     "text": [
      "100%|██████████| 1/1 [00:00<00:00,  5.21it/s]\n",
      "100%|██████████| 1/1 [00:00<00:00,  5.24it/s]\n",
      "100%|██████████| 1/1 [00:00<00:00,  5.25it/s]\n",
      "100%|██████████| 1/1 [00:00<00:00,  5.25it/s]\n",
      "100%|██████████| 1/1 [00:00<00:00,  5.25it/s]\n"
     ]
    },
    {
     "name": "stdout",
     "output_type": "stream",
     "text": [
      "sending off prediction to background worker for resampling and export\n",
      "done with Sample169\n",
      "\n",
      "Predicting Sample17:\n",
      "perform_everything_on_device: True\n"
     ]
    },
    {
     "name": "stderr",
     "output_type": "stream",
     "text": [
      "100%|██████████| 1/1 [00:00<00:00,  5.23it/s]\n",
      "100%|██████████| 1/1 [00:00<00:00,  5.26it/s]\n",
      "100%|██████████| 1/1 [00:00<00:00,  5.26it/s]\n",
      "100%|██████████| 1/1 [00:00<00:00,  5.25it/s]\n",
      "100%|██████████| 1/1 [00:00<00:00,  5.22it/s]\n"
     ]
    },
    {
     "name": "stdout",
     "output_type": "stream",
     "text": [
      "sending off prediction to background worker for resampling and export\n",
      "done with Sample17\n",
      "\n",
      "Predicting Sample170:\n",
      "perform_everything_on_device: True\n"
     ]
    },
    {
     "name": "stderr",
     "output_type": "stream",
     "text": [
      "100%|██████████| 2/2 [00:00<00:00,  3.77it/s]\n",
      "100%|██████████| 2/2 [00:00<00:00,  3.78it/s]\n",
      "100%|██████████| 2/2 [00:00<00:00,  3.78it/s]\n",
      "100%|██████████| 2/2 [00:00<00:00,  3.78it/s]\n",
      "100%|██████████| 2/2 [00:00<00:00,  3.78it/s]\n"
     ]
    },
    {
     "name": "stdout",
     "output_type": "stream",
     "text": [
      "sending off prediction to background worker for resampling and export\n",
      "done with Sample170\n",
      "\n",
      "Predicting Sample171:\n",
      "perform_everything_on_device: True\n"
     ]
    },
    {
     "name": "stderr",
     "output_type": "stream",
     "text": [
      "100%|██████████| 2/2 [00:00<00:00,  3.77it/s]\n",
      "100%|██████████| 2/2 [00:00<00:00,  3.78it/s]\n",
      "100%|██████████| 2/2 [00:00<00:00,  3.78it/s]\n",
      "100%|██████████| 2/2 [00:00<00:00,  3.78it/s]\n",
      "100%|██████████| 2/2 [00:00<00:00,  3.78it/s]\n"
     ]
    },
    {
     "name": "stdout",
     "output_type": "stream",
     "text": [
      "sending off prediction to background worker for resampling and export\n",
      "done with Sample171\n",
      "\n",
      "Predicting Sample172:\n",
      "perform_everything_on_device: True\n"
     ]
    },
    {
     "name": "stderr",
     "output_type": "stream",
     "text": [
      "100%|██████████| 2/2 [00:00<00:00,  3.75it/s]\n",
      "100%|██████████| 2/2 [00:00<00:00,  3.78it/s]\n",
      "100%|██████████| 2/2 [00:00<00:00,  3.78it/s]\n",
      "100%|██████████| 2/2 [00:00<00:00,  3.78it/s]\n",
      "100%|██████████| 2/2 [00:00<00:00,  3.78it/s]\n"
     ]
    },
    {
     "name": "stdout",
     "output_type": "stream",
     "text": [
      "sending off prediction to background worker for resampling and export\n",
      "done with Sample172\n",
      "\n",
      "Predicting Sample173:\n",
      "perform_everything_on_device: True\n"
     ]
    },
    {
     "name": "stderr",
     "output_type": "stream",
     "text": [
      "100%|██████████| 1/1 [00:00<00:00,  5.21it/s]\n",
      "100%|██████████| 1/1 [00:00<00:00,  5.20it/s]\n",
      "100%|██████████| 1/1 [00:00<00:00,  5.22it/s]\n",
      "100%|██████████| 1/1 [00:00<00:00,  5.24it/s]\n",
      "100%|██████████| 1/1 [00:00<00:00,  5.24it/s]\n"
     ]
    },
    {
     "name": "stdout",
     "output_type": "stream",
     "text": [
      "sending off prediction to background worker for resampling and export\n",
      "done with Sample173\n",
      "\n",
      "Predicting Sample174:\n",
      "perform_everything_on_device: True\n"
     ]
    },
    {
     "name": "stderr",
     "output_type": "stream",
     "text": [
      "100%|██████████| 1/1 [00:00<00:00,  5.20it/s]\n",
      "100%|██████████| 1/1 [00:00<00:00,  5.25it/s]\n",
      "100%|██████████| 1/1 [00:00<00:00,  5.25it/s]\n",
      "100%|██████████| 1/1 [00:00<00:00,  5.22it/s]\n",
      "100%|██████████| 1/1 [00:00<00:00,  5.25it/s]\n"
     ]
    },
    {
     "name": "stdout",
     "output_type": "stream",
     "text": [
      "sending off prediction to background worker for resampling and export\n",
      "done with Sample174\n",
      "\n",
      "Predicting Sample175:\n",
      "perform_everything_on_device: True\n"
     ]
    },
    {
     "name": "stderr",
     "output_type": "stream",
     "text": [
      "100%|██████████| 4/4 [00:01<00:00,  3.31it/s]\n",
      "100%|██████████| 4/4 [00:01<00:00,  3.31it/s]\n",
      "100%|██████████| 4/4 [00:01<00:00,  3.31it/s]\n",
      "100%|██████████| 4/4 [00:01<00:00,  3.31it/s]\n",
      "100%|██████████| 4/4 [00:01<00:00,  3.32it/s]\n"
     ]
    },
    {
     "name": "stdout",
     "output_type": "stream",
     "text": [
      "sending off prediction to background worker for resampling and export\n",
      "done with Sample175\n",
      "\n",
      "Predicting Sample176:\n",
      "perform_everything_on_device: True\n"
     ]
    },
    {
     "name": "stderr",
     "output_type": "stream",
     "text": [
      "100%|██████████| 128/128 [00:43<00:00,  2.95it/s]\n",
      "100%|██████████| 128/128 [00:43<00:00,  2.95it/s]\n",
      "100%|██████████| 128/128 [00:43<00:00,  2.95it/s]\n",
      "100%|██████████| 128/128 [00:43<00:00,  2.95it/s]\n",
      "100%|██████████| 128/128 [00:43<00:00,  2.95it/s]\n"
     ]
    },
    {
     "name": "stdout",
     "output_type": "stream",
     "text": [
      "sending off prediction to background worker for resampling and export\n",
      "done with Sample176\n",
      "\n",
      "Predicting Sample177:\n",
      "perform_everything_on_device: True\n"
     ]
    },
    {
     "name": "stderr",
     "output_type": "stream",
     "text": [
      "100%|██████████| 1/1 [00:00<00:00,  5.22it/s]\n",
      "100%|██████████| 1/1 [00:00<00:00,  5.25it/s]\n",
      "100%|██████████| 1/1 [00:00<00:00,  5.25it/s]\n",
      "100%|██████████| 1/1 [00:00<00:00,  5.25it/s]\n",
      "100%|██████████| 1/1 [00:00<00:00,  5.25it/s]\n"
     ]
    },
    {
     "name": "stdout",
     "output_type": "stream",
     "text": [
      "sending off prediction to background worker for resampling and export\n",
      "done with Sample177\n",
      "\n",
      "Predicting Sample178:\n",
      "perform_everything_on_device: True\n"
     ]
    },
    {
     "name": "stderr",
     "output_type": "stream",
     "text": [
      "100%|██████████| 1/1 [00:00<00:00,  5.23it/s]\n",
      "100%|██████████| 1/1 [00:00<00:00,  5.26it/s]\n",
      "100%|██████████| 1/1 [00:00<00:00,  5.25it/s]\n",
      "100%|██████████| 1/1 [00:00<00:00,  5.25it/s]\n",
      "100%|██████████| 1/1 [00:00<00:00,  5.25it/s]\n"
     ]
    },
    {
     "name": "stdout",
     "output_type": "stream",
     "text": [
      "sending off prediction to background worker for resampling and export\n",
      "done with Sample178\n",
      "\n",
      "Predicting Sample179:\n",
      "perform_everything_on_device: True\n"
     ]
    },
    {
     "name": "stderr",
     "output_type": "stream",
     "text": [
      "100%|██████████| 2/2 [00:00<00:00,  3.78it/s]\n",
      "100%|██████████| 2/2 [00:00<00:00,  3.78it/s]\n",
      "100%|██████████| 2/2 [00:00<00:00,  3.78it/s]\n",
      "100%|██████████| 2/2 [00:00<00:00,  3.77it/s]\n",
      "100%|██████████| 2/2 [00:00<00:00,  3.78it/s]\n"
     ]
    },
    {
     "name": "stdout",
     "output_type": "stream",
     "text": [
      "sending off prediction to background worker for resampling and export\n",
      "done with Sample179\n",
      "\n",
      "Predicting Sample18:\n",
      "perform_everything_on_device: True\n"
     ]
    },
    {
     "name": "stderr",
     "output_type": "stream",
     "text": [
      "100%|██████████| 1/1 [00:00<00:00,  5.24it/s]\n",
      "100%|██████████| 1/1 [00:00<00:00,  5.25it/s]\n",
      "100%|██████████| 1/1 [00:00<00:00,  5.23it/s]\n",
      "100%|██████████| 1/1 [00:00<00:00,  5.24it/s]\n",
      "100%|██████████| 1/1 [00:00<00:00,  5.24it/s]\n"
     ]
    },
    {
     "name": "stdout",
     "output_type": "stream",
     "text": [
      "sending off prediction to background worker for resampling and export\n",
      "done with Sample18\n",
      "\n",
      "Predicting Sample180:\n",
      "perform_everything_on_device: True\n"
     ]
    },
    {
     "name": "stderr",
     "output_type": "stream",
     "text": [
      "100%|██████████| 2/2 [00:00<00:00,  3.78it/s]\n",
      "100%|██████████| 2/2 [00:00<00:00,  3.78it/s]\n",
      "100%|██████████| 2/2 [00:00<00:00,  3.78it/s]\n",
      "100%|██████████| 2/2 [00:00<00:00,  3.78it/s]\n",
      "100%|██████████| 2/2 [00:00<00:00,  3.78it/s]\n"
     ]
    },
    {
     "name": "stdout",
     "output_type": "stream",
     "text": [
      "sending off prediction to background worker for resampling and export\n",
      "done with Sample180\n",
      "\n",
      "Predicting Sample181:\n",
      "perform_everything_on_device: True\n"
     ]
    },
    {
     "name": "stderr",
     "output_type": "stream",
     "text": [
      "100%|██████████| 2/2 [00:00<00:00,  3.77it/s]\n",
      "100%|██████████| 2/2 [00:00<00:00,  3.78it/s]\n",
      "100%|██████████| 2/2 [00:00<00:00,  3.77it/s]\n",
      "100%|██████████| 2/2 [00:00<00:00,  3.78it/s]\n",
      "100%|██████████| 2/2 [00:00<00:00,  3.77it/s]\n"
     ]
    },
    {
     "name": "stdout",
     "output_type": "stream",
     "text": [
      "sending off prediction to background worker for resampling and export\n",
      "done with Sample181\n",
      "\n",
      "Predicting Sample182:\n",
      "perform_everything_on_device: True\n"
     ]
    },
    {
     "name": "stderr",
     "output_type": "stream",
     "text": [
      "100%|██████████| 8/8 [00:02<00:00,  3.12it/s]\n",
      "100%|██████████| 8/8 [00:02<00:00,  3.12it/s]\n",
      "100%|██████████| 8/8 [00:02<00:00,  3.12it/s]\n",
      "100%|██████████| 8/8 [00:02<00:00,  3.12it/s]\n",
      "100%|██████████| 8/8 [00:02<00:00,  3.12it/s]\n"
     ]
    },
    {
     "name": "stdout",
     "output_type": "stream",
     "text": [
      "sending off prediction to background worker for resampling and export\n",
      "done with Sample182\n",
      "\n",
      "Predicting Sample183:\n",
      "perform_everything_on_device: True\n"
     ]
    },
    {
     "name": "stderr",
     "output_type": "stream",
     "text": [
      "100%|██████████| 20/20 [00:06<00:00,  3.01it/s]\n",
      "100%|██████████| 20/20 [00:06<00:00,  3.02it/s]\n",
      "100%|██████████| 20/20 [00:06<00:00,  3.02it/s]\n",
      "100%|██████████| 20/20 [00:06<00:00,  3.02it/s]\n",
      "100%|██████████| 20/20 [00:06<00:00,  3.02it/s]\n"
     ]
    },
    {
     "name": "stdout",
     "output_type": "stream",
     "text": [
      "sending off prediction to background worker for resampling and export\n",
      "done with Sample183\n",
      "\n",
      "Predicting Sample184:\n",
      "perform_everything_on_device: True\n"
     ]
    },
    {
     "name": "stderr",
     "output_type": "stream",
     "text": [
      "100%|██████████| 8/8 [00:02<00:00,  3.12it/s]\n",
      "100%|██████████| 8/8 [00:02<00:00,  3.12it/s]\n",
      "100%|██████████| 8/8 [00:02<00:00,  3.12it/s]\n",
      "100%|██████████| 8/8 [00:02<00:00,  3.12it/s]\n",
      "100%|██████████| 8/8 [00:02<00:00,  3.12it/s]\n"
     ]
    },
    {
     "name": "stdout",
     "output_type": "stream",
     "text": [
      "sending off prediction to background worker for resampling and export\n",
      "done with Sample184\n",
      "\n",
      "Predicting Sample185:\n",
      "perform_everything_on_device: True\n"
     ]
    },
    {
     "name": "stderr",
     "output_type": "stream",
     "text": [
      "100%|██████████| 54/54 [00:18<00:00,  2.97it/s]\n",
      "100%|██████████| 54/54 [00:18<00:00,  2.97it/s]\n",
      "100%|██████████| 54/54 [00:18<00:00,  2.97it/s]\n",
      "100%|██████████| 54/54 [00:18<00:00,  2.97it/s]\n",
      "100%|██████████| 54/54 [00:18<00:00,  2.97it/s]\n"
     ]
    },
    {
     "name": "stdout",
     "output_type": "stream",
     "text": [
      "sending off prediction to background worker for resampling and export\n",
      "done with Sample185\n",
      "\n",
      "Predicting Sample186:\n",
      "perform_everything_on_device: True\n"
     ]
    },
    {
     "name": "stderr",
     "output_type": "stream",
     "text": [
      "100%|██████████| 8/8 [00:02<00:00,  3.12it/s]\n",
      "100%|██████████| 8/8 [00:02<00:00,  3.12it/s]\n",
      "100%|██████████| 8/8 [00:02<00:00,  3.12it/s]\n",
      "100%|██████████| 8/8 [00:02<00:00,  3.12it/s]\n",
      "100%|██████████| 8/8 [00:02<00:00,  3.12it/s]\n"
     ]
    },
    {
     "name": "stdout",
     "output_type": "stream",
     "text": [
      "sending off prediction to background worker for resampling and export\n",
      "done with Sample186\n",
      "\n",
      "Predicting Sample187:\n",
      "perform_everything_on_device: True\n"
     ]
    },
    {
     "name": "stderr",
     "output_type": "stream",
     "text": [
      "100%|██████████| 8/8 [00:02<00:00,  3.12it/s]\n",
      "100%|██████████| 8/8 [00:02<00:00,  3.12it/s]\n",
      "100%|██████████| 8/8 [00:02<00:00,  3.12it/s]\n",
      "100%|██████████| 8/8 [00:02<00:00,  3.12it/s]\n",
      "100%|██████████| 8/8 [00:02<00:00,  3.12it/s]\n"
     ]
    },
    {
     "name": "stdout",
     "output_type": "stream",
     "text": [
      "sending off prediction to background worker for resampling and export\n",
      "done with Sample187\n",
      "\n",
      "Predicting Sample188:\n",
      "perform_everything_on_device: True\n"
     ]
    },
    {
     "name": "stderr",
     "output_type": "stream",
     "text": [
      "100%|██████████| 24/24 [00:07<00:00,  3.00it/s]\n",
      "100%|██████████| 24/24 [00:07<00:00,  3.01it/s]\n",
      "100%|██████████| 24/24 [00:07<00:00,  3.01it/s]\n",
      "100%|██████████| 24/24 [00:07<00:00,  3.01it/s]\n",
      "100%|██████████| 24/24 [00:07<00:00,  3.01it/s]\n"
     ]
    },
    {
     "name": "stdout",
     "output_type": "stream",
     "text": [
      "sending off prediction to background worker for resampling and export\n",
      "done with Sample188\n",
      "\n",
      "Predicting Sample189:\n",
      "perform_everything_on_device: True\n"
     ]
    },
    {
     "name": "stderr",
     "output_type": "stream",
     "text": [
      "100%|██████████| 8/8 [00:02<00:00,  3.12it/s]\n",
      "100%|██████████| 8/8 [00:02<00:00,  3.12it/s]\n",
      "100%|██████████| 8/8 [00:02<00:00,  3.12it/s]\n",
      "100%|██████████| 8/8 [00:02<00:00,  3.12it/s]\n",
      "100%|██████████| 8/8 [00:02<00:00,  3.12it/s]\n"
     ]
    },
    {
     "name": "stdout",
     "output_type": "stream",
     "text": [
      "sending off prediction to background worker for resampling and export\n",
      "done with Sample189\n",
      "\n",
      "Predicting Sample19:\n",
      "perform_everything_on_device: True\n"
     ]
    },
    {
     "name": "stderr",
     "output_type": "stream",
     "text": [
      "100%|██████████| 2/2 [00:00<00:00,  3.75it/s]\n",
      "100%|██████████| 2/2 [00:00<00:00,  3.78it/s]\n",
      "100%|██████████| 2/2 [00:00<00:00,  3.78it/s]\n",
      "100%|██████████| 2/2 [00:00<00:00,  3.78it/s]\n",
      "100%|██████████| 2/2 [00:00<00:00,  3.77it/s]\n"
     ]
    },
    {
     "name": "stdout",
     "output_type": "stream",
     "text": [
      "sending off prediction to background worker for resampling and export\n",
      "done with Sample19\n",
      "\n",
      "Predicting Sample190:\n",
      "perform_everything_on_device: True\n"
     ]
    },
    {
     "name": "stderr",
     "output_type": "stream",
     "text": [
      "100%|██████████| 2/2 [00:00<00:00,  3.78it/s]\n",
      "100%|██████████| 2/2 [00:00<00:00,  3.78it/s]\n",
      "100%|██████████| 2/2 [00:00<00:00,  3.78it/s]\n",
      "100%|██████████| 2/2 [00:00<00:00,  3.78it/s]\n",
      "100%|██████████| 2/2 [00:00<00:00,  3.78it/s]\n"
     ]
    },
    {
     "name": "stdout",
     "output_type": "stream",
     "text": [
      "sending off prediction to background worker for resampling and export\n",
      "done with Sample190\n",
      "\n",
      "Predicting Sample191:\n",
      "perform_everything_on_device: True\n"
     ]
    },
    {
     "name": "stderr",
     "output_type": "stream",
     "text": [
      "100%|██████████| 1/1 [00:00<00:00,  5.23it/s]\n",
      "100%|██████████| 1/1 [00:00<00:00,  5.16it/s]\n",
      "100%|██████████| 1/1 [00:00<00:00,  5.26it/s]\n",
      "100%|██████████| 1/1 [00:00<00:00,  5.22it/s]\n",
      "100%|██████████| 1/1 [00:00<00:00,  5.24it/s]\n"
     ]
    },
    {
     "name": "stdout",
     "output_type": "stream",
     "text": [
      "sending off prediction to background worker for resampling and export\n",
      "done with Sample191\n",
      "\n",
      "Predicting Sample192:\n",
      "perform_everything_on_device: True\n"
     ]
    },
    {
     "name": "stderr",
     "output_type": "stream",
     "text": [
      "100%|██████████| 2/2 [00:00<00:00,  3.78it/s]\n",
      "100%|██████████| 2/2 [00:00<00:00,  3.78it/s]\n",
      "100%|██████████| 2/2 [00:00<00:00,  3.78it/s]\n",
      "100%|██████████| 2/2 [00:00<00:00,  3.77it/s]\n",
      "100%|██████████| 2/2 [00:00<00:00,  3.78it/s]\n"
     ]
    },
    {
     "name": "stdout",
     "output_type": "stream",
     "text": [
      "sending off prediction to background worker for resampling and export\n",
      "done with Sample192\n",
      "\n",
      "Predicting Sample193:\n",
      "perform_everything_on_device: True\n"
     ]
    },
    {
     "name": "stderr",
     "output_type": "stream",
     "text": [
      "100%|██████████| 2/2 [00:00<00:00,  3.78it/s]\n",
      "100%|██████████| 2/2 [00:00<00:00,  3.78it/s]\n",
      "100%|██████████| 2/2 [00:00<00:00,  3.78it/s]\n",
      "100%|██████████| 2/2 [00:00<00:00,  3.78it/s]\n",
      "100%|██████████| 2/2 [00:00<00:00,  3.78it/s]\n"
     ]
    },
    {
     "name": "stdout",
     "output_type": "stream",
     "text": [
      "sending off prediction to background worker for resampling and export\n",
      "done with Sample193\n",
      "\n",
      "Predicting Sample194:\n",
      "perform_everything_on_device: True\n"
     ]
    },
    {
     "name": "stderr",
     "output_type": "stream",
     "text": [
      "100%|██████████| 2/2 [00:00<00:00,  3.78it/s]\n",
      "100%|██████████| 2/2 [00:00<00:00,  3.78it/s]\n",
      "100%|██████████| 2/2 [00:00<00:00,  3.78it/s]\n",
      "100%|██████████| 2/2 [00:00<00:00,  3.78it/s]\n",
      "100%|██████████| 2/2 [00:00<00:00,  3.78it/s]\n"
     ]
    },
    {
     "name": "stdout",
     "output_type": "stream",
     "text": [
      "sending off prediction to background worker for resampling and export\n",
      "done with Sample194\n",
      "\n",
      "Predicting Sample195:\n",
      "perform_everything_on_device: True\n"
     ]
    },
    {
     "name": "stderr",
     "output_type": "stream",
     "text": [
      "100%|██████████| 81/81 [00:27<00:00,  2.96it/s]\n",
      "100%|██████████| 81/81 [00:27<00:00,  2.95it/s]\n",
      "100%|██████████| 81/81 [00:27<00:00,  2.95it/s]\n",
      "100%|██████████| 81/81 [00:27<00:00,  2.95it/s]\n",
      "100%|██████████| 81/81 [00:27<00:00,  2.95it/s]\n"
     ]
    },
    {
     "name": "stdout",
     "output_type": "stream",
     "text": [
      "sending off prediction to background worker for resampling and export\n",
      "done with Sample195\n",
      "\n",
      "Predicting Sample196:\n",
      "perform_everything_on_device: True\n"
     ]
    },
    {
     "name": "stderr",
     "output_type": "stream",
     "text": [
      "100%|██████████| 8/8 [00:02<00:00,  3.12it/s]\n",
      "100%|██████████| 8/8 [00:02<00:00,  3.12it/s]\n",
      "100%|██████████| 8/8 [00:02<00:00,  3.12it/s]\n",
      "100%|██████████| 8/8 [00:02<00:00,  3.12it/s]\n",
      "100%|██████████| 8/8 [00:02<00:00,  3.12it/s]\n"
     ]
    },
    {
     "name": "stdout",
     "output_type": "stream",
     "text": [
      "sending off prediction to background worker for resampling and export\n",
      "done with Sample196\n",
      "\n",
      "Predicting Sample197:\n",
      "perform_everything_on_device: True\n"
     ]
    },
    {
     "name": "stderr",
     "output_type": "stream",
     "text": [
      "100%|██████████| 1/1 [00:00<00:00,  5.21it/s]\n",
      "100%|██████████| 1/1 [00:00<00:00,  5.25it/s]\n",
      "100%|██████████| 1/1 [00:00<00:00,  5.25it/s]\n",
      "100%|██████████| 1/1 [00:00<00:00,  5.25it/s]\n",
      "100%|██████████| 1/1 [00:00<00:00,  5.25it/s]\n"
     ]
    },
    {
     "name": "stdout",
     "output_type": "stream",
     "text": [
      "sending off prediction to background worker for resampling and export\n",
      "done with Sample197\n",
      "\n",
      "Predicting Sample198:\n",
      "perform_everything_on_device: True\n"
     ]
    },
    {
     "name": "stderr",
     "output_type": "stream",
     "text": [
      "100%|██████████| 2/2 [00:00<00:00,  3.78it/s]\n",
      "100%|██████████| 2/2 [00:00<00:00,  3.78it/s]\n",
      "100%|██████████| 2/2 [00:00<00:00,  3.78it/s]\n",
      "100%|██████████| 2/2 [00:00<00:00,  3.77it/s]\n",
      "100%|██████████| 2/2 [00:00<00:00,  3.78it/s]\n"
     ]
    },
    {
     "name": "stdout",
     "output_type": "stream",
     "text": [
      "sending off prediction to background worker for resampling and export\n",
      "done with Sample198\n",
      "\n",
      "Predicting Sample199:\n",
      "perform_everything_on_device: True\n"
     ]
    },
    {
     "name": "stderr",
     "output_type": "stream",
     "text": [
      "100%|██████████| 2/2 [00:00<00:00,  3.78it/s]\n",
      "100%|██████████| 2/2 [00:00<00:00,  3.77it/s]\n",
      "100%|██████████| 2/2 [00:00<00:00,  3.78it/s]\n",
      "100%|██████████| 2/2 [00:00<00:00,  3.78it/s]\n",
      "100%|██████████| 2/2 [00:00<00:00,  3.78it/s]\n"
     ]
    },
    {
     "name": "stdout",
     "output_type": "stream",
     "text": [
      "sending off prediction to background worker for resampling and export\n",
      "done with Sample199\n",
      "\n",
      "Predicting Sample2:\n",
      "perform_everything_on_device: True\n"
     ]
    },
    {
     "name": "stderr",
     "output_type": "stream",
     "text": [
      "100%|██████████| 2/2 [00:00<00:00,  3.76it/s]\n",
      "100%|██████████| 2/2 [00:00<00:00,  3.78it/s]\n",
      "100%|██████████| 2/2 [00:00<00:00,  3.77it/s]\n",
      "100%|██████████| 2/2 [00:00<00:00,  3.78it/s]\n",
      "100%|██████████| 2/2 [00:00<00:00,  3.78it/s]\n"
     ]
    },
    {
     "name": "stdout",
     "output_type": "stream",
     "text": [
      "sending off prediction to background worker for resampling and export\n",
      "done with Sample2\n",
      "\n",
      "Predicting Sample20:\n",
      "perform_everything_on_device: True\n"
     ]
    },
    {
     "name": "stderr",
     "output_type": "stream",
     "text": [
      "100%|██████████| 1/1 [00:00<00:00,  5.23it/s]\n",
      "100%|██████████| 1/1 [00:00<00:00,  5.25it/s]\n",
      "100%|██████████| 1/1 [00:00<00:00,  5.23it/s]\n",
      "100%|██████████| 1/1 [00:00<00:00,  5.23it/s]\n",
      "100%|██████████| 1/1 [00:00<00:00,  5.23it/s]\n"
     ]
    },
    {
     "name": "stdout",
     "output_type": "stream",
     "text": [
      "sending off prediction to background worker for resampling and export\n",
      "done with Sample20\n",
      "\n",
      "Predicting Sample200:\n",
      "perform_everything_on_device: True\n"
     ]
    },
    {
     "name": "stderr",
     "output_type": "stream",
     "text": [
      "100%|██████████| 1/1 [00:00<00:00,  5.22it/s]\n",
      "100%|██████████| 1/1 [00:00<00:00,  5.25it/s]\n",
      "100%|██████████| 1/1 [00:00<00:00,  5.23it/s]\n",
      "100%|██████████| 1/1 [00:00<00:00,  5.23it/s]\n",
      "100%|██████████| 1/1 [00:00<00:00,  5.24it/s]\n"
     ]
    },
    {
     "name": "stdout",
     "output_type": "stream",
     "text": [
      "sending off prediction to background worker for resampling and export\n",
      "done with Sample200\n",
      "\n",
      "Predicting Sample201:\n",
      "perform_everything_on_device: True\n"
     ]
    },
    {
     "name": "stderr",
     "output_type": "stream",
     "text": [
      "100%|██████████| 81/81 [00:27<00:00,  2.96it/s]\n",
      "100%|██████████| 81/81 [00:27<00:00,  2.96it/s]\n",
      "100%|██████████| 81/81 [00:27<00:00,  2.96it/s]\n",
      "100%|██████████| 81/81 [00:27<00:00,  2.96it/s]\n",
      "100%|██████████| 81/81 [00:27<00:00,  2.96it/s]\n"
     ]
    },
    {
     "name": "stdout",
     "output_type": "stream",
     "text": [
      "sending off prediction to background worker for resampling and export\n",
      "done with Sample201\n",
      "\n",
      "Predicting Sample202:\n",
      "perform_everything_on_device: True\n"
     ]
    },
    {
     "name": "stderr",
     "output_type": "stream",
     "text": [
      "100%|██████████| 8/8 [00:02<00:00,  3.12it/s]\n",
      "100%|██████████| 8/8 [00:02<00:00,  3.12it/s]\n",
      "100%|██████████| 8/8 [00:02<00:00,  3.12it/s]\n",
      "100%|██████████| 8/8 [00:02<00:00,  3.12it/s]\n",
      "100%|██████████| 8/8 [00:02<00:00,  3.12it/s]\n"
     ]
    },
    {
     "name": "stdout",
     "output_type": "stream",
     "text": [
      "sending off prediction to background worker for resampling and export\n",
      "done with Sample202\n",
      "\n",
      "Predicting Sample203:\n",
      "perform_everything_on_device: True\n"
     ]
    },
    {
     "name": "stderr",
     "output_type": "stream",
     "text": [
      "100%|██████████| 72/72 [00:24<00:00,  2.96it/s]\n",
      "100%|██████████| 72/72 [00:24<00:00,  2.96it/s]\n",
      "100%|██████████| 72/72 [00:24<00:00,  2.96it/s]\n",
      "100%|██████████| 72/72 [00:24<00:00,  2.96it/s]\n",
      "100%|██████████| 72/72 [00:24<00:00,  2.96it/s]\n"
     ]
    },
    {
     "name": "stdout",
     "output_type": "stream",
     "text": [
      "sending off prediction to background worker for resampling and export\n",
      "done with Sample203\n",
      "\n",
      "Predicting Sample204:\n",
      "perform_everything_on_device: True\n"
     ]
    },
    {
     "name": "stderr",
     "output_type": "stream",
     "text": [
      "100%|██████████| 2/2 [00:00<00:00,  3.77it/s]\n",
      "100%|██████████| 2/2 [00:00<00:00,  3.78it/s]\n",
      "100%|██████████| 2/2 [00:00<00:00,  3.78it/s]\n",
      "100%|██████████| 2/2 [00:00<00:00,  3.78it/s]\n",
      "100%|██████████| 2/2 [00:00<00:00,  3.78it/s]\n"
     ]
    },
    {
     "name": "stdout",
     "output_type": "stream",
     "text": [
      "sending off prediction to background worker for resampling and export\n",
      "done with Sample204\n",
      "\n",
      "Predicting Sample205:\n",
      "perform_everything_on_device: True\n"
     ]
    },
    {
     "name": "stderr",
     "output_type": "stream",
     "text": [
      "100%|██████████| 2/2 [00:00<00:00,  3.77it/s]\n",
      "100%|██████████| 2/2 [00:00<00:00,  3.78it/s]\n",
      "100%|██████████| 2/2 [00:00<00:00,  3.77it/s]\n",
      "100%|██████████| 2/2 [00:00<00:00,  3.77it/s]\n",
      "100%|██████████| 2/2 [00:00<00:00,  3.78it/s]\n"
     ]
    },
    {
     "name": "stdout",
     "output_type": "stream",
     "text": [
      "sending off prediction to background worker for resampling and export\n",
      "done with Sample205\n",
      "\n",
      "Predicting Sample206:\n",
      "perform_everything_on_device: True\n"
     ]
    },
    {
     "name": "stderr",
     "output_type": "stream",
     "text": [
      "100%|██████████| 1/1 [00:00<00:00,  5.18it/s]\n",
      "100%|██████████| 1/1 [00:00<00:00,  5.03it/s]\n",
      "100%|██████████| 1/1 [00:00<00:00,  5.25it/s]\n",
      "100%|██████████| 1/1 [00:00<00:00,  5.25it/s]\n",
      "100%|██████████| 1/1 [00:00<00:00,  5.25it/s]\n"
     ]
    },
    {
     "name": "stdout",
     "output_type": "stream",
     "text": [
      "sending off prediction to background worker for resampling and export\n",
      "done with Sample206\n",
      "\n",
      "Predicting Sample207:\n",
      "perform_everything_on_device: True\n"
     ]
    },
    {
     "name": "stderr",
     "output_type": "stream",
     "text": [
      "100%|██████████| 2/2 [00:00<00:00,  3.77it/s]\n",
      "100%|██████████| 2/2 [00:00<00:00,  3.76it/s]\n",
      "100%|██████████| 2/2 [00:00<00:00,  3.77it/s]\n",
      "100%|██████████| 2/2 [00:00<00:00,  3.78it/s]\n",
      "100%|██████████| 2/2 [00:00<00:00,  3.78it/s]\n"
     ]
    },
    {
     "name": "stdout",
     "output_type": "stream",
     "text": [
      "sending off prediction to background worker for resampling and export\n",
      "done with Sample207\n",
      "\n",
      "Predicting Sample208:\n",
      "perform_everything_on_device: True\n"
     ]
    },
    {
     "name": "stderr",
     "output_type": "stream",
     "text": [
      "100%|██████████| 8/8 [00:02<00:00,  3.12it/s]\n",
      "100%|██████████| 8/8 [00:02<00:00,  3.12it/s]\n",
      "100%|██████████| 8/8 [00:02<00:00,  3.12it/s]\n",
      "100%|██████████| 8/8 [00:02<00:00,  3.12it/s]\n",
      "100%|██████████| 8/8 [00:02<00:00,  3.12it/s]\n"
     ]
    },
    {
     "name": "stdout",
     "output_type": "stream",
     "text": [
      "sending off prediction to background worker for resampling and export\n",
      "done with Sample208\n",
      "\n",
      "Predicting Sample209:\n",
      "perform_everything_on_device: True\n"
     ]
    },
    {
     "name": "stderr",
     "output_type": "stream",
     "text": [
      "100%|██████████| 45/45 [00:15<00:00,  2.98it/s]\n",
      "100%|██████████| 45/45 [00:15<00:00,  2.98it/s]\n",
      "100%|██████████| 45/45 [00:15<00:00,  2.98it/s]\n",
      "100%|██████████| 45/45 [00:15<00:00,  2.98it/s]\n",
      "100%|██████████| 45/45 [00:15<00:00,  2.98it/s]\n"
     ]
    },
    {
     "name": "stdout",
     "output_type": "stream",
     "text": [
      "sending off prediction to background worker for resampling and export\n",
      "done with Sample209\n",
      "\n",
      "Predicting Sample21:\n",
      "perform_everything_on_device: True\n"
     ]
    },
    {
     "name": "stderr",
     "output_type": "stream",
     "text": [
      "100%|██████████| 1/1 [00:00<00:00,  5.23it/s]\n",
      "100%|██████████| 1/1 [00:00<00:00,  5.17it/s]\n",
      "100%|██████████| 1/1 [00:00<00:00,  5.25it/s]\n",
      "100%|██████████| 1/1 [00:00<00:00,  5.23it/s]\n",
      "100%|██████████| 1/1 [00:00<00:00,  5.25it/s]\n"
     ]
    },
    {
     "name": "stdout",
     "output_type": "stream",
     "text": [
      "sending off prediction to background worker for resampling and export\n",
      "done with Sample21\n",
      "\n",
      "Predicting Sample210:\n",
      "perform_everything_on_device: True\n"
     ]
    },
    {
     "name": "stderr",
     "output_type": "stream",
     "text": [
      "100%|██████████| 8/8 [00:02<00:00,  3.12it/s]\n",
      "100%|██████████| 8/8 [00:02<00:00,  3.12it/s]\n",
      "100%|██████████| 8/8 [00:02<00:00,  3.12it/s]\n",
      "100%|██████████| 8/8 [00:02<00:00,  3.12it/s]\n",
      "100%|██████████| 8/8 [00:02<00:00,  3.12it/s]\n"
     ]
    },
    {
     "name": "stdout",
     "output_type": "stream",
     "text": [
      "sending off prediction to background worker for resampling and export\n",
      "done with Sample210\n",
      "\n",
      "Predicting Sample211:\n",
      "perform_everything_on_device: True\n"
     ]
    },
    {
     "name": "stderr",
     "output_type": "stream",
     "text": [
      "100%|██████████| 2/2 [00:00<00:00,  3.72it/s]\n",
      "100%|██████████| 2/2 [00:00<00:00,  3.78it/s]\n",
      "100%|██████████| 2/2 [00:00<00:00,  3.78it/s]\n",
      "100%|██████████| 2/2 [00:00<00:00,  3.78it/s]\n",
      "100%|██████████| 2/2 [00:00<00:00,  3.78it/s]\n"
     ]
    },
    {
     "name": "stdout",
     "output_type": "stream",
     "text": [
      "sending off prediction to background worker for resampling and export\n",
      "done with Sample211\n",
      "\n",
      "Predicting Sample212:\n",
      "perform_everything_on_device: True\n"
     ]
    },
    {
     "name": "stderr",
     "output_type": "stream",
     "text": [
      "100%|██████████| 2/2 [00:00<00:00,  3.77it/s]\n",
      "100%|██████████| 2/2 [00:00<00:00,  3.78it/s]\n",
      "100%|██████████| 2/2 [00:00<00:00,  3.78it/s]\n",
      "100%|██████████| 2/2 [00:00<00:00,  3.78it/s]\n",
      "100%|██████████| 2/2 [00:00<00:00,  3.78it/s]\n"
     ]
    },
    {
     "name": "stdout",
     "output_type": "stream",
     "text": [
      "sending off prediction to background worker for resampling and export\n",
      "done with Sample212\n",
      "\n",
      "Predicting Sample213:\n",
      "perform_everything_on_device: True\n"
     ]
    },
    {
     "name": "stderr",
     "output_type": "stream",
     "text": [
      "100%|██████████| 2/2 [00:00<00:00,  3.77it/s]\n",
      "100%|██████████| 2/2 [00:00<00:00,  3.78it/s]\n",
      "100%|██████████| 2/2 [00:00<00:00,  3.78it/s]\n",
      "100%|██████████| 2/2 [00:00<00:00,  3.78it/s]\n",
      "100%|██████████| 2/2 [00:00<00:00,  3.78it/s]\n"
     ]
    },
    {
     "name": "stdout",
     "output_type": "stream",
     "text": [
      "sending off prediction to background worker for resampling and export\n",
      "done with Sample213\n",
      "\n",
      "Predicting Sample214:\n",
      "perform_everything_on_device: True\n"
     ]
    },
    {
     "name": "stderr",
     "output_type": "stream",
     "text": [
      "100%|██████████| 2/2 [00:00<00:00,  3.78it/s]\n",
      "100%|██████████| 2/2 [00:00<00:00,  3.78it/s]\n",
      "100%|██████████| 2/2 [00:00<00:00,  3.78it/s]\n",
      "100%|██████████| 2/2 [00:00<00:00,  3.77it/s]\n",
      "100%|██████████| 2/2 [00:00<00:00,  3.78it/s]\n"
     ]
    },
    {
     "name": "stdout",
     "output_type": "stream",
     "text": [
      "sending off prediction to background worker for resampling and export\n",
      "done with Sample214\n",
      "\n",
      "Predicting Sample215:\n",
      "perform_everything_on_device: True\n"
     ]
    },
    {
     "name": "stderr",
     "output_type": "stream",
     "text": [
      "100%|██████████| 1/1 [00:00<00:00,  5.23it/s]\n",
      "100%|██████████| 1/1 [00:00<00:00,  5.25it/s]\n",
      "100%|██████████| 1/1 [00:00<00:00,  5.24it/s]\n",
      "100%|██████████| 1/1 [00:00<00:00,  5.24it/s]\n",
      "100%|██████████| 1/1 [00:00<00:00,  5.24it/s]\n"
     ]
    },
    {
     "name": "stdout",
     "output_type": "stream",
     "text": [
      "sending off prediction to background worker for resampling and export\n",
      "done with Sample215\n",
      "\n",
      "Predicting Sample22:\n",
      "perform_everything_on_device: True\n"
     ]
    },
    {
     "name": "stderr",
     "output_type": "stream",
     "text": [
      "100%|██████████| 1/1 [00:00<00:00,  5.23it/s]\n",
      "100%|██████████| 1/1 [00:00<00:00,  5.25it/s]\n",
      "100%|██████████| 1/1 [00:00<00:00,  5.25it/s]\n",
      "100%|██████████| 1/1 [00:00<00:00,  5.24it/s]\n",
      "100%|██████████| 1/1 [00:00<00:00,  5.22it/s]\n"
     ]
    },
    {
     "name": "stdout",
     "output_type": "stream",
     "text": [
      "sending off prediction to background worker for resampling and export\n",
      "done with Sample22\n",
      "\n",
      "Predicting Sample23:\n",
      "perform_everything_on_device: True\n"
     ]
    },
    {
     "name": "stderr",
     "output_type": "stream",
     "text": [
      "100%|██████████| 2/2 [00:00<00:00,  3.77it/s]\n",
      "100%|██████████| 2/2 [00:00<00:00,  3.78it/s]\n",
      "100%|██████████| 2/2 [00:00<00:00,  3.78it/s]\n",
      "100%|██████████| 2/2 [00:00<00:00,  3.78it/s]\n",
      "100%|██████████| 2/2 [00:00<00:00,  3.78it/s]\n"
     ]
    },
    {
     "name": "stdout",
     "output_type": "stream",
     "text": [
      "sending off prediction to background worker for resampling and export\n",
      "done with Sample23\n",
      "\n",
      "Predicting Sample24:\n",
      "perform_everything_on_device: True\n"
     ]
    },
    {
     "name": "stderr",
     "output_type": "stream",
     "text": [
      "100%|██████████| 2/2 [00:00<00:00,  3.78it/s]\n",
      "100%|██████████| 2/2 [00:00<00:00,  3.78it/s]\n",
      "100%|██████████| 2/2 [00:00<00:00,  3.78it/s]\n",
      "100%|██████████| 2/2 [00:00<00:00,  3.78it/s]\n",
      "100%|██████████| 2/2 [00:00<00:00,  3.78it/s]\n"
     ]
    },
    {
     "name": "stdout",
     "output_type": "stream",
     "text": [
      "sending off prediction to background worker for resampling and export\n",
      "done with Sample24\n",
      "\n",
      "Predicting Sample25:\n",
      "perform_everything_on_device: True\n"
     ]
    },
    {
     "name": "stderr",
     "output_type": "stream",
     "text": [
      "100%|██████████| 72/72 [00:24<00:00,  2.96it/s]\n",
      "100%|██████████| 72/72 [00:24<00:00,  2.96it/s]\n",
      "100%|██████████| 72/72 [00:24<00:00,  2.96it/s]\n",
      "100%|██████████| 72/72 [00:24<00:00,  2.96it/s]\n",
      "100%|██████████| 72/72 [00:24<00:00,  2.96it/s]\n"
     ]
    },
    {
     "name": "stdout",
     "output_type": "stream",
     "text": [
      "sending off prediction to background worker for resampling and export\n",
      "done with Sample25\n",
      "\n",
      "Predicting Sample26:\n",
      "perform_everything_on_device: True\n"
     ]
    },
    {
     "name": "stderr",
     "output_type": "stream",
     "text": [
      "100%|██████████| 8/8 [00:02<00:00,  3.12it/s]\n",
      "100%|██████████| 8/8 [00:02<00:00,  3.12it/s]\n",
      "100%|██████████| 8/8 [00:02<00:00,  3.12it/s]\n",
      "100%|██████████| 8/8 [00:02<00:00,  3.12it/s]\n",
      "100%|██████████| 8/8 [00:02<00:00,  3.12it/s]\n"
     ]
    },
    {
     "name": "stdout",
     "output_type": "stream",
     "text": [
      "sending off prediction to background worker for resampling and export\n",
      "done with Sample26\n",
      "\n",
      "Predicting Sample27:\n",
      "perform_everything_on_device: True\n"
     ]
    },
    {
     "name": "stderr",
     "output_type": "stream",
     "text": [
      "100%|██████████| 8/8 [00:02<00:00,  3.12it/s]\n",
      "100%|██████████| 8/8 [00:02<00:00,  3.12it/s]\n",
      "100%|██████████| 8/8 [00:02<00:00,  3.12it/s]\n",
      "100%|██████████| 8/8 [00:02<00:00,  3.12it/s]\n",
      "100%|██████████| 8/8 [00:02<00:00,  3.12it/s]\n"
     ]
    },
    {
     "name": "stdout",
     "output_type": "stream",
     "text": [
      "sending off prediction to background worker for resampling and export\n",
      "done with Sample27\n",
      "\n",
      "Predicting Sample28:\n",
      "perform_everything_on_device: True\n"
     ]
    },
    {
     "name": "stderr",
     "output_type": "stream",
     "text": [
      "100%|██████████| 2/2 [00:00<00:00,  3.78it/s]\n",
      "100%|██████████| 2/2 [00:00<00:00,  3.78it/s]\n",
      "100%|██████████| 2/2 [00:00<00:00,  3.78it/s]\n",
      "100%|██████████| 2/2 [00:00<00:00,  3.77it/s]\n",
      "100%|██████████| 2/2 [00:00<00:00,  3.78it/s]\n"
     ]
    },
    {
     "name": "stdout",
     "output_type": "stream",
     "text": [
      "sending off prediction to background worker for resampling and export\n",
      "done with Sample28\n",
      "\n",
      "Predicting Sample29:\n",
      "perform_everything_on_device: True\n"
     ]
    },
    {
     "name": "stderr",
     "output_type": "stream",
     "text": [
      "100%|██████████| 1/1 [00:00<00:00,  5.19it/s]\n",
      "100%|██████████| 1/1 [00:00<00:00,  5.22it/s]\n",
      "100%|██████████| 1/1 [00:00<00:00,  5.25it/s]\n",
      "100%|██████████| 1/1 [00:00<00:00,  5.25it/s]\n",
      "100%|██████████| 1/1 [00:00<00:00,  5.20it/s]\n"
     ]
    },
    {
     "name": "stdout",
     "output_type": "stream",
     "text": [
      "sending off prediction to background worker for resampling and export\n",
      "done with Sample29\n",
      "\n",
      "Predicting Sample3:\n",
      "perform_everything_on_device: True\n"
     ]
    },
    {
     "name": "stderr",
     "output_type": "stream",
     "text": [
      "100%|██████████| 54/54 [00:18<00:00,  2.97it/s]\n",
      "100%|██████████| 54/54 [00:18<00:00,  2.98it/s]\n",
      "100%|██████████| 54/54 [00:18<00:00,  2.97it/s]\n",
      "100%|██████████| 54/54 [00:18<00:00,  2.98it/s]\n",
      "100%|██████████| 54/54 [00:18<00:00,  2.97it/s]\n"
     ]
    },
    {
     "name": "stdout",
     "output_type": "stream",
     "text": [
      "sending off prediction to background worker for resampling and export\n",
      "done with Sample3\n",
      "\n",
      "Predicting Sample30:\n",
      "perform_everything_on_device: True\n"
     ]
    },
    {
     "name": "stderr",
     "output_type": "stream",
     "text": [
      "100%|██████████| 2/2 [00:00<00:00,  3.76it/s]\n",
      "100%|██████████| 2/2 [00:00<00:00,  3.78it/s]\n",
      "100%|██████████| 2/2 [00:00<00:00,  3.78it/s]\n",
      "100%|██████████| 2/2 [00:00<00:00,  3.78it/s]\n",
      "100%|██████████| 2/2 [00:00<00:00,  3.77it/s]\n"
     ]
    },
    {
     "name": "stdout",
     "output_type": "stream",
     "text": [
      "sending off prediction to background worker for resampling and export\n",
      "done with Sample30\n",
      "\n",
      "Predicting Sample31:\n",
      "perform_everything_on_device: True\n"
     ]
    },
    {
     "name": "stderr",
     "output_type": "stream",
     "text": [
      "100%|██████████| 1/1 [00:00<00:00,  5.22it/s]\n",
      "100%|██████████| 1/1 [00:00<00:00,  5.26it/s]\n",
      "100%|██████████| 1/1 [00:00<00:00,  5.25it/s]\n",
      "100%|██████████| 1/1 [00:00<00:00,  5.25it/s]\n",
      "100%|██████████| 1/1 [00:00<00:00,  5.25it/s]\n"
     ]
    },
    {
     "name": "stdout",
     "output_type": "stream",
     "text": [
      "sending off prediction to background worker for resampling and export\n",
      "done with Sample31\n",
      "\n",
      "Predicting Sample32:\n",
      "perform_everything_on_device: True\n"
     ]
    },
    {
     "name": "stderr",
     "output_type": "stream",
     "text": [
      "100%|██████████| 1/1 [00:00<00:00,  5.21it/s]\n",
      "100%|██████████| 1/1 [00:00<00:00,  5.21it/s]\n",
      "100%|██████████| 1/1 [00:00<00:00,  5.25it/s]\n",
      "100%|██████████| 1/1 [00:00<00:00,  5.24it/s]\n",
      "100%|██████████| 1/1 [00:00<00:00,  5.25it/s]\n"
     ]
    },
    {
     "name": "stdout",
     "output_type": "stream",
     "text": [
      "sending off prediction to background worker for resampling and export\n",
      "done with Sample32\n",
      "\n",
      "Predicting Sample33:\n",
      "perform_everything_on_device: True\n"
     ]
    },
    {
     "name": "stderr",
     "output_type": "stream",
     "text": [
      "100%|██████████| 1/1 [00:00<00:00,  5.20it/s]\n",
      "100%|██████████| 1/1 [00:00<00:00,  5.26it/s]\n",
      "100%|██████████| 1/1 [00:00<00:00,  5.25it/s]\n",
      "100%|██████████| 1/1 [00:00<00:00,  5.25it/s]\n",
      "100%|██████████| 1/1 [00:00<00:00,  5.25it/s]\n"
     ]
    },
    {
     "name": "stdout",
     "output_type": "stream",
     "text": [
      "sending off prediction to background worker for resampling and export\n",
      "done with Sample33\n",
      "\n",
      "Predicting Sample34:\n",
      "perform_everything_on_device: True\n"
     ]
    },
    {
     "name": "stderr",
     "output_type": "stream",
     "text": [
      "100%|██████████| 1/1 [00:00<00:00,  5.19it/s]\n",
      "100%|██████████| 1/1 [00:00<00:00,  5.26it/s]\n",
      "100%|██████████| 1/1 [00:00<00:00,  5.25it/s]\n",
      "100%|██████████| 1/1 [00:00<00:00,  5.25it/s]\n",
      "100%|██████████| 1/1 [00:00<00:00,  5.25it/s]\n"
     ]
    },
    {
     "name": "stdout",
     "output_type": "stream",
     "text": [
      "sending off prediction to background worker for resampling and export\n",
      "done with Sample34\n",
      "\n",
      "Predicting Sample35:\n",
      "perform_everything_on_device: True\n"
     ]
    },
    {
     "name": "stderr",
     "output_type": "stream",
     "text": [
      "100%|██████████| 1/1 [00:00<00:00,  5.21it/s]\n",
      "100%|██████████| 1/1 [00:00<00:00,  5.25it/s]\n",
      "100%|██████████| 1/1 [00:00<00:00,  5.25it/s]\n",
      "100%|██████████| 1/1 [00:00<00:00,  5.25it/s]\n",
      "100%|██████████| 1/1 [00:00<00:00,  5.25it/s]\n"
     ]
    },
    {
     "name": "stdout",
     "output_type": "stream",
     "text": [
      "sending off prediction to background worker for resampling and export\n",
      "done with Sample35\n",
      "\n",
      "Predicting Sample36:\n",
      "perform_everything_on_device: True\n"
     ]
    },
    {
     "name": "stderr",
     "output_type": "stream",
     "text": [
      "100%|██████████| 2/2 [00:00<00:00,  3.78it/s]\n",
      "100%|██████████| 2/2 [00:00<00:00,  3.78it/s]\n",
      "100%|██████████| 2/2 [00:00<00:00,  3.78it/s]\n",
      "100%|██████████| 2/2 [00:00<00:00,  3.78it/s]\n",
      "100%|██████████| 2/2 [00:00<00:00,  3.78it/s]\n"
     ]
    },
    {
     "name": "stdout",
     "output_type": "stream",
     "text": [
      "sending off prediction to background worker for resampling and export\n",
      "done with Sample36\n",
      "\n",
      "Predicting Sample37:\n",
      "perform_everything_on_device: True\n"
     ]
    },
    {
     "name": "stderr",
     "output_type": "stream",
     "text": [
      "100%|██████████| 2/2 [00:00<00:00,  3.77it/s]\n",
      "100%|██████████| 2/2 [00:00<00:00,  3.77it/s]\n",
      "100%|██████████| 2/2 [00:00<00:00,  3.78it/s]\n",
      "100%|██████████| 2/2 [00:00<00:00,  3.78it/s]\n",
      "100%|██████████| 2/2 [00:00<00:00,  3.77it/s]\n"
     ]
    },
    {
     "name": "stdout",
     "output_type": "stream",
     "text": [
      "sending off prediction to background worker for resampling and export\n",
      "done with Sample37\n",
      "\n",
      "Predicting Sample38:\n",
      "perform_everything_on_device: True\n"
     ]
    },
    {
     "name": "stderr",
     "output_type": "stream",
     "text": [
      "100%|██████████| 8/8 [00:02<00:00,  3.12it/s]\n",
      "100%|██████████| 8/8 [00:02<00:00,  3.12it/s]\n",
      "100%|██████████| 8/8 [00:02<00:00,  3.12it/s]\n",
      "100%|██████████| 8/8 [00:02<00:00,  3.12it/s]\n",
      "100%|██████████| 8/8 [00:02<00:00,  3.12it/s]\n"
     ]
    },
    {
     "name": "stdout",
     "output_type": "stream",
     "text": [
      "sending off prediction to background worker for resampling and export\n",
      "done with Sample38\n",
      "\n",
      "Predicting Sample39:\n",
      "perform_everything_on_device: True\n"
     ]
    },
    {
     "name": "stderr",
     "output_type": "stream",
     "text": [
      "100%|██████████| 8/8 [00:02<00:00,  3.12it/s]\n",
      "100%|██████████| 8/8 [00:02<00:00,  3.12it/s]\n",
      "100%|██████████| 8/8 [00:02<00:00,  3.12it/s]\n",
      "100%|██████████| 8/8 [00:02<00:00,  3.12it/s]\n",
      "100%|██████████| 8/8 [00:02<00:00,  3.12it/s]\n"
     ]
    },
    {
     "name": "stdout",
     "output_type": "stream",
     "text": [
      "sending off prediction to background worker for resampling and export\n",
      "done with Sample39\n",
      "\n",
      "Predicting Sample4:\n",
      "perform_everything_on_device: True\n"
     ]
    },
    {
     "name": "stderr",
     "output_type": "stream",
     "text": [
      "100%|██████████| 8/8 [00:02<00:00,  3.12it/s]\n",
      "100%|██████████| 8/8 [00:02<00:00,  3.12it/s]\n",
      "100%|██████████| 8/8 [00:02<00:00,  3.12it/s]\n",
      "100%|██████████| 8/8 [00:02<00:00,  3.12it/s]\n",
      "100%|██████████| 8/8 [00:02<00:00,  3.12it/s]\n"
     ]
    },
    {
     "name": "stdout",
     "output_type": "stream",
     "text": [
      "sending off prediction to background worker for resampling and export\n",
      "done with Sample4\n",
      "\n",
      "Predicting Sample40:\n",
      "perform_everything_on_device: True\n"
     ]
    },
    {
     "name": "stderr",
     "output_type": "stream",
     "text": [
      "100%|██████████| 36/36 [00:12<00:00,  2.99it/s]\n",
      "100%|██████████| 36/36 [00:12<00:00,  2.99it/s]\n",
      "100%|██████████| 36/36 [00:12<00:00,  2.99it/s]\n",
      "100%|██████████| 36/36 [00:12<00:00,  2.99it/s]\n",
      "100%|██████████| 36/36 [00:12<00:00,  2.99it/s]\n"
     ]
    },
    {
     "name": "stdout",
     "output_type": "stream",
     "text": [
      "sending off prediction to background worker for resampling and export\n",
      "done with Sample40\n",
      "\n",
      "Predicting Sample41:\n",
      "perform_everything_on_device: True\n"
     ]
    },
    {
     "name": "stderr",
     "output_type": "stream",
     "text": [
      "100%|██████████| 54/54 [00:18<00:00,  2.97it/s]\n",
      "100%|██████████| 54/54 [00:18<00:00,  2.97it/s]\n",
      "100%|██████████| 54/54 [00:18<00:00,  2.97it/s]\n",
      "100%|██████████| 54/54 [00:18<00:00,  2.97it/s]\n",
      "100%|██████████| 54/54 [00:18<00:00,  2.97it/s]\n"
     ]
    },
    {
     "name": "stdout",
     "output_type": "stream",
     "text": [
      "sending off prediction to background worker for resampling and export\n",
      "done with Sample41\n",
      "\n",
      "Predicting Sample42:\n",
      "perform_everything_on_device: True\n"
     ]
    },
    {
     "name": "stderr",
     "output_type": "stream",
     "text": [
      "100%|██████████| 2/2 [00:00<00:00,  3.77it/s]\n",
      "100%|██████████| 2/2 [00:00<00:00,  3.78it/s]\n",
      "100%|██████████| 2/2 [00:00<00:00,  3.77it/s]\n",
      "100%|██████████| 2/2 [00:00<00:00,  3.78it/s]\n",
      "100%|██████████| 2/2 [00:00<00:00,  3.78it/s]\n"
     ]
    },
    {
     "name": "stdout",
     "output_type": "stream",
     "text": [
      "sending off prediction to background worker for resampling and export\n",
      "done with Sample42\n",
      "\n",
      "Predicting Sample43:\n",
      "perform_everything_on_device: True\n"
     ]
    },
    {
     "name": "stderr",
     "output_type": "stream",
     "text": [
      "100%|██████████| 8/8 [00:02<00:00,  3.12it/s]\n",
      "100%|██████████| 8/8 [00:02<00:00,  3.12it/s]\n",
      "100%|██████████| 8/8 [00:02<00:00,  3.12it/s]\n",
      "100%|██████████| 8/8 [00:02<00:00,  3.12it/s]\n",
      "100%|██████████| 8/8 [00:02<00:00,  3.12it/s]\n"
     ]
    },
    {
     "name": "stdout",
     "output_type": "stream",
     "text": [
      "sending off prediction to background worker for resampling and export\n",
      "done with Sample43\n",
      "\n",
      "Predicting Sample44:\n",
      "perform_everything_on_device: True\n"
     ]
    },
    {
     "name": "stderr",
     "output_type": "stream",
     "text": [
      "100%|██████████| 8/8 [00:02<00:00,  3.12it/s]\n",
      "100%|██████████| 8/8 [00:02<00:00,  3.12it/s]\n",
      "100%|██████████| 8/8 [00:02<00:00,  3.12it/s]\n",
      "100%|██████████| 8/8 [00:02<00:00,  3.12it/s]\n",
      "100%|██████████| 8/8 [00:02<00:00,  3.12it/s]\n"
     ]
    },
    {
     "name": "stdout",
     "output_type": "stream",
     "text": [
      "sending off prediction to background worker for resampling and export\n",
      "done with Sample44\n",
      "\n",
      "Predicting Sample45:\n",
      "perform_everything_on_device: True\n"
     ]
    },
    {
     "name": "stderr",
     "output_type": "stream",
     "text": [
      "100%|██████████| 54/54 [00:18<00:00,  2.97it/s]\n",
      "100%|██████████| 54/54 [00:18<00:00,  2.97it/s]\n",
      "100%|██████████| 54/54 [00:18<00:00,  2.97it/s]\n",
      "100%|██████████| 54/54 [00:18<00:00,  2.97it/s]\n",
      "100%|██████████| 54/54 [00:18<00:00,  2.97it/s]\n"
     ]
    },
    {
     "name": "stdout",
     "output_type": "stream",
     "text": [
      "sending off prediction to background worker for resampling and export\n",
      "done with Sample45\n",
      "\n",
      "Predicting Sample46:\n",
      "perform_everything_on_device: True\n"
     ]
    },
    {
     "name": "stderr",
     "output_type": "stream",
     "text": [
      "100%|██████████| 8/8 [00:02<00:00,  3.12it/s]\n",
      "100%|██████████| 8/8 [00:02<00:00,  3.12it/s]\n",
      "100%|██████████| 8/8 [00:02<00:00,  3.12it/s]\n",
      "100%|██████████| 8/8 [00:02<00:00,  3.12it/s]\n",
      "100%|██████████| 8/8 [00:02<00:00,  3.12it/s]\n"
     ]
    },
    {
     "name": "stdout",
     "output_type": "stream",
     "text": [
      "sending off prediction to background worker for resampling and export\n",
      "done with Sample46\n",
      "\n",
      "Predicting Sample47:\n",
      "perform_everything_on_device: True\n"
     ]
    },
    {
     "name": "stderr",
     "output_type": "stream",
     "text": [
      "100%|██████████| 72/72 [00:24<00:00,  2.96it/s]\n",
      "100%|██████████| 72/72 [00:24<00:00,  2.96it/s]\n",
      "100%|██████████| 72/72 [00:24<00:00,  2.96it/s]\n",
      "100%|██████████| 72/72 [00:24<00:00,  2.96it/s]\n",
      "100%|██████████| 72/72 [00:24<00:00,  2.96it/s]\n"
     ]
    },
    {
     "name": "stdout",
     "output_type": "stream",
     "text": [
      "sending off prediction to background worker for resampling and export\n",
      "done with Sample47\n",
      "\n",
      "Predicting Sample48:\n",
      "perform_everything_on_device: True\n"
     ]
    },
    {
     "name": "stderr",
     "output_type": "stream",
     "text": [
      "100%|██████████| 54/54 [00:18<00:00,  2.97it/s]\n",
      "100%|██████████| 54/54 [00:18<00:00,  2.98it/s]\n",
      "100%|██████████| 54/54 [00:18<00:00,  2.98it/s]\n",
      "100%|██████████| 54/54 [00:18<00:00,  2.98it/s]\n",
      "100%|██████████| 54/54 [00:18<00:00,  2.98it/s]\n"
     ]
    },
    {
     "name": "stdout",
     "output_type": "stream",
     "text": [
      "sending off prediction to background worker for resampling and export\n",
      "done with Sample48\n",
      "\n",
      "Predicting Sample49:\n",
      "perform_everything_on_device: True\n"
     ]
    },
    {
     "name": "stderr",
     "output_type": "stream",
     "text": [
      "100%|██████████| 8/8 [00:02<00:00,  3.12it/s]\n",
      "100%|██████████| 8/8 [00:02<00:00,  3.12it/s]\n",
      "100%|██████████| 8/8 [00:02<00:00,  3.12it/s]\n",
      "100%|██████████| 8/8 [00:02<00:00,  3.12it/s]\n",
      "100%|██████████| 8/8 [00:02<00:00,  3.12it/s]\n"
     ]
    },
    {
     "name": "stdout",
     "output_type": "stream",
     "text": [
      "sending off prediction to background worker for resampling and export\n",
      "done with Sample49\n",
      "\n",
      "Predicting Sample5:\n",
      "perform_everything_on_device: True\n"
     ]
    },
    {
     "name": "stderr",
     "output_type": "stream",
     "text": [
      "100%|██████████| 8/8 [00:02<00:00,  3.12it/s]\n",
      "100%|██████████| 8/8 [00:02<00:00,  3.12it/s]\n",
      "100%|██████████| 8/8 [00:02<00:00,  3.12it/s]\n",
      "100%|██████████| 8/8 [00:02<00:00,  3.12it/s]\n",
      "100%|██████████| 8/8 [00:02<00:00,  3.12it/s]\n"
     ]
    },
    {
     "name": "stdout",
     "output_type": "stream",
     "text": [
      "sending off prediction to background worker for resampling and export\n",
      "done with Sample5\n",
      "\n",
      "Predicting Sample50:\n",
      "perform_everything_on_device: True\n"
     ]
    },
    {
     "name": "stderr",
     "output_type": "stream",
     "text": [
      "100%|██████████| 8/8 [00:02<00:00,  3.12it/s]\n",
      "100%|██████████| 8/8 [00:02<00:00,  3.12it/s]\n",
      "100%|██████████| 8/8 [00:02<00:00,  3.12it/s]\n",
      "100%|██████████| 8/8 [00:02<00:00,  3.12it/s]\n",
      "100%|██████████| 8/8 [00:02<00:00,  3.12it/s]\n"
     ]
    },
    {
     "name": "stdout",
     "output_type": "stream",
     "text": [
      "sending off prediction to background worker for resampling and export\n",
      "done with Sample50\n",
      "\n",
      "Predicting Sample51:\n",
      "perform_everything_on_device: True\n"
     ]
    },
    {
     "name": "stderr",
     "output_type": "stream",
     "text": [
      "100%|██████████| 1/1 [00:00<00:00,  5.24it/s]\n",
      "100%|██████████| 1/1 [00:00<00:00,  5.25it/s]\n",
      "100%|██████████| 1/1 [00:00<00:00,  5.21it/s]\n",
      "100%|██████████| 1/1 [00:00<00:00,  5.24it/s]\n",
      "100%|██████████| 1/1 [00:00<00:00,  5.23it/s]\n"
     ]
    },
    {
     "name": "stdout",
     "output_type": "stream",
     "text": [
      "sending off prediction to background worker for resampling and export\n",
      "done with Sample51\n",
      "\n",
      "Predicting Sample52:\n",
      "perform_everything_on_device: True\n"
     ]
    },
    {
     "name": "stderr",
     "output_type": "stream",
     "text": [
      "100%|██████████| 2/2 [00:00<00:00,  3.78it/s]\n",
      "100%|██████████| 2/2 [00:00<00:00,  3.78it/s]\n",
      "100%|██████████| 2/2 [00:00<00:00,  3.77it/s]\n",
      "100%|██████████| 2/2 [00:00<00:00,  3.78it/s]\n",
      "100%|██████████| 2/2 [00:00<00:00,  3.78it/s]\n"
     ]
    },
    {
     "name": "stdout",
     "output_type": "stream",
     "text": [
      "sending off prediction to background worker for resampling and export\n",
      "done with Sample52\n",
      "\n",
      "Predicting Sample53:\n",
      "perform_everything_on_device: True\n"
     ]
    },
    {
     "name": "stderr",
     "output_type": "stream",
     "text": [
      "100%|██████████| 81/81 [00:27<00:00,  2.96it/s]\n",
      "100%|██████████| 81/81 [00:27<00:00,  2.96it/s]\n",
      "100%|██████████| 81/81 [00:27<00:00,  2.96it/s]\n",
      "100%|██████████| 81/81 [00:27<00:00,  2.96it/s]\n",
      "100%|██████████| 81/81 [00:27<00:00,  2.96it/s]\n"
     ]
    },
    {
     "name": "stdout",
     "output_type": "stream",
     "text": [
      "sending off prediction to background worker for resampling and export\n",
      "done with Sample53\n",
      "\n",
      "Predicting Sample54:\n",
      "perform_everything_on_device: True\n"
     ]
    },
    {
     "name": "stderr",
     "output_type": "stream",
     "text": [
      "100%|██████████| 2/2 [00:00<00:00,  3.77it/s]\n",
      "100%|██████████| 2/2 [00:00<00:00,  3.78it/s]\n",
      "100%|██████████| 2/2 [00:00<00:00,  3.78it/s]\n",
      "100%|██████████| 2/2 [00:00<00:00,  3.78it/s]\n",
      "100%|██████████| 2/2 [00:00<00:00,  3.78it/s]\n"
     ]
    },
    {
     "name": "stdout",
     "output_type": "stream",
     "text": [
      "sending off prediction to background worker for resampling and export\n",
      "done with Sample54\n",
      "\n",
      "Predicting Sample55:\n",
      "perform_everything_on_device: True\n"
     ]
    },
    {
     "name": "stderr",
     "output_type": "stream",
     "text": [
      "100%|██████████| 54/54 [00:18<00:00,  2.97it/s]\n",
      "100%|██████████| 54/54 [00:18<00:00,  2.97it/s]\n",
      "100%|██████████| 54/54 [00:18<00:00,  2.97it/s]\n",
      "100%|██████████| 54/54 [00:18<00:00,  2.97it/s]\n",
      "100%|██████████| 54/54 [00:18<00:00,  2.97it/s]\n"
     ]
    },
    {
     "name": "stdout",
     "output_type": "stream",
     "text": [
      "sending off prediction to background worker for resampling and export\n",
      "done with Sample55\n",
      "\n",
      "Predicting Sample56:\n",
      "perform_everything_on_device: True\n"
     ]
    },
    {
     "name": "stderr",
     "output_type": "stream",
     "text": [
      "100%|██████████| 2/2 [00:00<00:00,  3.77it/s]\n",
      "100%|██████████| 2/2 [00:00<00:00,  3.78it/s]\n",
      "100%|██████████| 2/2 [00:00<00:00,  3.78it/s]\n",
      "100%|██████████| 2/2 [00:00<00:00,  3.78it/s]\n",
      "100%|██████████| 2/2 [00:00<00:00,  3.78it/s]\n"
     ]
    },
    {
     "name": "stdout",
     "output_type": "stream",
     "text": [
      "sending off prediction to background worker for resampling and export\n",
      "done with Sample56\n",
      "\n",
      "Predicting Sample57:\n",
      "perform_everything_on_device: True\n"
     ]
    },
    {
     "name": "stderr",
     "output_type": "stream",
     "text": [
      "100%|██████████| 45/45 [00:15<00:00,  2.98it/s]\n",
      "100%|██████████| 45/45 [00:15<00:00,  2.98it/s]\n",
      "100%|██████████| 45/45 [00:15<00:00,  2.98it/s]\n",
      "100%|██████████| 45/45 [00:15<00:00,  2.98it/s]\n",
      "100%|██████████| 45/45 [00:15<00:00,  2.98it/s]\n"
     ]
    },
    {
     "name": "stdout",
     "output_type": "stream",
     "text": [
      "sending off prediction to background worker for resampling and export\n",
      "done with Sample57\n",
      "\n",
      "Predicting Sample58:\n",
      "perform_everything_on_device: True\n"
     ]
    },
    {
     "name": "stderr",
     "output_type": "stream",
     "text": [
      "100%|██████████| 2/2 [00:00<00:00,  3.77it/s]\n",
      "100%|██████████| 2/2 [00:00<00:00,  3.77it/s]\n",
      "100%|██████████| 2/2 [00:00<00:00,  3.78it/s]\n",
      "100%|██████████| 2/2 [00:00<00:00,  3.78it/s]\n",
      "100%|██████████| 2/2 [00:00<00:00,  3.78it/s]\n"
     ]
    },
    {
     "name": "stdout",
     "output_type": "stream",
     "text": [
      "sending off prediction to background worker for resampling and export\n",
      "done with Sample58\n",
      "\n",
      "Predicting Sample59:\n",
      "perform_everything_on_device: True\n"
     ]
    },
    {
     "name": "stderr",
     "output_type": "stream",
     "text": [
      "100%|██████████| 2/2 [00:00<00:00,  3.77it/s]\n",
      "100%|██████████| 2/2 [00:00<00:00,  3.78it/s]\n",
      "100%|██████████| 2/2 [00:00<00:00,  3.77it/s]\n",
      "100%|██████████| 2/2 [00:00<00:00,  3.78it/s]\n",
      "100%|██████████| 2/2 [00:00<00:00,  3.78it/s]\n"
     ]
    },
    {
     "name": "stdout",
     "output_type": "stream",
     "text": [
      "sending off prediction to background worker for resampling and export\n",
      "done with Sample59\n",
      "\n",
      "Predicting Sample6:\n",
      "perform_everything_on_device: True\n"
     ]
    },
    {
     "name": "stderr",
     "output_type": "stream",
     "text": [
      "100%|██████████| 8/8 [00:02<00:00,  3.12it/s]\n",
      "100%|██████████| 8/8 [00:02<00:00,  3.12it/s]\n",
      "100%|██████████| 8/8 [00:02<00:00,  3.12it/s]\n",
      "100%|██████████| 8/8 [00:02<00:00,  3.12it/s]\n",
      "100%|██████████| 8/8 [00:02<00:00,  3.12it/s]\n"
     ]
    },
    {
     "name": "stdout",
     "output_type": "stream",
     "text": [
      "sending off prediction to background worker for resampling and export\n",
      "done with Sample6\n",
      "\n",
      "Predicting Sample60:\n",
      "perform_everything_on_device: True\n"
     ]
    },
    {
     "name": "stderr",
     "output_type": "stream",
     "text": [
      "100%|██████████| 2/2 [00:00<00:00,  3.77it/s]\n",
      "100%|██████████| 2/2 [00:00<00:00,  3.78it/s]\n",
      "100%|██████████| 2/2 [00:00<00:00,  3.78it/s]\n",
      "100%|██████████| 2/2 [00:00<00:00,  3.78it/s]\n",
      "100%|██████████| 2/2 [00:00<00:00,  3.78it/s]\n"
     ]
    },
    {
     "name": "stdout",
     "output_type": "stream",
     "text": [
      "sending off prediction to background worker for resampling and export\n",
      "done with Sample60\n",
      "\n",
      "Predicting Sample61:\n",
      "perform_everything_on_device: True\n"
     ]
    },
    {
     "name": "stderr",
     "output_type": "stream",
     "text": [
      "100%|██████████| 8/8 [00:02<00:00,  3.12it/s]\n",
      "100%|██████████| 8/8 [00:02<00:00,  3.12it/s]\n",
      "100%|██████████| 8/8 [00:02<00:00,  3.12it/s]\n",
      "100%|██████████| 8/8 [00:02<00:00,  3.12it/s]\n",
      "100%|██████████| 8/8 [00:02<00:00,  3.12it/s]\n"
     ]
    },
    {
     "name": "stdout",
     "output_type": "stream",
     "text": [
      "sending off prediction to background worker for resampling and export\n",
      "done with Sample61\n",
      "\n",
      "Predicting Sample62:\n",
      "perform_everything_on_device: True\n"
     ]
    },
    {
     "name": "stderr",
     "output_type": "stream",
     "text": [
      "100%|██████████| 72/72 [00:24<00:00,  2.96it/s]\n",
      "100%|██████████| 72/72 [00:24<00:00,  2.96it/s]\n",
      "100%|██████████| 72/72 [00:24<00:00,  2.96it/s]\n",
      "100%|██████████| 72/72 [00:24<00:00,  2.96it/s]\n",
      "100%|██████████| 72/72 [00:24<00:00,  2.96it/s]\n"
     ]
    },
    {
     "name": "stdout",
     "output_type": "stream",
     "text": [
      "sending off prediction to background worker for resampling and export\n",
      "done with Sample62\n",
      "\n",
      "Predicting Sample63:\n",
      "perform_everything_on_device: True\n"
     ]
    },
    {
     "name": "stderr",
     "output_type": "stream",
     "text": [
      "100%|██████████| 8/8 [00:02<00:00,  3.12it/s]\n",
      "100%|██████████| 8/8 [00:02<00:00,  3.12it/s]\n",
      "100%|██████████| 8/8 [00:02<00:00,  3.12it/s]\n",
      "100%|██████████| 8/8 [00:02<00:00,  3.12it/s]\n",
      "100%|██████████| 8/8 [00:02<00:00,  3.12it/s]\n"
     ]
    },
    {
     "name": "stdout",
     "output_type": "stream",
     "text": [
      "sending off prediction to background worker for resampling and export\n",
      "done with Sample63\n",
      "\n",
      "Predicting Sample64:\n",
      "perform_everything_on_device: True\n"
     ]
    },
    {
     "name": "stderr",
     "output_type": "stream",
     "text": [
      "100%|██████████| 8/8 [00:02<00:00,  3.12it/s]\n",
      "100%|██████████| 8/8 [00:02<00:00,  3.12it/s]\n",
      "100%|██████████| 8/8 [00:02<00:00,  3.12it/s]\n",
      "100%|██████████| 8/8 [00:02<00:00,  3.12it/s]\n",
      "100%|██████████| 8/8 [00:02<00:00,  3.12it/s]\n"
     ]
    },
    {
     "name": "stdout",
     "output_type": "stream",
     "text": [
      "sending off prediction to background worker for resampling and export\n",
      "done with Sample64\n",
      "\n",
      "Predicting Sample65:\n",
      "perform_everything_on_device: True\n"
     ]
    },
    {
     "name": "stderr",
     "output_type": "stream",
     "text": [
      "100%|██████████| 45/45 [00:15<00:00,  2.98it/s]\n",
      "100%|██████████| 45/45 [00:15<00:00,  2.98it/s]\n",
      "100%|██████████| 45/45 [00:15<00:00,  2.98it/s]\n",
      "100%|██████████| 45/45 [00:15<00:00,  2.98it/s]\n",
      "100%|██████████| 45/45 [00:15<00:00,  2.98it/s]\n"
     ]
    },
    {
     "name": "stdout",
     "output_type": "stream",
     "text": [
      "sending off prediction to background worker for resampling and export\n",
      "done with Sample65\n",
      "\n",
      "Predicting Sample66:\n",
      "perform_everything_on_device: True\n"
     ]
    },
    {
     "name": "stderr",
     "output_type": "stream",
     "text": [
      "100%|██████████| 1/1 [00:00<00:00,  5.22it/s]\n",
      "100%|██████████| 1/1 [00:00<00:00,  5.24it/s]\n",
      "100%|██████████| 1/1 [00:00<00:00,  5.04it/s]\n",
      "100%|██████████| 1/1 [00:00<00:00,  5.26it/s]\n",
      "100%|██████████| 1/1 [00:00<00:00,  5.25it/s]\n"
     ]
    },
    {
     "name": "stdout",
     "output_type": "stream",
     "text": [
      "sending off prediction to background worker for resampling and export\n",
      "done with Sample66\n",
      "\n",
      "Predicting Sample67:\n",
      "perform_everything_on_device: True\n"
     ]
    },
    {
     "name": "stderr",
     "output_type": "stream",
     "text": [
      "100%|██████████| 1/1 [00:00<00:00,  5.24it/s]\n",
      "100%|██████████| 1/1 [00:00<00:00,  5.25it/s]\n",
      "100%|██████████| 1/1 [00:00<00:00,  5.25it/s]\n",
      "100%|██████████| 1/1 [00:00<00:00,  5.25it/s]\n",
      "100%|██████████| 1/1 [00:00<00:00,  5.25it/s]\n"
     ]
    },
    {
     "name": "stdout",
     "output_type": "stream",
     "text": [
      "sending off prediction to background worker for resampling and export\n",
      "done with Sample67\n",
      "\n",
      "Predicting Sample68:\n",
      "perform_everything_on_device: True\n"
     ]
    },
    {
     "name": "stderr",
     "output_type": "stream",
     "text": [
      "100%|██████████| 2/2 [00:00<00:00,  3.78it/s]\n",
      "100%|██████████| 2/2 [00:00<00:00,  3.78it/s]\n",
      "100%|██████████| 2/2 [00:00<00:00,  3.78it/s]\n",
      "100%|██████████| 2/2 [00:00<00:00,  3.78it/s]\n",
      "100%|██████████| 2/2 [00:00<00:00,  3.78it/s]\n"
     ]
    },
    {
     "name": "stdout",
     "output_type": "stream",
     "text": [
      "sending off prediction to background worker for resampling and export\n",
      "done with Sample68\n",
      "\n",
      "Predicting Sample69:\n",
      "perform_everything_on_device: True\n"
     ]
    },
    {
     "name": "stderr",
     "output_type": "stream",
     "text": [
      "100%|██████████| 2/2 [00:00<00:00,  3.77it/s]\n",
      "100%|██████████| 2/2 [00:00<00:00,  3.78it/s]\n",
      "100%|██████████| 2/2 [00:00<00:00,  3.78it/s]\n",
      "100%|██████████| 2/2 [00:00<00:00,  3.78it/s]\n",
      "100%|██████████| 2/2 [00:00<00:00,  3.78it/s]\n"
     ]
    },
    {
     "name": "stdout",
     "output_type": "stream",
     "text": [
      "sending off prediction to background worker for resampling and export\n",
      "done with Sample69\n",
      "\n",
      "Predicting Sample7:\n",
      "perform_everything_on_device: True\n"
     ]
    },
    {
     "name": "stderr",
     "output_type": "stream",
     "text": [
      "100%|██████████| 1/1 [00:00<00:00,  5.24it/s]\n",
      "100%|██████████| 1/1 [00:00<00:00,  5.26it/s]\n",
      "100%|██████████| 1/1 [00:00<00:00,  5.25it/s]\n",
      "100%|██████████| 1/1 [00:00<00:00,  5.25it/s]\n",
      "100%|██████████| 1/1 [00:00<00:00,  5.24it/s]\n"
     ]
    },
    {
     "name": "stdout",
     "output_type": "stream",
     "text": [
      "sending off prediction to background worker for resampling and export\n",
      "done with Sample7\n",
      "\n",
      "Predicting Sample70:\n",
      "perform_everything_on_device: True\n"
     ]
    },
    {
     "name": "stderr",
     "output_type": "stream",
     "text": [
      "100%|██████████| 8/8 [00:02<00:00,  3.12it/s]\n",
      "100%|██████████| 8/8 [00:02<00:00,  3.12it/s]\n",
      "100%|██████████| 8/8 [00:02<00:00,  3.12it/s]\n",
      "100%|██████████| 8/8 [00:02<00:00,  3.12it/s]\n",
      "100%|██████████| 8/8 [00:02<00:00,  3.12it/s]\n"
     ]
    },
    {
     "name": "stdout",
     "output_type": "stream",
     "text": [
      "sending off prediction to background worker for resampling and export\n",
      "done with Sample70\n",
      "\n",
      "Predicting Sample71:\n",
      "perform_everything_on_device: True\n"
     ]
    },
    {
     "name": "stderr",
     "output_type": "stream",
     "text": [
      "100%|██████████| 20/20 [00:06<00:00,  3.02it/s]\n",
      "100%|██████████| 20/20 [00:06<00:00,  3.02it/s]\n",
      "100%|██████████| 20/20 [00:06<00:00,  3.02it/s]\n",
      "100%|██████████| 20/20 [00:06<00:00,  3.02it/s]\n",
      "100%|██████████| 20/20 [00:06<00:00,  3.02it/s]\n"
     ]
    },
    {
     "name": "stdout",
     "output_type": "stream",
     "text": [
      "sending off prediction to background worker for resampling and export\n",
      "done with Sample71\n",
      "\n",
      "Predicting Sample72:\n",
      "perform_everything_on_device: True\n"
     ]
    },
    {
     "name": "stderr",
     "output_type": "stream",
     "text": [
      "100%|██████████| 8/8 [00:02<00:00,  3.12it/s]\n",
      "100%|██████████| 8/8 [00:02<00:00,  3.12it/s]\n",
      "100%|██████████| 8/8 [00:02<00:00,  3.12it/s]\n",
      "100%|██████████| 8/8 [00:02<00:00,  3.12it/s]\n",
      "100%|██████████| 8/8 [00:02<00:00,  3.12it/s]\n"
     ]
    },
    {
     "name": "stdout",
     "output_type": "stream",
     "text": [
      "sending off prediction to background worker for resampling and export\n",
      "done with Sample72\n",
      "\n",
      "Predicting Sample73:\n",
      "perform_everything_on_device: True\n"
     ]
    },
    {
     "name": "stderr",
     "output_type": "stream",
     "text": [
      "100%|██████████| 4/4 [00:01<00:00,  3.31it/s]\n",
      "100%|██████████| 4/4 [00:01<00:00,  3.31it/s]\n",
      "100%|██████████| 4/4 [00:01<00:00,  3.31it/s]\n",
      "100%|██████████| 4/4 [00:01<00:00,  3.31it/s]\n",
      "100%|██████████| 4/4 [00:01<00:00,  3.32it/s]\n"
     ]
    },
    {
     "name": "stdout",
     "output_type": "stream",
     "text": [
      "sending off prediction to background worker for resampling and export\n",
      "done with Sample73\n",
      "\n",
      "Predicting Sample74:\n",
      "perform_everything_on_device: True\n"
     ]
    },
    {
     "name": "stderr",
     "output_type": "stream",
     "text": [
      "100%|██████████| 1/1 [00:00<00:00,  5.21it/s]\n",
      "100%|██████████| 1/1 [00:00<00:00,  5.25it/s]\n",
      "100%|██████████| 1/1 [00:00<00:00,  5.25it/s]\n",
      "100%|██████████| 1/1 [00:00<00:00,  5.25it/s]\n",
      "100%|██████████| 1/1 [00:00<00:00,  5.25it/s]\n"
     ]
    },
    {
     "name": "stdout",
     "output_type": "stream",
     "text": [
      "sending off prediction to background worker for resampling and export\n",
      "done with Sample74\n",
      "\n",
      "Predicting Sample75:\n",
      "perform_everything_on_device: True\n"
     ]
    },
    {
     "name": "stderr",
     "output_type": "stream",
     "text": [
      "100%|██████████| 8/8 [00:02<00:00,  3.12it/s]\n",
      "100%|██████████| 8/8 [00:02<00:00,  3.12it/s]\n",
      "100%|██████████| 8/8 [00:02<00:00,  3.12it/s]\n",
      "100%|██████████| 8/8 [00:02<00:00,  3.12it/s]\n",
      "100%|██████████| 8/8 [00:02<00:00,  3.12it/s]\n"
     ]
    },
    {
     "name": "stdout",
     "output_type": "stream",
     "text": [
      "sending off prediction to background worker for resampling and export\n",
      "done with Sample75\n",
      "\n",
      "Predicting Sample76:\n",
      "perform_everything_on_device: True\n"
     ]
    },
    {
     "name": "stderr",
     "output_type": "stream",
     "text": [
      "100%|██████████| 81/81 [00:27<00:00,  2.96it/s]\n",
      "100%|██████████| 81/81 [00:27<00:00,  2.96it/s]\n",
      "100%|██████████| 81/81 [00:27<00:00,  2.96it/s]\n",
      "100%|██████████| 81/81 [00:27<00:00,  2.96it/s]\n",
      "100%|██████████| 81/81 [00:27<00:00,  2.96it/s]\n"
     ]
    },
    {
     "name": "stdout",
     "output_type": "stream",
     "text": [
      "sending off prediction to background worker for resampling and export\n",
      "done with Sample76\n",
      "\n",
      "Predicting Sample77:\n",
      "perform_everything_on_device: True\n"
     ]
    },
    {
     "name": "stderr",
     "output_type": "stream",
     "text": [
      "100%|██████████| 1/1 [00:00<00:00,  5.19it/s]\n",
      "100%|██████████| 1/1 [00:00<00:00,  5.23it/s]\n",
      "100%|██████████| 1/1 [00:00<00:00,  5.21it/s]\n",
      "100%|██████████| 1/1 [00:00<00:00,  5.23it/s]\n",
      "100%|██████████| 1/1 [00:00<00:00,  5.23it/s]\n"
     ]
    },
    {
     "name": "stdout",
     "output_type": "stream",
     "text": [
      "sending off prediction to background worker for resampling and export\n",
      "done with Sample77\n",
      "\n",
      "Predicting Sample78:\n",
      "perform_everything_on_device: True\n"
     ]
    },
    {
     "name": "stderr",
     "output_type": "stream",
     "text": [
      "100%|██████████| 2/2 [00:00<00:00,  3.78it/s]\n",
      "100%|██████████| 2/2 [00:00<00:00,  3.78it/s]\n",
      "100%|██████████| 2/2 [00:00<00:00,  3.77it/s]\n",
      "100%|██████████| 2/2 [00:00<00:00,  3.77it/s]\n",
      "100%|██████████| 2/2 [00:00<00:00,  3.78it/s]\n"
     ]
    },
    {
     "name": "stdout",
     "output_type": "stream",
     "text": [
      "sending off prediction to background worker for resampling and export\n",
      "done with Sample78\n",
      "\n",
      "Predicting Sample79:\n",
      "perform_everything_on_device: True\n"
     ]
    },
    {
     "name": "stderr",
     "output_type": "stream",
     "text": [
      "100%|██████████| 2/2 [00:00<00:00,  3.63it/s]\n",
      "100%|██████████| 2/2 [00:00<00:00,  3.78it/s]\n",
      "100%|██████████| 2/2 [00:00<00:00,  3.78it/s]\n",
      "100%|██████████| 2/2 [00:00<00:00,  3.78it/s]\n",
      "100%|██████████| 2/2 [00:00<00:00,  3.78it/s]\n"
     ]
    },
    {
     "name": "stdout",
     "output_type": "stream",
     "text": [
      "sending off prediction to background worker for resampling and export\n",
      "done with Sample79\n",
      "\n",
      "Predicting Sample8:\n",
      "perform_everything_on_device: True\n"
     ]
    },
    {
     "name": "stderr",
     "output_type": "stream",
     "text": [
      "100%|██████████| 8/8 [00:02<00:00,  3.12it/s]\n",
      "100%|██████████| 8/8 [00:02<00:00,  3.12it/s]\n",
      "100%|██████████| 8/8 [00:02<00:00,  3.12it/s]\n",
      "100%|██████████| 8/8 [00:02<00:00,  3.12it/s]\n",
      "100%|██████████| 8/8 [00:02<00:00,  3.12it/s]\n"
     ]
    },
    {
     "name": "stdout",
     "output_type": "stream",
     "text": [
      "sending off prediction to background worker for resampling and export\n",
      "done with Sample8\n",
      "\n",
      "Predicting Sample80:\n",
      "perform_everything_on_device: True\n"
     ]
    },
    {
     "name": "stderr",
     "output_type": "stream",
     "text": [
      "100%|██████████| 128/128 [00:43<00:00,  2.95it/s]\n",
      "100%|██████████| 128/128 [00:43<00:00,  2.95it/s]\n",
      "100%|██████████| 128/128 [00:43<00:00,  2.95it/s]\n",
      "100%|██████████| 128/128 [00:43<00:00,  2.95it/s]\n",
      "100%|██████████| 128/128 [00:43<00:00,  2.95it/s]\n"
     ]
    },
    {
     "name": "stdout",
     "output_type": "stream",
     "text": [
      "sending off prediction to background worker for resampling and export\n",
      "done with Sample80\n",
      "\n",
      "Predicting Sample81:\n",
      "perform_everything_on_device: True\n"
     ]
    },
    {
     "name": "stderr",
     "output_type": "stream",
     "text": [
      "100%|██████████| 8/8 [00:02<00:00,  3.12it/s]\n",
      "100%|██████████| 8/8 [00:02<00:00,  3.12it/s]\n",
      "100%|██████████| 8/8 [00:02<00:00,  3.12it/s]\n",
      "100%|██████████| 8/8 [00:02<00:00,  3.12it/s]\n",
      "100%|██████████| 8/8 [00:02<00:00,  3.12it/s]\n"
     ]
    },
    {
     "name": "stdout",
     "output_type": "stream",
     "text": [
      "sending off prediction to background worker for resampling and export\n",
      "done with Sample81\n",
      "\n",
      "Predicting Sample82:\n",
      "perform_everything_on_device: True\n"
     ]
    },
    {
     "name": "stderr",
     "output_type": "stream",
     "text": [
      "100%|██████████| 2/2 [00:00<00:00,  3.78it/s]\n",
      "100%|██████████| 2/2 [00:00<00:00,  3.78it/s]\n",
      "100%|██████████| 2/2 [00:00<00:00,  3.77it/s]\n",
      "100%|██████████| 2/2 [00:00<00:00,  3.78it/s]\n",
      "100%|██████████| 2/2 [00:00<00:00,  3.78it/s]\n"
     ]
    },
    {
     "name": "stdout",
     "output_type": "stream",
     "text": [
      "sending off prediction to background worker for resampling and export\n",
      "done with Sample82\n",
      "\n",
      "Predicting Sample83:\n",
      "perform_everything_on_device: True\n"
     ]
    },
    {
     "name": "stderr",
     "output_type": "stream",
     "text": [
      "100%|██████████| 2/2 [00:00<00:00,  3.78it/s]\n",
      "100%|██████████| 2/2 [00:00<00:00,  3.78it/s]\n",
      "100%|██████████| 2/2 [00:00<00:00,  3.78it/s]\n",
      "100%|██████████| 2/2 [00:00<00:00,  3.78it/s]\n",
      "100%|██████████| 2/2 [00:00<00:00,  3.78it/s]\n"
     ]
    },
    {
     "name": "stdout",
     "output_type": "stream",
     "text": [
      "sending off prediction to background worker for resampling and export\n",
      "done with Sample83\n",
      "\n",
      "Predicting Sample84:\n",
      "perform_everything_on_device: True\n"
     ]
    },
    {
     "name": "stderr",
     "output_type": "stream",
     "text": [
      "100%|██████████| 2/2 [00:00<00:00,  3.78it/s]\n",
      "100%|██████████| 2/2 [00:00<00:00,  3.78it/s]\n",
      "100%|██████████| 2/2 [00:00<00:00,  3.78it/s]\n",
      "100%|██████████| 2/2 [00:00<00:00,  3.78it/s]\n",
      "100%|██████████| 2/2 [00:00<00:00,  3.78it/s]\n"
     ]
    },
    {
     "name": "stdout",
     "output_type": "stream",
     "text": [
      "sending off prediction to background worker for resampling and export\n",
      "done with Sample84\n",
      "\n",
      "Predicting Sample85:\n",
      "perform_everything_on_device: True\n"
     ]
    },
    {
     "name": "stderr",
     "output_type": "stream",
     "text": [
      "100%|██████████| 2/2 [00:00<00:00,  3.77it/s]\n",
      "100%|██████████| 2/2 [00:00<00:00,  3.78it/s]\n",
      "100%|██████████| 2/2 [00:00<00:00,  3.78it/s]\n",
      "100%|██████████| 2/2 [00:00<00:00,  3.78it/s]\n",
      "100%|██████████| 2/2 [00:00<00:00,  3.78it/s]\n"
     ]
    },
    {
     "name": "stdout",
     "output_type": "stream",
     "text": [
      "sending off prediction to background worker for resampling and export\n",
      "done with Sample85\n",
      "\n",
      "Predicting Sample86:\n",
      "perform_everything_on_device: True\n"
     ]
    },
    {
     "name": "stderr",
     "output_type": "stream",
     "text": [
      "100%|██████████| 8/8 [00:02<00:00,  3.12it/s]\n",
      "100%|██████████| 8/8 [00:02<00:00,  3.12it/s]\n",
      "100%|██████████| 8/8 [00:02<00:00,  3.12it/s]\n",
      "100%|██████████| 8/8 [00:02<00:00,  3.12it/s]\n",
      "100%|██████████| 8/8 [00:02<00:00,  3.12it/s]\n"
     ]
    },
    {
     "name": "stdout",
     "output_type": "stream",
     "text": [
      "sending off prediction to background worker for resampling and export\n",
      "done with Sample86\n",
      "\n",
      "Predicting Sample87:\n",
      "perform_everything_on_device: True\n"
     ]
    },
    {
     "name": "stderr",
     "output_type": "stream",
     "text": [
      "100%|██████████| 72/72 [00:24<00:00,  2.96it/s]\n",
      "100%|██████████| 72/72 [00:24<00:00,  2.96it/s]\n",
      "100%|██████████| 72/72 [00:24<00:00,  2.96it/s]\n",
      "100%|██████████| 72/72 [00:24<00:00,  2.96it/s]\n",
      "100%|██████████| 72/72 [00:24<00:00,  2.96it/s]\n"
     ]
    },
    {
     "name": "stdout",
     "output_type": "stream",
     "text": [
      "sending off prediction to background worker for resampling and export\n",
      "done with Sample87\n",
      "\n",
      "Predicting Sample88:\n",
      "perform_everything_on_device: True\n"
     ]
    },
    {
     "name": "stderr",
     "output_type": "stream",
     "text": [
      "100%|██████████| 2/2 [00:00<00:00,  3.77it/s]\n",
      "100%|██████████| 2/2 [00:00<00:00,  3.78it/s]\n",
      "100%|██████████| 2/2 [00:00<00:00,  3.78it/s]\n",
      "100%|██████████| 2/2 [00:00<00:00,  3.77it/s]\n",
      "100%|██████████| 2/2 [00:00<00:00,  3.78it/s]\n"
     ]
    },
    {
     "name": "stdout",
     "output_type": "stream",
     "text": [
      "sending off prediction to background worker for resampling and export\n",
      "done with Sample88\n",
      "\n",
      "Predicting Sample89:\n",
      "perform_everything_on_device: True\n"
     ]
    },
    {
     "name": "stderr",
     "output_type": "stream",
     "text": [
      "100%|██████████| 1/1 [00:00<00:00,  5.22it/s]\n",
      "100%|██████████| 1/1 [00:00<00:00,  5.21it/s]\n",
      "100%|██████████| 1/1 [00:00<00:00,  5.26it/s]\n",
      "100%|██████████| 1/1 [00:00<00:00,  5.24it/s]\n",
      "100%|██████████| 1/1 [00:00<00:00,  5.24it/s]\n"
     ]
    },
    {
     "name": "stdout",
     "output_type": "stream",
     "text": [
      "sending off prediction to background worker for resampling and export\n",
      "done with Sample89\n",
      "\n",
      "Predicting Sample9:\n",
      "perform_everything_on_device: True\n"
     ]
    },
    {
     "name": "stderr",
     "output_type": "stream",
     "text": [
      "100%|██████████| 8/8 [00:02<00:00,  3.12it/s]\n",
      "100%|██████████| 8/8 [00:02<00:00,  3.12it/s]\n",
      "100%|██████████| 8/8 [00:02<00:00,  3.12it/s]\n",
      "100%|██████████| 8/8 [00:02<00:00,  3.12it/s]\n",
      "100%|██████████| 8/8 [00:02<00:00,  3.12it/s]\n"
     ]
    },
    {
     "name": "stdout",
     "output_type": "stream",
     "text": [
      "sending off prediction to background worker for resampling and export\n",
      "done with Sample9\n",
      "\n",
      "Predicting Sample90:\n",
      "perform_everything_on_device: True\n"
     ]
    },
    {
     "name": "stderr",
     "output_type": "stream",
     "text": [
      "100%|██████████| 8/8 [00:02<00:00,  3.12it/s]\n",
      "100%|██████████| 8/8 [00:02<00:00,  3.12it/s]\n",
      "100%|██████████| 8/8 [00:02<00:00,  3.12it/s]\n",
      "100%|██████████| 8/8 [00:02<00:00,  3.12it/s]\n",
      "100%|██████████| 8/8 [00:02<00:00,  3.12it/s]\n"
     ]
    },
    {
     "name": "stdout",
     "output_type": "stream",
     "text": [
      "sending off prediction to background worker for resampling and export\n",
      "done with Sample90\n",
      "\n",
      "Predicting Sample91:\n",
      "perform_everything_on_device: True\n"
     ]
    },
    {
     "name": "stderr",
     "output_type": "stream",
     "text": [
      "100%|██████████| 8/8 [00:02<00:00,  3.12it/s]\n",
      "100%|██████████| 8/8 [00:02<00:00,  3.12it/s]\n",
      "100%|██████████| 8/8 [00:02<00:00,  3.12it/s]\n",
      "100%|██████████| 8/8 [00:02<00:00,  3.12it/s]\n",
      "100%|██████████| 8/8 [00:02<00:00,  3.12it/s]\n"
     ]
    },
    {
     "name": "stdout",
     "output_type": "stream",
     "text": [
      "sending off prediction to background worker for resampling and export\n",
      "done with Sample91\n",
      "\n",
      "Predicting Sample92:\n",
      "perform_everything_on_device: True\n"
     ]
    },
    {
     "name": "stderr",
     "output_type": "stream",
     "text": [
      "100%|██████████| 54/54 [00:18<00:00,  2.97it/s]\n",
      "100%|██████████| 54/54 [00:18<00:00,  2.98it/s]\n",
      "100%|██████████| 54/54 [00:18<00:00,  2.98it/s]\n",
      "100%|██████████| 54/54 [00:18<00:00,  2.98it/s]\n",
      "100%|██████████| 54/54 [00:18<00:00,  2.98it/s]\n"
     ]
    },
    {
     "name": "stdout",
     "output_type": "stream",
     "text": [
      "sending off prediction to background worker for resampling and export\n",
      "done with Sample92\n",
      "\n",
      "Predicting Sample93:\n",
      "perform_everything_on_device: True\n"
     ]
    },
    {
     "name": "stderr",
     "output_type": "stream",
     "text": [
      "100%|██████████| 2/2 [00:00<00:00,  3.77it/s]\n",
      "100%|██████████| 2/2 [00:00<00:00,  3.78it/s]\n",
      "100%|██████████| 2/2 [00:00<00:00,  3.78it/s]\n",
      "100%|██████████| 2/2 [00:00<00:00,  3.78it/s]\n",
      "100%|██████████| 2/2 [00:00<00:00,  3.78it/s]\n"
     ]
    },
    {
     "name": "stdout",
     "output_type": "stream",
     "text": [
      "sending off prediction to background worker for resampling and export\n",
      "done with Sample93\n",
      "\n",
      "Predicting Sample95:\n",
      "perform_everything_on_device: True\n"
     ]
    },
    {
     "name": "stderr",
     "output_type": "stream",
     "text": [
      "100%|██████████| 2/2 [00:00<00:00,  3.78it/s]\n",
      "100%|██████████| 2/2 [00:00<00:00,  3.78it/s]\n",
      "100%|██████████| 2/2 [00:00<00:00,  3.78it/s]\n",
      "100%|██████████| 2/2 [00:00<00:00,  3.78it/s]\n",
      "100%|██████████| 2/2 [00:00<00:00,  3.78it/s]\n"
     ]
    },
    {
     "name": "stdout",
     "output_type": "stream",
     "text": [
      "sending off prediction to background worker for resampling and export\n",
      "done with Sample95\n",
      "\n",
      "Predicting Sample96:\n",
      "perform_everything_on_device: True\n"
     ]
    },
    {
     "name": "stderr",
     "output_type": "stream",
     "text": [
      "100%|██████████| 1/1 [00:00<00:00,  5.21it/s]\n",
      "100%|██████████| 1/1 [00:00<00:00,  5.25it/s]\n",
      "100%|██████████| 1/1 [00:00<00:00,  5.25it/s]\n",
      "100%|██████████| 1/1 [00:00<00:00,  5.24it/s]\n",
      "100%|██████████| 1/1 [00:00<00:00,  5.25it/s]\n"
     ]
    },
    {
     "name": "stdout",
     "output_type": "stream",
     "text": [
      "sending off prediction to background worker for resampling and export\n",
      "done with Sample96\n",
      "\n",
      "Predicting Sample97:\n",
      "perform_everything_on_device: True\n"
     ]
    },
    {
     "name": "stderr",
     "output_type": "stream",
     "text": [
      "100%|██████████| 1/1 [00:00<00:00,  5.20it/s]\n",
      "100%|██████████| 1/1 [00:00<00:00,  5.26it/s]\n",
      "100%|██████████| 1/1 [00:00<00:00,  5.25it/s]\n",
      "100%|██████████| 1/1 [00:00<00:00,  5.25it/s]\n",
      "100%|██████████| 1/1 [00:00<00:00,  5.25it/s]\n"
     ]
    },
    {
     "name": "stdout",
     "output_type": "stream",
     "text": [
      "sending off prediction to background worker for resampling and export\n",
      "done with Sample97\n",
      "\n",
      "Predicting Sample98:\n",
      "perform_everything_on_device: True\n"
     ]
    },
    {
     "name": "stderr",
     "output_type": "stream",
     "text": [
      "100%|██████████| 2/2 [00:00<00:00,  3.78it/s]\n",
      "100%|██████████| 2/2 [00:00<00:00,  3.78it/s]\n",
      "100%|██████████| 2/2 [00:00<00:00,  3.78it/s]\n",
      "100%|██████████| 2/2 [00:00<00:00,  3.78it/s]\n",
      "100%|██████████| 2/2 [00:00<00:00,  3.78it/s]\n"
     ]
    },
    {
     "name": "stdout",
     "output_type": "stream",
     "text": [
      "sending off prediction to background worker for resampling and export\n",
      "done with Sample98\n",
      "\n",
      "Predicting Sample99:\n",
      "perform_everything_on_device: True\n"
     ]
    },
    {
     "name": "stderr",
     "output_type": "stream",
     "text": [
      "100%|██████████| 2/2 [00:00<00:00,  3.78it/s]\n",
      "100%|██████████| 2/2 [00:00<00:00,  3.78it/s]\n",
      "100%|██████████| 2/2 [00:00<00:00,  3.78it/s]\n",
      "100%|██████████| 2/2 [00:00<00:00,  3.78it/s]\n",
      "100%|██████████| 2/2 [00:00<00:00,  3.78it/s]\n"
     ]
    },
    {
     "name": "stdout",
     "output_type": "stream",
     "text": [
      "sending off prediction to background worker for resampling and export\n",
      "done with Sample99\n"
     ]
    },
    {
     "data": {
      "text/plain": [
       "[None,\n",
       " None,\n",
       " None,\n",
       " None,\n",
       " None,\n",
       " None,\n",
       " None,\n",
       " None,\n",
       " None,\n",
       " None,\n",
       " None,\n",
       " None,\n",
       " None,\n",
       " None,\n",
       " None,\n",
       " None,\n",
       " None,\n",
       " None,\n",
       " None,\n",
       " None,\n",
       " None,\n",
       " None,\n",
       " None,\n",
       " None,\n",
       " None,\n",
       " None,\n",
       " None,\n",
       " None,\n",
       " None,\n",
       " None,\n",
       " None,\n",
       " None,\n",
       " None,\n",
       " None,\n",
       " None,\n",
       " None,\n",
       " None,\n",
       " None,\n",
       " None,\n",
       " None,\n",
       " None,\n",
       " None,\n",
       " None,\n",
       " None,\n",
       " None,\n",
       " None,\n",
       " None,\n",
       " None,\n",
       " None,\n",
       " None,\n",
       " None,\n",
       " None,\n",
       " None,\n",
       " None,\n",
       " None,\n",
       " None,\n",
       " None,\n",
       " None,\n",
       " None,\n",
       " None,\n",
       " None,\n",
       " None,\n",
       " None,\n",
       " None,\n",
       " None,\n",
       " None,\n",
       " None,\n",
       " None,\n",
       " None,\n",
       " None,\n",
       " None,\n",
       " None,\n",
       " None,\n",
       " None,\n",
       " None,\n",
       " None,\n",
       " None,\n",
       " None,\n",
       " None,\n",
       " None,\n",
       " None,\n",
       " None,\n",
       " None,\n",
       " None,\n",
       " None,\n",
       " None,\n",
       " None,\n",
       " None,\n",
       " None,\n",
       " None,\n",
       " None,\n",
       " None,\n",
       " None,\n",
       " None,\n",
       " None,\n",
       " None,\n",
       " None,\n",
       " None,\n",
       " None,\n",
       " None,\n",
       " None,\n",
       " None,\n",
       " None,\n",
       " None,\n",
       " None,\n",
       " None,\n",
       " None,\n",
       " None,\n",
       " None,\n",
       " None,\n",
       " None,\n",
       " None,\n",
       " None,\n",
       " None,\n",
       " None,\n",
       " None,\n",
       " None,\n",
       " None,\n",
       " None,\n",
       " None,\n",
       " None,\n",
       " None,\n",
       " None,\n",
       " None,\n",
       " None,\n",
       " None,\n",
       " None,\n",
       " None,\n",
       " None,\n",
       " None,\n",
       " None,\n",
       " None,\n",
       " None,\n",
       " None,\n",
       " None,\n",
       " None,\n",
       " None,\n",
       " None,\n",
       " None,\n",
       " None,\n",
       " None,\n",
       " None,\n",
       " None,\n",
       " None,\n",
       " None,\n",
       " None,\n",
       " None,\n",
       " None,\n",
       " None,\n",
       " None,\n",
       " None,\n",
       " None,\n",
       " None,\n",
       " None,\n",
       " None,\n",
       " None,\n",
       " None,\n",
       " None,\n",
       " None,\n",
       " None,\n",
       " None,\n",
       " None,\n",
       " None,\n",
       " None,\n",
       " None,\n",
       " None,\n",
       " None,\n",
       " None,\n",
       " None,\n",
       " None,\n",
       " None,\n",
       " None,\n",
       " None,\n",
       " None,\n",
       " None,\n",
       " None,\n",
       " None,\n",
       " None,\n",
       " None,\n",
       " None,\n",
       " None,\n",
       " None,\n",
       " None,\n",
       " None,\n",
       " None,\n",
       " None,\n",
       " None,\n",
       " None,\n",
       " None,\n",
       " None,\n",
       " None,\n",
       " None,\n",
       " None,\n",
       " None,\n",
       " None,\n",
       " None,\n",
       " None,\n",
       " None,\n",
       " None,\n",
       " None,\n",
       " None,\n",
       " None,\n",
       " None,\n",
       " None,\n",
       " None,\n",
       " None,\n",
       " None,\n",
       " None,\n",
       " None,\n",
       " None,\n",
       " None,\n",
       " None,\n",
       " None,\n",
       " None,\n",
       " None]"
      ]
     },
     "execution_count": 46,
     "metadata": {},
     "output_type": "execute_result"
    }
   ],
   "source": [
    "# Save Segmentations\n",
    "predictor.predict_from_files(folder_images,\n",
    "                            pred_outdir,\n",
    "                            save_probabilities=False, overwrite=False,\n",
    "                            num_processes_preprocessing=2, num_processes_segmentation_export=2,\n",
    "                            folder_with_segs_from_prev_stage=None, num_parts=1, part_id=0)"
   ]
  },
  {
   "cell_type": "code",
   "execution_count": 282,
   "metadata": {},
   "outputs": [],
   "source": [
    "# Move predicted masks to the original folder with the name of the original image\n",
    "directory = '/nvmescratch/ceib/Prostate/Bounding_Boxes/p0052021/Prostate_Segmentation_AI'\n",
    "pred_outdir = \"Prostate_Cancer_TFM/Prostate_Segmentation/sample_images/tmp_predictions\"\n",
    "\n",
    "associated_paths['Path_Segmentation'] = [os.path.join(directory, *path.split('/')[-5:]) for path in associated_paths['original_path']]\n",
    "\n",
    "\n",
    "for i, row in associated_paths.iterrows():\n",
    "\n",
    "    path_prediction = os.path.join(pred_outdir, f\"Sample{i}.nii.gz\")\n",
    "\n",
    "    new_path = row['Path_Segmentation']\n",
    "\n",
    "    # Extract the directory part of the new path\n",
    "    new_directory = os.path.dirname(new_path)\n",
    "\n",
    "    # Create the new directory if it doesn't exist\n",
    "    if not os.path.exists(new_directory):\n",
    "        os.makedirs(new_directory)\n",
    "    \n",
    "    shutil.copy(path_prediction,new_path)"
   ]
  },
  {
   "cell_type": "markdown",
   "metadata": {},
   "source": [
    "# Restructure paths"
   ]
  },
  {
   "cell_type": "markdown",
   "metadata": {},
   "source": [
    "## Validation"
   ]
  },
  {
   "cell_type": "code",
   "execution_count": 76,
   "metadata": {},
   "outputs": [],
   "source": [
    "associated_paths['Path_Segmentation'] = associated_paths['path_nnunet'].apply(lambda x: x.replace('_0000', '').replace('tmp_images', 'tmp_predictions'))"
   ]
  },
  {
   "cell_type": "code",
   "execution_count": 77,
   "metadata": {},
   "outputs": [
    {
     "data": {
      "text/plain": [
       "'Prostate_Cancer_TFM/Prostate_Segmentation/sample_images/tmp_predictions/Sample0.nii.gz'"
      ]
     },
     "execution_count": 77,
     "metadata": {},
     "output_type": "execute_result"
    }
   ],
   "source": [
    "associated_paths['Path_Segmentation'][0]"
   ]
  },
  {
   "cell_type": "code",
   "execution_count": 97,
   "metadata": {},
   "outputs": [],
   "source": [
    "# Save in derivatives in MIDS format\n",
    "for i, row in associated_paths.iterrows():\n",
    "    # Step 1: Load the images\n",
    "    original_image = sitk.ReadImage(row['original_path'])\n",
    "    seg_image = sitk.ReadImage(row['Path_Segmentation'])\n",
    "\n",
    "    # Step 2: Calculate the padding needed\n",
    "    original_size = original_image.GetSize()\n",
    "    seg_size = seg_image.GetSize()\n",
    "\n",
    "    # Calculate the differences in each dimension to know how much to pad\n",
    "    padding = [max(0, original_size[dim] - seg_size[dim]) for dim in range(3)]\n",
    "\n",
    "    # Since the Pad function needs before and after padding, we split it equally\n",
    "    # If an odd number of padding is needed, add the extra padding to 'after'\n",
    "    before_padding = [p // 2 for p in padding]\n",
    "    after_padding = [p - bp for p, bp in zip(padding, before_padding)]\n",
    "\n",
    "    # Step 3: Apply padding if needed\n",
    "    if any(padding):  # Only pad if there's any dimension that needs it\n",
    "        padded_seg = sitk.ConstantPad(seg_image, before_padding, after_padding, 0)\n",
    "    else:\n",
    "        padded_seg = seg_image  # No padding needed, use the original segmentation image\n",
    "\n",
    "    # Step 4: Save the padded segmentation image\n",
    "    save_path = os.path.join(\n",
    "        '/mnt/ceib/datalake/FISABIO_datalake/p0042021/derivatives/prostate_segmentation',\n",
    "        '/'.join(row['original_path'].split('/')[-5:]).replace('T2w','mod-T2w_desc-SEG')\n",
    "    )\n",
    "\n",
    "    # Create directories if they don't exist\n",
    "    os.makedirs(os.path.dirname(save_path), exist_ok=True)\n",
    "\n",
    "    sitk.WriteImage(padded_seg, save_path)\n"
   ]
  },
  {
   "cell_type": "code",
   "execution_count": 86,
   "metadata": {},
   "outputs": [
    {
     "data": {
      "image/png": "[encoded data removed]",
      "text/plain": [
       "<Figure size 1500x500 with 3 Axes>"
      ]
     },
     "metadata": {},
     "output_type": "display_data"
    }
   ],
   "source": [
    "# Plot images to check if the padding was applied correctly\n",
    "plt.figure(figsize=(15, 5))\n",
    "plt.subplot(1, 3, 1)\n",
    "plt.imshow(sitk.GetArrayFromImage(original_image)[12], cmap='gray')\n",
    "plt.title('Original Image')\n",
    "plt.axis('off')\n",
    "\n",
    "plt.subplot(1, 3, 2)\n",
    "plt.imshow(sitk.GetArrayFromImage(seg_image)[12], cmap='gray')\n",
    "plt.title('Segmentation Image')\n",
    "\n",
    "\n",
    "plt.subplot(1, 3, 3)\n",
    "plt.imshow(sitk.GetArrayFromImage(padded_seg)[12], cmap='gray')\n",
    "plt.title('Padded Segmentation Image')\n",
    "plt.show()"
   ]
  },
  {
   "cell_type": "code",
   "execution_count": 87,
   "metadata": {},
   "outputs": [
    {
     "data": {
      "text/plain": [
       "Text(0.5, 1.0, 'Segmentation Overlay')"
      ]
     },
     "execution_count": 87,
     "metadata": {},
     "output_type": "execute_result"
    },
    {
     "data": {
      "image/png": "[encoded data removed]",
      "text/plain": [
       "<Figure size 1500x500 with 1 Axes>"
      ]
     },
     "metadata": {},
     "output_type": "display_data"
    }
   ],
   "source": [
    "#Overlay the segmentation on the original image\n",
    "plt.figure(figsize=(15, 5))\n",
    "plt.imshow(sitk.GetArrayFromImage(original_image)[12], cmap='gray')\n",
    "plt.imshow(sitk.GetArrayFromImage(padded_seg)[12], cmap='jet', alpha=0.5)\n",
    "plt.title('Segmentation Overlay')"
   ]
  },
  {
   "cell_type": "code",
   "execution_count": 278,
   "metadata": {},
   "outputs": [],
   "source": [
    "# Remove temporal folders\n",
    "shutil.rmtree(tmp_folder_imgs)\n",
    "shutil.rmtree(tmp_folder_preds)\n",
    "\n"
   ]
  },
  {
   "cell_type": "code",
   "execution_count": 283,
   "metadata": {},
   "outputs": [],
   "source": [
    "# Associate df_bounding_boxes with the predictions\n",
    "\n",
    "df_merged = pd.merge(df_bounding_boxes, associated_paths, left_on='image_nifti', right_on='original_path', how='left')\n",
    "df_merged = df_merged.drop(columns=['original_path', 'path_nnunet'])\n"
   ]
  },
  {
   "cell_type": "code",
   "execution_count": 284,
   "metadata": {},
   "outputs": [
    {
     "data": {
      "text/html": [
       "<div>\n",
       "<style scoped>\n",
       "    .dataframe tbody tr th:only-of-type {\n",
       "        vertical-align: middle;\n",
       "    }\n",
       "\n",
       "    .dataframe tbody tr th {\n",
       "        vertical-align: top;\n",
       "    }\n",
       "\n",
       "    .dataframe thead th {\n",
       "        text-align: right;\n",
       "    }\n",
       "</style>\n",
       "<table border=\"1\" class=\"dataframe\">\n",
       "  <thead>\n",
       "    <tr style=\"text-align: right;\">\n",
       "      <th></th>\n",
       "      <th>subject</th>\n",
       "      <th>session</th>\n",
       "      <th>image</th>\n",
       "      <th>image_associated</th>\n",
       "      <th>bounding_box</th>\n",
       "      <th>SeriesDescription</th>\n",
       "      <th>image_nifti</th>\n",
       "      <th>bval</th>\n",
       "      <th>bvec</th>\n",
       "      <th>modality</th>\n",
       "      <th>Path_Segmentation</th>\n",
       "    </tr>\n",
       "  </thead>\n",
       "  <tbody>\n",
       "    <tr>\n",
       "      <th>0</th>\n",
       "      <td>5586</td>\n",
       "      <td>6040</td>\n",
       "      <td>p0052021/005586/006040/8/DICOM</td>\n",
       "      <td>p0052021/005586/006040/8/DICOM</td>\n",
       "      <td>p0052021/005586/006040/SEG_20240113_205302_952...</td>\n",
       "      <td>ax T2</td>\n",
       "      <td>/nvmescratch/ceib/Prostate/Bounding_Boxes/p005...</td>\n",
       "      <td>NaN</td>\n",
       "      <td>NaN</td>\n",
       "      <td>T2</td>\n",
       "      <td>/nvmescratch/ceib/Prostate/Bounding_Boxes/p005...</td>\n",
       "    </tr>\n",
       "    <tr>\n",
       "      <th>1</th>\n",
       "      <td>5586</td>\n",
       "      <td>6040</td>\n",
       "      <td>p0052021/005586/006040/7/DICOM</td>\n",
       "      <td>p0052021/005586/006040/7/DICOM</td>\n",
       "      <td>p0052021/005586/006040/SEG_20240113_205223_953...</td>\n",
       "      <td>Ax T2 ADENOPATIAS</td>\n",
       "      <td>/nvmescratch/ceib/Prostate/Bounding_Boxes/p005...</td>\n",
       "      <td>NaN</td>\n",
       "      <td>NaN</td>\n",
       "      <td>T2</td>\n",
       "      <td>/nvmescratch/ceib/Prostate/Bounding_Boxes/p005...</td>\n",
       "    </tr>\n",
       "    <tr>\n",
       "      <th>2</th>\n",
       "      <td>5596</td>\n",
       "      <td>6050</td>\n",
       "      <td>p0052021/005596/006050/13001/DICOM</td>\n",
       "      <td>p0052021/005596/006050/13001/DICOM</td>\n",
       "      <td>p0052021/005596/006050/SEG_20240113_211223_114...</td>\n",
       "      <td>AXIAL T2 TSE</td>\n",
       "      <td>/nvmescratch/ceib/Prostate/Bounding_Boxes/p005...</td>\n",
       "      <td>NaN</td>\n",
       "      <td>NaN</td>\n",
       "      <td>T2</td>\n",
       "      <td>/nvmescratch/ceib/Prostate/Bounding_Boxes/p005...</td>\n",
       "    </tr>\n",
       "    <tr>\n",
       "      <th>3</th>\n",
       "      <td>5700</td>\n",
       "      <td>6173</td>\n",
       "      <td>p0052021/005700/006173/9/DICOM</td>\n",
       "      <td>p0052021/005700/006173/9/DICOM</td>\n",
       "      <td>p0052021/005700/006173/SEG_20240113_211959_757...</td>\n",
       "      <td>AXIAL DW 1500 PROSTATA</td>\n",
       "      <td>/nvmescratch/ceib/Prostate/Bounding_Boxes/p005...</td>\n",
       "      <td>NaN</td>\n",
       "      <td>NaN</td>\n",
       "      <td>DWI</td>\n",
       "      <td>NaN</td>\n",
       "    </tr>\n",
       "    <tr>\n",
       "      <th>4</th>\n",
       "      <td>5700</td>\n",
       "      <td>6173</td>\n",
       "      <td>p0052021/005700/006173/7/DICOM</td>\n",
       "      <td>p0052021/005700/006173/7/DICOM</td>\n",
       "      <td>p0052021/005700/006173/SEG_20240113_211927_274...</td>\n",
       "      <td>AXIAL DW 1000 PROSTATA</td>\n",
       "      <td>/nvmescratch/ceib/Prostate/Bounding_Boxes/p005...</td>\n",
       "      <td>NaN</td>\n",
       "      <td>NaN</td>\n",
       "      <td>DWI</td>\n",
       "      <td>NaN</td>\n",
       "    </tr>\n",
       "    <tr>\n",
       "      <th>...</th>\n",
       "      <td>...</td>\n",
       "      <td>...</td>\n",
       "      <td>...</td>\n",
       "      <td>...</td>\n",
       "      <td>...</td>\n",
       "      <td>...</td>\n",
       "      <td>...</td>\n",
       "      <td>...</td>\n",
       "      <td>...</td>\n",
       "      <td>...</td>\n",
       "      <td>...</td>\n",
       "    </tr>\n",
       "    <tr>\n",
       "      <th>530</th>\n",
       "      <td>5646</td>\n",
       "      <td>6108</td>\n",
       "      <td>p0052021/005646/006108/4/DICOM</td>\n",
       "      <td>p0052021/005646/006108/4/DICOM</td>\n",
       "      <td>p0052021/005646/006108/SEG_20240113_210039_451...</td>\n",
       "      <td>AXI PELVIS DWI B50-800</td>\n",
       "      <td>/nvmescratch/ceib/Prostate/Bounding_Boxes/p005...</td>\n",
       "      <td>NaN</td>\n",
       "      <td>NaN</td>\n",
       "      <td>DWI</td>\n",
       "      <td>NaN</td>\n",
       "    </tr>\n",
       "    <tr>\n",
       "      <th>531</th>\n",
       "      <td>5646</td>\n",
       "      <td>6108</td>\n",
       "      <td>p0052021/005646/006108/1050/DICOM</td>\n",
       "      <td>p0052021/005646/006108/1050/DICOM</td>\n",
       "      <td>p0052021/005646/006108/SEG_20240113_205921_383...</td>\n",
       "      <td>ADC (10^-6 mm²/s):Nov 26 2019 16-59-11 CET</td>\n",
       "      <td>/nvmescratch/ceib/Prostate/Bounding_Boxes/p005...</td>\n",
       "      <td>NaN</td>\n",
       "      <td>NaN</td>\n",
       "      <td>ADC</td>\n",
       "      <td>NaN</td>\n",
       "    </tr>\n",
       "    <tr>\n",
       "      <th>532</th>\n",
       "      <td>5646</td>\n",
       "      <td>6108</td>\n",
       "      <td>p0052021/005646/006108/1000/DICOM</td>\n",
       "      <td>p0052021/005646/006108/1000/DICOM</td>\n",
       "      <td>p0052021/005646/006108/SEG_20240113_205854_334...</td>\n",
       "      <td>DW_Synthetic: Ax FOCUS B-50-800 Synthetic B-2000</td>\n",
       "      <td>/nvmescratch/ceib/Prostate/Bounding_Boxes/p005...</td>\n",
       "      <td>NaN</td>\n",
       "      <td>NaN</td>\n",
       "      <td>DWI</td>\n",
       "      <td>NaN</td>\n",
       "    </tr>\n",
       "    <tr>\n",
       "      <th>533</th>\n",
       "      <td>5399</td>\n",
       "      <td>5819</td>\n",
       "      <td>p0052021/005399/005819/701/DICOM</td>\n",
       "      <td>p0052021/005399/005819/701/DICOM</td>\n",
       "      <td>p0052021/005399/005819/SEG_20240109_114231_571...</td>\n",
       "      <td>T2W_TSE</td>\n",
       "      <td>/nvmescratch/ceib/Prostate/Bounding_Boxes/p005...</td>\n",
       "      <td>NaN</td>\n",
       "      <td>NaN</td>\n",
       "      <td>T2</td>\n",
       "      <td>/nvmescratch/ceib/Prostate/Bounding_Boxes/p005...</td>\n",
       "    </tr>\n",
       "    <tr>\n",
       "      <th>534</th>\n",
       "      <td>5399</td>\n",
       "      <td>5819</td>\n",
       "      <td>p0052021/005399/005819/401/DICOM</td>\n",
       "      <td>p0052021/005399/005819/401/DICOM</td>\n",
       "      <td>p0052021/005399/005819/SEG_20240109_114054_657...</td>\n",
       "      <td>T2W FAST TRA</td>\n",
       "      <td>/nvmescratch/ceib/Prostate/Bounding_Boxes/p005...</td>\n",
       "      <td>NaN</td>\n",
       "      <td>NaN</td>\n",
       "      <td>T2</td>\n",
       "      <td>/nvmescratch/ceib/Prostate/Bounding_Boxes/p005...</td>\n",
       "    </tr>\n",
       "  </tbody>\n",
       "</table>\n",
       "<p>535 rows × 11 columns</p>\n",
       "</div>"
      ],
      "text/plain": [
       "     subject  session                               image  \\\n",
       "0       5586     6040      p0052021/005586/006040/8/DICOM   \n",
       "1       5586     6040      p0052021/005586/006040/7/DICOM   \n",
       "2       5596     6050  p0052021/005596/006050/13001/DICOM   \n",
       "3       5700     6173      p0052021/005700/006173/9/DICOM   \n",
       "4       5700     6173      p0052021/005700/006173/7/DICOM   \n",
       "..       ...      ...                                 ...   \n",
       "530     5646     6108      p0052021/005646/006108/4/DICOM   \n",
       "531     5646     6108   p0052021/005646/006108/1050/DICOM   \n",
       "532     5646     6108   p0052021/005646/006108/1000/DICOM   \n",
       "533     5399     5819    p0052021/005399/005819/701/DICOM   \n",
       "534     5399     5819    p0052021/005399/005819/401/DICOM   \n",
       "\n",
       "                       image_associated  \\\n",
       "0        p0052021/005586/006040/8/DICOM   \n",
       "1        p0052021/005586/006040/7/DICOM   \n",
       "2    p0052021/005596/006050/13001/DICOM   \n",
       "3        p0052021/005700/006173/9/DICOM   \n",
       "4        p0052021/005700/006173/7/DICOM   \n",
       "..                                  ...   \n",
       "530      p0052021/005646/006108/4/DICOM   \n",
       "531   p0052021/005646/006108/1050/DICOM   \n",
       "532   p0052021/005646/006108/1000/DICOM   \n",
       "533    p0052021/005399/005819/701/DICOM   \n",
       "534    p0052021/005399/005819/401/DICOM   \n",
       "\n",
       "                                          bounding_box  \\\n",
       "0    p0052021/005586/006040/SEG_20240113_205302_952...   \n",
       "1    p0052021/005586/006040/SEG_20240113_205223_953...   \n",
       "2    p0052021/005596/006050/SEG_20240113_211223_114...   \n",
       "3    p0052021/005700/006173/SEG_20240113_211959_757...   \n",
       "4    p0052021/005700/006173/SEG_20240113_211927_274...   \n",
       "..                                                 ...   \n",
       "530  p0052021/005646/006108/SEG_20240113_210039_451...   \n",
       "531  p0052021/005646/006108/SEG_20240113_205921_383...   \n",
       "532  p0052021/005646/006108/SEG_20240113_205854_334...   \n",
       "533  p0052021/005399/005819/SEG_20240109_114231_571...   \n",
       "534  p0052021/005399/005819/SEG_20240109_114054_657...   \n",
       "\n",
       "                                    SeriesDescription  \\\n",
       "0                                               ax T2   \n",
       "1                                   Ax T2 ADENOPATIAS   \n",
       "2                                        AXIAL T2 TSE   \n",
       "3                              AXIAL DW 1500 PROSTATA   \n",
       "4                              AXIAL DW 1000 PROSTATA   \n",
       "..                                                ...   \n",
       "530                            AXI PELVIS DWI B50-800   \n",
       "531        ADC (10^-6 mm²/s):Nov 26 2019 16-59-11 CET   \n",
       "532  DW_Synthetic: Ax FOCUS B-50-800 Synthetic B-2000   \n",
       "533                                           T2W_TSE   \n",
       "534                                      T2W FAST TRA   \n",
       "\n",
       "                                           image_nifti bval bvec modality  \\\n",
       "0    /nvmescratch/ceib/Prostate/Bounding_Boxes/p005...  NaN  NaN       T2   \n",
       "1    /nvmescratch/ceib/Prostate/Bounding_Boxes/p005...  NaN  NaN       T2   \n",
       "2    /nvmescratch/ceib/Prostate/Bounding_Boxes/p005...  NaN  NaN       T2   \n",
       "3    /nvmescratch/ceib/Prostate/Bounding_Boxes/p005...  NaN  NaN      DWI   \n",
       "4    /nvmescratch/ceib/Prostate/Bounding_Boxes/p005...  NaN  NaN      DWI   \n",
       "..                                                 ...  ...  ...      ...   \n",
       "530  /nvmescratch/ceib/Prostate/Bounding_Boxes/p005...  NaN  NaN      DWI   \n",
       "531  /nvmescratch/ceib/Prostate/Bounding_Boxes/p005...  NaN  NaN      ADC   \n",
       "532  /nvmescratch/ceib/Prostate/Bounding_Boxes/p005...  NaN  NaN      DWI   \n",
       "533  /nvmescratch/ceib/Prostate/Bounding_Boxes/p005...  NaN  NaN       T2   \n",
       "534  /nvmescratch/ceib/Prostate/Bounding_Boxes/p005...  NaN  NaN       T2   \n",
       "\n",
       "                                     Path_Segmentation  \n",
       "0    /nvmescratch/ceib/Prostate/Bounding_Boxes/p005...  \n",
       "1    /nvmescratch/ceib/Prostate/Bounding_Boxes/p005...  \n",
       "2    /nvmescratch/ceib/Prostate/Bounding_Boxes/p005...  \n",
       "3                                                  NaN  \n",
       "4                                                  NaN  \n",
       "..                                                 ...  \n",
       "530                                                NaN  \n",
       "531                                                NaN  \n",
       "532                                                NaN  \n",
       "533  /nvmescratch/ceib/Prostate/Bounding_Boxes/p005...  \n",
       "534  /nvmescratch/ceib/Prostate/Bounding_Boxes/p005...  \n",
       "\n",
       "[535 rows x 11 columns]"
      ]
     },
     "execution_count": 284,
     "metadata": {},
     "output_type": "execute_result"
    }
   ],
   "source": [
    "df_merged"
   ]
  },
  {
   "cell_type": "code",
   "execution_count": 285,
   "metadata": {},
   "outputs": [],
   "source": [
    "df_merged.to_csv(\"Prostate_Cancer_TFM/Files/Bounding_Boxes/Only_Bounding.csv\", index=False)"
   ]
  },
  {
   "cell_type": "markdown",
   "metadata": {},
   "source": [
    "# Prediction for Validation Data"
   ]
  },
  {
   "cell_type": "code",
   "execution_count": 25,
   "metadata": {},
   "outputs": [],
   "source": [
    "import os\n",
    "import json\n",
    "import pandas as pd"
   ]
  },
  {
   "cell_type": "code",
   "execution_count": 26,
   "metadata": {},
   "outputs": [],
   "source": [
    "\n",
    "# Creating  tables\n",
    "path = \"/mnt/ceib/datalake/FISABIO_datalake/p0042021\"\n",
    "derivatives_path = \"/mnt/ceib/datalake/FISABIO_datalake/p0042021/derivatives/creating_adc\"\n",
    "t2_list = []\n",
    "adc_list = []\n",
    "dwi_list = []\n",
    "\n",
    "# Creating a list of all the files in the directory starting with sub-*\n",
    "subjects = [f for f in os.listdir(path) if f.startswith(\"sub-\")]\n",
    "derivatives_subs = [f for f in os.listdir(derivatives_path) if f.startswith(\"sub-\")]\n",
    "\n",
    "for sub in subjects:\n",
    "    derivative_sessions=None\n",
    "    if sub in derivatives_subs:\n",
    "        derivative_sessions = [f for f in os.listdir(os.path.join(derivatives_path, sub)) if f.startswith(\"ses-\")]\n",
    "    sessions = [f for f in os.listdir(os.path.join(path, sub)) if f.startswith(\"ses-\")]\n",
    "    for ses in sessions:\n",
    "        # Check if the anat and dwi paths exist\n",
    "        anat_path = os.path.join(path, sub, ses,'mim-mr','anat')\n",
    "        dwi_path = os.path.join(path, sub, ses,'mim-mr','dwi')\n",
    "\n",
    "        if os.path.exists(anat_path):\n",
    "            images_anat = [f for f in os.listdir(anat_path) if f.endswith(\".nii.gz\")]\n",
    "            for img in images_anat:\n",
    "                if 'T2w' in img and 'chunk' not in img:\n",
    "                    json_path = os.path.join(path, sub, ses,'mim-mr','anat', img.replace('.nii.gz', '.json'))\n",
    "                    with open(json_path) as f:\n",
    "                        data = json.load(f)\n",
    "                    #Add json data to the dict image\n",
    "                    img_dict = {'subject': sub, 'session': ses, 'image': img, 'modality': 'T2w'}\n",
    "                    img_dict.update(data)\n",
    "                    t2_list.append(img_dict)\n",
    "        if os.path.exists(dwi_path):\n",
    "            images_dwi = [f for f in os.listdir(dwi_path) if f.endswith(\".nii.gz\")]\n",
    "            for img in images_dwi:\n",
    "                if 'bvalue' in img and 'chunk' not in img:\n",
    "                    json_path = os.path.join(path, sub, ses,'mim-mr','dwi', img.replace('.nii.gz', '.json'))\n",
    "                    with open(json_path) as f:\n",
    "                        data = json.load(f)\n",
    "                    #Add json data to the dict image\n",
    "                    img_dict = {'subject': sub, 'session': ses, 'image': img, 'modality': 'dwi'}\n",
    "                    img_dict.update(data)\n",
    "                    dwi_list.append(img_dict)\n",
    "                elif 'adc' in img and 'chunk' not in img:\n",
    "                    json_path = os.path.join(path, sub, ses,'mim-mr','dwi', img.replace('.nii.gz', '.json'))\n",
    "                    with open(json_path) as f:\n",
    "                        data = json.load(f)\n",
    "                    #Add json data to the dict image\n",
    "                    img_dict = {'subject': sub, 'session': ses, 'image': img, 'modality': 'adc'}\n",
    "                    img_dict.update(data)\n",
    "                    adc_list.append(img_dict)\n",
    "    if derivative_sessions:\n",
    "        for ses in derivative_sessions:\n",
    "            der_dwi_path = os.path.join(derivatives_path, sub, ses,'mim-mr','dwi')\n",
    "            images_dwi = [f for f in os.listdir(der_dwi_path) if f.endswith(\".nii.gz\")]\n",
    "            for img in images_dwi:\n",
    "                json_path = os.path.join(derivatives_path, sub, ses,'mim-mr','dwi', img.replace('.nii.gz', '.json'))\n",
    "                with open(json_path) as f:\n",
    "                    data = json.load(f)\n",
    "                #Add json data to the dict image\n",
    "                img_dict = {'subject': sub, 'session': ses, 'image': img, 'modality': 'adc'}\n",
    "                img_dict.update(data)\n",
    "                adc_list.append(img_dict)\n",
    "\n",
    "\n",
    "t2w_df = pd.DataFrame(t2_list)\n",
    "dwi_df = pd.DataFrame(dwi_list)\n",
    "adc_df = pd.DataFrame(adc_list)"
   ]
  },
  {
   "cell_type": "code",
   "execution_count": 27,
   "metadata": {},
   "outputs": [
    {
     "data": {
      "text/html": [
       "<div>\n",
       "<style scoped>\n",
       "    .dataframe tbody tr th:only-of-type {\n",
       "        vertical-align: middle;\n",
       "    }\n",
       "\n",
       "    .dataframe tbody tr th {\n",
       "        vertical-align: top;\n",
       "    }\n",
       "\n",
       "    .dataframe thead th {\n",
       "        text-align: right;\n",
       "    }\n",
       "</style>\n",
       "<table border=\"1\" class=\"dataframe\">\n",
       "  <thead>\n",
       "    <tr style=\"text-align: right;\">\n",
       "      <th></th>\n",
       "      <th>subject</th>\n",
       "      <th>session</th>\n",
       "      <th>image</th>\n",
       "      <th>modality</th>\n",
       "      <th>AccessionNumber</th>\n",
       "      <th>AcquisitionDateTime</th>\n",
       "      <th>AcquisitionMatrixPE</th>\n",
       "      <th>AcquisitionNumber</th>\n",
       "      <th>AcquisitionTime</th>\n",
       "      <th>AngioFlag</th>\n",
       "      <th>...</th>\n",
       "      <th>WindowCenter</th>\n",
       "      <th>WindowWidth</th>\n",
       "      <th>BodyPartExamined</th>\n",
       "      <th>RawImage</th>\n",
       "      <th>PhaseEncodingSteps</th>\n",
       "      <th>PartialFourier</th>\n",
       "      <th>SequenceName</th>\n",
       "      <th>SliceTiming</th>\n",
       "      <th>InversionTime</th>\n",
       "      <th>Contrast/BolusRoute</th>\n",
       "    </tr>\n",
       "  </thead>\n",
       "  <tbody>\n",
       "    <tr>\n",
       "      <th>0</th>\n",
       "      <td>sub-000063</td>\n",
       "      <td>ses-000063</td>\n",
       "      <td>sub-000063_ses-000063_acq-fse_run-3_bp-p_vp-sa...</td>\n",
       "      <td>T2w</td>\n",
       "      <td>000063</td>\n",
       "      <td>2016-07-07T14:52:47.000000</td>\n",
       "      <td>256</td>\n",
       "      <td>1</td>\n",
       "      <td>14:52:47.000000</td>\n",
       "      <td>N</td>\n",
       "      <td>...</td>\n",
       "      <td>985</td>\n",
       "      <td>1971</td>\n",
       "      <td>NaN</td>\n",
       "      <td>NaN</td>\n",
       "      <td>NaN</td>\n",
       "      <td>NaN</td>\n",
       "      <td>NaN</td>\n",
       "      <td>NaN</td>\n",
       "      <td>NaN</td>\n",
       "      <td>NaN</td>\n",
       "    </tr>\n",
       "    <tr>\n",
       "      <th>1</th>\n",
       "      <td>sub-000063</td>\n",
       "      <td>ses-000063</td>\n",
       "      <td>sub-000063_ses-000063_acq-fse_run-6_bp-p_vp-ax...</td>\n",
       "      <td>T2w</td>\n",
       "      <td>000063</td>\n",
       "      <td>2016-07-07T15:02:32.000000</td>\n",
       "      <td>224</td>\n",
       "      <td>1</td>\n",
       "      <td>15:02:32.000000</td>\n",
       "      <td>N</td>\n",
       "      <td>...</td>\n",
       "      <td>888</td>\n",
       "      <td>1776</td>\n",
       "      <td>NaN</td>\n",
       "      <td>NaN</td>\n",
       "      <td>NaN</td>\n",
       "      <td>NaN</td>\n",
       "      <td>NaN</td>\n",
       "      <td>NaN</td>\n",
       "      <td>NaN</td>\n",
       "      <td>NaN</td>\n",
       "    </tr>\n",
       "    <tr>\n",
       "      <th>2</th>\n",
       "      <td>sub-000063</td>\n",
       "      <td>ses-000063</td>\n",
       "      <td>sub-000063_ses-000063_acq-fse_run-8_bp-p_vp-ax...</td>\n",
       "      <td>T2w</td>\n",
       "      <td>000063</td>\n",
       "      <td>2016-07-07T15:13:34.000000</td>\n",
       "      <td>224</td>\n",
       "      <td>1</td>\n",
       "      <td>15:13:34.000000</td>\n",
       "      <td>N</td>\n",
       "      <td>...</td>\n",
       "      <td>1286</td>\n",
       "      <td>2573</td>\n",
       "      <td>NaN</td>\n",
       "      <td>NaN</td>\n",
       "      <td>NaN</td>\n",
       "      <td>NaN</td>\n",
       "      <td>NaN</td>\n",
       "      <td>NaN</td>\n",
       "      <td>NaN</td>\n",
       "      <td>NaN</td>\n",
       "    </tr>\n",
       "    <tr>\n",
       "      <th>3</th>\n",
       "      <td>sub-000066</td>\n",
       "      <td>ses-000066</td>\n",
       "      <td>sub-000066_ses-000066_acq-fse_run-5_bp-p_vp-sa...</td>\n",
       "      <td>T2w</td>\n",
       "      <td>000066</td>\n",
       "      <td>2017-01-27T15:33:36.000000</td>\n",
       "      <td>256</td>\n",
       "      <td>1</td>\n",
       "      <td>15:33:36.000000</td>\n",
       "      <td>N</td>\n",
       "      <td>...</td>\n",
       "      <td>914</td>\n",
       "      <td>1829</td>\n",
       "      <td>NaN</td>\n",
       "      <td>NaN</td>\n",
       "      <td>NaN</td>\n",
       "      <td>NaN</td>\n",
       "      <td>NaN</td>\n",
       "      <td>NaN</td>\n",
       "      <td>NaN</td>\n",
       "      <td>NaN</td>\n",
       "    </tr>\n",
       "    <tr>\n",
       "      <th>4</th>\n",
       "      <td>sub-000066</td>\n",
       "      <td>ses-000066</td>\n",
       "      <td>sub-000066_ses-000066_acq-fse_run-8_bp-p_vp-ax...</td>\n",
       "      <td>T2w</td>\n",
       "      <td>000066</td>\n",
       "      <td>2017-01-27T15:44:32.000000</td>\n",
       "      <td>224</td>\n",
       "      <td>1</td>\n",
       "      <td>15:44:32.000000</td>\n",
       "      <td>N</td>\n",
       "      <td>...</td>\n",
       "      <td>960</td>\n",
       "      <td>1921</td>\n",
       "      <td>NaN</td>\n",
       "      <td>NaN</td>\n",
       "      <td>NaN</td>\n",
       "      <td>NaN</td>\n",
       "      <td>NaN</td>\n",
       "      <td>NaN</td>\n",
       "      <td>NaN</td>\n",
       "      <td>NaN</td>\n",
       "    </tr>\n",
       "    <tr>\n",
       "      <th>...</th>\n",
       "      <td>...</td>\n",
       "      <td>...</td>\n",
       "      <td>...</td>\n",
       "      <td>...</td>\n",
       "      <td>...</td>\n",
       "      <td>...</td>\n",
       "      <td>...</td>\n",
       "      <td>...</td>\n",
       "      <td>...</td>\n",
       "      <td>...</td>\n",
       "      <td>...</td>\n",
       "      <td>...</td>\n",
       "      <td>...</td>\n",
       "      <td>...</td>\n",
       "      <td>...</td>\n",
       "      <td>...</td>\n",
       "      <td>...</td>\n",
       "      <td>...</td>\n",
       "      <td>...</td>\n",
       "      <td>...</td>\n",
       "      <td>...</td>\n",
       "    </tr>\n",
       "    <tr>\n",
       "      <th>488</th>\n",
       "      <td>sub-000003</td>\n",
       "      <td>ses-000003</td>\n",
       "      <td>sub-000003_ses-000003_acq-fse_run-8_bp-a_vp-sa...</td>\n",
       "      <td>T2w</td>\n",
       "      <td>000003</td>\n",
       "      <td>2014-03-07T08:27:39.000000</td>\n",
       "      <td>256</td>\n",
       "      <td>1</td>\n",
       "      <td>08:27:39.000000</td>\n",
       "      <td>N</td>\n",
       "      <td>...</td>\n",
       "      <td>660</td>\n",
       "      <td>1320</td>\n",
       "      <td>NaN</td>\n",
       "      <td>NaN</td>\n",
       "      <td>NaN</td>\n",
       "      <td>NaN</td>\n",
       "      <td>NaN</td>\n",
       "      <td>NaN</td>\n",
       "      <td>NaN</td>\n",
       "      <td>NaN</td>\n",
       "    </tr>\n",
       "    <tr>\n",
       "      <th>489</th>\n",
       "      <td>sub-000111</td>\n",
       "      <td>ses-000111</td>\n",
       "      <td>sub-000111_ses-000111_acq-fse_run-8_bp-a_vp-ax...</td>\n",
       "      <td>T2w</td>\n",
       "      <td>000111</td>\n",
       "      <td>2015-06-24T19:55:41.000000</td>\n",
       "      <td>224</td>\n",
       "      <td>1</td>\n",
       "      <td>19:55:41.000000</td>\n",
       "      <td>N</td>\n",
       "      <td>...</td>\n",
       "      <td>865</td>\n",
       "      <td>1731</td>\n",
       "      <td>NaN</td>\n",
       "      <td>NaN</td>\n",
       "      <td>NaN</td>\n",
       "      <td>NaN</td>\n",
       "      <td>NaN</td>\n",
       "      <td>NaN</td>\n",
       "      <td>NaN</td>\n",
       "      <td>NaN</td>\n",
       "    </tr>\n",
       "    <tr>\n",
       "      <th>490</th>\n",
       "      <td>sub-000111</td>\n",
       "      <td>ses-000111</td>\n",
       "      <td>sub-000111_ses-000111_acq-fse_run-5_bp-a_vp-sa...</td>\n",
       "      <td>T2w</td>\n",
       "      <td>000111</td>\n",
       "      <td>2015-06-24T19:43:50.000000</td>\n",
       "      <td>256</td>\n",
       "      <td>1</td>\n",
       "      <td>19:43:50.000000</td>\n",
       "      <td>N</td>\n",
       "      <td>...</td>\n",
       "      <td>1132</td>\n",
       "      <td>2264</td>\n",
       "      <td>NaN</td>\n",
       "      <td>NaN</td>\n",
       "      <td>NaN</td>\n",
       "      <td>NaN</td>\n",
       "      <td>NaN</td>\n",
       "      <td>NaN</td>\n",
       "      <td>NaN</td>\n",
       "      <td>NaN</td>\n",
       "    </tr>\n",
       "    <tr>\n",
       "      <th>491</th>\n",
       "      <td>sub-000120</td>\n",
       "      <td>ses-000120</td>\n",
       "      <td>sub-000120_ses-000120_acq-fse_run-6_bp-a_vp-sa...</td>\n",
       "      <td>T2w</td>\n",
       "      <td>000120</td>\n",
       "      <td>2014-09-24T08:12:51.000000</td>\n",
       "      <td>256</td>\n",
       "      <td>1</td>\n",
       "      <td>08:12:51.000000</td>\n",
       "      <td>N</td>\n",
       "      <td>...</td>\n",
       "      <td>710</td>\n",
       "      <td>1421</td>\n",
       "      <td>NaN</td>\n",
       "      <td>NaN</td>\n",
       "      <td>NaN</td>\n",
       "      <td>NaN</td>\n",
       "      <td>NaN</td>\n",
       "      <td>NaN</td>\n",
       "      <td>NaN</td>\n",
       "      <td>NaN</td>\n",
       "    </tr>\n",
       "    <tr>\n",
       "      <th>492</th>\n",
       "      <td>sub-000120</td>\n",
       "      <td>ses-000120</td>\n",
       "      <td>sub-000120_ses-000120_acq-fse_run-8_bp-a_vp-ax...</td>\n",
       "      <td>T2w</td>\n",
       "      <td>000120</td>\n",
       "      <td>2014-09-24T08:19:11.000000</td>\n",
       "      <td>224</td>\n",
       "      <td>1</td>\n",
       "      <td>08:19:11.000000</td>\n",
       "      <td>N</td>\n",
       "      <td>...</td>\n",
       "      <td>792</td>\n",
       "      <td>1584</td>\n",
       "      <td>NaN</td>\n",
       "      <td>NaN</td>\n",
       "      <td>NaN</td>\n",
       "      <td>NaN</td>\n",
       "      <td>NaN</td>\n",
       "      <td>NaN</td>\n",
       "      <td>NaN</td>\n",
       "      <td>NaN</td>\n",
       "    </tr>\n",
       "  </tbody>\n",
       "</table>\n",
       "<p>493 rows × 68 columns</p>\n",
       "</div>"
      ],
      "text/plain": [
       "        subject     session  \\\n",
       "0    sub-000063  ses-000063   \n",
       "1    sub-000063  ses-000063   \n",
       "2    sub-000063  ses-000063   \n",
       "3    sub-000066  ses-000066   \n",
       "4    sub-000066  ses-000066   \n",
       "..          ...         ...   \n",
       "488  sub-000003  ses-000003   \n",
       "489  sub-000111  ses-000111   \n",
       "490  sub-000111  ses-000111   \n",
       "491  sub-000120  ses-000120   \n",
       "492  sub-000120  ses-000120   \n",
       "\n",
       "                                                 image modality  \\\n",
       "0    sub-000063_ses-000063_acq-fse_run-3_bp-p_vp-sa...      T2w   \n",
       "1    sub-000063_ses-000063_acq-fse_run-6_bp-p_vp-ax...      T2w   \n",
       "2    sub-000063_ses-000063_acq-fse_run-8_bp-p_vp-ax...      T2w   \n",
       "3    sub-000066_ses-000066_acq-fse_run-5_bp-p_vp-sa...      T2w   \n",
       "4    sub-000066_ses-000066_acq-fse_run-8_bp-p_vp-ax...      T2w   \n",
       "..                                                 ...      ...   \n",
       "488  sub-000003_ses-000003_acq-fse_run-8_bp-a_vp-sa...      T2w   \n",
       "489  sub-000111_ses-000111_acq-fse_run-8_bp-a_vp-ax...      T2w   \n",
       "490  sub-000111_ses-000111_acq-fse_run-5_bp-a_vp-sa...      T2w   \n",
       "491  sub-000120_ses-000120_acq-fse_run-6_bp-a_vp-sa...      T2w   \n",
       "492  sub-000120_ses-000120_acq-fse_run-8_bp-a_vp-ax...      T2w   \n",
       "\n",
       "    AccessionNumber         AcquisitionDateTime  AcquisitionMatrixPE  \\\n",
       "0            000063  2016-07-07T14:52:47.000000                  256   \n",
       "1            000063  2016-07-07T15:02:32.000000                  224   \n",
       "2            000063  2016-07-07T15:13:34.000000                  224   \n",
       "3            000066  2017-01-27T15:33:36.000000                  256   \n",
       "4            000066  2017-01-27T15:44:32.000000                  224   \n",
       "..              ...                         ...                  ...   \n",
       "488          000003  2014-03-07T08:27:39.000000                  256   \n",
       "489          000111  2015-06-24T19:55:41.000000                  224   \n",
       "490          000111  2015-06-24T19:43:50.000000                  256   \n",
       "491          000120  2014-09-24T08:12:51.000000                  256   \n",
       "492          000120  2014-09-24T08:19:11.000000                  224   \n",
       "\n",
       "     AcquisitionNumber  AcquisitionTime AngioFlag  ... WindowCenter  \\\n",
       "0                    1  14:52:47.000000         N  ...          985   \n",
       "1                    1  15:02:32.000000         N  ...          888   \n",
       "2                    1  15:13:34.000000         N  ...         1286   \n",
       "3                    1  15:33:36.000000         N  ...          914   \n",
       "4                    1  15:44:32.000000         N  ...          960   \n",
       "..                 ...              ...       ...  ...          ...   \n",
       "488                  1  08:27:39.000000         N  ...          660   \n",
       "489                  1  19:55:41.000000         N  ...          865   \n",
       "490                  1  19:43:50.000000         N  ...         1132   \n",
       "491                  1  08:12:51.000000         N  ...          710   \n",
       "492                  1  08:19:11.000000         N  ...          792   \n",
       "\n",
       "    WindowWidth BodyPartExamined RawImage  PhaseEncodingSteps PartialFourier  \\\n",
       "0          1971              NaN      NaN                 NaN            NaN   \n",
       "1          1776              NaN      NaN                 NaN            NaN   \n",
       "2          2573              NaN      NaN                 NaN            NaN   \n",
       "3          1829              NaN      NaN                 NaN            NaN   \n",
       "4          1921              NaN      NaN                 NaN            NaN   \n",
       "..          ...              ...      ...                 ...            ...   \n",
       "488        1320              NaN      NaN                 NaN            NaN   \n",
       "489        1731              NaN      NaN                 NaN            NaN   \n",
       "490        2264              NaN      NaN                 NaN            NaN   \n",
       "491        1421              NaN      NaN                 NaN            NaN   \n",
       "492        1584              NaN      NaN                 NaN            NaN   \n",
       "\n",
       "     SequenceName SliceTiming InversionTime Contrast/BolusRoute  \n",
       "0             NaN         NaN           NaN                 NaN  \n",
       "1             NaN         NaN           NaN                 NaN  \n",
       "2             NaN         NaN           NaN                 NaN  \n",
       "3             NaN         NaN           NaN                 NaN  \n",
       "4             NaN         NaN           NaN                 NaN  \n",
       "..            ...         ...           ...                 ...  \n",
       "488           NaN         NaN           NaN                 NaN  \n",
       "489           NaN         NaN           NaN                 NaN  \n",
       "490           NaN         NaN           NaN                 NaN  \n",
       "491           NaN         NaN           NaN                 NaN  \n",
       "492           NaN         NaN           NaN                 NaN  \n",
       "\n",
       "[493 rows x 68 columns]"
      ]
     },
     "execution_count": 27,
     "metadata": {},
     "output_type": "execute_result"
    }
   ],
   "source": [
    "t2w_df"
   ]
  },
  {
   "cell_type": "code",
   "execution_count": 28,
   "metadata": {},
   "outputs": [],
   "source": [
    "images_paths = t2w_df.copy().apply(lambda x: os.path.join(path, x['subject'], x['session'],'mim-mr','anat', x['image']), axis=1)\n",
    "\n",
    "# Divide into axial, coronal and sagital images\n",
    "data_list = []\n",
    "for path in images_paths.values:\n",
    "    files = {}\n",
    "\n",
    "    files['subject'] = path.split('/')[-5]\n",
    "    files['session'] = path.split('/')[-4]\n",
    "    \n",
    "    image_name = path.split('/')[-1]\n",
    "    if 'sag' in image_name:\n",
    "        files['sagital'] = path\n",
    "    elif 'cor' in image_name:\n",
    "        files['coronal'] = path\n",
    "    elif 'ax' in image_name:\n",
    "        files['axial'] = path\n",
    "    data_list.append(files)\n",
    "\n",
    "t2w_df = pd.DataFrame(data_list)"
   ]
  },
  {
   "cell_type": "code",
   "execution_count": 29,
   "metadata": {},
   "outputs": [
    {
     "data": {
      "text/html": [
       "<div>\n",
       "<style scoped>\n",
       "    .dataframe tbody tr th:only-of-type {\n",
       "        vertical-align: middle;\n",
       "    }\n",
       "\n",
       "    .dataframe tbody tr th {\n",
       "        vertical-align: top;\n",
       "    }\n",
       "\n",
       "    .dataframe thead th {\n",
       "        text-align: right;\n",
       "    }\n",
       "</style>\n",
       "<table border=\"1\" class=\"dataframe\">\n",
       "  <thead>\n",
       "    <tr style=\"text-align: right;\">\n",
       "      <th></th>\n",
       "      <th>subject</th>\n",
       "      <th>session</th>\n",
       "      <th>sagital</th>\n",
       "      <th>axial</th>\n",
       "      <th>coronal</th>\n",
       "    </tr>\n",
       "  </thead>\n",
       "  <tbody>\n",
       "    <tr>\n",
       "      <th>0</th>\n",
       "      <td>sub-000063</td>\n",
       "      <td>ses-000063</td>\n",
       "      <td>/mnt/ceib/datalake/FISABIO_datalake/p0042021/s...</td>\n",
       "      <td>NaN</td>\n",
       "      <td>NaN</td>\n",
       "    </tr>\n",
       "    <tr>\n",
       "      <th>1</th>\n",
       "      <td>sub-000063</td>\n",
       "      <td>ses-000063</td>\n",
       "      <td>NaN</td>\n",
       "      <td>/mnt/ceib/datalake/FISABIO_datalake/p0042021/s...</td>\n",
       "      <td>NaN</td>\n",
       "    </tr>\n",
       "    <tr>\n",
       "      <th>2</th>\n",
       "      <td>sub-000063</td>\n",
       "      <td>ses-000063</td>\n",
       "      <td>NaN</td>\n",
       "      <td>/mnt/ceib/datalake/FISABIO_datalake/p0042021/s...</td>\n",
       "      <td>NaN</td>\n",
       "    </tr>\n",
       "    <tr>\n",
       "      <th>3</th>\n",
       "      <td>sub-000066</td>\n",
       "      <td>ses-000066</td>\n",
       "      <td>/mnt/ceib/datalake/FISABIO_datalake/p0042021/s...</td>\n",
       "      <td>NaN</td>\n",
       "      <td>NaN</td>\n",
       "    </tr>\n",
       "    <tr>\n",
       "      <th>4</th>\n",
       "      <td>sub-000066</td>\n",
       "      <td>ses-000066</td>\n",
       "      <td>NaN</td>\n",
       "      <td>/mnt/ceib/datalake/FISABIO_datalake/p0042021/s...</td>\n",
       "      <td>NaN</td>\n",
       "    </tr>\n",
       "    <tr>\n",
       "      <th>...</th>\n",
       "      <td>...</td>\n",
       "      <td>...</td>\n",
       "      <td>...</td>\n",
       "      <td>...</td>\n",
       "      <td>...</td>\n",
       "    </tr>\n",
       "    <tr>\n",
       "      <th>488</th>\n",
       "      <td>sub-000003</td>\n",
       "      <td>ses-000003</td>\n",
       "      <td>/mnt/ceib/datalake/FISABIO_datalake/p0042021/s...</td>\n",
       "      <td>NaN</td>\n",
       "      <td>NaN</td>\n",
       "    </tr>\n",
       "    <tr>\n",
       "      <th>489</th>\n",
       "      <td>sub-000111</td>\n",
       "      <td>ses-000111</td>\n",
       "      <td>NaN</td>\n",
       "      <td>/mnt/ceib/datalake/FISABIO_datalake/p0042021/s...</td>\n",
       "      <td>NaN</td>\n",
       "    </tr>\n",
       "    <tr>\n",
       "      <th>490</th>\n",
       "      <td>sub-000111</td>\n",
       "      <td>ses-000111</td>\n",
       "      <td>/mnt/ceib/datalake/FISABIO_datalake/p0042021/s...</td>\n",
       "      <td>NaN</td>\n",
       "      <td>NaN</td>\n",
       "    </tr>\n",
       "    <tr>\n",
       "      <th>491</th>\n",
       "      <td>sub-000120</td>\n",
       "      <td>ses-000120</td>\n",
       "      <td>/mnt/ceib/datalake/FISABIO_datalake/p0042021/s...</td>\n",
       "      <td>NaN</td>\n",
       "      <td>NaN</td>\n",
       "    </tr>\n",
       "    <tr>\n",
       "      <th>492</th>\n",
       "      <td>sub-000120</td>\n",
       "      <td>ses-000120</td>\n",
       "      <td>NaN</td>\n",
       "      <td>/mnt/ceib/datalake/FISABIO_datalake/p0042021/s...</td>\n",
       "      <td>NaN</td>\n",
       "    </tr>\n",
       "  </tbody>\n",
       "</table>\n",
       "<p>493 rows × 5 columns</p>\n",
       "</div>"
      ],
      "text/plain": [
       "        subject     session  \\\n",
       "0    sub-000063  ses-000063   \n",
       "1    sub-000063  ses-000063   \n",
       "2    sub-000063  ses-000063   \n",
       "3    sub-000066  ses-000066   \n",
       "4    sub-000066  ses-000066   \n",
       "..          ...         ...   \n",
       "488  sub-000003  ses-000003   \n",
       "489  sub-000111  ses-000111   \n",
       "490  sub-000111  ses-000111   \n",
       "491  sub-000120  ses-000120   \n",
       "492  sub-000120  ses-000120   \n",
       "\n",
       "                                               sagital  \\\n",
       "0    /mnt/ceib/datalake/FISABIO_datalake/p0042021/s...   \n",
       "1                                                  NaN   \n",
       "2                                                  NaN   \n",
       "3    /mnt/ceib/datalake/FISABIO_datalake/p0042021/s...   \n",
       "4                                                  NaN   \n",
       "..                                                 ...   \n",
       "488  /mnt/ceib/datalake/FISABIO_datalake/p0042021/s...   \n",
       "489                                                NaN   \n",
       "490  /mnt/ceib/datalake/FISABIO_datalake/p0042021/s...   \n",
       "491  /mnt/ceib/datalake/FISABIO_datalake/p0042021/s...   \n",
       "492                                                NaN   \n",
       "\n",
       "                                                 axial coronal  \n",
       "0                                                  NaN     NaN  \n",
       "1    /mnt/ceib/datalake/FISABIO_datalake/p0042021/s...     NaN  \n",
       "2    /mnt/ceib/datalake/FISABIO_datalake/p0042021/s...     NaN  \n",
       "3                                                  NaN     NaN  \n",
       "4    /mnt/ceib/datalake/FISABIO_datalake/p0042021/s...     NaN  \n",
       "..                                                 ...     ...  \n",
       "488                                                NaN     NaN  \n",
       "489  /mnt/ceib/datalake/FISABIO_datalake/p0042021/s...     NaN  \n",
       "490                                                NaN     NaN  \n",
       "491                                                NaN     NaN  \n",
       "492  /mnt/ceib/datalake/FISABIO_datalake/p0042021/s...     NaN  \n",
       "\n",
       "[493 rows x 5 columns]"
      ]
     },
     "execution_count": 29,
     "metadata": {},
     "output_type": "execute_result"
    }
   ],
   "source": [
    "t2w_df"
   ]
  },
  {
   "cell_type": "code",
   "execution_count": 30,
   "metadata": {},
   "outputs": [],
   "source": [
    "t2w_df_axial = t2w_df.dropna(subset=['axial'])"
   ]
  },
  {
   "cell_type": "code",
   "execution_count": 32,
   "metadata": {},
   "outputs": [
    {
     "data": {
      "text/plain": [
       "array(['sub-000063', 'sub-000066', 'sub-000184', 'sub-000179',\n",
       "       'sub-000108', 'sub-000176', 'sub-000103', 'sub-000155',\n",
       "       'sub-000078', 'sub-000015', 'sub-000042', 'sub-000035',\n",
       "       'sub-000004', 'sub-000081', 'sub-000026', 'sub-000034',\n",
       "       'sub-000175', 'sub-000071', 'sub-000018', 'sub-000024',\n",
       "       'sub-000048', 'sub-000084', 'sub-000127', 'sub-000096',\n",
       "       'sub-000032', 'sub-000146', 'sub-000168', 'sub-000082',\n",
       "       'sub-000138', 'sub-000130', 'sub-000160', 'sub-000021',\n",
       "       'sub-000115', 'sub-000023', 'sub-000062', 'sub-000159',\n",
       "       'sub-000151', 'sub-000123', 'sub-000093', 'sub-000097',\n",
       "       'sub-000134', 'sub-000090', 'sub-000121', 'sub-000132',\n",
       "       'sub-000005', 'sub-000016', 'sub-000033', 'sub-000065',\n",
       "       'sub-000136', 'sub-000044', 'sub-000142', 'sub-000041',\n",
       "       'sub-000087', 'sub-000150', 'sub-000085', 'sub-000135',\n",
       "       'sub-000006', 'sub-000112', 'sub-000030', 'sub-000110',\n",
       "       'sub-000057', 'sub-000043', 'sub-000047', 'sub-000167',\n",
       "       'sub-000119', 'sub-000083', 'sub-000022', 'sub-000077',\n",
       "       'sub-000105', 'sub-000099', 'sub-000156', 'sub-000064',\n",
       "       'sub-000060', 'sub-000079', 'sub-000052', 'sub-009330',\n",
       "       'sub-000049', 'sub-000133', 'sub-000059', 'sub-000163',\n",
       "       'sub-000074', 'sub-000141', 'sub-000148', 'sub-000129',\n",
       "       'sub-000145', 'sub-000088', 'sub-000098', 'sub-000054',\n",
       "       'sub-000056', 'sub-000126', 'sub-000086', 'sub-000058',\n",
       "       'sub-000017', 'sub-000095', 'sub-000094', 'sub-000070',\n",
       "       'sub-000157', 'sub-000011', 'sub-000139', 'sub-000182',\n",
       "       'sub-000045', 'sub-000149', 'sub-000109', 'sub-000029',\n",
       "       'sub-000189', 'sub-000117', 'sub-000124', 'sub-000031',\n",
       "       'sub-000038', 'sub-000137', 'sub-000118', 'sub-000040',\n",
       "       'sub-000116', 'sub-000013', 'sub-000068', 'sub-000100',\n",
       "       'sub-000114', 'sub-000101', 'sub-000122', 'sub-000089',\n",
       "       'sub-000027', 'sub-000055', 'sub-000053', 'sub-000125',\n",
       "       'sub-000039', 'sub-000186', 'sub-000183', 'sub-000191',\n",
       "       'sub-000020', 'sub-000008', 'sub-000046', 'sub-000036',\n",
       "       'sub-000147', 'sub-000144', 'sub-000012', 'sub-000037',\n",
       "       'sub-000019', 'sub-000010', 'sub-000128', 'sub-000104',\n",
       "       'sub-000106', 'sub-000069', 'sub-000107', 'sub-000173',\n",
       "       'sub-000092', 'sub-000003', 'sub-000111', 'sub-000120'],\n",
       "      dtype=object)"
      ]
     },
     "execution_count": 32,
     "metadata": {},
     "output_type": "execute_result"
    }
   ],
   "source": [
    "t2w_df_axial.subject.unique()"
   ]
  },
  {
   "cell_type": "code",
   "execution_count": null,
   "metadata": {},
   "outputs": [],
   "source": [
    "# Create temporal folder to save the images in nnUNet format\n",
    "tmp_folder_imgs = \"Prostate_Cancer_TFM/Prostate_Segmentation/sample_images/tmp_images\"\n",
    "tmp_folder_preds = \"Prostate_Cancer_TFM/Prostate_Segmentation/sample_images/tmp_predictions\"\n",
    "\n",
    "associated_paths = []\n",
    "\n",
    "if not os.path.exists(tmp_folder_imgs):\n",
    "    os.makedirs(tmp_folder_imgs)\n",
    "if not os.path.exists(tmp_folder_preds):\n",
    "    os.makedirs(tmp_folder_preds)\n",
    "\n",
    "# Copying img to model predictions folder.\n",
    "for i, path in enumerate(t2w_df_axial['axial']):\n",
    "\n",
    "    new_path = os.path.join(tmp_folder_imgs, f\"Sample{i}_0000.nii.gz\")\n",
    "    image = sitk.ReadImage(path)\n",
    "\n",
    "    image = crop(image, margin=[0.2,0.2,0.0])\n",
    "    associated_paths.append({'original_path': path, 'path_nnunet': new_path})\n",
    "    sitk.WriteImage(image, new_path)\n",
    "\n",
    "associated_paths = pd.DataFrame(associated_paths)"
   ]
  },
  {
   "cell_type": "code",
   "execution_count": 24,
   "metadata": {},
   "outputs": [
    {
     "data": {
      "text/plain": [
       "(148,)"
      ]
     },
     "execution_count": 24,
     "metadata": {},
     "output_type": "execute_result"
    }
   ],
   "source": [
    "t2w_df_axial['subject'].unique().shape"
   ]
  }
 ],
 "metadata": {
  "kernelspec": {
   "display_name": "Python 3 (ipykernel)",
   "language": "python",
   "name": "python3"
  },
  "language_info": {
   "codemirror_mode": {
    "name": "ipython",
    "version": 3
   },
   "file_extension": ".py",
   "mimetype": "text/x-python",
   "name": "python",
   "nbconvert_exporter": "python",
   "pygments_lexer": "ipython3",
   "version": "3.10.13"
  }
 },
 "nbformat": 4,
 "nbformat_minor": 2
}
